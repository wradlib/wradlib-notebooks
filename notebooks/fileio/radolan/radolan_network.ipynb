{
 "cells": [
  {
   "cell_type": "markdown",
   "metadata": {
    "nbsphinx": "hidden"
   },
   "source": [
    "This notebook is part of the $\\omega radlib$ documentation: https://docs.wradlib.org.\n",
    "\n",
    "Copyright (c) $\\omega radlib$ developers.\n",
    "Distributed under the MIT License. See LICENSE.txt for more info."
   ]
  },
  {
   "cell_type": "markdown",
   "metadata": {},
   "source": [
    "# RADOLAN Radar Network"
   ]
  },
  {
   "cell_type": "markdown",
   "metadata": {},
   "source": [
    "In this chapter the RW-product is shown in WGS84 and the RADOLAN [Polar Stereographic Projection](radolan_grid.ipynb#Polar-Stereographic-Projection). All for the compositing process used radars are extracted from the metadata and plotted with their respective maximum range rings and location information."
   ]
  },
  {
   "cell_type": "code",
   "execution_count": null,
   "metadata": {},
   "outputs": [],
   "source": [
    "import datetime\n",
    "import wradlib as wrl\n",
    "import matplotlib.pyplot as plt\n",
    "import matplotlib as mpl\n",
    "import warnings\n",
    "from IPython import get_ipython\n",
    "\n",
    "warnings.filterwarnings(\"ignore\")\n",
    "try:\n",
    "    get_ipython().run_line_magic(\"matplotlib inline\")\n",
    "except:\n",
    "    plt.ion()\n",
    "import numpy as np\n",
    "from osgeo import osr"
   ]
  },
  {
   "cell_type": "code",
   "execution_count": null,
   "metadata": {},
   "outputs": [],
   "source": [
    "import urllib3\n",
    "import os\n",
    "import io\n",
    "import glob\n",
    "import shutil\n",
    "import datetime"
   ]
  },
  {
   "cell_type": "code",
   "execution_count": null,
   "metadata": {},
   "outputs": [],
   "source": [
    "f = \"raa01-rw_10000-latest-dwd---bin.bz2\"\n",
    "opendata_url1 = f\"https://opendata.dwd.de/weather/radar/radolan/rw/\"\n",
    "\n",
    "import certifi\n",
    "\n",
    "http = urllib3.PoolManager(cert_reqs=\"CERT_REQUIRED\", ca_certs=certifi.where())\n",
    "with http.request(\n",
    "    \"GET\", os.path.join(opendata_url1, f), preload_content=False\n",
    ") as r, open(f, \"wb\") as out:\n",
    "    shutil.copyfileobj(r, out)"
   ]
  },
  {
   "cell_type": "code",
   "execution_count": null,
   "metadata": {},
   "outputs": [],
   "source": [
    "!bzip2 -df $f"
   ]
  },
  {
   "cell_type": "code",
   "execution_count": null,
   "metadata": {},
   "outputs": [],
   "source": [
    "rwdata, rwattrs = wrl.io.read_radolan_composite(f[:-4])"
   ]
  },
  {
   "cell_type": "code",
   "execution_count": null,
   "metadata": {},
   "outputs": [],
   "source": [
    "# print the available attributes\n",
    "print(\"RW Attributes:\", rwattrs)"
   ]
  },
  {
   "cell_type": "code",
   "execution_count": null,
   "metadata": {},
   "outputs": [],
   "source": [
    "# mask data\n",
    "sec = rwattrs[\"secondary\"]\n",
    "rwdata.flat[sec] = -9999\n",
    "rwdata = np.ma.masked_equal(rwdata, -9999)\n",
    "\n",
    "# create radolan projection object\n",
    "proj_stereo = wrl.georef.create_osr(\"dwd-radolan\")\n",
    "\n",
    "# create wgs84 projection object\n",
    "proj_wgs = osr.SpatialReference()\n",
    "proj_wgs.ImportFromEPSG(4326)\n",
    "\n",
    "# get radolan grid\n",
    "radolan_grid_xy = wrl.georef.get_radolan_grid(900, 900)\n",
    "x1 = radolan_grid_xy[:, :, 0]\n",
    "y1 = radolan_grid_xy[:, :, 1]\n",
    "\n",
    "# convert to lonlat\n",
    "radolan_grid_ll = wrl.georef.reproject(\n",
    "    radolan_grid_xy, src_crs=proj_stereo, trg_crs=proj_wgs\n",
    ")\n",
    "lon1 = radolan_grid_ll[:, :, 0]\n",
    "lat1 = radolan_grid_ll[:, :, 1]"
   ]
  },
  {
   "cell_type": "code",
   "execution_count": null,
   "metadata": {},
   "outputs": [],
   "source": [
    "# range array 150 km\n",
    "print(\"Max Range: \", rwattrs[\"maxrange\"])\n",
    "r = np.arange(1, 151) * 1000\n",
    "# azimuth array 1 degree spacing\n",
    "az = np.linspace(0, 360, 361)[0:-1]"
   ]
  },
  {
   "cell_type": "code",
   "execution_count": null,
   "metadata": {},
   "outputs": [],
   "source": [
    "radars = dict(\n",
    "    asb=dict(name=\"ASR Borkum\", lat=53.564011, lon=6.748292, alt=36.0),\n",
    "    boo=dict(name=\"Boostedt\", lat=54.00438, lon=10.04687, alt=124.56),\n",
    "    drs=dict(name=\"Dresden\", lat=51.12465, lon=13.76865, alt=263.36),\n",
    "    eis=dict(name=\"Eisberg\", lat=49.54066, lon=12.40278, alt=798.79),\n",
    "    emd=dict(name=\"Emden\", lat=53.33872, lon=7.02377, alt=58.0),\n",
    "    ess=dict(name=\"Essen\", lat=51.40563, lon=6.96712, alt=185.1),\n",
    "    fbg=dict(name=\"Feldberg\", lat=47.87361, lon=8.00361, alt=1516.1),\n",
    "    fld=dict(name=\"Flechtdorf\", lat=51.31120, lon=8.802, alt=627.88),\n",
    "    hnr=dict(name=\"Hannover\", lat=52.46008, lon=9.69452, alt=97.66),\n",
    "    neu=dict(name=\"Neuhaus\", lat=50.50012, lon=11.13504, alt=878.04),\n",
    "    nhb=dict(name=\"Neuheilenbach\", lat=50.10965, lon=6.54853, alt=585.84),\n",
    "    oft=dict(name=\"Offenthal\", lat=49.9847, lon=8.71293, alt=245.8),\n",
    "    pro=dict(name=\"Prötzel\", lat=52.64867, lon=13.85821, alt=193.92),\n",
    "    mem=dict(name=\"Memmingen\", lat=48.04214, lon=10.21924, alt=724.4),\n",
    "    ros=dict(name=\"Rostock\", lat=54.17566, lon=12.05808, alt=37.0),\n",
    "    isn=dict(name=\"Isen\", lat=48.17470, lon=12.10177, alt=677.77),\n",
    "    tur=dict(name=\"Türkheim\", lat=48.58528, lon=9.78278, alt=767.62),\n",
    "    umd=dict(name=\"Ummendorf\", lat=52.16009, lon=11.17609, alt=183.0),\n",
    ")"
   ]
  },
  {
   "cell_type": "code",
   "execution_count": null,
   "metadata": {},
   "outputs": [],
   "source": [
    "def plot_radar(radar, ax, proj):\n",
    "    site = (radar[\"lon\"], radar[\"lat\"], radar[\"alt\"])\n",
    "\n",
    "    # build polygons for maxrange rangering\n",
    "    polygons = wrl.georef.spherical_to_polyvert(r, az, 0, site, crs=proj)\n",
    "    polygons = polygons[..., 0:2]\n",
    "    polygons.shape = (len(az), len(r), 5, 2)\n",
    "    polygons = polygons[:, -1, :, :]\n",
    "\n",
    "    x_loc, y_loc = wrl.georef.reproject(\n",
    "        site[0], site[1], src_crs=proj_wgs, trg_crs=proj\n",
    "    )\n",
    "\n",
    "    # create PolyCollections and add to respective axes\n",
    "    polycoll = mpl.collections.PolyCollection(\n",
    "        polygons, closed=True, edgecolors=\"r\", facecolors=\"r\"\n",
    "    )\n",
    "    ax.add_collection(polycoll, autolim=True)\n",
    "\n",
    "    # plot radar location and information text\n",
    "    ax.plot(x_loc, y_loc, \"r+\")\n",
    "    ax.text(x_loc, y_loc, radar[\"name\"], color=\"r\")"
   ]
  },
  {
   "cell_type": "code",
   "execution_count": null,
   "metadata": {},
   "outputs": [],
   "source": [
    "# plot two projections side by side\n",
    "fig1 = plt.figure(figsize=(12, 10))\n",
    "ax1 = fig1.add_subplot(111)\n",
    "pm = ax1.pcolormesh(lon1, lat1, rwdata, cmap=\"viridis\")\n",
    "cb = fig1.colorbar(pm)\n",
    "cb.set_label(\"mm/h\")\n",
    "plt.xlabel(\"Longitude \")\n",
    "plt.ylabel(\"Latitude\")\n",
    "plt.title(\"RADOLAN RW Product \\n\" + rwattrs[\"datetime\"].isoformat() + \"\\n WGS84\")\n",
    "plt.xlim((lon1[0, 0], lon1[-1, -1]))\n",
    "plt.ylim((lat1[0, 0], lat1[-1, -1]))\n",
    "plt.grid(color=\"r\")\n",
    "for radar_id in rwattrs[\"radarlocations\"]:\n",
    "    # get radar coords etc from dict\n",
    "    if radar_id == \"mhp\":\n",
    "        continue\n",
    "    radar = radars[radar_id]\n",
    "    plot_radar(radar, ax1, proj_wgs)"
   ]
  },
  {
   "cell_type": "code",
   "execution_count": null,
   "metadata": {},
   "outputs": [],
   "source": [
    "fig2 = plt.figure(figsize=(12, 10))\n",
    "ax2 = fig2.add_subplot(111)\n",
    "pm = ax2.pcolormesh(x1, y1, rwdata, cmap=\"viridis\")\n",
    "cb = fig2.colorbar(pm)\n",
    "cb.set_label(\"mm/h\")\n",
    "plt.xlabel(\"x [km]\")\n",
    "plt.ylabel(\"y [km]\")\n",
    "plt.title(\n",
    "    \"RADOLAN RW Product \\n\"\n",
    "    + rwattrs[\"datetime\"].isoformat()\n",
    "    + \"\\n Polar Stereographic Projection\"\n",
    ")\n",
    "plt.xlim((x1[0, 0], x1[-1, -1]))\n",
    "plt.ylim((y1[0, 0], y1[-1, -1]))\n",
    "plt.grid(color=\"r\")\n",
    "for radar_id in rwattrs[\"radarlocations\"]:\n",
    "    # get radar coords etc from dict\n",
    "    if radar_id == \"mhp\":\n",
    "        continue\n",
    "    radar = radars[radar_id]\n",
    "    plot_radar(radar, ax2, proj_stereo)"
   ]
  }
 ],
 "metadata": {
  "celltoolbar": "Edit Metadata",
  "language_info": {
   "codemirror_mode": {
    "name": "ipython",
    "version": 3
   },
   "file_extension": ".py",
   "mimetype": "text/x-python",
   "name": "python",
   "nbconvert_exporter": "python",
   "pygments_lexer": "ipython3",
   "version": "3.12.4"
  },
  "toc": {
   "colors": {
    "hover_highlight": "#DAA520",
    "navigate_num": "#000000",
    "navigate_text": "#333333",
    "running_highlight": "#FF0000",
    "selected_highlight": "#FFD700",
    "sidebar_border": "#EEEEEE",
    "wrapper_background": "#FFFFFF"
   },
   "moveMenuLeft": true,
   "nav_menu": {
    "height": "31px",
    "width": "252px"
   },
   "navigate_menu": true,
   "number_sections": false,
   "sideBar": true,
   "threshold": 4,
   "toc_cell": false,
   "toc_section_display": "block",
   "toc_window_display": false,
   "widenNotebook": false
  }
 },
 "nbformat": 4,
 "nbformat_minor": 4
}
