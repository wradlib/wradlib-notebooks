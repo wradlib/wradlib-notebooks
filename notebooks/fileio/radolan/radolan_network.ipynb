{
 "cells": [
  {
   "cell_type": "markdown",
   "metadata": {
    "nbsphinx": "hidden"
   },
   "source": [
    "This notebook is part of the $\\omega radlib$ documentation: https://docs.wradlib.org.\n",
    "\n",
    "Copyright (c) $\\omega radlib$ developers.\n",
    "Distributed under the MIT License. See LICENSE.txt for more info."
   ]
  },
  {
   "cell_type": "markdown",
   "metadata": {},
   "source": [
    "# RADOLAN Radar Network"
   ]
  },
  {
   "cell_type": "markdown",
   "metadata": {},
   "source": [
    "In this chapter the RW-product is shown in WGS84 and the RADOLAN [Polar Stereographic Projection](radolan_grid.ipynb#Polar-Stereographic-Projection). All for the compositing process used radars are extracted from the metadata and plotted with their respective maximum range rings and location information."
   ]
  },
  {
   "cell_type": "code",
   "execution_count": null,
   "metadata": {},
   "outputs": [],
   "source": [
    "import datetime\n",
    "import wradlib as wrl\n",
    "import matplotlib.pyplot as pl\n",
    "import matplotlib as mpl\n",
    "import warnings\n",
    "from IPython import get_ipython\n",
    "from wetterdienst.provider.dwd.radar import DwdRadarParameter, DwdRadarValues\n",
    "from wetterdienst.provider.dwd.radar.api import DwdRadarSites\n",
    "\n",
    "warnings.filterwarnings(\"ignore\")\n",
    "try:\n",
    "    get_ipython().run_line_magic(\"matplotlib inline\")\n",
    "except:\n",
    "    pl.ion()\n",
    "import numpy as np\n",
    "from osgeo import osr\n",
    "\n",
    "# load radolan data\n",
    "start_date = datetime.datetime.utcnow()\n",
    "\n",
    "radar_data = DwdRadarValues(\n",
    "    parameter=DwdRadarParameter.RADOLAN_CDC.RW_REFLECTIVITY,\n",
    "    start_date=start_date - datetime.timedelta(hours=2),\n",
    "    end_date=start_date,\n",
    ")\n",
    "\n",
    "results = radar_data.query()"
   ]
  },
  {
   "cell_type": "code",
   "execution_count": null,
   "metadata": {},
   "outputs": [],
   "source": [
    "rwdata, rwattrs = wrl.io.read_radolan_composite(next(results).data)"
   ]
  },
  {
   "cell_type": "code",
   "execution_count": null,
   "metadata": {},
   "outputs": [],
   "source": [
    "# print the available attributes\n",
    "print(\"RW Attributes:\", rwattrs)"
   ]
  },
  {
   "cell_type": "code",
   "execution_count": null,
   "metadata": {},
   "outputs": [],
   "source": [
    "# mask data\n",
    "sec = rwattrs[\"secondary\"]\n",
    "rwdata.flat[sec] = -9999\n",
    "rwdata = np.ma.masked_equal(rwdata, -9999)\n",
    "\n",
    "# create radolan projection object\n",
    "proj_stereo = wrl.georef.create_osr(\"dwd-radolan\")\n",
    "\n",
    "# create wgs84 projection object\n",
    "proj_wgs = osr.SpatialReference()\n",
    "proj_wgs.ImportFromEPSG(4326)\n",
    "\n",
    "# get radolan grid\n",
    "radolan_grid_xy = wrl.georef.get_radolan_grid(900, 900)\n",
    "x1 = radolan_grid_xy[:, :, 0]\n",
    "y1 = radolan_grid_xy[:, :, 1]\n",
    "\n",
    "# convert to lonlat\n",
    "radolan_grid_ll = wrl.georef.reproject(\n",
    "    radolan_grid_xy, projection_source=proj_stereo, projection_target=proj_wgs\n",
    ")\n",
    "lon1 = radolan_grid_ll[:, :, 0]\n",
    "lat1 = radolan_grid_ll[:, :, 1]"
   ]
  },
  {
   "cell_type": "code",
   "execution_count": null,
   "metadata": {},
   "outputs": [],
   "source": [
    "# range array 150 km\n",
    "print(\"Max Range: \", rwattrs[\"maxrange\"])\n",
    "r = np.arange(1, 151) * 1000\n",
    "# azimuth array 1 degree spacing\n",
    "az = np.linspace(0, 360, 361)[0:-1]"
   ]
  },
  {
   "cell_type": "code",
   "execution_count": null,
   "metadata": {},
   "outputs": [],
   "source": [
    "# get radar dict\n",
    "radars = DwdRadarSites()"
   ]
  },
  {
   "cell_type": "code",
   "execution_count": null,
   "metadata": {},
   "outputs": [],
   "source": [
    "def plot_radar(radar, ax, proj):\n",
    "    site = (radar[\"longitude\"], radar[\"latitude\"], radar[\"heightantenna\"])\n",
    "\n",
    "    # build polygons for maxrange rangering\n",
    "    polygons = wrl.georef.spherical_to_polyvert(r, az, 0, site, proj=proj)\n",
    "    polygons = polygons[..., 0:2]\n",
    "    polygons.shape = (len(az), len(r), 5, 2)\n",
    "    polygons = polygons[:, -1, :, :]\n",
    "\n",
    "    x_loc, y_loc = wrl.georef.reproject(\n",
    "        site[0], site[1], projection_source=proj_wgs, projection_target=proj\n",
    "    )\n",
    "\n",
    "    # create PolyCollections and add to respective axes\n",
    "    polycoll = mpl.collections.PolyCollection(\n",
    "        polygons, closed=True, edgecolors=\"r\", facecolors=\"r\"\n",
    "    )\n",
    "    ax.add_collection(polycoll, autolim=True)\n",
    "\n",
    "    # plot radar location and information text\n",
    "    ax.plot(x_loc, y_loc, \"r+\")\n",
    "    ax.text(x_loc, y_loc, radar[\"location\"], color=\"r\")"
   ]
  },
  {
   "cell_type": "code",
   "execution_count": null,
   "metadata": {},
   "outputs": [],
   "source": [
    "# plot two projections side by side\n",
    "fig1 = pl.figure(figsize=(12, 10))\n",
    "ax1 = fig1.add_subplot(111)\n",
    "pm = ax1.pcolormesh(lon1, lat1, rwdata, cmap=\"viridis\")\n",
    "cb = fig1.colorbar(pm)\n",
    "cb.set_label(\"mm/h\")\n",
    "pl.xlabel(\"Longitude \")\n",
    "pl.ylabel(\"Latitude\")\n",
    "pl.title(\"RADOLAN RW Product \\n\" + rwattrs[\"datetime\"].isoformat() + \"\\n WGS84\")\n",
    "pl.xlim((lon1[0, 0], lon1[-1, -1]))\n",
    "pl.ylim((lat1[0, 0], lat1[-1, -1]))\n",
    "pl.grid(color=\"r\")\n",
    "for radar_id in rwattrs[\"radarlocations\"]:\n",
    "    # get radar coords etc from dict\n",
    "    if radar_id == \"mhp\":\n",
    "        continue\n",
    "    radar = radars.by_odimcode(radar_id)\n",
    "    plot_radar(radar, ax1, proj_wgs)"
   ]
  },
  {
   "cell_type": "code",
   "execution_count": null,
   "metadata": {},
   "outputs": [],
   "source": [
    "fig2 = pl.figure(figsize=(12, 10))\n",
    "ax2 = fig2.add_subplot(111)\n",
    "pm = ax2.pcolormesh(x1, y1, rwdata, cmap=\"viridis\")\n",
    "cb = fig2.colorbar(pm)\n",
    "cb.set_label(\"mm/h\")\n",
    "pl.xlabel(\"x [km]\")\n",
    "pl.ylabel(\"y [km]\")\n",
    "pl.title(\n",
    "    \"RADOLAN RW Product \\n\"\n",
    "    + rwattrs[\"datetime\"].isoformat()\n",
    "    + \"\\n Polar Stereographic Projection\"\n",
    ")\n",
    "pl.xlim((x1[0, 0], x1[-1, -1]))\n",
    "pl.ylim((y1[0, 0], y1[-1, -1]))\n",
    "pl.grid(color=\"r\")\n",
    "for radar_id in rwattrs[\"radarlocations\"]:\n",
    "    # get radar coords etc from dict\n",
    "    if radar_id == \"mhp\":\n",
    "        continue\n",
    "    radar = radars.by_odimcode(radar_id)\n",
    "    plot_radar(radar, ax2, proj_stereo)"
   ]
  }
 ],
 "metadata": {
  "celltoolbar": "Edit Metadata",
  "language_info": {
   "codemirror_mode": {
    "name": "ipython",
    "version": 3
   },
   "file_extension": ".py",
   "mimetype": "text/x-python",
   "name": "python",
   "nbconvert_exporter": "python",
   "pygments_lexer": "ipython3",
   "version": "3.10.5"
  },
  "toc": {
   "colors": {
    "hover_highlight": "#DAA520",
    "navigate_num": "#000000",
    "navigate_text": "#333333",
    "running_highlight": "#FF0000",
    "selected_highlight": "#FFD700",
    "sidebar_border": "#EEEEEE",
    "wrapper_background": "#FFFFFF"
   },
   "moveMenuLeft": true,
   "nav_menu": {
    "height": "31px",
    "width": "252px"
   },
   "navigate_menu": true,
   "number_sections": false,
   "sideBar": true,
   "threshold": 4,
   "toc_cell": false,
   "toc_section_display": "block",
   "toc_window_display": false,
   "widenNotebook": false
  }
 },
 "nbformat": 4,
 "nbformat_minor": 4
}
