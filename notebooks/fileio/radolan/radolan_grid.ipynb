{
 "cells": [
  {
   "cell_type": "markdown",
   "metadata": {
    "nbsphinx": "hidden"
   },
   "source": [
    "This notebook is part of the $\\omega radlib$ documentation: https://docs.wradlib.org.\n",
    "\n",
    "Copyright (c) $\\omega radlib$ developers.\n",
    "Distributed under the MIT License. See LICENSE.txt for more info."
   ]
  },
  {
   "cell_type": "markdown",
   "metadata": {},
   "source": [
    "# RADOLAN Grid"
   ]
  },
  {
   "cell_type": "markdown",
   "metadata": {},
   "source": [
    "## Polar Stereographic Projection"
   ]
  },
  {
   "cell_type": "markdown",
   "metadata": {},
   "source": [
    "The projected composite raster is equidistant with a grid-spacing of 1.0 km in most cases. There are composites which have 2.0 km grid-spacing (e.g. PC).\n",
    "\n",
    "There are five different grid sizes, the well-known 900 rows by 900 columns (normal, 1km grid spacinf), 1500 rows by 1400 columns (extended, 1km grid spacing), 460 rows by 460 columns (small, 2km grid spacing) and the legacy 450 rows by 450 rows (2km grid spacing). Since the RADSYS-E project is finalized an extended national composite with 1100 rows by 900 columns (normal_wx, 1km grid spacing) is available, too.\n",
    "\n",
    "Common to all is that the plane of projection intersects the earth sphere at $\\phi_0 = 60.0^{\\circ}N$. The cartesian co-ordinate system is aligned parallel to the $\\lambda_0 = 10.0^{\\circ}E$ meridian.\n",
    "\n",
    "The reference point ($\\lambda_m$, $\\phi_m$) is $9.0^{\\circ}E$ and $51.0^{\\circ}N$, which is the center of the two smaller grids. The extended european grid has an offset in respect to this reference point of 350km by 150km, the extended national grid 100km by -80km.\n",
    "\n",
    "The earth as sphere with an radius of 6370.04 km is used for all calculations.\n",
    "\n",
    "With formulas (1), (2) and (3) the geographic reference points ($\\lambda$, $\\phi$) can be converted to projected cartesian coordinates. The calculated (x y) is the distance vector to the origign of the cartesian coordinate system (north pole).\n",
    "\n",
    "$\\begin{equation}\n",
    "x = R * M(\\phi) * cos(\\phi) * sin(\\lambda - \\lambda_0)\n",
    "\\tag{1}\n",
    "\\end{equation}$\n",
    "\n",
    "$\\begin{equation}\n",
    "y = -R * M(\\phi) * cos(\\phi) * cos(\\lambda - \\lambda_0)\n",
    "\\tag{2}\n",
    "\\end{equation}$\n",
    "\n",
    "$\\begin{equation}\n",
    "M(\\phi) =  \\frac {1 + sin(\\phi_0)} {1 + sin(\\phi)}\n",
    "\\tag{3}\n",
    "\\end{equation}$\n",
    "\n",
    "Assumed the point ($10.0^{\\circ}E$, $90.0^{\\circ}N$) is defined as coordinate system origin. Then all ccordinates can be calculated with the known grid-spacing d as:\n",
    "\n",
    "$\\begin{equation}\n",
    "x = x_0 + d * (j - j_0)\n",
    "\\tag{4}\n",
    "\\end{equation}$\n",
    "\n",
    "$\\begin{equation}\n",
    "y = y_0 + d * (i - i_0)\n",
    "\\tag{5}\n",
    "\\end{equation}$\n",
    "\n",
    "with i, j as cartesian indices.\n",
    "\n",
    "$\\omega radlib$ provides the convenience function [wradlib.georef.get_radolan_grid()](https://docs.wradlib.org/en/latest/generated/wradlib.georef.rect.get_radolan_grid.html) which returns the radolan grid for further processing. It takes `nrows` and `ncols` as parameters and returns the projected cartesian coordinates or the wgs84 coordinates (keyword arg wgs84=True) as numpy ndarray (nrows x ncols x 2)."
   ]
  },
  {
   "cell_type": "code",
   "execution_count": null,
   "metadata": {},
   "outputs": [],
   "source": [
    "import wradlib as wrl\n",
    "import matplotlib.pyplot as pl\n",
    "import warnings\n",
    "\n",
    "warnings.filterwarnings(\"ignore\")\n",
    "try:\n",
    "    get_ipython().run_line_magic(\"matplotlib inline\")\n",
    "except:\n",
    "    pl.ion()\n",
    "import numpy as np"
   ]
  },
  {
   "cell_type": "markdown",
   "metadata": {},
   "source": [
    "### 900x900, 1km grid box"
   ]
  },
  {
   "cell_type": "code",
   "execution_count": null,
   "metadata": {},
   "outputs": [],
   "source": [
    "radolan_grid_xy = wrl.georef.get_radolan_grid(900, 900)\n",
    "print(\n",
    "    \"{0}, ({1:.4f}, {2:.4f})\".format(radolan_grid_xy.shape, *radolan_grid_xy[0, 0, :])\n",
    ")\n",
    "radolan_grid_ll = wrl.georef.get_radolan_grid(900, 900, wgs84=True)\n",
    "print(\n",
    "    \"{0}, ({1:.4f}, {2:.4f})\".format(radolan_grid_ll.shape, *radolan_grid_ll[0, 0, :])\n",
    ")"
   ]
  },
  {
   "cell_type": "markdown",
   "metadata": {},
   "source": [
    "### 1100x900, 1km grid box"
   ]
  },
  {
   "cell_type": "code",
   "execution_count": null,
   "metadata": {},
   "outputs": [],
   "source": [
    "radolan_grid_xy = wrl.georef.get_radolan_grid(1100, 900)\n",
    "print(\n",
    "    \"{0}, ({1:.4f}, {2:.4f})\".format(radolan_grid_xy.shape, *radolan_grid_xy[0, 0, :])\n",
    ")\n",
    "radolan_grid_ll = wrl.georef.get_radolan_grid(1100, 900, wgs84=True)\n",
    "print(\n",
    "    \"{0}, ({1:.4f}, {2:.4f})\".format(radolan_grid_ll.shape, *radolan_grid_ll[0, 0, :])\n",
    ")"
   ]
  },
  {
   "cell_type": "markdown",
   "metadata": {},
   "source": [
    "### 1500x1400, 1km grid box"
   ]
  },
  {
   "cell_type": "code",
   "execution_count": null,
   "metadata": {},
   "outputs": [],
   "source": [
    "radolan_grid_xy = wrl.georef.get_radolan_grid(1500, 1400)\n",
    "print(\n",
    "    \"{0}, ({1:.4f}, {2:.4f})\".format(radolan_grid_xy.shape, *radolan_grid_xy[0, 0, :])\n",
    ")\n",
    "radolan_grid_ll = wrl.georef.get_radolan_grid(1500, 1400, wgs84=True)\n",
    "print(\n",
    "    \"{0}, ({1:.4f}, {2:.4f})\".format(radolan_grid_ll.shape, *radolan_grid_ll[0, 0, :])\n",
    ")"
   ]
  },
  {
   "cell_type": "markdown",
   "metadata": {},
   "source": [
    "### 460x460, 2km grid box"
   ]
  },
  {
   "cell_type": "code",
   "execution_count": null,
   "metadata": {},
   "outputs": [],
   "source": [
    "radolan_grid_xy = wrl.georef.get_radolan_grid(460, 460)\n",
    "print(\n",
    "    \"{0}, ({1:.4f}, {2:.4f})\".format(radolan_grid_xy.shape, *radolan_grid_xy[0, 0, :])\n",
    ")\n",
    "radolan_grid_ll = wrl.georef.get_radolan_grid(460, 460, wgs84=True)\n",
    "print(\n",
    "    \"{0}, ({1:.4f}, {2:.4f})\".format(radolan_grid_ll.shape, *radolan_grid_ll[0, 0, :])\n",
    ")"
   ]
  },
  {
   "cell_type": "markdown",
   "metadata": {},
   "source": [
    "### 450x450, 2km grid box"
   ]
  },
  {
   "cell_type": "code",
   "execution_count": null,
   "metadata": {},
   "outputs": [],
   "source": [
    "radolan_grid_xy = wrl.georef.get_radolan_grid(450, 450)\n",
    "print(\n",
    "    \"{0}, ({1:.4f}, {2:.4f})\".format(radolan_grid_xy.shape, *radolan_grid_xy[0, 0, :])\n",
    ")\n",
    "radolan_grid_ll = wrl.georef.get_radolan_grid(450, 450, wgs84=True)\n",
    "print(\n",
    "    \"{0}, ({1:.4f}, {2:.4f})\".format(radolan_grid_ll.shape, *radolan_grid_ll[0, 0, :])\n",
    ")"
   ]
  },
  {
   "cell_type": "markdown",
   "metadata": {},
   "source": [
    "## Inverse Polar Stereographic Projection"
   ]
  },
  {
   "cell_type": "markdown",
   "metadata": {},
   "source": [
    "The geographic coordinates of specific datapoints can be calculated by using the cartesian coordinates (x,y) and the following formulas:\n",
    "\n",
    "$\\begin{equation}\n",
    "\\lambda = \\arctan\\left(\\frac {-x} {y}\\right) + \\lambda_0\n",
    "\\tag{6}\n",
    "\\end{equation}$\n",
    "   \n",
    "$\\begin{equation}\n",
    "\\phi = \\arcsin\\left(\\frac {R^2 * \\left(1 + \\sin\\phi_0\\right)^2 - \\left(x^2 + y^2\\right)} {R^2 * \\left(1 + \\sin\\phi_0\\right)^2 + \\left(x^2 + y^2\\right)}\\right)\n",
    "\\tag{7}\n",
    "\\end{equation}$"
   ]
  },
  {
   "cell_type": "markdown",
   "metadata": {},
   "source": [
    "## Standard Formats"
   ]
  },
  {
   "cell_type": "markdown",
   "metadata": {},
   "source": [
    "### WKT-String"
   ]
  },
  {
   "cell_type": "markdown",
   "metadata": {},
   "source": [
    "The German Weather Service provides a [WKT-string](https://maps.dwd.de/geoserver/web/wicket/bookmarkable/org.geoserver.web.demo.SRSDescriptionPage?0&code=EPSG:1000001). This WKT (well known text) is used to create the osr-object representation of the radolan projection.\n",
    "\n",
    "For the scale_factor the intersection of the projection plane with the earth sphere at $60.0^{\\circ}N$ has to be taken into account:\n",
    "\n",
    "$\\begin{equation}\n",
    "scale\\_factor = \\frac {1 + \\sin\\left(60.^{\\circ}\\right)} {1 + \\sin\\left(90.^{\\circ}\\right)} = 0.93301270189\n",
    "\\tag{8}\n",
    "\\end{equation}$\n",
    "\n",
    "Also, the `PROJECTION[\"Stereographic_North_Pole\"]` isn't known within GDAL/OSR. It has to be changed to the known `PROJECTION[\"polar_stereographic\"]`.\n",
    "\n",
    "With these adaptions we finally yield the Radolan Projection as WKT-string. This WKT-string is used within $\\omega radlib$ to create the osr-object by using the helper-function [wradlib.georef.create_osr()](https://docs.wradlib.org/en/latest/generated/wradlib.georef.projection.create_osr.html)."
   ]
  },
  {
   "cell_type": "code",
   "execution_count": null,
   "metadata": {},
   "outputs": [],
   "source": [
    "proj_stereo = wrl.georef.create_osr(\"dwd-radolan\")\n",
    "print(proj_stereo)"
   ]
  },
  {
   "cell_type": "markdown",
   "metadata": {},
   "source": [
    "### PROJ"
   ]
  },
  {
   "cell_type": "markdown",
   "metadata": {},
   "source": [
    "Using the above WKT-String the PROJ.4 representation can be derived as:\n",
    "\n",
    "```python\n",
    "    +proj=stere +lat_0=90 +lat_ts=90 +lon_0=10 +k=0.93301270189\n",
    "    +x_0=0 +y_0=0 +a=6370040 +b=6370040 +to_meter=1000 +no_defs\n",
    "```\n",
    "\n",
    "This PROJ.4-string can also be used to create the osr-object by using the helper-function [wradlib.georef.proj4_to_osr()](https://docs.wradlib.org/en/latest/generated/wradlib.georef.projection.proj4_to_osr.html):"
   ]
  },
  {
   "cell_type": "code",
   "execution_count": null,
   "metadata": {},
   "outputs": [],
   "source": [
    "# create radolan projection osr object\n",
    "dwd_string = (\n",
    "    \"+proj=stere +lat_0=90 +lat_ts=90 +lon_0=10 +k=0.93301270189 \"\n",
    "    \"+x_0=0 +y_0=0 +a=6370040 +b=6370040 +to_meter=1000 +no_defs\"\n",
    ")\n",
    "proj_stereo = wrl.georef.proj4_to_osr(dwd_string)\n",
    "print(proj_stereo)"
   ]
  },
  {
   "cell_type": "markdown",
   "metadata": {},
   "source": [
    "## Grid Reprojection"
   ]
  },
  {
   "cell_type": "markdown",
   "metadata": {},
   "source": [
    "Within $\\omega radlib$ the [wradlib.georef.reproject()](https://docs.wradlib.org/en/latest/generated/wradlib.georef.projection.reproject.html) function can be used to convert the radolan grid data from xy-space to lonlat-space and back. First, we need to create the necessary Spatial Reference Objects for the RADOLAN-projection and wgs84."
   ]
  },
  {
   "cell_type": "code",
   "execution_count": null,
   "metadata": {},
   "outputs": [],
   "source": [
    "from osgeo import osr\n",
    "\n",
    "proj_stereo = wrl.georef.create_osr(\"dwd-radolan\")\n",
    "print(proj_stereo)\n",
    "proj_wgs = osr.SpatialReference()\n",
    "proj_wgs.ImportFromEPSG(4326)\n",
    "print(proj_wgs)"
   ]
  },
  {
   "cell_type": "markdown",
   "metadata": {},
   "source": [
    "Then, we call `reproject` with the osr-objects as `projection_source` and `projection_target` parameters."
   ]
  },
  {
   "cell_type": "code",
   "execution_count": null,
   "metadata": {},
   "outputs": [],
   "source": [
    "radolan_grid_xy = wrl.georef.get_radolan_grid(900, 900)\n",
    "radolan_grid_ll = wrl.georef.reproject(\n",
    "    radolan_grid_xy, projection_source=proj_stereo, projection_target=proj_wgs\n",
    ")\n",
    "print(\n",
    "    \"{0}, ({1:.4f}, {2:.4f})\".format(radolan_grid_ll.shape, *radolan_grid_ll[0, 0, :])\n",
    ")"
   ]
  },
  {
   "cell_type": "markdown",
   "metadata": {},
   "source": [
    "And the other way round."
   ]
  },
  {
   "cell_type": "code",
   "execution_count": null,
   "metadata": {},
   "outputs": [],
   "source": [
    "radolan_grid_xy = wrl.georef.reproject(\n",
    "    radolan_grid_ll, projection_source=proj_wgs, projection_target=proj_stereo\n",
    ")\n",
    "print(\n",
    "    \"{0}, ({1:.4f}, {2:.4f})\".format(radolan_grid_xy.shape, *radolan_grid_xy[0, 0, :])\n",
    ")"
   ]
  },
  {
   "cell_type": "markdown",
   "metadata": {},
   "source": [
    "In the following example the RADOLAN grid is projected to wgs84 and GaussKrüger Zone3."
   ]
  },
  {
   "cell_type": "code",
   "execution_count": null,
   "metadata": {},
   "outputs": [],
   "source": [
    "# create UTM zone 32 projection osr object\n",
    "proj_utm32 = osr.SpatialReference()\n",
    "proj_utm32.ImportFromEPSG(32632)\n",
    "\n",
    "# transform radolan polar stereographic projection to wgs84 and then to utm zone 32\n",
    "radolan_grid_ll = wrl.georef.reproject(\n",
    "    radolan_grid_xy, projection_source=proj_stereo, projection_target=proj_wgs\n",
    ")\n",
    "radolan_grid_utm32 = wrl.georef.reproject(\n",
    "    radolan_grid_ll, projection_source=proj_wgs, projection_target=proj_utm32\n",
    ")\n",
    "\n",
    "lon_wgs0 = radolan_grid_ll[:, :, 0]\n",
    "lat_wgs0 = radolan_grid_ll[:, :, 1]\n",
    "\n",
    "x_utm32 = radolan_grid_utm32[:, :, 0]\n",
    "y_utm32 = radolan_grid_utm32[:, :, 1]\n",
    "\n",
    "x_rad = radolan_grid_xy[:, :, 0]\n",
    "y_rad = radolan_grid_xy[:, :, 1]\n",
    "\n",
    "print(\"\\n------------------------------\")\n",
    "print(\"source radolan x,y-coordinates\")\n",
    "print(\"       {0}      {1} \".format(\"x [km]\", \"y [km]\"))\n",
    "print(\"ll: {:10.4f} {:10.3f} \".format(x_rad[0, 0], y_rad[0, 0]))\n",
    "print(\"lr: {:10.4f} {:10.3f} \".format(x_rad[0, -1], y_rad[0, -1]))\n",
    "print(\"ur: {:10.4f} {:10.3f} \".format(x_rad[-1, -1], y_rad[-1, -1]))\n",
    "print(\"ul: {:10.4f} {:10.3f} \".format(x_rad[-1, 0], y_rad[-1, 0]))\n",
    "print(\"\\n--------------------------------------\")\n",
    "print(\"transformed radolan lonlat-coordinates\")\n",
    "print(\"      {0}  {1} \".format(\"lon [degE]\", \"lat [degN]\"))\n",
    "print(\"ll: {:10.4f}  {:10.4f} \".format(lon_wgs0[0, 0], lat_wgs0[0, 0]))\n",
    "print(\"lr: {:10.4f}  {:10.4f} \".format(lon_wgs0[0, -1], lat_wgs0[0, -1]))\n",
    "print(\"ur: {:10.4f}  {:10.4f} \".format(lon_wgs0[-1, -1], lat_wgs0[-1, -1]))\n",
    "print(\"ul: {:10.4f}  {:10.4f} \".format(lon_wgs0[-1, 0], lat_wgs0[-1, 0]))\n",
    "print(\"\\n-----------------------------------\")\n",
    "print(\"transformed radolan utm32-coordinates\")\n",
    "print(\"     {0}   {1} \".format(\"easting [m]\", \"northing [m]\"))\n",
    "print(\"ll: {:10.0f}   {:10.0f} \".format(x_utm32[0, 0], y_utm32[0, 0]))\n",
    "print(\"lr: {:10.0f}   {:10.0f} \".format(x_utm32[0, -1], y_utm32[0, -1]))\n",
    "print(\"ur: {:10.0f}   {:10.0f} \".format(x_utm32[-1, -1], y_utm32[-1, -1]))\n",
    "print(\"ul: {:10.0f}   {:10.0f} \".format(x_utm32[-1, 0], y_utm32[-1, 0]))"
   ]
  }
 ],
 "metadata": {
  "celltoolbar": "Edit Metadata",
  "language_info": {
   "codemirror_mode": {
    "name": "ipython",
    "version": 3
   },
   "file_extension": ".py",
   "mimetype": "text/x-python",
   "name": "python",
   "nbconvert_exporter": "python",
   "pygments_lexer": "ipython3",
   "version": "3.10.5"
  },
  "toc": {
   "colors": {
    "hover_highlight": "#DAA520",
    "navigate_num": "#000000",
    "navigate_text": "#333333",
    "running_highlight": "#FF0000",
    "selected_highlight": "#FFD700",
    "sidebar_border": "#EEEEEE",
    "wrapper_background": "#FFFFFF"
   },
   "moveMenuLeft": true,
   "nav_menu": {
    "height": "142px",
    "width": "252px"
   },
   "navigate_menu": true,
   "number_sections": false,
   "sideBar": true,
   "threshold": 4,
   "toc_cell": false,
   "toc_section_display": "block",
   "toc_window_display": false,
   "widenNotebook": false
  }
 },
 "nbformat": 4,
 "nbformat_minor": 4
}
