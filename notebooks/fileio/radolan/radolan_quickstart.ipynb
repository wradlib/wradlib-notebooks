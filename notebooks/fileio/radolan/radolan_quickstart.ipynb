{
 "cells": [
  {
   "cell_type": "markdown",
   "metadata": {
    "nbsphinx": "hidden"
   },
   "source": [
    "This notebook is part of the $\\omega radlib$ documentation: https://docs.wradlib.org.\n",
    "\n",
    "Copyright (c) $\\omega radlib$ developers.\n",
    "Distributed under the MIT License. See LICENSE.txt for more info."
   ]
  },
  {
   "cell_type": "markdown",
   "metadata": {},
   "source": [
    "# RADOLAN Quick Start"
   ]
  },
  {
   "cell_type": "markdown",
   "metadata": {},
   "source": [
    "Import modules, filter warnings to avoid cluttering output with DeprecationWarnings and use matplotlib inline or interactive mode if running in ipython or python respectively."
   ]
  },
  {
   "cell_type": "code",
   "execution_count": null,
   "metadata": {},
   "outputs": [],
   "source": [
    "import os\n",
    "import wradlib as wrl\n",
    "import matplotlib.pyplot as pl\n",
    "import warnings\n",
    "\n",
    "warnings.filterwarnings(\"ignore\")\n",
    "try:\n",
    "    get_ipython().run_line_magic(\"matplotlib inline\")\n",
    "except:\n",
    "    pl.ion()\n",
    "import numpy as np\n",
    "import xarray as xr"
   ]
  },
  {
   "cell_type": "markdown",
   "metadata": {},
   "source": [
    "## Normal reader"
   ]
  },
  {
   "cell_type": "markdown",
   "metadata": {},
   "source": [
    "All RADOLAN composite products can be read by the following function:\n",
    "\n",
    "```python\n",
    "data, metadata = wradlib.io.read_radolan_composite(\"mydrive:/path/to/my/file/filename\")\n",
    "```\n",
    "\n",
    "Here, ``data`` is a two dimensional integer or float array of shape (number of rows, number of columns). ``metadata`` is a dictionary which provides metadata from the files header section, e.g. using the keys `producttype`, `datetime`, `intervalseconds`, `nodataflag`.\n",
    "\n",
    "The [RADOLAN Grid](radolan_grid.ipynb) coordinates can be calculated with [wradlib.georef.get_radolan_grid()](https://docs.wradlib.org/en/latest/generated/wradlib.georef.rect.get_radolan_grid.html).\n",
    "\n",
    "With the following code snippet the RW-product is shown in the [Polar Stereographic Projection](radolan_grid.ipynb#Polar-Stereographic-Projection)."
   ]
  },
  {
   "cell_type": "code",
   "execution_count": null,
   "metadata": {},
   "outputs": [],
   "source": [
    "# load radolan files\n",
    "rw_filename = wrl.util.get_wradlib_data_file(\n",
    "    \"radolan/misc/raa01-rw_10000-1408102050-dwd---bin.gz\"\n",
    ")\n",
    "rwdata, rwattrs = wrl.io.read_radolan_composite(rw_filename)\n",
    "# print the available attributes\n",
    "print(\"RW Attributes:\", rwattrs)"
   ]
  },
  {
   "cell_type": "code",
   "execution_count": null,
   "metadata": {},
   "outputs": [],
   "source": [
    "# do some masking\n",
    "sec = rwattrs[\"secondary\"]\n",
    "rwdata.flat[sec] = -9999\n",
    "rwdata = np.ma.masked_equal(rwdata, -9999)"
   ]
  },
  {
   "cell_type": "code",
   "execution_count": null,
   "metadata": {},
   "outputs": [],
   "source": [
    "# Get coordinates\n",
    "radolan_grid_xy = wrl.georef.get_radolan_grid(900, 900)\n",
    "x = radolan_grid_xy[:, :, 0]\n",
    "y = radolan_grid_xy[:, :, 1]"
   ]
  },
  {
   "cell_type": "code",
   "execution_count": null,
   "metadata": {},
   "outputs": [],
   "source": [
    "# plot function\n",
    "pl.pcolormesh(x, y, rwdata, cmap=\"viridis\")\n",
    "cb = pl.colorbar(shrink=0.75)\n",
    "cb.set_label(\"mm * h-1\")\n",
    "pl.title(\"RADOLAN RW Product Polar Stereo \\n\" + rwattrs[\"datetime\"].isoformat())\n",
    "pl.grid(color=\"r\")"
   ]
  },
  {
   "cell_type": "markdown",
   "metadata": {},
   "source": [
    "A much more comprehensive section using several RADOLAN composites is shown in chapter [RADOLAN Product Showcase](radolan_showcase.ipynb)."
   ]
  },
  {
   "cell_type": "markdown",
   "metadata": {},
   "source": [
    "## RADOLAN Xarray backend"
   ]
  },
  {
   "cell_type": "markdown",
   "metadata": {},
   "source": [
    "From wradlib version 1.10.0 a RADOLAN xarray backend is available. RADOLAN data will be imported into an `xarray.Dataset` with attached coordinates."
   ]
  },
  {
   "cell_type": "code",
   "execution_count": null,
   "metadata": {},
   "outputs": [],
   "source": [
    "# load radolan files\n",
    "rw_filename = wrl.util.get_wradlib_data_file(\n",
    "    \"radolan/misc/raa01-rw_10000-1408102050-dwd---bin.gz\"\n",
    ")\n",
    "ds = wrl.io.open_radolan_dataset(rw_filename)\n",
    "# print the xarray dataset\n",
    "ds"
   ]
  },
  {
   "cell_type": "markdown",
   "metadata": {},
   "source": [
    "### Simple Plot"
   ]
  },
  {
   "cell_type": "code",
   "execution_count": null,
   "metadata": {},
   "outputs": [],
   "source": [
    "ds.RW.plot()"
   ]
  },
  {
   "cell_type": "markdown",
   "metadata": {},
   "source": [
    "### Simple selection"
   ]
  },
  {
   "cell_type": "code",
   "execution_count": null,
   "metadata": {},
   "outputs": [],
   "source": [
    "ds.RW.sel(x=slice(-100000, 100000), y=slice(-4400000, -4200000)).plot()"
   ]
  },
  {
   "cell_type": "markdown",
   "metadata": {},
   "source": [
    "### Map plot using `cartopy`"
   ]
  },
  {
   "cell_type": "code",
   "execution_count": null,
   "metadata": {},
   "outputs": [],
   "source": [
    "import cartopy.crs as ccrs\n",
    "\n",
    "map_proj = ccrs.Stereographic(\n",
    "    true_scale_latitude=60.0, central_latitude=90.0, central_longitude=10.0\n",
    ")"
   ]
  },
  {
   "cell_type": "code",
   "execution_count": null,
   "metadata": {},
   "outputs": [],
   "source": [
    "fig = pl.figure(figsize=(10, 8))\n",
    "ds.RW.plot(subplot_kws=dict(projection=map_proj))\n",
    "ax = pl.gca()\n",
    "ax.gridlines(draw_labels=True, y_inline=False)"
   ]
  },
  {
   "cell_type": "markdown",
   "metadata": {},
   "source": [
    "## Open multiple files"
   ]
  },
  {
   "cell_type": "code",
   "execution_count": null,
   "metadata": {},
   "outputs": [],
   "source": [
    "# load radolan files\n",
    "flist = [\n",
    "    \"radolan/misc/raa01-sf_10000-1305270050-dwd---bin.gz\",\n",
    "    \"radolan/misc/raa01-sf_10000-1305280050-dwd---bin.gz\",\n",
    "]\n",
    "sf_filenames = [wrl.util.get_wradlib_data_file(f) for f in flist]\n",
    "ds = wrl.io.open_radolan_mfdataset(sf_filenames)\n",
    "# print the xarray dataset\n",
    "ds"
   ]
  },
  {
   "cell_type": "code",
   "execution_count": null,
   "metadata": {},
   "outputs": [],
   "source": [
    "fig = pl.figure(figsize=(10, 5))\n",
    "ds.SF.plot(col=\"time\")"
   ]
  },
  {
   "cell_type": "markdown",
   "metadata": {},
   "source": [
    "## Use `xr.open_dataset` and `xr.open_mfdataset`"
   ]
  },
  {
   "cell_type": "code",
   "execution_count": null,
   "metadata": {},
   "outputs": [],
   "source": [
    "rw_filename = wrl.util.get_wradlib_data_file(\n",
    "    \"radolan/misc/raa01-rw_10000-1408102050-dwd---bin.gz\"\n",
    ")\n",
    "ds = xr.open_dataset(rw_filename, engine=\"radolan\")\n",
    "ds"
   ]
  },
  {
   "cell_type": "code",
   "execution_count": null,
   "metadata": {},
   "outputs": [],
   "source": [
    "sf_filename = os.path.join(\n",
    "    wrl.util.get_wradlib_data_path(), \"radolan/misc/raa01-sf_10000-1305*\"\n",
    ")\n",
    "ds = xr.open_mfdataset(sf_filename, engine=\"radolan\")\n",
    "ds"
   ]
  }
 ],
 "metadata": {
  "celltoolbar": "Edit Metadata",
  "language_info": {
   "codemirror_mode": {
    "name": "ipython",
    "version": 3
   },
   "file_extension": ".py",
   "mimetype": "text/x-python",
   "name": "python",
   "nbconvert_exporter": "python",
   "pygments_lexer": "ipython3",
   "version": "3.10.5"
  },
  "toc": {
   "colors": {
    "hover_highlight": "#DAA520",
    "navigate_num": "#000000",
    "navigate_text": "#333333",
    "running_highlight": "#FF0000",
    "selected_highlight": "#FFD700",
    "sidebar_border": "#EEEEEE",
    "wrapper_background": "#FFFFFF"
   },
   "moveMenuLeft": true,
   "nav_menu": {
    "height": "31px",
    "width": "252px"
   },
   "navigate_menu": true,
   "number_sections": false,
   "sideBar": true,
   "threshold": 4,
   "toc_cell": false,
   "toc_section_display": "block",
   "toc_window_display": false,
   "widenNotebook": false
  }
 },
 "nbformat": 4,
 "nbformat_minor": 4
}
