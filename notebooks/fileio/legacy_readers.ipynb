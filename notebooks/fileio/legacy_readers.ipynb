{
 "cells": [
  {
   "cell_type": "markdown",
   "metadata": {
    "nbsphinx": "hidden",
    "slideshow": {
     "slide_type": "skip"
    }
   },
   "source": [
    "This notebook is part of the $\\omega radlib$ documentation: https://docs.wradlib.org.\n",
    "\n",
    "Copyright (c) $\\omega radlib$ developers.\n",
    "Distributed under the MIT License. See LICENSE.txt for more info."
   ]
  },
  {
   "cell_type": "markdown",
   "metadata": {
    "slideshow": {
     "slide_type": "slide"
    }
   },
   "source": [
    "# Legacy readers"
   ]
  },
  {
   "cell_type": "markdown",
   "metadata": {
    "slideshow": {
     "slide_type": "skip"
    }
   },
   "source": [
    "<div class=\"alert alert-warning\">\n",
    "\n",
    "For radar data in polar format the [openradar community](https://openradarscience.org/) published [xradar](https://docs.openradarscience.org/projects/xradar/en/latest/) where xarray-based readers/writers are implemented. That particular code was ported from $\\omega radlib$ to xradar. Please refer to xradar for enhancements for polar radar.    \n",
    "    \n",
    "From $\\omega radlib$ version 1.19 that functionality is imported from [xradar](https://github.com/openradar/xradar)-package whenever and wherever necessary.\n",
    "    \n",
    "Please refer to [xradar based examples](xarray_backends.ipynb) for an introduction.\n",
    "    \n",
    "</div>\n",
    "\n",
    "Since new developments are done in xradar this chapter only covers the legacy readers with numpy output. They will work fine, but we recommend to use the available xarray based readers."
   ]
  },
  {
   "cell_type": "markdown",
   "metadata": {
    "slideshow": {
     "slide_type": "fragment"
    }
   },
   "source": [
    "Reading weather radar files is done via the [wradlib.io](https://docs.wradlib.org/en/latest/io.html) module. There you will find a complete function reference. "
   ]
  },
  {
   "cell_type": "markdown",
   "metadata": {
    "nbsphinx-toctree": {
     "hidden": true,
     "maxdepth": 2
    }
   },
   "source": [
    "- [DWD DX](legacy/read_dx.ipynb)\n",
    "- [NetCDF](legacy/read_netcdf.ipynb)\n",
    "- [HDF5](legacy/read_hdf5.ipynb)\n",
    "- [OPERA ODIM](legacy/read_odim.ipynb)\n",
    "- [GAMIC HDF](legacy/read_gamic.ipynb)\n",
    "- [Leonardo Rainbow](legacy/read_rainbow.ipynb)\n",
    "- [Vaisala IRIS/Sigmet](legacy/read_iris.ipynb)"
   ]
  }
 ],
 "metadata": {
  "celltoolbar": "Slideshow",
  "language_info": {
   "codemirror_mode": {
    "name": "ipython",
    "version": 3
   },
   "file_extension": ".py",
   "mimetype": "text/x-python",
   "name": "python",
   "nbconvert_exporter": "python",
   "pygments_lexer": "ipython3",
   "version": "3.11.6"
  },
  "livereveal": {
   "scroll": true
  },
  "toc": {
   "colors": {
    "hover_highlight": "#DAA520",
    "navigate_num": "#000000",
    "navigate_text": "#333333",
    "running_highlight": "#FF0000",
    "selected_highlight": "#FFD700",
    "sidebar_border": "#EEEEEE",
    "wrapper_background": "#FFFFFF"
   },
   "moveMenuLeft": true,
   "nav_menu": {
    "height": "269px",
    "width": "252px"
   },
   "navigate_menu": true,
   "number_sections": false,
   "sideBar": true,
   "threshold": 4,
   "toc_cell": false,
   "toc_section_display": "block",
   "toc_window_display": false,
   "widenNotebook": false
  }
 },
 "nbformat": 4,
 "nbformat_minor": 4
}
