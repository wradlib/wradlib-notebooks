{
 "cells": [
  {
   "cell_type": "markdown",
   "metadata": {
    "nbsphinx": "hidden"
   },
   "source": [
    "This notebook is part of the $\\omega radlib$ documentation: https://docs.wradlib.org.\n",
    "\n",
    "Copyright (c) $\\omega radlib$ developers.\n",
    "Distributed under the MIT License. See LICENSE.txt for more info."
   ]
  },
  {
   "cell_type": "markdown",
   "metadata": {},
   "source": [
    "# Vector Source"
   ]
  },
  {
   "cell_type": "markdown",
   "metadata": {},
   "source": [
    "The ``VectorSource`` class is designed to conveniently handle Vector Data (eg. shapefiles). It originates from the ``zonalstats`` module but moved to ``io.gdal`` for better visibility\n",
    "\n",
    "- managing georeferenced data (grid points or grid polygons, zonal polygons),\n",
    "- output to vector and raster files available within ogr/gdal\n",
    "- geopandas dataframe connector"
   ]
  },
  {
   "cell_type": "code",
   "execution_count": 1,
   "metadata": {
    "execution": {
     "iopub.execute_input": "2025-06-04T10:00:10.772074Z",
     "iopub.status.busy": "2025-06-04T10:00:10.771854Z",
     "iopub.status.idle": "2025-06-04T10:00:12.050703Z",
     "shell.execute_reply": "2025-06-04T10:00:12.050254Z"
    }
   },
   "outputs": [],
   "source": [
    "import wradlib as wrl\n",
    "import matplotlib.pyplot as plt\n",
    "import matplotlib as mpl\n",
    "import warnings\n",
    "\n",
    "warnings.filterwarnings(\"ignore\")\n",
    "try:\n",
    "    get_ipython().run_line_magic(\"matplotlib inline\")\n",
    "except:\n",
    "    plt.ion()\n",
    "import numpy as np"
   ]
  },
  {
   "cell_type": "markdown",
   "metadata": {},
   "source": [
    "The [wradlib.io.VectorSource](https://docs.wradlib.org/en/latest/generated/wradlib.io.gdal.VectorSource.html) class handles point or polygon vector data by wrapping ogr.DataSource with special functions.\n",
    "\n",
    "The following example shows how to create different VectorSource objects:"
   ]
  },
  {
   "cell_type": "code",
   "execution_count": 2,
   "metadata": {
    "execution": {
     "iopub.execute_input": "2025-06-04T10:00:12.052822Z",
     "iopub.status.busy": "2025-06-04T10:00:12.052324Z",
     "iopub.status.idle": "2025-06-04T10:00:12.064185Z",
     "shell.execute_reply": "2025-06-04T10:00:12.063813Z"
    }
   },
   "outputs": [],
   "source": [
    "from osgeo import osr\n",
    "\n",
    "# create gk2 projection osr object\n",
    "proj_gk2 = osr.SpatialReference()\n",
    "proj_gk2.ImportFromEPSG(31466)\n",
    "\n",
    "# Setting up DataSource\n",
    "box0 = np.array(\n",
    "    [\n",
    "        [2600000.0, 5630000.0],\n",
    "        [2600000.0, 5640000.0],\n",
    "        [2610000.0, 5640000.0],\n",
    "        [2610000.0, 5630000.0],\n",
    "        [2600000.0, 5630000.0],\n",
    "    ]\n",
    ")\n",
    "box1 = np.array(\n",
    "    [\n",
    "        [2610000.0, 5630000.0],\n",
    "        [2610000.0, 5640000.0],\n",
    "        [2620000.0, 5640000.0],\n",
    "        [2620000.0, 5630000.0],\n",
    "        [2610000.0, 5630000.0],\n",
    "    ]\n",
    ")\n",
    "box2 = np.array(\n",
    "    [\n",
    "        [2600000.0, 5640000.0],\n",
    "        [2600000.0, 5650000.0],\n",
    "        [2610000.0, 5650000.0],\n",
    "        [2610000.0, 5640000.0],\n",
    "        [2600000.0, 5640000.0],\n",
    "    ]\n",
    ")\n",
    "box3 = np.array(\n",
    "    [\n",
    "        [2610000.0, 5640000.0],\n",
    "        [2610000.0, 5650000.0],\n",
    "        [2620000.0, 5650000.0],\n",
    "        [2620000.0, 5640000.0],\n",
    "        [2610000.0, 5640000.0],\n",
    "    ]\n",
    ")\n",
    "\n",
    "point0 = np.array(wrl.georef.get_centroid(box0))\n",
    "point1 = np.array(wrl.georef.get_centroid(box1))\n",
    "point2 = np.array(wrl.georef.get_centroid(box2))\n",
    "point3 = np.array(wrl.georef.get_centroid(box3))\n",
    "\n",
    "# creates Polygons in Datasource\n",
    "poly = wrl.io.VectorSource(\n",
    "    np.array([box0, box1, box2, box3]), trg_crs=proj_gk2, name=\"poly\"\n",
    ")\n",
    "\n",
    "# creates Points in Datasource\n",
    "point = wrl.io.VectorSource(\n",
    "    np.vstack((point0, point1, point2, point3)), trg_crs=proj_gk2, name=\"point\"\n",
    ")"
   ]
  },
  {
   "cell_type": "code",
   "execution_count": 3,
   "metadata": {
    "execution": {
     "iopub.execute_input": "2025-06-04T10:00:12.065552Z",
     "iopub.status.busy": "2025-06-04T10:00:12.065379Z",
     "iopub.status.idle": "2025-06-04T10:00:12.067877Z",
     "shell.execute_reply": "2025-06-04T10:00:12.067490Z"
    }
   },
   "outputs": [
    {
     "name": "stdout",
     "output_type": "stream",
     "text": [
      "<wradlib.VectorSource>\n",
      "Type: Polygon\n",
      "Geometries: 4\n"
     ]
    }
   ],
   "source": [
    "print(poly)"
   ]
  },
  {
   "cell_type": "markdown",
   "metadata": {},
   "source": [
    "Let's have a look at the data, which will be exported as numpy arrays. The property ``data`` exports all available data as numpy arrays:"
   ]
  },
  {
   "cell_type": "markdown",
   "metadata": {},
   "source": [
    "### numpy access"
   ]
  },
  {
   "cell_type": "code",
   "execution_count": 4,
   "metadata": {
    "execution": {
     "iopub.execute_input": "2025-06-04T10:00:12.069217Z",
     "iopub.status.busy": "2025-06-04T10:00:12.069071Z",
     "iopub.status.idle": "2025-06-04T10:00:12.073019Z",
     "shell.execute_reply": "2025-06-04T10:00:12.072615Z"
    }
   },
   "outputs": [
    {
     "name": "stdout",
     "output_type": "stream",
     "text": [
      "[[[2600000.0 5630000.0]\n",
      "  [2600000.0 5640000.0]\n",
      "  [2610000.0 5640000.0]\n",
      "  [2610000.0 5630000.0]\n",
      "  [2600000.0 5630000.0]]\n",
      "\n",
      " [[2610000.0 5630000.0]\n",
      "  [2610000.0 5640000.0]\n",
      "  [2620000.0 5640000.0]\n",
      "  [2620000.0 5630000.0]\n",
      "  [2610000.0 5630000.0]]\n",
      "\n",
      " [[2600000.0 5640000.0]\n",
      "  [2600000.0 5650000.0]\n",
      "  [2610000.0 5650000.0]\n",
      "  [2610000.0 5640000.0]\n",
      "  [2600000.0 5640000.0]]\n",
      "\n",
      " [[2610000.0 5640000.0]\n",
      "  [2610000.0 5650000.0]\n",
      "  [2620000.0 5650000.0]\n",
      "  [2620000.0 5640000.0]\n",
      "  [2610000.0 5640000.0]]]\n",
      "[[2605000.0 5635000.0]\n",
      " [2615000.0 5635000.0]\n",
      " [2605000.0 5645000.0]\n",
      " [2615000.0 5645000.0]]\n"
     ]
    }
   ],
   "source": [
    "print(poly.data)\n",
    "print(point.data)"
   ]
  },
  {
   "cell_type": "markdown",
   "metadata": {},
   "source": [
    "### accessing geopandas "
   ]
  },
  {
   "cell_type": "code",
   "execution_count": 5,
   "metadata": {
    "execution": {
     "iopub.execute_input": "2025-06-04T10:00:12.074329Z",
     "iopub.status.busy": "2025-06-04T10:00:12.074180Z",
     "iopub.status.idle": "2025-06-04T10:00:12.920727Z",
     "shell.execute_reply": "2025-06-04T10:00:12.920193Z"
    }
   },
   "outputs": [
    {
     "data": {
      "text/html": [
       "<div style=\"width:100%;\"><div style=\"position:relative;width:100%;height:0;padding-bottom:60%;\"><span style=\"color:#565656\">Make this Notebook Trusted to load map: File -> Trust Notebook</span><iframe srcdoc=\"&lt;!DOCTYPE html&gt;\n",
       "&lt;html&gt;\n",
       "&lt;head&gt;\n",
       "    \n",
       "    &lt;meta http-equiv=&quot;content-type&quot; content=&quot;text/html; charset=UTF-8&quot; /&gt;\n",
       "    &lt;script src=&quot;https://cdn.jsdelivr.net/npm/leaflet@1.9.3/dist/leaflet.js&quot;&gt;&lt;/script&gt;\n",
       "    &lt;script src=&quot;https://code.jquery.com/jquery-3.7.1.min.js&quot;&gt;&lt;/script&gt;\n",
       "    &lt;script src=&quot;https://cdn.jsdelivr.net/npm/bootstrap@5.2.2/dist/js/bootstrap.bundle.min.js&quot;&gt;&lt;/script&gt;\n",
       "    &lt;script src=&quot;https://cdnjs.cloudflare.com/ajax/libs/Leaflet.awesome-markers/2.0.2/leaflet.awesome-markers.js&quot;&gt;&lt;/script&gt;\n",
       "    &lt;link rel=&quot;stylesheet&quot; href=&quot;https://cdn.jsdelivr.net/npm/leaflet@1.9.3/dist/leaflet.css&quot;/&gt;\n",
       "    &lt;link rel=&quot;stylesheet&quot; href=&quot;https://cdn.jsdelivr.net/npm/bootstrap@5.2.2/dist/css/bootstrap.min.css&quot;/&gt;\n",
       "    &lt;link rel=&quot;stylesheet&quot; href=&quot;https://netdna.bootstrapcdn.com/bootstrap/3.0.0/css/bootstrap-glyphicons.css&quot;/&gt;\n",
       "    &lt;link rel=&quot;stylesheet&quot; href=&quot;https://cdn.jsdelivr.net/npm/@fortawesome/fontawesome-free@6.2.0/css/all.min.css&quot;/&gt;\n",
       "    &lt;link rel=&quot;stylesheet&quot; href=&quot;https://cdnjs.cloudflare.com/ajax/libs/Leaflet.awesome-markers/2.0.2/leaflet.awesome-markers.css&quot;/&gt;\n",
       "    &lt;link rel=&quot;stylesheet&quot; href=&quot;https://cdn.jsdelivr.net/gh/python-visualization/folium/folium/templates/leaflet.awesome.rotate.min.css&quot;/&gt;\n",
       "    \n",
       "            &lt;meta name=&quot;viewport&quot; content=&quot;width=device-width,\n",
       "                initial-scale=1.0, maximum-scale=1.0, user-scalable=no&quot; /&gt;\n",
       "            &lt;style&gt;\n",
       "                #map_a4fab07f1d3aada82e980e4e1c3739fe {\n",
       "                    position: relative;\n",
       "                    width: 100.0%;\n",
       "                    height: 100.0%;\n",
       "                    left: 0.0%;\n",
       "                    top: 0.0%;\n",
       "                }\n",
       "                .leaflet-container { font-size: 1rem; }\n",
       "            &lt;/style&gt;\n",
       "\n",
       "            &lt;style&gt;html, body {\n",
       "                width: 100%;\n",
       "                height: 100%;\n",
       "                margin: 0;\n",
       "                padding: 0;\n",
       "            }\n",
       "            &lt;/style&gt;\n",
       "\n",
       "            &lt;style&gt;#map {\n",
       "                position:absolute;\n",
       "                top:0;\n",
       "                bottom:0;\n",
       "                right:0;\n",
       "                left:0;\n",
       "                }\n",
       "            &lt;/style&gt;\n",
       "\n",
       "            &lt;script&gt;\n",
       "                L_NO_TOUCH = false;\n",
       "                L_DISABLE_3D = false;\n",
       "            &lt;/script&gt;\n",
       "\n",
       "        \n",
       "    \n",
       "                    &lt;style&gt;\n",
       "                        .foliumtooltip {\n",
       "                            \n",
       "                        }\n",
       "                       .foliumtooltip table{\n",
       "                            margin: auto;\n",
       "                        }\n",
       "                        .foliumtooltip tr{\n",
       "                            text-align: left;\n",
       "                        }\n",
       "                        .foliumtooltip th{\n",
       "                            padding: 2px; padding-right: 8px;\n",
       "                        }\n",
       "                    &lt;/style&gt;\n",
       "            \n",
       "&lt;/head&gt;\n",
       "&lt;body&gt;\n",
       "    \n",
       "    \n",
       "            &lt;div class=&quot;folium-map&quot; id=&quot;map_a4fab07f1d3aada82e980e4e1c3739fe&quot; &gt;&lt;/div&gt;\n",
       "        \n",
       "&lt;/body&gt;\n",
       "&lt;script&gt;\n",
       "    \n",
       "    \n",
       "            var map_a4fab07f1d3aada82e980e4e1c3739fe = L.map(\n",
       "                &quot;map_a4fab07f1d3aada82e980e4e1c3739fe&quot;,\n",
       "                {\n",
       "                    center: [50.884764181063346, 7.562833649710531],\n",
       "                    crs: L.CRS.EPSG3857,\n",
       "                    ...{\n",
       "  &quot;zoom&quot;: 10,\n",
       "  &quot;zoomControl&quot;: true,\n",
       "  &quot;preferCanvas&quot;: false,\n",
       "}\n",
       "\n",
       "                }\n",
       "            );\n",
       "            L.control.scale().addTo(map_a4fab07f1d3aada82e980e4e1c3739fe);\n",
       "\n",
       "            \n",
       "\n",
       "        \n",
       "    \n",
       "            var tile_layer_76aea73db22784d10e58c351e4d2fc74 = L.tileLayer(\n",
       "                &quot;https://tile.openstreetmap.org/{z}/{x}/{y}.png&quot;,\n",
       "                {\n",
       "  &quot;minZoom&quot;: 0,\n",
       "  &quot;maxZoom&quot;: 19,\n",
       "  &quot;maxNativeZoom&quot;: 19,\n",
       "  &quot;noWrap&quot;: false,\n",
       "  &quot;attribution&quot;: &quot;\\u0026copy; \\u003ca href=\\&quot;https://www.openstreetmap.org/copyright\\&quot;\\u003eOpenStreetMap\\u003c/a\\u003e contributors&quot;,\n",
       "  &quot;subdomains&quot;: &quot;abc&quot;,\n",
       "  &quot;detectRetina&quot;: false,\n",
       "  &quot;tms&quot;: false,\n",
       "  &quot;opacity&quot;: 1,\n",
       "}\n",
       "\n",
       "            );\n",
       "        \n",
       "    \n",
       "            tile_layer_76aea73db22784d10e58c351e4d2fc74.addTo(map_a4fab07f1d3aada82e980e4e1c3739fe);\n",
       "        \n",
       "    \n",
       "            map_a4fab07f1d3aada82e980e4e1c3739fe.fitBounds(\n",
       "                [[50.79300417986502, 7.417774579393392], [50.97652418226166, 7.707892720027671]],\n",
       "                {}\n",
       "            );\n",
       "        \n",
       "    \n",
       "        function geo_json_af2dbacdbe3298e3968e78a3157acc36_styler(feature) {\n",
       "            switch(feature.id) {\n",
       "                default:\n",
       "                    return {&quot;fillOpacity&quot;: 0.5, &quot;weight&quot;: 2};\n",
       "            }\n",
       "        }\n",
       "        function geo_json_af2dbacdbe3298e3968e78a3157acc36_highlighter(feature) {\n",
       "            switch(feature.id) {\n",
       "                default:\n",
       "                    return {&quot;fillOpacity&quot;: 0.75};\n",
       "            }\n",
       "        }\n",
       "        function geo_json_af2dbacdbe3298e3968e78a3157acc36_pointToLayer(feature, latlng) {\n",
       "            var opts = {\n",
       "  &quot;stroke&quot;: true,\n",
       "  &quot;color&quot;: &quot;#3388ff&quot;,\n",
       "  &quot;weight&quot;: 3,\n",
       "  &quot;opacity&quot;: 1.0,\n",
       "  &quot;lineCap&quot;: &quot;round&quot;,\n",
       "  &quot;lineJoin&quot;: &quot;round&quot;,\n",
       "  &quot;dashArray&quot;: null,\n",
       "  &quot;dashOffset&quot;: null,\n",
       "  &quot;fill&quot;: true,\n",
       "  &quot;fillColor&quot;: &quot;#3388ff&quot;,\n",
       "  &quot;fillOpacity&quot;: 0.2,\n",
       "  &quot;fillRule&quot;: &quot;evenodd&quot;,\n",
       "  &quot;bubblingMouseEvents&quot;: true,\n",
       "  &quot;radius&quot;: 2,\n",
       "};\n",
       "            \n",
       "            let style = geo_json_af2dbacdbe3298e3968e78a3157acc36_styler(feature)\n",
       "            Object.assign(opts, style)\n",
       "            \n",
       "            return new L.CircleMarker(latlng, opts)\n",
       "        }\n",
       "\n",
       "        function geo_json_af2dbacdbe3298e3968e78a3157acc36_onEachFeature(feature, layer) {\n",
       "\n",
       "            layer.on({\n",
       "                mouseout: function(e) {\n",
       "                    if(typeof e.target.setStyle === &quot;function&quot;){\n",
       "                            geo_json_af2dbacdbe3298e3968e78a3157acc36.resetStyle(e.target);\n",
       "                    }\n",
       "                },\n",
       "                mouseover: function(e) {\n",
       "                    if(typeof e.target.setStyle === &quot;function&quot;){\n",
       "                        const highlightStyle = geo_json_af2dbacdbe3298e3968e78a3157acc36_highlighter(e.target.feature)\n",
       "                        e.target.setStyle(highlightStyle);\n",
       "                    }\n",
       "                },\n",
       "            });\n",
       "        };\n",
       "        var geo_json_af2dbacdbe3298e3968e78a3157acc36 = L.geoJson(null, {\n",
       "                onEachFeature: geo_json_af2dbacdbe3298e3968e78a3157acc36_onEachFeature,\n",
       "            \n",
       "                style: geo_json_af2dbacdbe3298e3968e78a3157acc36_styler,\n",
       "                pointToLayer: geo_json_af2dbacdbe3298e3968e78a3157acc36_pointToLayer,\n",
       "            ...{\n",
       "}\n",
       "        });\n",
       "\n",
       "        function geo_json_af2dbacdbe3298e3968e78a3157acc36_add (data) {\n",
       "            geo_json_af2dbacdbe3298e3968e78a3157acc36\n",
       "                .addData(data);\n",
       "        }\n",
       "            geo_json_af2dbacdbe3298e3968e78a3157acc36_add({&quot;bbox&quot;: [7.417774579393392, 50.79300417986502, 7.707892720027671, 50.97652418226166], &quot;features&quot;: [{&quot;bbox&quot;: [7.417774579393392, 50.79498670858723, 7.5625604604543915, 50.886661357633855], &quot;geometry&quot;: {&quot;coordinates&quot;: [[[7.417774579393392, 50.79679701802159], [7.4205021096316335, 50.886661357633855], [7.5625604604543915, 50.8848452285489], [7.559560528952593, 50.79498670858723], [7.417774579393392, 50.79679701802159]]], &quot;type&quot;: &quot;Polygon&quot;}, &quot;id&quot;: &quot;0&quot;, &quot;properties&quot;: {&quot;index&quot;: 0}, &quot;type&quot;: &quot;Feature&quot;}, {&quot;bbox&quot;: [7.559560528952593, 50.79300417986502, 7.704603488462562, 50.8848452285489], &quot;geometry&quot;: {&quot;coordinates&quot;: [[[7.559560528952593, 50.79498670858723], [7.5625604604543915, 50.8848452285489], [7.704603488462562, 50.88285633719514], [7.701331438033225, 50.79300417986502], [7.559560528952593, 50.79498670858723]]], &quot;type&quot;: &quot;Polygon&quot;}, &quot;id&quot;: &quot;1&quot;, &quot;properties&quot;: {&quot;index&quot;: 1}, &quot;type&quot;: &quot;Feature&quot;}, {&quot;bbox&quot;: [7.4205021096316335, 50.8848452285489, 7.565575999334988, 50.97652418226166], &quot;geometry&quot;: {&quot;coordinates&quot;: [[[7.4205021096316335, 50.886661357633855], [7.423243719134921, 50.97652418226166], [7.565575999334988, 50.97470220591383], [7.5625604604543915, 50.8848452285489], [7.4205021096316335, 50.886661357633855]]], &quot;type&quot;: &quot;Polygon&quot;}, &quot;id&quot;: &quot;2&quot;, &quot;properties&quot;: {&quot;index&quot;: 2}, &quot;type&quot;: &quot;Feature&quot;}, {&quot;bbox&quot;: [7.5625604604543915, 50.88285633719514, 7.707892720027671, 50.97470220591383], &quot;geometry&quot;: {&quot;coordinates&quot;: [[[7.5625604604543915, 50.8848452285489], [7.565575999334988, 50.97470220591383], [7.707892720027671, 50.972706917160295], [7.704603488462562, 50.88285633719514], [7.5625604604543915, 50.8848452285489]]], &quot;type&quot;: &quot;Polygon&quot;}, &quot;id&quot;: &quot;3&quot;, &quot;properties&quot;: {&quot;index&quot;: 3}, &quot;type&quot;: &quot;Feature&quot;}], &quot;type&quot;: &quot;FeatureCollection&quot;});\n",
       "\n",
       "        \n",
       "    \n",
       "    geo_json_af2dbacdbe3298e3968e78a3157acc36.bindTooltip(\n",
       "    function(layer){\n",
       "    let div = L.DomUtil.create(&#x27;div&#x27;);\n",
       "    \n",
       "    let handleObject = feature =&gt; {\n",
       "        if (feature === null) {\n",
       "            return &#x27;&#x27;;\n",
       "        } else if (typeof(feature)==&#x27;object&#x27;) {\n",
       "            return JSON.stringify(feature);\n",
       "        } else {\n",
       "            return feature;\n",
       "        }\n",
       "    }\n",
       "    let fields = [&quot;index&quot;];\n",
       "    let aliases = [&quot;index&quot;];\n",
       "    let table = &#x27;&lt;table&gt;&#x27; +\n",
       "        String(\n",
       "        fields.map(\n",
       "        (v,i)=&gt;\n",
       "        `&lt;tr&gt;\n",
       "            &lt;th&gt;${aliases[i]}&lt;/th&gt;\n",
       "            \n",
       "            &lt;td&gt;${handleObject(layer.feature.properties[v])}&lt;/td&gt;\n",
       "        &lt;/tr&gt;`).join(&#x27;&#x27;))\n",
       "    +&#x27;&lt;/table&gt;&#x27;;\n",
       "    div.innerHTML=table;\n",
       "    \n",
       "    return div\n",
       "    }\n",
       "    ,{\n",
       "  &quot;sticky&quot;: true,\n",
       "  &quot;className&quot;: &quot;foliumtooltip&quot;,\n",
       "});\n",
       "                     \n",
       "    \n",
       "            geo_json_af2dbacdbe3298e3968e78a3157acc36.addTo(map_a4fab07f1d3aada82e980e4e1c3739fe);\n",
       "        \n",
       "&lt;/script&gt;\n",
       "&lt;/html&gt;\" style=\"position:absolute;width:100%;height:100%;left:0;top:0;border:none !important;\" allowfullscreen webkitallowfullscreen mozallowfullscreen></iframe></div></div>"
      ],
      "text/plain": [
       "<folium.folium.Map at 0x7ff2ea6e4080>"
      ]
     },
     "execution_count": 5,
     "metadata": {},
     "output_type": "execute_result"
    }
   ],
   "source": [
    "poly.geo.explore()"
   ]
  },
  {
   "cell_type": "code",
   "execution_count": 6,
   "metadata": {
    "execution": {
     "iopub.execute_input": "2025-06-04T10:00:12.922558Z",
     "iopub.status.busy": "2025-06-04T10:00:12.922213Z",
     "iopub.status.idle": "2025-06-04T10:00:12.935770Z",
     "shell.execute_reply": "2025-06-04T10:00:12.935254Z"
    }
   },
   "outputs": [
    {
     "data": {
      "text/html": [
       "<div>\n",
       "<style scoped>\n",
       "    .dataframe tbody tr th:only-of-type {\n",
       "        vertical-align: middle;\n",
       "    }\n",
       "\n",
       "    .dataframe tbody tr th {\n",
       "        vertical-align: top;\n",
       "    }\n",
       "\n",
       "    .dataframe thead th {\n",
       "        text-align: right;\n",
       "    }\n",
       "</style>\n",
       "<table border=\"1\" class=\"dataframe\">\n",
       "  <thead>\n",
       "    <tr style=\"text-align: right;\">\n",
       "      <th></th>\n",
       "      <th>index</th>\n",
       "      <th>geometry</th>\n",
       "    </tr>\n",
       "  </thead>\n",
       "  <tbody>\n",
       "    <tr>\n",
       "      <th>0</th>\n",
       "      <td>0</td>\n",
       "      <td>POINT (2605000 5635000)</td>\n",
       "    </tr>\n",
       "    <tr>\n",
       "      <th>1</th>\n",
       "      <td>1</td>\n",
       "      <td>POINT (2615000 5635000)</td>\n",
       "    </tr>\n",
       "    <tr>\n",
       "      <th>2</th>\n",
       "      <td>2</td>\n",
       "      <td>POINT (2605000 5645000)</td>\n",
       "    </tr>\n",
       "  </tbody>\n",
       "</table>\n",
       "</div>"
      ],
      "text/plain": [
       "   index                 geometry\n",
       "0      0  POINT (2605000 5635000)\n",
       "1      1  POINT (2615000 5635000)\n",
       "2      2  POINT (2605000 5645000)"
      ]
     },
     "execution_count": 6,
     "metadata": {},
     "output_type": "execute_result"
    }
   ],
   "source": [
    "point.geo.loc[slice(0, 2)]"
   ]
  },
  {
   "cell_type": "code",
   "execution_count": 7,
   "metadata": {
    "execution": {
     "iopub.execute_input": "2025-06-04T10:00:12.937596Z",
     "iopub.status.busy": "2025-06-04T10:00:12.937203Z",
     "iopub.status.idle": "2025-06-04T10:00:12.943910Z",
     "shell.execute_reply": "2025-06-04T10:00:12.943473Z"
    }
   },
   "outputs": [
    {
     "data": {
      "text/html": [
       "<div>\n",
       "<style scoped>\n",
       "    .dataframe tbody tr th:only-of-type {\n",
       "        vertical-align: middle;\n",
       "    }\n",
       "\n",
       "    .dataframe tbody tr th {\n",
       "        vertical-align: top;\n",
       "    }\n",
       "\n",
       "    .dataframe thead th {\n",
       "        text-align: right;\n",
       "    }\n",
       "</style>\n",
       "<table border=\"1\" class=\"dataframe\">\n",
       "  <thead>\n",
       "    <tr style=\"text-align: right;\">\n",
       "      <th></th>\n",
       "      <th>index</th>\n",
       "      <th>geometry</th>\n",
       "    </tr>\n",
       "  </thead>\n",
       "  <tbody>\n",
       "    <tr>\n",
       "      <th>0</th>\n",
       "      <td>0</td>\n",
       "      <td>POINT (2605000 5635000)</td>\n",
       "    </tr>\n",
       "    <tr>\n",
       "      <th>1</th>\n",
       "      <td>1</td>\n",
       "      <td>POINT (2615000 5635000)</td>\n",
       "    </tr>\n",
       "    <tr>\n",
       "      <th>3</th>\n",
       "      <td>3</td>\n",
       "      <td>POINT (2615000 5645000)</td>\n",
       "    </tr>\n",
       "  </tbody>\n",
       "</table>\n",
       "</div>"
      ],
      "text/plain": [
       "   index                 geometry\n",
       "0      0  POINT (2605000 5635000)\n",
       "1      1  POINT (2615000 5635000)\n",
       "3      3  POINT (2615000 5645000)"
      ]
     },
     "execution_count": 7,
     "metadata": {},
     "output_type": "execute_result"
    }
   ],
   "source": [
    "point.geo.loc[[0, 1, 3]]"
   ]
  },
  {
   "cell_type": "code",
   "execution_count": 8,
   "metadata": {
    "execution": {
     "iopub.execute_input": "2025-06-04T10:00:12.945419Z",
     "iopub.status.busy": "2025-06-04T10:00:12.945247Z",
     "iopub.status.idle": "2025-06-04T10:00:12.951634Z",
     "shell.execute_reply": "2025-06-04T10:00:12.951190Z"
    }
   },
   "outputs": [
    {
     "data": {
      "text/html": [
       "<div>\n",
       "<style scoped>\n",
       "    .dataframe tbody tr th:only-of-type {\n",
       "        vertical-align: middle;\n",
       "    }\n",
       "\n",
       "    .dataframe tbody tr th {\n",
       "        vertical-align: top;\n",
       "    }\n",
       "\n",
       "    .dataframe thead th {\n",
       "        text-align: right;\n",
       "    }\n",
       "</style>\n",
       "<table border=\"1\" class=\"dataframe\">\n",
       "  <thead>\n",
       "    <tr style=\"text-align: right;\">\n",
       "      <th></th>\n",
       "      <th>index</th>\n",
       "      <th>geometry</th>\n",
       "    </tr>\n",
       "  </thead>\n",
       "  <tbody>\n",
       "    <tr>\n",
       "      <th>0</th>\n",
       "      <td>0</td>\n",
       "      <td>POINT (2605000 5635000)</td>\n",
       "    </tr>\n",
       "    <tr>\n",
       "      <th>2</th>\n",
       "      <td>2</td>\n",
       "      <td>POINT (2605000 5645000)</td>\n",
       "    </tr>\n",
       "  </tbody>\n",
       "</table>\n",
       "</div>"
      ],
      "text/plain": [
       "   index                 geometry\n",
       "0      0  POINT (2605000 5635000)\n",
       "2      2  POINT (2605000 5645000)"
      ]
     },
     "execution_count": 8,
     "metadata": {},
     "output_type": "execute_result"
    }
   ],
   "source": [
    "point.geo.query(\"index in (0, 2)\")"
   ]
  },
  {
   "cell_type": "code",
   "execution_count": 9,
   "metadata": {
    "execution": {
     "iopub.execute_input": "2025-06-04T10:00:12.953201Z",
     "iopub.status.busy": "2025-06-04T10:00:12.952851Z",
     "iopub.status.idle": "2025-06-04T10:00:13.087695Z",
     "shell.execute_reply": "2025-06-04T10:00:13.087155Z"
    }
   },
   "outputs": [
    {
     "data": {
      "text/plain": [
       "<Axes: >"
      ]
     },
     "execution_count": 9,
     "metadata": {},
     "output_type": "execute_result"
    },
    {
     "data": {
      "image/png": "[encoded data removed]",
      "text/plain": [
       "<Figure size 640x480 with 1 Axes>"
      ]
     },
     "metadata": {},
     "output_type": "display_data"
    }
   ],
   "source": [
    "fig = plt.figure()\n",
    "ax = fig.add_subplot(111)\n",
    "poly.geo.plot(column=\"index\", ax=ax)\n",
    "point.geo.plot(ax=ax)"
   ]
  },
  {
   "cell_type": "markdown",
   "metadata": {},
   "source": [
    "Now, with the DataSource being created, we can add/set attribute data of the features:"
   ]
  },
  {
   "cell_type": "code",
   "execution_count": 10,
   "metadata": {
    "execution": {
     "iopub.execute_input": "2025-06-04T10:00:13.089573Z",
     "iopub.status.busy": "2025-06-04T10:00:13.089158Z",
     "iopub.status.idle": "2025-06-04T10:00:13.093960Z",
     "shell.execute_reply": "2025-06-04T10:00:13.093396Z"
    }
   },
   "outputs": [],
   "source": [
    "# add attribute\n",
    "poly.set_attribute(\"mean\", np.array([10.1, 20.2, 30.3, 40.4]))\n",
    "point.set_attribute(\"mean\", np.array([10.1, 20.2, 30.3, 40.4]))"
   ]
  },
  {
   "cell_type": "markdown",
   "metadata": {},
   "source": [
    "Attributes associated with features can also be retrieved:"
   ]
  },
  {
   "cell_type": "code",
   "execution_count": 11,
   "metadata": {
    "execution": {
     "iopub.execute_input": "2025-06-04T10:00:13.095793Z",
     "iopub.status.busy": "2025-06-04T10:00:13.095589Z",
     "iopub.status.idle": "2025-06-04T10:00:13.099936Z",
     "shell.execute_reply": "2025-06-04T10:00:13.099408Z"
    }
   },
   "outputs": [
    {
     "name": "stdout",
     "output_type": "stream",
     "text": [
      "[[10.1, 20.2, 30.3, 40.4]]\n",
      "[[30.3]]\n"
     ]
    }
   ],
   "source": [
    "# get attributes\n",
    "print(poly.get_attributes([\"mean\"]))\n",
    "# get attributes filtered\n",
    "print(poly.get_attributes([\"mean\"], filt=(\"index\", 2)))"
   ]
  },
  {
   "cell_type": "markdown",
   "metadata": {},
   "source": [
    "Currently data can also be retrieved by:\n",
    "\n",
    "- index - [wradlib.io.gdal.VectorSource.get_data_by_idx()](https://docs.wradlib.org/en/latest/generated/wradlib.io.gdal.VectorSource.get_data_by_idx.html),\n",
    "- attribute - [wradlib.io.gdal.VectorSource.get_data_by_att()](https://docs.wradlib.org/en/latest/generated/wradlib.io.gdal.VectorSource.get_data_by_att.html) and\n",
    "- geometry - [wradlib.io.gdal.VectorSourcee.get_data_by_geom()](https://docs.wradlib.org/en/latest/generated/wradlib.io.gdal.VectorSource.get_data_by_geom.html)."
   ]
  },
  {
   "cell_type": "markdown",
   "metadata": {},
   "source": [
    "Using the property `mode` the output type can be set permanently."
   ]
  },
  {
   "cell_type": "markdown",
   "metadata": {},
   "source": [
    "### get_data_by_idx"
   ]
  },
  {
   "cell_type": "code",
   "execution_count": 12,
   "metadata": {
    "execution": {
     "iopub.execute_input": "2025-06-04T10:00:13.101896Z",
     "iopub.status.busy": "2025-06-04T10:00:13.101500Z",
     "iopub.status.idle": "2025-06-04T10:00:13.105973Z",
     "shell.execute_reply": "2025-06-04T10:00:13.105483Z"
    }
   },
   "outputs": [
    {
     "data": {
      "text/plain": [
       "array([[2605000.0, 5635000.0],\n",
       "       [2605000.0, 5645000.0]], dtype=object)"
      ]
     },
     "execution_count": 12,
     "metadata": {},
     "output_type": "execute_result"
    }
   ],
   "source": [
    "point.get_data_by_idx([0, 2])"
   ]
  },
  {
   "cell_type": "code",
   "execution_count": 13,
   "metadata": {
    "execution": {
     "iopub.execute_input": "2025-06-04T10:00:13.107738Z",
     "iopub.status.busy": "2025-06-04T10:00:13.107577Z",
     "iopub.status.idle": "2025-06-04T10:00:13.120969Z",
     "shell.execute_reply": "2025-06-04T10:00:13.120472Z"
    }
   },
   "outputs": [
    {
     "data": {
      "text/html": [
       "<div>\n",
       "<style scoped>\n",
       "    .dataframe tbody tr th:only-of-type {\n",
       "        vertical-align: middle;\n",
       "    }\n",
       "\n",
       "    .dataframe tbody tr th {\n",
       "        vertical-align: top;\n",
       "    }\n",
       "\n",
       "    .dataframe thead th {\n",
       "        text-align: right;\n",
       "    }\n",
       "</style>\n",
       "<table border=\"1\" class=\"dataframe\">\n",
       "  <thead>\n",
       "    <tr style=\"text-align: right;\">\n",
       "      <th></th>\n",
       "      <th>index</th>\n",
       "      <th>mean</th>\n",
       "      <th>geometry</th>\n",
       "    </tr>\n",
       "  </thead>\n",
       "  <tbody>\n",
       "    <tr>\n",
       "      <th>0</th>\n",
       "      <td>0</td>\n",
       "      <td>10.1</td>\n",
       "      <td>POINT (2605000 5635000)</td>\n",
       "    </tr>\n",
       "    <tr>\n",
       "      <th>2</th>\n",
       "      <td>2</td>\n",
       "      <td>30.3</td>\n",
       "      <td>POINT (2605000 5645000)</td>\n",
       "    </tr>\n",
       "  </tbody>\n",
       "</table>\n",
       "</div>"
      ],
      "text/plain": [
       "   index  mean                 geometry\n",
       "0      0  10.1  POINT (2605000 5635000)\n",
       "2      2  30.3  POINT (2605000 5645000)"
      ]
     },
     "execution_count": 13,
     "metadata": {},
     "output_type": "execute_result"
    }
   ],
   "source": [
    "point.get_data_by_idx([0, 2], mode=\"geo\")"
   ]
  },
  {
   "cell_type": "markdown",
   "metadata": {},
   "source": [
    "### get_data_by_att"
   ]
  },
  {
   "cell_type": "code",
   "execution_count": 14,
   "metadata": {
    "execution": {
     "iopub.execute_input": "2025-06-04T10:00:13.122615Z",
     "iopub.status.busy": "2025-06-04T10:00:13.122414Z",
     "iopub.status.idle": "2025-06-04T10:00:13.126378Z",
     "shell.execute_reply": "2025-06-04T10:00:13.126000Z"
    }
   },
   "outputs": [
    {
     "data": {
      "text/plain": [
       "array([[2605000.0, 5635000.0],\n",
       "       [2605000.0, 5645000.0]], dtype=object)"
      ]
     },
     "execution_count": 14,
     "metadata": {},
     "output_type": "execute_result"
    }
   ],
   "source": [
    "point.get_data_by_att(\"index\", [0, 2])"
   ]
  },
  {
   "cell_type": "code",
   "execution_count": 15,
   "metadata": {
    "execution": {
     "iopub.execute_input": "2025-06-04T10:00:13.127797Z",
     "iopub.status.busy": "2025-06-04T10:00:13.127631Z",
     "iopub.status.idle": "2025-06-04T10:00:13.134976Z",
     "shell.execute_reply": "2025-06-04T10:00:13.134581Z"
    }
   },
   "outputs": [
    {
     "data": {
      "text/html": [
       "<div>\n",
       "<style scoped>\n",
       "    .dataframe tbody tr th:only-of-type {\n",
       "        vertical-align: middle;\n",
       "    }\n",
       "\n",
       "    .dataframe tbody tr th {\n",
       "        vertical-align: top;\n",
       "    }\n",
       "\n",
       "    .dataframe thead th {\n",
       "        text-align: right;\n",
       "    }\n",
       "</style>\n",
       "<table border=\"1\" class=\"dataframe\">\n",
       "  <thead>\n",
       "    <tr style=\"text-align: right;\">\n",
       "      <th></th>\n",
       "      <th>index</th>\n",
       "      <th>mean</th>\n",
       "      <th>geometry</th>\n",
       "    </tr>\n",
       "  </thead>\n",
       "  <tbody>\n",
       "    <tr>\n",
       "      <th>0</th>\n",
       "      <td>0</td>\n",
       "      <td>10.1</td>\n",
       "      <td>POINT (2605000 5635000)</td>\n",
       "    </tr>\n",
       "    <tr>\n",
       "      <th>2</th>\n",
       "      <td>2</td>\n",
       "      <td>30.3</td>\n",
       "      <td>POINT (2605000 5645000)</td>\n",
       "    </tr>\n",
       "  </tbody>\n",
       "</table>\n",
       "</div>"
      ],
      "text/plain": [
       "   index  mean                 geometry\n",
       "0      0  10.1  POINT (2605000 5635000)\n",
       "2      2  30.3  POINT (2605000 5645000)"
      ]
     },
     "execution_count": 15,
     "metadata": {},
     "output_type": "execute_result"
    }
   ],
   "source": [
    "point.get_data_by_att(\"index\", [0, 2], mode=\"geo\")"
   ]
  },
  {
   "cell_type": "markdown",
   "metadata": {},
   "source": [
    "### get_data_by_geom"
   ]
  },
  {
   "cell_type": "code",
   "execution_count": 16,
   "metadata": {
    "execution": {
     "iopub.execute_input": "2025-06-04T10:00:13.136376Z",
     "iopub.status.busy": "2025-06-04T10:00:13.136215Z",
     "iopub.status.idle": "2025-06-04T10:00:13.145127Z",
     "shell.execute_reply": "2025-06-04T10:00:13.144652Z"
    }
   },
   "outputs": [],
   "source": [
    "# get OGR.Geometry\n",
    "geom0 = poly.get_data_by_idx([0], mode=\"ogr\")[0]\n",
    "# get geopandas Geometry\n",
    "geom1 = poly.get_data_by_idx([0], mode=\"geo\")"
   ]
  },
  {
   "cell_type": "code",
   "execution_count": 17,
   "metadata": {
    "execution": {
     "iopub.execute_input": "2025-06-04T10:00:13.146604Z",
     "iopub.status.busy": "2025-06-04T10:00:13.146413Z",
     "iopub.status.idle": "2025-06-04T10:00:13.150083Z",
     "shell.execute_reply": "2025-06-04T10:00:13.149714Z"
    }
   },
   "outputs": [
    {
     "data": {
      "text/plain": [
       "array([[2605000.0, 5635000.0]], dtype=object)"
      ]
     },
     "execution_count": 17,
     "metadata": {},
     "output_type": "execute_result"
    }
   ],
   "source": [
    "point.get_data_by_geom(geom=geom0)"
   ]
  },
  {
   "cell_type": "code",
   "execution_count": 18,
   "metadata": {
    "execution": {
     "iopub.execute_input": "2025-06-04T10:00:13.151601Z",
     "iopub.status.busy": "2025-06-04T10:00:13.151183Z",
     "iopub.status.idle": "2025-06-04T10:00:13.154774Z",
     "shell.execute_reply": "2025-06-04T10:00:13.154375Z"
    }
   },
   "outputs": [
    {
     "data": {
      "text/plain": [
       "array([<osgeo.ogr.Geometry; proxy of None >], dtype=object)"
      ]
     },
     "execution_count": 18,
     "metadata": {},
     "output_type": "execute_result"
    }
   ],
   "source": [
    "point.get_data_by_geom(geom=geom0, mode=\"ogr\")"
   ]
  },
  {
   "cell_type": "code",
   "execution_count": 19,
   "metadata": {
    "execution": {
     "iopub.execute_input": "2025-06-04T10:00:13.156214Z",
     "iopub.status.busy": "2025-06-04T10:00:13.155902Z",
     "iopub.status.idle": "2025-06-04T10:00:13.162037Z",
     "shell.execute_reply": "2025-06-04T10:00:13.161659Z"
    }
   },
   "outputs": [
    {
     "data": {
      "text/html": [
       "<div>\n",
       "<style scoped>\n",
       "    .dataframe tbody tr th:only-of-type {\n",
       "        vertical-align: middle;\n",
       "    }\n",
       "\n",
       "    .dataframe tbody tr th {\n",
       "        vertical-align: top;\n",
       "    }\n",
       "\n",
       "    .dataframe thead th {\n",
       "        text-align: right;\n",
       "    }\n",
       "</style>\n",
       "<table border=\"1\" class=\"dataframe\">\n",
       "  <thead>\n",
       "    <tr style=\"text-align: right;\">\n",
       "      <th></th>\n",
       "      <th>index</th>\n",
       "      <th>mean</th>\n",
       "      <th>geometry</th>\n",
       "    </tr>\n",
       "  </thead>\n",
       "  <tbody>\n",
       "    <tr>\n",
       "      <th>0</th>\n",
       "      <td>0</td>\n",
       "      <td>10.1</td>\n",
       "      <td>POINT (2605000 5635000)</td>\n",
       "    </tr>\n",
       "  </tbody>\n",
       "</table>\n",
       "</div>"
      ],
      "text/plain": [
       "   index  mean                 geometry\n",
       "0      0  10.1  POINT (2605000 5635000)"
      ]
     },
     "execution_count": 19,
     "metadata": {},
     "output_type": "execute_result"
    }
   ],
   "source": [
    "point.get_data_by_geom(geom=geom1, mode=\"geo\")"
   ]
  },
  {
   "cell_type": "markdown",
   "metadata": {},
   "source": [
    "Finally, we can export the contained data to OGR/GDAL supported [vector](https://gdal.org/ogr_formats.html) and [raster](https://gdal.org/formats_list.html) files:"
   ]
  },
  {
   "cell_type": "code",
   "execution_count": 20,
   "metadata": {
    "execution": {
     "iopub.execute_input": "2025-06-04T10:00:13.163537Z",
     "iopub.status.busy": "2025-06-04T10:00:13.163211Z",
     "iopub.status.idle": "2025-06-04T10:00:13.182918Z",
     "shell.execute_reply": "2025-06-04T10:00:13.182535Z"
    }
   },
   "outputs": [],
   "source": [
    "# dump as 'ESRI Shapefile', default\n",
    "poly.dump_vector(\"test_poly.shp\")\n",
    "point.dump_vector(\"test_point.shp\")\n",
    "# dump as 'GeoJSON'\n",
    "poly.dump_vector(\"test_poly.geojson\", driver=\"GeoJSON\")\n",
    "point.dump_vector(\"test_point.geojson\", driver=\"GeoJSON\")\n",
    "# dump as 'GTiff', default\n",
    "poly.dump_raster(\"test_poly_raster.tif\", attr=\"mean\", pixel_size=100.0)\n",
    "# dump as 'netCDF'\n",
    "poly.dump_raster(\"test_poly_raster.nc\", driver=\"netCDF\", attr=\"mean\", pixel_size=100.0)"
   ]
  },
  {
   "cell_type": "markdown",
   "metadata": {},
   "source": [
    "### reload geojson"
   ]
  },
  {
   "cell_type": "code",
   "execution_count": 21,
   "metadata": {
    "execution": {
     "iopub.execute_input": "2025-06-04T10:00:13.184302Z",
     "iopub.status.busy": "2025-06-04T10:00:13.184141Z",
     "iopub.status.idle": "2025-06-04T10:00:13.333795Z",
     "shell.execute_reply": "2025-06-04T10:00:13.333370Z"
    }
   },
   "outputs": [
    {
     "data": {
      "text/plain": [
       "<Axes: >"
      ]
     },
     "execution_count": 21,
     "metadata": {},
     "output_type": "execute_result"
    },
    {
     "data": {
      "image/png": "[encoded data removed]",
      "text/plain": [
       "<Figure size 640x480 with 1 Axes>"
      ]
     },
     "metadata": {},
     "output_type": "display_data"
    }
   ],
   "source": [
    "point2 = wrl.io.VectorSource(\"test_point.geojson\")\n",
    "poly2 = wrl.io.VectorSource(\"test_poly.geojson\")\n",
    "fig = plt.figure()\n",
    "ax = fig.add_subplot(111)\n",
    "poly2.geo.plot(column=\"index\", ax=ax)\n",
    "point2.geo.plot(ax=ax)"
   ]
  },
  {
   "cell_type": "markdown",
   "metadata": {},
   "source": [
    "### reload raster geotiff"
   ]
  },
  {
   "cell_type": "code",
   "execution_count": 22,
   "metadata": {
    "execution": {
     "iopub.execute_input": "2025-06-04T10:00:13.335352Z",
     "iopub.status.busy": "2025-06-04T10:00:13.335175Z",
     "iopub.status.idle": "2025-06-04T10:00:13.896613Z",
     "shell.execute_reply": "2025-06-04T10:00:13.896113Z"
    }
   },
   "outputs": [
    {
     "data": {
      "text/plain": [
       "<matplotlib.collections.QuadMesh at 0x7ff2dbe90320>"
      ]
     },
     "execution_count": 22,
     "metadata": {},
     "output_type": "execute_result"
    },
    {
     "data": {
      "image/png": "[encoded data removed]",
      "text/plain": [
       "<Figure size 640x480 with 2 Axes>"
      ]
     },
     "metadata": {},
     "output_type": "display_data"
    }
   ],
   "source": [
    "import xarray as xr\n",
    "\n",
    "ds = xr.open_dataset(\"test_poly_raster.tif\")\n",
    "ds.band_data[0].plot()"
   ]
  },
  {
   "cell_type": "markdown",
   "metadata": {},
   "source": [
    "### reload raster netcdf"
   ]
  },
  {
   "cell_type": "code",
   "execution_count": 23,
   "metadata": {
    "execution": {
     "iopub.execute_input": "2025-06-04T10:00:13.898603Z",
     "iopub.status.busy": "2025-06-04T10:00:13.898048Z",
     "iopub.status.idle": "2025-06-04T10:00:14.088555Z",
     "shell.execute_reply": "2025-06-04T10:00:14.087885Z"
    }
   },
   "outputs": [
    {
     "data": {
      "text/plain": [
       "<matplotlib.collections.QuadMesh at 0x7ff2db906330>"
      ]
     },
     "execution_count": 23,
     "metadata": {},
     "output_type": "execute_result"
    },
    {
     "data": {
      "image/png": "[encoded data removed]",
      "text/plain": [
       "<Figure size 640x480 with 2 Axes>"
      ]
     },
     "metadata": {},
     "output_type": "display_data"
    }
   ],
   "source": [
    "ds = xr.open_dataset(\"test_poly_raster.nc\")\n",
    "ds.Band1.plot()"
   ]
  }
 ],
 "metadata": {
  "celltoolbar": "Edit Metadata",
  "language_info": {
   "codemirror_mode": {
    "name": "ipython",
    "version": 3
   },
   "file_extension": ".py",
   "mimetype": "text/x-python",
   "name": "python",
   "nbconvert_exporter": "python",
   "pygments_lexer": "ipython3",
   "version": "3.12.10"
  },
  "toc": {
   "colors": {
    "hover_highlight": "#DAA520",
    "navigate_num": "#000000",
    "navigate_text": "#333333",
    "running_highlight": "#FF0000",
    "selected_highlight": "#FFD700",
    "sidebar_border": "#EEEEEE",
    "wrapper_background": "#FFFFFF"
   },
   "moveMenuLeft": true,
   "nav_menu": {
    "height": "105px",
    "width": "252px"
   },
   "navigate_menu": true,
   "number_sections": false,
   "sideBar": true,
   "threshold": 4,
   "toc_cell": false,
   "toc_section_display": "block",
   "toc_window_display": false,
   "widenNotebook": false
  }
 },
 "nbformat": 4,
 "nbformat_minor": 4
}
