{
 "cells": [
  {
   "cell_type": "markdown",
   "metadata": {
    "nbsphinx": "hidden"
   },
   "source": [
    "This notebook is part of the $\\omega radlib$ documentation: https://docs.wradlib.org.\n",
    "\n",
    "Copyright (c) $\\omega radlib$ developers.\n",
    "Distributed under the MIT License. See LICENSE.txt for more info."
   ]
  },
  {
   "cell_type": "markdown",
   "metadata": {},
   "source": [
    "# xarray powered Cf/Radial and ODIM_H5\n",
    "\n",
    "In this example, we read and write Cf/Radial (NetCDF) and ODIM_H5 (HDF5) data files from different sources using an xarray powered data structure.\n",
    "\n",
    "<div class=\"alert alert-warning\">\n",
    "\n",
    "**Note** <br>\n",
    "\n",
    "The following functionality is deprecated. Please use the [xarray backend loaders](wradlib_xarray_backends.ipynb) instead.\n",
    "    \n",
    "</div>"
   ]
  },
  {
   "cell_type": "code",
   "execution_count": null,
   "metadata": {},
   "outputs": [],
   "source": [
    "import wradlib as wrl\n",
    "import warnings\n",
    "\n",
    "warnings.filterwarnings(\"ignore\")\n",
    "import matplotlib.pyplot as pl\n",
    "import numpy as np\n",
    "import xarray as xr\n",
    "\n",
    "try:\n",
    "    get_ipython().run_line_magic(\"matplotlib inline\")\n",
    "except:\n",
    "    pl.ion()\n",
    "from wradlib.io.xarray_depr import CfRadial, OdimH5\n",
    "import tempfile"
   ]
  },
  {
   "cell_type": "markdown",
   "metadata": {},
   "source": [
    "## Load ODIM_H5 Volume Data"
   ]
  },
  {
   "cell_type": "code",
   "execution_count": null,
   "metadata": {},
   "outputs": [],
   "source": [
    "fpath = \"hdf5/knmi_polar_volume.h5\"\n",
    "f = wrl.util.get_wradlib_data_file(fpath)\n",
    "cf1 = OdimH5(f, standard=\"cf\", georef=True)"
   ]
  },
  {
   "cell_type": "markdown",
   "metadata": {},
   "source": [
    "### Inspect root group\n",
    "\n",
    "You can use the object dictionary using cf1['root'] or the `property` cf1.root.\n",
    "\n",
    "The `sweep` dimension contains the number of scans in this radar volume. Further the dataset consists of variables (location coordinates, time_coverage) and attributes (Conventions, metadata)."
   ]
  },
  {
   "cell_type": "code",
   "execution_count": null,
   "metadata": {},
   "outputs": [],
   "source": [
    "cf1.root"
   ]
  },
  {
   "cell_type": "markdown",
   "metadata": {},
   "source": [
    "### Inspect sweep group(s)\n",
    "\n",
    "The sweep-groups can be accessed via their respective keys. The dimensions consist of `range` and `time` with added coordinates `azimuth`, `elevation`, `range` and `time`. There will be variables like radar moments (DBZH etc.) and sweep-dependend metadata (like `fixed_angle`, `sweep_mode` etc.)."
   ]
  },
  {
   "cell_type": "code",
   "execution_count": null,
   "metadata": {},
   "outputs": [],
   "source": [
    "cf1[\"sweep_1\"]"
   ]
  },
  {
   "cell_type": "code",
   "execution_count": null,
   "metadata": {},
   "outputs": [],
   "source": [
    "cf1[\"sweep_1\"].DBZH"
   ]
  },
  {
   "cell_type": "markdown",
   "metadata": {},
   "source": [
    "### Plotting"
   ]
  },
  {
   "cell_type": "code",
   "execution_count": null,
   "metadata": {},
   "outputs": [],
   "source": [
    "cf1[\"sweep_1\"].DBZH.plot.pcolormesh(x=\"x\", y=\"y\")\n",
    "pl.gca().set_aspect(\"equal\")"
   ]
  },
  {
   "cell_type": "code",
   "execution_count": null,
   "metadata": {},
   "outputs": [],
   "source": [
    "fig = pl.figure(figsize=(10, 8))\n",
    "cf1[\"sweep_1\"].DBZH.sortby(\"azimuth\").wradlib.plot_ppi(proj=\"cg\", fig=fig)"
   ]
  },
  {
   "cell_type": "code",
   "execution_count": null,
   "metadata": {},
   "outputs": [],
   "source": [
    "import cartopy\n",
    "import cartopy.crs as ccrs\n",
    "import cartopy.feature as cfeature\n",
    "\n",
    "map_trans = ccrs.AzimuthalEquidistant(\n",
    "    central_latitude=cf1[\"sweep_1\"].latitude.values,\n",
    "    central_longitude=cf1[\"sweep_1\"].longitude.values,\n",
    ")"
   ]
  },
  {
   "cell_type": "code",
   "execution_count": null,
   "metadata": {},
   "outputs": [],
   "source": [
    "map_proj = ccrs.AzimuthalEquidistant(\n",
    "    central_latitude=cf1[\"sweep_1\"].latitude.values,\n",
    "    central_longitude=cf1[\"sweep_1\"].longitude.values,\n",
    ")\n",
    "pm = cf1[\"sweep_1\"].DBZH.wradlib.plot_ppi(proj=map_proj)\n",
    "ax = pl.gca()\n",
    "ax.gridlines(crs=map_proj)\n",
    "print(ax)"
   ]
  },
  {
   "cell_type": "code",
   "execution_count": null,
   "metadata": {},
   "outputs": [],
   "source": [
    "map_proj = ccrs.Mercator(central_longitude=cf1[\"sweep_1\"].longitude.values)\n",
    "fig = pl.figure(figsize=(10, 8))\n",
    "ax = fig.add_subplot(111, projection=map_proj)\n",
    "pm = cf1[\"sweep_1\"].DBZH.wradlib.plot_ppi(ax=ax)\n",
    "ax.gridlines(draw_labels=True)"
   ]
  },
  {
   "cell_type": "code",
   "execution_count": null,
   "metadata": {},
   "outputs": [],
   "source": [
    "import cartopy.feature as cfeature\n",
    "\n",
    "\n",
    "def plot_borders(ax):\n",
    "    borders = cfeature.NaturalEarthFeature(\n",
    "        category=\"physical\", name=\"coastline\", scale=\"10m\", facecolor=\"none\"\n",
    "    )\n",
    "    ax.add_feature(borders, edgecolor=\"black\", lw=2, zorder=4)\n",
    "\n",
    "\n",
    "map_proj = ccrs.Mercator(central_longitude=cf1[\"sweep_1\"].longitude.values)\n",
    "fig = pl.figure(figsize=(10, 8))\n",
    "ax = fig.add_subplot(111, projection=map_proj)\n",
    "\n",
    "DBZH = cf1[\"sweep_1\"].DBZH\n",
    "pm = DBZH.where(DBZH > 0).wradlib.plot_ppi(ax=ax)\n",
    "plot_borders(ax)\n",
    "ax.gridlines(draw_labels=True)"
   ]
  },
  {
   "cell_type": "code",
   "execution_count": null,
   "metadata": {},
   "outputs": [],
   "source": [
    "import matplotlib.path as mpath\n",
    "\n",
    "theta = np.linspace(0, 2 * np.pi, 100)\n",
    "center, radius = [0.5, 0.5], 0.5\n",
    "verts = np.vstack([np.sin(theta), np.cos(theta)]).T\n",
    "circle = mpath.Path(verts * radius + center)\n",
    "\n",
    "map_proj = ccrs.AzimuthalEquidistant(\n",
    "    central_latitude=cf1[\"sweep_1\"].latitude.values,\n",
    "    central_longitude=cf1[\"sweep_1\"].longitude.values,\n",
    ")\n",
    "fig = pl.figure(figsize=(10, 8))\n",
    "ax = fig.add_subplot(111, projection=map_proj)\n",
    "ax.set_boundary(circle, transform=ax.transAxes)\n",
    "\n",
    "pm = cf1[\"sweep_1\"].DBZH.wradlib.plot_ppi(proj=map_proj, ax=ax)\n",
    "ax = pl.gca()\n",
    "ax.gridlines(crs=map_proj)"
   ]
  },
  {
   "cell_type": "code",
   "execution_count": null,
   "metadata": {},
   "outputs": [],
   "source": [
    "fig = pl.figure(figsize=(10, 8))\n",
    "proj = ccrs.AzimuthalEquidistant(\n",
    "    central_latitude=cf1[\"sweep_1\"].latitude.values,\n",
    "    central_longitude=cf1[\"sweep_1\"].longitude.values,\n",
    ")\n",
    "ax = fig.add_subplot(111, projection=proj)\n",
    "pm = cf1[\"sweep_1\"].DBZH.wradlib.plot_ppi(ax=ax)\n",
    "ax.gridlines()"
   ]
  },
  {
   "cell_type": "code",
   "execution_count": null,
   "metadata": {},
   "outputs": [],
   "source": [
    "dbz = cf1[\"sweep_1\"]\n",
    "dbz.DBZH.wradlib.plot_ppi()"
   ]
  },
  {
   "cell_type": "markdown",
   "metadata": {},
   "source": [
    "### Inspect radar moments\n",
    "\n",
    "The dataarrays can be accessed by key or by attribute. Each dataarray has the datasets dimensions and coordinates of it's parent dataset. There are attributes connected which are defined by Cf/Radial and/or ODIM_H5 standard."
   ]
  },
  {
   "cell_type": "code",
   "execution_count": null,
   "metadata": {},
   "outputs": [],
   "source": [
    "cf1[\"sweep_1\"].DBZH"
   ]
  },
  {
   "cell_type": "code",
   "execution_count": null,
   "metadata": {},
   "outputs": [],
   "source": [
    "cf1[\"sweep_1\"]"
   ]
  },
  {
   "cell_type": "markdown",
   "metadata": {},
   "source": [
    "### Create simple plot\n",
    "\n",
    "Using xarray features a simple plot can be created like this. Note the `sortby('time')` method, which sorts the radials by time."
   ]
  },
  {
   "cell_type": "code",
   "execution_count": null,
   "metadata": {},
   "outputs": [],
   "source": [
    "cf1[\"sweep_1\"].DBZH.copy().sortby(\"time\").plot(add_labels=False)"
   ]
  },
  {
   "cell_type": "code",
   "execution_count": null,
   "metadata": {},
   "outputs": [],
   "source": [
    "pm = cf1[\"sweep_1\"].DBZH.wradlib.plot_ppi(proj={\"latmin\": 33e3})"
   ]
  },
  {
   "cell_type": "code",
   "execution_count": null,
   "metadata": {},
   "outputs": [],
   "source": [
    "h5_tempfile = tempfile.NamedTemporaryFile(suffix=\".h5\").name\n",
    "nc_tempfile = tempfile.NamedTemporaryFile(suffix=\".nc\").name\n",
    "cf1.to_odim(h5_tempfile)\n",
    "cf1.to_cfradial2(nc_tempfile)"
   ]
  },
  {
   "cell_type": "markdown",
   "metadata": {},
   "source": [
    "### Import again"
   ]
  },
  {
   "cell_type": "code",
   "execution_count": null,
   "metadata": {},
   "outputs": [],
   "source": [
    "cf1a = OdimH5(h5_tempfile, standard=\"cf\", georef=True)\n",
    "cf1b = CfRadial(nc_tempfile, georef=True)"
   ]
  },
  {
   "cell_type": "code",
   "execution_count": null,
   "metadata": {},
   "outputs": [],
   "source": [
    "cf1a[\"sweep_1\"]"
   ]
  },
  {
   "cell_type": "markdown",
   "metadata": {},
   "source": [
    "### Check equality"
   ]
  },
  {
   "cell_type": "code",
   "execution_count": null,
   "metadata": {},
   "outputs": [],
   "source": [
    "xr.testing.assert_equal(cf1.root, cf1a.root)\n",
    "xr.testing.assert_equal(cf1[\"sweep_1\"], cf1a[\"sweep_1\"].sortby(\"azimuth\"))\n",
    "xr.testing.assert_equal(cf1.root, cf1b.root)\n",
    "xr.testing.assert_allclose(cf1[\"sweep_1\"], cf1b[\"sweep_1\"].sortby(\"azimuth\"))"
   ]
  },
  {
   "cell_type": "markdown",
   "metadata": {},
   "source": [
    "### Mask some values"
   ]
  },
  {
   "cell_type": "code",
   "execution_count": null,
   "metadata": {},
   "outputs": [],
   "source": [
    "cf1[\"sweep_1\"][\"DBZH\"] = cf1[\"sweep_1\"][\"DBZH\"].where(cf1[\"sweep_1\"][\"DBZH\"] >= 0)\n",
    "cf1[\"sweep_1\"][\"DBZH\"].sortby(\"time\").plot()"
   ]
  },
  {
   "cell_type": "markdown",
   "metadata": {},
   "source": [
    "## Load Cf/Radial1 Volume Data"
   ]
  },
  {
   "cell_type": "code",
   "execution_count": null,
   "metadata": {},
   "outputs": [],
   "source": [
    "fpath = \"netcdf/cfrad.20080604_002217_000_SPOL_v36_SUR.nc\"\n",
    "f = wrl.util.get_wradlib_data_file(fpath)\n",
    "cf2 = CfRadial(f)  # , georef=True)"
   ]
  },
  {
   "cell_type": "markdown",
   "metadata": {},
   "source": [
    "### Fix duplicate rays"
   ]
  },
  {
   "cell_type": "code",
   "execution_count": null,
   "metadata": {},
   "outputs": [],
   "source": [
    "for i, key in enumerate(cf2):\n",
    "    num_rays = int(360 // cf2[key].azimuth.diff(\"time\").median())\n",
    "    start_rays = cf2[key].dims[\"time\"] - num_rays\n",
    "    cf2[key] = (\n",
    "        cf2[key].sortby(\"time\").isel(time=slice(start_rays, start_rays + num_rays))\n",
    "    )"
   ]
  },
  {
   "cell_type": "markdown",
   "metadata": {},
   "source": [
    "### Inspect root group"
   ]
  },
  {
   "cell_type": "code",
   "execution_count": null,
   "metadata": {},
   "outputs": [],
   "source": [
    "cf2.root"
   ]
  },
  {
   "cell_type": "markdown",
   "metadata": {},
   "source": [
    "### Inspect sweep group(s)"
   ]
  },
  {
   "cell_type": "code",
   "execution_count": null,
   "metadata": {},
   "outputs": [],
   "source": [
    "cf2[\"sweep_1\"]"
   ]
  },
  {
   "cell_type": "markdown",
   "metadata": {},
   "source": [
    "### Inspect radar moments"
   ]
  },
  {
   "cell_type": "code",
   "execution_count": null,
   "metadata": {},
   "outputs": [],
   "source": [
    "cf2[\"sweep_1\"].DBZ"
   ]
  },
  {
   "cell_type": "markdown",
   "metadata": {},
   "source": [
    "### Create simple plot"
   ]
  },
  {
   "cell_type": "code",
   "execution_count": null,
   "metadata": {},
   "outputs": [],
   "source": [
    "cf2[\"sweep_1\"].DBZ.plot()"
   ]
  },
  {
   "cell_type": "code",
   "execution_count": null,
   "metadata": {},
   "outputs": [],
   "source": [
    "cf2[\"sweep_1\"].DBZ.pipe(wrl.georef.georeference_dataset).plot.pcolormesh(\n",
    "    x=\"x\", y=\"y\", add_labels=False\n",
    ")\n",
    "pl.gca().set_aspect(\"equal\")"
   ]
  },
  {
   "cell_type": "markdown",
   "metadata": {},
   "source": [
    "### Use wradlib DataArray connector"
   ]
  },
  {
   "cell_type": "code",
   "execution_count": null,
   "metadata": {},
   "outputs": [],
   "source": [
    "pm = cf2[\"sweep_1\"].DBZ.pipe(wrl.georef.georeference_dataset).wradlib.plot_ppi()"
   ]
  },
  {
   "cell_type": "code",
   "execution_count": null,
   "metadata": {},
   "outputs": [],
   "source": [
    "pm = (\n",
    "    cf2[\"sweep_1\"].DBZ.pipe(wrl.georef.georeference_dataset).wradlib.plot_ppi(proj=\"cg\")\n",
    ")"
   ]
  },
  {
   "cell_type": "markdown",
   "metadata": {},
   "source": [
    "### Export data to Cf/Radial2 and ODIM_H5"
   ]
  },
  {
   "cell_type": "code",
   "execution_count": null,
   "metadata": {},
   "outputs": [],
   "source": [
    "h5_tempfile = tempfile.NamedTemporaryFile(suffix=\".h5\").name\n",
    "nc_tempfile = tempfile.NamedTemporaryFile(suffix=\".nc\").name\n",
    "cf2.to_cfradial2(nc_tempfile)\n",
    "cf2.to_odim(h5_tempfile)"
   ]
  },
  {
   "cell_type": "code",
   "execution_count": null,
   "metadata": {},
   "outputs": [],
   "source": [
    "cf2[\"sweep_1\"]"
   ]
  },
  {
   "cell_type": "markdown",
   "metadata": {},
   "source": [
    "### Import again"
   ]
  },
  {
   "cell_type": "code",
   "execution_count": null,
   "metadata": {},
   "outputs": [],
   "source": [
    "cf2a = CfRadial(nc_tempfile)\n",
    "cf2b = OdimH5(h5_tempfile, standard=\"cf\")"
   ]
  },
  {
   "cell_type": "code",
   "execution_count": null,
   "metadata": {},
   "outputs": [],
   "source": [
    "cf2a[\"sweep_1\"].DBZ.pipe(wrl.georef.georeference_dataset).plot.pcolormesh(\n",
    "    x=\"x\", y=\"y\", add_labels=False\n",
    ")\n",
    "pl.gca().set_aspect(\"equal\")"
   ]
  },
  {
   "cell_type": "code",
   "execution_count": null,
   "metadata": {},
   "outputs": [],
   "source": [
    "cf2b[\"sweep_1\"].DBZ.pipe(wrl.georef.georeference_dataset).plot.pcolormesh(\n",
    "    x=\"x\", y=\"y\", add_labels=False\n",
    ")\n",
    "pl.gca().set_aspect(\"equal\")"
   ]
  },
  {
   "cell_type": "markdown",
   "metadata": {},
   "source": [
    "### Check equality\n",
    "\n",
    "For Cf/Radial there are issues with nan, which need to be fixed. For the ODIM_H5 intercomparison there are too problems with nan and issues with attributes."
   ]
  },
  {
   "cell_type": "code",
   "execution_count": null,
   "metadata": {},
   "outputs": [],
   "source": [
    "xr.testing.assert_equal(cf2.root, cf2a.root)\n",
    "xr.testing.assert_allclose(cf2[\"sweep_1\"], cf2a[\"sweep_1\"])\n",
    "xr.testing.assert_allclose(\n",
    "    cf2.root.drop_vars([\"volume_number\", \"status_xml\"]),\n",
    "    cf2b.root.drop_vars([\"volume_number\", \"status_xml\", \"altitude_agl\", \"frequency\"]),\n",
    ")\n",
    "drop = set(cf2[\"sweep_1\"]) ^ set(cf2b[\"sweep_1\"]) | set(\n",
    "    [\"prt_mode\", \"follow_mode\", \"time\"]\n",
    ")\n",
    "xr.testing.assert_allclose(\n",
    "    cf2[\"sweep_1\"].drop_vars(drop).sortby(\"azimuth\"),\n",
    "    cf2b[\"sweep_1\"].drop_vars(drop, errors=\"ignore\").sortby(\"azimuth\"),\n",
    ")"
   ]
  }
 ],
 "metadata": {
  "language_info": {
   "codemirror_mode": {
    "name": "ipython",
    "version": 3
   },
   "file_extension": ".py",
   "mimetype": "text/x-python",
   "name": "python",
   "nbconvert_exporter": "python",
   "pygments_lexer": "ipython3",
   "version": "3.10.5"
  }
 },
 "nbformat": 4,
 "nbformat_minor": 4
}
