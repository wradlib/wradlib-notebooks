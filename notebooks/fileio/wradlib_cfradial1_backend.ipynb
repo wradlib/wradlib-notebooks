{
 "cells": [
  {
   "cell_type": "markdown",
   "metadata": {
    "nbsphinx": "hidden"
   },
   "source": [
    "This notebook is part of the $\\omega radlib$ documentation: https://docs.wradlib.org.\n",
    "\n",
    "Copyright (c) $\\omega radlib$ developers.\n",
    "Distributed under the MIT License. See LICENSE.txt for more info."
   ]
  },
  {
   "cell_type": "markdown",
   "metadata": {},
   "source": [
    "# xarray CfRadial1 backend\n",
    "\n",
    "In this example, we read CfRadial1 data files using the `xradar` `cfradial1` backend.\n",
    "\n",
    "Data is also exported to ODIM_H5 and CfRadial2."
   ]
  },
  {
   "cell_type": "code",
   "execution_count": null,
   "metadata": {},
   "outputs": [],
   "source": [
    "import wradlib as wrl\n",
    "import warnings\n",
    "\n",
    "warnings.filterwarnings(\"ignore\")\n",
    "import matplotlib.pyplot as pl\n",
    "import numpy as np\n",
    "import xradar as xd\n",
    "import datatree as xt\n",
    "import xarray as xr\n",
    "\n",
    "try:\n",
    "    get_ipython().run_line_magic(\"matplotlib inline\")\n",
    "except:\n",
    "    pl.ion()"
   ]
  },
  {
   "cell_type": "markdown",
   "metadata": {},
   "source": [
    "## Load CfRadial1 Volume Data\n",
    "\n",
    "We use the functionality provided now by ``xradar`` to read the CfRadial1 data into a DataTree."
   ]
  },
  {
   "cell_type": "code",
   "execution_count": null,
   "metadata": {},
   "outputs": [],
   "source": [
    "fpath = \"netcdf/cfrad.20080604_002217_000_SPOL_v36_SUR.nc\"\n",
    "f = wrl.util.get_wradlib_data_file(fpath)\n",
    "vol = xd.io.open_cfradial1_datatree(f)"
   ]
  },
  {
   "cell_type": "markdown",
   "metadata": {},
   "source": [
    "### Inspect RadarVolume"
   ]
  },
  {
   "cell_type": "code",
   "execution_count": null,
   "metadata": {},
   "outputs": [],
   "source": [
    "display(vol)"
   ]
  },
  {
   "cell_type": "markdown",
   "metadata": {},
   "source": [
    "### Inspect root group\n",
    "\n",
    "The `sweep` dimension contains the number of scans in this radar volume. Further the dataset consists of variables (location coordinates, time_coverage) and attributes (Conventions, metadata)."
   ]
  },
  {
   "cell_type": "code",
   "execution_count": null,
   "metadata": {},
   "outputs": [],
   "source": [
    "vol.root"
   ]
  },
  {
   "cell_type": "markdown",
   "metadata": {},
   "source": [
    "### Inspect sweep group(s)\n",
    "\n",
    "The sweep-groups can be accessed via their respective keys. The dimensions consist of `range` and `time` with added coordinates `azimuth`, `elevation`, `range` and `time`. There will be variables like radar moments (DBZH etc.) and sweep-dependend metadata (like `fixed_angle`, `sweep_mode` etc.)."
   ]
  },
  {
   "cell_type": "code",
   "execution_count": null,
   "metadata": {},
   "outputs": [],
   "source": [
    "display(vol[\"sweep_0\"])"
   ]
  },
  {
   "cell_type": "markdown",
   "metadata": {},
   "source": [
    "### Georeferencing\n",
    "\n",
    "``sweep_mode`` is assigned coordinate, as we need it available on the DataArray. We have to properly decode it too."
   ]
  },
  {
   "cell_type": "code",
   "execution_count": null,
   "metadata": {},
   "outputs": [],
   "source": [
    "swp = vol[\"sweep_0\"].ds\n",
    "swp = swp.assign_coords(sweep_mode=swp.sweep_mode)\n",
    "swp[\"sweep_mode\"].data = swp[\"sweep_mode\"].item().decode()\n",
    "swp = swp.pipe(wrl.georef.georeference_dataset)\n",
    "display(swp)"
   ]
  },
  {
   "cell_type": "markdown",
   "metadata": {},
   "source": [
    "### Plotting"
   ]
  },
  {
   "cell_type": "code",
   "execution_count": null,
   "metadata": {},
   "outputs": [],
   "source": [
    "swp.DBZ.plot.pcolormesh(x=\"x\", y=\"y\")\n",
    "pl.gca().set_aspect(\"equal\")"
   ]
  },
  {
   "cell_type": "code",
   "execution_count": null,
   "metadata": {},
   "outputs": [],
   "source": [
    "fig = pl.figure(figsize=(10, 10))\n",
    "swp.DBZ.wrl.vis.plot(proj=\"cg\", fig=fig)"
   ]
  },
  {
   "cell_type": "code",
   "execution_count": null,
   "metadata": {},
   "outputs": [],
   "source": [
    "import cartopy\n",
    "import cartopy.crs as ccrs\n",
    "import cartopy.feature as cfeature\n",
    "\n",
    "map_trans = ccrs.AzimuthalEquidistant(\n",
    "    central_latitude=swp.latitude.values, central_longitude=swp.longitude.values\n",
    ")"
   ]
  },
  {
   "cell_type": "code",
   "execution_count": null,
   "metadata": {},
   "outputs": [],
   "source": [
    "map_proj = ccrs.AzimuthalEquidistant(\n",
    "    central_latitude=swp.latitude.values, central_longitude=swp.longitude.values\n",
    ")\n",
    "pm = swp.DBZ.wrl.vis.plot(proj=map_proj)\n",
    "ax = pl.gca()\n",
    "ax.gridlines(crs=map_proj)\n",
    "print(ax)"
   ]
  },
  {
   "cell_type": "code",
   "execution_count": null,
   "metadata": {},
   "outputs": [],
   "source": [
    "map_proj = ccrs.Mercator(central_longitude=swp.longitude.values)\n",
    "fig = pl.figure(figsize=(10, 8))\n",
    "ax = fig.add_subplot(111, projection=map_proj)\n",
    "pm = swp.DBZ.wrl.vis.plot(ax=ax)\n",
    "ax.gridlines(draw_labels=True)"
   ]
  },
  {
   "cell_type": "code",
   "execution_count": null,
   "metadata": {},
   "outputs": [],
   "source": [
    "import cartopy.feature as cfeature\n",
    "\n",
    "\n",
    "def plot_borders(ax):\n",
    "    borders = cfeature.NaturalEarthFeature(\n",
    "        category=\"physical\", name=\"coastline\", scale=\"10m\", facecolor=\"none\"\n",
    "    )\n",
    "    ax.add_feature(borders, edgecolor=\"black\", lw=2, zorder=4)\n",
    "\n",
    "\n",
    "map_proj = ccrs.Mercator(central_longitude=swp.longitude.values)\n",
    "fig = pl.figure(figsize=(10, 8))\n",
    "ax = fig.add_subplot(111, projection=map_proj)\n",
    "\n",
    "DBZ = swp.DBZ\n",
    "pm = DBZ.where(DBZ > 0).wrl.vis.plot(ax=ax)\n",
    "plot_borders(ax)\n",
    "ax.gridlines(draw_labels=True)"
   ]
  },
  {
   "cell_type": "code",
   "execution_count": null,
   "metadata": {},
   "outputs": [],
   "source": [
    "import matplotlib.path as mpath\n",
    "\n",
    "theta = np.linspace(0, 2 * np.pi, 100)\n",
    "center, radius = [0.5, 0.5], 0.5\n",
    "verts = np.vstack([np.sin(theta), np.cos(theta)]).T\n",
    "circle = mpath.Path(verts * radius + center)\n",
    "\n",
    "map_proj = ccrs.AzimuthalEquidistant(\n",
    "    central_latitude=swp.latitude.values,\n",
    "    central_longitude=swp.longitude.values,\n",
    ")\n",
    "fig = pl.figure(figsize=(10, 8))\n",
    "ax = fig.add_subplot(111, projection=map_proj)\n",
    "ax.set_boundary(circle, transform=ax.transAxes)\n",
    "\n",
    "pm = swp.DBZ.wrl.vis.plot(proj=map_proj, ax=ax)\n",
    "ax = pl.gca()\n",
    "ax.gridlines(crs=map_proj)"
   ]
  },
  {
   "cell_type": "code",
   "execution_count": null,
   "metadata": {},
   "outputs": [],
   "source": [
    "fig = pl.figure(figsize=(10, 8))\n",
    "proj = ccrs.AzimuthalEquidistant(\n",
    "    central_latitude=swp.latitude.values, central_longitude=swp.longitude.values\n",
    ")\n",
    "ax = fig.add_subplot(111, projection=proj)\n",
    "pm = swp.DBZ.wrl.vis.plot(ax=ax)\n",
    "ax.gridlines()"
   ]
  },
  {
   "cell_type": "code",
   "execution_count": null,
   "metadata": {},
   "outputs": [],
   "source": [
    "swp.DBZ.wrl.vis.plot()"
   ]
  },
  {
   "cell_type": "markdown",
   "metadata": {},
   "source": [
    "### Inspect radar moments\n",
    "\n",
    "The DataArrays can be accessed by key or by attribute. Each DataArray has dimensions and coordinates of it's parent dataset. There are attributes connected which are defined by Cf/Radial standard."
   ]
  },
  {
   "cell_type": "code",
   "execution_count": null,
   "metadata": {},
   "outputs": [],
   "source": [
    "display(swp.DBZ)"
   ]
  },
  {
   "cell_type": "markdown",
   "metadata": {},
   "source": [
    "### Create simple plot\n",
    "\n",
    "Using xarray features a simple plot can be created like this. Note the `sortby('time')` method, which sorts the radials by time."
   ]
  },
  {
   "cell_type": "code",
   "execution_count": null,
   "metadata": {},
   "outputs": [],
   "source": [
    "swp.DBZ.sortby(\"time\").plot(x=\"range\", y=\"time\", add_labels=False)"
   ]
  },
  {
   "cell_type": "code",
   "execution_count": null,
   "metadata": {},
   "outputs": [],
   "source": [
    "fig = pl.figure(figsize=(5, 5))\n",
    "pm = swp.DBZ.wrl.vis.plot(proj={\"latmin\": 33e3}, fig=fig)"
   ]
  },
  {
   "cell_type": "markdown",
   "metadata": {},
   "source": [
    "### Mask some values"
   ]
  },
  {
   "cell_type": "code",
   "execution_count": null,
   "metadata": {},
   "outputs": [],
   "source": [
    "swp[\"DBZ\"] = swp[\"DBZ\"].where(swp[\"DBZ\"] >= 0)\n",
    "swp[\"DBZ\"].plot()"
   ]
  },
  {
   "cell_type": "markdown",
   "metadata": {},
   "source": [
    "### Export to ODIM and CfRadial2\n",
    "\n",
    "There are some slight issues with xradar v0.1.0, so we need to remove non-sweep groups before export."
   ]
  },
  {
   "cell_type": "code",
   "execution_count": null,
   "metadata": {},
   "outputs": [],
   "source": [
    "for k in vol.groups[1:]:\n",
    "    if \"sweep\" not in k:\n",
    "        print(k)\n",
    "        del vol[k[1:]]"
   ]
  },
  {
   "cell_type": "code",
   "execution_count": null,
   "metadata": {},
   "outputs": [],
   "source": [
    "xd.io.to_odim(vol, \"cfradial1_as_odim.h5\")"
   ]
  },
  {
   "cell_type": "code",
   "execution_count": null,
   "metadata": {},
   "outputs": [],
   "source": [
    "xd.io.to_cfradial2(vol, \"cfradial1_as_cfradial2.nc\")"
   ]
  },
  {
   "cell_type": "markdown",
   "metadata": {},
   "source": [
    "### Import again\n",
    "\n",
    "xradar doesn't have a special `open_cfradial2_datatree` function, using `datatree.open_datatree` instead."
   ]
  },
  {
   "cell_type": "code",
   "execution_count": null,
   "metadata": {},
   "outputs": [],
   "source": [
    "vola = xd.io.open_odim_datatree(\"cfradial1_as_odim.h5\", first_dim=\"time\")\n",
    "display(vola)"
   ]
  },
  {
   "cell_type": "code",
   "execution_count": null,
   "metadata": {},
   "outputs": [],
   "source": [
    "volb = xt.open_datatree(\"cfradial1_as_cfradial2.nc\")\n",
    "display(volb)"
   ]
  },
  {
   "cell_type": "code",
   "execution_count": null,
   "metadata": {},
   "outputs": [],
   "source": [
    "xr.testing.assert_allclose(vol.root.ds, volb.root.ds)"
   ]
  },
  {
   "cell_type": "markdown",
   "metadata": {},
   "source": [
    "## More CfRadial1 loading mechanisms"
   ]
  },
  {
   "cell_type": "markdown",
   "metadata": {},
   "source": [
    "### Use `xr.open_dataset` to retrieve explicit group\n",
    "\n",
    "<div class=\"alert alert-warning\">\n",
    "\n",
    "**Warning** <br>\n",
    "    \n",
    "Since $\\omega radlib$ version 2.0 all xarray backend related functionality is imported from [xradar](https://github.com/openradar/xradar)-package.\n",
    "    \n",
    "</div>\n"
   ]
  },
  {
   "cell_type": "code",
   "execution_count": null,
   "metadata": {},
   "outputs": [],
   "source": [
    "swp_b = xr.open_dataset(\n",
    "    f, engine=\"cfradial1\", group=\"sweep_1\", backend_kwargs=dict(reindex_angle=False)\n",
    ")\n",
    "display(swp_b)"
   ]
  }
 ],
 "metadata": {
  "language_info": {
   "codemirror_mode": {
    "name": "ipython",
    "version": 3
   },
   "file_extension": ".py",
   "mimetype": "text/x-python",
   "name": "python",
   "nbconvert_exporter": "python",
   "pygments_lexer": "ipython3",
   "version": "3.10.9"
  }
 },
 "nbformat": 4,
 "nbformat_minor": 4
}
