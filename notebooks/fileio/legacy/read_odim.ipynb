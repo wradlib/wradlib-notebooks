{
 "cells": [
  {
   "cell_type": "markdown",
   "id": "131e39c6-b9b4-43a7-8db7-a06ca2b0b725",
   "metadata": {
    "nbsphinx": "hidden"
   },
   "source": [
    "This notebook is part of the $\\omega radlib$ documentation: https://docs.wradlib.org.\n",
    "\n",
    "Copyright (c) $\\omega radlib$ developers.\n",
    "Distributed under the MIT License. See LICENSE.txt for more info."
   ]
  },
  {
   "cell_type": "markdown",
   "id": "056ab6e7-d15d-4f8b-a9e0-1a7ffc315332",
   "metadata": {
    "slideshow": {
     "slide_type": "fragment"
    }
   },
   "source": [
    "### OPERA HDF5 (ODIM_H5)"
   ]
  },
  {
   "cell_type": "code",
   "execution_count": null,
   "id": "31e5b394-d82b-4b73-9f73-468029d7f111",
   "metadata": {},
   "outputs": [],
   "source": [
    "import wradlib as wrl\n",
    "import wradlib_data\n",
    "import matplotlib.pyplot as plt\n",
    "import numpy as np\n",
    "import warnings\n",
    "\n",
    "warnings.filterwarnings(\"ignore\")\n",
    "try:\n",
    "    get_ipython().run_line_magic(\"matplotlib inline\")\n",
    "except:\n",
    "    plt.ion()"
   ]
  },
  {
   "cell_type": "markdown",
   "id": "7d4aa2c7-3050-425c-b6d0-02ae04570ea8",
   "metadata": {
    "slideshow": {
     "slide_type": "skip"
    }
   },
   "source": [
    "[HDF5](https://www.hdfgroup.org/solutions/hdf5/) is a data model, library, and file format for storing and managing data. The [OPERA program](https://www.eumetnet.eu/activities/observations-programme/current-activities/opera/) developed a convention (or information model) on how to store and exchange radar data in hdf5 format. It is based on the work of [COST Action 717](https://www.cost.eu/actions/717/) and is used e.g. in real-time operations in the Nordic European countries. The OPERA Data and Information Model (ODIM) is documented [here under OPERA Publications](https://www.eumetnet.eu/activities/observations-programme/current-activities/opera/). Make use of these documents in order to understand the organization of OPERA hdf5 files!\n",
    "\n",
    "<div class=\"alert alert-warning\">\n",
    "\n",
    "**Note** <br>\n",
    "    \n",
    "For radar data in ODIM_H5 format the [openradar community](https://openradarscience.org/) published [xradar](https://docs.openradarscience.org/projects/xradar/en/latest/) where xarray-based readers/writers are implemented. That particular code was ported from $\\omega radlib$ to xradar. Please refer to xradar for enhancements for polar radar.    \n",
    "    \n",
    "From $\\omega radlib$ version 1.19 `ODIM_H5` reading code is imported from [xradar](https://github.com/openradar/xradar)-package whenever and wherever necessary.\n",
    "    \n",
    "Please read the more indepth notebook [odim_backend](../backends/odim_backend.ipynb).\n",
    "    \n",
    "</div>\n",
    "\n",
    "The hierarchical nature of HDF5 can be described as being similar to directories, files, and links on a hard-drive. Actual metadata are stored as so-called *attributes*, and these attributes are organized together in so-called *groups*. Binary data are stored as so-called *datasets*. As for ODIM_H5, the ``root`` (or top level) group contains three groups of metadata: these are called ``what`` (object, information model version, and date/time information), ``where`` (geographical information), and ``how`` (quality and optional/recommended metadata). For a very simple product, e.g. a CAPPI, the data is organized in a group called ``dataset1`` which contains another group called ``data1`` where the actual binary data are found in ``data``. In analogy with a file system on a hard-disk, the HDF5 file containing this simple product is organized like this:\n",
    "\n",
    "```\n",
    "    /\n",
    "    /what\n",
    "    /where\n",
    "    /how\n",
    "    /dataset1\n",
    "    /dataset1/data1\n",
    "    /dataset1/data1/data\n",
    "```\n",
    "\n",
    "The philosophy behind the $\\omega radlib$ interface to OPERA's data model is very straightforward: $\\omega radlib$ simply translates the complete file structure to *one* dictionary and returns this dictionary to the user. Thus, the potential complexity of the stored data is kept and it is left to the user how to proceed with this data. The keys of the output dictionary are strings that correspond to the \"directory trees\" shown above. Each key ending with ``/data`` points to a Dataset (i.e. a numpy array of data). Each key ending with ``/what``, ``/where`` or ``/how`` points to another dictionary of metadata. The entire output can be obtained by:"
   ]
  },
  {
   "cell_type": "code",
   "execution_count": null,
   "id": "530ed45d-c10c-4fcf-bc19-351604dbc518",
   "metadata": {
    "slideshow": {
     "slide_type": "fragment"
    }
   },
   "outputs": [],
   "source": [
    "fpath = \"hdf5/knmi_polar_volume.h5\"\n",
    "f = wradlib_data.DATASETS.fetch(fpath)\n",
    "fcontent = wrl.io.read_opera_hdf5(f)"
   ]
  },
  {
   "cell_type": "markdown",
   "id": "11689e1b-3cac-4eea-8c65-6725e2a00f0f",
   "metadata": {
    "slideshow": {
     "slide_type": "skip"
    }
   },
   "source": [
    "The user should inspect the output obtained from his or her hdf5 file in order to see how access those items which should be further processed. In order to get a readable overview of the output dictionary, one can use the pretty printing module:"
   ]
  },
  {
   "cell_type": "code",
   "execution_count": null,
   "id": "7d70a9d5-949d-464d-9574-8fda632f3899",
   "metadata": {
    "slideshow": {
     "slide_type": "fragment"
    }
   },
   "outputs": [],
   "source": [
    "# which keyswords can be used to access the content?\n",
    "print(fcontent.keys())\n",
    "# print the entire content including values of data and metadata\n",
    "# (numpy arrays will not be entirely printed)\n",
    "print(fcontent[\"dataset1/data1/data\"])"
   ]
  },
  {
   "cell_type": "markdown",
   "id": "0eb6ac04-12a6-48c1-9de1-25f591f932ea",
   "metadata": {
    "slideshow": {
     "slide_type": "skip"
    }
   },
   "source": [
    "Please note that in order to experiment with such datasets, you can download hdf5 sample data from the [OPERA](https://www.eumetnet.eu/activities/observations-programme/current-activities/opera/) or use the example data provided with the [wradlib-data](https://github.com/wradlib/wradlib-data/) repository."
   ]
  },
  {
   "cell_type": "code",
   "execution_count": null,
   "id": "74fe2c4d-8820-483e-944a-0b4bbe677590",
   "metadata": {
    "slideshow": {
     "slide_type": "subslide"
    }
   },
   "outputs": [],
   "source": [
    "fig = plt.figure(figsize=(10, 10))\n",
    "da = wrl.georef.create_xarray_dataarray(\n",
    "    fcontent[\"dataset1/data1/data\"]\n",
    ").wrl.georef.georeference()\n",
    "im = da.wrl.vis.plot(fig=fig, crs=\"cg\")"
   ]
  },
  {
   "cell_type": "code",
   "execution_count": null,
   "id": "11b089ae-a73c-43a6-8b83-37ffa3abff07",
   "metadata": {},
   "outputs": [],
   "source": []
  }
 ],
 "metadata": {
  "language_info": {
   "codemirror_mode": {
    "name": "ipython",
    "version": 3
   },
   "file_extension": ".py",
   "mimetype": "text/x-python",
   "name": "python",
   "nbconvert_exporter": "python",
   "pygments_lexer": "ipython3",
   "version": "3.11.0"
  }
 },
 "nbformat": 4,
 "nbformat_minor": 5
}
