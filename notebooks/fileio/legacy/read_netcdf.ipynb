{
 "cells": [
  {
   "cell_type": "markdown",
   "metadata": {
    "nbsphinx": "hidden"
   },
   "source": [
    "This notebook is part of the $\\omega radlib$ documentation: https://docs.wradlib.org.\n",
    "\n",
    "Copyright (c) $\\omega radlib$ developers.\n",
    "Distributed under the MIT License. See LICENSE.txt for more info."
   ]
  },
  {
   "cell_type": "markdown",
   "metadata": {},
   "source": [
    "# Reading NetCDF\n",
    "\n",
    "This reader utilizes [netCDF4-python](https://unidata.github.io/netcdf4-python/).\n",
    "\n",
    "In this example, we read NetCDF files from different sources using a generic reader from $\\omega radlib's$ io module."
   ]
  },
  {
   "cell_type": "code",
   "execution_count": 1,
   "metadata": {
    "execution": {
     "iopub.execute_input": "2023-11-16T15:06:19.513674Z",
     "iopub.status.busy": "2023-11-16T15:06:19.513149Z",
     "iopub.status.idle": "2023-11-16T15:06:21.281489Z",
     "shell.execute_reply": "2023-11-16T15:06:21.280763Z"
    }
   },
   "outputs": [
    {
     "name": "stdout",
     "output_type": "stream",
     "text": [
      "0.3.0\n"
     ]
    }
   ],
   "source": [
    "import wradlib as wrl\n",
    "from wradlib.io import read_generic_netcdf\n",
    "from wradlib.util import get_wradlib_data_file\n",
    "import os"
   ]
  },
  {
   "cell_type": "markdown",
   "metadata": {
    "slideshow": {
     "slide_type": "slide"
    }
   },
   "source": [
    "## NetCDF Format"
   ]
  },
  {
   "cell_type": "markdown",
   "metadata": {
    "slideshow": {
     "slide_type": "skip"
    }
   },
   "source": [
    "The NetCDF format also claims to be self-describing. However, as for all such formats, the developers of netCDF also admit that \"[...] the mere use of netCDF is not sufficient to make data self-describing and meaningful to both humans and machines [...]\" (see [here](https://www.unidata.ucar.edu/software/netcdf/conventions.html)). Different radar operators or data distributors will use different naming conventions and data hierarchies (i.e. \"data models\") that the reading program might need to know about.\n",
    "\n",
    "$\\omega radlib$ provides two solutions to address this challenge. The first one ignores the concept of data models and just pulls all data and metadata from a NetCDF file ([wradlib.io.read_generic_netcdf()](https://docs.wradlib.org/en/latest/generated/wradlib.io.netcdf.read_generic_netcdf.html). The second is designed for a specific data model used by the EDGE software ([wradlib.io.read_edge_netcdf()](https://docs.wradlib.org/en/latest/generated/wradlib.io.netcdf.read_edge_netcdf.html)).\n",
    "\n",
    "<div class=\"alert alert-warning\">\n",
    "\n",
    "**Note** <br>\n",
    "    \n",
    "For radar data in CfRadial1 or CfRadial2 format the [openradar community](https://openradarscience.org/) published [xradar](https://docs.openradarscience.org/projects/xradar/en/latest/) where xarray-based readers/writers are implemented. That particular code was ported from $\\omega radlib$ to xradar. Please refer to xradar for enhancements for polar radar.    \n",
    "    \n",
    "From $\\omega radlib$ version 1.19 `CfRadial` reading code is imported from [xradar](https://github.com/openradar/xradar)-package whenever and wherever necessary.\n",
    "    \n",
    "Please read the more indepth notebooks [cfradial1_backend](../backends/cfradial1_backend.ipynb) and [cfradial2_backend](../backends/cfradial2_backend.ipynb).\n",
    "    \n",
    "</div>"
   ]
  },
  {
   "cell_type": "markdown",
   "metadata": {
    "slideshow": {
     "slide_type": "fragment"
    }
   },
   "source": [
    "## Generic NetCDF reader (includes CfRadial)"
   ]
  },
  {
   "cell_type": "markdown",
   "metadata": {
    "slideshow": {
     "slide_type": "skip"
    }
   },
   "source": [
    "$\\omega radlib$ provides a function that will virtually read any NetCDF file irrespective of the data model: [wradlib.io.read_generic_netcdf()](https://docs.wradlib.org/en/latest/generated/wradlib.io.netcdf.read_generic_netcdf.html). It is built upon Python's [netcdf4](https://unidata.github.io/netcdf4-python/) library. [wradlib.io.read_generic_netcdf()](https://docs.wradlib.org/en/latest/generated/wradlib.io.netcdf.read_generic_netcdf.html) will return only one object, a dictionary, that contains all the contents of the NetCDF file corresponding to the original file structure. This includes all the metadata, as well as the so called \"dimensions\" (describing the dimensions of the actual data arrays) and the \"variables\" which will contains the actual data. Users can use this dictionary at will in order to query data and metadata; however, they should make sure to consider the documentation of the corresponding data model. [wradlib.io.read_generic_netcdf()](https://docs.wradlib.org/en/latest/generated/wradlib.io.netcdf.read_generic_netcdf.html) has been shown to work with a lot of different data models, most notably **CfRadial** (see [here](https://ncar.github.io/CfRadial/) for details). A typical call to [wradlib.io.read_generic_netcdf()](https://docs.wradlib.org/en/latest/generated/wradlib.io.netcdf.read_generic_netcdf.html) would look like:"
   ]
  },
  {
   "cell_type": "code",
   "execution_count": 2,
   "metadata": {
    "execution": {
     "iopub.execute_input": "2023-11-16T15:06:21.285243Z",
     "iopub.status.busy": "2023-11-16T15:06:21.284755Z",
     "iopub.status.idle": "2023-11-16T15:06:21.493656Z",
     "shell.execute_reply": "2023-11-16T15:06:21.492958Z"
    },
    "slideshow": {
     "slide_type": "fragment"
    }
   },
   "outputs": [
    {
     "name": "stderr",
     "output_type": "stream",
     "text": [
      "Downloading file 'netcdf/example_cfradial_ppi.nc' from 'https://github.com/wradlib/wradlib-data/raw/pooch/data/netcdf/example_cfradial_ppi.nc' to '/home/runner/work/wradlib/wradlib/wradlib-data'.\n"
     ]
    },
    {
     "name": "stdout",
     "output_type": "stream",
     "text": [
      "comment\n",
      "title\n",
      "Conventions\n",
      "source\n",
      "version\n",
      "references\n",
      "instrument_name\n",
      "institution\n",
      "field_names\n",
      "history\n",
      "dimensions\n",
      "variables\n"
     ]
    }
   ],
   "source": [
    "fpath = \"netcdf/example_cfradial_ppi.nc\"\n",
    "f = wrl.util.get_wradlib_data_file(fpath)\n",
    "outdict = wrl.io.read_generic_netcdf(f)\n",
    "for key in outdict.keys():\n",
    "    print(key)"
   ]
  },
  {
   "cell_type": "markdown",
   "metadata": {
    "slideshow": {
     "slide_type": "slide"
    }
   },
   "source": [
    "## EDGE NetCDF"
   ]
  },
  {
   "cell_type": "markdown",
   "metadata": {
    "slideshow": {
     "slide_type": "skip"
    }
   },
   "source": [
    "EDGE is a commercial software for radar control and data analysis provided by the Enterprise Electronics Corporation. It allows for netCDF data export. The resulting files can be read by [wradlib.io.read_generic_netcdf()](https://docs.wradlib.org/en/latest/generated/wradlib.io.netcdf.read_generic_netcdf.html), but $\\omega radlib$ also provides a specific function,  [wradlib.io.read_edge_netcdf()](https://docs.wradlib.org/en/latest/generated/wradlib.io.netcdf.read_edge_netcdf.html) to return metadata and data as seperate objects:"
   ]
  },
  {
   "cell_type": "code",
   "execution_count": 3,
   "metadata": {
    "execution": {
     "iopub.execute_input": "2023-11-16T15:06:21.496985Z",
     "iopub.status.busy": "2023-11-16T15:06:21.496717Z",
     "iopub.status.idle": "2023-11-16T15:06:21.775329Z",
     "shell.execute_reply": "2023-11-16T15:06:21.774654Z"
    },
    "slideshow": {
     "slide_type": "fragment"
    }
   },
   "outputs": [
    {
     "name": "stderr",
     "output_type": "stream",
     "text": [
      "Downloading file 'netcdf/edge_netcdf.nc' from 'https://github.com/wradlib/wradlib-data/raw/pooch/data/netcdf/edge_netcdf.nc' to '/home/runner/work/wradlib/wradlib/wradlib-data'.\n"
     ]
    },
    {
     "name": "stdout",
     "output_type": "stream",
     "text": [
      "(360, 240)\n",
      "dict_keys(['TypeName', 'DataType', 'Latitude', 'Longitude', 'Height', 'FractionalTime', 'attributes', 'NyquistVelocity-unit', 'NyquistVelocity-value', 'vcp-unit', 'vcp-value', 'radarName-unit', 'radarName-value', 'ColorMap-unit', 'ColorMap-value', 'Elevation', 'ElevationUnits', 'MissingData', 'RangeFolded', 'RadarParameters', 'PRF-unit', 'PRF-value', 'PulseWidth-unit', 'PulseWidth-value', 'MaximumRange-unit', 'MaximumRange-value', 'ConversionPlugin', 'az', 'r', 'site', 'time', 'max_range'])\n"
     ]
    }
   ],
   "source": [
    "fpath = \"netcdf/edge_netcdf.nc\"\n",
    "f = wrl.util.get_wradlib_data_file(fpath)\n",
    "data, metadata = wrl.io.read_edge_netcdf(f)\n",
    "print(data.shape)\n",
    "print(metadata.keys())"
   ]
  },
  {
   "cell_type": "code",
   "execution_count": 4,
   "metadata": {
    "execution": {
     "iopub.execute_input": "2023-11-16T15:06:21.778566Z",
     "iopub.status.busy": "2023-11-16T15:06:21.778162Z",
     "iopub.status.idle": "2023-11-16T15:06:21.782376Z",
     "shell.execute_reply": "2023-11-16T15:06:21.781780Z"
    }
   },
   "outputs": [],
   "source": [
    "# A little helper function for repeated tasks\n",
    "def read_and_overview(filename):\n",
    "    \"\"\"Read NetCDF using read_generic_netcdf and print upper level dictionary keys\"\"\"\n",
    "    test = read_generic_netcdf(filename)\n",
    "    print(\"\\nPrint keys for file %s\" % os.path.basename(filename))\n",
    "    for key in test.keys():\n",
    "        print(\"\\t%s\" % key)"
   ]
  },
  {
   "cell_type": "markdown",
   "metadata": {},
   "source": [
    "## CfRadial example from S-Pol research radar TIMREX campaign\n",
    "\n",
    "See also: https://www.eol.ucar.edu/field_projects/timrex"
   ]
  },
  {
   "cell_type": "code",
   "execution_count": 5,
   "metadata": {
    "execution": {
     "iopub.execute_input": "2023-11-16T15:06:21.786161Z",
     "iopub.status.busy": "2023-11-16T15:06:21.785754Z",
     "iopub.status.idle": "2023-11-16T15:06:22.124866Z",
     "shell.execute_reply": "2023-11-16T15:06:22.124001Z"
    }
   },
   "outputs": [
    {
     "name": "stdout",
     "output_type": "stream",
     "text": [
      "\n",
      "Print keys for file cfrad.20080604_002217_000_SPOL_v36_SUR.nc\n",
      "\tConventions\n",
      "\tversion\n",
      "\ttitle\n",
      "\tinstitution\n",
      "\treferences\n",
      "\tsource\n",
      "\thistory\n",
      "\tcomment\n",
      "\tinstrument_name\n",
      "\tsite_name\n",
      "\tscan_name\n",
      "\tscan_id\n",
      "\tplatform_is_mobile\n",
      "\tn_gates_vary\n",
      "\tdimensions\n",
      "\tvariables\n"
     ]
    }
   ],
   "source": [
    "filename = \"netcdf/cfrad.20080604_002217_000_SPOL_v36_SUR.nc\"\n",
    "filename = get_wradlib_data_file(filename)\n",
    "read_and_overview(filename)"
   ]
  },
  {
   "cell_type": "markdown",
   "metadata": {},
   "source": [
    "## Example PPI from Py-ART repository\n",
    "\n",
    "See also: https://github.com/ARM-DOE/pyart/"
   ]
  },
  {
   "cell_type": "code",
   "execution_count": 6,
   "metadata": {
    "execution": {
     "iopub.execute_input": "2023-11-16T15:06:22.129209Z",
     "iopub.status.busy": "2023-11-16T15:06:22.128889Z",
     "iopub.status.idle": "2023-11-16T15:06:22.144750Z",
     "shell.execute_reply": "2023-11-16T15:06:22.144034Z"
    }
   },
   "outputs": [
    {
     "name": "stdout",
     "output_type": "stream",
     "text": [
      "\n",
      "Print keys for file example_cfradial_ppi.nc\n",
      "\tcomment\n",
      "\ttitle\n",
      "\tConventions\n",
      "\tsource\n",
      "\tversion\n",
      "\treferences\n",
      "\tinstrument_name\n",
      "\tinstitution\n",
      "\tfield_names\n",
      "\thistory\n",
      "\tdimensions\n",
      "\tvariables\n"
     ]
    }
   ],
   "source": [
    "filename = \"netcdf/example_cfradial_ppi.nc\"\n",
    "filename = get_wradlib_data_file(filename)\n",
    "read_and_overview(filename)"
   ]
  },
  {
   "cell_type": "markdown",
   "metadata": {},
   "source": [
    "## Example RHI from Py-ART repository\n",
    "See also: https://github.com/ARM-DOE/pyart/"
   ]
  },
  {
   "cell_type": "code",
   "execution_count": 7,
   "metadata": {
    "execution": {
     "iopub.execute_input": "2023-11-16T15:06:22.148561Z",
     "iopub.status.busy": "2023-11-16T15:06:22.148296Z",
     "iopub.status.idle": "2023-11-16T15:06:22.595759Z",
     "shell.execute_reply": "2023-11-16T15:06:22.595098Z"
    }
   },
   "outputs": [
    {
     "name": "stderr",
     "output_type": "stream",
     "text": [
      "Downloading file 'netcdf/example_cfradial_rhi.nc' from 'https://github.com/wradlib/wradlib-data/raw/pooch/data/netcdf/example_cfradial_rhi.nc' to '/home/runner/work/wradlib/wradlib/wradlib-data'.\n"
     ]
    },
    {
     "name": "stdout",
     "output_type": "stream",
     "text": [
      "\n",
      "Print keys for file example_cfradial_rhi.nc\n",
      "\tcomment\n",
      "\ttitle\n",
      "\tConventions\n",
      "\tsource\n",
      "\tversion\n",
      "\treferences\n",
      "\tinstrument_name\n",
      "\tinstitution\n",
      "\tfield_names\n",
      "\thistory\n",
      "\tdimensions\n",
      "\tvariables\n"
     ]
    }
   ],
   "source": [
    "filename = \"netcdf/example_cfradial_rhi.nc\"\n",
    "filename = get_wradlib_data_file(filename)\n",
    "read_and_overview(filename)"
   ]
  },
  {
   "cell_type": "markdown",
   "metadata": {},
   "source": [
    "## Example EDGE NetCDF export format"
   ]
  },
  {
   "cell_type": "code",
   "execution_count": 8,
   "metadata": {
    "execution": {
     "iopub.execute_input": "2023-11-16T15:06:22.599885Z",
     "iopub.status.busy": "2023-11-16T15:06:22.599464Z",
     "iopub.status.idle": "2023-11-16T15:06:22.605546Z",
     "shell.execute_reply": "2023-11-16T15:06:22.604934Z"
    }
   },
   "outputs": [
    {
     "name": "stdout",
     "output_type": "stream",
     "text": [
      "\n",
      "Print keys for file edge_netcdf.nc\n",
      "\tTypeName\n",
      "\tDataType\n",
      "\tLatitude\n",
      "\tLongitude\n",
      "\tHeight\n",
      "\tTime\n",
      "\tFractionalTime\n",
      "\tattributes\n",
      "\tNyquistVelocity-unit\n",
      "\tNyquistVelocity-value\n",
      "\tvcp-unit\n",
      "\tvcp-value\n",
      "\tradarName-unit\n",
      "\tradarName-value\n",
      "\tColorMap-unit\n",
      "\tColorMap-value\n",
      "\tElevation\n",
      "\tElevationUnits\n",
      "\tMissingData\n",
      "\tRangeFolded\n",
      "\tRadarParameters\n",
      "\tPRF-unit\n",
      "\tPRF-value\n",
      "\tPulseWidth-unit\n",
      "\tPulseWidth-value\n",
      "\tMaximumRange-unit\n",
      "\tMaximumRange-value\n",
      "\tConversionPlugin\n",
      "\tdimensions\n",
      "\tvariables\n"
     ]
    }
   ],
   "source": [
    "filename = \"netcdf/edge_netcdf.nc\"\n",
    "filename = get_wradlib_data_file(filename)\n",
    "read_and_overview(filename)"
   ]
  }
 ],
 "metadata": {
  "language_info": {
   "codemirror_mode": {
    "name": "ipython",
    "version": 3
   },
   "file_extension": ".py",
   "mimetype": "text/x-python",
   "name": "python",
   "nbconvert_exporter": "python",
   "pygments_lexer": "ipython3",
   "version": "3.11.6"
  },
  "toc": {
   "colors": {
    "hover_highlight": "#DAA520",
    "navigate_num": "#000000",
    "navigate_text": "#333333",
    "running_highlight": "#FF0000",
    "selected_highlight": "#FFD700",
    "sidebar_border": "#EEEEEE",
    "wrapper_background": "#FFFFFF"
   },
   "moveMenuLeft": true,
   "nav_menu": {
    "height": "121px",
    "width": "252px"
   },
   "navigate_menu": true,
   "number_sections": false,
   "sideBar": true,
   "threshold": 4,
   "toc_cell": false,
   "toc_section_display": "block",
   "toc_window_display": false,
   "widenNotebook": false
  }
 },
 "nbformat": 4,
 "nbformat_minor": 4
}
