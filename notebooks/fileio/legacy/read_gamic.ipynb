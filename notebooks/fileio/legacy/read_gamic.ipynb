{
 "cells": [
  {
   "cell_type": "markdown",
   "id": "58c3b804-207d-4553-bc71-32c71a215636",
   "metadata": {
    "nbsphinx": "hidden"
   },
   "source": [
    "This notebook is part of the $\\omega radlib$ documentation: https://docs.wradlib.org.\n",
    "\n",
    "Copyright (c) $\\omega radlib$ developers.\n",
    "Distributed under the MIT License. See LICENSE.txt for more info."
   ]
  },
  {
   "cell_type": "markdown",
   "id": "accf8983-0237-4a46-9952-38d8e413ebf1",
   "metadata": {
    "slideshow": {
     "slide_type": "slide"
    }
   },
   "source": [
    "### GAMIC HDF5"
   ]
  },
  {
   "cell_type": "code",
   "execution_count": null,
   "id": "273acd30-bb6c-4005-a8d4-bc079500bf2d",
   "metadata": {},
   "outputs": [],
   "source": [
    "import wradlib as wrl\n",
    "import wradlib_data\n",
    "import matplotlib.pyplot as plt\n",
    "import numpy as np\n",
    "import warnings\n",
    "\n",
    "warnings.filterwarnings(\"ignore\")\n",
    "try:\n",
    "    get_ipython().run_line_magic(\"matplotlib inline\")\n",
    "except:\n",
    "    plt.ion()"
   ]
  },
  {
   "cell_type": "markdown",
   "id": "37c92691-012a-413c-a15c-516dbe73b32d",
   "metadata": {
    "slideshow": {
     "slide_type": "skip"
    }
   },
   "source": [
    "GAMIC refers to the commercial [GAMIC Enigma MURAN software](https://www.gamic.com) which exports data in hdf5 format. The concept is quite similar to the [OPERA HDF5 (ODIM_H5)](read_odim.ipynb#OPERA-HDF5-(ODIM_H5)) format. \n",
    "\n",
    "<div class=\"alert alert-warning\">\n",
    "\n",
    "**Note** <br>\n",
    "    \n",
    "For radar data in GAMIC HDF5 format the [openradar community](https://openradarscience.org/) published [xradar](https://docs.openradarscience.org/projects/xradar/en/latest/) where xarray-based readers/writers are implemented. That particular code was ported from $\\omega radlib$ to xradar. Please refer to xradar for enhancements for polar radar.    \n",
    "    \n",
    "From $\\omega radlib$ version 1.19 `GAMIC HDF5` reading code is imported from [xradar](https://github.com/openradar/xradar)-package whenever and wherever necessary.\n",
    "    \n",
    "Please read the more indepth notebook [gamic_backend](../backends/gamic_backend.ipynb).\n",
    "    \n",
    "</div>\n",
    "\n",
    "Such a file (typical ending: *.mvol*) can be read by:"
   ]
  },
  {
   "cell_type": "code",
   "execution_count": null,
   "id": "f529a3aa-661a-48b4-a64e-e476438bcfbb",
   "metadata": {
    "slideshow": {
     "slide_type": "fragment"
    }
   },
   "outputs": [],
   "source": [
    "fpath = \"hdf5/2014-08-10--182000.ppi.mvol\"\n",
    "f = wradlib_data.DATASETS.fetch(fpath)\n",
    "data, metadata = wrl.io.read_gamic_hdf5(f)"
   ]
  },
  {
   "cell_type": "markdown",
   "id": "3808e7a3-a8cc-44dd-8812-03ccad37d926",
   "metadata": {
    "slideshow": {
     "slide_type": "skip"
    }
   },
   "source": [
    "While metadata represents the usual dictionary of metadata, the data variable is a dictionary which might contain several numpy arrays with the keywords of the dictionary indicating different moments."
   ]
  },
  {
   "cell_type": "code",
   "execution_count": null,
   "id": "bae34c98-34c7-4c79-888a-735a24facecf",
   "metadata": {
    "slideshow": {
     "slide_type": "fragment"
    }
   },
   "outputs": [],
   "source": [
    "print(metadata.keys())\n",
    "print(metadata[\"VOL\"])\n",
    "print(metadata[\"SCAN0\"].keys())"
   ]
  },
  {
   "cell_type": "code",
   "execution_count": null,
   "id": "9b192fca-d6b9-4eeb-bd80-8135a656e2b3",
   "metadata": {
    "slideshow": {
     "slide_type": "fragment"
    }
   },
   "outputs": [],
   "source": [
    "print(data[\"SCAN0\"].keys())\n",
    "print(data[\"SCAN0\"][\"PHIDP\"].keys())\n",
    "print(data[\"SCAN0\"][\"PHIDP\"][\"data\"].shape)"
   ]
  },
  {
   "cell_type": "code",
   "execution_count": null,
   "id": "56d21371-ae70-42a2-9e6a-6c65854c5f8f",
   "metadata": {
    "slideshow": {
     "slide_type": "subslide"
    }
   },
   "outputs": [],
   "source": [
    "fig = plt.figure(figsize=(10, 10))\n",
    "da = wrl.georef.create_xarray_dataarray(\n",
    "    data[\"SCAN0\"][\"ZH\"][\"data\"]\n",
    ").wrl.georef.georeference()\n",
    "im = da.wrl.vis.plot(fig=fig, crs=\"cg\")"
   ]
  },
  {
   "cell_type": "code",
   "execution_count": null,
   "id": "540110a3-2757-48db-8022-111959360360",
   "metadata": {},
   "outputs": [],
   "source": []
  }
 ],
 "metadata": {
  "language_info": {
   "codemirror_mode": {
    "name": "ipython",
    "version": 3
   },
   "file_extension": ".py",
   "mimetype": "text/x-python",
   "name": "python",
   "nbconvert_exporter": "python",
   "pygments_lexer": "ipython3",
   "version": "3.11.0"
  }
 },
 "nbformat": 4,
 "nbformat_minor": 5
}
