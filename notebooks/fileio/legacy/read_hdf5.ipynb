{
 "cells": [
  {
   "cell_type": "markdown",
   "id": "f5838d14-848a-4cf6-a8dc-f9862f94c246",
   "metadata": {
    "nbsphinx": "hidden"
   },
   "source": [
    "This notebook is part of the $\\omega radlib$ documentation: https://docs.wradlib.org.\n",
    "\n",
    "Copyright (c) $\\omega radlib$ developers.\n",
    "Distributed under the MIT License. See LICENSE.txt for more info."
   ]
  },
  {
   "cell_type": "markdown",
   "id": "cd92dd6d-5a9e-470f-a19a-d2054e657aca",
   "metadata": {
    "slideshow": {
     "slide_type": "slide"
    }
   },
   "source": [
    "# Reading HDF5 files with a generic reader\n",
    "\n",
    "This reader utilizes [h5py](https://docs.h5py.org).\n",
    "\n",
    "In this example, we read HDF5 files from different sources using a generic reader from $\\omega radlib's$ io module."
   ]
  },
  {
   "cell_type": "code",
   "execution_count": null,
   "id": "ea0b2623-278f-4159-80c2-1dd71b724c42",
   "metadata": {},
   "outputs": [],
   "source": [
    "import wradlib as wrl\n",
    "import wradlib_data\n",
    "import matplotlib.pyplot as plt\n",
    "import warnings\n",
    "\n",
    "warnings.filterwarnings(\"ignore\")\n",
    "try:\n",
    "    get_ipython().run_line_magic(\"matplotlib inline\")\n",
    "except:\n",
    "    plt.ion()\n",
    "import numpy as np"
   ]
  },
  {
   "cell_type": "markdown",
   "id": "18c7c9f9-93f0-4c9c-9a9e-1a0cfc2c1bef",
   "metadata": {},
   "source": [
    "## Generic Reader"
   ]
  },
  {
   "cell_type": "markdown",
   "id": "12574a59-28ff-409b-aa7d-93c20bd2bef7",
   "metadata": {
    "slideshow": {
     "slide_type": "skip"
    }
   },
   "source": [
    "This is a generic hdf5 reader, which will read any hdf5 structure."
   ]
  },
  {
   "cell_type": "code",
   "execution_count": null,
   "id": "1e44d485-81d4-4b6d-b8cc-c4814752ccec",
   "metadata": {
    "slideshow": {
     "slide_type": "fragment"
    }
   },
   "outputs": [],
   "source": [
    "fpath = \"hdf5/2014-08-10--182000.ppi.mvol\"\n",
    "f = wradlib_data.DATASETS.fetch(fpath)\n",
    "fcontent = wrl.io.read_generic_hdf5(f)"
   ]
  },
  {
   "cell_type": "code",
   "execution_count": null,
   "id": "fb681854-ba66-4aca-9a64-844e2bd20f5b",
   "metadata": {
    "slideshow": {
     "slide_type": "fragment"
    }
   },
   "outputs": [],
   "source": [
    "print(fcontent.keys())"
   ]
  },
  {
   "cell_type": "code",
   "execution_count": null,
   "id": "5e2e5a9d-df40-4810-8dad-560bc7f07ed1",
   "metadata": {
    "slideshow": {
     "slide_type": "fragment"
    }
   },
   "outputs": [],
   "source": [
    "print(fcontent[\"where\"])\n",
    "print(fcontent[\"how\"])\n",
    "print(fcontent[\"scan0/moment_3\"].keys())\n",
    "print(fcontent[\"scan0/moment_3\"][\"attrs\"])\n",
    "print(fcontent[\"scan0/moment_3\"][\"data\"].shape)"
   ]
  },
  {
   "cell_type": "code",
   "execution_count": null,
   "id": "f9e02426-2961-4abf-98a9-58c01d25db57",
   "metadata": {
    "slideshow": {
     "slide_type": "subslide"
    }
   },
   "outputs": [],
   "source": [
    "fig = plt.figure(figsize=(10, 10))\n",
    "da = wrl.georef.create_xarray_dataarray(\n",
    "    fcontent[\"scan0/moment_3\"][\"data\"]\n",
    ").wrl.georef.georeference()\n",
    "im = da.wrl.vis.plot(fig=fig, crs=\"cg\")"
   ]
  },
  {
   "cell_type": "code",
   "execution_count": null,
   "id": "cdaabab9-db25-4e9b-81ed-20e0579a3782",
   "metadata": {},
   "outputs": [],
   "source": []
  },
  {
   "cell_type": "code",
   "execution_count": null,
   "id": "ba1d5ed6-0b1d-4b4c-b6ff-5783c3d14025",
   "metadata": {},
   "outputs": [],
   "source": []
  }
 ],
 "metadata": {
  "language_info": {
   "codemirror_mode": {
    "name": "ipython",
    "version": 3
   },
   "file_extension": ".py",
   "mimetype": "text/x-python",
   "name": "python",
   "nbconvert_exporter": "python",
   "pygments_lexer": "ipython3",
   "version": "3.11.0"
  }
 },
 "nbformat": 4,
 "nbformat_minor": 5
}
