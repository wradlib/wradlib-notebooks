{
 "cells": [
  {
   "cell_type": "markdown",
   "id": "206e392d-e28f-4534-9ba3-5ccf6a5cdff1",
   "metadata": {
    "nbsphinx": "hidden"
   },
   "source": [
    "This notebook is part of the $\\omega radlib$ documentation: https://docs.wradlib.org.\n",
    "\n",
    "Copyright (c) $\\omega radlib$ developers.\n",
    "Distributed under the MIT License. See LICENSE.txt for more info."
   ]
  },
  {
   "cell_type": "markdown",
   "id": "b72524f2-03b3-4991-a786-3c764c36bab1",
   "metadata": {
    "slideshow": {
     "slide_type": "slide"
    }
   },
   "source": [
    "## Vaisala Sigmet IRIS "
   ]
  },
  {
   "cell_type": "code",
   "execution_count": null,
   "id": "78391aec-6ef6-4808-bd74-639ceedc852f",
   "metadata": {},
   "outputs": [],
   "source": [
    "import wradlib as wrl\n",
    "import wradlib_data\n",
    "import matplotlib.pyplot as plt\n",
    "import numpy as np\n",
    "import warnings\n",
    "\n",
    "warnings.filterwarnings(\"ignore\")\n",
    "try:\n",
    "    get_ipython().run_line_magic(\"matplotlib inline\")\n",
    "except:\n",
    "    plt.ion()"
   ]
  },
  {
   "cell_type": "markdown",
   "id": "d756d935-fa85-47c8-824a-1107f7db61b2",
   "metadata": {
    "slideshow": {
     "slide_type": "skip"
    }
   },
   "source": [
    "[IRIS](https://www.vaisala.com/en/products/iris-focus-remote-sensing-software) refers to the commercial Vaisala Sigmet **I**nteractive **R**adar **I**nformation **S**ystem. The Vaisala Sigmet Digital Receivers export data in a [well documented](ftp://ftp.sigmet.com/outgoing/manuals/IRIS_Programmers_Manual.pdf) binary format.\n",
    "\n",
    "The philosophy behind the $\\omega radlib$ interface to the IRIS data model is very straightforward: $\\omega radlib$ simply translates the complete binary file structure to *one* dictionary and returns this dictionary to the user. Thus, the potential complexity of the stored data is kept and it is left to the user how to proceed with this data. The keys of the output dictionary are strings that correspond to the Sigmet Data Structures. \n",
    "\n",
    "\n",
    "<div class=\"alert alert-warning\">\n",
    "\n",
    "**Note** <br>\n",
    "    \n",
    "For radar data in IRIS/Sigmet format the [openradar community](https://openradarscience.org/) published [xradar](https://docs.openradarscience.org/projects/xradar/en/latest/) where xarray-based readers/writers are implemented. That particular code was ported from $\\omega radlib$ to xradar. Please refer to xradar for enhancements for polar radar.    \n",
    "    \n",
    "From $\\omega radlib$ version 1.19 `IRIS/Sigmet` reading code is imported from [xradar](https://github.com/openradar/xradar)-package whenever and wherever necessary.\n",
    "\n",
    "Please read the more indepth notebook [iris_backend](../backends/iris_backend.ipynb).\n",
    "    \n",
    "</div>\n",
    "\n",
    "Such a file (typical ending: *.RAWXXXX) can be read by:"
   ]
  },
  {
   "cell_type": "code",
   "execution_count": null,
   "id": "ac4df7e3-fbe1-44e6-988a-d4d282e41335",
   "metadata": {
    "slideshow": {
     "slide_type": "fragment"
    }
   },
   "outputs": [],
   "source": [
    "fpath = \"sigmet/cor-main131125105503.RAW2049\"\n",
    "f = wradlib_data.DATASETS.fetch(fpath)\n",
    "fcontent = wrl.io.read_iris(f)"
   ]
  },
  {
   "cell_type": "code",
   "execution_count": null,
   "id": "8ed98453-3401-4bd9-8e07-577eeafab91b",
   "metadata": {
    "slideshow": {
     "slide_type": "fragment"
    }
   },
   "outputs": [],
   "source": [
    "# which keywords can be used to access the content?\n",
    "print(fcontent.keys())\n",
    "# print the entire content including values of data and\n",
    "# metadata of the first sweep\n",
    "# (numpy arrays will not be entirely printed)\n",
    "print(fcontent[\"data\"][1].keys())\n",
    "print()\n",
    "print(fcontent[\"data\"][1][\"ingest_data_hdrs\"].keys())\n",
    "print(fcontent[\"data\"][1][\"ingest_data_hdrs\"][\"DB_DBZ\"])\n",
    "print()\n",
    "print(fcontent[\"data\"][1][\"sweep_data\"].keys())\n",
    "print(fcontent[\"data\"][1][\"sweep_data\"][\"DB_DBZ\"])"
   ]
  },
  {
   "cell_type": "code",
   "execution_count": null,
   "id": "d7ac3d3f-0910-40ad-b4e5-cc60118ddb4f",
   "metadata": {},
   "outputs": [],
   "source": [
    "fig = plt.figure(figsize=(10, 10))\n",
    "swp = fcontent[\"data\"][1][\"sweep_data\"]\n",
    "da = wrl.georef.create_xarray_dataarray(\n",
    "    swp[\"DB_DBZ\"],\n",
    ").wrl.georef.georeference()\n",
    "im = da.wrl.vis.plot(fig=fig, crs=\"cg\")"
   ]
  }
 ],
 "metadata": {
  "language_info": {
   "codemirror_mode": {
    "name": "ipython",
    "version": 3
   },
   "file_extension": ".py",
   "mimetype": "text/x-python",
   "name": "python",
   "nbconvert_exporter": "python",
   "pygments_lexer": "ipython3",
   "version": "3.11.0"
  }
 },
 "nbformat": 4,
 "nbformat_minor": 5
}
