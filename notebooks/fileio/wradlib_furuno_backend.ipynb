{
 "cells": [
  {
   "cell_type": "markdown",
   "metadata": {
    "nbsphinx": "hidden"
   },
   "source": [
    "This notebook is part of the $\\omega radlib$ documentation: https://docs.wradlib.org.\n",
    "\n",
    "Copyright (c) $\\omega radlib$ developers.\n",
    "Distributed under the MIT License. See LICENSE.txt for more info."
   ]
  },
  {
   "cell_type": "markdown",
   "metadata": {},
   "source": [
    "# xarray furuno backend\n",
    "\n",
    "In this example, we read scn/scnx (furuno) data files using the wradlib `furuno` xarray backend.\n",
    "\n",
    "Furuno Weather Radars generate binary files. The binary version depend on the radar type. This reader is able to consume SCN (format version 3) and SCNX (format version 10) files. \n",
    "\n",
    "Uncompressed files are read via ``numpy.memmap`` with lazy-loading mechanism. Gzip compressed files are are opened, read into memory and processed using ``numpy.frombuffer``.\n",
    "\n",
    "Radar moments are read as packed data with 16-bit resolution and output as 32bit-floating point data."
   ]
  },
  {
   "cell_type": "code",
   "execution_count": null,
   "metadata": {},
   "outputs": [],
   "source": [
    "import glob\n",
    "import gzip\n",
    "import io\n",
    "import wradlib as wrl\n",
    "import warnings\n",
    "\n",
    "warnings.filterwarnings(\"ignore\")\n",
    "import matplotlib.pyplot as pl\n",
    "import numpy as np\n",
    "import xarray as xr\n",
    "\n",
    "try:\n",
    "    get_ipython().run_line_magic(\"matplotlib inline\")\n",
    "except:\n",
    "    pl.ion()"
   ]
  },
  {
   "cell_type": "markdown",
   "metadata": {},
   "source": [
    "## Load furuno scn Data\n",
    "\n",
    "Data provided by University of Graz, Austria."
   ]
  },
  {
   "cell_type": "code",
   "execution_count": null,
   "metadata": {},
   "outputs": [],
   "source": [
    "fpath = \"furuno/0080_20210730_160000_01_02.scn.gz\"\n",
    "f = wrl.util.get_wradlib_data_file(fpath)\n",
    "vol = wrl.io.open_furuno_dataset(f, reindex_angle=False)"
   ]
  },
  {
   "cell_type": "code",
   "execution_count": null,
   "metadata": {},
   "outputs": [],
   "source": [
    "vol[0]"
   ]
  },
  {
   "cell_type": "markdown",
   "metadata": {},
   "source": [
    "### Inspect RadarVolume"
   ]
  },
  {
   "cell_type": "code",
   "execution_count": null,
   "metadata": {},
   "outputs": [],
   "source": [
    "display(vol)"
   ]
  },
  {
   "cell_type": "markdown",
   "metadata": {},
   "source": [
    "### Inspect root group\n",
    "\n",
    "The `sweep` dimension contains the number of scans in this radar volume. Further the dataset consists of variables (location coordinates, time_coverage) and attributes (Conventions, metadata)."
   ]
  },
  {
   "cell_type": "code",
   "execution_count": null,
   "metadata": {},
   "outputs": [],
   "source": [
    "vol.root"
   ]
  },
  {
   "cell_type": "markdown",
   "metadata": {},
   "source": [
    "### Inspect sweep group(s)\n",
    "\n",
    "The sweep-groups can be accessed via their respective keys. The dimensions consist of `range` and `time` with added coordinates `azimuth`, `elevation`, `range` and `time`. There will be variables like radar moments (DBZH etc.) and sweep-dependend metadata (like `fixed_angle`, `sweep_mode` etc.)."
   ]
  },
  {
   "cell_type": "code",
   "execution_count": null,
   "metadata": {},
   "outputs": [],
   "source": [
    "display(vol[0])"
   ]
  },
  {
   "cell_type": "markdown",
   "metadata": {},
   "source": [
    "### Goereferencing"
   ]
  },
  {
   "cell_type": "code",
   "execution_count": null,
   "metadata": {},
   "outputs": [],
   "source": [
    "swp = vol[0].copy().pipe(wrl.georef.georeference_dataset)"
   ]
  },
  {
   "cell_type": "markdown",
   "metadata": {},
   "source": [
    "### Plotting\n",
    "\n",
    "Currently the data dynamic range is left as read from the file. That way the difference between shortpulse and longpulse can be clearly seen."
   ]
  },
  {
   "cell_type": "code",
   "execution_count": null,
   "metadata": {},
   "outputs": [],
   "source": [
    "swp.DBZH.plot.pcolormesh(x=\"x\", y=\"y\")\n",
    "pl.gca().set_aspect(\"equal\")"
   ]
  },
  {
   "cell_type": "code",
   "execution_count": null,
   "metadata": {},
   "outputs": [],
   "source": [
    "fig = pl.figure(figsize=(10, 10))\n",
    "swp.DBZH.wradlib.plot_ppi(proj=\"cg\", fig=fig)"
   ]
  },
  {
   "cell_type": "code",
   "execution_count": null,
   "metadata": {},
   "outputs": [],
   "source": [
    "import cartopy\n",
    "import cartopy.crs as ccrs\n",
    "import cartopy.feature as cfeature\n",
    "\n",
    "map_trans = ccrs.AzimuthalEquidistant(\n",
    "    central_latitude=swp.latitude.values, central_longitude=swp.longitude.values\n",
    ")"
   ]
  },
  {
   "cell_type": "code",
   "execution_count": null,
   "metadata": {},
   "outputs": [],
   "source": [
    "map_proj = ccrs.AzimuthalEquidistant(\n",
    "    central_latitude=swp.latitude.values, central_longitude=swp.longitude.values\n",
    ")\n",
    "pm = swp.DBZH.wradlib.plot_ppi(proj=map_proj)\n",
    "ax = pl.gca()\n",
    "ax.gridlines(crs=map_proj)\n",
    "print(ax)"
   ]
  },
  {
   "cell_type": "code",
   "execution_count": null,
   "metadata": {},
   "outputs": [],
   "source": [
    "map_proj = ccrs.Mercator(central_longitude=swp.longitude.values)\n",
    "fig = pl.figure(figsize=(10, 8))\n",
    "ax = fig.add_subplot(111, projection=map_proj)\n",
    "pm = swp.DBZH.wradlib.plot_ppi(ax=ax)\n",
    "ax.gridlines(draw_labels=True)"
   ]
  },
  {
   "cell_type": "code",
   "execution_count": null,
   "metadata": {},
   "outputs": [],
   "source": [
    "import cartopy.feature as cfeature\n",
    "\n",
    "\n",
    "def plot_rivers(ax):\n",
    "    rivers = cfeature.NaturalEarthFeature(\n",
    "        category=\"physical\",\n",
    "        name=\"rivers_lake_centerlines\",\n",
    "        scale=\"10m\",\n",
    "        facecolor=\"none\",\n",
    "    )\n",
    "    ax.add_feature(rivers, edgecolor=\"blue\", lw=2, zorder=4)\n",
    "\n",
    "\n",
    "map_proj = ccrs.Mercator(central_longitude=swp.longitude.values)\n",
    "fig = pl.figure(figsize=(10, 8))\n",
    "ax = fig.add_subplot(111, projection=map_proj)\n",
    "\n",
    "DBZH = swp.DBZH\n",
    "pm = DBZH.where(DBZH > 0).wradlib.plot_ppi(ax=ax)\n",
    "plot_rivers(ax)\n",
    "ax.gridlines(draw_labels=True)"
   ]
  },
  {
   "cell_type": "code",
   "execution_count": null,
   "metadata": {},
   "outputs": [],
   "source": [
    "import matplotlib.path as mpath\n",
    "\n",
    "theta = np.linspace(0, 2 * np.pi, 100)\n",
    "center, radius = [0.5, 0.5], 0.5\n",
    "verts = np.vstack([np.sin(theta), np.cos(theta)]).T\n",
    "circle = mpath.Path(verts * radius + center)\n",
    "\n",
    "map_proj = ccrs.AzimuthalEquidistant(\n",
    "    central_latitude=swp.latitude.values,\n",
    "    central_longitude=swp.longitude.values,\n",
    ")\n",
    "fig = pl.figure(figsize=(10, 8))\n",
    "ax = fig.add_subplot(111, projection=map_proj)\n",
    "ax.set_boundary(circle, transform=ax.transAxes)\n",
    "\n",
    "pm = swp.DBZH.wradlib.plot_ppi(proj=map_proj, ax=ax)\n",
    "ax = pl.gca()\n",
    "ax.gridlines(crs=map_proj)"
   ]
  },
  {
   "cell_type": "code",
   "execution_count": null,
   "metadata": {},
   "outputs": [],
   "source": [
    "fig = pl.figure(figsize=(10, 8))\n",
    "proj = ccrs.AzimuthalEquidistant(\n",
    "    central_latitude=swp.latitude.values, central_longitude=swp.longitude.values\n",
    ")\n",
    "ax = fig.add_subplot(111, projection=proj)\n",
    "pm = swp.DBZH.wradlib.plot_ppi(ax=ax)\n",
    "ax.gridlines()"
   ]
  },
  {
   "cell_type": "code",
   "execution_count": null,
   "metadata": {},
   "outputs": [],
   "source": [
    "swp.DBZH.wradlib.plot_ppi()"
   ]
  },
  {
   "cell_type": "markdown",
   "metadata": {},
   "source": [
    "### Inspect radar moments\n",
    "\n",
    "The DataArrays can be accessed by key or by attribute. Each DataArray has dimensions and coordinates of it's parent dataset."
   ]
  },
  {
   "cell_type": "code",
   "execution_count": null,
   "metadata": {},
   "outputs": [],
   "source": [
    "display(swp.DBZH)"
   ]
  },
  {
   "cell_type": "markdown",
   "metadata": {},
   "source": [
    "### Create simple plot\n",
    "\n",
    "Using xarray features a simple plot can be created like this. Note the `sortby('rtime')` method, which sorts the radials by time."
   ]
  },
  {
   "cell_type": "code",
   "execution_count": null,
   "metadata": {},
   "outputs": [],
   "source": [
    "swp.DBZH.sortby(\"rtime\").plot(x=\"range\", y=\"rtime\", add_labels=False)"
   ]
  },
  {
   "cell_type": "code",
   "execution_count": null,
   "metadata": {},
   "outputs": [],
   "source": [
    "fig = pl.figure(figsize=(5, 5))\n",
    "pm = swp.DBZH.wradlib.plot_ppi(proj={\"latmin\": 3e3}, fig=fig)"
   ]
  },
  {
   "cell_type": "markdown",
   "metadata": {},
   "source": [
    "### Mask some values"
   ]
  },
  {
   "cell_type": "code",
   "execution_count": null,
   "metadata": {},
   "outputs": [],
   "source": [
    "dbzh = swp[\"DBZH\"].where(swp[\"DBZH\"] >= 0)\n",
    "dbzh.plot(x=\"x\", y=\"y\")"
   ]
  },
  {
   "cell_type": "code",
   "execution_count": null,
   "metadata": {},
   "outputs": [],
   "source": [
    "vol[0]"
   ]
  },
  {
   "cell_type": "markdown",
   "metadata": {},
   "source": [
    "### Export to ODIM and CfRadial2\n"
   ]
  },
  {
   "cell_type": "code",
   "execution_count": null,
   "metadata": {},
   "outputs": [],
   "source": [
    "vol[0].DBZH.sortby(\"rtime\").plot(y=\"rtime\")"
   ]
  },
  {
   "cell_type": "code",
   "execution_count": null,
   "metadata": {},
   "outputs": [],
   "source": [
    "vol.to_odim(\"furuno_scn_as_odim.h5\")\n",
    "vol.to_cfradial2(\"furuno_scn_as_cfradial2.nc\")"
   ]
  },
  {
   "cell_type": "markdown",
   "metadata": {},
   "source": [
    "### Import again"
   ]
  },
  {
   "cell_type": "code",
   "execution_count": null,
   "metadata": {},
   "outputs": [],
   "source": [
    "vola = wrl.io.open_odim_dataset(\n",
    "    \"furuno_scn_as_odim.h5\", reindex_angle=False, keep_elevation=True\n",
    ")\n",
    "display(vola.root)\n",
    "display(vola[0])\n",
    "vola[0].DBZH.sortby(\"rtime\").plot(y=\"rtime\")"
   ]
  },
  {
   "cell_type": "code",
   "execution_count": null,
   "metadata": {},
   "outputs": [],
   "source": [
    "volb = wrl.io.open_cfradial2_dataset(\"furuno_scn_as_cfradial2.nc\")\n",
    "display(volb.root)\n",
    "display(volb[0])\n",
    "volb[0].DBZH.sortby(\"rtime\").plot(y=\"rtime\")"
   ]
  },
  {
   "cell_type": "markdown",
   "metadata": {},
   "source": [
    "### Check equality\n",
    "\n",
    "There are slight differences due to importing/exporting and calculation with floating point data."
   ]
  },
  {
   "cell_type": "code",
   "execution_count": null,
   "metadata": {},
   "outputs": [],
   "source": [
    "xr.testing.assert_allclose(vol.root, vola.root)\n",
    "xr.testing.assert_allclose(\n",
    "    vol[0].time.astype(float).reset_coords(drop=True),\n",
    "    vola[0].time.astype(float).reset_coords(drop=True),\n",
    ")\n",
    "xr.testing.assert_allclose(\n",
    "    vol[0].drop_vars([\"time\", \"rtime\", \"azimuth\"]).reset_coords(drop=True),\n",
    "    vola[0].drop_vars([\"time\", \"rtime\", \"azimuth\"]).reset_coords(drop=True),\n",
    ")\n",
    "xr.testing.assert_allclose(\n",
    "    vol[0].drop_vars([\"time\", \"rtime\"]).azimuth.reset_coords(drop=True),\n",
    "    vola[0].drop_vars([\"time\", \"rtime\"]).azimuth.reset_coords(drop=True),\n",
    ")\n",
    "\n",
    "\n",
    "xr.testing.assert_allclose(vol.root, volb.root)\n",
    "xr.testing.assert_allclose(\n",
    "    vol[0].time.astype(float).reset_coords(drop=True),\n",
    "    volb[0].time.astype(float).reset_coords(drop=True),\n",
    ")\n",
    "xr.testing.assert_allclose(\n",
    "    vol[0].drop_vars([\"time\", \"rtime\", \"azimuth\"]).reset_coords(drop=True),\n",
    "    volb[0].drop_vars([\"time\", \"rtime\", \"azimuth\"]).reset_coords(drop=True),\n",
    ")\n",
    "xr.testing.assert_allclose(\n",
    "    vol[0].drop_vars([\"time\", \"rtime\"]).azimuth.reset_coords(drop=True),\n",
    "    volb[0].drop_vars([\"time\", \"rtime\"]).azimuth.reset_coords(drop=True),\n",
    ")\n",
    "\n",
    "xr.testing.assert_allclose(vola.root, volb.root)\n",
    "xr.testing.assert_allclose(\n",
    "    vola[0].time.astype(float).reset_coords(drop=True),\n",
    "    volb[0].time.astype(float).reset_coords(drop=True),\n",
    ")\n",
    "xr.testing.assert_allclose(\n",
    "    vola[0].drop_vars([\"time\", \"rtime\", \"azimuth\"]).reset_coords(drop=True),\n",
    "    volb[0].drop_vars([\"time\", \"rtime\", \"azimuth\"]).reset_coords(drop=True),\n",
    ")\n",
    "xr.testing.assert_allclose(\n",
    "    vola[0].drop_vars([\"time\", \"rtime\"]).azimuth.reset_coords(drop=True),\n",
    "    volb[0].drop_vars([\"time\", \"rtime\"]).azimuth.reset_coords(drop=True),\n",
    ")"
   ]
  },
  {
   "cell_type": "markdown",
   "metadata": {},
   "source": [
    "### Use `xr.open_dataset` to retrieve explicit group\n",
    "\n",
    "<div class=\"alert alert-warning\">\n",
    "\n",
    "**Warning** <br>\n",
    "    \n",
    "Since $\\omega radlib$ version 1.18 the xarray backend engines for polar radar data have been renamed and prepended with `wradlib-` (eg. `furuno` -> `wradlib-furuno`). This was necessary to avoid clashes with the new [xradar](https://github.com/openradar/xradar)-package, which will eventually replace the wradlib engines. Users have to make sure to check which engine to use for their use-case when using `xarray.open_dataset`. Users might install and test `xradar`, and check if it is already robust enough for their use-cases (by using xradar's `engine=\"furuno\"`.\n",
    "    \n",
    "Since $\\omega radlib$ version 1.19 the xarray backend engines for polar radar data have been deprecated. The functionality is kept until wradlib version 2.0, when the backend-code will be removed completely. wradlib is importing that functionality from [xradar](https://github.com/openradar/xradar)-package whenever and wherever necessary.\n",
    "\n",
    "Below we use a compatibility layer in wradlib to give users the chance to adapt their code. The first minimal change is that for every backend the group-layout is conforming to the CfRadial-standard naming scheme (``sweep_0``, ``sweep_1``, etc.).\n",
    "    \n",
    "</div>"
   ]
  },
  {
   "cell_type": "code",
   "execution_count": null,
   "metadata": {},
   "outputs": [],
   "source": [
    "swp = xr.open_dataset(\n",
    "    f,\n",
    "    engine=\"wradlib-furuno\",\n",
    "    group=\"sweep_0\",\n",
    "    backend_kwargs=dict(reindex_angle=False),\n",
    ")\n",
    "display(swp)"
   ]
  },
  {
   "cell_type": "markdown",
   "metadata": {},
   "source": [
    "## Load furuno scnx Data\n",
    "\n",
    "Data provided by GFZ German Research Centre for Geosciences."
   ]
  },
  {
   "cell_type": "code",
   "execution_count": null,
   "metadata": {},
   "outputs": [],
   "source": [
    "fpath = \"furuno/2006_20220324_000000_000.scnx.gz\"\n",
    "f = wrl.util.get_wradlib_data_file(fpath)\n",
    "vol = wrl.io.open_furuno_dataset(f, reindex_angle=False)"
   ]
  },
  {
   "cell_type": "markdown",
   "metadata": {},
   "source": [
    "### Inspect RadarVolume"
   ]
  },
  {
   "cell_type": "code",
   "execution_count": null,
   "metadata": {},
   "outputs": [],
   "source": [
    "display(vol)"
   ]
  },
  {
   "cell_type": "markdown",
   "metadata": {},
   "source": [
    "### Inspect root group\n",
    "\n",
    "The `sweep` dimension contains the number of scans in this radar volume. Further the dataset consists of variables (location coordinates, time_coverage) and attributes (Conventions, metadata)."
   ]
  },
  {
   "cell_type": "code",
   "execution_count": null,
   "metadata": {},
   "outputs": [],
   "source": [
    "vol.root"
   ]
  },
  {
   "cell_type": "markdown",
   "metadata": {},
   "source": [
    "### Inspect sweep group(s)\n",
    "\n",
    "The sweep-groups can be accessed via their respective keys. The dimensions consist of `range` and `time` with added coordinates `azimuth`, `elevation`, `range` and `time`. There will be variables like radar moments (DBZH etc.) and sweep-dependend metadata (like `fixed_angle`, `sweep_mode` etc.)."
   ]
  },
  {
   "cell_type": "code",
   "execution_count": null,
   "metadata": {},
   "outputs": [],
   "source": [
    "display(vol[0])"
   ]
  },
  {
   "cell_type": "markdown",
   "metadata": {},
   "source": [
    "### Goereferencing"
   ]
  },
  {
   "cell_type": "code",
   "execution_count": null,
   "metadata": {},
   "outputs": [],
   "source": [
    "swp = vol[0].copy().pipe(wrl.georef.georeference_dataset)"
   ]
  },
  {
   "cell_type": "markdown",
   "metadata": {},
   "source": [
    "### Plotting\n",
    "\n",
    "Currently the data dynamic range is left as read from the file. That way the difference between shortpulse and longpulse can be clearly seen."
   ]
  },
  {
   "cell_type": "code",
   "execution_count": null,
   "metadata": {},
   "outputs": [],
   "source": [
    "swp.DBZH.plot.pcolormesh(x=\"x\", y=\"y\")\n",
    "pl.gca().set_aspect(\"equal\")"
   ]
  },
  {
   "cell_type": "code",
   "execution_count": null,
   "metadata": {},
   "outputs": [],
   "source": [
    "fig = pl.figure(figsize=(10, 10))\n",
    "swp.DBZH.wradlib.plot_ppi(proj=\"cg\", fig=fig)"
   ]
  },
  {
   "cell_type": "code",
   "execution_count": null,
   "metadata": {},
   "outputs": [],
   "source": [
    "import cartopy\n",
    "import cartopy.crs as ccrs\n",
    "import cartopy.feature as cfeature\n",
    "\n",
    "map_trans = ccrs.AzimuthalEquidistant(\n",
    "    central_latitude=swp.latitude.values, central_longitude=swp.longitude.values\n",
    ")"
   ]
  },
  {
   "cell_type": "code",
   "execution_count": null,
   "metadata": {},
   "outputs": [],
   "source": [
    "map_proj = ccrs.AzimuthalEquidistant(\n",
    "    central_latitude=swp.latitude.values, central_longitude=swp.longitude.values\n",
    ")\n",
    "pm = swp.DBZH.wradlib.plot_ppi(proj=map_proj)\n",
    "ax = pl.gca()\n",
    "ax.gridlines(crs=map_proj)\n",
    "print(ax)"
   ]
  },
  {
   "cell_type": "code",
   "execution_count": null,
   "metadata": {},
   "outputs": [],
   "source": [
    "map_proj = ccrs.Mercator(central_longitude=swp.longitude.values)\n",
    "fig = pl.figure(figsize=(10, 8))\n",
    "ax = fig.add_subplot(111, projection=map_proj)\n",
    "pm = swp.DBZH.wradlib.plot_ppi(ax=ax)\n",
    "ax.gridlines(draw_labels=True)"
   ]
  },
  {
   "cell_type": "code",
   "execution_count": null,
   "metadata": {},
   "outputs": [],
   "source": [
    "import cartopy.feature as cfeature\n",
    "\n",
    "\n",
    "def plot_rivers(ax):\n",
    "    rivers = cfeature.NaturalEarthFeature(\n",
    "        category=\"physical\",\n",
    "        name=\"rivers_lake_centerlines\",\n",
    "        scale=\"10m\",\n",
    "        facecolor=\"none\",\n",
    "    )\n",
    "    ax.add_feature(rivers, edgecolor=\"blue\", lw=2, zorder=4)\n",
    "\n",
    "\n",
    "map_proj = ccrs.Mercator(central_longitude=swp.longitude.values)\n",
    "fig = pl.figure(figsize=(10, 8))\n",
    "ax = fig.add_subplot(111, projection=map_proj)\n",
    "\n",
    "DBZH = swp.DBZH\n",
    "pm = DBZH.where(DBZH > 0).wradlib.plot_ppi(ax=ax)\n",
    "plot_rivers(ax)\n",
    "ax.gridlines(draw_labels=True)"
   ]
  },
  {
   "cell_type": "code",
   "execution_count": null,
   "metadata": {},
   "outputs": [],
   "source": [
    "import matplotlib.path as mpath\n",
    "\n",
    "theta = np.linspace(0, 2 * np.pi, 100)\n",
    "center, radius = [0.5, 0.5], 0.5\n",
    "verts = np.vstack([np.sin(theta), np.cos(theta)]).T\n",
    "circle = mpath.Path(verts * radius + center)\n",
    "\n",
    "map_proj = ccrs.AzimuthalEquidistant(\n",
    "    central_latitude=swp.latitude.values,\n",
    "    central_longitude=swp.longitude.values,\n",
    ")\n",
    "fig = pl.figure(figsize=(10, 8))\n",
    "ax = fig.add_subplot(111, projection=map_proj)\n",
    "ax.set_boundary(circle, transform=ax.transAxes)\n",
    "\n",
    "pm = swp.DBZH.wradlib.plot_ppi(proj=map_proj, ax=ax)\n",
    "ax = pl.gca()\n",
    "ax.gridlines(crs=map_proj)"
   ]
  },
  {
   "cell_type": "code",
   "execution_count": null,
   "metadata": {},
   "outputs": [],
   "source": [
    "fig = pl.figure(figsize=(10, 8))\n",
    "proj = ccrs.AzimuthalEquidistant(\n",
    "    central_latitude=swp.latitude.values, central_longitude=swp.longitude.values\n",
    ")\n",
    "ax = fig.add_subplot(111, projection=proj)\n",
    "pm = swp.DBZH.wradlib.plot_ppi(ax=ax)\n",
    "ax.gridlines()"
   ]
  },
  {
   "cell_type": "code",
   "execution_count": null,
   "metadata": {},
   "outputs": [],
   "source": [
    "swp.DBZH.wradlib.plot_ppi()"
   ]
  },
  {
   "cell_type": "markdown",
   "metadata": {},
   "source": [
    "### Inspect radar moments\n",
    "\n",
    "The DataArrays can be accessed by key or by attribute. Each DataArray has dimensions and coordinates of it's parent dataset."
   ]
  },
  {
   "cell_type": "code",
   "execution_count": null,
   "metadata": {},
   "outputs": [],
   "source": [
    "display(swp.DBZH)"
   ]
  },
  {
   "cell_type": "markdown",
   "metadata": {},
   "source": [
    "### Create simple plot\n",
    "\n",
    "Using xarray features a simple plot can be created like this. Note the `sortby('rtime')` method, which sorts the radials by time."
   ]
  },
  {
   "cell_type": "code",
   "execution_count": null,
   "metadata": {},
   "outputs": [],
   "source": [
    "swp.DBZH.sortby(\"rtime\").plot(x=\"range\", y=\"rtime\", add_labels=False)"
   ]
  },
  {
   "cell_type": "code",
   "execution_count": null,
   "metadata": {},
   "outputs": [],
   "source": [
    "fig = pl.figure(figsize=(5, 5))\n",
    "pm = swp.DBZH.wradlib.plot_ppi(proj={\"latmin\": 3e3}, fig=fig)"
   ]
  },
  {
   "cell_type": "markdown",
   "metadata": {},
   "source": [
    "### Mask some values"
   ]
  },
  {
   "cell_type": "code",
   "execution_count": null,
   "metadata": {},
   "outputs": [],
   "source": [
    "dbzh = swp[\"DBZH\"].where(swp[\"DBZH\"] >= 0)\n",
    "dbzh.plot(x=\"x\", y=\"y\")"
   ]
  },
  {
   "cell_type": "code",
   "execution_count": null,
   "metadata": {},
   "outputs": [],
   "source": [
    "vol[0]"
   ]
  },
  {
   "cell_type": "markdown",
   "metadata": {},
   "source": [
    "### Export to ODIM and CfRadial2\n"
   ]
  },
  {
   "cell_type": "code",
   "execution_count": null,
   "metadata": {},
   "outputs": [],
   "source": [
    "vol[0].DBZH.sortby(\"rtime\").plot(y=\"rtime\")"
   ]
  },
  {
   "cell_type": "code",
   "execution_count": null,
   "metadata": {},
   "outputs": [],
   "source": [
    "vol.to_odim(\"furuno_scnx_as_odim.h5\")\n",
    "vol.to_cfradial2(\"furuno_scnx_as_cfradial2.nc\")"
   ]
  },
  {
   "cell_type": "markdown",
   "metadata": {},
   "source": [
    "### Import again"
   ]
  },
  {
   "cell_type": "code",
   "execution_count": null,
   "metadata": {},
   "outputs": [],
   "source": [
    "vola = wrl.io.open_odim_dataset(\n",
    "    \"furuno_scnx_as_odim.h5\", reindex_angle=False, keep_elevation=True\n",
    ")\n",
    "display(vola.root)\n",
    "display(vola[0])\n",
    "vola[0].DBZH.sortby(\"rtime\").plot(y=\"rtime\")"
   ]
  },
  {
   "cell_type": "code",
   "execution_count": null,
   "metadata": {},
   "outputs": [],
   "source": [
    "volb = wrl.io.open_cfradial2_dataset(\"furuno_scnx_as_cfradial2.nc\")\n",
    "display(volb.root)\n",
    "display(volb[0])\n",
    "volb[0].DBZH.sortby(\"rtime\").plot(y=\"rtime\")"
   ]
  },
  {
   "cell_type": "markdown",
   "metadata": {},
   "source": [
    "### Check equality\n",
    "\n",
    "There are slight differences due to importing/exporting and calculation with floating point data."
   ]
  },
  {
   "cell_type": "code",
   "execution_count": null,
   "metadata": {},
   "outputs": [],
   "source": [
    "xr.testing.assert_allclose(vol.root, vola.root)\n",
    "xr.testing.assert_allclose(\n",
    "    vol[0].time.astype(float).reset_coords(drop=True),\n",
    "    vola[0].time.astype(float).reset_coords(drop=True),\n",
    ")\n",
    "xr.testing.assert_allclose(\n",
    "    vol[0].drop_vars([\"time\", \"rtime\", \"azimuth\"]).reset_coords(drop=True),\n",
    "    vola[0].drop_vars([\"time\", \"rtime\", \"azimuth\"]).reset_coords(drop=True),\n",
    ")\n",
    "xr.testing.assert_allclose(\n",
    "    vol[0].drop_vars([\"time\", \"rtime\"]).azimuth.reset_coords(drop=True),\n",
    "    vola[0].drop_vars([\"time\", \"rtime\"]).azimuth.reset_coords(drop=True),\n",
    ")\n",
    "\n",
    "\n",
    "xr.testing.assert_allclose(vol.root, volb.root)\n",
    "xr.testing.assert_allclose(\n",
    "    vol[0].time.astype(float).reset_coords(drop=True),\n",
    "    volb[0].time.astype(float).reset_coords(drop=True),\n",
    ")\n",
    "xr.testing.assert_allclose(\n",
    "    vol[0].drop_vars([\"time\", \"rtime\", \"azimuth\"]).reset_coords(drop=True),\n",
    "    volb[0].drop_vars([\"time\", \"rtime\", \"azimuth\"]).reset_coords(drop=True),\n",
    ")\n",
    "xr.testing.assert_allclose(\n",
    "    vol[0].drop_vars([\"time\", \"rtime\"]).azimuth.reset_coords(drop=True),\n",
    "    volb[0].drop_vars([\"time\", \"rtime\"]).azimuth.reset_coords(drop=True),\n",
    ")\n",
    "\n",
    "xr.testing.assert_allclose(vola.root, volb.root)\n",
    "xr.testing.assert_allclose(\n",
    "    vola[0].time.astype(float).reset_coords(drop=True),\n",
    "    volb[0].time.astype(float).reset_coords(drop=True),\n",
    ")\n",
    "xr.testing.assert_allclose(\n",
    "    vola[0].drop_vars([\"time\", \"rtime\", \"azimuth\"]).reset_coords(drop=True),\n",
    "    volb[0].drop_vars([\"time\", \"rtime\", \"azimuth\"]).reset_coords(drop=True),\n",
    ")\n",
    "xr.testing.assert_allclose(\n",
    "    vola[0].drop_vars([\"time\", \"rtime\"]).azimuth.reset_coords(drop=True),\n",
    "    volb[0].drop_vars([\"time\", \"rtime\"]).azimuth.reset_coords(drop=True),\n",
    ")"
   ]
  },
  {
   "cell_type": "markdown",
   "metadata": {},
   "source": [
    "## More Furuno loading mechanisms"
   ]
  },
  {
   "cell_type": "markdown",
   "metadata": {},
   "source": [
    "### Use `xr.open_dataset` to retrieve explicit group\n",
    "\n",
    "<div class=\"alert alert-warning\">\n",
    "\n",
    "**Warning** <br>\n",
    "    \n",
    "Since $\\omega radlib$ version 1.18 the xarray backend engines for polar radar data have been renamed and prepended with `wradlib-` (eg. `furuno` -> `wradlib-furuno`). This was necessary to avoid clashes with the new [xradar](https://github.com/openradar/xradar)-package, which will eventually replace the wradlib engines. Users have to make sure to check which engine to use for their use-case when using `xarray.open_dataset`. Users might install and test `xradar`, and check if it is already robust enough for their use-cases (by using xradar's `engine=\"furuno\"`.\n",
    "    \n",
    "Since $\\omega radlib$ version 1.19 the xarray backend engines for polar radar data have been deprecated. The functionality is kept until wradlib version 2.0, when the backend-code will be removed completely. wradlib is importing that functionality from [xradar](https://github.com/openradar/xradar)-package whenever and wherever necessary.\n",
    "\n",
    "Below we use a compatibility layer in wradlib to give users the chance to adapt their code. The first minimal change is that for every backend the group-layout is conforming to the CfRadial-standard naming scheme (``sweep_0``, ``sweep_1``, etc.).\n",
    "    \n",
    "</div>"
   ]
  },
  {
   "cell_type": "markdown",
   "metadata": {},
   "source": [
    "Below you can inspect the main differences of the wradlib compatibility layer and the plain xradar implementation."
   ]
  },
  {
   "cell_type": "markdown",
   "metadata": {},
   "source": [
    "### use wradlib compatibility layer"
   ]
  },
  {
   "cell_type": "code",
   "execution_count": null,
   "metadata": {},
   "outputs": [],
   "source": [
    "swp_a = xr.open_dataset(\n",
    "    f, engine=\"wradlib-furuno\", backend_kwargs=dict(reindex_angle=False)\n",
    ")\n",
    "display(swp_a)"
   ]
  },
  {
   "cell_type": "markdown",
   "metadata": {},
   "source": [
    "### use xradar backend"
   ]
  },
  {
   "cell_type": "code",
   "execution_count": null,
   "metadata": {},
   "outputs": [],
   "source": [
    "swp_b = xr.open_dataset(f, engine=\"furuno\", backend_kwargs=dict(reindex_angle=False))\n",
    "display(swp_b)"
   ]
  }
 ],
 "metadata": {
  "language_info": {
   "codemirror_mode": {
    "name": "ipython",
    "version": 3
   },
   "file_extension": ".py",
   "mimetype": "text/x-python",
   "name": "python",
   "nbconvert_exporter": "python",
   "pygments_lexer": "ipython3",
   "version": "3.10.5"
  }
 },
 "nbformat": 4,
 "nbformat_minor": 4
}
