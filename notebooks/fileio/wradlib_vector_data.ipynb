{
 "cells": [
  {
   "cell_type": "markdown",
   "metadata": {
    "nbsphinx": "hidden"
   },
   "source": [
    "This notebook is part of the $\\omega radlib$ documentation: https://docs.wradlib.org.\n",
    "\n",
    "Copyright (c) $\\omega radlib$ developers.\n",
    "Distributed under the MIT License. See LICENSE.txt for more info."
   ]
  },
  {
   "cell_type": "markdown",
   "metadata": {},
   "source": [
    "# Vector Source"
   ]
  },
  {
   "cell_type": "markdown",
   "metadata": {},
   "source": [
    "The ``VectorSource`` class is designed to conveniently handle Vector Data (eg. shapefiles). It originates from the ``zonalstats`` module but moved to ``io.gdal`` for better visibility\n",
    "\n",
    "- managing georeferenced data (grid points or grid polygons, zonal polygons),\n",
    "- output to vector and raster files available within ogr/gdal\n",
    "- geopandas dataframe connector"
   ]
  },
  {
   "cell_type": "code",
   "execution_count": 1,
   "metadata": {
    "execution": {
     "iopub.execute_input": "2022-04-11T06:25:36.243692Z",
     "iopub.status.busy": "2022-04-11T06:25:36.243480Z",
     "iopub.status.idle": "2022-04-11T06:25:38.058790Z",
     "shell.execute_reply": "2022-04-11T06:25:38.058325Z"
    }
   },
   "outputs": [],
   "source": [
    "import wradlib as wrl\n",
    "import matplotlib.pyplot as pl\n",
    "import matplotlib as mpl\n",
    "import warnings\n",
    "warnings.filterwarnings('ignore')\n",
    "try:\n",
    "    get_ipython().magic(\"matplotlib inline\")\n",
    "except:\n",
    "    pl.ion()\n",
    "import numpy as np"
   ]
  },
  {
   "cell_type": "markdown",
   "metadata": {},
   "source": [
    "The [wradlib.io.VectorSource](https://docs.wradlib.org/en/latest/generated/wradlib.io.gdal.VectorSource.html) class handles point or polygon vector data by wrapping ogr.DataSource with special functions.\n",
    "\n",
    "The following example shows how to create different VectorSource objects:"
   ]
  },
  {
   "cell_type": "code",
   "execution_count": 2,
   "metadata": {
    "execution": {
     "iopub.execute_input": "2022-04-11T06:25:38.062804Z",
     "iopub.status.busy": "2022-04-11T06:25:38.061953Z",
     "iopub.status.idle": "2022-04-11T06:25:38.080488Z",
     "shell.execute_reply": "2022-04-11T06:25:38.080069Z"
    }
   },
   "outputs": [],
   "source": [
    "from osgeo import osr\n",
    "\n",
    "# create gk2 projection osr object\n",
    "proj_gk2 = osr.SpatialReference()\n",
    "proj_gk2.ImportFromEPSG(31466)\n",
    "\n",
    "# Setting up DataSource\n",
    "box0 = np.array([[2600000., 5630000.],[2600000., 5640000.],\n",
    "                 [2610000., 5640000.],[2610000., 5630000.],\n",
    "                 [2600000., 5630000.]])\n",
    "box1 = np.array([[2610000., 5630000.],[2610000., 5640000.],\n",
    "                 [2620000., 5640000.],[2620000., 5630000.],\n",
    "                 [2610000., 5630000.]])\n",
    "box2 = np.array([[2600000., 5640000.],[2600000., 5650000.],\n",
    "                 [2610000., 5650000.],[2610000., 5640000.],\n",
    "                 [2600000., 5640000.]])\n",
    "box3 = np.array([[2610000., 5640000.],[2610000., 5650000.],\n",
    "                 [2620000., 5650000.],[2620000., 5640000.],\n",
    "                 [2610000., 5640000.]])\n",
    "\n",
    "point0 = np.array(wrl.georef.get_centroid(box0))\n",
    "point1 = np.array(wrl.georef.get_centroid(box1))\n",
    "point2 = np.array(wrl.georef.get_centroid(box2))\n",
    "point3 = np.array(wrl.georef.get_centroid(box3))\n",
    "\n",
    "# creates Polygons in Datasource\n",
    "poly = wrl.io.VectorSource(np.array([box0, box1, box2, box3]), srs=proj_gk2, name='poly')\n",
    "\n",
    "# creates Points in Datasource\n",
    "point = wrl.io.VectorSource(np.vstack((point0, point1, point2, point3)),\n",
    "                                  srs=proj_gk2, name='point')"
   ]
  },
  {
   "cell_type": "code",
   "execution_count": 3,
   "metadata": {
    "execution": {
     "iopub.execute_input": "2022-04-11T06:25:38.084143Z",
     "iopub.status.busy": "2022-04-11T06:25:38.083345Z",
     "iopub.status.idle": "2022-04-11T06:25:38.088106Z",
     "shell.execute_reply": "2022-04-11T06:25:38.087764Z"
    }
   },
   "outputs": [
    {
     "name": "stdout",
     "output_type": "stream",
     "text": [
      "<wradlib.VectorSource>\n",
      "Type: Polygon\n",
      "Geometries: 4\n"
     ]
    }
   ],
   "source": [
    "print(poly)"
   ]
  },
  {
   "cell_type": "markdown",
   "metadata": {},
   "source": [
    "Let's have a look at the data, which will be exported as numpy arrays. The property ``data`` exports all available data as numpy arrays:"
   ]
  },
  {
   "cell_type": "markdown",
   "metadata": {},
   "source": [
    "### numpy access"
   ]
  },
  {
   "cell_type": "code",
   "execution_count": 4,
   "metadata": {
    "execution": {
     "iopub.execute_input": "2022-04-11T06:25:38.091098Z",
     "iopub.status.busy": "2022-04-11T06:25:38.090364Z",
     "iopub.status.idle": "2022-04-11T06:25:38.095754Z",
     "shell.execute_reply": "2022-04-11T06:25:38.095426Z"
    }
   },
   "outputs": [
    {
     "name": "stdout",
     "output_type": "stream",
     "text": [
      "[[[2600000.0 5630000.0]\n",
      "  [2600000.0 5640000.0]\n",
      "  [2610000.0 5640000.0]\n",
      "  [2610000.0 5630000.0]\n",
      "  [2600000.0 5630000.0]]\n",
      "\n",
      " [[2610000.0 5630000.0]\n",
      "  [2610000.0 5640000.0]\n",
      "  [2620000.0 5640000.0]\n",
      "  [2620000.0 5630000.0]\n",
      "  [2610000.0 5630000.0]]\n",
      "\n",
      " [[2600000.0 5640000.0]\n",
      "  [2600000.0 5650000.0]\n",
      "  [2610000.0 5650000.0]\n",
      "  [2610000.0 5640000.0]\n",
      "  [2600000.0 5640000.0]]\n",
      "\n",
      " [[2610000.0 5640000.0]\n",
      "  [2610000.0 5650000.0]\n",
      "  [2620000.0 5650000.0]\n",
      "  [2620000.0 5640000.0]\n",
      "  [2610000.0 5640000.0]]]\n",
      "[[2605000.0 5635000.0]\n",
      " [2615000.0 5635000.0]\n",
      " [2605000.0 5645000.0]\n",
      " [2615000.0 5645000.0]]\n"
     ]
    }
   ],
   "source": [
    "print(poly.data)\n",
    "print(point.data)"
   ]
  },
  {
   "cell_type": "markdown",
   "metadata": {},
   "source": [
    "### accessing geopandas "
   ]
  },
  {
   "cell_type": "code",
   "execution_count": 5,
   "metadata": {
    "execution": {
     "iopub.execute_input": "2022-04-11T06:25:38.098635Z",
     "iopub.status.busy": "2022-04-11T06:25:38.097883Z",
     "iopub.status.idle": "2022-04-11T06:25:38.899945Z",
     "shell.execute_reply": "2022-04-11T06:25:38.899552Z"
    }
   },
   "outputs": [
    {
     "data": {
      "text/html": [
       "<div style=\"width:100%;\"><div style=\"position:relative;width:100%;height:0;padding-bottom:60%;\"><span style=\"color:#565656\">Make this Notebook Trusted to load map: File -> Trust Notebook</span><iframe src=\"about:blank\" style=\"position:absolute;width:100%;height:100%;left:0;top:0;border:none !important;\" data-html=%3C%21DOCTYPE%20html%3E%0A%3Chead%3E%20%20%20%20%0A%20%20%20%20%3Cmeta%20http-equiv%3D%22content-type%22%20content%3D%22text/html%3B%20charset%3DUTF-8%22%20/%3E%0A%20%20%20%20%0A%20%20%20%20%20%20%20%20%3Cscript%3E%0A%20%20%20%20%20%20%20%20%20%20%20%20L_NO_TOUCH%20%3D%20false%3B%0A%20%20%20%20%20%20%20%20%20%20%20%20L_DISABLE_3D%20%3D%20false%3B%0A%20%20%20%20%20%20%20%20%3C/script%3E%0A%20%20%20%20%0A%20%20%20%20%3Cstyle%3Ehtml%2C%20body%20%7Bwidth%3A%20100%25%3Bheight%3A%20100%25%3Bmargin%3A%200%3Bpadding%3A%200%3B%7D%3C/style%3E%0A%20%20%20%20%3Cstyle%3E%23map%20%7Bposition%3Aabsolute%3Btop%3A0%3Bbottom%3A0%3Bright%3A0%3Bleft%3A0%3B%7D%3C/style%3E%0A%20%20%20%20%3Cscript%20src%3D%22https%3A//cdn.jsdelivr.net/npm/leaflet%401.6.0/dist/leaflet.js%22%3E%3C/script%3E%0A%20%20%20%20%3Cscript%20src%3D%22https%3A//code.jquery.com/jquery-1.12.4.min.js%22%3E%3C/script%3E%0A%20%20%20%20%3Cscript%20src%3D%22https%3A//maxcdn.bootstrapcdn.com/bootstrap/3.2.0/js/bootstrap.min.js%22%3E%3C/script%3E%0A%20%20%20%20%3Cscript%20src%3D%22https%3A//cdnjs.cloudflare.com/ajax/libs/Leaflet.awesome-markers/2.0.2/leaflet.awesome-markers.js%22%3E%3C/script%3E%0A%20%20%20%20%3Clink%20rel%3D%22stylesheet%22%20href%3D%22https%3A//cdn.jsdelivr.net/npm/leaflet%401.6.0/dist/leaflet.css%22/%3E%0A%20%20%20%20%3Clink%20rel%3D%22stylesheet%22%20href%3D%22https%3A//maxcdn.bootstrapcdn.com/bootstrap/3.2.0/css/bootstrap.min.css%22/%3E%0A%20%20%20%20%3Clink%20rel%3D%22stylesheet%22%20href%3D%22https%3A//maxcdn.bootstrapcdn.com/bootstrap/3.2.0/css/bootstrap-theme.min.css%22/%3E%0A%20%20%20%20%3Clink%20rel%3D%22stylesheet%22%20href%3D%22https%3A//maxcdn.bootstrapcdn.com/font-awesome/4.6.3/css/font-awesome.min.css%22/%3E%0A%20%20%20%20%3Clink%20rel%3D%22stylesheet%22%20href%3D%22https%3A//cdnjs.cloudflare.com/ajax/libs/Leaflet.awesome-markers/2.0.2/leaflet.awesome-markers.css%22/%3E%0A%20%20%20%20%3Clink%20rel%3D%22stylesheet%22%20href%3D%22https%3A//cdn.jsdelivr.net/gh/python-visualization/folium/folium/templates/leaflet.awesome.rotate.min.css%22/%3E%0A%20%20%20%20%0A%20%20%20%20%20%20%20%20%20%20%20%20%3Cmeta%20name%3D%22viewport%22%20content%3D%22width%3Ddevice-width%2C%0A%20%20%20%20%20%20%20%20%20%20%20%20%20%20%20%20initial-scale%3D1.0%2C%20maximum-scale%3D1.0%2C%20user-scalable%3Dno%22%20/%3E%0A%20%20%20%20%20%20%20%20%20%20%20%20%3Cstyle%3E%0A%20%20%20%20%20%20%20%20%20%20%20%20%20%20%20%20%23map_605230eeba9445b289d89aa6c9cbee98%20%7B%0A%20%20%20%20%20%20%20%20%20%20%20%20%20%20%20%20%20%20%20%20position%3A%20relative%3B%0A%20%20%20%20%20%20%20%20%20%20%20%20%20%20%20%20%20%20%20%20width%3A%20100.0%25%3B%0A%20%20%20%20%20%20%20%20%20%20%20%20%20%20%20%20%20%20%20%20height%3A%20100.0%25%3B%0A%20%20%20%20%20%20%20%20%20%20%20%20%20%20%20%20%20%20%20%20left%3A%200.0%25%3B%0A%20%20%20%20%20%20%20%20%20%20%20%20%20%20%20%20%20%20%20%20top%3A%200.0%25%3B%0A%20%20%20%20%20%20%20%20%20%20%20%20%20%20%20%20%7D%0A%20%20%20%20%20%20%20%20%20%20%20%20%3C/style%3E%0A%20%20%20%20%20%20%20%20%0A%20%20%20%20%0A%20%20%20%20%20%20%20%20%20%20%20%20%20%20%20%20%20%20%20%20%3Cstyle%3E%0A%20%20%20%20%20%20%20%20%20%20%20%20%20%20%20%20%20%20%20%20%20%20%20%20.foliumtooltip%20%7B%0A%20%20%20%20%20%20%20%20%20%20%20%20%20%20%20%20%20%20%20%20%20%20%20%20%20%20%20%20%0A%20%20%20%20%20%20%20%20%20%20%20%20%20%20%20%20%20%20%20%20%20%20%20%20%7D%0A%20%20%20%20%20%20%20%20%20%20%20%20%20%20%20%20%20%20%20%20%20%20%20.foliumtooltip%20table%7B%0A%20%20%20%20%20%20%20%20%20%20%20%20%20%20%20%20%20%20%20%20%20%20%20%20%20%20%20%20margin%3A%20auto%3B%0A%20%20%20%20%20%20%20%20%20%20%20%20%20%20%20%20%20%20%20%20%20%20%20%20%7D%0A%20%20%20%20%20%20%20%20%20%20%20%20%20%20%20%20%20%20%20%20%20%20%20%20.foliumtooltip%20tr%7B%0A%20%20%20%20%20%20%20%20%20%20%20%20%20%20%20%20%20%20%20%20%20%20%20%20%20%20%20%20text-align%3A%20left%3B%0A%20%20%20%20%20%20%20%20%20%20%20%20%20%20%20%20%20%20%20%20%20%20%20%20%7D%0A%20%20%20%20%20%20%20%20%20%20%20%20%20%20%20%20%20%20%20%20%20%20%20%20.foliumtooltip%20th%7B%0A%20%20%20%20%20%20%20%20%20%20%20%20%20%20%20%20%20%20%20%20%20%20%20%20%20%20%20%20padding%3A%202px%3B%20padding-right%3A%208px%3B%0A%20%20%20%20%20%20%20%20%20%20%20%20%20%20%20%20%20%20%20%20%20%20%20%20%7D%0A%20%20%20%20%20%20%20%20%20%20%20%20%20%20%20%20%20%20%20%20%3C/style%3E%0A%20%20%20%20%20%20%20%20%20%20%20%20%0A%3C/head%3E%0A%3Cbody%3E%20%20%20%20%0A%20%20%20%20%0A%20%20%20%20%20%20%20%20%20%20%20%20%3Cdiv%20class%3D%22folium-map%22%20id%3D%22map_605230eeba9445b289d89aa6c9cbee98%22%20%3E%3C/div%3E%0A%20%20%20%20%20%20%20%20%0A%3C/body%3E%0A%3Cscript%3E%20%20%20%20%0A%20%20%20%20%0A%20%20%20%20%20%20%20%20%20%20%20%20var%20map_605230eeba9445b289d89aa6c9cbee98%20%3D%20L.map%28%0A%20%20%20%20%20%20%20%20%20%20%20%20%20%20%20%20%22map_605230eeba9445b289d89aa6c9cbee98%22%2C%0A%20%20%20%20%20%20%20%20%20%20%20%20%20%20%20%20%7B%0A%20%20%20%20%20%20%20%20%20%20%20%20%20%20%20%20%20%20%20%20center%3A%20%5B50.884764181063346%2C%207.562833649710531%5D%2C%0A%20%20%20%20%20%20%20%20%20%20%20%20%20%20%20%20%20%20%20%20crs%3A%20L.CRS.EPSG3857%2C%0A%20%20%20%20%20%20%20%20%20%20%20%20%20%20%20%20%20%20%20%20zoom%3A%2010%2C%0A%20%20%20%20%20%20%20%20%20%20%20%20%20%20%20%20%20%20%20%20zoomControl%3A%20true%2C%0A%20%20%20%20%20%20%20%20%20%20%20%20%20%20%20%20%20%20%20%20preferCanvas%3A%20false%2C%0A%20%20%20%20%20%20%20%20%20%20%20%20%20%20%20%20%7D%0A%20%20%20%20%20%20%20%20%20%20%20%20%29%3B%0A%20%20%20%20%20%20%20%20%20%20%20%20L.control.scale%28%29.addTo%28map_605230eeba9445b289d89aa6c9cbee98%29%3B%0A%0A%20%20%20%20%20%20%20%20%20%20%20%20%0A%0A%20%20%20%20%20%20%20%20%0A%20%20%20%20%0A%20%20%20%20%20%20%20%20%20%20%20%20var%20tile_layer_0b70c981c7844e099610e5c8bd57e4d3%20%3D%20L.tileLayer%28%0A%20%20%20%20%20%20%20%20%20%20%20%20%20%20%20%20%22https%3A//%7Bs%7D.tile.openstreetmap.org/%7Bz%7D/%7Bx%7D/%7By%7D.png%22%2C%0A%20%20%20%20%20%20%20%20%20%20%20%20%20%20%20%20%7B%22attribution%22%3A%20%22Data%20by%20%5Cu0026copy%3B%20%5Cu003ca%20href%3D%5C%22http%3A//openstreetmap.org%5C%22%5Cu003eOpenStreetMap%5Cu003c/a%5Cu003e%2C%20under%20%5Cu003ca%20href%3D%5C%22http%3A//www.openstreetmap.org/copyright%5C%22%5Cu003eODbL%5Cu003c/a%5Cu003e.%22%2C%20%22detectRetina%22%3A%20false%2C%20%22maxNativeZoom%22%3A%2018%2C%20%22maxZoom%22%3A%2018%2C%20%22minZoom%22%3A%200%2C%20%22noWrap%22%3A%20false%2C%20%22opacity%22%3A%201%2C%20%22subdomains%22%3A%20%22abc%22%2C%20%22tms%22%3A%20false%7D%0A%20%20%20%20%20%20%20%20%20%20%20%20%29.addTo%28map_605230eeba9445b289d89aa6c9cbee98%29%3B%0A%20%20%20%20%20%20%20%20%0A%20%20%20%20%0A%20%20%20%20%20%20%20%20%20%20%20%20map_605230eeba9445b289d89aa6c9cbee98.fitBounds%28%0A%20%20%20%20%20%20%20%20%20%20%20%20%20%20%20%20%5B%5B50.79300417986502%2C%207.417774579393392%5D%2C%20%5B50.97652418226166%2C%207.707892720027671%5D%5D%2C%0A%20%20%20%20%20%20%20%20%20%20%20%20%20%20%20%20%7B%7D%0A%20%20%20%20%20%20%20%20%20%20%20%20%29%3B%0A%20%20%20%20%20%20%20%20%0A%20%20%20%20%0A%20%20%20%20%20%20%20%20function%20geo_json_11b508e085dd447d8cde6869d544ff12_styler%28feature%29%20%7B%0A%20%20%20%20%20%20%20%20%20%20%20%20switch%28feature.id%29%20%7B%0A%20%20%20%20%20%20%20%20%20%20%20%20%20%20%20%20default%3A%0A%20%20%20%20%20%20%20%20%20%20%20%20%20%20%20%20%20%20%20%20return%20%7B%22fillOpacity%22%3A%200.5%2C%20%22weight%22%3A%202%7D%3B%0A%20%20%20%20%20%20%20%20%20%20%20%20%7D%0A%20%20%20%20%20%20%20%20%7D%0A%20%20%20%20%20%20%20%20function%20geo_json_11b508e085dd447d8cde6869d544ff12_highlighter%28feature%29%20%7B%0A%20%20%20%20%20%20%20%20%20%20%20%20switch%28feature.id%29%20%7B%0A%20%20%20%20%20%20%20%20%20%20%20%20%20%20%20%20default%3A%0A%20%20%20%20%20%20%20%20%20%20%20%20%20%20%20%20%20%20%20%20return%20%7B%22fillOpacity%22%3A%200.75%7D%3B%0A%20%20%20%20%20%20%20%20%20%20%20%20%7D%0A%20%20%20%20%20%20%20%20%7D%0A%20%20%20%20%20%20%20%20function%20geo_json_11b508e085dd447d8cde6869d544ff12_pointToLayer%28feature%2C%20latlng%29%20%7B%0A%20%20%20%20%20%20%20%20%20%20%20%20var%20opts%20%3D%20%7B%22bubblingMouseEvents%22%3A%20true%2C%20%22color%22%3A%20%22%233388ff%22%2C%20%22dashArray%22%3A%20null%2C%20%22dashOffset%22%3A%20null%2C%20%22fill%22%3A%20true%2C%20%22fillColor%22%3A%20%22%233388ff%22%2C%20%22fillOpacity%22%3A%200.2%2C%20%22fillRule%22%3A%20%22evenodd%22%2C%20%22lineCap%22%3A%20%22round%22%2C%20%22lineJoin%22%3A%20%22round%22%2C%20%22opacity%22%3A%201.0%2C%20%22radius%22%3A%202%2C%20%22stroke%22%3A%20true%2C%20%22weight%22%3A%203%7D%3B%0A%20%20%20%20%20%20%20%20%20%20%20%20%0A%20%20%20%20%20%20%20%20%20%20%20%20let%20style%20%3D%20geo_json_11b508e085dd447d8cde6869d544ff12_styler%28feature%29%0A%20%20%20%20%20%20%20%20%20%20%20%20Object.assign%28opts%2C%20style%29%0A%20%20%20%20%20%20%20%20%20%20%20%20%0A%20%20%20%20%20%20%20%20%20%20%20%20return%20new%20L.CircleMarker%28latlng%2C%20opts%29%0A%20%20%20%20%20%20%20%20%7D%0A%0A%20%20%20%20%20%20%20%20function%20geo_json_11b508e085dd447d8cde6869d544ff12_onEachFeature%28feature%2C%20layer%29%20%7B%0A%20%20%20%20%20%20%20%20%20%20%20%20layer.on%28%7B%0A%20%20%20%20%20%20%20%20%20%20%20%20%20%20%20%20mouseout%3A%20function%28e%29%20%7B%0A%20%20%20%20%20%20%20%20%20%20%20%20%20%20%20%20%20%20%20%20if%28typeof%20e.target.setStyle%20%3D%3D%3D%20%22function%22%29%7B%0A%20%20%20%20%20%20%20%20%20%20%20%20%20%20%20%20%20%20%20%20%20%20%20%20geo_json_11b508e085dd447d8cde6869d544ff12.resetStyle%28e.target%29%3B%0A%20%20%20%20%20%20%20%20%20%20%20%20%20%20%20%20%20%20%20%20%7D%0A%20%20%20%20%20%20%20%20%20%20%20%20%20%20%20%20%7D%2C%0A%20%20%20%20%20%20%20%20%20%20%20%20%20%20%20%20mouseover%3A%20function%28e%29%20%7B%0A%20%20%20%20%20%20%20%20%20%20%20%20%20%20%20%20%20%20%20%20if%28typeof%20e.target.setStyle%20%3D%3D%3D%20%22function%22%29%7B%0A%20%20%20%20%20%20%20%20%20%20%20%20%20%20%20%20%20%20%20%20%20%20%20%20const%20highlightStyle%20%3D%20geo_json_11b508e085dd447d8cde6869d544ff12_highlighter%28e.target.feature%29%0A%20%20%20%20%20%20%20%20%20%20%20%20%20%20%20%20%20%20%20%20%20%20%20%20e.target.setStyle%28highlightStyle%29%3B%0A%20%20%20%20%20%20%20%20%20%20%20%20%20%20%20%20%20%20%20%20%7D%0A%20%20%20%20%20%20%20%20%20%20%20%20%20%20%20%20%7D%2C%0A%20%20%20%20%20%20%20%20%20%20%20%20%7D%29%3B%0A%20%20%20%20%20%20%20%20%7D%3B%0A%20%20%20%20%20%20%20%20var%20geo_json_11b508e085dd447d8cde6869d544ff12%20%3D%20L.geoJson%28null%2C%20%7B%0A%20%20%20%20%20%20%20%20%20%20%20%20%20%20%20%20onEachFeature%3A%20geo_json_11b508e085dd447d8cde6869d544ff12_onEachFeature%2C%0A%20%20%20%20%20%20%20%20%20%20%20%20%0A%20%20%20%20%20%20%20%20%20%20%20%20%20%20%20%20style%3A%20geo_json_11b508e085dd447d8cde6869d544ff12_styler%2C%0A%20%20%20%20%20%20%20%20%20%20%20%20%20%20%20%20pointToLayer%3A%20geo_json_11b508e085dd447d8cde6869d544ff12_pointToLayer%0A%20%20%20%20%20%20%20%20%7D%29%3B%0A%0A%20%20%20%20%20%20%20%20function%20geo_json_11b508e085dd447d8cde6869d544ff12_add%20%28data%29%20%7B%0A%20%20%20%20%20%20%20%20%20%20%20%20geo_json_11b508e085dd447d8cde6869d544ff12%0A%20%20%20%20%20%20%20%20%20%20%20%20%20%20%20%20.addData%28data%29%0A%20%20%20%20%20%20%20%20%20%20%20%20%20%20%20%20.addTo%28map_605230eeba9445b289d89aa6c9cbee98%29%3B%0A%20%20%20%20%20%20%20%20%7D%0A%20%20%20%20%20%20%20%20%20%20%20%20geo_json_11b508e085dd447d8cde6869d544ff12_add%28%7B%22bbox%22%3A%20%5B7.417774579393392%2C%2050.79300417986502%2C%207.707892720027671%2C%2050.97652418226166%5D%2C%20%22features%22%3A%20%5B%7B%22bbox%22%3A%20%5B7.417774579393392%2C%2050.79498670858723%2C%207.5625604604543915%2C%2050.886661357633855%5D%2C%20%22geometry%22%3A%20%7B%22coordinates%22%3A%20%5B%5B%5B7.417774579393392%2C%2050.79679701802159%5D%2C%20%5B7.4205021096316335%2C%2050.886661357633855%5D%2C%20%5B7.5625604604543915%2C%2050.8848452285489%5D%2C%20%5B7.559560528952593%2C%2050.79498670858723%5D%2C%20%5B7.417774579393392%2C%2050.79679701802159%5D%5D%5D%2C%20%22type%22%3A%20%22Polygon%22%7D%2C%20%22id%22%3A%20%220%22%2C%20%22properties%22%3A%20%7B%22index%22%3A%200%7D%2C%20%22type%22%3A%20%22Feature%22%7D%2C%20%7B%22bbox%22%3A%20%5B7.559560528952593%2C%2050.79300417986502%2C%207.704603488462562%2C%2050.8848452285489%5D%2C%20%22geometry%22%3A%20%7B%22coordinates%22%3A%20%5B%5B%5B7.559560528952593%2C%2050.79498670858723%5D%2C%20%5B7.5625604604543915%2C%2050.8848452285489%5D%2C%20%5B7.704603488462562%2C%2050.88285633719514%5D%2C%20%5B7.701331438033225%2C%2050.79300417986502%5D%2C%20%5B7.559560528952593%2C%2050.79498670858723%5D%5D%5D%2C%20%22type%22%3A%20%22Polygon%22%7D%2C%20%22id%22%3A%20%221%22%2C%20%22properties%22%3A%20%7B%22index%22%3A%201%7D%2C%20%22type%22%3A%20%22Feature%22%7D%2C%20%7B%22bbox%22%3A%20%5B7.4205021096316335%2C%2050.8848452285489%2C%207.565575999334988%2C%2050.97652418226166%5D%2C%20%22geometry%22%3A%20%7B%22coordinates%22%3A%20%5B%5B%5B7.4205021096316335%2C%2050.886661357633855%5D%2C%20%5B7.423243719134921%2C%2050.97652418226166%5D%2C%20%5B7.565575999334988%2C%2050.97470220591383%5D%2C%20%5B7.5625604604543915%2C%2050.8848452285489%5D%2C%20%5B7.4205021096316335%2C%2050.886661357633855%5D%5D%5D%2C%20%22type%22%3A%20%22Polygon%22%7D%2C%20%22id%22%3A%20%222%22%2C%20%22properties%22%3A%20%7B%22index%22%3A%202%7D%2C%20%22type%22%3A%20%22Feature%22%7D%2C%20%7B%22bbox%22%3A%20%5B7.5625604604543915%2C%2050.88285633719514%2C%207.707892720027671%2C%2050.97470220591383%5D%2C%20%22geometry%22%3A%20%7B%22coordinates%22%3A%20%5B%5B%5B7.5625604604543915%2C%2050.8848452285489%5D%2C%20%5B7.565575999334988%2C%2050.97470220591383%5D%2C%20%5B7.707892720027671%2C%2050.972706917160295%5D%2C%20%5B7.704603488462562%2C%2050.88285633719514%5D%2C%20%5B7.5625604604543915%2C%2050.8848452285489%5D%5D%5D%2C%20%22type%22%3A%20%22Polygon%22%7D%2C%20%22id%22%3A%20%223%22%2C%20%22properties%22%3A%20%7B%22index%22%3A%203%7D%2C%20%22type%22%3A%20%22Feature%22%7D%5D%2C%20%22type%22%3A%20%22FeatureCollection%22%7D%29%3B%0A%0A%20%20%20%20%20%20%20%20%0A%20%20%20%20%0A%20%20%20%20geo_json_11b508e085dd447d8cde6869d544ff12.bindTooltip%28%0A%20%20%20%20function%28layer%29%7B%0A%20%20%20%20let%20div%20%3D%20L.DomUtil.create%28%27div%27%29%3B%0A%20%20%20%20%0A%20%20%20%20let%20handleObject%20%3D%20feature%3D%3Etypeof%28feature%29%3D%3D%27object%27%20%3F%20JSON.stringify%28feature%29%20%3A%20feature%3B%0A%20%20%20%20let%20fields%20%3D%20%5B%22index%22%5D%3B%0A%20%20%20%20let%20aliases%20%3D%20%5B%22index%22%5D%3B%0A%20%20%20%20let%20table%20%3D%20%27%3Ctable%3E%27%20%2B%0A%20%20%20%20%20%20%20%20String%28%0A%20%20%20%20%20%20%20%20fields.map%28%0A%20%20%20%20%20%20%20%20%28v%2Ci%29%3D%3E%0A%20%20%20%20%20%20%20%20%60%3Ctr%3E%0A%20%20%20%20%20%20%20%20%20%20%20%20%3Cth%3E%24%7Baliases%5Bi%5D%7D%3C/th%3E%0A%20%20%20%20%20%20%20%20%20%20%20%20%0A%20%20%20%20%20%20%20%20%20%20%20%20%3Ctd%3E%24%7BhandleObject%28layer.feature.properties%5Bv%5D%29%7D%3C/td%3E%0A%20%20%20%20%20%20%20%20%3C/tr%3E%60%29.join%28%27%27%29%29%0A%20%20%20%20%2B%27%3C/table%3E%27%3B%0A%20%20%20%20div.innerHTML%3Dtable%3B%0A%20%20%20%20%0A%20%20%20%20return%20div%0A%20%20%20%20%7D%0A%20%20%20%20%2C%7B%22className%22%3A%20%22foliumtooltip%22%2C%20%22sticky%22%3A%20true%7D%29%3B%0A%20%20%20%20%20%20%20%20%20%20%20%20%20%20%20%20%20%20%20%20%20%0A%3C/script%3E onload=\"this.contentDocument.open();this.contentDocument.write(    decodeURIComponent(this.getAttribute('data-html')));this.contentDocument.close();\" allowfullscreen webkitallowfullscreen mozallowfullscreen></iframe></div></div>"
      ],
      "text/plain": [
       "<folium.folium.Map at 0x7faf1c5993f0>"
      ]
     },
     "execution_count": 5,
     "metadata": {},
     "output_type": "execute_result"
    }
   ],
   "source": [
    "poly.geo.explore()"
   ]
  },
  {
   "cell_type": "code",
   "execution_count": 6,
   "metadata": {
    "execution": {
     "iopub.execute_input": "2022-04-11T06:25:38.903277Z",
     "iopub.status.busy": "2022-04-11T06:25:38.902516Z",
     "iopub.status.idle": "2022-04-11T06:25:38.922593Z",
     "shell.execute_reply": "2022-04-11T06:25:38.922160Z"
    }
   },
   "outputs": [
    {
     "data": {
      "text/html": [
       "<div>\n",
       "<style scoped>\n",
       "    .dataframe tbody tr th:only-of-type {\n",
       "        vertical-align: middle;\n",
       "    }\n",
       "\n",
       "    .dataframe tbody tr th {\n",
       "        vertical-align: top;\n",
       "    }\n",
       "\n",
       "    .dataframe thead th {\n",
       "        text-align: right;\n",
       "    }\n",
       "</style>\n",
       "<table border=\"1\" class=\"dataframe\">\n",
       "  <thead>\n",
       "    <tr style=\"text-align: right;\">\n",
       "      <th></th>\n",
       "      <th>index</th>\n",
       "      <th>geometry</th>\n",
       "    </tr>\n",
       "  </thead>\n",
       "  <tbody>\n",
       "    <tr>\n",
       "      <th>0</th>\n",
       "      <td>0</td>\n",
       "      <td>POINT (2605000.000 5635000.000)</td>\n",
       "    </tr>\n",
       "    <tr>\n",
       "      <th>1</th>\n",
       "      <td>1</td>\n",
       "      <td>POINT (2615000.000 5635000.000)</td>\n",
       "    </tr>\n",
       "    <tr>\n",
       "      <th>2</th>\n",
       "      <td>2</td>\n",
       "      <td>POINT (2605000.000 5645000.000)</td>\n",
       "    </tr>\n",
       "  </tbody>\n",
       "</table>\n",
       "</div>"
      ],
      "text/plain": [
       "   index                         geometry\n",
       "0      0  POINT (2605000.000 5635000.000)\n",
       "1      1  POINT (2615000.000 5635000.000)\n",
       "2      2  POINT (2605000.000 5645000.000)"
      ]
     },
     "execution_count": 6,
     "metadata": {},
     "output_type": "execute_result"
    }
   ],
   "source": [
    "point.geo.loc[slice(0,2)]"
   ]
  },
  {
   "cell_type": "code",
   "execution_count": 7,
   "metadata": {
    "execution": {
     "iopub.execute_input": "2022-04-11T06:25:38.926114Z",
     "iopub.status.busy": "2022-04-11T06:25:38.925311Z",
     "iopub.status.idle": "2022-04-11T06:25:38.934389Z",
     "shell.execute_reply": "2022-04-11T06:25:38.934001Z"
    }
   },
   "outputs": [
    {
     "data": {
      "text/html": [
       "<div>\n",
       "<style scoped>\n",
       "    .dataframe tbody tr th:only-of-type {\n",
       "        vertical-align: middle;\n",
       "    }\n",
       "\n",
       "    .dataframe tbody tr th {\n",
       "        vertical-align: top;\n",
       "    }\n",
       "\n",
       "    .dataframe thead th {\n",
       "        text-align: right;\n",
       "    }\n",
       "</style>\n",
       "<table border=\"1\" class=\"dataframe\">\n",
       "  <thead>\n",
       "    <tr style=\"text-align: right;\">\n",
       "      <th></th>\n",
       "      <th>index</th>\n",
       "      <th>geometry</th>\n",
       "    </tr>\n",
       "  </thead>\n",
       "  <tbody>\n",
       "    <tr>\n",
       "      <th>0</th>\n",
       "      <td>0</td>\n",
       "      <td>POINT (2605000.000 5635000.000)</td>\n",
       "    </tr>\n",
       "    <tr>\n",
       "      <th>1</th>\n",
       "      <td>1</td>\n",
       "      <td>POINT (2615000.000 5635000.000)</td>\n",
       "    </tr>\n",
       "    <tr>\n",
       "      <th>3</th>\n",
       "      <td>3</td>\n",
       "      <td>POINT (2615000.000 5645000.000)</td>\n",
       "    </tr>\n",
       "  </tbody>\n",
       "</table>\n",
       "</div>"
      ],
      "text/plain": [
       "   index                         geometry\n",
       "0      0  POINT (2605000.000 5635000.000)\n",
       "1      1  POINT (2615000.000 5635000.000)\n",
       "3      3  POINT (2615000.000 5645000.000)"
      ]
     },
     "execution_count": 7,
     "metadata": {},
     "output_type": "execute_result"
    }
   ],
   "source": [
    "point.geo.loc[[0,1,3]]"
   ]
  },
  {
   "cell_type": "code",
   "execution_count": 8,
   "metadata": {
    "execution": {
     "iopub.execute_input": "2022-04-11T06:25:38.937581Z",
     "iopub.status.busy": "2022-04-11T06:25:38.936836Z",
     "iopub.status.idle": "2022-04-11T06:25:38.946459Z",
     "shell.execute_reply": "2022-04-11T06:25:38.946068Z"
    }
   },
   "outputs": [
    {
     "data": {
      "text/html": [
       "<div>\n",
       "<style scoped>\n",
       "    .dataframe tbody tr th:only-of-type {\n",
       "        vertical-align: middle;\n",
       "    }\n",
       "\n",
       "    .dataframe tbody tr th {\n",
       "        vertical-align: top;\n",
       "    }\n",
       "\n",
       "    .dataframe thead th {\n",
       "        text-align: right;\n",
       "    }\n",
       "</style>\n",
       "<table border=\"1\" class=\"dataframe\">\n",
       "  <thead>\n",
       "    <tr style=\"text-align: right;\">\n",
       "      <th></th>\n",
       "      <th>index</th>\n",
       "      <th>geometry</th>\n",
       "    </tr>\n",
       "  </thead>\n",
       "  <tbody>\n",
       "    <tr>\n",
       "      <th>0</th>\n",
       "      <td>0</td>\n",
       "      <td>POINT (2605000.000 5635000.000)</td>\n",
       "    </tr>\n",
       "    <tr>\n",
       "      <th>2</th>\n",
       "      <td>2</td>\n",
       "      <td>POINT (2605000.000 5645000.000)</td>\n",
       "    </tr>\n",
       "  </tbody>\n",
       "</table>\n",
       "</div>"
      ],
      "text/plain": [
       "   index                         geometry\n",
       "0      0  POINT (2605000.000 5635000.000)\n",
       "2      2  POINT (2605000.000 5645000.000)"
      ]
     },
     "execution_count": 8,
     "metadata": {},
     "output_type": "execute_result"
    }
   ],
   "source": [
    "point.geo.query(\"index in (0, 2)\")"
   ]
  },
  {
   "cell_type": "code",
   "execution_count": 9,
   "metadata": {
    "execution": {
     "iopub.execute_input": "2022-04-11T06:25:38.949592Z",
     "iopub.status.busy": "2022-04-11T06:25:38.948852Z",
     "iopub.status.idle": "2022-04-11T06:25:39.171898Z",
     "shell.execute_reply": "2022-04-11T06:25:39.171488Z"
    }
   },
   "outputs": [
    {
     "data": {
      "text/plain": [
       "<AxesSubplot:>"
      ]
     },
     "execution_count": 9,
     "metadata": {},
     "output_type": "execute_result"
    },
    {
     "data": {
      "image/png": "[encoded data removed]",
      "text/plain": [
       "<Figure size 432x288 with 1 Axes>"
      ]
     },
     "metadata": {
      "needs_background": "light"
     },
     "output_type": "display_data"
    }
   ],
   "source": [
    "fig = pl.figure()\n",
    "ax = fig.add_subplot(111)\n",
    "poly.geo.plot(column=\"index\", ax=ax)\n",
    "point.geo.plot(ax=ax)"
   ]
  },
  {
   "cell_type": "markdown",
   "metadata": {},
   "source": [
    "Now, with the DataSource being created, we can add/set attribute data of the features:"
   ]
  },
  {
   "cell_type": "code",
   "execution_count": 10,
   "metadata": {
    "execution": {
     "iopub.execute_input": "2022-04-11T06:25:39.175523Z",
     "iopub.status.busy": "2022-04-11T06:25:39.174732Z",
     "iopub.status.idle": "2022-04-11T06:25:39.179379Z",
     "shell.execute_reply": "2022-04-11T06:25:39.179044Z"
    }
   },
   "outputs": [],
   "source": [
    "# add attribute\n",
    "poly.set_attribute('mean', np.array([10.1, 20.2, 30.3, 40.4]))\n",
    "point.set_attribute('mean', np.array([10.1, 20.2, 30.3, 40.4]))"
   ]
  },
  {
   "cell_type": "markdown",
   "metadata": {},
   "source": [
    "Attributes associated with features can also be retrieved:"
   ]
  },
  {
   "cell_type": "code",
   "execution_count": 11,
   "metadata": {
    "execution": {
     "iopub.execute_input": "2022-04-11T06:25:39.182457Z",
     "iopub.status.busy": "2022-04-11T06:25:39.181704Z",
     "iopub.status.idle": "2022-04-11T06:25:39.186613Z",
     "shell.execute_reply": "2022-04-11T06:25:39.186251Z"
    }
   },
   "outputs": [
    {
     "name": "stdout",
     "output_type": "stream",
     "text": [
      "[[10.1, 20.2, 30.3, 40.4]]\n",
      "[[30.3]]\n"
     ]
    }
   ],
   "source": [
    "# get attributes\n",
    "print(poly.get_attributes(['mean']))\n",
    "# get attributes filtered\n",
    "print(poly.get_attributes(['mean'], filt=('index', 2)))"
   ]
  },
  {
   "cell_type": "markdown",
   "metadata": {},
   "source": [
    "Currently data can also be retrieved by:\n",
    "\n",
    "- index - [wradlib.zonalstats.DataSource.get_data_by_idx()](https://docs.wradlib.org/en/latest/generated/wradlib.zonalstats.DataSource.get_data_by_idx.html),\n",
    "- attribute - [wradlib.zonalstats.DataSource.get_data_by_att()](https://docs.wradlib.org/en/latest/generated/wradlib.zonalstats.DataSource.get_data_by_att.html) and\n",
    "- geometry - [wradlib.zonalstats.DataSource.get_data_by_geom()](https://docs.wradlib.org/en/latest/generated/wradlib.zonalstats.DataSource.get_data_by_geom.html)."
   ]
  },
  {
   "cell_type": "markdown",
   "metadata": {},
   "source": [
    "Using the property `mode` the output type can be set permanently."
   ]
  },
  {
   "cell_type": "markdown",
   "metadata": {},
   "source": [
    "### get_data_by_idx"
   ]
  },
  {
   "cell_type": "code",
   "execution_count": 12,
   "metadata": {
    "execution": {
     "iopub.execute_input": "2022-04-11T06:25:39.189565Z",
     "iopub.status.busy": "2022-04-11T06:25:39.188844Z",
     "iopub.status.idle": "2022-04-11T06:25:39.194050Z",
     "shell.execute_reply": "2022-04-11T06:25:39.193720Z"
    }
   },
   "outputs": [
    {
     "data": {
      "text/plain": [
       "array([[2605000.0, 5635000.0],\n",
       "       [2605000.0, 5645000.0]], dtype=object)"
      ]
     },
     "execution_count": 12,
     "metadata": {},
     "output_type": "execute_result"
    }
   ],
   "source": [
    "point.get_data_by_idx([0, 2])"
   ]
  },
  {
   "cell_type": "code",
   "execution_count": 13,
   "metadata": {
    "execution": {
     "iopub.execute_input": "2022-04-11T06:25:39.196844Z",
     "iopub.status.busy": "2022-04-11T06:25:39.196124Z",
     "iopub.status.idle": "2022-04-11T06:25:39.213871Z",
     "shell.execute_reply": "2022-04-11T06:25:39.213535Z"
    }
   },
   "outputs": [
    {
     "data": {
      "text/html": [
       "<div>\n",
       "<style scoped>\n",
       "    .dataframe tbody tr th:only-of-type {\n",
       "        vertical-align: middle;\n",
       "    }\n",
       "\n",
       "    .dataframe tbody tr th {\n",
       "        vertical-align: top;\n",
       "    }\n",
       "\n",
       "    .dataframe thead th {\n",
       "        text-align: right;\n",
       "    }\n",
       "</style>\n",
       "<table border=\"1\" class=\"dataframe\">\n",
       "  <thead>\n",
       "    <tr style=\"text-align: right;\">\n",
       "      <th></th>\n",
       "      <th>index</th>\n",
       "      <th>mean</th>\n",
       "      <th>geometry</th>\n",
       "    </tr>\n",
       "  </thead>\n",
       "  <tbody>\n",
       "    <tr>\n",
       "      <th>0</th>\n",
       "      <td>0</td>\n",
       "      <td>10.1</td>\n",
       "      <td>POINT (2605000.000 5635000.000)</td>\n",
       "    </tr>\n",
       "    <tr>\n",
       "      <th>2</th>\n",
       "      <td>2</td>\n",
       "      <td>30.3</td>\n",
       "      <td>POINT (2605000.000 5645000.000)</td>\n",
       "    </tr>\n",
       "  </tbody>\n",
       "</table>\n",
       "</div>"
      ],
      "text/plain": [
       "   index  mean                         geometry\n",
       "0      0  10.1  POINT (2605000.000 5635000.000)\n",
       "2      2  30.3  POINT (2605000.000 5645000.000)"
      ]
     },
     "execution_count": 13,
     "metadata": {},
     "output_type": "execute_result"
    }
   ],
   "source": [
    "point.get_data_by_idx([0, 2], mode=\"geo\")"
   ]
  },
  {
   "cell_type": "markdown",
   "metadata": {},
   "source": [
    "### get_data_by_att"
   ]
  },
  {
   "cell_type": "code",
   "execution_count": 14,
   "metadata": {
    "execution": {
     "iopub.execute_input": "2022-04-11T06:25:39.216727Z",
     "iopub.status.busy": "2022-04-11T06:25:39.216006Z",
     "iopub.status.idle": "2022-04-11T06:25:39.221091Z",
     "shell.execute_reply": "2022-04-11T06:25:39.220763Z"
    }
   },
   "outputs": [
    {
     "data": {
      "text/plain": [
       "array([[2605000.0, 5635000.0],\n",
       "       [2605000.0, 5645000.0]], dtype=object)"
      ]
     },
     "execution_count": 14,
     "metadata": {},
     "output_type": "execute_result"
    }
   ],
   "source": [
    "point.get_data_by_att(\"index\", [0, 2])"
   ]
  },
  {
   "cell_type": "code",
   "execution_count": 15,
   "metadata": {
    "execution": {
     "iopub.execute_input": "2022-04-11T06:25:39.223883Z",
     "iopub.status.busy": "2022-04-11T06:25:39.223161Z",
     "iopub.status.idle": "2022-04-11T06:25:39.231909Z",
     "shell.execute_reply": "2022-04-11T06:25:39.231577Z"
    }
   },
   "outputs": [
    {
     "data": {
      "text/html": [
       "<div>\n",
       "<style scoped>\n",
       "    .dataframe tbody tr th:only-of-type {\n",
       "        vertical-align: middle;\n",
       "    }\n",
       "\n",
       "    .dataframe tbody tr th {\n",
       "        vertical-align: top;\n",
       "    }\n",
       "\n",
       "    .dataframe thead th {\n",
       "        text-align: right;\n",
       "    }\n",
       "</style>\n",
       "<table border=\"1\" class=\"dataframe\">\n",
       "  <thead>\n",
       "    <tr style=\"text-align: right;\">\n",
       "      <th></th>\n",
       "      <th>index</th>\n",
       "      <th>mean</th>\n",
       "      <th>geometry</th>\n",
       "    </tr>\n",
       "  </thead>\n",
       "  <tbody>\n",
       "    <tr>\n",
       "      <th>0</th>\n",
       "      <td>0</td>\n",
       "      <td>10.1</td>\n",
       "      <td>POINT (2605000.000 5635000.000)</td>\n",
       "    </tr>\n",
       "    <tr>\n",
       "      <th>2</th>\n",
       "      <td>2</td>\n",
       "      <td>30.3</td>\n",
       "      <td>POINT (2605000.000 5645000.000)</td>\n",
       "    </tr>\n",
       "  </tbody>\n",
       "</table>\n",
       "</div>"
      ],
      "text/plain": [
       "   index  mean                         geometry\n",
       "0      0  10.1  POINT (2605000.000 5635000.000)\n",
       "2      2  30.3  POINT (2605000.000 5645000.000)"
      ]
     },
     "execution_count": 15,
     "metadata": {},
     "output_type": "execute_result"
    }
   ],
   "source": [
    "point.get_data_by_att(\"index\", [0, 2], mode=\"geo\")"
   ]
  },
  {
   "cell_type": "markdown",
   "metadata": {},
   "source": [
    "### get_data_by_geom"
   ]
  },
  {
   "cell_type": "code",
   "execution_count": 16,
   "metadata": {
    "execution": {
     "iopub.execute_input": "2022-04-11T06:25:39.234734Z",
     "iopub.status.busy": "2022-04-11T06:25:39.233998Z",
     "iopub.status.idle": "2022-04-11T06:25:39.246185Z",
     "shell.execute_reply": "2022-04-11T06:25:39.245848Z"
    }
   },
   "outputs": [],
   "source": [
    "# get OGR.Geometry \n",
    "geom0 = poly.get_data_by_idx([0], mode=\"ogr\")[0]\n",
    "# get geopandas Geometry\n",
    "geom1 = poly.get_data_by_idx([0], mode=\"geo\")"
   ]
  },
  {
   "cell_type": "code",
   "execution_count": 17,
   "metadata": {
    "execution": {
     "iopub.execute_input": "2022-04-11T06:25:39.249052Z",
     "iopub.status.busy": "2022-04-11T06:25:39.248327Z",
     "iopub.status.idle": "2022-04-11T06:25:39.253180Z",
     "shell.execute_reply": "2022-04-11T06:25:39.252855Z"
    }
   },
   "outputs": [
    {
     "data": {
      "text/plain": [
       "array([[2605000.0, 5635000.0]], dtype=object)"
      ]
     },
     "execution_count": 17,
     "metadata": {},
     "output_type": "execute_result"
    }
   ],
   "source": [
    "point.get_data_by_geom(geom=geom0)"
   ]
  },
  {
   "cell_type": "code",
   "execution_count": 18,
   "metadata": {
    "execution": {
     "iopub.execute_input": "2022-04-11T06:25:39.255972Z",
     "iopub.status.busy": "2022-04-11T06:25:39.255250Z",
     "iopub.status.idle": "2022-04-11T06:25:39.260030Z",
     "shell.execute_reply": "2022-04-11T06:25:39.259702Z"
    }
   },
   "outputs": [
    {
     "data": {
      "text/plain": [
       "array([<osgeo.ogr.Geometry; proxy of <Swig Object of type 'OGRGeometryShadow *' at 0x7faf19f9bcc0> >],\n",
       "      dtype=object)"
      ]
     },
     "execution_count": 18,
     "metadata": {},
     "output_type": "execute_result"
    }
   ],
   "source": [
    "point.get_data_by_geom(geom=geom0, mode=\"ogr\")"
   ]
  },
  {
   "cell_type": "code",
   "execution_count": 19,
   "metadata": {
    "execution": {
     "iopub.execute_input": "2022-04-11T06:25:39.262801Z",
     "iopub.status.busy": "2022-04-11T06:25:39.262065Z",
     "iopub.status.idle": "2022-04-11T06:25:39.271734Z",
     "shell.execute_reply": "2022-04-11T06:25:39.271399Z"
    }
   },
   "outputs": [
    {
     "data": {
      "text/html": [
       "<div>\n",
       "<style scoped>\n",
       "    .dataframe tbody tr th:only-of-type {\n",
       "        vertical-align: middle;\n",
       "    }\n",
       "\n",
       "    .dataframe tbody tr th {\n",
       "        vertical-align: top;\n",
       "    }\n",
       "\n",
       "    .dataframe thead th {\n",
       "        text-align: right;\n",
       "    }\n",
       "</style>\n",
       "<table border=\"1\" class=\"dataframe\">\n",
       "  <thead>\n",
       "    <tr style=\"text-align: right;\">\n",
       "      <th></th>\n",
       "      <th>index</th>\n",
       "      <th>mean</th>\n",
       "      <th>geometry</th>\n",
       "    </tr>\n",
       "  </thead>\n",
       "  <tbody>\n",
       "    <tr>\n",
       "      <th>0</th>\n",
       "      <td>0</td>\n",
       "      <td>10.1</td>\n",
       "      <td>POINT (2605000.000 5635000.000)</td>\n",
       "    </tr>\n",
       "  </tbody>\n",
       "</table>\n",
       "</div>"
      ],
      "text/plain": [
       "   index  mean                         geometry\n",
       "0      0  10.1  POINT (2605000.000 5635000.000)"
      ]
     },
     "execution_count": 19,
     "metadata": {},
     "output_type": "execute_result"
    }
   ],
   "source": [
    "point.get_data_by_geom(geom=geom1, mode=\"geo\")"
   ]
  },
  {
   "cell_type": "markdown",
   "metadata": {},
   "source": [
    "Finally, we can export the contained data to OGR/GDAL supported [vector](https://gdal.org/ogr_formats.html) and [raster](https://gdal.org/formats_list.html) files:"
   ]
  },
  {
   "cell_type": "code",
   "execution_count": 20,
   "metadata": {
    "execution": {
     "iopub.execute_input": "2022-04-11T06:25:39.274573Z",
     "iopub.status.busy": "2022-04-11T06:25:39.273825Z",
     "iopub.status.idle": "2022-04-11T06:25:39.297648Z",
     "shell.execute_reply": "2022-04-11T06:25:39.297290Z"
    }
   },
   "outputs": [],
   "source": [
    "# dump as 'ESRI Shapefile', default\n",
    "poly.dump_vector('test_poly.shp')\n",
    "point.dump_vector('test_point.shp')\n",
    "# dump as 'GeoJSON'\n",
    "poly.dump_vector('test_poly.geojson', 'GeoJSON')\n",
    "point.dump_vector('test_point.geojson', 'GeoJSON')\n",
    "# dump as 'GTiff', default\n",
    "poly.dump_raster('test_poly_raster.tif', attr='mean', pixel_size=100.)\n",
    "# dump as 'netCDF'\n",
    "poly.dump_raster('test_poly_raster.nc', 'netCDF', attr='mean', pixel_size=100.)"
   ]
  },
  {
   "cell_type": "markdown",
   "metadata": {},
   "source": [
    "### reload geojson"
   ]
  },
  {
   "cell_type": "code",
   "execution_count": 21,
   "metadata": {
    "execution": {
     "iopub.execute_input": "2022-04-11T06:25:39.300708Z",
     "iopub.status.busy": "2022-04-11T06:25:39.299967Z",
     "iopub.status.idle": "2022-04-11T06:25:39.527809Z",
     "shell.execute_reply": "2022-04-11T06:25:39.527411Z"
    }
   },
   "outputs": [
    {
     "data": {
      "text/plain": [
       "<AxesSubplot:>"
      ]
     },
     "execution_count": 21,
     "metadata": {},
     "output_type": "execute_result"
    },
    {
     "data": {
      "image/png": "[encoded data removed]",
      "text/plain": [
       "<Figure size 432x288 with 1 Axes>"
      ]
     },
     "metadata": {
      "needs_background": "light"
     },
     "output_type": "display_data"
    }
   ],
   "source": [
    "point2 = wrl.io.VectorSource(\"test_point.geojson\")\n",
    "poly2 = wrl.io.VectorSource(\"test_poly.geojson\")\n",
    "fig = pl.figure()\n",
    "ax = fig.add_subplot(111)\n",
    "poly2.geo.plot(column=\"index\", ax=ax)\n",
    "point2.geo.plot(ax=ax)"
   ]
  },
  {
   "cell_type": "markdown",
   "metadata": {},
   "source": [
    "### reload raster geotiff"
   ]
  },
  {
   "cell_type": "code",
   "execution_count": 22,
   "metadata": {
    "execution": {
     "iopub.execute_input": "2022-04-11T06:25:39.531193Z",
     "iopub.status.busy": "2022-04-11T06:25:39.530441Z",
     "iopub.status.idle": "2022-04-11T06:25:39.890922Z",
     "shell.execute_reply": "2022-04-11T06:25:39.890518Z"
    }
   },
   "outputs": [
    {
     "data": {
      "text/plain": [
       "<matplotlib.collections.QuadMesh at 0x7faf19a00820>"
      ]
     },
     "execution_count": 22,
     "metadata": {},
     "output_type": "execute_result"
    },
    {
     "data": {
      "image/png": "[encoded data removed]",
      "text/plain": [
       "<Figure size 432x288 with 2 Axes>"
      ]
     },
     "metadata": {
      "needs_background": "light"
     },
     "output_type": "display_data"
    }
   ],
   "source": [
    "import xarray as xr\n",
    "ds = xr.open_dataset(\"test_poly_raster.tif\")\n",
    "ds.band_data[0].plot()"
   ]
  },
  {
   "cell_type": "markdown",
   "metadata": {},
   "source": [
    "### reload raster netcdf"
   ]
  },
  {
   "cell_type": "code",
   "execution_count": 23,
   "metadata": {
    "execution": {
     "iopub.execute_input": "2022-04-11T06:25:39.894354Z",
     "iopub.status.busy": "2022-04-11T06:25:39.893571Z",
     "iopub.status.idle": "2022-04-11T06:25:40.067346Z",
     "shell.execute_reply": "2022-04-11T06:25:40.066601Z"
    }
   },
   "outputs": [
    {
     "data": {
      "text/plain": [
       "<matplotlib.collections.QuadMesh at 0x7faf19adcc70>"
      ]
     },
     "execution_count": 23,
     "metadata": {},
     "output_type": "execute_result"
    },
    {
     "data": {
      "image/png": "[encoded data removed]",
      "text/plain": [
       "<Figure size 432x288 with 2 Axes>"
      ]
     },
     "metadata": {
      "needs_background": "light"
     },
     "output_type": "display_data"
    }
   ],
   "source": [
    "ds = xr.open_dataset(\"test_poly_raster.nc\")\n",
    "ds.Band1.plot()"
   ]
  }
 ],
 "metadata": {
  "celltoolbar": "Edit Metadata",
  "language_info": {
   "codemirror_mode": {
    "name": "ipython",
    "version": 3
   },
   "file_extension": ".py",
   "mimetype": "text/x-python",
   "name": "python",
   "nbconvert_exporter": "python",
   "pygments_lexer": "ipython3",
   "version": "3.10.4"
  },
  "toc": {
   "colors": {
    "hover_highlight": "#DAA520",
    "navigate_num": "#000000",
    "navigate_text": "#333333",
    "running_highlight": "#FF0000",
    "selected_highlight": "#FFD700",
    "sidebar_border": "#EEEEEE",
    "wrapper_background": "#FFFFFF"
   },
   "moveMenuLeft": true,
   "nav_menu": {
    "height": "105px",
    "width": "252px"
   },
   "navigate_menu": true,
   "number_sections": false,
   "sideBar": true,
   "threshold": 4,
   "toc_cell": false,
   "toc_section_display": "block",
   "toc_window_display": false,
   "widenNotebook": false
  }
 },
 "nbformat": 4,
 "nbformat_minor": 1
}
