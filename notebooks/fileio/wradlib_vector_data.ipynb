{
 "cells": [
  {
   "cell_type": "markdown",
   "metadata": {
    "nbsphinx": "hidden"
   },
   "source": [
    "This notebook is part of the $\\omega radlib$ documentation: https://docs.wradlib.org.\n",
    "\n",
    "Copyright (c) $\\omega radlib$ developers.\n",
    "Distributed under the MIT License. See LICENSE.txt for more info."
   ]
  },
  {
   "cell_type": "markdown",
   "metadata": {},
   "source": [
    "# Vector Source"
   ]
  },
  {
   "cell_type": "markdown",
   "metadata": {},
   "source": [
    "The ``VectorSource`` class is designed to conveniently handle Vector Data (eg. shapefiles). It originates from the ``zonalstats`` module but moved to ``io.gdal`` for better visibility\n",
    "\n",
    "- managing georeferenced data (grid points or grid polygons, zonal polygons),\n",
    "- output to vector and raster files available within ogr/gdal\n",
    "- geopandas dataframe connector"
   ]
  },
  {
   "cell_type": "code",
   "execution_count": 1,
   "metadata": {
    "execution": {
     "iopub.execute_input": "2022-10-20T06:28:21.975366Z",
     "iopub.status.busy": "2022-10-20T06:28:21.974521Z",
     "iopub.status.idle": "2022-10-20T06:28:23.921749Z",
     "shell.execute_reply": "2022-10-20T06:28:23.921059Z"
    }
   },
   "outputs": [
    {
     "name": "stderr",
     "output_type": "stream",
     "text": [
      "/home/runner/micromamba-root/envs/wradlib-notebooks/lib/python3.10/site-packages/tqdm/auto.py:22: TqdmWarning: IProgress not found. Please update jupyter and ipywidgets. See https://ipywidgets.readthedocs.io/en/stable/user_install.html\n",
      "  from .autonotebook import tqdm as notebook_tqdm\n"
     ]
    }
   ],
   "source": [
    "import wradlib as wrl\n",
    "import matplotlib.pyplot as pl\n",
    "import matplotlib as mpl\n",
    "import warnings\n",
    "\n",
    "warnings.filterwarnings(\"ignore\")\n",
    "try:\n",
    "    get_ipython().magic(\"matplotlib inline\")\n",
    "except:\n",
    "    pl.ion()\n",
    "import numpy as np"
   ]
  },
  {
   "cell_type": "markdown",
   "metadata": {},
   "source": [
    "The [wradlib.io.VectorSource](https://docs.wradlib.org/en/latest/generated/wradlib.io.gdal.VectorSource.html) class handles point or polygon vector data by wrapping ogr.DataSource with special functions.\n",
    "\n",
    "The following example shows how to create different VectorSource objects:"
   ]
  },
  {
   "cell_type": "code",
   "execution_count": 2,
   "metadata": {
    "execution": {
     "iopub.execute_input": "2022-10-20T06:28:23.926261Z",
     "iopub.status.busy": "2022-10-20T06:28:23.925699Z",
     "iopub.status.idle": "2022-10-20T06:28:23.948572Z",
     "shell.execute_reply": "2022-10-20T06:28:23.947912Z"
    }
   },
   "outputs": [],
   "source": [
    "from osgeo import osr\n",
    "\n",
    "# create gk2 projection osr object\n",
    "proj_gk2 = osr.SpatialReference()\n",
    "proj_gk2.ImportFromEPSG(31466)\n",
    "\n",
    "# Setting up DataSource\n",
    "box0 = np.array(\n",
    "    [\n",
    "        [2600000.0, 5630000.0],\n",
    "        [2600000.0, 5640000.0],\n",
    "        [2610000.0, 5640000.0],\n",
    "        [2610000.0, 5630000.0],\n",
    "        [2600000.0, 5630000.0],\n",
    "    ]\n",
    ")\n",
    "box1 = np.array(\n",
    "    [\n",
    "        [2610000.0, 5630000.0],\n",
    "        [2610000.0, 5640000.0],\n",
    "        [2620000.0, 5640000.0],\n",
    "        [2620000.0, 5630000.0],\n",
    "        [2610000.0, 5630000.0],\n",
    "    ]\n",
    ")\n",
    "box2 = np.array(\n",
    "    [\n",
    "        [2600000.0, 5640000.0],\n",
    "        [2600000.0, 5650000.0],\n",
    "        [2610000.0, 5650000.0],\n",
    "        [2610000.0, 5640000.0],\n",
    "        [2600000.0, 5640000.0],\n",
    "    ]\n",
    ")\n",
    "box3 = np.array(\n",
    "    [\n",
    "        [2610000.0, 5640000.0],\n",
    "        [2610000.0, 5650000.0],\n",
    "        [2620000.0, 5650000.0],\n",
    "        [2620000.0, 5640000.0],\n",
    "        [2610000.0, 5640000.0],\n",
    "    ]\n",
    ")\n",
    "\n",
    "point0 = np.array(wrl.georef.get_centroid(box0))\n",
    "point1 = np.array(wrl.georef.get_centroid(box1))\n",
    "point2 = np.array(wrl.georef.get_centroid(box2))\n",
    "point3 = np.array(wrl.georef.get_centroid(box3))\n",
    "\n",
    "# creates Polygons in Datasource\n",
    "poly = wrl.io.VectorSource(\n",
    "    np.array([box0, box1, box2, box3]), srs=proj_gk2, name=\"poly\"\n",
    ")\n",
    "\n",
    "# creates Points in Datasource\n",
    "point = wrl.io.VectorSource(\n",
    "    np.vstack((point0, point1, point2, point3)), srs=proj_gk2, name=\"point\"\n",
    ")"
   ]
  },
  {
   "cell_type": "code",
   "execution_count": 3,
   "metadata": {
    "execution": {
     "iopub.execute_input": "2022-10-20T06:28:23.953851Z",
     "iopub.status.busy": "2022-10-20T06:28:23.952617Z",
     "iopub.status.idle": "2022-10-20T06:28:23.959225Z",
     "shell.execute_reply": "2022-10-20T06:28:23.958593Z"
    }
   },
   "outputs": [
    {
     "name": "stdout",
     "output_type": "stream",
     "text": [
      "<wradlib.VectorSource>\n",
      "Type: Polygon\n",
      "Geometries: 4\n"
     ]
    }
   ],
   "source": [
    "print(poly)"
   ]
  },
  {
   "cell_type": "markdown",
   "metadata": {},
   "source": [
    "Let's have a look at the data, which will be exported as numpy arrays. The property ``data`` exports all available data as numpy arrays:"
   ]
  },
  {
   "cell_type": "markdown",
   "metadata": {},
   "source": [
    "### numpy access"
   ]
  },
  {
   "cell_type": "code",
   "execution_count": 4,
   "metadata": {
    "execution": {
     "iopub.execute_input": "2022-10-20T06:28:23.964155Z",
     "iopub.status.busy": "2022-10-20T06:28:23.962983Z",
     "iopub.status.idle": "2022-10-20T06:28:23.970732Z",
     "shell.execute_reply": "2022-10-20T06:28:23.970133Z"
    }
   },
   "outputs": [
    {
     "name": "stdout",
     "output_type": "stream",
     "text": [
      "[[[2600000.0 5630000.0]\n",
      "  [2600000.0 5640000.0]\n",
      "  [2610000.0 5640000.0]\n",
      "  [2610000.0 5630000.0]\n",
      "  [2600000.0 5630000.0]]\n",
      "\n",
      " [[2610000.0 5630000.0]\n",
      "  [2610000.0 5640000.0]\n",
      "  [2620000.0 5640000.0]\n",
      "  [2620000.0 5630000.0]\n",
      "  [2610000.0 5630000.0]]\n",
      "\n",
      " [[2600000.0 5640000.0]\n",
      "  [2600000.0 5650000.0]\n",
      "  [2610000.0 5650000.0]\n",
      "  [2610000.0 5640000.0]\n",
      "  [2600000.0 5640000.0]]\n",
      "\n",
      " [[2610000.0 5640000.0]\n",
      "  [2610000.0 5650000.0]\n",
      "  [2620000.0 5650000.0]\n",
      "  [2620000.0 5640000.0]\n",
      "  [2610000.0 5640000.0]]]\n",
      "[[2605000.0 5635000.0]\n",
      " [2615000.0 5635000.0]\n",
      " [2605000.0 5645000.0]\n",
      " [2615000.0 5645000.0]]\n"
     ]
    }
   ],
   "source": [
    "print(poly.data)\n",
    "print(point.data)"
   ]
  },
  {
   "cell_type": "markdown",
   "metadata": {},
   "source": [
    "### accessing geopandas "
   ]
  },
  {
   "cell_type": "code",
   "execution_count": 5,
   "metadata": {
    "execution": {
     "iopub.execute_input": "2022-10-20T06:28:23.975430Z",
     "iopub.status.busy": "2022-10-20T06:28:23.974262Z",
     "iopub.status.idle": "2022-10-20T06:28:25.964250Z",
     "shell.execute_reply": "2022-10-20T06:28:25.963598Z"
    }
   },
   "outputs": [
    {
     "data": {
      "text/html": [
       "<div style=\"width:100%;\"><div style=\"position:relative;width:100%;height:0;padding-bottom:60%;\"><span style=\"color:#565656\">Make this Notebook Trusted to load map: File -> Trust Notebook</span><iframe srcdoc=\"&lt;!DOCTYPE html&gt;\n",
       "&lt;head&gt;    \n",
       "    &lt;meta http-equiv=&quot;content-type&quot; content=&quot;text/html; charset=UTF-8&quot; /&gt;\n",
       "    \n",
       "        &lt;script&gt;\n",
       "            L_NO_TOUCH = false;\n",
       "            L_DISABLE_3D = false;\n",
       "        &lt;/script&gt;\n",
       "    \n",
       "    &lt;style&gt;html, body {width: 100%;height: 100%;margin: 0;padding: 0;}&lt;/style&gt;\n",
       "    &lt;style&gt;#map {position:absolute;top:0;bottom:0;right:0;left:0;}&lt;/style&gt;\n",
       "    &lt;script src=&quot;https://cdn.jsdelivr.net/npm/leaflet@1.6.0/dist/leaflet.js&quot;&gt;&lt;/script&gt;\n",
       "    &lt;script src=&quot;https://code.jquery.com/jquery-1.12.4.min.js&quot;&gt;&lt;/script&gt;\n",
       "    &lt;script src=&quot;https://maxcdn.bootstrapcdn.com/bootstrap/3.2.0/js/bootstrap.min.js&quot;&gt;&lt;/script&gt;\n",
       "    &lt;script src=&quot;https://cdnjs.cloudflare.com/ajax/libs/Leaflet.awesome-markers/2.0.2/leaflet.awesome-markers.js&quot;&gt;&lt;/script&gt;\n",
       "    &lt;link rel=&quot;stylesheet&quot; href=&quot;https://cdn.jsdelivr.net/npm/leaflet@1.6.0/dist/leaflet.css&quot;/&gt;\n",
       "    &lt;link rel=&quot;stylesheet&quot; href=&quot;https://maxcdn.bootstrapcdn.com/bootstrap/3.2.0/css/bootstrap.min.css&quot;/&gt;\n",
       "    &lt;link rel=&quot;stylesheet&quot; href=&quot;https://maxcdn.bootstrapcdn.com/bootstrap/3.2.0/css/bootstrap-theme.min.css&quot;/&gt;\n",
       "    &lt;link rel=&quot;stylesheet&quot; href=&quot;https://maxcdn.bootstrapcdn.com/font-awesome/4.6.3/css/font-awesome.min.css&quot;/&gt;\n",
       "    &lt;link rel=&quot;stylesheet&quot; href=&quot;https://cdnjs.cloudflare.com/ajax/libs/Leaflet.awesome-markers/2.0.2/leaflet.awesome-markers.css&quot;/&gt;\n",
       "    &lt;link rel=&quot;stylesheet&quot; href=&quot;https://cdn.jsdelivr.net/gh/python-visualization/folium/folium/templates/leaflet.awesome.rotate.min.css&quot;/&gt;\n",
       "    \n",
       "            &lt;meta name=&quot;viewport&quot; content=&quot;width=device-width,\n",
       "                initial-scale=1.0, maximum-scale=1.0, user-scalable=no&quot; /&gt;\n",
       "            &lt;style&gt;\n",
       "                #map_903a2f58a48caf88021bf002fe6473f4 {\n",
       "                    position: relative;\n",
       "                    width: 100.0%;\n",
       "                    height: 100.0%;\n",
       "                    left: 0.0%;\n",
       "                    top: 0.0%;\n",
       "                }\n",
       "            &lt;/style&gt;\n",
       "        \n",
       "    \n",
       "                    &lt;style&gt;\n",
       "                        .foliumtooltip {\n",
       "                            \n",
       "                        }\n",
       "                       .foliumtooltip table{\n",
       "                            margin: auto;\n",
       "                        }\n",
       "                        .foliumtooltip tr{\n",
       "                            text-align: left;\n",
       "                        }\n",
       "                        .foliumtooltip th{\n",
       "                            padding: 2px; padding-right: 8px;\n",
       "                        }\n",
       "                    &lt;/style&gt;\n",
       "            \n",
       "&lt;/head&gt;\n",
       "&lt;body&gt;    \n",
       "    \n",
       "            &lt;div class=&quot;folium-map&quot; id=&quot;map_903a2f58a48caf88021bf002fe6473f4&quot; &gt;&lt;/div&gt;\n",
       "        \n",
       "&lt;/body&gt;\n",
       "&lt;script&gt;    \n",
       "    \n",
       "            var map_903a2f58a48caf88021bf002fe6473f4 = L.map(\n",
       "                &quot;map_903a2f58a48caf88021bf002fe6473f4&quot;,\n",
       "                {\n",
       "                    center: [50.884764181063346, 7.562833649710531],\n",
       "                    crs: L.CRS.EPSG3857,\n",
       "                    zoom: 10,\n",
       "                    zoomControl: true,\n",
       "                    preferCanvas: false,\n",
       "                }\n",
       "            );\n",
       "            L.control.scale().addTo(map_903a2f58a48caf88021bf002fe6473f4);\n",
       "\n",
       "            \n",
       "\n",
       "        \n",
       "    \n",
       "            var tile_layer_e3958e36a8a15daed60f6aa9b90f693f = L.tileLayer(\n",
       "                &quot;https://{s}.tile.openstreetmap.org/{z}/{x}/{y}.png&quot;,\n",
       "                {&quot;attribution&quot;: &quot;Data by \\u0026copy; \\u003ca href=\\&quot;http://openstreetmap.org\\&quot;\\u003eOpenStreetMap\\u003c/a\\u003e, under \\u003ca href=\\&quot;http://www.openstreetmap.org/copyright\\&quot;\\u003eODbL\\u003c/a\\u003e.&quot;, &quot;detectRetina&quot;: false, &quot;maxNativeZoom&quot;: 18, &quot;maxZoom&quot;: 18, &quot;minZoom&quot;: 0, &quot;noWrap&quot;: false, &quot;opacity&quot;: 1, &quot;subdomains&quot;: &quot;abc&quot;, &quot;tms&quot;: false}\n",
       "            ).addTo(map_903a2f58a48caf88021bf002fe6473f4);\n",
       "        \n",
       "    \n",
       "            map_903a2f58a48caf88021bf002fe6473f4.fitBounds(\n",
       "                [[50.79300417986502, 7.417774579393392], [50.97652418226166, 7.707892720027671]],\n",
       "                {}\n",
       "            );\n",
       "        \n",
       "    \n",
       "        function geo_json_f55336d9b00c8fd4e74b6020fd34be0a_styler(feature) {\n",
       "            switch(feature.id) {\n",
       "                default:\n",
       "                    return {&quot;fillOpacity&quot;: 0.5, &quot;weight&quot;: 2};\n",
       "            }\n",
       "        }\n",
       "        function geo_json_f55336d9b00c8fd4e74b6020fd34be0a_highlighter(feature) {\n",
       "            switch(feature.id) {\n",
       "                default:\n",
       "                    return {&quot;fillOpacity&quot;: 0.75};\n",
       "            }\n",
       "        }\n",
       "        function geo_json_f55336d9b00c8fd4e74b6020fd34be0a_pointToLayer(feature, latlng) {\n",
       "            var opts = {&quot;bubblingMouseEvents&quot;: true, &quot;color&quot;: &quot;#3388ff&quot;, &quot;dashArray&quot;: null, &quot;dashOffset&quot;: null, &quot;fill&quot;: true, &quot;fillColor&quot;: &quot;#3388ff&quot;, &quot;fillOpacity&quot;: 0.2, &quot;fillRule&quot;: &quot;evenodd&quot;, &quot;lineCap&quot;: &quot;round&quot;, &quot;lineJoin&quot;: &quot;round&quot;, &quot;opacity&quot;: 1.0, &quot;radius&quot;: 2, &quot;stroke&quot;: true, &quot;weight&quot;: 3};\n",
       "            \n",
       "            let style = geo_json_f55336d9b00c8fd4e74b6020fd34be0a_styler(feature)\n",
       "            Object.assign(opts, style)\n",
       "            \n",
       "            return new L.CircleMarker(latlng, opts)\n",
       "        }\n",
       "\n",
       "        function geo_json_f55336d9b00c8fd4e74b6020fd34be0a_onEachFeature(feature, layer) {\n",
       "            layer.on({\n",
       "                mouseout: function(e) {\n",
       "                    if(typeof e.target.setStyle === &quot;function&quot;){\n",
       "                        geo_json_f55336d9b00c8fd4e74b6020fd34be0a.resetStyle(e.target);\n",
       "                    }\n",
       "                },\n",
       "                mouseover: function(e) {\n",
       "                    if(typeof e.target.setStyle === &quot;function&quot;){\n",
       "                        const highlightStyle = geo_json_f55336d9b00c8fd4e74b6020fd34be0a_highlighter(e.target.feature)\n",
       "                        e.target.setStyle(highlightStyle);\n",
       "                    }\n",
       "                },\n",
       "            });\n",
       "        };\n",
       "        var geo_json_f55336d9b00c8fd4e74b6020fd34be0a = L.geoJson(null, {\n",
       "                onEachFeature: geo_json_f55336d9b00c8fd4e74b6020fd34be0a_onEachFeature,\n",
       "            \n",
       "                style: geo_json_f55336d9b00c8fd4e74b6020fd34be0a_styler,\n",
       "                pointToLayer: geo_json_f55336d9b00c8fd4e74b6020fd34be0a_pointToLayer\n",
       "        });\n",
       "\n",
       "        function geo_json_f55336d9b00c8fd4e74b6020fd34be0a_add (data) {\n",
       "            geo_json_f55336d9b00c8fd4e74b6020fd34be0a\n",
       "                .addData(data)\n",
       "                .addTo(map_903a2f58a48caf88021bf002fe6473f4);\n",
       "        }\n",
       "            geo_json_f55336d9b00c8fd4e74b6020fd34be0a_add({&quot;bbox&quot;: [7.417774579393392, 50.79300417986502, 7.707892720027671, 50.97652418226166], &quot;features&quot;: [{&quot;bbox&quot;: [7.417774579393392, 50.79498670858723, 7.5625604604543915, 50.886661357633855], &quot;geometry&quot;: {&quot;coordinates&quot;: [[[7.417774579393392, 50.79679701802159], [7.4205021096316335, 50.886661357633855], [7.5625604604543915, 50.8848452285489], [7.559560528952593, 50.79498670858723], [7.417774579393392, 50.79679701802159]]], &quot;type&quot;: &quot;Polygon&quot;}, &quot;id&quot;: &quot;0&quot;, &quot;properties&quot;: {&quot;index&quot;: 0}, &quot;type&quot;: &quot;Feature&quot;}, {&quot;bbox&quot;: [7.559560528952593, 50.79300417986502, 7.704603488462562, 50.8848452285489], &quot;geometry&quot;: {&quot;coordinates&quot;: [[[7.559560528952593, 50.79498670858723], [7.5625604604543915, 50.8848452285489], [7.704603488462562, 50.88285633719514], [7.701331438033225, 50.79300417986502], [7.559560528952593, 50.79498670858723]]], &quot;type&quot;: &quot;Polygon&quot;}, &quot;id&quot;: &quot;1&quot;, &quot;properties&quot;: {&quot;index&quot;: 1}, &quot;type&quot;: &quot;Feature&quot;}, {&quot;bbox&quot;: [7.4205021096316335, 50.8848452285489, 7.565575999334988, 50.97652418226166], &quot;geometry&quot;: {&quot;coordinates&quot;: [[[7.4205021096316335, 50.886661357633855], [7.423243719134921, 50.97652418226166], [7.565575999334988, 50.97470220591383], [7.5625604604543915, 50.8848452285489], [7.4205021096316335, 50.886661357633855]]], &quot;type&quot;: &quot;Polygon&quot;}, &quot;id&quot;: &quot;2&quot;, &quot;properties&quot;: {&quot;index&quot;: 2}, &quot;type&quot;: &quot;Feature&quot;}, {&quot;bbox&quot;: [7.5625604604543915, 50.88285633719514, 7.707892720027671, 50.97470220591383], &quot;geometry&quot;: {&quot;coordinates&quot;: [[[7.5625604604543915, 50.8848452285489], [7.565575999334988, 50.97470220591383], [7.707892720027671, 50.972706917160295], [7.704603488462562, 50.88285633719514], [7.5625604604543915, 50.8848452285489]]], &quot;type&quot;: &quot;Polygon&quot;}, &quot;id&quot;: &quot;3&quot;, &quot;properties&quot;: {&quot;index&quot;: 3}, &quot;type&quot;: &quot;Feature&quot;}], &quot;type&quot;: &quot;FeatureCollection&quot;});\n",
       "\n",
       "        \n",
       "    \n",
       "    geo_json_f55336d9b00c8fd4e74b6020fd34be0a.bindTooltip(\n",
       "    function(layer){\n",
       "    let div = L.DomUtil.create(&#x27;div&#x27;);\n",
       "    \n",
       "    let handleObject = feature=&gt;typeof(feature)==&#x27;object&#x27; ? JSON.stringify(feature) : feature;\n",
       "    let fields = [&quot;index&quot;];\n",
       "    let aliases = [&quot;index&quot;];\n",
       "    let table = &#x27;&lt;table&gt;&#x27; +\n",
       "        String(\n",
       "        fields.map(\n",
       "        (v,i)=&gt;\n",
       "        `&lt;tr&gt;\n",
       "            &lt;th&gt;${aliases[i]}&lt;/th&gt;\n",
       "            \n",
       "            &lt;td&gt;${handleObject(layer.feature.properties[v])}&lt;/td&gt;\n",
       "        &lt;/tr&gt;`).join(&#x27;&#x27;))\n",
       "    +&#x27;&lt;/table&gt;&#x27;;\n",
       "    div.innerHTML=table;\n",
       "    \n",
       "    return div\n",
       "    }\n",
       "    ,{&quot;className&quot;: &quot;foliumtooltip&quot;, &quot;sticky&quot;: true});\n",
       "                     \n",
       "&lt;/script&gt;\" style=\"position:absolute;width:100%;height:100%;left:0;top:0;border:none !important;\" allowfullscreen webkitallowfullscreen mozallowfullscreen></iframe></div></div>"
      ],
      "text/plain": [
       "<folium.folium.Map at 0x7fce7fe97c10>"
      ]
     },
     "execution_count": 5,
     "metadata": {},
     "output_type": "execute_result"
    }
   ],
   "source": [
    "poly.geo.explore()"
   ]
  },
  {
   "cell_type": "code",
   "execution_count": 6,
   "metadata": {
    "execution": {
     "iopub.execute_input": "2022-10-20T06:28:25.971984Z",
     "iopub.status.busy": "2022-10-20T06:28:25.969897Z",
     "iopub.status.idle": "2022-10-20T06:28:25.996665Z",
     "shell.execute_reply": "2022-10-20T06:28:25.996006Z"
    }
   },
   "outputs": [
    {
     "data": {
      "text/html": [
       "<div>\n",
       "<style scoped>\n",
       "    .dataframe tbody tr th:only-of-type {\n",
       "        vertical-align: middle;\n",
       "    }\n",
       "\n",
       "    .dataframe tbody tr th {\n",
       "        vertical-align: top;\n",
       "    }\n",
       "\n",
       "    .dataframe thead th {\n",
       "        text-align: right;\n",
       "    }\n",
       "</style>\n",
       "<table border=\"1\" class=\"dataframe\">\n",
       "  <thead>\n",
       "    <tr style=\"text-align: right;\">\n",
       "      <th></th>\n",
       "      <th>index</th>\n",
       "      <th>geometry</th>\n",
       "    </tr>\n",
       "  </thead>\n",
       "  <tbody>\n",
       "    <tr>\n",
       "      <th>0</th>\n",
       "      <td>0</td>\n",
       "      <td>POINT (2605000.000 5635000.000)</td>\n",
       "    </tr>\n",
       "    <tr>\n",
       "      <th>1</th>\n",
       "      <td>1</td>\n",
       "      <td>POINT (2615000.000 5635000.000)</td>\n",
       "    </tr>\n",
       "    <tr>\n",
       "      <th>2</th>\n",
       "      <td>2</td>\n",
       "      <td>POINT (2605000.000 5645000.000)</td>\n",
       "    </tr>\n",
       "  </tbody>\n",
       "</table>\n",
       "</div>"
      ],
      "text/plain": [
       "   index                         geometry\n",
       "0      0  POINT (2605000.000 5635000.000)\n",
       "1      1  POINT (2615000.000 5635000.000)\n",
       "2      2  POINT (2605000.000 5645000.000)"
      ]
     },
     "execution_count": 6,
     "metadata": {},
     "output_type": "execute_result"
    }
   ],
   "source": [
    "point.geo.loc[slice(0, 2)]"
   ]
  },
  {
   "cell_type": "code",
   "execution_count": 7,
   "metadata": {
    "execution": {
     "iopub.execute_input": "2022-10-20T06:28:26.002271Z",
     "iopub.status.busy": "2022-10-20T06:28:26.001016Z",
     "iopub.status.idle": "2022-10-20T06:28:26.013726Z",
     "shell.execute_reply": "2022-10-20T06:28:26.013107Z"
    }
   },
   "outputs": [
    {
     "data": {
      "text/html": [
       "<div>\n",
       "<style scoped>\n",
       "    .dataframe tbody tr th:only-of-type {\n",
       "        vertical-align: middle;\n",
       "    }\n",
       "\n",
       "    .dataframe tbody tr th {\n",
       "        vertical-align: top;\n",
       "    }\n",
       "\n",
       "    .dataframe thead th {\n",
       "        text-align: right;\n",
       "    }\n",
       "</style>\n",
       "<table border=\"1\" class=\"dataframe\">\n",
       "  <thead>\n",
       "    <tr style=\"text-align: right;\">\n",
       "      <th></th>\n",
       "      <th>index</th>\n",
       "      <th>geometry</th>\n",
       "    </tr>\n",
       "  </thead>\n",
       "  <tbody>\n",
       "    <tr>\n",
       "      <th>0</th>\n",
       "      <td>0</td>\n",
       "      <td>POINT (2605000.000 5635000.000)</td>\n",
       "    </tr>\n",
       "    <tr>\n",
       "      <th>1</th>\n",
       "      <td>1</td>\n",
       "      <td>POINT (2615000.000 5635000.000)</td>\n",
       "    </tr>\n",
       "    <tr>\n",
       "      <th>3</th>\n",
       "      <td>3</td>\n",
       "      <td>POINT (2615000.000 5645000.000)</td>\n",
       "    </tr>\n",
       "  </tbody>\n",
       "</table>\n",
       "</div>"
      ],
      "text/plain": [
       "   index                         geometry\n",
       "0      0  POINT (2605000.000 5635000.000)\n",
       "1      1  POINT (2615000.000 5635000.000)\n",
       "3      3  POINT (2615000.000 5645000.000)"
      ]
     },
     "execution_count": 7,
     "metadata": {},
     "output_type": "execute_result"
    }
   ],
   "source": [
    "point.geo.loc[[0, 1, 3]]"
   ]
  },
  {
   "cell_type": "code",
   "execution_count": 8,
   "metadata": {
    "execution": {
     "iopub.execute_input": "2022-10-20T06:28:26.018764Z",
     "iopub.status.busy": "2022-10-20T06:28:26.017514Z",
     "iopub.status.idle": "2022-10-20T06:28:26.034876Z",
     "shell.execute_reply": "2022-10-20T06:28:26.034033Z"
    }
   },
   "outputs": [
    {
     "data": {
      "text/html": [
       "<div>\n",
       "<style scoped>\n",
       "    .dataframe tbody tr th:only-of-type {\n",
       "        vertical-align: middle;\n",
       "    }\n",
       "\n",
       "    .dataframe tbody tr th {\n",
       "        vertical-align: top;\n",
       "    }\n",
       "\n",
       "    .dataframe thead th {\n",
       "        text-align: right;\n",
       "    }\n",
       "</style>\n",
       "<table border=\"1\" class=\"dataframe\">\n",
       "  <thead>\n",
       "    <tr style=\"text-align: right;\">\n",
       "      <th></th>\n",
       "      <th>index</th>\n",
       "      <th>geometry</th>\n",
       "    </tr>\n",
       "  </thead>\n",
       "  <tbody>\n",
       "    <tr>\n",
       "      <th>0</th>\n",
       "      <td>0</td>\n",
       "      <td>POINT (2605000.000 5635000.000)</td>\n",
       "    </tr>\n",
       "    <tr>\n",
       "      <th>2</th>\n",
       "      <td>2</td>\n",
       "      <td>POINT (2605000.000 5645000.000)</td>\n",
       "    </tr>\n",
       "  </tbody>\n",
       "</table>\n",
       "</div>"
      ],
      "text/plain": [
       "   index                         geometry\n",
       "0      0  POINT (2605000.000 5635000.000)\n",
       "2      2  POINT (2605000.000 5645000.000)"
      ]
     },
     "execution_count": 8,
     "metadata": {},
     "output_type": "execute_result"
    }
   ],
   "source": [
    "point.geo.query(\"index in (0, 2)\")"
   ]
  },
  {
   "cell_type": "code",
   "execution_count": 9,
   "metadata": {
    "execution": {
     "iopub.execute_input": "2022-10-20T06:28:26.040622Z",
     "iopub.status.busy": "2022-10-20T06:28:26.039361Z",
     "iopub.status.idle": "2022-10-20T06:28:26.328175Z",
     "shell.execute_reply": "2022-10-20T06:28:26.327353Z"
    }
   },
   "outputs": [
    {
     "data": {
      "text/plain": [
       "<AxesSubplot: >"
      ]
     },
     "execution_count": 9,
     "metadata": {},
     "output_type": "execute_result"
    },
    {
     "data": {
      "image/png": "[encoded data removed]",
      "text/plain": [
       "<Figure size 640x480 with 1 Axes>"
      ]
     },
     "metadata": {},
     "output_type": "display_data"
    }
   ],
   "source": [
    "fig = pl.figure()\n",
    "ax = fig.add_subplot(111)\n",
    "poly.geo.plot(column=\"index\", ax=ax)\n",
    "point.geo.plot(ax=ax)"
   ]
  },
  {
   "cell_type": "markdown",
   "metadata": {},
   "source": [
    "Now, with the DataSource being created, we can add/set attribute data of the features:"
   ]
  },
  {
   "cell_type": "code",
   "execution_count": 10,
   "metadata": {
    "execution": {
     "iopub.execute_input": "2022-10-20T06:28:26.332985Z",
     "iopub.status.busy": "2022-10-20T06:28:26.332678Z",
     "iopub.status.idle": "2022-10-20T06:28:26.339743Z",
     "shell.execute_reply": "2022-10-20T06:28:26.338963Z"
    }
   },
   "outputs": [],
   "source": [
    "# add attribute\n",
    "poly.set_attribute(\"mean\", np.array([10.1, 20.2, 30.3, 40.4]))\n",
    "point.set_attribute(\"mean\", np.array([10.1, 20.2, 30.3, 40.4]))"
   ]
  },
  {
   "cell_type": "markdown",
   "metadata": {},
   "source": [
    "Attributes associated with features can also be retrieved:"
   ]
  },
  {
   "cell_type": "code",
   "execution_count": 11,
   "metadata": {
    "execution": {
     "iopub.execute_input": "2022-10-20T06:28:26.343806Z",
     "iopub.status.busy": "2022-10-20T06:28:26.343500Z",
     "iopub.status.idle": "2022-10-20T06:28:26.350705Z",
     "shell.execute_reply": "2022-10-20T06:28:26.349909Z"
    }
   },
   "outputs": [
    {
     "name": "stdout",
     "output_type": "stream",
     "text": [
      "[[10.1, 20.2, 30.3, 40.4]]\n",
      "[[30.3]]\n"
     ]
    }
   ],
   "source": [
    "# get attributes\n",
    "print(poly.get_attributes([\"mean\"]))\n",
    "# get attributes filtered\n",
    "print(poly.get_attributes([\"mean\"], filt=(\"index\", 2)))"
   ]
  },
  {
   "cell_type": "markdown",
   "metadata": {},
   "source": [
    "Currently data can also be retrieved by:\n",
    "\n",
    "- index - [wradlib.zonalstats.DataSource.get_data_by_idx()](https://docs.wradlib.org/en/latest/generated/wradlib.zonalstats.DataSource.get_data_by_idx.html),\n",
    "- attribute - [wradlib.zonalstats.DataSource.get_data_by_att()](https://docs.wradlib.org/en/latest/generated/wradlib.zonalstats.DataSource.get_data_by_att.html) and\n",
    "- geometry - [wradlib.zonalstats.DataSource.get_data_by_geom()](https://docs.wradlib.org/en/latest/generated/wradlib.zonalstats.DataSource.get_data_by_geom.html)."
   ]
  },
  {
   "cell_type": "markdown",
   "metadata": {},
   "source": [
    "Using the property `mode` the output type can be set permanently."
   ]
  },
  {
   "cell_type": "markdown",
   "metadata": {},
   "source": [
    "### get_data_by_idx"
   ]
  },
  {
   "cell_type": "code",
   "execution_count": 12,
   "metadata": {
    "execution": {
     "iopub.execute_input": "2022-10-20T06:28:26.355060Z",
     "iopub.status.busy": "2022-10-20T06:28:26.354776Z",
     "iopub.status.idle": "2022-10-20T06:28:26.362672Z",
     "shell.execute_reply": "2022-10-20T06:28:26.361853Z"
    }
   },
   "outputs": [
    {
     "data": {
      "text/plain": [
       "array([[2605000.0, 5635000.0],\n",
       "       [2605000.0, 5645000.0]], dtype=object)"
      ]
     },
     "execution_count": 12,
     "metadata": {},
     "output_type": "execute_result"
    }
   ],
   "source": [
    "point.get_data_by_idx([0, 2])"
   ]
  },
  {
   "cell_type": "code",
   "execution_count": 13,
   "metadata": {
    "execution": {
     "iopub.execute_input": "2022-10-20T06:28:26.367681Z",
     "iopub.status.busy": "2022-10-20T06:28:26.366446Z",
     "iopub.status.idle": "2022-10-20T06:28:26.412419Z",
     "shell.execute_reply": "2022-10-20T06:28:26.411736Z"
    }
   },
   "outputs": [
    {
     "data": {
      "text/html": [
       "<div>\n",
       "<style scoped>\n",
       "    .dataframe tbody tr th:only-of-type {\n",
       "        vertical-align: middle;\n",
       "    }\n",
       "\n",
       "    .dataframe tbody tr th {\n",
       "        vertical-align: top;\n",
       "    }\n",
       "\n",
       "    .dataframe thead th {\n",
       "        text-align: right;\n",
       "    }\n",
       "</style>\n",
       "<table border=\"1\" class=\"dataframe\">\n",
       "  <thead>\n",
       "    <tr style=\"text-align: right;\">\n",
       "      <th></th>\n",
       "      <th>index</th>\n",
       "      <th>mean</th>\n",
       "      <th>geometry</th>\n",
       "    </tr>\n",
       "  </thead>\n",
       "  <tbody>\n",
       "    <tr>\n",
       "      <th>0</th>\n",
       "      <td>0</td>\n",
       "      <td>10.1</td>\n",
       "      <td>POINT (2605000.000 5635000.000)</td>\n",
       "    </tr>\n",
       "    <tr>\n",
       "      <th>2</th>\n",
       "      <td>2</td>\n",
       "      <td>30.3</td>\n",
       "      <td>POINT (2605000.000 5645000.000)</td>\n",
       "    </tr>\n",
       "  </tbody>\n",
       "</table>\n",
       "</div>"
      ],
      "text/plain": [
       "   index  mean                         geometry\n",
       "0      0  10.1  POINT (2605000.000 5635000.000)\n",
       "2      2  30.3  POINT (2605000.000 5645000.000)"
      ]
     },
     "execution_count": 13,
     "metadata": {},
     "output_type": "execute_result"
    }
   ],
   "source": [
    "point.get_data_by_idx([0, 2], mode=\"geo\")"
   ]
  },
  {
   "cell_type": "markdown",
   "metadata": {},
   "source": [
    "### get_data_by_att"
   ]
  },
  {
   "cell_type": "code",
   "execution_count": 14,
   "metadata": {
    "execution": {
     "iopub.execute_input": "2022-10-20T06:28:26.417768Z",
     "iopub.status.busy": "2022-10-20T06:28:26.416503Z",
     "iopub.status.idle": "2022-10-20T06:28:26.424925Z",
     "shell.execute_reply": "2022-10-20T06:28:26.424315Z"
    }
   },
   "outputs": [
    {
     "data": {
      "text/plain": [
       "array([[2605000.0, 5635000.0],\n",
       "       [2605000.0, 5645000.0]], dtype=object)"
      ]
     },
     "execution_count": 14,
     "metadata": {},
     "output_type": "execute_result"
    }
   ],
   "source": [
    "point.get_data_by_att(\"index\", [0, 2])"
   ]
  },
  {
   "cell_type": "code",
   "execution_count": 15,
   "metadata": {
    "execution": {
     "iopub.execute_input": "2022-10-20T06:28:26.429758Z",
     "iopub.status.busy": "2022-10-20T06:28:26.428558Z",
     "iopub.status.idle": "2022-10-20T06:28:26.443166Z",
     "shell.execute_reply": "2022-10-20T06:28:26.442469Z"
    }
   },
   "outputs": [
    {
     "data": {
      "text/html": [
       "<div>\n",
       "<style scoped>\n",
       "    .dataframe tbody tr th:only-of-type {\n",
       "        vertical-align: middle;\n",
       "    }\n",
       "\n",
       "    .dataframe tbody tr th {\n",
       "        vertical-align: top;\n",
       "    }\n",
       "\n",
       "    .dataframe thead th {\n",
       "        text-align: right;\n",
       "    }\n",
       "</style>\n",
       "<table border=\"1\" class=\"dataframe\">\n",
       "  <thead>\n",
       "    <tr style=\"text-align: right;\">\n",
       "      <th></th>\n",
       "      <th>index</th>\n",
       "      <th>mean</th>\n",
       "      <th>geometry</th>\n",
       "    </tr>\n",
       "  </thead>\n",
       "  <tbody>\n",
       "    <tr>\n",
       "      <th>0</th>\n",
       "      <td>0</td>\n",
       "      <td>10.1</td>\n",
       "      <td>POINT (2605000.000 5635000.000)</td>\n",
       "    </tr>\n",
       "    <tr>\n",
       "      <th>2</th>\n",
       "      <td>2</td>\n",
       "      <td>30.3</td>\n",
       "      <td>POINT (2605000.000 5645000.000)</td>\n",
       "    </tr>\n",
       "  </tbody>\n",
       "</table>\n",
       "</div>"
      ],
      "text/plain": [
       "   index  mean                         geometry\n",
       "0      0  10.1  POINT (2605000.000 5635000.000)\n",
       "2      2  30.3  POINT (2605000.000 5645000.000)"
      ]
     },
     "execution_count": 15,
     "metadata": {},
     "output_type": "execute_result"
    }
   ],
   "source": [
    "point.get_data_by_att(\"index\", [0, 2], mode=\"geo\")"
   ]
  },
  {
   "cell_type": "markdown",
   "metadata": {},
   "source": [
    "### get_data_by_geom"
   ]
  },
  {
   "cell_type": "code",
   "execution_count": 16,
   "metadata": {
    "execution": {
     "iopub.execute_input": "2022-10-20T06:28:26.448473Z",
     "iopub.status.busy": "2022-10-20T06:28:26.447227Z",
     "iopub.status.idle": "2022-10-20T06:28:26.466044Z",
     "shell.execute_reply": "2022-10-20T06:28:26.465364Z"
    }
   },
   "outputs": [],
   "source": [
    "# get OGR.Geometry\n",
    "geom0 = poly.get_data_by_idx([0], mode=\"ogr\")[0]\n",
    "# get geopandas Geometry\n",
    "geom1 = poly.get_data_by_idx([0], mode=\"geo\")"
   ]
  },
  {
   "cell_type": "code",
   "execution_count": 17,
   "metadata": {
    "execution": {
     "iopub.execute_input": "2022-10-20T06:28:26.471634Z",
     "iopub.status.busy": "2022-10-20T06:28:26.470326Z",
     "iopub.status.idle": "2022-10-20T06:28:26.478208Z",
     "shell.execute_reply": "2022-10-20T06:28:26.477565Z"
    }
   },
   "outputs": [
    {
     "data": {
      "text/plain": [
       "array([[2605000.0, 5635000.0]], dtype=object)"
      ]
     },
     "execution_count": 17,
     "metadata": {},
     "output_type": "execute_result"
    }
   ],
   "source": [
    "point.get_data_by_geom(geom=geom0)"
   ]
  },
  {
   "cell_type": "code",
   "execution_count": 18,
   "metadata": {
    "execution": {
     "iopub.execute_input": "2022-10-20T06:28:26.483158Z",
     "iopub.status.busy": "2022-10-20T06:28:26.481903Z",
     "iopub.status.idle": "2022-10-20T06:28:26.489569Z",
     "shell.execute_reply": "2022-10-20T06:28:26.488923Z"
    }
   },
   "outputs": [
    {
     "data": {
      "text/plain": [
       "array([<osgeo.ogr.Geometry; proxy of <Swig Object of type 'OGRGeometryShadow *' at 0x7fce8014b0f0> >],\n",
       "      dtype=object)"
      ]
     },
     "execution_count": 18,
     "metadata": {},
     "output_type": "execute_result"
    }
   ],
   "source": [
    "point.get_data_by_geom(geom=geom0, mode=\"ogr\")"
   ]
  },
  {
   "cell_type": "code",
   "execution_count": 19,
   "metadata": {
    "execution": {
     "iopub.execute_input": "2022-10-20T06:28:26.494593Z",
     "iopub.status.busy": "2022-10-20T06:28:26.493321Z",
     "iopub.status.idle": "2022-10-20T06:28:26.507370Z",
     "shell.execute_reply": "2022-10-20T06:28:26.506723Z"
    }
   },
   "outputs": [
    {
     "data": {
      "text/html": [
       "<div>\n",
       "<style scoped>\n",
       "    .dataframe tbody tr th:only-of-type {\n",
       "        vertical-align: middle;\n",
       "    }\n",
       "\n",
       "    .dataframe tbody tr th {\n",
       "        vertical-align: top;\n",
       "    }\n",
       "\n",
       "    .dataframe thead th {\n",
       "        text-align: right;\n",
       "    }\n",
       "</style>\n",
       "<table border=\"1\" class=\"dataframe\">\n",
       "  <thead>\n",
       "    <tr style=\"text-align: right;\">\n",
       "      <th></th>\n",
       "      <th>index</th>\n",
       "      <th>mean</th>\n",
       "      <th>geometry</th>\n",
       "    </tr>\n",
       "  </thead>\n",
       "  <tbody>\n",
       "    <tr>\n",
       "      <th>0</th>\n",
       "      <td>0</td>\n",
       "      <td>10.1</td>\n",
       "      <td>POINT (2605000.000 5635000.000)</td>\n",
       "    </tr>\n",
       "  </tbody>\n",
       "</table>\n",
       "</div>"
      ],
      "text/plain": [
       "   index  mean                         geometry\n",
       "0      0  10.1  POINT (2605000.000 5635000.000)"
      ]
     },
     "execution_count": 19,
     "metadata": {},
     "output_type": "execute_result"
    }
   ],
   "source": [
    "point.get_data_by_geom(geom=geom1, mode=\"geo\")"
   ]
  },
  {
   "cell_type": "markdown",
   "metadata": {},
   "source": [
    "Finally, we can export the contained data to OGR/GDAL supported [vector](https://gdal.org/ogr_formats.html) and [raster](https://gdal.org/formats_list.html) files:"
   ]
  },
  {
   "cell_type": "code",
   "execution_count": 20,
   "metadata": {
    "execution": {
     "iopub.execute_input": "2022-10-20T06:28:26.512779Z",
     "iopub.status.busy": "2022-10-20T06:28:26.511515Z",
     "iopub.status.idle": "2022-10-20T06:28:26.541750Z",
     "shell.execute_reply": "2022-10-20T06:28:26.541055Z"
    }
   },
   "outputs": [],
   "source": [
    "# dump as 'ESRI Shapefile', default\n",
    "poly.dump_vector(\"test_poly.shp\")\n",
    "point.dump_vector(\"test_point.shp\")\n",
    "# dump as 'GeoJSON'\n",
    "poly.dump_vector(\"test_poly.geojson\", \"GeoJSON\")\n",
    "point.dump_vector(\"test_point.geojson\", \"GeoJSON\")\n",
    "# dump as 'GTiff', default\n",
    "poly.dump_raster(\"test_poly_raster.tif\", attr=\"mean\", pixel_size=100.0)\n",
    "# dump as 'netCDF'\n",
    "poly.dump_raster(\"test_poly_raster.nc\", \"netCDF\", attr=\"mean\", pixel_size=100.0)"
   ]
  },
  {
   "cell_type": "markdown",
   "metadata": {},
   "source": [
    "### reload geojson"
   ]
  },
  {
   "cell_type": "code",
   "execution_count": 21,
   "metadata": {
    "execution": {
     "iopub.execute_input": "2022-10-20T06:28:26.547446Z",
     "iopub.status.busy": "2022-10-20T06:28:26.546141Z",
     "iopub.status.idle": "2022-10-20T06:28:26.859171Z",
     "shell.execute_reply": "2022-10-20T06:28:26.858168Z"
    }
   },
   "outputs": [
    {
     "data": {
      "text/plain": [
       "<AxesSubplot: >"
      ]
     },
     "execution_count": 21,
     "metadata": {},
     "output_type": "execute_result"
    },
    {
     "data": {
      "image/png": "[encoded data removed]",
      "text/plain": [
       "<Figure size 640x480 with 1 Axes>"
      ]
     },
     "metadata": {},
     "output_type": "display_data"
    }
   ],
   "source": [
    "point2 = wrl.io.VectorSource(\"test_point.geojson\")\n",
    "poly2 = wrl.io.VectorSource(\"test_poly.geojson\")\n",
    "fig = pl.figure()\n",
    "ax = fig.add_subplot(111)\n",
    "poly2.geo.plot(column=\"index\", ax=ax)\n",
    "point2.geo.plot(ax=ax)"
   ]
  },
  {
   "cell_type": "markdown",
   "metadata": {},
   "source": [
    "### reload raster geotiff"
   ]
  },
  {
   "cell_type": "code",
   "execution_count": 22,
   "metadata": {
    "execution": {
     "iopub.execute_input": "2022-10-20T06:28:26.906252Z",
     "iopub.status.busy": "2022-10-20T06:28:26.905751Z",
     "iopub.status.idle": "2022-10-20T06:28:27.411074Z",
     "shell.execute_reply": "2022-10-20T06:28:27.410400Z"
    }
   },
   "outputs": [
    {
     "data": {
      "text/plain": [
       "<matplotlib.collections.QuadMesh at 0x7fce76dccac0>"
      ]
     },
     "execution_count": 22,
     "metadata": {},
     "output_type": "execute_result"
    },
    {
     "data": {
      "image/png": "[encoded data removed]",
      "text/plain": [
       "<Figure size 640x480 with 2 Axes>"
      ]
     },
     "metadata": {},
     "output_type": "display_data"
    }
   ],
   "source": [
    "import xarray as xr\n",
    "\n",
    "ds = xr.open_dataset(\"test_poly_raster.tif\")\n",
    "ds.band_data[0].plot()"
   ]
  },
  {
   "cell_type": "markdown",
   "metadata": {},
   "source": [
    "### reload raster netcdf"
   ]
  },
  {
   "cell_type": "code",
   "execution_count": 23,
   "metadata": {
    "execution": {
     "iopub.execute_input": "2022-10-20T06:28:27.415681Z",
     "iopub.status.busy": "2022-10-20T06:28:27.415081Z",
     "iopub.status.idle": "2022-10-20T06:28:27.764392Z",
     "shell.execute_reply": "2022-10-20T06:28:27.760662Z"
    }
   },
   "outputs": [
    {
     "data": {
      "text/plain": [
       "<matplotlib.collections.QuadMesh at 0x7fce76cbd6c0>"
      ]
     },
     "execution_count": 23,
     "metadata": {},
     "output_type": "execute_result"
    },
    {
     "data": {
      "image/png": "[encoded data removed]",
      "text/plain": [
       "<Figure size 640x480 with 2 Axes>"
      ]
     },
     "metadata": {},
     "output_type": "display_data"
    }
   ],
   "source": [
    "ds = xr.open_dataset(\"test_poly_raster.nc\")\n",
    "ds.Band1.plot()"
   ]
  }
 ],
 "metadata": {
  "celltoolbar": "Edit Metadata",
  "language_info": {
   "codemirror_mode": {
    "name": "ipython",
    "version": 3
   },
   "file_extension": ".py",
   "mimetype": "text/x-python",
   "name": "python",
   "nbconvert_exporter": "python",
   "pygments_lexer": "ipython3",
   "version": "3.10.6"
  },
  "toc": {
   "colors": {
    "hover_highlight": "#DAA520",
    "navigate_num": "#000000",
    "navigate_text": "#333333",
    "running_highlight": "#FF0000",
    "selected_highlight": "#FFD700",
    "sidebar_border": "#EEEEEE",
    "wrapper_background": "#FFFFFF"
   },
   "moveMenuLeft": true,
   "nav_menu": {
    "height": "105px",
    "width": "252px"
   },
   "navigate_menu": true,
   "number_sections": false,
   "sideBar": true,
   "threshold": 4,
   "toc_cell": false,
   "toc_section_display": "block",
   "toc_window_display": false,
   "widenNotebook": false
  }
 },
 "nbformat": 4,
 "nbformat_minor": 1
}
