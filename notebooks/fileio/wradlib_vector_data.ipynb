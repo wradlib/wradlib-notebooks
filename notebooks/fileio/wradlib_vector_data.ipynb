{
 "cells": [
  {
   "cell_type": "markdown",
   "metadata": {
    "nbsphinx": "hidden"
   },
   "source": [
    "This notebook is part of the $\\omega radlib$ documentation: https://docs.wradlib.org.\n",
    "\n",
    "Copyright (c) $\\omega radlib$ developers.\n",
    "Distributed under the MIT License. See LICENSE.txt for more info."
   ]
  },
  {
   "cell_type": "markdown",
   "metadata": {},
   "source": [
    "# Vector Source"
   ]
  },
  {
   "cell_type": "markdown",
   "metadata": {},
   "source": [
    "The ``VectorSource`` class is designed to conveniently handle Vector Data (eg. shapefiles). It originates from the ``zonalstats`` module but moved to ``io.gdal`` for better visibility\n",
    "\n",
    "- managing georeferenced data (grid points or grid polygons, zonal polygons),\n",
    "- output to vector and raster files available within ogr/gdal\n",
    "- geopandas dataframe connector"
   ]
  },
  {
   "cell_type": "code",
   "execution_count": null,
   "metadata": {},
   "outputs": [],
   "source": [
    "import wradlib as wrl\n",
    "import matplotlib.pyplot as pl\n",
    "import matplotlib as mpl\n",
    "import warnings\n",
    "\n",
    "warnings.filterwarnings(\"ignore\")\n",
    "try:\n",
    "    get_ipython().magic(\"matplotlib inline\")\n",
    "except:\n",
    "    pl.ion()\n",
    "import numpy as np"
   ]
  },
  {
   "cell_type": "markdown",
   "metadata": {},
   "source": [
    "The [wradlib.io.VectorSource](https://docs.wradlib.org/en/latest/generated/wradlib.io.gdal.VectorSource.html) class handles point or polygon vector data by wrapping ogr.DataSource with special functions.\n",
    "\n",
    "The following example shows how to create different VectorSource objects:"
   ]
  },
  {
   "cell_type": "code",
   "execution_count": null,
   "metadata": {},
   "outputs": [],
   "source": [
    "from osgeo import osr\n",
    "\n",
    "# create gk2 projection osr object\n",
    "proj_gk2 = osr.SpatialReference()\n",
    "proj_gk2.ImportFromEPSG(31466)\n",
    "\n",
    "# Setting up DataSource\n",
    "box0 = np.array(\n",
    "    [\n",
    "        [2600000.0, 5630000.0],\n",
    "        [2600000.0, 5640000.0],\n",
    "        [2610000.0, 5640000.0],\n",
    "        [2610000.0, 5630000.0],\n",
    "        [2600000.0, 5630000.0],\n",
    "    ]\n",
    ")\n",
    "box1 = np.array(\n",
    "    [\n",
    "        [2610000.0, 5630000.0],\n",
    "        [2610000.0, 5640000.0],\n",
    "        [2620000.0, 5640000.0],\n",
    "        [2620000.0, 5630000.0],\n",
    "        [2610000.0, 5630000.0],\n",
    "    ]\n",
    ")\n",
    "box2 = np.array(\n",
    "    [\n",
    "        [2600000.0, 5640000.0],\n",
    "        [2600000.0, 5650000.0],\n",
    "        [2610000.0, 5650000.0],\n",
    "        [2610000.0, 5640000.0],\n",
    "        [2600000.0, 5640000.0],\n",
    "    ]\n",
    ")\n",
    "box3 = np.array(\n",
    "    [\n",
    "        [2610000.0, 5640000.0],\n",
    "        [2610000.0, 5650000.0],\n",
    "        [2620000.0, 5650000.0],\n",
    "        [2620000.0, 5640000.0],\n",
    "        [2610000.0, 5640000.0],\n",
    "    ]\n",
    ")\n",
    "\n",
    "point0 = np.array(wrl.georef.get_centroid(box0))\n",
    "point1 = np.array(wrl.georef.get_centroid(box1))\n",
    "point2 = np.array(wrl.georef.get_centroid(box2))\n",
    "point3 = np.array(wrl.georef.get_centroid(box3))\n",
    "\n",
    "# creates Polygons in Datasource\n",
    "poly = wrl.io.VectorSource(\n",
    "    np.array([box0, box1, box2, box3]), srs=proj_gk2, name=\"poly\"\n",
    ")\n",
    "\n",
    "# creates Points in Datasource\n",
    "point = wrl.io.VectorSource(\n",
    "    np.vstack((point0, point1, point2, point3)), srs=proj_gk2, name=\"point\"\n",
    ")"
   ]
  },
  {
   "cell_type": "code",
   "execution_count": null,
   "metadata": {},
   "outputs": [],
   "source": [
    "print(poly)"
   ]
  },
  {
   "cell_type": "markdown",
   "metadata": {},
   "source": [
    "Let's have a look at the data, which will be exported as numpy arrays. The property ``data`` exports all available data as numpy arrays:"
   ]
  },
  {
   "cell_type": "markdown",
   "metadata": {},
   "source": [
    "### numpy access"
   ]
  },
  {
   "cell_type": "code",
   "execution_count": null,
   "metadata": {},
   "outputs": [],
   "source": [
    "print(poly.data)\n",
    "print(point.data)"
   ]
  },
  {
   "cell_type": "markdown",
   "metadata": {},
   "source": [
    "### accessing geopandas "
   ]
  },
  {
   "cell_type": "code",
   "execution_count": null,
   "metadata": {},
   "outputs": [],
   "source": [
    "poly.geo.explore()"
   ]
  },
  {
   "cell_type": "code",
   "execution_count": null,
   "metadata": {},
   "outputs": [],
   "source": [
    "point.geo.loc[slice(0, 2)]"
   ]
  },
  {
   "cell_type": "code",
   "execution_count": null,
   "metadata": {},
   "outputs": [],
   "source": [
    "point.geo.loc[[0, 1, 3]]"
   ]
  },
  {
   "cell_type": "code",
   "execution_count": null,
   "metadata": {},
   "outputs": [],
   "source": [
    "point.geo.query(\"index in (0, 2)\")"
   ]
  },
  {
   "cell_type": "code",
   "execution_count": null,
   "metadata": {},
   "outputs": [],
   "source": [
    "fig = pl.figure()\n",
    "ax = fig.add_subplot(111)\n",
    "poly.geo.plot(column=\"index\", ax=ax)\n",
    "point.geo.plot(ax=ax)"
   ]
  },
  {
   "cell_type": "markdown",
   "metadata": {},
   "source": [
    "Now, with the DataSource being created, we can add/set attribute data of the features:"
   ]
  },
  {
   "cell_type": "code",
   "execution_count": null,
   "metadata": {},
   "outputs": [],
   "source": [
    "# add attribute\n",
    "poly.set_attribute(\"mean\", np.array([10.1, 20.2, 30.3, 40.4]))\n",
    "point.set_attribute(\"mean\", np.array([10.1, 20.2, 30.3, 40.4]))"
   ]
  },
  {
   "cell_type": "markdown",
   "metadata": {},
   "source": [
    "Attributes associated with features can also be retrieved:"
   ]
  },
  {
   "cell_type": "code",
   "execution_count": null,
   "metadata": {},
   "outputs": [],
   "source": [
    "# get attributes\n",
    "print(poly.get_attributes([\"mean\"]))\n",
    "# get attributes filtered\n",
    "print(poly.get_attributes([\"mean\"], filt=(\"index\", 2)))"
   ]
  },
  {
   "cell_type": "markdown",
   "metadata": {},
   "source": [
    "Currently data can also be retrieved by:\n",
    "\n",
    "- index - [wradlib.zonalstats.DataSource.get_data_by_idx()](https://docs.wradlib.org/en/latest/generated/wradlib.zonalstats.DataSource.get_data_by_idx.html),\n",
    "- attribute - [wradlib.zonalstats.DataSource.get_data_by_att()](https://docs.wradlib.org/en/latest/generated/wradlib.zonalstats.DataSource.get_data_by_att.html) and\n",
    "- geometry - [wradlib.zonalstats.DataSource.get_data_by_geom()](https://docs.wradlib.org/en/latest/generated/wradlib.zonalstats.DataSource.get_data_by_geom.html)."
   ]
  },
  {
   "cell_type": "markdown",
   "metadata": {},
   "source": [
    "Using the property `mode` the output type can be set permanently."
   ]
  },
  {
   "cell_type": "markdown",
   "metadata": {},
   "source": [
    "### get_data_by_idx"
   ]
  },
  {
   "cell_type": "code",
   "execution_count": null,
   "metadata": {},
   "outputs": [],
   "source": [
    "point.get_data_by_idx([0, 2])"
   ]
  },
  {
   "cell_type": "code",
   "execution_count": null,
   "metadata": {},
   "outputs": [],
   "source": [
    "point.get_data_by_idx([0, 2], mode=\"geo\")"
   ]
  },
  {
   "cell_type": "markdown",
   "metadata": {},
   "source": [
    "### get_data_by_att"
   ]
  },
  {
   "cell_type": "code",
   "execution_count": null,
   "metadata": {},
   "outputs": [],
   "source": [
    "point.get_data_by_att(\"index\", [0, 2])"
   ]
  },
  {
   "cell_type": "code",
   "execution_count": null,
   "metadata": {},
   "outputs": [],
   "source": [
    "point.get_data_by_att(\"index\", [0, 2], mode=\"geo\")"
   ]
  },
  {
   "cell_type": "markdown",
   "metadata": {},
   "source": [
    "### get_data_by_geom"
   ]
  },
  {
   "cell_type": "code",
   "execution_count": null,
   "metadata": {},
   "outputs": [],
   "source": [
    "# get OGR.Geometry\n",
    "geom0 = poly.get_data_by_idx([0], mode=\"ogr\")[0]\n",
    "# get geopandas Geometry\n",
    "geom1 = poly.get_data_by_idx([0], mode=\"geo\")"
   ]
  },
  {
   "cell_type": "code",
   "execution_count": null,
   "metadata": {},
   "outputs": [],
   "source": [
    "point.get_data_by_geom(geom=geom0)"
   ]
  },
  {
   "cell_type": "code",
   "execution_count": null,
   "metadata": {},
   "outputs": [],
   "source": [
    "point.get_data_by_geom(geom=geom0, mode=\"ogr\")"
   ]
  },
  {
   "cell_type": "code",
   "execution_count": null,
   "metadata": {},
   "outputs": [],
   "source": [
    "point.get_data_by_geom(geom=geom1, mode=\"geo\")"
   ]
  },
  {
   "cell_type": "markdown",
   "metadata": {},
   "source": [
    "Finally, we can export the contained data to OGR/GDAL supported [vector](https://gdal.org/ogr_formats.html) and [raster](https://gdal.org/formats_list.html) files:"
   ]
  },
  {
   "cell_type": "code",
   "execution_count": null,
   "metadata": {},
   "outputs": [],
   "source": [
    "# dump as 'ESRI Shapefile', default\n",
    "poly.dump_vector(\"test_poly.shp\")\n",
    "point.dump_vector(\"test_point.shp\")\n",
    "# dump as 'GeoJSON'\n",
    "poly.dump_vector(\"test_poly.geojson\", \"GeoJSON\")\n",
    "point.dump_vector(\"test_point.geojson\", \"GeoJSON\")\n",
    "# dump as 'GTiff', default\n",
    "poly.dump_raster(\"test_poly_raster.tif\", attr=\"mean\", pixel_size=100.0)\n",
    "# dump as 'netCDF'\n",
    "poly.dump_raster(\"test_poly_raster.nc\", \"netCDF\", attr=\"mean\", pixel_size=100.0)"
   ]
  },
  {
   "cell_type": "markdown",
   "metadata": {},
   "source": [
    "### reload geojson"
   ]
  },
  {
   "cell_type": "code",
   "execution_count": null,
   "metadata": {},
   "outputs": [],
   "source": [
    "point2 = wrl.io.VectorSource(\"test_point.geojson\")\n",
    "poly2 = wrl.io.VectorSource(\"test_poly.geojson\")\n",
    "fig = pl.figure()\n",
    "ax = fig.add_subplot(111)\n",
    "poly2.geo.plot(column=\"index\", ax=ax)\n",
    "point2.geo.plot(ax=ax)"
   ]
  },
  {
   "cell_type": "markdown",
   "metadata": {},
   "source": [
    "### reload raster geotiff"
   ]
  },
  {
   "cell_type": "code",
   "execution_count": null,
   "metadata": {},
   "outputs": [],
   "source": [
    "import xarray as xr\n",
    "\n",
    "ds = xr.open_dataset(\"test_poly_raster.tif\")\n",
    "ds.band_data[0].plot()"
   ]
  },
  {
   "cell_type": "markdown",
   "metadata": {},
   "source": [
    "### reload raster netcdf"
   ]
  },
  {
   "cell_type": "code",
   "execution_count": null,
   "metadata": {},
   "outputs": [],
   "source": [
    "ds = xr.open_dataset(\"test_poly_raster.nc\")\n",
    "ds.Band1.plot()"
   ]
  }
 ],
 "metadata": {
  "celltoolbar": "Edit Metadata",
  "language_info": {
   "codemirror_mode": {
    "name": "ipython",
    "version": 3
   },
   "file_extension": ".py",
   "mimetype": "text/x-python",
   "name": "python",
   "nbconvert_exporter": "python",
   "pygments_lexer": "ipython3",
   "version": "3.9.9"
  },
  "toc": {
   "colors": {
    "hover_highlight": "#DAA520",
    "navigate_num": "#000000",
    "navigate_text": "#333333",
    "running_highlight": "#FF0000",
    "selected_highlight": "#FFD700",
    "sidebar_border": "#EEEEEE",
    "wrapper_background": "#FFFFFF"
   },
   "moveMenuLeft": true,
   "nav_menu": {
    "height": "105px",
    "width": "252px"
   },
   "navigate_menu": true,
   "number_sections": false,
   "sideBar": true,
   "threshold": 4,
   "toc_cell": false,
   "toc_section_display": "block",
   "toc_window_display": false,
   "widenNotebook": false
  }
 },
 "nbformat": 4,
 "nbformat_minor": 1
}
