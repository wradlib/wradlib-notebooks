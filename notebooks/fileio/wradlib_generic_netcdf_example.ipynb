{
 "cells": [
  {
   "cell_type": "markdown",
   "metadata": {
    "nbsphinx": "hidden"
   },
   "source": [
    "This notebook is part of the $\\omega radlib$ documentation: https://docs.wradlib.org.\n",
    "\n",
    "Copyright (c) $\\omega radlib$ developers.\n",
    "Distributed under the MIT License. See LICENSE.txt for more info."
   ]
  },
  {
   "cell_type": "markdown",
   "metadata": {},
   "source": [
    "# Reading NetCDF files with a generic reader\n",
    "\n",
    "In this example, we read NetCDF files from different sources using a generic reader from $\\omega radlib's$ io module."
   ]
  },
  {
   "cell_type": "code",
   "execution_count": 1,
   "metadata": {
    "execution": {
     "iopub.execute_input": "2022-05-19T11:47:25.570780Z",
     "iopub.status.busy": "2022-05-19T11:47:25.570530Z",
     "iopub.status.idle": "2022-05-19T11:47:27.466119Z",
     "shell.execute_reply": "2022-05-19T11:47:27.465539Z"
    }
   },
   "outputs": [],
   "source": [
    "from wradlib.io import read_generic_netcdf\n",
    "from wradlib.util import get_wradlib_data_file\n",
    "import os"
   ]
  },
  {
   "cell_type": "code",
   "execution_count": 2,
   "metadata": {
    "execution": {
     "iopub.execute_input": "2022-05-19T11:47:27.469179Z",
     "iopub.status.busy": "2022-05-19T11:47:27.468795Z",
     "iopub.status.idle": "2022-05-19T11:47:27.473403Z",
     "shell.execute_reply": "2022-05-19T11:47:27.472924Z"
    }
   },
   "outputs": [],
   "source": [
    "# A little helper function for repeated tasks\n",
    "def read_and_overview(filename):\n",
    "    \"\"\"Read NetCDF using read_generic_netcdf and print upper level dictionary keys\n",
    "    \"\"\"\n",
    "    test = read_generic_netcdf(filename)\n",
    "    print(\"\\nPrint keys for file %s\" % os.path.basename(filename))\n",
    "    for key in test.keys():\n",
    "        print(\"\\t%s\" % key)"
   ]
  },
  {
   "cell_type": "markdown",
   "metadata": {},
   "source": [
    "### CfRadial example from TITAN homepage\n",
    "\n",
    "See also: https://ral.ucar.edu/projects/titan/docs/radial_formats/"
   ]
  },
  {
   "cell_type": "code",
   "execution_count": 3,
   "metadata": {
    "execution": {
     "iopub.execute_input": "2022-05-19T11:47:27.475561Z",
     "iopub.status.busy": "2022-05-19T11:47:27.475247Z",
     "iopub.status.idle": "2022-05-19T11:47:27.961403Z",
     "shell.execute_reply": "2022-05-19T11:47:27.960873Z"
    }
   },
   "outputs": [
    {
     "name": "stdout",
     "output_type": "stream",
     "text": [
      "\n",
      "Print keys for file cfrad.20080604_002217_000_SPOL_v36_SUR.nc\n",
      "\tConventions\n",
      "\tversion\n",
      "\ttitle\n",
      "\tinstitution\n",
      "\treferences\n",
      "\tsource\n",
      "\thistory\n",
      "\tcomment\n",
      "\tinstrument_name\n",
      "\tsite_name\n",
      "\tscan_name\n",
      "\tscan_id\n",
      "\tplatform_is_mobile\n",
      "\tn_gates_vary\n",
      "\tdimensions\n",
      "\tvariables\n"
     ]
    }
   ],
   "source": [
    "filename = 'netcdf/cfrad.20080604_002217_000_SPOL_v36_SUR.nc'\n",
    "filename = get_wradlib_data_file(filename)\n",
    "read_and_overview(filename)"
   ]
  },
  {
   "cell_type": "markdown",
   "metadata": {},
   "source": [
    "### Example PPI from Py-ART repository\n",
    "\n",
    "See also: https://github.com/ARM-DOE/pyart/"
   ]
  },
  {
   "cell_type": "code",
   "execution_count": 4,
   "metadata": {
    "execution": {
     "iopub.execute_input": "2022-05-19T11:47:27.965008Z",
     "iopub.status.busy": "2022-05-19T11:47:27.963895Z",
     "iopub.status.idle": "2022-05-19T11:47:27.983678Z",
     "shell.execute_reply": "2022-05-19T11:47:27.983181Z"
    }
   },
   "outputs": [
    {
     "name": "stdout",
     "output_type": "stream",
     "text": [
      "\n",
      "Print keys for file example_cfradial_ppi.nc\n",
      "\tcomment\n",
      "\ttitle\n",
      "\tConventions\n",
      "\tsource\n",
      "\tversion\n",
      "\treferences\n",
      "\tinstrument_name\n",
      "\tinstitution\n",
      "\tfield_names\n",
      "\thistory\n",
      "\tdimensions\n",
      "\tvariables\n"
     ]
    }
   ],
   "source": [
    "filename = 'netcdf/example_cfradial_ppi.nc'\n",
    "filename = get_wradlib_data_file(filename)\n",
    "read_and_overview(filename)"
   ]
  },
  {
   "cell_type": "markdown",
   "metadata": {},
   "source": [
    "### Example RHI from Py-ART repository\n",
    "See also: https://github.com/ARM-DOE/pyart/"
   ]
  },
  {
   "cell_type": "code",
   "execution_count": 5,
   "metadata": {
    "execution": {
     "iopub.execute_input": "2022-05-19T11:47:27.986697Z",
     "iopub.status.busy": "2022-05-19T11:47:27.986330Z",
     "iopub.status.idle": "2022-05-19T11:47:28.005307Z",
     "shell.execute_reply": "2022-05-19T11:47:28.004828Z"
    }
   },
   "outputs": [
    {
     "name": "stdout",
     "output_type": "stream",
     "text": [
      "\n",
      "Print keys for file example_cfradial_rhi.nc\n",
      "\tcomment\n",
      "\ttitle\n",
      "\tConventions\n",
      "\tsource\n",
      "\tversion\n",
      "\treferences\n",
      "\tinstrument_name\n",
      "\tinstitution\n",
      "\tfield_names\n",
      "\thistory\n",
      "\tdimensions\n",
      "\tvariables\n"
     ]
    }
   ],
   "source": [
    "filename = 'netcdf/example_cfradial_rhi.nc'\n",
    "filename = get_wradlib_data_file(filename)\n",
    "read_and_overview(filename)"
   ]
  },
  {
   "cell_type": "markdown",
   "metadata": {},
   "source": [
    "### Example EDGE NetCDF export format"
   ]
  },
  {
   "cell_type": "code",
   "execution_count": 6,
   "metadata": {
    "execution": {
     "iopub.execute_input": "2022-05-19T11:47:28.008004Z",
     "iopub.status.busy": "2022-05-19T11:47:28.007641Z",
     "iopub.status.idle": "2022-05-19T11:47:28.014672Z",
     "shell.execute_reply": "2022-05-19T11:47:28.014223Z"
    }
   },
   "outputs": [
    {
     "name": "stdout",
     "output_type": "stream",
     "text": [
      "\n",
      "Print keys for file edge_netcdf.nc\n",
      "\tTypeName\n",
      "\tDataType\n",
      "\tLatitude\n",
      "\tLongitude\n",
      "\tHeight\n",
      "\tTime\n",
      "\tFractionalTime\n",
      "\tattributes\n",
      "\tNyquistVelocity-unit\n",
      "\tNyquistVelocity-value\n",
      "\tvcp-unit\n",
      "\tvcp-value\n",
      "\tradarName-unit\n",
      "\tradarName-value\n",
      "\tColorMap-unit\n",
      "\tColorMap-value\n",
      "\tElevation\n",
      "\tElevationUnits\n",
      "\tMissingData\n",
      "\tRangeFolded\n",
      "\tRadarParameters\n",
      "\tPRF-unit\n",
      "\tPRF-value\n",
      "\tPulseWidth-unit\n",
      "\tPulseWidth-value\n",
      "\tMaximumRange-unit\n",
      "\tMaximumRange-value\n",
      "\tConversionPlugin\n",
      "\tdimensions\n",
      "\tvariables\n"
     ]
    }
   ],
   "source": [
    "filename = 'netcdf/edge_netcdf.nc'\n",
    "filename = get_wradlib_data_file(filename)\n",
    "read_and_overview(filename)"
   ]
  }
 ],
 "metadata": {
  "language_info": {
   "codemirror_mode": {
    "name": "ipython",
    "version": 3
   },
   "file_extension": ".py",
   "mimetype": "text/x-python",
   "name": "python",
   "nbconvert_exporter": "python",
   "pygments_lexer": "ipython3",
   "version": "3.10.4"
  },
  "toc": {
   "colors": {
    "hover_highlight": "#DAA520",
    "navigate_num": "#000000",
    "navigate_text": "#333333",
    "running_highlight": "#FF0000",
    "selected_highlight": "#FFD700",
    "sidebar_border": "#EEEEEE",
    "wrapper_background": "#FFFFFF"
   },
   "moveMenuLeft": true,
   "nav_menu": {
    "height": "121px",
    "width": "252px"
   },
   "navigate_menu": true,
   "number_sections": false,
   "sideBar": true,
   "threshold": 4,
   "toc_cell": false,
   "toc_section_display": "block",
   "toc_window_display": false,
   "widenNotebook": false
  }
 },
 "nbformat": 4,
 "nbformat_minor": 1
}
