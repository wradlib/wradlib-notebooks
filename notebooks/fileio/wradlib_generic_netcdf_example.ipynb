{
 "cells": [
  {
   "cell_type": "markdown",
   "metadata": {
    "nbsphinx": "hidden"
   },
   "source": [
    "This notebook is part of the $\\omega radlib$ documentation: https://docs.wradlib.org.\n",
    "\n",
    "Copyright (c) $\\omega radlib$ developers.\n",
    "Distributed under the MIT License. See LICENSE.txt for more info."
   ]
  },
  {
   "cell_type": "markdown",
   "metadata": {},
   "source": [
    "# Reading NetCDF files with a generic reader\n",
    "\n",
    "In this example, we read NetCDF files from different sources using a generic reader from $\\omega radlib's$ io module."
   ]
  },
  {
   "cell_type": "code",
   "execution_count": 1,
   "metadata": {
    "execution": {
     "iopub.execute_input": "2022-04-11T06:26:21.485387Z",
     "iopub.status.busy": "2022-04-11T06:26:21.485190Z",
     "iopub.status.idle": "2022-04-11T06:26:23.439702Z",
     "shell.execute_reply": "2022-04-11T06:26:23.439221Z"
    }
   },
   "outputs": [],
   "source": [
    "from wradlib.io import read_generic_netcdf\n",
    "from wradlib.util import get_wradlib_data_file\n",
    "import os"
   ]
  },
  {
   "cell_type": "code",
   "execution_count": 2,
   "metadata": {
    "execution": {
     "iopub.execute_input": "2022-04-11T06:26:23.442872Z",
     "iopub.status.busy": "2022-04-11T06:26:23.442533Z",
     "iopub.status.idle": "2022-04-11T06:26:23.445923Z",
     "shell.execute_reply": "2022-04-11T06:26:23.445566Z"
    }
   },
   "outputs": [],
   "source": [
    "# A little helper function for repeated tasks\n",
    "def read_and_overview(filename):\n",
    "    \"\"\"Read NetCDF using read_generic_netcdf and print upper level dictionary keys\n",
    "    \"\"\"\n",
    "    test = read_generic_netcdf(filename)\n",
    "    print(\"\\nPrint keys for file %s\" % os.path.basename(filename))\n",
    "    for key in test.keys():\n",
    "        print(\"\\t%s\" % key)"
   ]
  },
  {
   "cell_type": "markdown",
   "metadata": {},
   "source": [
    "### CfRadial example from TITAN homepage\n",
    "\n",
    "See also: https://ral.ucar.edu/projects/titan/docs/radial_formats/"
   ]
  },
  {
   "cell_type": "code",
   "execution_count": 3,
   "metadata": {
    "execution": {
     "iopub.execute_input": "2022-04-11T06:26:23.448748Z",
     "iopub.status.busy": "2022-04-11T06:26:23.447905Z",
     "iopub.status.idle": "2022-04-11T06:26:23.933663Z",
     "shell.execute_reply": "2022-04-11T06:26:23.933202Z"
    }
   },
   "outputs": [
    {
     "name": "stdout",
     "output_type": "stream",
     "text": [
      "\n",
      "Print keys for file cfrad.20080604_002217_000_SPOL_v36_SUR.nc\n",
      "\tConventions\n",
      "\tversion\n",
      "\ttitle\n",
      "\tinstitution\n",
      "\treferences\n",
      "\tsource\n",
      "\thistory\n",
      "\tcomment\n",
      "\tinstrument_name\n",
      "\tsite_name\n",
      "\tscan_name\n",
      "\tscan_id\n",
      "\tplatform_is_mobile\n",
      "\tn_gates_vary\n",
      "\tdimensions\n",
      "\tvariables\n"
     ]
    }
   ],
   "source": [
    "filename = 'netcdf/cfrad.20080604_002217_000_SPOL_v36_SUR.nc'\n",
    "filename = get_wradlib_data_file(filename)\n",
    "read_and_overview(filename)"
   ]
  },
  {
   "cell_type": "markdown",
   "metadata": {},
   "source": [
    "### Example PPI from Py-ART repository\n",
    "\n",
    "See also: https://github.com/ARM-DOE/pyart/"
   ]
  },
  {
   "cell_type": "code",
   "execution_count": 4,
   "metadata": {
    "execution": {
     "iopub.execute_input": "2022-04-11T06:26:23.937432Z",
     "iopub.status.busy": "2022-04-11T06:26:23.936584Z",
     "iopub.status.idle": "2022-04-11T06:26:23.955831Z",
     "shell.execute_reply": "2022-04-11T06:26:23.955444Z"
    }
   },
   "outputs": [
    {
     "name": "stdout",
     "output_type": "stream",
     "text": [
      "\n",
      "Print keys for file example_cfradial_ppi.nc\n",
      "\tcomment\n",
      "\ttitle\n",
      "\tConventions\n",
      "\tsource\n",
      "\tversion\n",
      "\treferences\n",
      "\tinstrument_name\n",
      "\tinstitution\n",
      "\tfield_names\n",
      "\thistory\n",
      "\tdimensions\n",
      "\tvariables\n"
     ]
    }
   ],
   "source": [
    "filename = 'netcdf/example_cfradial_ppi.nc'\n",
    "filename = get_wradlib_data_file(filename)\n",
    "read_and_overview(filename)"
   ]
  },
  {
   "cell_type": "markdown",
   "metadata": {},
   "source": [
    "### Example RHI from Py-ART repository\n",
    "See also: https://github.com/ARM-DOE/pyart/"
   ]
  },
  {
   "cell_type": "code",
   "execution_count": 5,
   "metadata": {
    "execution": {
     "iopub.execute_input": "2022-04-11T06:26:23.959259Z",
     "iopub.status.busy": "2022-04-11T06:26:23.958425Z",
     "iopub.status.idle": "2022-04-11T06:26:23.976801Z",
     "shell.execute_reply": "2022-04-11T06:26:23.976421Z"
    }
   },
   "outputs": [
    {
     "name": "stdout",
     "output_type": "stream",
     "text": [
      "\n",
      "Print keys for file example_cfradial_rhi.nc\n",
      "\tcomment\n",
      "\ttitle\n",
      "\tConventions\n",
      "\tsource\n",
      "\tversion\n",
      "\treferences\n",
      "\tinstrument_name\n",
      "\tinstitution\n",
      "\tfield_names\n",
      "\thistory\n",
      "\tdimensions\n",
      "\tvariables\n"
     ]
    }
   ],
   "source": [
    "filename = 'netcdf/example_cfradial_rhi.nc'\n",
    "filename = get_wradlib_data_file(filename)\n",
    "read_and_overview(filename)"
   ]
  },
  {
   "cell_type": "markdown",
   "metadata": {},
   "source": [
    "### Example EDGE NetCDF export format"
   ]
  },
  {
   "cell_type": "code",
   "execution_count": 6,
   "metadata": {
    "execution": {
     "iopub.execute_input": "2022-04-11T06:26:23.980111Z",
     "iopub.status.busy": "2022-04-11T06:26:23.979290Z",
     "iopub.status.idle": "2022-04-11T06:26:23.986024Z",
     "shell.execute_reply": "2022-04-11T06:26:23.985651Z"
    }
   },
   "outputs": [
    {
     "name": "stdout",
     "output_type": "stream",
     "text": [
      "\n",
      "Print keys for file edge_netcdf.nc\n",
      "\tTypeName\n",
      "\tDataType\n",
      "\tLatitude\n",
      "\tLongitude\n",
      "\tHeight\n",
      "\tTime\n",
      "\tFractionalTime\n",
      "\tattributes\n",
      "\tNyquistVelocity-unit\n",
      "\tNyquistVelocity-value\n",
      "\tvcp-unit\n",
      "\tvcp-value\n",
      "\tradarName-unit\n",
      "\tradarName-value\n",
      "\tColorMap-unit\n",
      "\tColorMap-value\n",
      "\tElevation\n",
      "\tElevationUnits\n",
      "\tMissingData\n",
      "\tRangeFolded\n",
      "\tRadarParameters\n",
      "\tPRF-unit\n",
      "\tPRF-value\n",
      "\tPulseWidth-unit\n",
      "\tPulseWidth-value\n",
      "\tMaximumRange-unit\n",
      "\tMaximumRange-value\n",
      "\tConversionPlugin\n",
      "\tdimensions\n",
      "\tvariables\n"
     ]
    }
   ],
   "source": [
    "filename = 'netcdf/edge_netcdf.nc'\n",
    "filename = get_wradlib_data_file(filename)\n",
    "read_and_overview(filename)"
   ]
  }
 ],
 "metadata": {
  "language_info": {
   "codemirror_mode": {
    "name": "ipython",
    "version": 3
   },
   "file_extension": ".py",
   "mimetype": "text/x-python",
   "name": "python",
   "nbconvert_exporter": "python",
   "pygments_lexer": "ipython3",
   "version": "3.10.4"
  },
  "toc": {
   "colors": {
    "hover_highlight": "#DAA520",
    "navigate_num": "#000000",
    "navigate_text": "#333333",
    "running_highlight": "#FF0000",
    "selected_highlight": "#FFD700",
    "sidebar_border": "#EEEEEE",
    "wrapper_background": "#FFFFFF"
   },
   "moveMenuLeft": true,
   "nav_menu": {
    "height": "121px",
    "width": "252px"
   },
   "navigate_menu": true,
   "number_sections": false,
   "sideBar": true,
   "threshold": 4,
   "toc_cell": false,
   "toc_section_display": "block",
   "toc_window_display": false,
   "widenNotebook": false
  }
 },
 "nbformat": 4,
 "nbformat_minor": 1
}
