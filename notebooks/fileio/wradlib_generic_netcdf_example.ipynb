{
 "cells": [
  {
   "cell_type": "markdown",
   "metadata": {
    "nbsphinx": "hidden"
   },
   "source": [
    "This notebook is part of the $\\omega radlib$ documentation: https://docs.wradlib.org.\n",
    "\n",
    "Copyright (c) $\\omega radlib$ developers.\n",
    "Distributed under the MIT License. See LICENSE.txt for more info."
   ]
  },
  {
   "cell_type": "markdown",
   "metadata": {},
   "source": [
    "# Reading NetCDF files with a generic reader\n",
    "\n",
    "In this example, we read NetCDF files from different sources using a generic reader from $\\omega radlib's$ io module."
   ]
  },
  {
   "cell_type": "code",
   "execution_count": 1,
   "metadata": {
    "execution": {
     "iopub.execute_input": "2021-06-01T10:00:20.265216Z",
     "iopub.status.busy": "2021-06-01T10:00:20.259228Z",
     "iopub.status.idle": "2021-06-01T10:00:21.736181Z",
     "shell.execute_reply": "2021-06-01T10:00:21.736926Z"
    }
   },
   "outputs": [],
   "source": [
    "from wradlib.io import read_generic_netcdf\n",
    "from wradlib.util import get_wradlib_data_file\n",
    "import os"
   ]
  },
  {
   "cell_type": "code",
   "execution_count": 2,
   "metadata": {
    "execution": {
     "iopub.execute_input": "2021-06-01T10:00:21.740322Z",
     "iopub.status.busy": "2021-06-01T10:00:21.739307Z",
     "iopub.status.idle": "2021-06-01T10:00:21.744031Z",
     "shell.execute_reply": "2021-06-01T10:00:21.744758Z"
    }
   },
   "outputs": [],
   "source": [
    "# A little helper function for repeated tasks\n",
    "def read_and_overview(filename):\n",
    "    \"\"\"Read NetCDF using read_generic_netcdf and print upper level dictionary keys\n",
    "    \"\"\"\n",
    "    test = read_generic_netcdf(filename)\n",
    "    print(\"\\nPrint keys for file %s\" % os.path.basename(filename))\n",
    "    for key in test.keys():\n",
    "        print(\"\\t%s\" % key)"
   ]
  },
  {
   "cell_type": "markdown",
   "metadata": {},
   "source": [
    "### CfRadial example from TITAN homepage\n",
    "\n",
    "See also: https://www.ral.ucar.edu/projects/titan/docs/radial_formats"
   ]
  },
  {
   "cell_type": "code",
   "execution_count": 3,
   "metadata": {
    "execution": {
     "iopub.execute_input": "2021-06-01T10:00:21.748070Z",
     "iopub.status.busy": "2021-06-01T10:00:21.747015Z",
     "iopub.status.idle": "2021-06-01T10:00:22.277262Z",
     "shell.execute_reply": "2021-06-01T10:00:22.277934Z"
    }
   },
   "outputs": [
    {
     "name": "stdout",
     "output_type": "stream",
     "text": [
      "\n",
      "Print keys for file cfrad.20080604_002217_000_SPOL_v36_SUR.nc\n",
      "\tConventions\n",
      "\tversion\n",
      "\ttitle\n",
      "\tinstitution\n",
      "\treferences\n",
      "\tsource\n",
      "\thistory\n",
      "\tcomment\n",
      "\tinstrument_name\n",
      "\tsite_name\n",
      "\tscan_name\n",
      "\tscan_id\n",
      "\tplatform_is_mobile\n",
      "\tn_gates_vary\n",
      "\tdimensions\n",
      "\tvariables\n"
     ]
    }
   ],
   "source": [
    "filename = 'netcdf/cfrad.20080604_002217_000_SPOL_v36_SUR.nc'\n",
    "filename = get_wradlib_data_file(filename)\n",
    "read_and_overview(filename)"
   ]
  },
  {
   "cell_type": "markdown",
   "metadata": {},
   "source": [
    "### Example PPI from Py-ART repository\n",
    "\n",
    "See also: https://github.com/ARM-DOE/pyart/"
   ]
  },
  {
   "cell_type": "code",
   "execution_count": 4,
   "metadata": {
    "execution": {
     "iopub.execute_input": "2021-06-01T10:00:22.282053Z",
     "iopub.status.busy": "2021-06-01T10:00:22.280488Z",
     "iopub.status.idle": "2021-06-01T10:00:22.309583Z",
     "shell.execute_reply": "2021-06-01T10:00:22.310207Z"
    }
   },
   "outputs": [
    {
     "name": "stdout",
     "output_type": "stream",
     "text": [
      "\n",
      "Print keys for file example_cfradial_ppi.nc\n",
      "\tcomment\n",
      "\ttitle\n",
      "\tConventions\n",
      "\tsource\n",
      "\tversion\n",
      "\treferences\n",
      "\tinstrument_name\n",
      "\tinstitution\n",
      "\tfield_names\n",
      "\thistory\n",
      "\tdimensions\n",
      "\tvariables\n"
     ]
    }
   ],
   "source": [
    "filename = 'netcdf/example_cfradial_ppi.nc'\n",
    "filename = get_wradlib_data_file(filename)\n",
    "read_and_overview(filename)"
   ]
  },
  {
   "cell_type": "markdown",
   "metadata": {},
   "source": [
    "### Example RHI from Py-ART repository\n",
    "See also: https://github.com/ARM-DOE/pyart/"
   ]
  },
  {
   "cell_type": "code",
   "execution_count": 5,
   "metadata": {
    "execution": {
     "iopub.execute_input": "2021-06-01T10:00:22.313410Z",
     "iopub.status.busy": "2021-06-01T10:00:22.312403Z",
     "iopub.status.idle": "2021-06-01T10:00:22.339054Z",
     "shell.execute_reply": "2021-06-01T10:00:22.339656Z"
    }
   },
   "outputs": [
    {
     "name": "stdout",
     "output_type": "stream",
     "text": [
      "\n",
      "Print keys for file example_cfradial_rhi.nc\n",
      "\tcomment\n",
      "\ttitle\n",
      "\tConventions\n",
      "\tsource\n",
      "\tversion\n",
      "\treferences\n",
      "\tinstrument_name\n",
      "\tinstitution\n",
      "\tfield_names\n",
      "\thistory\n",
      "\tdimensions\n",
      "\tvariables\n"
     ]
    }
   ],
   "source": [
    "filename = 'netcdf/example_cfradial_rhi.nc'\n",
    "filename = get_wradlib_data_file(filename)\n",
    "read_and_overview(filename)"
   ]
  },
  {
   "cell_type": "markdown",
   "metadata": {},
   "source": [
    "### Example EDGE NetCDF export format"
   ]
  },
  {
   "cell_type": "code",
   "execution_count": 6,
   "metadata": {
    "execution": {
     "iopub.execute_input": "2021-06-01T10:00:22.343081Z",
     "iopub.status.busy": "2021-06-01T10:00:22.341856Z",
     "iopub.status.idle": "2021-06-01T10:00:22.352909Z",
     "shell.execute_reply": "2021-06-01T10:00:22.353549Z"
    }
   },
   "outputs": [
    {
     "name": "stdout",
     "output_type": "stream",
     "text": [
      "\n",
      "Print keys for file edge_netcdf.nc\n",
      "\tTypeName\n",
      "\tDataType\n",
      "\tLatitude\n",
      "\tLongitude\n",
      "\tHeight\n",
      "\tTime\n",
      "\tFractionalTime\n",
      "\tattributes\n",
      "\tNyquistVelocity-unit\n",
      "\tNyquistVelocity-value\n",
      "\tvcp-unit\n",
      "\tvcp-value\n",
      "\tradarName-unit\n",
      "\tradarName-value\n",
      "\tColorMap-unit\n",
      "\tColorMap-value\n",
      "\tElevation\n",
      "\tElevationUnits\n",
      "\tMissingData\n",
      "\tRangeFolded\n",
      "\tRadarParameters\n",
      "\tPRF-unit\n",
      "\tPRF-value\n",
      "\tPulseWidth-unit\n",
      "\tPulseWidth-value\n",
      "\tMaximumRange-unit\n",
      "\tMaximumRange-value\n",
      "\tConversionPlugin\n",
      "\tdimensions\n",
      "\tvariables\n"
     ]
    }
   ],
   "source": [
    "filename = 'netcdf/edge_netcdf.nc'\n",
    "filename = get_wradlib_data_file(filename)\n",
    "read_and_overview(filename)"
   ]
  }
 ],
 "metadata": {
  "kernelspec": {
   "display_name": "Python 3",
   "language": "python",
   "name": "python3"
  },
  "language_info": {
   "codemirror_mode": {
    "name": "ipython",
    "version": 3
   },
   "file_extension": ".py",
   "mimetype": "text/x-python",
   "name": "python",
   "nbconvert_exporter": "python",
   "pygments_lexer": "ipython3",
   "version": "3.9.4"
  },
  "toc": {
   "colors": {
    "hover_highlight": "#DAA520",
    "navigate_num": "#000000",
    "navigate_text": "#333333",
    "running_highlight": "#FF0000",
    "selected_highlight": "#FFD700",
    "sidebar_border": "#EEEEEE",
    "wrapper_background": "#FFFFFF"
   },
   "moveMenuLeft": true,
   "nav_menu": {
    "height": "121px",
    "width": "252px"
   },
   "navigate_menu": true,
   "number_sections": false,
   "sideBar": true,
   "threshold": 4,
   "toc_cell": false,
   "toc_section_display": "block",
   "toc_window_display": false,
   "widenNotebook": false
  }
 },
 "nbformat": 4,
 "nbformat_minor": 1
}
