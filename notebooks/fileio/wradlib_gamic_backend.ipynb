{
 "cells": [
  {
   "cell_type": "markdown",
   "metadata": {
    "nbsphinx": "hidden"
   },
   "source": [
    "This notebook is part of the $\\omega radlib$ documentation: https://docs.wradlib.org.\n",
    "\n",
    "Copyright (c) $\\omega radlib$ developers.\n",
    "Distributed under the MIT License. See LICENSE.txt for more info."
   ]
  },
  {
   "cell_type": "markdown",
   "metadata": {},
   "source": [
    "# xarray GAMIC backend\n",
    "\n",
    "In this example, we read GAMIC (HDF5) data files using the xarray `gamic` backend."
   ]
  },
  {
   "cell_type": "code",
   "execution_count": null,
   "metadata": {},
   "outputs": [],
   "source": [
    "import glob\n",
    "import wradlib as wrl\n",
    "import warnings\n",
    "\n",
    "warnings.filterwarnings(\"ignore\")\n",
    "import matplotlib.pyplot as pl\n",
    "import numpy as np\n",
    "import xarray as xr\n",
    "\n",
    "try:\n",
    "    get_ipython().magic(\"matplotlib inline\")\n",
    "except:\n",
    "    pl.ion()"
   ]
  },
  {
   "cell_type": "markdown",
   "metadata": {},
   "source": [
    "## Load ODIM_H5 Volume Data"
   ]
  },
  {
   "cell_type": "code",
   "execution_count": null,
   "metadata": {},
   "outputs": [],
   "source": [
    "fpath = \"hdf5/DWD-Vol-2_99999_20180601054047_00.h5\"\n",
    "f = wrl.util.get_wradlib_data_file(fpath)\n",
    "vol = wrl.io.open_gamic_dataset(f)"
   ]
  },
  {
   "cell_type": "markdown",
   "metadata": {},
   "source": [
    "### Inspect RadarVolume"
   ]
  },
  {
   "cell_type": "code",
   "execution_count": null,
   "metadata": {},
   "outputs": [],
   "source": [
    "display(vol)"
   ]
  },
  {
   "cell_type": "markdown",
   "metadata": {},
   "source": [
    "### Inspect root group\n",
    "\n",
    "The `sweep` dimension contains the number of scans in this radar volume. Further the dataset consists of variables (location coordinates, time_coverage) and attributes (Conventions, metadata)."
   ]
  },
  {
   "cell_type": "code",
   "execution_count": null,
   "metadata": {},
   "outputs": [],
   "source": [
    "vol.root"
   ]
  },
  {
   "cell_type": "markdown",
   "metadata": {},
   "source": [
    "### Inspect sweep group(s)\n",
    "\n",
    "The sweep-groups can be accessed via their respective keys. The dimensions consist of `range` and `time` with added coordinates `azimuth`, `elevation`, `range` and `time`. There will be variables like radar moments (DBZH etc.) and sweep-dependend metadata (like `fixed_angle`, `sweep_mode` etc.)."
   ]
  },
  {
   "cell_type": "code",
   "execution_count": null,
   "metadata": {},
   "outputs": [],
   "source": [
    "display(vol[0])"
   ]
  },
  {
   "cell_type": "markdown",
   "metadata": {},
   "source": [
    "### Goereferencing"
   ]
  },
  {
   "cell_type": "code",
   "execution_count": null,
   "metadata": {},
   "outputs": [],
   "source": [
    "swp = vol[0].copy().pipe(wrl.georef.georeference_dataset)"
   ]
  },
  {
   "cell_type": "markdown",
   "metadata": {},
   "source": [
    "### Plotting"
   ]
  },
  {
   "cell_type": "code",
   "execution_count": null,
   "metadata": {},
   "outputs": [],
   "source": [
    "swp.DBZH.plot.pcolormesh(x=\"x\", y=\"y\")\n",
    "pl.gca().set_aspect(\"equal\")"
   ]
  },
  {
   "cell_type": "code",
   "execution_count": null,
   "metadata": {},
   "outputs": [],
   "source": [
    "fig = pl.figure(figsize=(10, 10))\n",
    "swp.DBZH.wradlib.plot_ppi(proj=\"cg\", fig=fig)"
   ]
  },
  {
   "cell_type": "code",
   "execution_count": null,
   "metadata": {},
   "outputs": [],
   "source": [
    "import cartopy\n",
    "import cartopy.crs as ccrs\n",
    "import cartopy.feature as cfeature\n",
    "\n",
    "map_trans = ccrs.AzimuthalEquidistant(\n",
    "    central_latitude=swp.latitude.values, central_longitude=swp.longitude.values\n",
    ")"
   ]
  },
  {
   "cell_type": "code",
   "execution_count": null,
   "metadata": {},
   "outputs": [],
   "source": [
    "map_proj = ccrs.AzimuthalEquidistant(\n",
    "    central_latitude=swp.latitude.values, central_longitude=swp.longitude.values\n",
    ")\n",
    "pm = swp.DBZH.wradlib.plot_ppi(proj=map_proj)\n",
    "ax = pl.gca()\n",
    "ax.gridlines(crs=map_proj)\n",
    "print(ax)"
   ]
  },
  {
   "cell_type": "code",
   "execution_count": null,
   "metadata": {},
   "outputs": [],
   "source": [
    "map_proj = ccrs.Mercator(central_longitude=swp.longitude.values)\n",
    "fig = pl.figure(figsize=(10, 8))\n",
    "ax = fig.add_subplot(111, projection=map_proj)\n",
    "pm = swp.DBZH.wradlib.plot_ppi(ax=ax)\n",
    "ax.gridlines(draw_labels=True)"
   ]
  },
  {
   "cell_type": "code",
   "execution_count": null,
   "metadata": {},
   "outputs": [],
   "source": [
    "import cartopy.feature as cfeature\n",
    "\n",
    "\n",
    "def plot_borders(ax):\n",
    "    borders = cfeature.NaturalEarthFeature(\n",
    "        category=\"physical\", name=\"coastline\", scale=\"10m\", facecolor=\"none\"\n",
    "    )\n",
    "    ax.add_feature(borders, edgecolor=\"black\", lw=2, zorder=4)\n",
    "\n",
    "\n",
    "map_proj = ccrs.Mercator(central_longitude=swp.longitude.values)\n",
    "fig = pl.figure(figsize=(10, 8))\n",
    "ax = fig.add_subplot(111, projection=map_proj)\n",
    "\n",
    "DBZH = swp.DBZH\n",
    "pm = DBZH.where(DBZH > 0).wradlib.plot_ppi(ax=ax)\n",
    "plot_borders(ax)\n",
    "ax.gridlines(draw_labels=True)"
   ]
  },
  {
   "cell_type": "code",
   "execution_count": null,
   "metadata": {},
   "outputs": [],
   "source": [
    "import matplotlib.path as mpath\n",
    "\n",
    "theta = np.linspace(0, 2 * np.pi, 100)\n",
    "center, radius = [0.5, 0.5], 0.5\n",
    "verts = np.vstack([np.sin(theta), np.cos(theta)]).T\n",
    "circle = mpath.Path(verts * radius + center)\n",
    "\n",
    "map_proj = ccrs.AzimuthalEquidistant(\n",
    "    central_latitude=swp.latitude.values,\n",
    "    central_longitude=swp.longitude.values,\n",
    ")\n",
    "fig = pl.figure(figsize=(10, 8))\n",
    "ax = fig.add_subplot(111, projection=map_proj)\n",
    "ax.set_boundary(circle, transform=ax.transAxes)\n",
    "\n",
    "pm = swp.DBZH.wradlib.plot_ppi(proj=map_proj, ax=ax)\n",
    "ax = pl.gca()\n",
    "ax.gridlines(crs=map_proj)"
   ]
  },
  {
   "cell_type": "code",
   "execution_count": null,
   "metadata": {},
   "outputs": [],
   "source": [
    "fig = pl.figure(figsize=(10, 8))\n",
    "proj = ccrs.AzimuthalEquidistant(\n",
    "    central_latitude=swp.latitude.values, central_longitude=swp.longitude.values\n",
    ")\n",
    "ax = fig.add_subplot(111, projection=proj)\n",
    "pm = swp.DBZH.wradlib.plot_ppi(ax=ax)\n",
    "ax.gridlines()"
   ]
  },
  {
   "cell_type": "code",
   "execution_count": null,
   "metadata": {},
   "outputs": [],
   "source": [
    "swp.DBZH.wradlib.plot_ppi()"
   ]
  },
  {
   "cell_type": "markdown",
   "metadata": {},
   "source": [
    "### Inspect radar moments\n",
    "\n",
    "The DataArrays can be accessed by key or by attribute. Each DataArray has dimensions and coordinates of it's parent dataset. There are attributes connected which are defined by ODIM_H5 standard."
   ]
  },
  {
   "cell_type": "code",
   "execution_count": null,
   "metadata": {},
   "outputs": [],
   "source": [
    "display(swp.DBZH)"
   ]
  },
  {
   "cell_type": "markdown",
   "metadata": {},
   "source": [
    "### Create simple plot\n",
    "\n",
    "Using xarray features a simple plot can be created like this. Note the `sortby('rtime')` method, which sorts the radials by time."
   ]
  },
  {
   "cell_type": "code",
   "execution_count": null,
   "metadata": {},
   "outputs": [],
   "source": [
    "swp.DBZH.sortby(\"rtime\").plot(x=\"range\", y=\"rtime\", add_labels=False)"
   ]
  },
  {
   "cell_type": "code",
   "execution_count": null,
   "metadata": {},
   "outputs": [],
   "source": [
    "fig = pl.figure(figsize=(5, 5))\n",
    "pm = swp.DBZH.wradlib.plot_ppi(proj={\"latmin\": 3e3}, fig=fig)"
   ]
  },
  {
   "cell_type": "markdown",
   "metadata": {},
   "source": [
    "### Mask some values"
   ]
  },
  {
   "cell_type": "code",
   "execution_count": null,
   "metadata": {},
   "outputs": [],
   "source": [
    "swp[\"DBZH\"] = swp[\"DBZH\"].where(swp[\"DBZH\"] >= 0)\n",
    "swp[\"DBZH\"].plot()"
   ]
  },
  {
   "cell_type": "markdown",
   "metadata": {},
   "source": [
    "### Export to ODIM and CfRadial2"
   ]
  },
  {
   "cell_type": "code",
   "execution_count": null,
   "metadata": {},
   "outputs": [],
   "source": [
    "vol.to_odim(\"gamic_as_odim.h5\")\n",
    "vol.to_cfradial2(\"gamic_as_cfradial2.nc\")"
   ]
  },
  {
   "cell_type": "markdown",
   "metadata": {},
   "source": [
    "### Import again"
   ]
  },
  {
   "cell_type": "code",
   "execution_count": null,
   "metadata": {},
   "outputs": [],
   "source": [
    "vola = wrl.io.open_odim_dataset(\"gamic_as_odim.h5\")"
   ]
  },
  {
   "cell_type": "code",
   "execution_count": null,
   "metadata": {},
   "outputs": [],
   "source": [
    "volb = wrl.io.open_cfradial2_dataset(\"gamic_as_cfradial2.nc\")"
   ]
  },
  {
   "cell_type": "markdown",
   "metadata": {},
   "source": [
    "### Check equality\n",
    "\n",
    "We have to drop the time variable when checking equality since GAMIC has millisecond resolution, ODIM has seconds."
   ]
  },
  {
   "cell_type": "code",
   "execution_count": null,
   "metadata": {},
   "outputs": [],
   "source": [
    "xr.testing.assert_allclose(vol.root.drop(\"time\"), vola.root.drop(\"time\"))\n",
    "xr.testing.assert_allclose(\n",
    "    vol[0].drop([\"rtime\", \"time\"]), vola[0].drop([\"rtime\", \"time\"])\n",
    ")\n",
    "xr.testing.assert_allclose(vol.root.drop(\"time\"), volb.root.drop(\"time\"))\n",
    "xr.testing.assert_equal(vol[0].drop(\"time\"), volb[0].drop(\"time\"))\n",
    "xr.testing.assert_allclose(vola.root, volb.root)\n",
    "xr.testing.assert_allclose(vola[0].drop(\"rtime\"), volb[0].drop(\"rtime\"))"
   ]
  },
  {
   "cell_type": "markdown",
   "metadata": {},
   "source": [
    "## More GAMIC loading mechanisms"
   ]
  },
  {
   "cell_type": "markdown",
   "metadata": {},
   "source": [
    "### Use `xr.open_dataset` to retrieve explicit group\n",
    "\n",
    "<div class=\"alert alert-warning\">\n",
    "\n",
    "**Warning** <br>\n",
    "    \n",
    "Since $\\omega radlib$ version 1.18 the xarray backend engines for polar radar data have been renamed and prepended with `wradlib-` (eg. `gamic` -> `wradlib-gamic`). This was necessary to avoid clashes with the new [xradar](https://github.com/openradar/xradar)-package, which will eventually replace the wradlib engines. Users have to make sure to check which engine to use for their use-case when using `xarray.open_dataset`. Users might install and test `xradar`, and check if it is already robust enough for their use-cases (by using xradar's `engine=\"gamic\"`.\n",
    "    \n",
    "</div>"
   ]
  },
  {
   "cell_type": "code",
   "execution_count": null,
   "metadata": {},
   "outputs": [],
   "source": [
    "swp = xr.open_dataset(f, engine=\"wradlib-gamic\", group=\"scan9\")\n",
    "display(swp)"
   ]
  }
 ],
 "metadata": {
  "language_info": {
   "codemirror_mode": {
    "name": "ipython",
    "version": 3
   },
   "file_extension": ".py",
   "mimetype": "text/x-python",
   "name": "python",
   "nbconvert_exporter": "python",
   "pygments_lexer": "ipython3",
   "version": "3.10.5"
  }
 },
 "nbformat": 4,
 "nbformat_minor": 4
}
