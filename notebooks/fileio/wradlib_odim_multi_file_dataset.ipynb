{
 "cells": [
  {
   "cell_type": "markdown",
   "metadata": {},
   "source": [
    "This notebook is part of the $\\omega radlib$ documentation: https://docs.wradlib.org.\n",
    "\n",
    "Copyright (c) $\\omega radlib$ developers.\n",
    "Distributed under the MIT License. See LICENSE.txt for more info."
   ]
  },
  {
   "cell_type": "markdown",
   "metadata": {},
   "source": [
    "# Multi File OdimH5 reader"
   ]
  },
  {
   "cell_type": "markdown",
   "metadata": {},
   "source": [
    "<div class=\"alert alert-warning\">\n",
    "\n",
    "**Note** <br>\n",
    "\n",
    "The following functionality is deprecated. Please use the [xarray backend loaders](fileio/wradlib_xarray_backends.ipynb) instead.\n",
    "    \n",
    "</div>"
   ]
  },
  {
   "cell_type": "markdown",
   "metadata": {},
   "source": [
    "This implementation is based on several classes which are described below."
   ]
  },
  {
   "cell_type": "markdown",
   "metadata": {},
   "source": [
    "## Class Overview\n",
    "\n",
    "### XRadBase\n",
    "\n",
    "Implements `collections.abc.MutableSequence` for holding sequential data in the derived classes (eg. sweeps, timeseries, moments).\n",
    "\n",
    "### OdimH5GroupAttributeMixin\n",
    "\n",
    "Implements properties for `XRadMoment`, `XRadSweep`, `XRadTimeSeries` and `XRadVolume` to nicely acquire ODIM group metadata, eg. `how`, `what` and `where` groups. Other wanted attributes can be acquired via `attrs`-property and other (sub-) groups be inspected via `groups`-property.\n",
    "\n",
    "### OdimH5SweepMetaDataMixin\n",
    "\n",
    "Implements properties for `XRadSweep` to nicely acquire ODIM sweep metadata, eg. `a1gate`, `azimuth`, `nrays`, `nbins` etc.\n",
    "\n",
    "### XRadMoment\n",
    "\n",
    "Uses `OdimH5GroupAttributeMixin` to access ODIM metadata. Does not hold any data. Property `data` fetches the moment as xarray DataArray from the parent `XRadSweep`. \n",
    "\n",
    "### XRadSweep\n",
    "\n",
    "Inherits from `XRadBase`, uses `OdimH5GroupAttributeMixin` and `OdimH5SweepMetaDataMixin`. Worker class, where everything happens. Implements methods and properties to retrieve sweep metadata and data. Holds `XRadMoments` in it's `MutableSequence`. Property `data` is used to load and cache the `XRadMoments` as combined xarray Dataset. Implements a whole arsenal of other properties to inspect metadata.\n",
    "\n",
    "#### XRadSweepOdim:\n",
    "\n",
    "Inherits from `XRadSweep`. Accounts for ODIM data layout.\n",
    "\n",
    "#### XRadSweepGamic:\n",
    "\n",
    "Inherits from `XRadSweep`. Accounts for GAMIC data layout.\n",
    "\n",
    "### XRadTimeSeries\n",
    "\n",
    "Inherits from `XRadBase`, holds several `XRadSweep` objects in it's `MutableSequence`. Property `data` is used to concat and cache the `XRadSweeps` as xarray Dataset along time dimension. Implements check methods to quickly get information about layout of timeseries data. \n",
    "\n",
    "### XRadVolume\n",
    "\n",
    "Inherits from `XRadBase`, holds several `XRadTimeSeries` objects in it's `MutableSequence`. Implements CfRadial2 like `root` property."
   ]
  },
  {
   "cell_type": "markdown",
   "metadata": {},
   "source": [
    "## Loading Function\n",
    "\n",
    "For opening ODIMH5 datafiles `wrl.io.open_odim(filename, loader='h5py', **kwargs)` can be used.\n",
    "\n",
    "The user can decide which loader to use (`h5py`, `h5netcdf` or `netcdf4`) to open the files for reading. The output should be the same in any case, although the memory footprint can differ quite substantially. The default loader is `netcdf4` if loader isn't specified.\n",
    "\n",
    "The datasets are retrieved in further succession via `xarray.open_dataset()` in combination with either `xarray.backends.H5NetCDFStore` (for loader `h5py` and `h5netcdf`) or `xarray.backends.NetCDF4DataStore` (for loader `netcdf4`.\n",
    "\n",
    "Possible keyword arguments are:\n",
    "\n",
    "- `mask_and_scale` *bool* - If True, apply mask and scale to moment data arrays\n",
    "- `decode_coords` *bool* - If True, decode ODIMH5 coordinates\n",
    "- `decode_times` *bool* - If True, decode times into datetime objects\n",
    "- `chunks` *int or dict* - Data loaded as dask array\n",
    "- `parallel` *bool* - if True, use `dask.delayed` to load moments in parallel\n",
    "\n",
    "The user is encouraged to play with the keyword arguments for best alignment with the needs in terms of speed and performance."
   ]
  },
  {
   "cell_type": "code",
   "execution_count": 1,
   "metadata": {
    "execution": {
     "iopub.execute_input": "2022-04-11T06:24:35.579547Z",
     "iopub.status.busy": "2022-04-11T06:24:35.579376Z",
     "iopub.status.idle": "2022-04-11T06:24:37.366349Z",
     "shell.execute_reply": "2022-04-11T06:24:37.365901Z"
    }
   },
   "outputs": [
    {
     "name": "stderr",
     "output_type": "stream",
     "text": [
      "/tmp/ipykernel_4023/140906922.py:10: DeprecationWarning: `magic(...)` is deprecated since IPython 0.13 (warning added in 8.1), use run_line_magic(magic_name, parameter_s).\n",
      "  get_ipython().magic(\"matplotlib inline\")\n"
     ]
    }
   ],
   "source": [
    "import wradlib as wrl\n",
    "import warnings\n",
    "#warnings.filterwarnings('ignore')\n",
    "import matplotlib.pyplot as pl\n",
    "import numpy as np\n",
    "import xarray as xr\n",
    "import os\n",
    "import glob\n",
    "try:\n",
    "    get_ipython().magic(\"matplotlib inline\")\n",
    "except:\n",
    "    pl.ion()"
   ]
  },
  {
   "cell_type": "code",
   "execution_count": 2,
   "metadata": {
    "execution": {
     "iopub.execute_input": "2022-04-11T06:24:37.374499Z",
     "iopub.status.busy": "2022-04-11T06:24:37.373230Z",
     "iopub.status.idle": "2022-04-11T06:24:37.378584Z",
     "shell.execute_reply": "2022-04-11T06:24:37.378197Z"
    }
   },
   "outputs": [],
   "source": [
    "import os\n",
    "import psutil\n",
    "import gc\n",
    "process = psutil.Process(os.getpid())"
   ]
  },
  {
   "cell_type": "code",
   "execution_count": 3,
   "metadata": {
    "execution": {
     "iopub.execute_input": "2022-04-11T06:24:37.382085Z",
     "iopub.status.busy": "2022-04-11T06:24:37.380946Z",
     "iopub.status.idle": "2022-04-11T06:24:37.386096Z",
     "shell.execute_reply": "2022-04-11T06:24:37.385753Z"
    }
   },
   "outputs": [],
   "source": [
    "def memory_usage_psutil():\n",
    "    # return the memory usage in MB\n",
    "    rocess = psutil.Process(os.getpid())\n",
    "    mem = process.memory_full_info().uss / float(1 << 20)\n",
    "    return mem"
   ]
  },
  {
   "cell_type": "code",
   "execution_count": 4,
   "metadata": {
    "execution": {
     "iopub.execute_input": "2022-04-11T06:24:37.389404Z",
     "iopub.status.busy": "2022-04-11T06:24:37.388301Z",
     "iopub.status.idle": "2022-04-11T06:24:37.393479Z",
     "shell.execute_reply": "2022-04-11T06:24:37.393139Z"
    }
   },
   "outputs": [],
   "source": [
    "def free_memory():\n",
    "    mem0 = memory_usage_psutil()\n",
    "    print(gc.collect())\n",
    "    proc = psutil.Process()\n",
    "    mem1 = memory_usage_psutil()\n",
    "    print(\"Memory freed: {0:.5f} MB\".format((mem0-mem1)))"
   ]
  },
  {
   "cell_type": "code",
   "execution_count": 5,
   "metadata": {
    "execution": {
     "iopub.execute_input": "2022-04-11T06:24:37.396713Z",
     "iopub.status.busy": "2022-04-11T06:24:37.395634Z",
     "iopub.status.idle": "2022-04-11T06:24:37.400632Z",
     "shell.execute_reply": "2022-04-11T06:24:37.400297Z"
    }
   },
   "outputs": [],
   "source": [
    "def check_open_files(full=False):\n",
    "    proc = psutil.Process()\n",
    "    print(len(proc.open_files()))\n",
    "    if full:\n",
    "        print(proc.open_files())"
   ]
  },
  {
   "cell_type": "code",
   "execution_count": 6,
   "metadata": {
    "execution": {
     "iopub.execute_input": "2022-04-11T06:24:37.403831Z",
     "iopub.status.busy": "2022-04-11T06:24:37.402762Z",
     "iopub.status.idle": "2022-04-11T06:24:37.407349Z",
     "shell.execute_reply": "2022-04-11T06:24:37.407009Z"
    }
   },
   "outputs": [],
   "source": [
    "fpath = wrl.util.get_wradlib_data_path()\n",
    "f = os.path.join(fpath, 'hdf5/behel/20*.hdf')"
   ]
  },
  {
   "cell_type": "code",
   "execution_count": 7,
   "metadata": {
    "execution": {
     "iopub.execute_input": "2022-04-11T06:24:37.410511Z",
     "iopub.status.busy": "2022-04-11T06:24:37.409448Z",
     "iopub.status.idle": "2022-04-11T06:24:37.434185Z",
     "shell.execute_reply": "2022-04-11T06:24:37.433825Z"
    }
   },
   "outputs": [
    {
     "name": "stdout",
     "output_type": "stream",
     "text": [
      "Current Memory: 156.69140625\n"
     ]
    }
   ],
   "source": [
    "mem_start = memory_usage_psutil()\n",
    "print(\"Current Memory:\", mem_start)"
   ]
  },
  {
   "cell_type": "markdown",
   "metadata": {},
   "source": [
    "## Check open files"
   ]
  },
  {
   "cell_type": "code",
   "execution_count": 8,
   "metadata": {
    "execution": {
     "iopub.execute_input": "2022-04-11T06:24:37.437276Z",
     "iopub.status.busy": "2022-04-11T06:24:37.436534Z",
     "iopub.status.idle": "2022-04-11T06:24:37.441291Z",
     "shell.execute_reply": "2022-04-11T06:24:37.440958Z"
    }
   },
   "outputs": [
    {
     "name": "stdout",
     "output_type": "stream",
     "text": [
      "1\n"
     ]
    }
   ],
   "source": [
    "check_open_files()"
   ]
  },
  {
   "cell_type": "markdown",
   "metadata": {},
   "source": [
    "## Claim Files into class structure\n",
    "\n",
    "The different files will be opened with `h5netcdf`, `h5py` or `netcdf4` depending on `loader` keyword. Only absolutely neccessary metadata (time, elevation) is read from the files to be used for aligning into the structure.\n",
    "\n",
    "Normally `h5py` is the most performant loader for `ODIM` data. But your mileage may vary.\n",
    "\n",
    "This means that every file is opened once and the filehandle is distributed to `XRadSweep`. If `XRadSweep` will be destroyed, the memory will be ready for garbage collection.\n",
    "\n",
    "Under the hood `netcdf4` or `h5netcdf` will be used to open data as `xarray.Dataset` depending on the loader-type. All filehandling issues are moved to xarray. No memory holes, no need to track filehandles."
   ]
  },
  {
   "cell_type": "code",
   "execution_count": 9,
   "metadata": {
    "execution": {
     "iopub.execute_input": "2022-04-11T06:24:37.444176Z",
     "iopub.status.busy": "2022-04-11T06:24:37.443449Z",
     "iopub.status.idle": "2022-04-11T06:24:37.843754Z",
     "shell.execute_reply": "2022-04-11T06:24:37.843321Z"
    }
   },
   "outputs": [
    {
     "name": "stderr",
     "output_type": "stream",
     "text": [
      "<timed exec>:1: DeprecatedWarning: open_odim is deprecated as of 1.10 and will be removed in 2.0. Use the appropriate `wradlib.io.open_{engine}_dataset` or `wradlib.io.open_{engine}_mfdataset` function.\n"
     ]
    },
    {
     "name": "stderr",
     "output_type": "stream",
     "text": [
      "\r",
      "Open:   0%|          | 0/32 [00:00<?, ? Files/s]"
     ]
    },
    {
     "name": "stderr",
     "output_type": "stream",
     "text": [
      "\r",
      "Open:  44%|████▍     | 14/32 [00:00<00:00, 124.56 Files/s]"
     ]
    },
    {
     "name": "stderr",
     "output_type": "stream",
     "text": [
      "\r",
      "Open:  91%|█████████ | 29/32 [00:00<00:00, 133.99 Files/s]"
     ]
    },
    {
     "name": "stderr",
     "output_type": "stream",
     "text": [
      "\r",
      "Open: 100%|██████████| 32/32 [00:00<00:00, 132.22 Files/s]"
     ]
    },
    {
     "name": "stderr",
     "output_type": "stream",
     "text": [
      "\n",
      "/home/runner/micromamba/envs/wradlib-notebooks/lib/python3.10/site-packages/wradlib/io/xarray_depr.py:2087: DeprecatedWarning: collect_by_angle is deprecated as of 1.10 and will be removed in 2.0. Use xarray BackendEntrypoint based functionality instead.\n",
      "  angles = collect_by_angle(sweeps)\n"
     ]
    },
    {
     "name": "stderr",
     "output_type": "stream",
     "text": [
      "\r",
      "Collecting:   0%|          | 0/12 [00:00<?, ? Angles/s]"
     ]
    },
    {
     "name": "stderr",
     "output_type": "stream",
     "text": [
      "/home/runner/micromamba/envs/wradlib-notebooks/lib/python3.10/site-packages/wradlib/io/xarray_depr.py:2089: DeprecatedWarning: collect_by_time is deprecated as of 1.10 and will be removed in 2.0. Use xarray BackendEntrypoint based functionality instead.\n",
      "  angles[i] = collect_by_time(angles[i])\n",
      "/home/runner/micromamba/envs/wradlib-notebooks/lib/python3.10/site-packages/wradlib/io/xarray_depr.py:2089: DeprecatedWarning: collect_by_time is deprecated as of 1.10 and will be removed in 2.0. Use xarray BackendEntrypoint based functionality instead.\n",
      "  angles[i] = collect_by_time(angles[i])\n",
      "/home/runner/micromamba/envs/wradlib-notebooks/lib/python3.10/site-packages/wradlib/io/xarray_depr.py:2089: DeprecatedWarning: collect_by_time is deprecated as of 1.10 and will be removed in 2.0. Use xarray BackendEntrypoint based functionality instead.\n",
      "  angles[i] = collect_by_time(angles[i])\n",
      "/home/runner/micromamba/envs/wradlib-notebooks/lib/python3.10/site-packages/wradlib/io/xarray_depr.py:2089: DeprecatedWarning: collect_by_time is deprecated as of 1.10 and will be removed in 2.0. Use xarray BackendEntrypoint based functionality instead.\n",
      "  angles[i] = collect_by_time(angles[i])\n",
      "/home/runner/micromamba/envs/wradlib-notebooks/lib/python3.10/site-packages/wradlib/io/xarray_depr.py:2089: DeprecatedWarning: collect_by_time is deprecated as of 1.10 and will be removed in 2.0. Use xarray BackendEntrypoint based functionality instead.\n",
      "  angles[i] = collect_by_time(angles[i])\n",
      "/home/runner/micromamba/envs/wradlib-notebooks/lib/python3.10/site-packages/wradlib/io/xarray_depr.py:2089: DeprecatedWarning: collect_by_time is deprecated as of 1.10 and will be removed in 2.0. Use xarray BackendEntrypoint based functionality instead.\n",
      "  angles[i] = collect_by_time(angles[i])\n",
      "/home/runner/micromamba/envs/wradlib-notebooks/lib/python3.10/site-packages/wradlib/io/xarray_depr.py:2089: DeprecatedWarning: collect_by_time is deprecated as of 1.10 and will be removed in 2.0. Use xarray BackendEntrypoint based functionality instead.\n",
      "  angles[i] = collect_by_time(angles[i])\n",
      "/home/runner/micromamba/envs/wradlib-notebooks/lib/python3.10/site-packages/wradlib/io/xarray_depr.py:2089: DeprecatedWarning: collect_by_time is deprecated as of 1.10 and will be removed in 2.0. Use xarray BackendEntrypoint based functionality instead.\n",
      "  angles[i] = collect_by_time(angles[i])\n",
      "/home/runner/micromamba/envs/wradlib-notebooks/lib/python3.10/site-packages/wradlib/io/xarray_depr.py:2089: DeprecatedWarning: collect_by_time is deprecated as of 1.10 and will be removed in 2.0. Use xarray BackendEntrypoint based functionality instead.\n",
      "  angles[i] = collect_by_time(angles[i])\n",
      "/home/runner/micromamba/envs/wradlib-notebooks/lib/python3.10/site-packages/wradlib/io/xarray_depr.py:2089: DeprecatedWarning: collect_by_time is deprecated as of 1.10 and will be removed in 2.0. Use xarray BackendEntrypoint based functionality instead.\n",
      "  angles[i] = collect_by_time(angles[i])\n"
     ]
    },
    {
     "name": "stderr",
     "output_type": "stream",
     "text": [
      "/home/runner/micromamba/envs/wradlib-notebooks/lib/python3.10/site-packages/wradlib/io/xarray_depr.py:2089: DeprecatedWarning: collect_by_time is deprecated as of 1.10 and will be removed in 2.0. Use xarray BackendEntrypoint based functionality instead.\n",
      "  angles[i] = collect_by_time(angles[i])\n",
      "/home/runner/micromamba/envs/wradlib-notebooks/lib/python3.10/site-packages/wradlib/io/xarray_depr.py:2089: DeprecatedWarning: collect_by_time is deprecated as of 1.10 and will be removed in 2.0. Use xarray BackendEntrypoint based functionality instead.\n",
      "  angles[i] = collect_by_time(angles[i])\n",
      "\r",
      "Collecting: 100%|██████████| 12/12 [00:00<00:00, 138.59 Angles/s]"
     ]
    },
    {
     "name": "stdout",
     "output_type": "stream",
     "text": [
      "CPU times: user 355 ms, sys: 15.7 ms, total: 370 ms\n",
      "Wall time: 394 ms\n"
     ]
    },
    {
     "name": "stderr",
     "output_type": "stream",
     "text": [
      "\n"
     ]
    }
   ],
   "source": [
    "%%time\n",
    "vol = wrl.io.xarray_depr.open_odim(f, loader='h5py', chunks={})"
   ]
  },
  {
   "cell_type": "markdown",
   "metadata": {},
   "source": [
    "## Check open files"
   ]
  },
  {
   "cell_type": "code",
   "execution_count": 10,
   "metadata": {
    "execution": {
     "iopub.execute_input": "2022-04-11T06:24:37.846888Z",
     "iopub.status.busy": "2022-04-11T06:24:37.846077Z",
     "iopub.status.idle": "2022-04-11T06:24:37.851877Z",
     "shell.execute_reply": "2022-04-11T06:24:37.851517Z"
    }
   },
   "outputs": [
    {
     "name": "stdout",
     "output_type": "stream",
     "text": [
      "33\n"
     ]
    }
   ],
   "source": [
    "check_open_files()"
   ]
  },
  {
   "cell_type": "markdown",
   "metadata": {},
   "source": [
    "## Overview type and lenght"
   ]
  },
  {
   "cell_type": "code",
   "execution_count": 11,
   "metadata": {
    "execution": {
     "iopub.execute_input": "2022-04-11T06:24:37.854994Z",
     "iopub.status.busy": "2022-04-11T06:24:37.854234Z",
     "iopub.status.idle": "2022-04-11T06:24:37.860103Z",
     "shell.execute_reply": "2022-04-11T06:24:37.859766Z"
    }
   },
   "outputs": [
    {
     "name": "stdout",
     "output_type": "stream",
     "text": [
      "Volume: <class 'wradlib.io.xarray_depr.XRadVolume'> 12\n",
      "TimeSeries: <class 'wradlib.io.xarray_depr.XRadTimeSeries'> 8\n",
      "Sweep: <class 'wradlib.io.xarray_depr.XRadSweepOdim'> 4\n",
      "Moment: <class 'wradlib.io.xarray_depr.XRadMoment'> VRAD\n"
     ]
    }
   ],
   "source": [
    "print(\"Volume:\", type(vol), len(vol))\n",
    "print(\"TimeSeries:\", type(vol[0]), len(vol[0]))\n",
    "print(\"Sweep:\", type(vol[0][0]), len(vol[0][0]))\n",
    "print(\"Moment:\", type(vol[0][0][0]), vol[0][0][0].quantity)"
   ]
  },
  {
   "cell_type": "markdown",
   "metadata": {},
   "source": [
    "## Overview Contents (__repr__())\n",
    "\n",
    "When printing the objects, they tell us a little about themselves and the data they can get access to. "
   ]
  },
  {
   "cell_type": "markdown",
   "metadata": {},
   "source": [
    "### Volume\n",
    "\n",
    "Here we see, that it is of type `wradlib.XRadVolume`. It holds 12 sweeps with the shown elevations."
   ]
  },
  {
   "cell_type": "code",
   "execution_count": 12,
   "metadata": {
    "execution": {
     "iopub.execute_input": "2022-04-11T06:24:37.863167Z",
     "iopub.status.busy": "2022-04-11T06:24:37.862432Z",
     "iopub.status.idle": "2022-04-11T06:24:37.866668Z",
     "shell.execute_reply": "2022-04-11T06:24:37.866313Z"
    }
   },
   "outputs": [
    {
     "name": "stdout",
     "output_type": "stream",
     "text": [
      "<wradlib.XRadVolume>\n",
      "Dimension(s): (sweep: 12)\n",
      "Elevation(s): (25.0, 20.0, 16.0, 13.0, 10.0, 7.5, 5.0, 3.0, 1.8, 0.8, 0.5, 0.3)\n"
     ]
    }
   ],
   "source": [
    "print(vol)"
   ]
  },
  {
   "cell_type": "markdown",
   "metadata": {},
   "source": [
    "### TimeSeries\n",
    "\n",
    "Here we see, that it is of type `wradlib.XRadTimeseries`. It holds 8 timesteps with a data layout of 360 azimuths by 800 range bins. The elevation is 25.0 deg."
   ]
  },
  {
   "cell_type": "code",
   "execution_count": 13,
   "metadata": {
    "execution": {
     "iopub.execute_input": "2022-04-11T06:24:37.869658Z",
     "iopub.status.busy": "2022-04-11T06:24:37.868898Z",
     "iopub.status.idle": "2022-04-11T06:24:37.873145Z",
     "shell.execute_reply": "2022-04-11T06:24:37.872807Z"
    }
   },
   "outputs": [
    {
     "name": "stdout",
     "output_type": "stream",
     "text": [
      "<wradlib.XRadTimeSeries>\n",
      "Dimension(s): (time: 8, azimuth: 360, range: 800)\n",
      "Elevation(s): (25.0)\n"
     ]
    }
   ],
   "source": [
    "print(vol[0])"
   ]
  },
  {
   "cell_type": "markdown",
   "metadata": {},
   "source": [
    "### Sweep\n",
    "\n",
    "Here we see, that it is of type `wradlib.XRadSweepOdim`, which means it is leaded from ODIMH5 standard data. It holds data with layout of 360 azimuths by 800 range bins. The elevation is 25.0 deg. It consists of the radar moments `DBZH`, `RHOHV`, `VRAD` and `WRAD`."
   ]
  },
  {
   "cell_type": "code",
   "execution_count": 14,
   "metadata": {
    "execution": {
     "iopub.execute_input": "2022-04-11T06:24:37.876095Z",
     "iopub.status.busy": "2022-04-11T06:24:37.875363Z",
     "iopub.status.idle": "2022-04-11T06:24:37.881016Z",
     "shell.execute_reply": "2022-04-11T06:24:37.880674Z"
    }
   },
   "outputs": [
    {
     "name": "stdout",
     "output_type": "stream",
     "text": [
      "<wradlib.XRadSweepOdim>\n",
      "Dimension(s): (azimuth: 360, range: 800)\n",
      "Elevation(s): (25.0)\n",
      "Moment(s): (VRAD, DBZH, RHOHV, WRAD)\n"
     ]
    }
   ],
   "source": [
    "print(vol[0][0])"
   ]
  },
  {
   "cell_type": "markdown",
   "metadata": {},
   "source": [
    "### Moment\n",
    "\n",
    "Here we see, that it is of type `wradlib.XRadMoment`. It holds data with layout of 360 azimuths by 800 range bins. The elevation is 25.0 deg. It is the radar moment `DBZH`."
   ]
  },
  {
   "cell_type": "code",
   "execution_count": 15,
   "metadata": {
    "execution": {
     "iopub.execute_input": "2022-04-11T06:24:37.883935Z",
     "iopub.status.busy": "2022-04-11T06:24:37.883197Z",
     "iopub.status.idle": "2022-04-11T06:24:37.887383Z",
     "shell.execute_reply": "2022-04-11T06:24:37.887046Z"
    }
   },
   "outputs": [
    {
     "name": "stdout",
     "output_type": "stream",
     "text": [
      "<wradlib.XRadMoment>\n",
      "Dimension(s): (azimuth: 360, range: 800)\n",
      "Elevation(s): (25.0)\n",
      "Moment: (VRAD)\n"
     ]
    }
   ],
   "source": [
    "print(vol[0][0][0])"
   ]
  },
  {
   "cell_type": "markdown",
   "metadata": {},
   "source": [
    "## Accessing metadata via `OdimH5GroupAttributeMixin`\n",
    "\n",
    "\n",
    "You can access underlying metadata for every object. The properties `ncpath`, `ncid`, `ncfile` and `filename` give information about the location of the metadata. Properties `groups` and `attrs` give information about attached subgroups and attributes. `how`, `what` and `where` return the contents of the respective ODIMH5-subgroups if available.\n",
    "\n",
    "As long as the objects are not deleted the according files are open and the handles can be used to retrieve data from it."
   ]
  },
  {
   "cell_type": "markdown",
   "metadata": {},
   "source": [
    "### Volume\n",
    "\n",
    "The `OdimH5GroupAttributeMixin` access in `XRadVolume` will retrieve the root-metadata of the first file of the first timeseries, which is the first volume file in most cases."
   ]
  },
  {
   "cell_type": "code",
   "execution_count": 16,
   "metadata": {
    "execution": {
     "iopub.execute_input": "2022-04-11T06:24:37.890330Z",
     "iopub.status.busy": "2022-04-11T06:24:37.889578Z",
     "iopub.status.idle": "2022-04-11T06:24:37.894317Z",
     "shell.execute_reply": "2022-04-11T06:24:37.893970Z"
    }
   },
   "outputs": [
    {
     "name": "stdout",
     "output_type": "stream",
     "text": [
      "path: /\n",
      "  id: <HDF5 group \"/\" (15 members)>\n",
      "file: <HDF5 file \"20200207130000.rad.behel.pvol.vrad.scanz.hdf\" (mode r)>\n",
      "name: /home/runner/work/wradlib-notebooks/wradlib-notebooks/wradlib-data/hdf5/behel/20200207130000.rad.behel.pvol.vrad.scanz.hdf\n"
     ]
    }
   ],
   "source": [
    "print(\"path:\", vol.ncpath)\n",
    "print(\"  id:\", vol.ncid)\n",
    "print(\"file:\", vol.ncfile)\n",
    "print(\"name:\", vol.filename)"
   ]
  },
  {
   "cell_type": "code",
   "execution_count": 17,
   "metadata": {
    "execution": {
     "iopub.execute_input": "2022-04-11T06:24:37.897285Z",
     "iopub.status.busy": "2022-04-11T06:24:37.896421Z",
     "iopub.status.idle": "2022-04-11T06:24:37.900853Z",
     "shell.execute_reply": "2022-04-11T06:24:37.900512Z"
    }
   },
   "outputs": [
    {
     "name": "stdout",
     "output_type": "stream",
     "text": [
      "['dataset1', 'dataset10', 'dataset11', 'dataset12', 'dataset2', 'dataset3', 'dataset4', 'dataset5', 'dataset6', 'dataset7', 'dataset8', 'dataset9', 'how', 'what', 'where']\n"
     ]
    }
   ],
   "source": [
    "print(vol.groups)"
   ]
  },
  {
   "cell_type": "code",
   "execution_count": 18,
   "metadata": {
    "execution": {
     "iopub.execute_input": "2022-04-11T06:24:37.903684Z",
     "iopub.status.busy": "2022-04-11T06:24:37.902950Z",
     "iopub.status.idle": "2022-04-11T06:24:37.907501Z",
     "shell.execute_reply": "2022-04-11T06:24:37.907157Z"
    }
   },
   "outputs": [
    {
     "name": "stdout",
     "output_type": "stream",
     "text": [
      "{'Conventions': 'ODIM_H5/V2_0'}\n"
     ]
    }
   ],
   "source": [
    "print(vol.attrs)"
   ]
  },
  {
   "cell_type": "code",
   "execution_count": 19,
   "metadata": {
    "execution": {
     "iopub.execute_input": "2022-04-11T06:24:37.910337Z",
     "iopub.status.busy": "2022-04-11T06:24:37.909598Z",
     "iopub.status.idle": "2022-04-11T06:24:37.914312Z",
     "shell.execute_reply": "2022-04-11T06:24:37.913962Z"
    }
   },
   "outputs": [
    {
     "name": "stdout",
     "output_type": "stream",
     "text": [
      "{'beamwidth': 0.948, 'endepochs': 1581080424, 'highprf': 550, 'lowprf': 0, 'software': 'RAINBOW 5.42.9', 'startepochs': 1581080648, 'system': 'BEHEL', 'wavelength': 5.349}\n"
     ]
    }
   ],
   "source": [
    "print(vol.how)"
   ]
  },
  {
   "cell_type": "code",
   "execution_count": 20,
   "metadata": {
    "execution": {
     "iopub.execute_input": "2022-04-11T06:24:37.917151Z",
     "iopub.status.busy": "2022-04-11T06:24:37.916421Z",
     "iopub.status.idle": "2022-04-11T06:24:37.920995Z",
     "shell.execute_reply": "2022-04-11T06:24:37.920656Z"
    }
   },
   "outputs": [
    {
     "name": "stdout",
     "output_type": "stream",
     "text": [
      "{'date': '20200207', 'object': 'PVOL', 'source': 'WMO:06475', 'time': '130005', 'version': 'H5rad 2.0'}\n"
     ]
    }
   ],
   "source": [
    "print(vol.what)"
   ]
  },
  {
   "cell_type": "code",
   "execution_count": 21,
   "metadata": {
    "execution": {
     "iopub.execute_input": "2022-04-11T06:24:37.923833Z",
     "iopub.status.busy": "2022-04-11T06:24:37.923102Z",
     "iopub.status.idle": "2022-04-11T06:24:37.927598Z",
     "shell.execute_reply": "2022-04-11T06:24:37.927260Z"
    }
   },
   "outputs": [
    {
     "name": "stdout",
     "output_type": "stream",
     "text": [
      "{'height': 140.0, 'lat': 51.069072, 'lon': 5.4064}\n"
     ]
    }
   ],
   "source": [
    "print(vol.where)"
   ]
  },
  {
   "cell_type": "markdown",
   "metadata": {},
   "source": [
    "### Timeseries\n",
    "\n",
    "The `OdimH5GroupAttributeMixin` access in `XRadTimeseries` will retrieve the group-metadata of the first sweep of the selected timeseries."
   ]
  },
  {
   "cell_type": "code",
   "execution_count": 22,
   "metadata": {
    "execution": {
     "iopub.execute_input": "2022-04-11T06:24:37.930468Z",
     "iopub.status.busy": "2022-04-11T06:24:37.929722Z",
     "iopub.status.idle": "2022-04-11T06:24:37.934442Z",
     "shell.execute_reply": "2022-04-11T06:24:37.934089Z"
    }
   },
   "outputs": [
    {
     "name": "stdout",
     "output_type": "stream",
     "text": [
      "path: dataset12\n",
      "  id: <HDF5 group \"/dataset12\" (4 members)>\n",
      "file: <HDF5 file \"20200207130000.rad.behel.pvol.vrad.scanz.hdf\" (mode r)>\n",
      "name: /home/runner/work/wradlib-notebooks/wradlib-notebooks/wradlib-data/hdf5/behel/20200207130000.rad.behel.pvol.vrad.scanz.hdf\n"
     ]
    }
   ],
   "source": [
    "ts = vol[0]\n",
    "print(\"path:\", ts.ncpath)\n",
    "print(\"  id:\", ts.ncid)\n",
    "print(\"file:\", ts.ncfile)\n",
    "print(\"name:\", ts.filename)"
   ]
  },
  {
   "cell_type": "code",
   "execution_count": 23,
   "metadata": {
    "execution": {
     "iopub.execute_input": "2022-04-11T06:24:37.937318Z",
     "iopub.status.busy": "2022-04-11T06:24:37.936532Z",
     "iopub.status.idle": "2022-04-11T06:24:37.940850Z",
     "shell.execute_reply": "2022-04-11T06:24:37.940513Z"
    }
   },
   "outputs": [
    {
     "name": "stdout",
     "output_type": "stream",
     "text": [
      "['data1', 'how', 'what', 'where']\n"
     ]
    }
   ],
   "source": [
    "print(ts.groups)"
   ]
  },
  {
   "cell_type": "code",
   "execution_count": 24,
   "metadata": {
    "execution": {
     "iopub.execute_input": "2022-04-11T06:24:37.943670Z",
     "iopub.status.busy": "2022-04-11T06:24:37.942942Z",
     "iopub.status.idle": "2022-04-11T06:24:37.947127Z",
     "shell.execute_reply": "2022-04-11T06:24:37.946793Z"
    }
   },
   "outputs": [
    {
     "name": "stdout",
     "output_type": "stream",
     "text": [
      "{}\n"
     ]
    }
   ],
   "source": [
    "print(ts.attrs)"
   ]
  },
  {
   "cell_type": "code",
   "execution_count": 25,
   "metadata": {
    "execution": {
     "iopub.execute_input": "2022-04-11T06:24:37.949350Z",
     "iopub.status.busy": "2022-04-11T06:24:37.949085Z",
     "iopub.status.idle": "2022-04-11T06:24:37.953500Z",
     "shell.execute_reply": "2022-04-11T06:24:37.953163Z"
    }
   },
   "outputs": [
    {
     "name": "stdout",
     "output_type": "stream",
     "text": [
      "{'azangles': '0:1,1:2,2:3,3:4,4:5,5:6,6:7,7:8,8:9,9:10,10:11,11:12,12:13,13:14,14:15,15:16,16:17,17:18,18:19,19:20,20:21,21:22,22:23,23:24,24:25,25:26,26:27,27:28,28:29,29:30,30:31,31:32,32:33,33:34,34:35,35:36,36:37,37:38,38:39,39:40,40:41,41:42,42:43,43:44,44:45,45:46,46:47,47:48,48:49,49:50,50:51,51:52,52:53,53:54,54:55,55:56,56:57,57:58,58:59,59:60,60:61,61:62,62:63,63:64,64:65,65:66,66:67,67:68,68:69,69:70,70:71,71:72,72:73,73:74,74:75,75:76,76:77,77:78,78:79,79:80,80:81,81:82,82:83,83:84,84:85,85:86,86:87,87:88,88:89,89:90,90:91,91:92,92:93,93:94,94:95,95:96,96:97,97:98,98:99,99:100,100:101,101:102,102:103,103:104,104:105,105:106,106:107,107:108,108:109,109:110,110:111,111:112,112:113,113:114,114:115,115:116,116:117,117:118,118:119,119:120,120:121,121:122,122:123,123:124,124:125,125:126,126:127,127:128,128:129,129:130,130:131,131:132,132:133,133:134,134:135,135:136,136:137,137:138,138:139,139:140,140:141,141:142,142:143,143:144,144:145,145:146,146:147,147:148,148:149,149:150,150:151,151:152,152:153,153:154,154:155,155:156,156:157,157:158,158:159,159:160,160:161,161:162,162:163,163:164,164:165,165:166,166:167,167:168,168:169,169:170,170:171,171:172,172:173,173:174,174:175,175:176,176:177,177:178,178:179,179:180,180:181,181:182,182:183,183:184,184:185,185:186,186:187,187:188,188:189,189:190,190:191,191:192,192:193,193:194,194:195,195:196,196:197,197:198,198:199,199:200,200:201,201:202,202:203,203:204,204:205,205:206,206:207,207:208,208:209,209:210,210:211,211:212,212:213,213:214,214:215,215:216,216:217,217:218,218:219,219:220,220:221,221:222,222:223,223:224,224:225,225:226,226:227,227:228,228:229,229:230,230:231,231:232,232:233,233:234,234:235,235:236,236:237,237:238,238:239,239:240,240:241,241:242,242:243,243:244,244:245,245:246,246:247,247:248,248:249,249:250,250:251,251:252,252:253,253:254,254:255,255:256,256:257,257:258,258:259,259:260,260:261,261:262,262:263,263:264,264:265,265:266,266:267,267:268,268:269,269:270,270:271,271:272,272:273,273:274,274:275,275:276,276:277,277:278,278:279,279:280,280:281,281:282,282:283,283:284,284:285,285:286,286:287,287:288,288:289,289:290,290:291,291:292,292:293,293:294,294:295,295:296,296:297,297:298,298:299,299:300,300:301,301:302,302:303,303:304,304:305,305:306,306:307,307:308,308:309,309:310,310:311,311:312,312:313,313:314,314:315,315:316,316:317,317:318,318:319,319:320,320:321,321:322,322:323,323:324,324:325,325:326,326:327,327:328,328:329,329:330,330:331,331:332,332:333,333:334,334:335,335:336,336:337,337:338,338:339,339:340,340:341,341:342,342:343,343:344,344:345,345:346,346:347,347:348,348:349,349:350,350:351,351:352,352:353,353:354,354:355,355:356,356:357,357:358,358:359,359:360,'}\n"
     ]
    }
   ],
   "source": [
    "print(ts.how)"
   ]
  },
  {
   "cell_type": "code",
   "execution_count": 26,
   "metadata": {
    "execution": {
     "iopub.execute_input": "2022-04-11T06:24:37.955599Z",
     "iopub.status.busy": "2022-04-11T06:24:37.955340Z",
     "iopub.status.idle": "2022-04-11T06:24:37.959331Z",
     "shell.execute_reply": "2022-04-11T06:24:37.958962Z"
    }
   },
   "outputs": [
    {
     "name": "stdout",
     "output_type": "stream",
     "text": [
      "{'enddate': '20200207', 'endtime': '130024', 'product': 'SCAN', 'startdate': '20200207', 'starttime': '130005'}\n"
     ]
    }
   ],
   "source": [
    "print(ts.what)"
   ]
  },
  {
   "cell_type": "code",
   "execution_count": 27,
   "metadata": {
    "execution": {
     "iopub.execute_input": "2022-04-11T06:24:37.961407Z",
     "iopub.status.busy": "2022-04-11T06:24:37.961149Z",
     "iopub.status.idle": "2022-04-11T06:24:37.965123Z",
     "shell.execute_reply": "2022-04-11T06:24:37.964757Z"
    }
   },
   "outputs": [
    {
     "name": "stdout",
     "output_type": "stream",
     "text": [
      "{'a1gate': 266, 'elangle': 25.0, 'nbins': 800, 'nrays': 360, 'rscale': 250.0, 'rstart': 0.0}\n"
     ]
    }
   ],
   "source": [
    "print(ts.where)"
   ]
  },
  {
   "cell_type": "markdown",
   "metadata": {},
   "source": [
    "### Sweep\n",
    "\n",
    "The `OdimH5GroupAttributeMixin` access in `XRadSweep` will retrieve the group-metadata of the selected sweep."
   ]
  },
  {
   "cell_type": "code",
   "execution_count": 28,
   "metadata": {
    "execution": {
     "iopub.execute_input": "2022-04-11T06:24:37.967270Z",
     "iopub.status.busy": "2022-04-11T06:24:37.967002Z",
     "iopub.status.idle": "2022-04-11T06:24:37.971252Z",
     "shell.execute_reply": "2022-04-11T06:24:37.970877Z"
    }
   },
   "outputs": [
    {
     "name": "stdout",
     "output_type": "stream",
     "text": [
      "path: dataset12\n",
      "  id: <HDF5 group \"/dataset12\" (4 members)>\n",
      "file: <HDF5 file \"20200207132500.rad.behel.pvol.rhohv.scanz.hdf\" (mode r)>\n",
      "name: /home/runner/work/wradlib-notebooks/wradlib-notebooks/wradlib-data/hdf5/behel/20200207132500.rad.behel.pvol.rhohv.scanz.hdf\n"
     ]
    }
   ],
   "source": [
    "swp = vol[0][5]\n",
    "print(\"path:\", swp.ncpath)\n",
    "print(\"  id:\", swp.ncid)\n",
    "print(\"file:\", swp.ncfile)\n",
    "print(\"name:\", swp.filename)"
   ]
  },
  {
   "cell_type": "code",
   "execution_count": 29,
   "metadata": {
    "execution": {
     "iopub.execute_input": "2022-04-11T06:24:37.973317Z",
     "iopub.status.busy": "2022-04-11T06:24:37.973059Z",
     "iopub.status.idle": "2022-04-11T06:24:37.976729Z",
     "shell.execute_reply": "2022-04-11T06:24:37.976355Z"
    }
   },
   "outputs": [
    {
     "name": "stdout",
     "output_type": "stream",
     "text": [
      "['data1', 'how', 'what', 'where']\n"
     ]
    }
   ],
   "source": [
    "print(swp.groups)"
   ]
  },
  {
   "cell_type": "code",
   "execution_count": 30,
   "metadata": {
    "execution": {
     "iopub.execute_input": "2022-04-11T06:24:37.978824Z",
     "iopub.status.busy": "2022-04-11T06:24:37.978563Z",
     "iopub.status.idle": "2022-04-11T06:24:37.982017Z",
     "shell.execute_reply": "2022-04-11T06:24:37.981643Z"
    }
   },
   "outputs": [
    {
     "name": "stdout",
     "output_type": "stream",
     "text": [
      "{}\n"
     ]
    }
   ],
   "source": [
    "print(swp.attrs)"
   ]
  },
  {
   "cell_type": "code",
   "execution_count": 31,
   "metadata": {
    "execution": {
     "iopub.execute_input": "2022-04-11T06:24:37.984120Z",
     "iopub.status.busy": "2022-04-11T06:24:37.983838Z",
     "iopub.status.idle": "2022-04-11T06:24:37.986714Z",
     "shell.execute_reply": "2022-04-11T06:24:37.986345Z"
    }
   },
   "outputs": [
    {
     "name": "stdout",
     "output_type": "stream",
     "text": [
      "{'azangles': '0:1,1:2,2:3,3:4,4:5,5:6,6:7,7:8,8:9,9:10,10:11,11:12,12:13,13:14,14:15,15:16,16:17,17:18,18:19,19:20,20:21,21:22,22:23,23:24,24:25,25:26,26:27,27:28,28:29,29:30,30:31,31:32,32:33,33:34,34:35,35:36,36:37,37:38,38:39,39:40,40:41,41:42,42:43,43:44,44:45,45:46,46:47,47:48,48:49,49:50,50:51,51:52,52:53,53:54,54:55,55:56,56:57,57:58,58:59,59:60,60:61,61:62,62:63,63:64,64:65,65:66,66:67,67:68,68:69,69:70,70:71,71:72,72:73,73:74,74:75,75:76,76:77,77:78,78:79,79:80,80:81,81:82,82:83,83:84,84:85,85:86,86:87,87:88,88:89,89:90,90:91,91:92,92:93,93:94,94:95,95:96,96:97,97:98,98:99,99:100,100:101,101:102,102:103,103:104,104:105,105:106,106:107,107:108,108:109,109:110,110:111,111:112,112:113,113:114,114:115,115:116,116:117,117:118,118:119,119:120,120:121,121:122,122:123,123:124,124:125,125:126,126:127,127:128,128:129,129:130,130:131,131:132,132:133,133:134,134:135,135:136,136:137,137:138,138:139,139:140,140:141,141:142,142:143,143:144,144:145,145:146,146:147,147:148,148:149,149:150,150:151,151:152,152:153,153:154,154:155,155:156,156:157,157:158,158:159,159:160,160:161,161:162,162:163,163:164,164:165,165:166,166:167,167:168,168:169,169:170,170:171,171:172,172:173,173:174,174:175,175:176,176:177,177:178,178:179,179:180,180:181,181:182,182:183,183:184,184:185,185:186,186:187,187:188,188:189,189:190,190:191,191:192,192:193,193:194,194:195,195:196,196:197,197:198,198:199,199:200,200:201,201:202,202:203,203:204,204:205,205:206,206:207,207:208,208:209,209:210,210:211,211:212,212:213,213:214,214:215,215:216,216:217,217:218,218:219,219:220,220:221,221:222,222:223,223:224,224:225,225:226,226:227,227:228,228:229,229:230,230:231,231:232,232:233,233:234,234:235,235:236,236:237,237:238,238:239,239:240,240:241,241:242,242:243,243:244,244:245,245:246,246:247,247:248,248:249,249:250,250:251,251:252,252:253,253:254,254:255,255:256,256:257,257:258,258:259,259:260,260:261,261:262,262:263,263:264,264:265,265:266,266:267,267:268,268:269,269:270,270:271,271:272,272:273,273:274,274:275,275:276,276:277,277:278,278:279,279:280,280:281,281:282,282:283,283:284,284:285,285:286,286:287,287:288,288:289,289:290,290:291,291:292,292:293,293:294,294:295,295:296,296:297,297:298,298:299,299:300,300:301,301:302,302:303,303:304,304:305,305:306,306:307,307:308,308:309,309:310,310:311,311:312,312:313,313:314,314:315,315:316,316:317,317:318,318:319,319:320,320:321,321:322,322:323,323:324,324:325,325:326,326:327,327:328,328:329,329:330,330:331,331:332,332:333,333:334,334:335,335:336,336:337,337:338,338:339,339:340,340:341,341:342,342:343,343:344,344:345,345:346,346:347,347:348,348:349,349:350,350:351,351:352,352:353,353:354,354:355,355:356,356:357,357:358,358:359,359:360,'}\n"
     ]
    }
   ],
   "source": [
    "print(swp.how)"
   ]
  },
  {
   "cell_type": "code",
   "execution_count": 32,
   "metadata": {
    "execution": {
     "iopub.execute_input": "2022-04-11T06:24:37.989620Z",
     "iopub.status.busy": "2022-04-11T06:24:37.989360Z",
     "iopub.status.idle": "2022-04-11T06:24:37.993153Z",
     "shell.execute_reply": "2022-04-11T06:24:37.992782Z"
    }
   },
   "outputs": [
    {
     "name": "stdout",
     "output_type": "stream",
     "text": [
      "{'enddate': '20200207', 'endtime': '132523', 'product': 'SCAN', 'startdate': '20200207', 'starttime': '132504'}\n"
     ]
    }
   ],
   "source": [
    "print(swp.what)"
   ]
  },
  {
   "cell_type": "code",
   "execution_count": 33,
   "metadata": {
    "execution": {
     "iopub.execute_input": "2022-04-11T06:24:37.995225Z",
     "iopub.status.busy": "2022-04-11T06:24:37.994965Z",
     "iopub.status.idle": "2022-04-11T06:24:37.998290Z",
     "shell.execute_reply": "2022-04-11T06:24:37.997918Z"
    }
   },
   "outputs": [
    {
     "name": "stdout",
     "output_type": "stream",
     "text": [
      "{'a1gate': 252, 'elangle': 25.0, 'nbins': 800, 'nrays': 360, 'rscale': 250.0, 'rstart': 0.0}\n"
     ]
    }
   ],
   "source": [
    "print(swp.where)"
   ]
  },
  {
   "cell_type": "markdown",
   "metadata": {},
   "source": [
    "### Moment\n",
    "\n",
    "The `OdimH5GroupAttributeMixin` access in `XRadMoment` will retrieve the group-metadata of the selected moment."
   ]
  },
  {
   "cell_type": "code",
   "execution_count": 34,
   "metadata": {
    "execution": {
     "iopub.execute_input": "2022-04-11T06:24:38.000434Z",
     "iopub.status.busy": "2022-04-11T06:24:38.000174Z",
     "iopub.status.idle": "2022-04-11T06:24:38.004206Z",
     "shell.execute_reply": "2022-04-11T06:24:38.003836Z"
    }
   },
   "outputs": [
    {
     "name": "stdout",
     "output_type": "stream",
     "text": [
      "path: dataset12/data1\n",
      "  id: <HDF5 group \"/dataset12/data1\" (2 members)>\n",
      "file: <HDF5 file \"20200207130000.rad.behel.pvol.vrad.scanz.hdf\" (mode r)>\n",
      "name: /home/runner/work/wradlib-notebooks/wradlib-notebooks/wradlib-data/hdf5/behel/20200207130000.rad.behel.pvol.vrad.scanz.hdf\n"
     ]
    }
   ],
   "source": [
    "mom = vol[0][0][0]\n",
    "print(\"path:\", mom.ncpath)\n",
    "print(\"  id:\", mom.ncid)\n",
    "print(\"file:\", mom.ncfile)\n",
    "print(\"name:\", mom.filename)"
   ]
  },
  {
   "cell_type": "code",
   "execution_count": 35,
   "metadata": {
    "execution": {
     "iopub.execute_input": "2022-04-11T06:24:38.006277Z",
     "iopub.status.busy": "2022-04-11T06:24:38.006016Z",
     "iopub.status.idle": "2022-04-11T06:24:38.009550Z",
     "shell.execute_reply": "2022-04-11T06:24:38.009178Z"
    }
   },
   "outputs": [
    {
     "name": "stdout",
     "output_type": "stream",
     "text": [
      "['data', 'what']\n"
     ]
    }
   ],
   "source": [
    "print(mom.groups)"
   ]
  },
  {
   "cell_type": "code",
   "execution_count": 36,
   "metadata": {
    "execution": {
     "iopub.execute_input": "2022-04-11T06:24:38.011657Z",
     "iopub.status.busy": "2022-04-11T06:24:38.011396Z",
     "iopub.status.idle": "2022-04-11T06:24:38.014062Z",
     "shell.execute_reply": "2022-04-11T06:24:38.013693Z"
    }
   },
   "outputs": [
    {
     "name": "stdout",
     "output_type": "stream",
     "text": [
      "{}\n"
     ]
    }
   ],
   "source": [
    "print(mom.attrs)"
   ]
  },
  {
   "cell_type": "code",
   "execution_count": 37,
   "metadata": {
    "execution": {
     "iopub.execute_input": "2022-04-11T06:24:38.016937Z",
     "iopub.status.busy": "2022-04-11T06:24:38.016676Z",
     "iopub.status.idle": "2022-04-11T06:24:38.019197Z",
     "shell.execute_reply": "2022-04-11T06:24:38.018829Z"
    }
   },
   "outputs": [
    {
     "name": "stdout",
     "output_type": "stream",
     "text": [
      "{'gain': 0.05826771728635773, 'nodata': 255.0, 'offset': -7.45826781265379, 'quantity': 'VRAD', 'undetect': 0.0}\n"
     ]
    }
   ],
   "source": [
    "print(mom.what)"
   ]
  },
  {
   "cell_type": "markdown",
   "metadata": {},
   "source": [
    "## CfRadial2 style root object\n",
    "\n",
    "The XRadVolume object is equipped with a CfRadial2-style `root`-object, where some information can be retrieved. "
   ]
  },
  {
   "cell_type": "code",
   "execution_count": 38,
   "metadata": {
    "execution": {
     "iopub.execute_input": "2022-04-11T06:24:38.022097Z",
     "iopub.status.busy": "2022-04-11T06:24:38.021840Z",
     "iopub.status.idle": "2022-04-11T06:24:38.084698Z",
     "shell.execute_reply": "2022-04-11T06:24:38.084276Z"
    }
   },
   "outputs": [
    {
     "data": {
      "text/html": [
       "<div><svg style=\"position: absolute; width: 0; height: 0; overflow: hidden\">\n",
       "<defs>\n",
       "<symbol id=\"icon-database\" viewBox=\"0 0 32 32\">\n",
       "<path d=\"M16 0c-8.837 0-16 2.239-16 5v4c0 2.761 7.163 5 16 5s16-2.239 16-5v-4c0-2.761-7.163-5-16-5z\"></path>\n",
       "<path d=\"M16 17c-8.837 0-16-2.239-16-5v6c0 2.761 7.163 5 16 5s16-2.239 16-5v-6c0 2.761-7.163 5-16 5z\"></path>\n",
       "<path d=\"M16 26c-8.837 0-16-2.239-16-5v6c0 2.761 7.163 5 16 5s16-2.239 16-5v-6c0 2.761-7.163 5-16 5z\"></path>\n",
       "</symbol>\n",
       "<symbol id=\"icon-file-text2\" viewBox=\"0 0 32 32\">\n",
       "<path d=\"M28.681 7.159c-0.694-0.947-1.662-2.053-2.724-3.116s-2.169-2.030-3.116-2.724c-1.612-1.182-2.393-1.319-2.841-1.319h-15.5c-1.378 0-2.5 1.121-2.5 2.5v27c0 1.378 1.122 2.5 2.5 2.5h23c1.378 0 2.5-1.122 2.5-2.5v-19.5c0-0.448-0.137-1.23-1.319-2.841zM24.543 5.457c0.959 0.959 1.712 1.825 2.268 2.543h-4.811v-4.811c0.718 0.556 1.584 1.309 2.543 2.268zM28 29.5c0 0.271-0.229 0.5-0.5 0.5h-23c-0.271 0-0.5-0.229-0.5-0.5v-27c0-0.271 0.229-0.5 0.5-0.5 0 0 15.499-0 15.5 0v7c0 0.552 0.448 1 1 1h7v19.5z\"></path>\n",
       "<path d=\"M23 26h-14c-0.552 0-1-0.448-1-1s0.448-1 1-1h14c0.552 0 1 0.448 1 1s-0.448 1-1 1z\"></path>\n",
       "<path d=\"M23 22h-14c-0.552 0-1-0.448-1-1s0.448-1 1-1h14c0.552 0 1 0.448 1 1s-0.448 1-1 1z\"></path>\n",
       "<path d=\"M23 18h-14c-0.552 0-1-0.448-1-1s0.448-1 1-1h14c0.552 0 1 0.448 1 1s-0.448 1-1 1z\"></path>\n",
       "</symbol>\n",
       "</defs>\n",
       "</svg>\n",
       "<style>/* CSS stylesheet for displaying xarray objects in jupyterlab.\n",
       " *\n",
       " */\n",
       "\n",
       ":root {\n",
       "  --xr-font-color0: var(--jp-content-font-color0, rgba(0, 0, 0, 1));\n",
       "  --xr-font-color2: var(--jp-content-font-color2, rgba(0, 0, 0, 0.54));\n",
       "  --xr-font-color3: var(--jp-content-font-color3, rgba(0, 0, 0, 0.38));\n",
       "  --xr-border-color: var(--jp-border-color2, #e0e0e0);\n",
       "  --xr-disabled-color: var(--jp-layout-color3, #bdbdbd);\n",
       "  --xr-background-color: var(--jp-layout-color0, white);\n",
       "  --xr-background-color-row-even: var(--jp-layout-color1, white);\n",
       "  --xr-background-color-row-odd: var(--jp-layout-color2, #eeeeee);\n",
       "}\n",
       "\n",
       "html[theme=dark],\n",
       "body.vscode-dark {\n",
       "  --xr-font-color0: rgba(255, 255, 255, 1);\n",
       "  --xr-font-color2: rgba(255, 255, 255, 0.54);\n",
       "  --xr-font-color3: rgba(255, 255, 255, 0.38);\n",
       "  --xr-border-color: #1F1F1F;\n",
       "  --xr-disabled-color: #515151;\n",
       "  --xr-background-color: #111111;\n",
       "  --xr-background-color-row-even: #111111;\n",
       "  --xr-background-color-row-odd: #313131;\n",
       "}\n",
       "\n",
       ".xr-wrap {\n",
       "  display: block !important;\n",
       "  min-width: 300px;\n",
       "  max-width: 700px;\n",
       "}\n",
       "\n",
       ".xr-text-repr-fallback {\n",
       "  /* fallback to plain text repr when CSS is not injected (untrusted notebook) */\n",
       "  display: none;\n",
       "}\n",
       "\n",
       ".xr-header {\n",
       "  padding-top: 6px;\n",
       "  padding-bottom: 6px;\n",
       "  margin-bottom: 4px;\n",
       "  border-bottom: solid 1px var(--xr-border-color);\n",
       "}\n",
       "\n",
       ".xr-header > div,\n",
       ".xr-header > ul {\n",
       "  display: inline;\n",
       "  margin-top: 0;\n",
       "  margin-bottom: 0;\n",
       "}\n",
       "\n",
       ".xr-obj-type,\n",
       ".xr-array-name {\n",
       "  margin-left: 2px;\n",
       "  margin-right: 10px;\n",
       "}\n",
       "\n",
       ".xr-obj-type {\n",
       "  color: var(--xr-font-color2);\n",
       "}\n",
       "\n",
       ".xr-sections {\n",
       "  padding-left: 0 !important;\n",
       "  display: grid;\n",
       "  grid-template-columns: 150px auto auto 1fr 20px 20px;\n",
       "}\n",
       "\n",
       ".xr-section-item {\n",
       "  display: contents;\n",
       "}\n",
       "\n",
       ".xr-section-item input {\n",
       "  display: none;\n",
       "}\n",
       "\n",
       ".xr-section-item input + label {\n",
       "  color: var(--xr-disabled-color);\n",
       "}\n",
       "\n",
       ".xr-section-item input:enabled + label {\n",
       "  cursor: pointer;\n",
       "  color: var(--xr-font-color2);\n",
       "}\n",
       "\n",
       ".xr-section-item input:enabled + label:hover {\n",
       "  color: var(--xr-font-color0);\n",
       "}\n",
       "\n",
       ".xr-section-summary {\n",
       "  grid-column: 1;\n",
       "  color: var(--xr-font-color2);\n",
       "  font-weight: 500;\n",
       "}\n",
       "\n",
       ".xr-section-summary > span {\n",
       "  display: inline-block;\n",
       "  padding-left: 0.5em;\n",
       "}\n",
       "\n",
       ".xr-section-summary-in:disabled + label {\n",
       "  color: var(--xr-font-color2);\n",
       "}\n",
       "\n",
       ".xr-section-summary-in + label:before {\n",
       "  display: inline-block;\n",
       "  content: '►';\n",
       "  font-size: 11px;\n",
       "  width: 15px;\n",
       "  text-align: center;\n",
       "}\n",
       "\n",
       ".xr-section-summary-in:disabled + label:before {\n",
       "  color: var(--xr-disabled-color);\n",
       "}\n",
       "\n",
       ".xr-section-summary-in:checked + label:before {\n",
       "  content: '▼';\n",
       "}\n",
       "\n",
       ".xr-section-summary-in:checked + label > span {\n",
       "  display: none;\n",
       "}\n",
       "\n",
       ".xr-section-summary,\n",
       ".xr-section-inline-details {\n",
       "  padding-top: 4px;\n",
       "  padding-bottom: 4px;\n",
       "}\n",
       "\n",
       ".xr-section-inline-details {\n",
       "  grid-column: 2 / -1;\n",
       "}\n",
       "\n",
       ".xr-section-details {\n",
       "  display: none;\n",
       "  grid-column: 1 / -1;\n",
       "  margin-bottom: 5px;\n",
       "}\n",
       "\n",
       ".xr-section-summary-in:checked ~ .xr-section-details {\n",
       "  display: contents;\n",
       "}\n",
       "\n",
       ".xr-array-wrap {\n",
       "  grid-column: 1 / -1;\n",
       "  display: grid;\n",
       "  grid-template-columns: 20px auto;\n",
       "}\n",
       "\n",
       ".xr-array-wrap > label {\n",
       "  grid-column: 1;\n",
       "  vertical-align: top;\n",
       "}\n",
       "\n",
       ".xr-preview {\n",
       "  color: var(--xr-font-color3);\n",
       "}\n",
       "\n",
       ".xr-array-preview,\n",
       ".xr-array-data {\n",
       "  padding: 0 5px !important;\n",
       "  grid-column: 2;\n",
       "}\n",
       "\n",
       ".xr-array-data,\n",
       ".xr-array-in:checked ~ .xr-array-preview {\n",
       "  display: none;\n",
       "}\n",
       "\n",
       ".xr-array-in:checked ~ .xr-array-data,\n",
       ".xr-array-preview {\n",
       "  display: inline-block;\n",
       "}\n",
       "\n",
       ".xr-dim-list {\n",
       "  display: inline-block !important;\n",
       "  list-style: none;\n",
       "  padding: 0 !important;\n",
       "  margin: 0;\n",
       "}\n",
       "\n",
       ".xr-dim-list li {\n",
       "  display: inline-block;\n",
       "  padding: 0;\n",
       "  margin: 0;\n",
       "}\n",
       "\n",
       ".xr-dim-list:before {\n",
       "  content: '(';\n",
       "}\n",
       "\n",
       ".xr-dim-list:after {\n",
       "  content: ')';\n",
       "}\n",
       "\n",
       ".xr-dim-list li:not(:last-child):after {\n",
       "  content: ',';\n",
       "  padding-right: 5px;\n",
       "}\n",
       "\n",
       ".xr-has-index {\n",
       "  font-weight: bold;\n",
       "}\n",
       "\n",
       ".xr-var-list,\n",
       ".xr-var-item {\n",
       "  display: contents;\n",
       "}\n",
       "\n",
       ".xr-var-item > div,\n",
       ".xr-var-item label,\n",
       ".xr-var-item > .xr-var-name span {\n",
       "  background-color: var(--xr-background-color-row-even);\n",
       "  margin-bottom: 0;\n",
       "}\n",
       "\n",
       ".xr-var-item > .xr-var-name:hover span {\n",
       "  padding-right: 5px;\n",
       "}\n",
       "\n",
       ".xr-var-list > li:nth-child(odd) > div,\n",
       ".xr-var-list > li:nth-child(odd) > label,\n",
       ".xr-var-list > li:nth-child(odd) > .xr-var-name span {\n",
       "  background-color: var(--xr-background-color-row-odd);\n",
       "}\n",
       "\n",
       ".xr-var-name {\n",
       "  grid-column: 1;\n",
       "}\n",
       "\n",
       ".xr-var-dims {\n",
       "  grid-column: 2;\n",
       "}\n",
       "\n",
       ".xr-var-dtype {\n",
       "  grid-column: 3;\n",
       "  text-align: right;\n",
       "  color: var(--xr-font-color2);\n",
       "}\n",
       "\n",
       ".xr-var-preview {\n",
       "  grid-column: 4;\n",
       "}\n",
       "\n",
       ".xr-var-name,\n",
       ".xr-var-dims,\n",
       ".xr-var-dtype,\n",
       ".xr-preview,\n",
       ".xr-attrs dt {\n",
       "  white-space: nowrap;\n",
       "  overflow: hidden;\n",
       "  text-overflow: ellipsis;\n",
       "  padding-right: 10px;\n",
       "}\n",
       "\n",
       ".xr-var-name:hover,\n",
       ".xr-var-dims:hover,\n",
       ".xr-var-dtype:hover,\n",
       ".xr-attrs dt:hover {\n",
       "  overflow: visible;\n",
       "  width: auto;\n",
       "  z-index: 1;\n",
       "}\n",
       "\n",
       ".xr-var-attrs,\n",
       ".xr-var-data {\n",
       "  display: none;\n",
       "  background-color: var(--xr-background-color) !important;\n",
       "  padding-bottom: 5px !important;\n",
       "}\n",
       "\n",
       ".xr-var-attrs-in:checked ~ .xr-var-attrs,\n",
       ".xr-var-data-in:checked ~ .xr-var-data {\n",
       "  display: block;\n",
       "}\n",
       "\n",
       ".xr-var-data > table {\n",
       "  float: right;\n",
       "}\n",
       "\n",
       ".xr-var-name span,\n",
       ".xr-var-data,\n",
       ".xr-attrs {\n",
       "  padding-left: 25px !important;\n",
       "}\n",
       "\n",
       ".xr-attrs,\n",
       ".xr-var-attrs,\n",
       ".xr-var-data {\n",
       "  grid-column: 1 / -1;\n",
       "}\n",
       "\n",
       "dl.xr-attrs {\n",
       "  padding: 0;\n",
       "  margin: 0;\n",
       "  display: grid;\n",
       "  grid-template-columns: 125px auto;\n",
       "}\n",
       "\n",
       ".xr-attrs dt,\n",
       ".xr-attrs dd {\n",
       "  padding: 0;\n",
       "  margin: 0;\n",
       "  float: left;\n",
       "  padding-right: 10px;\n",
       "  width: auto;\n",
       "}\n",
       "\n",
       ".xr-attrs dt {\n",
       "  font-weight: normal;\n",
       "  grid-column: 1;\n",
       "}\n",
       "\n",
       ".xr-attrs dt:hover span {\n",
       "  display: inline-block;\n",
       "  background: var(--xr-background-color);\n",
       "  padding-right: 10px;\n",
       "}\n",
       "\n",
       ".xr-attrs dd {\n",
       "  grid-column: 2;\n",
       "  white-space: pre-wrap;\n",
       "  word-break: break-all;\n",
       "}\n",
       "\n",
       ".xr-icon-database,\n",
       ".xr-icon-file-text2 {\n",
       "  display: inline-block;\n",
       "  vertical-align: middle;\n",
       "  width: 1em;\n",
       "  height: 1.5em !important;\n",
       "  stroke-width: 0;\n",
       "  stroke: currentColor;\n",
       "  fill: currentColor;\n",
       "}\n",
       "</style><pre class='xr-text-repr-fallback'>&lt;xarray.Dataset&gt;\n",
       "Dimensions:              (sweep: 12)\n",
       "Dimensions without coordinates: sweep\n",
       "Data variables:\n",
       "    volume_number        int64 0\n",
       "    platform_type        &lt;U5 &#x27;fixed&#x27;\n",
       "    instrument_type      &lt;U5 &#x27;radar&#x27;\n",
       "    primary_axis         &lt;U6 &#x27;axis_z&#x27;\n",
       "    time_coverage_start  &lt;U20 &#x27;2020-02-07T13:00:05Z&#x27;\n",
       "    time_coverage_end    &lt;U20 &#x27;2020-02-07T13:39:26Z&#x27;\n",
       "    latitude             float64 51.07\n",
       "    longitude            float64 5.406\n",
       "    altitude             float64 140.0\n",
       "    sweep_group_name     (sweep) &lt;U8 &#x27;sweep_0&#x27; &#x27;sweep_1&#x27; ... &#x27;sweep_11&#x27;\n",
       "    sweep_fixed_angle    (sweep) float64 25.0 20.0 16.0 13.0 ... 1.8 0.8 0.5 0.3\n",
       "Attributes:\n",
       "    version:          H5rad 2.0\n",
       "    title:            None\n",
       "    institution:      None\n",
       "    references:       None\n",
       "    source:           None\n",
       "    history:          None\n",
       "    comment:          im/exported using wradlib\n",
       "    instrument_name:  None\n",
       "    Conventions:      ODIM_H5/V2_0</pre><div class='xr-wrap' style='display:none'><div class='xr-header'><div class='xr-obj-type'>xarray.Dataset</div></div><ul class='xr-sections'><li class='xr-section-item'><input id='section-36a694d0-35f2-4d9a-b04a-7fb3d1040044' class='xr-section-summary-in' type='checkbox' disabled ><label for='section-36a694d0-35f2-4d9a-b04a-7fb3d1040044' class='xr-section-summary'  title='Expand/collapse section'>Dimensions:</label><div class='xr-section-inline-details'><ul class='xr-dim-list'><li><span>sweep</span>: 12</li></ul></div><div class='xr-section-details'></div></li><li class='xr-section-item'><input id='section-e8e40243-70df-494d-9683-12019e0d9f69' class='xr-section-summary-in' type='checkbox' disabled ><label for='section-e8e40243-70df-494d-9683-12019e0d9f69' class='xr-section-summary'  title='Expand/collapse section'>Coordinates: <span>(0)</span></label><div class='xr-section-inline-details'></div><div class='xr-section-details'><ul class='xr-var-list'></ul></div></li><li class='xr-section-item'><input id='section-1e9ce346-f7bb-4bad-8b9b-dac56746dd29' class='xr-section-summary-in' type='checkbox'  checked><label for='section-1e9ce346-f7bb-4bad-8b9b-dac56746dd29' class='xr-section-summary' >Data variables: <span>(11)</span></label><div class='xr-section-inline-details'></div><div class='xr-section-details'><ul class='xr-var-list'><li class='xr-var-item'><div class='xr-var-name'><span>volume_number</span></div><div class='xr-var-dims'>()</div><div class='xr-var-dtype'>int64</div><div class='xr-var-preview xr-preview'>0</div><input id='attrs-d3fb8d83-b8ed-4d44-a3e7-382a64ca6b42' class='xr-var-attrs-in' type='checkbox' disabled><label for='attrs-d3fb8d83-b8ed-4d44-a3e7-382a64ca6b42' title='Show/Hide attributes'><svg class='icon xr-icon-file-text2'><use xlink:href='#icon-file-text2'></use></svg></label><input id='data-75a808f5-d34a-428b-8da6-8c6827e6ded7' class='xr-var-data-in' type='checkbox'><label for='data-75a808f5-d34a-428b-8da6-8c6827e6ded7' title='Show/Hide data repr'><svg class='icon xr-icon-database'><use xlink:href='#icon-database'></use></svg></label><div class='xr-var-attrs'><dl class='xr-attrs'></dl></div><div class='xr-var-data'><pre>array(0)</pre></div></li><li class='xr-var-item'><div class='xr-var-name'><span>platform_type</span></div><div class='xr-var-dims'>()</div><div class='xr-var-dtype'>&lt;U5</div><div class='xr-var-preview xr-preview'>&#x27;fixed&#x27;</div><input id='attrs-c15ec98b-eaa8-4fde-ba40-5ecc6be34ce7' class='xr-var-attrs-in' type='checkbox' disabled><label for='attrs-c15ec98b-eaa8-4fde-ba40-5ecc6be34ce7' title='Show/Hide attributes'><svg class='icon xr-icon-file-text2'><use xlink:href='#icon-file-text2'></use></svg></label><input id='data-9bb50e87-0fea-4ba1-81a8-7914742ce258' class='xr-var-data-in' type='checkbox'><label for='data-9bb50e87-0fea-4ba1-81a8-7914742ce258' title='Show/Hide data repr'><svg class='icon xr-icon-database'><use xlink:href='#icon-database'></use></svg></label><div class='xr-var-attrs'><dl class='xr-attrs'></dl></div><div class='xr-var-data'><pre>array(&#x27;fixed&#x27;, dtype=&#x27;&lt;U5&#x27;)</pre></div></li><li class='xr-var-item'><div class='xr-var-name'><span>instrument_type</span></div><div class='xr-var-dims'>()</div><div class='xr-var-dtype'>&lt;U5</div><div class='xr-var-preview xr-preview'>&#x27;radar&#x27;</div><input id='attrs-6839e855-f2d4-486a-bad5-026723af3b41' class='xr-var-attrs-in' type='checkbox' disabled><label for='attrs-6839e855-f2d4-486a-bad5-026723af3b41' title='Show/Hide attributes'><svg class='icon xr-icon-file-text2'><use xlink:href='#icon-file-text2'></use></svg></label><input id='data-122b6d78-6c68-4706-be5a-89af32de87b8' class='xr-var-data-in' type='checkbox'><label for='data-122b6d78-6c68-4706-be5a-89af32de87b8' title='Show/Hide data repr'><svg class='icon xr-icon-database'><use xlink:href='#icon-database'></use></svg></label><div class='xr-var-attrs'><dl class='xr-attrs'></dl></div><div class='xr-var-data'><pre>array(&#x27;radar&#x27;, dtype=&#x27;&lt;U5&#x27;)</pre></div></li><li class='xr-var-item'><div class='xr-var-name'><span>primary_axis</span></div><div class='xr-var-dims'>()</div><div class='xr-var-dtype'>&lt;U6</div><div class='xr-var-preview xr-preview'>&#x27;axis_z&#x27;</div><input id='attrs-5d28d0f4-132e-4881-951d-7915ec1b01f0' class='xr-var-attrs-in' type='checkbox' disabled><label for='attrs-5d28d0f4-132e-4881-951d-7915ec1b01f0' title='Show/Hide attributes'><svg class='icon xr-icon-file-text2'><use xlink:href='#icon-file-text2'></use></svg></label><input id='data-3d3013e1-6fbc-4c04-b1b1-0e631defceb5' class='xr-var-data-in' type='checkbox'><label for='data-3d3013e1-6fbc-4c04-b1b1-0e631defceb5' title='Show/Hide data repr'><svg class='icon xr-icon-database'><use xlink:href='#icon-database'></use></svg></label><div class='xr-var-attrs'><dl class='xr-attrs'></dl></div><div class='xr-var-data'><pre>array(&#x27;axis_z&#x27;, dtype=&#x27;&lt;U6&#x27;)</pre></div></li><li class='xr-var-item'><div class='xr-var-name'><span>time_coverage_start</span></div><div class='xr-var-dims'>()</div><div class='xr-var-dtype'>&lt;U20</div><div class='xr-var-preview xr-preview'>&#x27;2020-02-07T13:00:05Z&#x27;</div><input id='attrs-0f383293-389f-4137-baf7-1a82bccc63e8' class='xr-var-attrs-in' type='checkbox' disabled><label for='attrs-0f383293-389f-4137-baf7-1a82bccc63e8' title='Show/Hide attributes'><svg class='icon xr-icon-file-text2'><use xlink:href='#icon-file-text2'></use></svg></label><input id='data-7a676841-f69b-4898-aea2-0ed07e475fee' class='xr-var-data-in' type='checkbox'><label for='data-7a676841-f69b-4898-aea2-0ed07e475fee' title='Show/Hide data repr'><svg class='icon xr-icon-database'><use xlink:href='#icon-database'></use></svg></label><div class='xr-var-attrs'><dl class='xr-attrs'></dl></div><div class='xr-var-data'><pre>array(&#x27;2020-02-07T13:00:05Z&#x27;, dtype=&#x27;&lt;U20&#x27;)</pre></div></li><li class='xr-var-item'><div class='xr-var-name'><span>time_coverage_end</span></div><div class='xr-var-dims'>()</div><div class='xr-var-dtype'>&lt;U20</div><div class='xr-var-preview xr-preview'>&#x27;2020-02-07T13:39:26Z&#x27;</div><input id='attrs-8a035d2a-d9a8-4bab-9d05-cf465ade9f00' class='xr-var-attrs-in' type='checkbox' disabled><label for='attrs-8a035d2a-d9a8-4bab-9d05-cf465ade9f00' title='Show/Hide attributes'><svg class='icon xr-icon-file-text2'><use xlink:href='#icon-file-text2'></use></svg></label><input id='data-07c2f9ad-6aa3-43a3-8277-d1d468ecdde9' class='xr-var-data-in' type='checkbox'><label for='data-07c2f9ad-6aa3-43a3-8277-d1d468ecdde9' title='Show/Hide data repr'><svg class='icon xr-icon-database'><use xlink:href='#icon-database'></use></svg></label><div class='xr-var-attrs'><dl class='xr-attrs'></dl></div><div class='xr-var-data'><pre>array(&#x27;2020-02-07T13:39:26Z&#x27;, dtype=&#x27;&lt;U20&#x27;)</pre></div></li><li class='xr-var-item'><div class='xr-var-name'><span>latitude</span></div><div class='xr-var-dims'>()</div><div class='xr-var-dtype'>float64</div><div class='xr-var-preview xr-preview'>51.07</div><input id='attrs-b771cda0-3ab1-41dd-bf8a-5203d87e6886' class='xr-var-attrs-in' type='checkbox' disabled><label for='attrs-b771cda0-3ab1-41dd-bf8a-5203d87e6886' title='Show/Hide attributes'><svg class='icon xr-icon-file-text2'><use xlink:href='#icon-file-text2'></use></svg></label><input id='data-87fbc5df-5835-428c-88a7-e2fef04b8670' class='xr-var-data-in' type='checkbox'><label for='data-87fbc5df-5835-428c-88a7-e2fef04b8670' title='Show/Hide data repr'><svg class='icon xr-icon-database'><use xlink:href='#icon-database'></use></svg></label><div class='xr-var-attrs'><dl class='xr-attrs'></dl></div><div class='xr-var-data'><pre>array(51.069072)</pre></div></li><li class='xr-var-item'><div class='xr-var-name'><span>longitude</span></div><div class='xr-var-dims'>()</div><div class='xr-var-dtype'>float64</div><div class='xr-var-preview xr-preview'>5.406</div><input id='attrs-5005914d-696b-4ccc-bee6-5acef68215ca' class='xr-var-attrs-in' type='checkbox' disabled><label for='attrs-5005914d-696b-4ccc-bee6-5acef68215ca' title='Show/Hide attributes'><svg class='icon xr-icon-file-text2'><use xlink:href='#icon-file-text2'></use></svg></label><input id='data-6a65528a-6536-4818-8c0f-47e21ef969b7' class='xr-var-data-in' type='checkbox'><label for='data-6a65528a-6536-4818-8c0f-47e21ef969b7' title='Show/Hide data repr'><svg class='icon xr-icon-database'><use xlink:href='#icon-database'></use></svg></label><div class='xr-var-attrs'><dl class='xr-attrs'></dl></div><div class='xr-var-data'><pre>array(5.4064)</pre></div></li><li class='xr-var-item'><div class='xr-var-name'><span>altitude</span></div><div class='xr-var-dims'>()</div><div class='xr-var-dtype'>float64</div><div class='xr-var-preview xr-preview'>140.0</div><input id='attrs-4c9679f1-d219-461d-a942-135185332f29' class='xr-var-attrs-in' type='checkbox' disabled><label for='attrs-4c9679f1-d219-461d-a942-135185332f29' title='Show/Hide attributes'><svg class='icon xr-icon-file-text2'><use xlink:href='#icon-file-text2'></use></svg></label><input id='data-d08482cf-f9f3-4d80-8d3e-f358da59b8c7' class='xr-var-data-in' type='checkbox'><label for='data-d08482cf-f9f3-4d80-8d3e-f358da59b8c7' title='Show/Hide data repr'><svg class='icon xr-icon-database'><use xlink:href='#icon-database'></use></svg></label><div class='xr-var-attrs'><dl class='xr-attrs'></dl></div><div class='xr-var-data'><pre>array(140.)</pre></div></li><li class='xr-var-item'><div class='xr-var-name'><span>sweep_group_name</span></div><div class='xr-var-dims'>(sweep)</div><div class='xr-var-dtype'>&lt;U8</div><div class='xr-var-preview xr-preview'>&#x27;sweep_0&#x27; &#x27;sweep_1&#x27; ... &#x27;sweep_11&#x27;</div><input id='attrs-21b5ac86-c97c-4a7a-bd5f-482ef85087e5' class='xr-var-attrs-in' type='checkbox' disabled><label for='attrs-21b5ac86-c97c-4a7a-bd5f-482ef85087e5' title='Show/Hide attributes'><svg class='icon xr-icon-file-text2'><use xlink:href='#icon-file-text2'></use></svg></label><input id='data-0b25472b-db76-4f42-a885-b7a752347baa' class='xr-var-data-in' type='checkbox'><label for='data-0b25472b-db76-4f42-a885-b7a752347baa' title='Show/Hide data repr'><svg class='icon xr-icon-database'><use xlink:href='#icon-database'></use></svg></label><div class='xr-var-attrs'><dl class='xr-attrs'></dl></div><div class='xr-var-data'><pre>array([&#x27;sweep_0&#x27;, &#x27;sweep_1&#x27;, &#x27;sweep_2&#x27;, &#x27;sweep_3&#x27;, &#x27;sweep_4&#x27;, &#x27;sweep_5&#x27;,\n",
       "       &#x27;sweep_6&#x27;, &#x27;sweep_7&#x27;, &#x27;sweep_8&#x27;, &#x27;sweep_9&#x27;, &#x27;sweep_10&#x27;, &#x27;sweep_11&#x27;],\n",
       "      dtype=&#x27;&lt;U8&#x27;)</pre></div></li><li class='xr-var-item'><div class='xr-var-name'><span>sweep_fixed_angle</span></div><div class='xr-var-dims'>(sweep)</div><div class='xr-var-dtype'>float64</div><div class='xr-var-preview xr-preview'>25.0 20.0 16.0 13.0 ... 0.8 0.5 0.3</div><input id='attrs-7aa5e698-1a2e-4233-a4fa-d7cdc4448444' class='xr-var-attrs-in' type='checkbox' disabled><label for='attrs-7aa5e698-1a2e-4233-a4fa-d7cdc4448444' title='Show/Hide attributes'><svg class='icon xr-icon-file-text2'><use xlink:href='#icon-file-text2'></use></svg></label><input id='data-3bce1949-ae83-4361-9b04-6d5ee86a7f43' class='xr-var-data-in' type='checkbox'><label for='data-3bce1949-ae83-4361-9b04-6d5ee86a7f43' title='Show/Hide data repr'><svg class='icon xr-icon-database'><use xlink:href='#icon-database'></use></svg></label><div class='xr-var-attrs'><dl class='xr-attrs'></dl></div><div class='xr-var-data'><pre>array([25. , 20. , 16. , 13. , 10. ,  7.5,  5. ,  3. ,  1.8,  0.8,  0.5,\n",
       "        0.3])</pre></div></li></ul></div></li><li class='xr-section-item'><input id='section-f0445b70-19d3-460c-a0c1-180dc32c98e6' class='xr-section-summary-in' type='checkbox'  checked><label for='section-f0445b70-19d3-460c-a0c1-180dc32c98e6' class='xr-section-summary' >Attributes: <span>(9)</span></label><div class='xr-section-inline-details'></div><div class='xr-section-details'><dl class='xr-attrs'><dt><span>version :</span></dt><dd>H5rad 2.0</dd><dt><span>title :</span></dt><dd>None</dd><dt><span>institution :</span></dt><dd>None</dd><dt><span>references :</span></dt><dd>None</dd><dt><span>source :</span></dt><dd>None</dd><dt><span>history :</span></dt><dd>None</dd><dt><span>comment :</span></dt><dd>im/exported using wradlib</dd><dt><span>instrument_name :</span></dt><dd>None</dd><dt><span>Conventions :</span></dt><dd>ODIM_H5/V2_0</dd></dl></div></li></ul></div></div>"
      ],
      "text/plain": [
       "<xarray.Dataset>\n",
       "Dimensions:              (sweep: 12)\n",
       "Dimensions without coordinates: sweep\n",
       "Data variables:\n",
       "    volume_number        int64 0\n",
       "    platform_type        <U5 'fixed'\n",
       "    instrument_type      <U5 'radar'\n",
       "    primary_axis         <U6 'axis_z'\n",
       "    time_coverage_start  <U20 '2020-02-07T13:00:05Z'\n",
       "    time_coverage_end    <U20 '2020-02-07T13:39:26Z'\n",
       "    latitude             float64 51.07\n",
       "    longitude            float64 5.406\n",
       "    altitude             float64 140.0\n",
       "    sweep_group_name     (sweep) <U8 'sweep_0' 'sweep_1' ... 'sweep_11'\n",
       "    sweep_fixed_angle    (sweep) float64 25.0 20.0 16.0 13.0 ... 1.8 0.8 0.5 0.3\n",
       "Attributes:\n",
       "    version:          H5rad 2.0\n",
       "    title:            None\n",
       "    institution:      None\n",
       "    references:       None\n",
       "    source:           None\n",
       "    history:          None\n",
       "    comment:          im/exported using wradlib\n",
       "    instrument_name:  None\n",
       "    Conventions:      ODIM_H5/V2_0"
      ]
     },
     "execution_count": 38,
     "metadata": {},
     "output_type": "execute_result"
    }
   ],
   "source": [
    "vol.root"
   ]
  },
  {
   "cell_type": "markdown",
   "metadata": {},
   "source": [
    "## Get hold of data using xarray\n",
    "\n",
    "- The outer class instance `XRadVolume` does not contain a `.data`-property because the volume cannot be represented using xarray. \n",
    "- `XRadTimeseries` `.data` works on the sweep level, it can contain one or multiple consecutive sweeps.\n",
    "    It will be created on the fly from the `XRadSweep` `.data` xarray.Dataset objects via concatenation.\n",
    "- `XRadSweep` `.data` is one single sweep containing multiple radar moments. It is created **and** cached when first accessed.\n",
    "- `XRadMoment` `.data` is one single moment as xarray DataArray, which is claimed from the parent `XRadSweep`"
   ]
  },
  {
   "cell_type": "markdown",
   "metadata": {},
   "source": [
    "### Moment"
   ]
  },
  {
   "cell_type": "code",
   "execution_count": 39,
   "metadata": {
    "execution": {
     "iopub.execute_input": "2022-04-11T06:24:38.088211Z",
     "iopub.status.busy": "2022-04-11T06:24:38.087456Z",
     "iopub.status.idle": "2022-04-11T06:24:38.212399Z",
     "shell.execute_reply": "2022-04-11T06:24:38.211857Z"
    }
   },
   "outputs": [
    {
     "name": "stdout",
     "output_type": "stream",
     "text": [
      "First Access\n"
     ]
    },
    {
     "name": "stdout",
     "output_type": "stream",
     "text": [
      "<xarray.DataArray 'VRAD' (azimuth: 360, range: 800)>\n",
      "dask.array<_scale_offset_decoding, shape=(360, 800), dtype=float32, chunksize=(360, 800), chunktype=numpy.ndarray>\n",
      "Coordinates:\n",
      "    time        datetime64[ns] ...\n",
      "  * azimuth     (azimuth) float32 0.5 1.5 2.5 3.5 ... 356.5 357.5 358.5 359.5\n",
      "    elevation   (azimuth) float32 ...\n",
      "    rtime       (azimuth) datetime64[ns] ...\n",
      "  * range       (range) float32 125.0 375.0 625.0 ... 1.996e+05 1.999e+05\n",
      "    sweep_mode  <U20 ...\n",
      "    latitude    float64 ...\n",
      "    longitude   float64 ...\n",
      "    altitude    float64 ...\n",
      "Attributes:\n",
      "    IMAGE_VERSION:  1.2\n",
      "    _Undetect:      0.0\n",
      "    units:          meters per seconds\n",
      "    standard_name:  radial_velocity_of_scatterers_away_from_instrument\n",
      "    long_name:      Radial velocity of scatterers away from instrument"
     ]
    },
    {
     "name": "stdout",
     "output_type": "stream",
     "text": [
      "\n"
     ]
    },
    {
     "name": "stdout",
     "output_type": "stream",
     "text": [
      "Memory: 251.34375 - 257.8203125"
     ]
    },
    {
     "name": "stdout",
     "output_type": "stream",
     "text": [
      "\n",
      "Memory added: 6.47656 MB\n",
      "CPU times: user 94.6 ms, sys: 24.1 ms, total: 119 ms\n",
      "Wall time: 120 ms\n"
     ]
    }
   ],
   "source": [
    "%%time\n",
    "print(\"First Access\")\n",
    "mem0 = memory_usage_psutil()\n",
    "print(vol[-2][0][0].data)\n",
    "mem1 = memory_usage_psutil()\n",
    "print(\"Memory: {} - {}\".format(mem0, mem1))\n",
    "print(\"Memory added: {0:.5f} MB\".format((mem1-mem0)))"
   ]
  },
  {
   "cell_type": "code",
   "execution_count": 40,
   "metadata": {
    "execution": {
     "iopub.execute_input": "2022-04-11T06:24:38.214874Z",
     "iopub.status.busy": "2022-04-11T06:24:38.214646Z",
     "iopub.status.idle": "2022-04-11T06:24:38.252376Z",
     "shell.execute_reply": "2022-04-11T06:24:38.251804Z"
    }
   },
   "outputs": [
    {
     "name": "stdout",
     "output_type": "stream",
     "text": [
      "Second Access\n"
     ]
    },
    {
     "name": "stdout",
     "output_type": "stream",
     "text": [
      "<xarray.DataArray 'VRAD' (azimuth: 360, range: 800)>\n",
      "dask.array<_scale_offset_decoding, shape=(360, 800), dtype=float32, chunksize=(360, 800), chunktype=numpy.ndarray>\n",
      "Coordinates:\n",
      "    time        datetime64[ns] ...\n",
      "  * azimuth     (azimuth) float32 0.5 1.5 2.5 3.5 ... 356.5 357.5 358.5 359.5\n",
      "    elevation   (azimuth) float32 ...\n",
      "    rtime       (azimuth) datetime64[ns] ...\n",
      "  * range       (range) float32 125.0 375.0 625.0 ... 1.996e+05 1.999e+05\n",
      "    sweep_mode  <U20 ...\n",
      "    latitude    float64 ...\n",
      "    longitude   float64 ...\n",
      "    altitude    float64 ...\n",
      "Attributes:\n",
      "    IMAGE_VERSION:  1.2\n",
      "    _Undetect:      0.0\n",
      "    units:          meters per seconds\n",
      "    standard_name:  radial_velocity_of_scatterers_away_from_instrument\n",
      "    long_name:      Radial velocity of scatterers away from instrument\n",
      "Memory: 258.53515625 - 258.546875\n",
      "Memory added: 0.01172 MB\n",
      "CPU times: user 22.1 ms, sys: 12.1 ms, total: 34.2 ms\n",
      "Wall time: 33.9 ms\n"
     ]
    }
   ],
   "source": [
    "%%time\n",
    "print(\"Second Access\")\n",
    "mem0 = memory_usage_psutil()\n",
    "print(vol[-2][0][0].data)\n",
    "mem1 = memory_usage_psutil()\n",
    "print(\"Memory: {} - {}\".format(mem0, mem1))\n",
    "print(\"Memory added: {0:.5f} MB\".format((mem1-mem0)))"
   ]
  },
  {
   "cell_type": "markdown",
   "metadata": {},
   "source": [
    "### Sweep"
   ]
  },
  {
   "cell_type": "code",
   "execution_count": 41,
   "metadata": {
    "execution": {
     "iopub.execute_input": "2022-04-11T06:24:38.254847Z",
     "iopub.status.busy": "2022-04-11T06:24:38.254692Z",
     "iopub.status.idle": "2022-04-11T06:24:38.337569Z",
     "shell.execute_reply": "2022-04-11T06:24:38.337012Z"
    }
   },
   "outputs": [
    {
     "name": "stdout",
     "output_type": "stream",
     "text": [
      "First Access\n"
     ]
    },
    {
     "name": "stdout",
     "output_type": "stream",
     "text": [
      "<xarray.Dataset>\n",
      "Dimensions:     (azimuth: 360, range: 800)\n",
      "Coordinates:\n",
      "    time        datetime64[ns] ...\n",
      "  * azimuth     (azimuth) float32 0.5 1.5 2.5 3.5 ... 356.5 357.5 358.5 359.5\n",
      "    elevation   (azimuth) float32 ...\n",
      "    rtime       (azimuth) datetime64[ns] ...\n",
      "  * range       (range) float32 125.0 375.0 625.0 ... 1.996e+05 1.999e+05\n",
      "    sweep_mode  <U20 ...\n",
      "    latitude    float64 ...\n",
      "    longitude   float64 ...\n",
      "    altitude    float64 ...\n",
      "Data variables:\n",
      "    DBZH        (azimuth, range) float32 dask.array<chunksize=(360, 800), meta=np.ndarray>\n",
      "    RHOHV       (azimuth, range) float32 dask.array<chunksize=(360, 800), meta=np.ndarray>\n",
      "    VRAD        (azimuth, range) float32 dask.array<chunksize=(360, 800), meta=np.ndarray>\n",
      "    WRAD        (azimuth, range) float32 dask.array<chunksize=(360, 800), meta=np.ndarray>\n",
      "Memory: 258.546875 - 258.66796875\n",
      "Memory added: 0.12109 MB\n",
      "CPU times: user 59.9 ms, sys: 20 ms, total: 79.9 ms\n",
      "Wall time: 78.6 ms\n"
     ]
    }
   ],
   "source": [
    "%%time\n",
    "print(\"First Access\")\n",
    "mem0 = memory_usage_psutil()\n",
    "print(vol[-1][0].data)\n",
    "mem1 = memory_usage_psutil()\n",
    "print(\"Memory: {} - {}\".format(mem0, mem1))\n",
    "print(\"Memory added: {0:.5f} MB\".format((mem1-mem0)))"
   ]
  },
  {
   "cell_type": "code",
   "execution_count": 42,
   "metadata": {
    "execution": {
     "iopub.execute_input": "2022-04-11T06:24:38.340277Z",
     "iopub.status.busy": "2022-04-11T06:24:38.340115Z",
     "iopub.status.idle": "2022-04-11T06:24:38.378849Z",
     "shell.execute_reply": "2022-04-11T06:24:38.378325Z"
    }
   },
   "outputs": [
    {
     "name": "stdout",
     "output_type": "stream",
     "text": [
      "Second Access\n",
      "<xarray.Dataset>\n",
      "Dimensions:     (azimuth: 360, range: 800)\n",
      "Coordinates:\n",
      "    time        datetime64[ns] ...\n",
      "  * azimuth     (azimuth) float32 0.5 1.5 2.5 3.5 ... 356.5 357.5 358.5 359.5\n",
      "    elevation   (azimuth) float32 ...\n",
      "    rtime       (azimuth) datetime64[ns] ...\n",
      "  * range       (range) float32 125.0 375.0 625.0 ... 1.996e+05 1.999e+05\n",
      "    sweep_mode  <U20 ...\n",
      "    latitude    float64 ...\n",
      "    longitude   float64 ...\n",
      "    altitude    float64 ...\n",
      "Data variables:\n",
      "    DBZH        (azimuth, range) float32 dask.array<chunksize=(360, 800), meta=np.ndarray>\n",
      "    RHOHV       (azimuth, range) float32 dask.array<chunksize=(360, 800), meta=np.ndarray>\n",
      "    VRAD        (azimuth, range) float32 dask.array<chunksize=(360, 800), meta=np.ndarray>\n",
      "    WRAD        (azimuth, range) float32 dask.array<chunksize=(360, 800), meta=np.ndarray>\n",
      "Memory: 258.88671875 - 258.88671875\n",
      "Memory added: 0.00000 MB\n",
      "CPU times: user 17.3 ms, sys: 16.1 ms, total: 33.4 ms\n",
      "Wall time: 34.3 ms\n"
     ]
    }
   ],
   "source": [
    "%%time\n",
    "print(\"Second Access\")\n",
    "mem0 = memory_usage_psutil()\n",
    "print(vol[-1][0].data)\n",
    "mem1 = memory_usage_psutil()\n",
    "print(\"Memory: {} - {}\".format(mem0, mem1))\n",
    "print(\"Memory added: {0:.5f} MB\".format((mem1-mem0)))"
   ]
  },
  {
   "cell_type": "markdown",
   "metadata": {},
   "source": [
    "### TimeSeries"
   ]
  },
  {
   "cell_type": "code",
   "execution_count": 43,
   "metadata": {
    "execution": {
     "iopub.execute_input": "2022-04-11T06:24:38.381368Z",
     "iopub.status.busy": "2022-04-11T06:24:38.381217Z",
     "iopub.status.idle": "2022-04-11T06:24:38.756394Z",
     "shell.execute_reply": "2022-04-11T06:24:38.755598Z"
    }
   },
   "outputs": [
    {
     "name": "stdout",
     "output_type": "stream",
     "text": [
      "First Access\n"
     ]
    },
    {
     "name": "stderr",
     "output_type": "stream",
     "text": [
      "\r",
      "Collecting:   0%|          | 0/8 [00:00<?, ? Timesteps/s]"
     ]
    },
    {
     "name": "stderr",
     "output_type": "stream",
     "text": [
      "\r",
      "Collecting:  50%|█████     | 4/8 [00:00<00:00, 30.92 Timesteps/s]"
     ]
    },
    {
     "name": "stderr",
     "output_type": "stream",
     "text": [
      "\r",
      "Collecting: 100%|██████████| 8/8 [00:00<00:00, 26.20 Timesteps/s]"
     ]
    },
    {
     "name": "stderr",
     "output_type": "stream",
     "text": [
      "\r",
      "Collecting: 100%|██████████| 8/8 [00:00<00:00, 26.74 Timesteps/s]"
     ]
    },
    {
     "name": "stderr",
     "output_type": "stream",
     "text": [
      "\n"
     ]
    },
    {
     "name": "stdout",
     "output_type": "stream",
     "text": [
      "<xarray.Dataset>\n",
      "Dimensions:     (time: 8, azimuth: 360, range: 800)\n",
      "Coordinates:\n",
      "  * time        (time) datetime64[ns] 2020-02-07T13:04:08 ... 2020-02-07T13:3...\n",
      "  * azimuth     (azimuth) float32 0.5 1.5 2.5 3.5 ... 356.5 357.5 358.5 359.5\n",
      "    elevation   (azimuth) float32 0.3 0.3 0.3 0.3 0.3 ... 0.3 0.3 0.3 0.3 0.3\n",
      "    rtime       (time, azimuth) datetime64[ns] 2020-02-07T13:04:10.527778816 ...\n",
      "  * range       (range) float32 125.0 375.0 625.0 ... 1.996e+05 1.999e+05\n",
      "    sweep_mode  <U20 'azimuth_surveillance'\n",
      "    latitude    float64 51.07\n",
      "    longitude   float64 5.406\n",
      "    altitude    float64 140.0\n",
      "Data variables:\n",
      "    DBZH        (time, azimuth, range) float32 dask.array<chunksize=(1, 360, 800), meta=np.ndarray>\n",
      "    RHOHV       (time, azimuth, range) float32 dask.array<chunksize=(1, 360, 800), meta=np.ndarray>\n",
      "    VRAD        (time, azimuth, range) float32 dask.array<chunksize=(1, 360, 800), meta=np.ndarray>\n",
      "    WRAD        (time, azimuth, range) float32 dask.array<chunksize=(1, 360, 800), meta=np.ndarray>\n",
      "Memory: 258.88671875 - 260.0703125\n",
      "Memory added: 1.18359 MB\n",
      "CPU times: user 342 ms, sys: 23.8 ms, total: 365 ms\n",
      "Wall time: 371 ms\n"
     ]
    }
   ],
   "source": [
    "%%time\n",
    "print(\"First Access\")\n",
    "mem0 = memory_usage_psutil()\n",
    "print(vol[-1].data)\n",
    "mem1 = memory_usage_psutil()\n",
    "print(\"Memory: {} - {}\".format(mem0, mem1))\n",
    "print(\"Memory added: {0:.5f} MB\".format((mem1-mem0)))"
   ]
  },
  {
   "cell_type": "code",
   "execution_count": 44,
   "metadata": {
    "execution": {
     "iopub.execute_input": "2022-04-11T06:24:38.759023Z",
     "iopub.status.busy": "2022-04-11T06:24:38.758712Z",
     "iopub.status.idle": "2022-04-11T06:24:38.797741Z",
     "shell.execute_reply": "2022-04-11T06:24:38.797280Z"
    }
   },
   "outputs": [
    {
     "name": "stdout",
     "output_type": "stream",
     "text": [
      "Second Access\n",
      "<xarray.Dataset>\n",
      "Dimensions:     (time: 8, azimuth: 360, range: 800)\n",
      "Coordinates:\n",
      "  * time        (time) datetime64[ns] 2020-02-07T13:04:08 ... 2020-02-07T13:3...\n",
      "  * azimuth     (azimuth) float32 0.5 1.5 2.5 3.5 ... 356.5 357.5 358.5 359.5\n",
      "    elevation   (azimuth) float32 0.3 0.3 0.3 0.3 0.3 ... 0.3 0.3 0.3 0.3 0.3\n",
      "    rtime       (time, azimuth) datetime64[ns] 2020-02-07T13:04:10.527778816 ...\n",
      "  * range       (range) float32 125.0 375.0 625.0 ... 1.996e+05 1.999e+05\n",
      "    sweep_mode  <U20 'azimuth_surveillance'\n",
      "    latitude    float64 51.07\n",
      "    longitude   float64 5.406\n",
      "    altitude    float64 140.0\n",
      "Data variables:\n",
      "    DBZH        (time, azimuth, range) float32 dask.array<chunksize=(1, 360, 800), meta=np.ndarray>\n",
      "    RHOHV       (time, azimuth, range) float32 dask.array<chunksize=(1, 360, 800), meta=np.ndarray>\n",
      "    VRAD        (time, azimuth, range) float32 dask.array<chunksize=(1, 360, 800), meta=np.ndarray>\n",
      "    WRAD        (time, azimuth, range) float32 dask.array<chunksize=(1, 360, 800), meta=np.ndarray>\n",
      "Memory: 261.3984375 - 261.3984375\n",
      "Memory added: 0.00000 MB\n",
      "CPU times: user 22.2 ms, sys: 11.8 ms, total: 34 ms\n",
      "Wall time: 34.6 ms\n"
     ]
    }
   ],
   "source": [
    "%%time\n",
    "print(\"Second Access\")\n",
    "mem0 = memory_usage_psutil()\n",
    "print(vol[-1].data)\n",
    "mem1 = memory_usage_psutil()\n",
    "print(\"Memory: {} - {}\".format(mem0, mem1))\n",
    "print(\"Memory added: {0:.5f} MB\".format((mem1-mem0)))"
   ]
  },
  {
   "cell_type": "markdown",
   "metadata": {},
   "source": [
    "## Plot Data"
   ]
  },
  {
   "cell_type": "markdown",
   "metadata": {},
   "source": [
    "### Plot Single Sweep"
   ]
  },
  {
   "cell_type": "code",
   "execution_count": 45,
   "metadata": {
    "execution": {
     "iopub.execute_input": "2022-04-11T06:24:38.800180Z",
     "iopub.status.busy": "2022-04-11T06:24:38.800039Z",
     "iopub.status.idle": "2022-04-11T06:24:39.123825Z",
     "shell.execute_reply": "2022-04-11T06:24:39.123300Z"
    }
   },
   "outputs": [
    {
     "data": {
      "text/plain": [
       "<matplotlib.collections.QuadMesh at 0x7f3b7b1a35b0>"
      ]
     },
     "execution_count": 45,
     "metadata": {},
     "output_type": "execute_result"
    },
    {
     "data": {
      "image/png": "[encoded data removed]",
      "text/plain": [
       "<Figure size 432x288 with 1 Axes>"
      ]
     },
     "metadata": {
      "needs_background": "light"
     },
     "output_type": "display_data"
    }
   ],
   "source": [
    "vol[-1].data.pipe(wrl.georef.georeference_dataset).DBZH[0].wradlib.plot()"
   ]
  },
  {
   "cell_type": "markdown",
   "metadata": {},
   "source": [
    "### Plot same single sweep from Timeseries"
   ]
  },
  {
   "cell_type": "code",
   "execution_count": 46,
   "metadata": {
    "execution": {
     "iopub.execute_input": "2022-04-11T06:24:39.126693Z",
     "iopub.status.busy": "2022-04-11T06:24:39.126541Z",
     "iopub.status.idle": "2022-04-11T06:24:39.420781Z",
     "shell.execute_reply": "2022-04-11T06:24:39.420268Z"
    }
   },
   "outputs": [
    {
     "data": {
      "text/plain": [
       "<matplotlib.collections.QuadMesh at 0x7f3b79c701f0>"
      ]
     },
     "execution_count": 46,
     "metadata": {},
     "output_type": "execute_result"
    },
    {
     "data": {
      "image/png": "[encoded data removed]",
      "text/plain": [
       "<Figure size 432x288 with 2 Axes>"
      ]
     },
     "metadata": {
      "needs_background": "light"
     },
     "output_type": "display_data"
    }
   ],
   "source": [
    "vol[-1].data.DBZH[0].plot()"
   ]
  },
  {
   "cell_type": "markdown",
   "metadata": {},
   "source": [
    "## Exporting Data\n",
    "\n",
    "Data can be exported to ODIMH5, CfRadial2 and NetCDF4."
   ]
  },
  {
   "cell_type": "markdown",
   "metadata": {},
   "source": [
    "### ODIMH5\n",
    "\n",
    "ODIMH5 can only handle one volume not timeseries. So we have to select the timestep which we want to export.\n",
    "\n",
    "The example shows, how to output the volume to a ODIMH5-file, read it back and check for equality."
   ]
  },
  {
   "cell_type": "code",
   "execution_count": 47,
   "metadata": {
    "execution": {
     "iopub.execute_input": "2022-04-11T06:24:39.423292Z",
     "iopub.status.busy": "2022-04-11T06:24:39.423142Z",
     "iopub.status.idle": "2022-04-11T06:24:40.660814Z",
     "shell.execute_reply": "2022-04-11T06:24:40.660233Z"
    }
   },
   "outputs": [],
   "source": [
    "vol.to_odim('test_odim.h5', timestep=5)"
   ]
  },
  {
   "cell_type": "code",
   "execution_count": 48,
   "metadata": {
    "execution": {
     "iopub.execute_input": "2022-04-11T06:24:40.663819Z",
     "iopub.status.busy": "2022-04-11T06:24:40.663649Z",
     "iopub.status.idle": "2022-04-11T06:24:40.717502Z",
     "shell.execute_reply": "2022-04-11T06:24:40.717061Z"
    }
   },
   "outputs": [
    {
     "name": "stderr",
     "output_type": "stream",
     "text": [
      "/tmp/ipykernel_4023/494209896.py:1: DeprecatedWarning: open_odim is deprecated as of 1.10 and will be removed in 2.0. Use the appropriate `wradlib.io.open_{engine}_dataset` or `wradlib.io.open_{engine}_mfdataset` function.\n",
      "  vol1 = wrl.io.open_odim('test_odim.h5')\n"
     ]
    },
    {
     "name": "stderr",
     "output_type": "stream",
     "text": [
      "\r",
      "Open:   0%|          | 0/1 [00:00<?, ? Files/s]"
     ]
    },
    {
     "name": "stderr",
     "output_type": "stream",
     "text": [
      "\r",
      "Open: 100%|██████████| 1/1 [00:00<00:00, 64.67 Files/s]"
     ]
    },
    {
     "name": "stderr",
     "output_type": "stream",
     "text": [
      "\n",
      "/home/runner/micromamba/envs/wradlib-notebooks/lib/python3.10/site-packages/wradlib/io/xarray_depr.py:2087: DeprecatedWarning: collect_by_angle is deprecated as of 1.10 and will be removed in 2.0. Use xarray BackendEntrypoint based functionality instead.\n",
      "  angles = collect_by_angle(sweeps)\n"
     ]
    },
    {
     "name": "stderr",
     "output_type": "stream",
     "text": [
      "\r",
      "Collecting:   0%|          | 0/12 [00:00<?, ? Angles/s]"
     ]
    },
    {
     "name": "stderr",
     "output_type": "stream",
     "text": [
      "/home/runner/micromamba/envs/wradlib-notebooks/lib/python3.10/site-packages/wradlib/io/xarray_depr.py:2089: DeprecatedWarning: collect_by_time is deprecated as of 1.10 and will be removed in 2.0. Use xarray BackendEntrypoint based functionality instead.\n",
      "  angles[i] = collect_by_time(angles[i])\n",
      "/home/runner/micromamba/envs/wradlib-notebooks/lib/python3.10/site-packages/wradlib/io/xarray_depr.py:2089: DeprecatedWarning: collect_by_time is deprecated as of 1.10 and will be removed in 2.0. Use xarray BackendEntrypoint based functionality instead.\n",
      "  angles[i] = collect_by_time(angles[i])\n",
      "/home/runner/micromamba/envs/wradlib-notebooks/lib/python3.10/site-packages/wradlib/io/xarray_depr.py:2089: DeprecatedWarning: collect_by_time is deprecated as of 1.10 and will be removed in 2.0. Use xarray BackendEntrypoint based functionality instead.\n",
      "  angles[i] = collect_by_time(angles[i])\n",
      "/home/runner/micromamba/envs/wradlib-notebooks/lib/python3.10/site-packages/wradlib/io/xarray_depr.py:2089: DeprecatedWarning: collect_by_time is deprecated as of 1.10 and will be removed in 2.0. Use xarray BackendEntrypoint based functionality instead.\n",
      "  angles[i] = collect_by_time(angles[i])\n",
      "/home/runner/micromamba/envs/wradlib-notebooks/lib/python3.10/site-packages/wradlib/io/xarray_depr.py:2089: DeprecatedWarning: collect_by_time is deprecated as of 1.10 and will be removed in 2.0. Use xarray BackendEntrypoint based functionality instead.\n",
      "  angles[i] = collect_by_time(angles[i])\n",
      "/home/runner/micromamba/envs/wradlib-notebooks/lib/python3.10/site-packages/wradlib/io/xarray_depr.py:2089: DeprecatedWarning: collect_by_time is deprecated as of 1.10 and will be removed in 2.0. Use xarray BackendEntrypoint based functionality instead.\n",
      "  angles[i] = collect_by_time(angles[i])\n",
      "/home/runner/micromamba/envs/wradlib-notebooks/lib/python3.10/site-packages/wradlib/io/xarray_depr.py:2089: DeprecatedWarning: collect_by_time is deprecated as of 1.10 and will be removed in 2.0. Use xarray BackendEntrypoint based functionality instead.\n",
      "  angles[i] = collect_by_time(angles[i])\n",
      "/home/runner/micromamba/envs/wradlib-notebooks/lib/python3.10/site-packages/wradlib/io/xarray_depr.py:2089: DeprecatedWarning: collect_by_time is deprecated as of 1.10 and will be removed in 2.0. Use xarray BackendEntrypoint based functionality instead.\n",
      "  angles[i] = collect_by_time(angles[i])\n",
      "/home/runner/micromamba/envs/wradlib-notebooks/lib/python3.10/site-packages/wradlib/io/xarray_depr.py:2089: DeprecatedWarning: collect_by_time is deprecated as of 1.10 and will be removed in 2.0. Use xarray BackendEntrypoint based functionality instead.\n",
      "  angles[i] = collect_by_time(angles[i])\n",
      "/home/runner/micromamba/envs/wradlib-notebooks/lib/python3.10/site-packages/wradlib/io/xarray_depr.py:2089: DeprecatedWarning: collect_by_time is deprecated as of 1.10 and will be removed in 2.0. Use xarray BackendEntrypoint based functionality instead.\n",
      "  angles[i] = collect_by_time(angles[i])\n",
      "/home/runner/micromamba/envs/wradlib-notebooks/lib/python3.10/site-packages/wradlib/io/xarray_depr.py:2089: DeprecatedWarning: collect_by_time is deprecated as of 1.10 and will be removed in 2.0. Use xarray BackendEntrypoint based functionality instead.\n",
      "  angles[i] = collect_by_time(angles[i])\n",
      "/home/runner/micromamba/envs/wradlib-notebooks/lib/python3.10/site-packages/wradlib/io/xarray_depr.py:2089: DeprecatedWarning: collect_by_time is deprecated as of 1.10 and will be removed in 2.0. Use xarray BackendEntrypoint based functionality instead.\n",
      "  angles[i] = collect_by_time(angles[i])\n",
      "\r",
      "Collecting: 100%|██████████| 12/12 [00:00<00:00, 3948.51 Angles/s]"
     ]
    },
    {
     "name": "stderr",
     "output_type": "stream",
     "text": [
      "\n"
     ]
    }
   ],
   "source": [
    "vol1 = wrl.io.open_odim('test_odim.h5')"
   ]
  },
  {
   "cell_type": "code",
   "execution_count": 49,
   "metadata": {
    "execution": {
     "iopub.execute_input": "2022-04-11T06:24:40.720780Z",
     "iopub.status.busy": "2022-04-11T06:24:40.720015Z",
     "iopub.status.idle": "2022-04-11T06:24:40.724583Z",
     "shell.execute_reply": "2022-04-11T06:24:40.724236Z"
    }
   },
   "outputs": [
    {
     "name": "stdout",
     "output_type": "stream",
     "text": [
      "<wradlib.XRadSweepOdim>\n",
      "Dimension(s): (azimuth: 360, range: 800)\n",
      "Elevation(s): (25.0)\n",
      "Moment(s): (RHOHV, VRAD, WRAD, DBZH)\n"
     ]
    }
   ],
   "source": [
    "print(vol[0][5])"
   ]
  },
  {
   "cell_type": "code",
   "execution_count": 50,
   "metadata": {
    "execution": {
     "iopub.execute_input": "2022-04-11T06:24:40.727566Z",
     "iopub.status.busy": "2022-04-11T06:24:40.726824Z",
     "iopub.status.idle": "2022-04-11T06:24:40.731776Z",
     "shell.execute_reply": "2022-04-11T06:24:40.731438Z"
    }
   },
   "outputs": [
    {
     "name": "stdout",
     "output_type": "stream",
     "text": [
      "<wradlib.XRadSweepOdim>\n",
      "Dimension(s): (azimuth: 360, range: 800)\n",
      "Elevation(s): (25.0)\n",
      "Moment(s): (DBZH, RHOHV, VRAD, WRAD)\n"
     ]
    }
   ],
   "source": [
    "print(vol1[0][0])"
   ]
  },
  {
   "cell_type": "code",
   "execution_count": 51,
   "metadata": {
    "execution": {
     "iopub.execute_input": "2022-04-11T06:24:40.734702Z",
     "iopub.status.busy": "2022-04-11T06:24:40.733944Z",
     "iopub.status.idle": "2022-04-11T06:24:40.825826Z",
     "shell.execute_reply": "2022-04-11T06:24:40.825373Z"
    }
   },
   "outputs": [],
   "source": [
    "xr.testing.assert_equal(vol[0][5].data, vol1[0][0].data)"
   ]
  },
  {
   "cell_type": "markdown",
   "metadata": {},
   "source": [
    "### CfRadial2\n",
    "\n",
    "CfRadial2 can only handle one volume not timeseries. So we have to select the timestep which we want to export.\n",
    "\n",
    "The example shows, how to output the volume to a CfRadial2-file and read it back. For there is currently no fitting counterpart to `open_odim` for reading CfRadial2 volumes we resort to `wradlib.io.CfRadial` reader and compare the underlying numpy arrays. As CfRadial2 data is sorted by time, we have to sort it by azimuth first."
   ]
  },
  {
   "cell_type": "code",
   "execution_count": 52,
   "metadata": {
    "execution": {
     "iopub.execute_input": "2022-04-11T06:24:40.829637Z",
     "iopub.status.busy": "2022-04-11T06:24:40.828830Z",
     "iopub.status.idle": "2022-04-11T06:24:41.685931Z",
     "shell.execute_reply": "2022-04-11T06:24:41.685458Z"
    }
   },
   "outputs": [],
   "source": [
    "vol.to_cfradial2('test_cfradial2.nc', timestep=5)"
   ]
  },
  {
   "cell_type": "code",
   "execution_count": 53,
   "metadata": {
    "execution": {
     "iopub.execute_input": "2022-04-11T06:24:41.689978Z",
     "iopub.status.busy": "2022-04-11T06:24:41.689158Z",
     "iopub.status.idle": "2022-04-11T06:24:41.831679Z",
     "shell.execute_reply": "2022-04-11T06:24:41.831240Z"
    }
   },
   "outputs": [
    {
     "name": "stderr",
     "output_type": "stream",
     "text": [
      "/tmp/ipykernel_4023/1957515343.py:1: DeprecatedWarning: __init__ is deprecated as of 1.10 and will be removed in 2.0. Use xarray BackendEntrypoint based functionality instead.\n",
      "  vol2 = wrl.io.CfRadial('test_cfradial2.nc', dim0='azimuth')\n"
     ]
    }
   ],
   "source": [
    "vol2 = wrl.io.CfRadial('test_cfradial2.nc', dim0='azimuth')"
   ]
  },
  {
   "cell_type": "code",
   "execution_count": 54,
   "metadata": {
    "execution": {
     "iopub.execute_input": "2022-04-11T06:24:41.835018Z",
     "iopub.status.busy": "2022-04-11T06:24:41.834235Z",
     "iopub.status.idle": "2022-04-11T06:24:41.843947Z",
     "shell.execute_reply": "2022-04-11T06:24:41.843590Z"
    }
   },
   "outputs": [],
   "source": [
    "np.testing.assert_equal(vol[0][5].data.DBZH.values, vol2['sweep_0'].sortby(\"azimuth\").DBZH.values)"
   ]
  },
  {
   "cell_type": "markdown",
   "metadata": {},
   "source": [
    "### NetCDF4\n",
    "\n",
    "Using this, the complete volume/timeseries is exported to a NetCDF4 file.\n",
    "\n",
    "The example shows, how to output the volume to such NetCDF4-file and read it back. For there is currently no fitting counterpart to `open_odim` for reading these NetCDF4 volumes we resort to `xarray.open_dataset` reader."
   ]
  },
  {
   "cell_type": "code",
   "execution_count": 55,
   "metadata": {
    "execution": {
     "iopub.execute_input": "2022-04-11T06:24:41.847079Z",
     "iopub.status.busy": "2022-04-11T06:24:41.846332Z",
     "iopub.status.idle": "2022-04-11T06:24:49.321050Z",
     "shell.execute_reply": "2022-04-11T06:24:49.320581Z"
    }
   },
   "outputs": [
    {
     "name": "stderr",
     "output_type": "stream",
     "text": [
      "\r",
      "Collecting:   0%|          | 0/8 [00:00<?, ? Timesteps/s]"
     ]
    },
    {
     "name": "stderr",
     "output_type": "stream",
     "text": [
      "\r",
      "Collecting:  38%|███▊      | 3/8 [00:00<00:00, 23.63 Timesteps/s]"
     ]
    },
    {
     "name": "stderr",
     "output_type": "stream",
     "text": [
      "\r",
      "Collecting:  88%|████████▊ | 7/8 [00:00<00:00, 27.29 Timesteps/s]"
     ]
    },
    {
     "name": "stderr",
     "output_type": "stream",
     "text": [
      "\r",
      "Collecting: 100%|██████████| 8/8 [00:00<00:00, 26.25 Timesteps/s]"
     ]
    },
    {
     "name": "stderr",
     "output_type": "stream",
     "text": [
      "\n"
     ]
    },
    {
     "name": "stderr",
     "output_type": "stream",
     "text": [
      "\r",
      "Collecting:   0%|          | 0/8 [00:00<?, ? Timesteps/s]"
     ]
    },
    {
     "name": "stderr",
     "output_type": "stream",
     "text": [
      "\r",
      "Collecting:  38%|███▊      | 3/8 [00:00<00:00, 23.82 Timesteps/s]"
     ]
    },
    {
     "name": "stderr",
     "output_type": "stream",
     "text": [
      "\r",
      "Collecting:  88%|████████▊ | 7/8 [00:00<00:00, 18.26 Timesteps/s]"
     ]
    },
    {
     "name": "stderr",
     "output_type": "stream",
     "text": [
      "\r",
      "Collecting: 100%|██████████| 8/8 [00:00<00:00, 19.36 Timesteps/s]"
     ]
    },
    {
     "name": "stderr",
     "output_type": "stream",
     "text": [
      "\n"
     ]
    },
    {
     "name": "stderr",
     "output_type": "stream",
     "text": [
      "\r",
      "Collecting:   0%|          | 0/8 [00:00<?, ? Timesteps/s]"
     ]
    },
    {
     "name": "stderr",
     "output_type": "stream",
     "text": [
      "\r",
      "Collecting:  38%|███▊      | 3/8 [00:00<00:00, 22.09 Timesteps/s]"
     ]
    },
    {
     "name": "stderr",
     "output_type": "stream",
     "text": [
      "\r",
      "Collecting:  75%|███████▌  | 6/8 [00:00<00:00, 25.40 Timesteps/s]"
     ]
    },
    {
     "name": "stderr",
     "output_type": "stream",
     "text": [
      "\r",
      "Collecting: 100%|██████████| 8/8 [00:00<00:00, 24.61 Timesteps/s]"
     ]
    },
    {
     "name": "stderr",
     "output_type": "stream",
     "text": [
      "\n"
     ]
    },
    {
     "name": "stderr",
     "output_type": "stream",
     "text": [
      "\r",
      "Collecting:   0%|          | 0/8 [00:00<?, ? Timesteps/s]"
     ]
    },
    {
     "name": "stderr",
     "output_type": "stream",
     "text": [
      "\r",
      "Collecting:  38%|███▊      | 3/8 [00:00<00:00, 21.32 Timesteps/s]"
     ]
    },
    {
     "name": "stderr",
     "output_type": "stream",
     "text": [
      "\r",
      "Collecting:  88%|████████▊ | 7/8 [00:00<00:00, 25.76 Timesteps/s]"
     ]
    },
    {
     "name": "stderr",
     "output_type": "stream",
     "text": [
      "\r",
      "Collecting: 100%|██████████| 8/8 [00:00<00:00, 24.66 Timesteps/s]"
     ]
    },
    {
     "name": "stderr",
     "output_type": "stream",
     "text": [
      "\n"
     ]
    },
    {
     "name": "stderr",
     "output_type": "stream",
     "text": [
      "\r",
      "Collecting:   0%|          | 0/8 [00:00<?, ? Timesteps/s]"
     ]
    },
    {
     "name": "stderr",
     "output_type": "stream",
     "text": [
      "\r",
      "Collecting:  38%|███▊      | 3/8 [00:00<00:00, 22.22 Timesteps/s]"
     ]
    },
    {
     "name": "stderr",
     "output_type": "stream",
     "text": [
      "\r",
      "Collecting:  88%|████████▊ | 7/8 [00:00<00:00, 26.29 Timesteps/s]"
     ]
    },
    {
     "name": "stderr",
     "output_type": "stream",
     "text": [
      "\r",
      "Collecting: 100%|██████████| 8/8 [00:00<00:00, 25.02 Timesteps/s]"
     ]
    },
    {
     "name": "stderr",
     "output_type": "stream",
     "text": [
      "\n"
     ]
    },
    {
     "name": "stderr",
     "output_type": "stream",
     "text": [
      "\r",
      "Collecting:   0%|          | 0/8 [00:00<?, ? Timesteps/s]"
     ]
    },
    {
     "name": "stderr",
     "output_type": "stream",
     "text": [
      "\r",
      "Collecting:  38%|███▊      | 3/8 [00:00<00:00, 21.76 Timesteps/s]"
     ]
    },
    {
     "name": "stderr",
     "output_type": "stream",
     "text": [
      "\r",
      "Collecting:  75%|███████▌  | 6/8 [00:00<00:00, 23.57 Timesteps/s]"
     ]
    },
    {
     "name": "stderr",
     "output_type": "stream",
     "text": [
      "\r",
      "Collecting: 100%|██████████| 8/8 [00:00<00:00, 22.36 Timesteps/s]"
     ]
    },
    {
     "name": "stderr",
     "output_type": "stream",
     "text": [
      "\n"
     ]
    },
    {
     "name": "stderr",
     "output_type": "stream",
     "text": [
      "\r",
      "Collecting:   0%|          | 0/8 [00:00<?, ? Timesteps/s]"
     ]
    },
    {
     "name": "stderr",
     "output_type": "stream",
     "text": [
      "\r",
      "Collecting:  38%|███▊      | 3/8 [00:00<00:00, 23.14 Timesteps/s]"
     ]
    },
    {
     "name": "stderr",
     "output_type": "stream",
     "text": [
      "\r",
      "Collecting:  88%|████████▊ | 7/8 [00:00<00:00, 27.55 Timesteps/s]"
     ]
    },
    {
     "name": "stderr",
     "output_type": "stream",
     "text": [
      "\r",
      "Collecting: 100%|██████████| 8/8 [00:00<00:00, 26.37 Timesteps/s]"
     ]
    },
    {
     "name": "stderr",
     "output_type": "stream",
     "text": [
      "\n"
     ]
    },
    {
     "name": "stderr",
     "output_type": "stream",
     "text": [
      "\r",
      "Collecting:   0%|          | 0/8 [00:00<?, ? Timesteps/s]"
     ]
    },
    {
     "name": "stderr",
     "output_type": "stream",
     "text": [
      "\r",
      "Collecting:  38%|███▊      | 3/8 [00:00<00:00, 21.35 Timesteps/s]"
     ]
    },
    {
     "name": "stderr",
     "output_type": "stream",
     "text": [
      "\r",
      "Collecting:  88%|████████▊ | 7/8 [00:00<00:00, 25.75 Timesteps/s]"
     ]
    },
    {
     "name": "stderr",
     "output_type": "stream",
     "text": [
      "\r",
      "Collecting: 100%|██████████| 8/8 [00:00<00:00, 24.53 Timesteps/s]"
     ]
    },
    {
     "name": "stderr",
     "output_type": "stream",
     "text": [
      "\n"
     ]
    },
    {
     "name": "stderr",
     "output_type": "stream",
     "text": [
      "\r",
      "Collecting:   0%|          | 0/8 [00:00<?, ? Timesteps/s]"
     ]
    },
    {
     "name": "stderr",
     "output_type": "stream",
     "text": [
      "\r",
      "Collecting:  38%|███▊      | 3/8 [00:00<00:00, 23.66 Timesteps/s]"
     ]
    },
    {
     "name": "stderr",
     "output_type": "stream",
     "text": [
      "\r",
      "Collecting:  88%|████████▊ | 7/8 [00:00<00:00, 28.15 Timesteps/s]"
     ]
    },
    {
     "name": "stderr",
     "output_type": "stream",
     "text": [
      "\r",
      "Collecting: 100%|██████████| 8/8 [00:00<00:00, 26.78 Timesteps/s]"
     ]
    },
    {
     "name": "stderr",
     "output_type": "stream",
     "text": [
      "\n"
     ]
    },
    {
     "name": "stderr",
     "output_type": "stream",
     "text": [
      "\r",
      "Collecting:   0%|          | 0/8 [00:00<?, ? Timesteps/s]"
     ]
    },
    {
     "name": "stderr",
     "output_type": "stream",
     "text": [
      "\r",
      "Collecting:  38%|███▊      | 3/8 [00:00<00:00, 21.81 Timesteps/s]"
     ]
    },
    {
     "name": "stderr",
     "output_type": "stream",
     "text": [
      "\r",
      "Collecting:  88%|████████▊ | 7/8 [00:00<00:00, 25.27 Timesteps/s]"
     ]
    },
    {
     "name": "stderr",
     "output_type": "stream",
     "text": [
      "\r",
      "Collecting: 100%|██████████| 8/8 [00:00<00:00, 24.16 Timesteps/s]"
     ]
    },
    {
     "name": "stderr",
     "output_type": "stream",
     "text": [
      "\n"
     ]
    },
    {
     "name": "stderr",
     "output_type": "stream",
     "text": [
      "\r",
      "Collecting:   0%|          | 0/8 [00:00<?, ? Timesteps/s]"
     ]
    },
    {
     "name": "stderr",
     "output_type": "stream",
     "text": [
      "\r",
      "Collecting:  50%|█████     | 4/8 [00:00<00:00, 31.05 Timesteps/s]"
     ]
    },
    {
     "name": "stderr",
     "output_type": "stream",
     "text": [
      "\r",
      "Collecting: 100%|██████████| 8/8 [00:00<00:00, 31.52 Timesteps/s]"
     ]
    },
    {
     "name": "stderr",
     "output_type": "stream",
     "text": [
      "\r",
      "Collecting: 100%|██████████| 8/8 [00:00<00:00, 31.35 Timesteps/s]"
     ]
    },
    {
     "name": "stderr",
     "output_type": "stream",
     "text": [
      "\n"
     ]
    }
   ],
   "source": [
    "vol.to_netcdf('test_netcdf.nc', timestep=slice(None, None))"
   ]
  },
  {
   "cell_type": "code",
   "execution_count": 56,
   "metadata": {
    "execution": {
     "iopub.execute_input": "2022-04-11T06:24:49.324045Z",
     "iopub.status.busy": "2022-04-11T06:24:49.323797Z",
     "iopub.status.idle": "2022-04-11T06:24:49.386369Z",
     "shell.execute_reply": "2022-04-11T06:24:49.385912Z"
    }
   },
   "outputs": [],
   "source": [
    "vol3 = xr.open_dataset('test_netcdf.nc', group='sweep_0')"
   ]
  },
  {
   "cell_type": "code",
   "execution_count": 57,
   "metadata": {
    "execution": {
     "iopub.execute_input": "2022-04-11T06:24:49.391325Z",
     "iopub.status.busy": "2022-04-11T06:24:49.390943Z",
     "iopub.status.idle": "2022-04-11T06:24:49.411309Z",
     "shell.execute_reply": "2022-04-11T06:24:49.410853Z"
    }
   },
   "outputs": [
    {
     "data": {
      "text/html": [
       "<div><svg style=\"position: absolute; width: 0; height: 0; overflow: hidden\">\n",
       "<defs>\n",
       "<symbol id=\"icon-database\" viewBox=\"0 0 32 32\">\n",
       "<path d=\"M16 0c-8.837 0-16 2.239-16 5v4c0 2.761 7.163 5 16 5s16-2.239 16-5v-4c0-2.761-7.163-5-16-5z\"></path>\n",
       "<path d=\"M16 17c-8.837 0-16-2.239-16-5v6c0 2.761 7.163 5 16 5s16-2.239 16-5v-6c0 2.761-7.163 5-16 5z\"></path>\n",
       "<path d=\"M16 26c-8.837 0-16-2.239-16-5v6c0 2.761 7.163 5 16 5s16-2.239 16-5v-6c0 2.761-7.163 5-16 5z\"></path>\n",
       "</symbol>\n",
       "<symbol id=\"icon-file-text2\" viewBox=\"0 0 32 32\">\n",
       "<path d=\"M28.681 7.159c-0.694-0.947-1.662-2.053-2.724-3.116s-2.169-2.030-3.116-2.724c-1.612-1.182-2.393-1.319-2.841-1.319h-15.5c-1.378 0-2.5 1.121-2.5 2.5v27c0 1.378 1.122 2.5 2.5 2.5h23c1.378 0 2.5-1.122 2.5-2.5v-19.5c0-0.448-0.137-1.23-1.319-2.841zM24.543 5.457c0.959 0.959 1.712 1.825 2.268 2.543h-4.811v-4.811c0.718 0.556 1.584 1.309 2.543 2.268zM28 29.5c0 0.271-0.229 0.5-0.5 0.5h-23c-0.271 0-0.5-0.229-0.5-0.5v-27c0-0.271 0.229-0.5 0.5-0.5 0 0 15.499-0 15.5 0v7c0 0.552 0.448 1 1 1h7v19.5z\"></path>\n",
       "<path d=\"M23 26h-14c-0.552 0-1-0.448-1-1s0.448-1 1-1h14c0.552 0 1 0.448 1 1s-0.448 1-1 1z\"></path>\n",
       "<path d=\"M23 22h-14c-0.552 0-1-0.448-1-1s0.448-1 1-1h14c0.552 0 1 0.448 1 1s-0.448 1-1 1z\"></path>\n",
       "<path d=\"M23 18h-14c-0.552 0-1-0.448-1-1s0.448-1 1-1h14c0.552 0 1 0.448 1 1s-0.448 1-1 1z\"></path>\n",
       "</symbol>\n",
       "</defs>\n",
       "</svg>\n",
       "<style>/* CSS stylesheet for displaying xarray objects in jupyterlab.\n",
       " *\n",
       " */\n",
       "\n",
       ":root {\n",
       "  --xr-font-color0: var(--jp-content-font-color0, rgba(0, 0, 0, 1));\n",
       "  --xr-font-color2: var(--jp-content-font-color2, rgba(0, 0, 0, 0.54));\n",
       "  --xr-font-color3: var(--jp-content-font-color3, rgba(0, 0, 0, 0.38));\n",
       "  --xr-border-color: var(--jp-border-color2, #e0e0e0);\n",
       "  --xr-disabled-color: var(--jp-layout-color3, #bdbdbd);\n",
       "  --xr-background-color: var(--jp-layout-color0, white);\n",
       "  --xr-background-color-row-even: var(--jp-layout-color1, white);\n",
       "  --xr-background-color-row-odd: var(--jp-layout-color2, #eeeeee);\n",
       "}\n",
       "\n",
       "html[theme=dark],\n",
       "body.vscode-dark {\n",
       "  --xr-font-color0: rgba(255, 255, 255, 1);\n",
       "  --xr-font-color2: rgba(255, 255, 255, 0.54);\n",
       "  --xr-font-color3: rgba(255, 255, 255, 0.38);\n",
       "  --xr-border-color: #1F1F1F;\n",
       "  --xr-disabled-color: #515151;\n",
       "  --xr-background-color: #111111;\n",
       "  --xr-background-color-row-even: #111111;\n",
       "  --xr-background-color-row-odd: #313131;\n",
       "}\n",
       "\n",
       ".xr-wrap {\n",
       "  display: block !important;\n",
       "  min-width: 300px;\n",
       "  max-width: 700px;\n",
       "}\n",
       "\n",
       ".xr-text-repr-fallback {\n",
       "  /* fallback to plain text repr when CSS is not injected (untrusted notebook) */\n",
       "  display: none;\n",
       "}\n",
       "\n",
       ".xr-header {\n",
       "  padding-top: 6px;\n",
       "  padding-bottom: 6px;\n",
       "  margin-bottom: 4px;\n",
       "  border-bottom: solid 1px var(--xr-border-color);\n",
       "}\n",
       "\n",
       ".xr-header > div,\n",
       ".xr-header > ul {\n",
       "  display: inline;\n",
       "  margin-top: 0;\n",
       "  margin-bottom: 0;\n",
       "}\n",
       "\n",
       ".xr-obj-type,\n",
       ".xr-array-name {\n",
       "  margin-left: 2px;\n",
       "  margin-right: 10px;\n",
       "}\n",
       "\n",
       ".xr-obj-type {\n",
       "  color: var(--xr-font-color2);\n",
       "}\n",
       "\n",
       ".xr-sections {\n",
       "  padding-left: 0 !important;\n",
       "  display: grid;\n",
       "  grid-template-columns: 150px auto auto 1fr 20px 20px;\n",
       "}\n",
       "\n",
       ".xr-section-item {\n",
       "  display: contents;\n",
       "}\n",
       "\n",
       ".xr-section-item input {\n",
       "  display: none;\n",
       "}\n",
       "\n",
       ".xr-section-item input + label {\n",
       "  color: var(--xr-disabled-color);\n",
       "}\n",
       "\n",
       ".xr-section-item input:enabled + label {\n",
       "  cursor: pointer;\n",
       "  color: var(--xr-font-color2);\n",
       "}\n",
       "\n",
       ".xr-section-item input:enabled + label:hover {\n",
       "  color: var(--xr-font-color0);\n",
       "}\n",
       "\n",
       ".xr-section-summary {\n",
       "  grid-column: 1;\n",
       "  color: var(--xr-font-color2);\n",
       "  font-weight: 500;\n",
       "}\n",
       "\n",
       ".xr-section-summary > span {\n",
       "  display: inline-block;\n",
       "  padding-left: 0.5em;\n",
       "}\n",
       "\n",
       ".xr-section-summary-in:disabled + label {\n",
       "  color: var(--xr-font-color2);\n",
       "}\n",
       "\n",
       ".xr-section-summary-in + label:before {\n",
       "  display: inline-block;\n",
       "  content: '►';\n",
       "  font-size: 11px;\n",
       "  width: 15px;\n",
       "  text-align: center;\n",
       "}\n",
       "\n",
       ".xr-section-summary-in:disabled + label:before {\n",
       "  color: var(--xr-disabled-color);\n",
       "}\n",
       "\n",
       ".xr-section-summary-in:checked + label:before {\n",
       "  content: '▼';\n",
       "}\n",
       "\n",
       ".xr-section-summary-in:checked + label > span {\n",
       "  display: none;\n",
       "}\n",
       "\n",
       ".xr-section-summary,\n",
       ".xr-section-inline-details {\n",
       "  padding-top: 4px;\n",
       "  padding-bottom: 4px;\n",
       "}\n",
       "\n",
       ".xr-section-inline-details {\n",
       "  grid-column: 2 / -1;\n",
       "}\n",
       "\n",
       ".xr-section-details {\n",
       "  display: none;\n",
       "  grid-column: 1 / -1;\n",
       "  margin-bottom: 5px;\n",
       "}\n",
       "\n",
       ".xr-section-summary-in:checked ~ .xr-section-details {\n",
       "  display: contents;\n",
       "}\n",
       "\n",
       ".xr-array-wrap {\n",
       "  grid-column: 1 / -1;\n",
       "  display: grid;\n",
       "  grid-template-columns: 20px auto;\n",
       "}\n",
       "\n",
       ".xr-array-wrap > label {\n",
       "  grid-column: 1;\n",
       "  vertical-align: top;\n",
       "}\n",
       "\n",
       ".xr-preview {\n",
       "  color: var(--xr-font-color3);\n",
       "}\n",
       "\n",
       ".xr-array-preview,\n",
       ".xr-array-data {\n",
       "  padding: 0 5px !important;\n",
       "  grid-column: 2;\n",
       "}\n",
       "\n",
       ".xr-array-data,\n",
       ".xr-array-in:checked ~ .xr-array-preview {\n",
       "  display: none;\n",
       "}\n",
       "\n",
       ".xr-array-in:checked ~ .xr-array-data,\n",
       ".xr-array-preview {\n",
       "  display: inline-block;\n",
       "}\n",
       "\n",
       ".xr-dim-list {\n",
       "  display: inline-block !important;\n",
       "  list-style: none;\n",
       "  padding: 0 !important;\n",
       "  margin: 0;\n",
       "}\n",
       "\n",
       ".xr-dim-list li {\n",
       "  display: inline-block;\n",
       "  padding: 0;\n",
       "  margin: 0;\n",
       "}\n",
       "\n",
       ".xr-dim-list:before {\n",
       "  content: '(';\n",
       "}\n",
       "\n",
       ".xr-dim-list:after {\n",
       "  content: ')';\n",
       "}\n",
       "\n",
       ".xr-dim-list li:not(:last-child):after {\n",
       "  content: ',';\n",
       "  padding-right: 5px;\n",
       "}\n",
       "\n",
       ".xr-has-index {\n",
       "  font-weight: bold;\n",
       "}\n",
       "\n",
       ".xr-var-list,\n",
       ".xr-var-item {\n",
       "  display: contents;\n",
       "}\n",
       "\n",
       ".xr-var-item > div,\n",
       ".xr-var-item label,\n",
       ".xr-var-item > .xr-var-name span {\n",
       "  background-color: var(--xr-background-color-row-even);\n",
       "  margin-bottom: 0;\n",
       "}\n",
       "\n",
       ".xr-var-item > .xr-var-name:hover span {\n",
       "  padding-right: 5px;\n",
       "}\n",
       "\n",
       ".xr-var-list > li:nth-child(odd) > div,\n",
       ".xr-var-list > li:nth-child(odd) > label,\n",
       ".xr-var-list > li:nth-child(odd) > .xr-var-name span {\n",
       "  background-color: var(--xr-background-color-row-odd);\n",
       "}\n",
       "\n",
       ".xr-var-name {\n",
       "  grid-column: 1;\n",
       "}\n",
       "\n",
       ".xr-var-dims {\n",
       "  grid-column: 2;\n",
       "}\n",
       "\n",
       ".xr-var-dtype {\n",
       "  grid-column: 3;\n",
       "  text-align: right;\n",
       "  color: var(--xr-font-color2);\n",
       "}\n",
       "\n",
       ".xr-var-preview {\n",
       "  grid-column: 4;\n",
       "}\n",
       "\n",
       ".xr-var-name,\n",
       ".xr-var-dims,\n",
       ".xr-var-dtype,\n",
       ".xr-preview,\n",
       ".xr-attrs dt {\n",
       "  white-space: nowrap;\n",
       "  overflow: hidden;\n",
       "  text-overflow: ellipsis;\n",
       "  padding-right: 10px;\n",
       "}\n",
       "\n",
       ".xr-var-name:hover,\n",
       ".xr-var-dims:hover,\n",
       ".xr-var-dtype:hover,\n",
       ".xr-attrs dt:hover {\n",
       "  overflow: visible;\n",
       "  width: auto;\n",
       "  z-index: 1;\n",
       "}\n",
       "\n",
       ".xr-var-attrs,\n",
       ".xr-var-data {\n",
       "  display: none;\n",
       "  background-color: var(--xr-background-color) !important;\n",
       "  padding-bottom: 5px !important;\n",
       "}\n",
       "\n",
       ".xr-var-attrs-in:checked ~ .xr-var-attrs,\n",
       ".xr-var-data-in:checked ~ .xr-var-data {\n",
       "  display: block;\n",
       "}\n",
       "\n",
       ".xr-var-data > table {\n",
       "  float: right;\n",
       "}\n",
       "\n",
       ".xr-var-name span,\n",
       ".xr-var-data,\n",
       ".xr-attrs {\n",
       "  padding-left: 25px !important;\n",
       "}\n",
       "\n",
       ".xr-attrs,\n",
       ".xr-var-attrs,\n",
       ".xr-var-data {\n",
       "  grid-column: 1 / -1;\n",
       "}\n",
       "\n",
       "dl.xr-attrs {\n",
       "  padding: 0;\n",
       "  margin: 0;\n",
       "  display: grid;\n",
       "  grid-template-columns: 125px auto;\n",
       "}\n",
       "\n",
       ".xr-attrs dt,\n",
       ".xr-attrs dd {\n",
       "  padding: 0;\n",
       "  margin: 0;\n",
       "  float: left;\n",
       "  padding-right: 10px;\n",
       "  width: auto;\n",
       "}\n",
       "\n",
       ".xr-attrs dt {\n",
       "  font-weight: normal;\n",
       "  grid-column: 1;\n",
       "}\n",
       "\n",
       ".xr-attrs dt:hover span {\n",
       "  display: inline-block;\n",
       "  background: var(--xr-background-color);\n",
       "  padding-right: 10px;\n",
       "}\n",
       "\n",
       ".xr-attrs dd {\n",
       "  grid-column: 2;\n",
       "  white-space: pre-wrap;\n",
       "  word-break: break-all;\n",
       "}\n",
       "\n",
       ".xr-icon-database,\n",
       ".xr-icon-file-text2 {\n",
       "  display: inline-block;\n",
       "  vertical-align: middle;\n",
       "  width: 1em;\n",
       "  height: 1.5em !important;\n",
       "  stroke-width: 0;\n",
       "  stroke: currentColor;\n",
       "  fill: currentColor;\n",
       "}\n",
       "</style><pre class='xr-text-repr-fallback'>&lt;xarray.Dataset&gt;\n",
       "Dimensions:     (time: 8, azimuth: 360, range: 800)\n",
       "Coordinates:\n",
       "  * time        (time) datetime64[ns] 2020-02-07T13:00:05 ... 2020-02-07T13:3...\n",
       "  * azimuth     (azimuth) float32 0.5 1.5 2.5 3.5 ... 356.5 357.5 358.5 359.5\n",
       "    elevation   (azimuth) float32 25.0 25.0 25.0 25.0 ... 25.0 25.0 25.0 25.0\n",
       "    rtime       (time, azimuth) datetime64[ns] 2020-02-07T13:00:09.987499008 ...\n",
       "  * range       (range) float32 125.0 375.0 625.0 ... 1.996e+05 1.999e+05\n",
       "    sweep_mode  &lt;U20 &#x27;azimuth_surveillance&#x27;\n",
       "    latitude    float64 51.07\n",
       "    longitude   float64 5.406\n",
       "    altitude    float64 140.0\n",
       "Data variables:\n",
       "    DBZH        (time, azimuth, range) float32 ...\n",
       "    RHOHV       (time, azimuth, range) float32 ...\n",
       "    VRAD        (time, azimuth, range) float32 ...\n",
       "    WRAD        (time, azimuth, range) float32 ...</pre><div class='xr-wrap' style='display:none'><div class='xr-header'><div class='xr-obj-type'>xarray.Dataset</div></div><ul class='xr-sections'><li class='xr-section-item'><input id='section-ece5da6e-8efb-4ced-b7e8-4376deceb633' class='xr-section-summary-in' type='checkbox' disabled ><label for='section-ece5da6e-8efb-4ced-b7e8-4376deceb633' class='xr-section-summary'  title='Expand/collapse section'>Dimensions:</label><div class='xr-section-inline-details'><ul class='xr-dim-list'><li><span class='xr-has-index'>time</span>: 8</li><li><span class='xr-has-index'>azimuth</span>: 360</li><li><span class='xr-has-index'>range</span>: 800</li></ul></div><div class='xr-section-details'></div></li><li class='xr-section-item'><input id='section-9ab33c10-b321-48c2-a496-b0eca8360350' class='xr-section-summary-in' type='checkbox'  checked><label for='section-9ab33c10-b321-48c2-a496-b0eca8360350' class='xr-section-summary' >Coordinates: <span>(9)</span></label><div class='xr-section-inline-details'></div><div class='xr-section-details'><ul class='xr-var-list'><li class='xr-var-item'><div class='xr-var-name'><span class='xr-has-index'>time</span></div><div class='xr-var-dims'>(time)</div><div class='xr-var-dtype'>datetime64[ns]</div><div class='xr-var-preview xr-preview'>2020-02-07T13:00:05 ... 2020-02-...</div><input id='attrs-83bd9776-0e5b-4149-85dd-88217b8dd1d6' class='xr-var-attrs-in' type='checkbox' ><label for='attrs-83bd9776-0e5b-4149-85dd-88217b8dd1d6' title='Show/Hide attributes'><svg class='icon xr-icon-file-text2'><use xlink:href='#icon-file-text2'></use></svg></label><input id='data-cdf1601d-a0d8-4dd2-a2b6-188f9d304fc7' class='xr-var-data-in' type='checkbox'><label for='data-cdf1601d-a0d8-4dd2-a2b6-188f9d304fc7' title='Show/Hide data repr'><svg class='icon xr-icon-database'><use xlink:href='#icon-database'></use></svg></label><div class='xr-var-attrs'><dl class='xr-attrs'><dt><span>standard_name :</span></dt><dd>time</dd></dl></div><div class='xr-var-data'><pre>array([&#x27;2020-02-07T13:00:05.000000000&#x27;, &#x27;2020-02-07T13:05:04.000000000&#x27;,\n",
       "       &#x27;2020-02-07T13:10:04.000000000&#x27;, &#x27;2020-02-07T13:15:04.000000000&#x27;,\n",
       "       &#x27;2020-02-07T13:20:04.000000000&#x27;, &#x27;2020-02-07T13:25:04.000000000&#x27;,\n",
       "       &#x27;2020-02-07T13:30:04.000000000&#x27;, &#x27;2020-02-07T13:35:04.000000000&#x27;],\n",
       "      dtype=&#x27;datetime64[ns]&#x27;)</pre></div></li><li class='xr-var-item'><div class='xr-var-name'><span class='xr-has-index'>azimuth</span></div><div class='xr-var-dims'>(azimuth)</div><div class='xr-var-dtype'>float32</div><div class='xr-var-preview xr-preview'>0.5 1.5 2.5 ... 357.5 358.5 359.5</div><input id='attrs-3ef9f70b-af8a-4fa5-a185-13afa1eb1e5a' class='xr-var-attrs-in' type='checkbox' ><label for='attrs-3ef9f70b-af8a-4fa5-a185-13afa1eb1e5a' title='Show/Hide attributes'><svg class='icon xr-icon-file-text2'><use xlink:href='#icon-file-text2'></use></svg></label><input id='data-10bb5a23-efdb-4c90-a751-052a1e75a330' class='xr-var-data-in' type='checkbox'><label for='data-10bb5a23-efdb-4c90-a751-052a1e75a330' title='Show/Hide data repr'><svg class='icon xr-icon-database'><use xlink:href='#icon-database'></use></svg></label><div class='xr-var-attrs'><dl class='xr-attrs'><dt><span>standard_name :</span></dt><dd>ray_azimuth_angle</dd><dt><span>long_name :</span></dt><dd>azimuth_angle_from_true_north</dd><dt><span>units :</span></dt><dd>degrees</dd><dt><span>axis :</span></dt><dd>radial_azimuth_coordinate</dd></dl></div><div class='xr-var-data'><pre>array([  0.5,   1.5,   2.5, ..., 357.5, 358.5, 359.5], dtype=float32)</pre></div></li><li class='xr-var-item'><div class='xr-var-name'><span>elevation</span></div><div class='xr-var-dims'>(azimuth)</div><div class='xr-var-dtype'>float32</div><div class='xr-var-preview xr-preview'>...</div><input id='attrs-2a6d6f76-1f38-44a3-949a-b67d76c57420' class='xr-var-attrs-in' type='checkbox' ><label for='attrs-2a6d6f76-1f38-44a3-949a-b67d76c57420' title='Show/Hide attributes'><svg class='icon xr-icon-file-text2'><use xlink:href='#icon-file-text2'></use></svg></label><input id='data-61764c61-2cce-457b-879e-d87f81038d68' class='xr-var-data-in' type='checkbox'><label for='data-61764c61-2cce-457b-879e-d87f81038d68' title='Show/Hide data repr'><svg class='icon xr-icon-database'><use xlink:href='#icon-database'></use></svg></label><div class='xr-var-attrs'><dl class='xr-attrs'><dt><span>standard_name :</span></dt><dd>ray_elevation_angle</dd><dt><span>long_name :</span></dt><dd>elevation_angle_from_horizontal_plane</dd><dt><span>units :</span></dt><dd>degrees</dd><dt><span>axis :</span></dt><dd>radial_elevation_coordinate</dd></dl></div><div class='xr-var-data'><pre>array([25., 25., 25., ..., 25., 25., 25.], dtype=float32)</pre></div></li><li class='xr-var-item'><div class='xr-var-name'><span>rtime</span></div><div class='xr-var-dims'>(time, azimuth)</div><div class='xr-var-dtype'>datetime64[ns]</div><div class='xr-var-preview xr-preview'>...</div><input id='attrs-50b625f6-de02-4811-8dc3-cccbbf0031cc' class='xr-var-attrs-in' type='checkbox' ><label for='attrs-50b625f6-de02-4811-8dc3-cccbbf0031cc' title='Show/Hide attributes'><svg class='icon xr-icon-file-text2'><use xlink:href='#icon-file-text2'></use></svg></label><input id='data-806ed4c5-ea80-4ec8-95f0-7ed2eb475212' class='xr-var-data-in' type='checkbox'><label for='data-806ed4c5-ea80-4ec8-95f0-7ed2eb475212' title='Show/Hide data repr'><svg class='icon xr-icon-database'><use xlink:href='#icon-database'></use></svg></label><div class='xr-var-attrs'><dl class='xr-attrs'><dt><span>standard_name :</span></dt><dd>time</dd></dl></div><div class='xr-var-data'><pre>array([[&#x27;2020-02-07T13:00:09.987499008&#x27;, &#x27;2020-02-07T13:00:10.040276736&#x27;,\n",
       "        &#x27;2020-02-07T13:00:10.093054464&#x27;, ..., &#x27;2020-02-07T13:00:09.829165824&#x27;,\n",
       "        &#x27;2020-02-07T13:00:09.881943552&#x27;, &#x27;2020-02-07T13:00:09.934721280&#x27;],\n",
       "       [&#x27;2020-02-07T13:05:10.250002944&#x27;, &#x27;2020-02-07T13:05:10.305558528&#x27;,\n",
       "        &#x27;2020-02-07T13:05:10.361114112&#x27;, ..., &#x27;2020-02-07T13:05:10.083336192&#x27;,\n",
       "        &#x27;2020-02-07T13:05:10.138891776&#x27;, &#x27;2020-02-07T13:05:10.194447360&#x27;],\n",
       "       [&#x27;2020-02-07T13:10:09.861113856&#x27;, &#x27;2020-02-07T13:10:09.916669440&#x27;,\n",
       "        &#x27;2020-02-07T13:10:09.972225024&#x27;, ..., &#x27;2020-02-07T13:10:09.694447104&#x27;,\n",
       "        &#x27;2020-02-07T13:10:09.750002688&#x27;, &#x27;2020-02-07T13:10:09.805558272&#x27;],\n",
       "       ...,\n",
       "       [&#x27;2020-02-07T13:25:09.726387712&#x27;, &#x27;2020-02-07T13:25:09.779165440&#x27;,\n",
       "        &#x27;2020-02-07T13:25:09.831943168&#x27;, ..., &#x27;2020-02-07T13:25:09.568054528&#x27;,\n",
       "        &#x27;2020-02-07T13:25:09.620832256&#x27;, &#x27;2020-02-07T13:25:09.673609984&#x27;],\n",
       "       [&#x27;2020-02-07T13:30:09.805558272&#x27;, &#x27;2020-02-07T13:30:09.861113856&#x27;,\n",
       "        &#x27;2020-02-07T13:30:09.916669440&#x27;, ..., &#x27;2020-02-07T13:30:09.638891520&#x27;,\n",
       "        &#x27;2020-02-07T13:30:09.694447104&#x27;, &#x27;2020-02-07T13:30:09.750002688&#x27;],\n",
       "       [&#x27;2020-02-07T13:35:10.305558528&#x27;, &#x27;2020-02-07T13:35:10.361114112&#x27;,\n",
       "        &#x27;2020-02-07T13:35:10.416669696&#x27;, ..., &#x27;2020-02-07T13:35:10.138891776&#x27;,\n",
       "        &#x27;2020-02-07T13:35:10.194447360&#x27;, &#x27;2020-02-07T13:35:10.250002944&#x27;]],\n",
       "      dtype=&#x27;datetime64[ns]&#x27;)</pre></div></li><li class='xr-var-item'><div class='xr-var-name'><span class='xr-has-index'>range</span></div><div class='xr-var-dims'>(range)</div><div class='xr-var-dtype'>float32</div><div class='xr-var-preview xr-preview'>125.0 375.0 ... 1.996e+05 1.999e+05</div><input id='attrs-1fd4a8f6-be52-41f1-90f5-b6439e3333bd' class='xr-var-attrs-in' type='checkbox' ><label for='attrs-1fd4a8f6-be52-41f1-90f5-b6439e3333bd' title='Show/Hide attributes'><svg class='icon xr-icon-file-text2'><use xlink:href='#icon-file-text2'></use></svg></label><input id='data-416e4306-deba-44d5-b6a7-d115ddcf4128' class='xr-var-data-in' type='checkbox'><label for='data-416e4306-deba-44d5-b6a7-d115ddcf4128' title='Show/Hide data repr'><svg class='icon xr-icon-database'><use xlink:href='#icon-database'></use></svg></label><div class='xr-var-attrs'><dl class='xr-attrs'><dt><span>units :</span></dt><dd>meters</dd><dt><span>standard_name :</span></dt><dd>projection_range_coordinate</dd><dt><span>long_name :</span></dt><dd>range_to_measurement_volume</dd><dt><span>spacing_is_constant :</span></dt><dd>true</dd><dt><span>axis :</span></dt><dd>radial_range_coordinate</dd><dt><span>meters_to_center_of_first_gate :</span></dt><dd>125.0</dd><dt><span>meters_between_gates :</span></dt><dd>250.0</dd></dl></div><div class='xr-var-data'><pre>array([1.25000e+02, 3.75000e+02, 6.25000e+02, ..., 1.99375e+05, 1.99625e+05,\n",
       "       1.99875e+05], dtype=float32)</pre></div></li><li class='xr-var-item'><div class='xr-var-name'><span>sweep_mode</span></div><div class='xr-var-dims'>()</div><div class='xr-var-dtype'>object</div><div class='xr-var-preview xr-preview'>...</div><input id='attrs-2e3f3748-def5-4722-88e1-12d31562784f' class='xr-var-attrs-in' type='checkbox' disabled><label for='attrs-2e3f3748-def5-4722-88e1-12d31562784f' title='Show/Hide attributes'><svg class='icon xr-icon-file-text2'><use xlink:href='#icon-file-text2'></use></svg></label><input id='data-2afb4f22-1ee4-46f6-aae3-dc60fed4e25a' class='xr-var-data-in' type='checkbox'><label for='data-2afb4f22-1ee4-46f6-aae3-dc60fed4e25a' title='Show/Hide data repr'><svg class='icon xr-icon-database'><use xlink:href='#icon-database'></use></svg></label><div class='xr-var-attrs'><dl class='xr-attrs'></dl></div><div class='xr-var-data'><pre>array(&#x27;azimuth_surveillance&#x27;, dtype=&#x27;&lt;U20&#x27;)</pre></div></li><li class='xr-var-item'><div class='xr-var-name'><span>latitude</span></div><div class='xr-var-dims'>()</div><div class='xr-var-dtype'>float64</div><div class='xr-var-preview xr-preview'>...</div><input id='attrs-363d9636-7e8a-4a13-b4ec-6ff51478ce77' class='xr-var-attrs-in' type='checkbox' disabled><label for='attrs-363d9636-7e8a-4a13-b4ec-6ff51478ce77' title='Show/Hide attributes'><svg class='icon xr-icon-file-text2'><use xlink:href='#icon-file-text2'></use></svg></label><input id='data-72756516-3627-4822-b25a-53de195923d0' class='xr-var-data-in' type='checkbox'><label for='data-72756516-3627-4822-b25a-53de195923d0' title='Show/Hide data repr'><svg class='icon xr-icon-database'><use xlink:href='#icon-database'></use></svg></label><div class='xr-var-attrs'><dl class='xr-attrs'></dl></div><div class='xr-var-data'><pre>array(51.069072)</pre></div></li><li class='xr-var-item'><div class='xr-var-name'><span>longitude</span></div><div class='xr-var-dims'>()</div><div class='xr-var-dtype'>float64</div><div class='xr-var-preview xr-preview'>...</div><input id='attrs-8fc6041b-d0fc-4936-ad80-2b363884b335' class='xr-var-attrs-in' type='checkbox' disabled><label for='attrs-8fc6041b-d0fc-4936-ad80-2b363884b335' title='Show/Hide attributes'><svg class='icon xr-icon-file-text2'><use xlink:href='#icon-file-text2'></use></svg></label><input id='data-85eb277b-f644-4f81-b785-223b5df98f5d' class='xr-var-data-in' type='checkbox'><label for='data-85eb277b-f644-4f81-b785-223b5df98f5d' title='Show/Hide data repr'><svg class='icon xr-icon-database'><use xlink:href='#icon-database'></use></svg></label><div class='xr-var-attrs'><dl class='xr-attrs'></dl></div><div class='xr-var-data'><pre>array(5.4064)</pre></div></li><li class='xr-var-item'><div class='xr-var-name'><span>altitude</span></div><div class='xr-var-dims'>()</div><div class='xr-var-dtype'>float64</div><div class='xr-var-preview xr-preview'>...</div><input id='attrs-4d9d3282-c7c8-4285-9da1-8a83369177cf' class='xr-var-attrs-in' type='checkbox' disabled><label for='attrs-4d9d3282-c7c8-4285-9da1-8a83369177cf' title='Show/Hide attributes'><svg class='icon xr-icon-file-text2'><use xlink:href='#icon-file-text2'></use></svg></label><input id='data-6493bbad-ad2f-4529-9d8f-9fd10c07745e' class='xr-var-data-in' type='checkbox'><label for='data-6493bbad-ad2f-4529-9d8f-9fd10c07745e' title='Show/Hide data repr'><svg class='icon xr-icon-database'><use xlink:href='#icon-database'></use></svg></label><div class='xr-var-attrs'><dl class='xr-attrs'></dl></div><div class='xr-var-data'><pre>array(140.)</pre></div></li></ul></div></li><li class='xr-section-item'><input id='section-8442ef68-5503-4c1e-983e-b3b9f12946a9' class='xr-section-summary-in' type='checkbox'  checked><label for='section-8442ef68-5503-4c1e-983e-b3b9f12946a9' class='xr-section-summary' >Data variables: <span>(4)</span></label><div class='xr-section-inline-details'></div><div class='xr-section-details'><ul class='xr-var-list'><li class='xr-var-item'><div class='xr-var-name'><span>DBZH</span></div><div class='xr-var-dims'>(time, azimuth, range)</div><div class='xr-var-dtype'>float32</div><div class='xr-var-preview xr-preview'>...</div><input id='attrs-d4ebc699-c9ee-43eb-a0c5-9988af320691' class='xr-var-attrs-in' type='checkbox' ><label for='attrs-d4ebc699-c9ee-43eb-a0c5-9988af320691' title='Show/Hide attributes'><svg class='icon xr-icon-file-text2'><use xlink:href='#icon-file-text2'></use></svg></label><input id='data-5a96e85c-4e05-4735-bee3-33c771e0f785' class='xr-var-data-in' type='checkbox'><label for='data-5a96e85c-4e05-4735-bee3-33c771e0f785' title='Show/Hide data repr'><svg class='icon xr-icon-database'><use xlink:href='#icon-database'></use></svg></label><div class='xr-var-attrs'><dl class='xr-attrs'><dt><span>IMAGE_VERSION :</span></dt><dd>1.2</dd><dt><span>_Undetect :</span></dt><dd>0.0</dd><dt><span>units :</span></dt><dd>dBZ</dd><dt><span>standard_name :</span></dt><dd>radar_equivalent_reflectivity_factor_h</dd><dt><span>long_name :</span></dt><dd>Equivalent reflectivity factor H</dd></dl></div><div class='xr-var-data'><pre>[2304000 values with dtype=float32]</pre></div></li><li class='xr-var-item'><div class='xr-var-name'><span>RHOHV</span></div><div class='xr-var-dims'>(time, azimuth, range)</div><div class='xr-var-dtype'>float32</div><div class='xr-var-preview xr-preview'>...</div><input id='attrs-d0f9df83-7c47-4b86-9be2-bfeae20b1862' class='xr-var-attrs-in' type='checkbox' ><label for='attrs-d0f9df83-7c47-4b86-9be2-bfeae20b1862' title='Show/Hide attributes'><svg class='icon xr-icon-file-text2'><use xlink:href='#icon-file-text2'></use></svg></label><input id='data-854e7a54-5831-49fc-8c0d-bea481743402' class='xr-var-data-in' type='checkbox'><label for='data-854e7a54-5831-49fc-8c0d-bea481743402' title='Show/Hide data repr'><svg class='icon xr-icon-database'><use xlink:href='#icon-database'></use></svg></label><div class='xr-var-attrs'><dl class='xr-attrs'><dt><span>IMAGE_VERSION :</span></dt><dd>1.2</dd><dt><span>_Undetect :</span></dt><dd>0.0</dd><dt><span>units :</span></dt><dd>unitless</dd><dt><span>standard_name :</span></dt><dd>radar_correlation_coefficient_hv</dd><dt><span>long_name :</span></dt><dd>Correlation coefficient HV</dd></dl></div><div class='xr-var-data'><pre>[2304000 values with dtype=float32]</pre></div></li><li class='xr-var-item'><div class='xr-var-name'><span>VRAD</span></div><div class='xr-var-dims'>(time, azimuth, range)</div><div class='xr-var-dtype'>float32</div><div class='xr-var-preview xr-preview'>...</div><input id='attrs-ff862be4-c75c-4ed6-9b16-92dcb3fadc30' class='xr-var-attrs-in' type='checkbox' ><label for='attrs-ff862be4-c75c-4ed6-9b16-92dcb3fadc30' title='Show/Hide attributes'><svg class='icon xr-icon-file-text2'><use xlink:href='#icon-file-text2'></use></svg></label><input id='data-daa989eb-c362-4399-9c33-58c858289ce3' class='xr-var-data-in' type='checkbox'><label for='data-daa989eb-c362-4399-9c33-58c858289ce3' title='Show/Hide data repr'><svg class='icon xr-icon-database'><use xlink:href='#icon-database'></use></svg></label><div class='xr-var-attrs'><dl class='xr-attrs'><dt><span>IMAGE_VERSION :</span></dt><dd>1.2</dd><dt><span>_Undetect :</span></dt><dd>0.0</dd><dt><span>units :</span></dt><dd>meters per seconds</dd><dt><span>standard_name :</span></dt><dd>radial_velocity_of_scatterers_away_from_instrument</dd><dt><span>long_name :</span></dt><dd>Radial velocity of scatterers away from instrument</dd></dl></div><div class='xr-var-data'><pre>[2304000 values with dtype=float32]</pre></div></li><li class='xr-var-item'><div class='xr-var-name'><span>WRAD</span></div><div class='xr-var-dims'>(time, azimuth, range)</div><div class='xr-var-dtype'>float32</div><div class='xr-var-preview xr-preview'>...</div><input id='attrs-d21b3e5a-37c7-4003-84b1-30bdaa402c31' class='xr-var-attrs-in' type='checkbox' ><label for='attrs-d21b3e5a-37c7-4003-84b1-30bdaa402c31' title='Show/Hide attributes'><svg class='icon xr-icon-file-text2'><use xlink:href='#icon-file-text2'></use></svg></label><input id='data-3b4e68ee-ad67-4525-8a11-5e426fde4d9c' class='xr-var-data-in' type='checkbox'><label for='data-3b4e68ee-ad67-4525-8a11-5e426fde4d9c' title='Show/Hide data repr'><svg class='icon xr-icon-database'><use xlink:href='#icon-database'></use></svg></label><div class='xr-var-attrs'><dl class='xr-attrs'><dt><span>IMAGE_VERSION :</span></dt><dd>1.2</dd><dt><span>_Undetect :</span></dt><dd>0.0</dd><dt><span>units :</span></dt><dd>meters per second</dd><dt><span>standard_name :</span></dt><dd>radar_doppler_spectrum_width</dd><dt><span>long_name :</span></dt><dd>Doppler spectrum width</dd></dl></div><div class='xr-var-data'><pre>[2304000 values with dtype=float32]</pre></div></li></ul></div></li><li class='xr-section-item'><input id='section-f6afda0f-3ba8-46b5-9bbc-c5330ac28ae5' class='xr-section-summary-in' type='checkbox' disabled ><label for='section-f6afda0f-3ba8-46b5-9bbc-c5330ac28ae5' class='xr-section-summary'  title='Expand/collapse section'>Attributes: <span>(0)</span></label><div class='xr-section-inline-details'></div><div class='xr-section-details'><dl class='xr-attrs'></dl></div></li></ul></div></div>"
      ],
      "text/plain": [
       "<xarray.Dataset>\n",
       "Dimensions:     (time: 8, azimuth: 360, range: 800)\n",
       "Coordinates:\n",
       "  * time        (time) datetime64[ns] 2020-02-07T13:00:05 ... 2020-02-07T13:3...\n",
       "  * azimuth     (azimuth) float32 0.5 1.5 2.5 3.5 ... 356.5 357.5 358.5 359.5\n",
       "    elevation   (azimuth) float32 ...\n",
       "    rtime       (time, azimuth) datetime64[ns] ...\n",
       "  * range       (range) float32 125.0 375.0 625.0 ... 1.996e+05 1.999e+05\n",
       "    sweep_mode  object ...\n",
       "    latitude    float64 ...\n",
       "    longitude   float64 ...\n",
       "    altitude    float64 ...\n",
       "Data variables:\n",
       "    DBZH        (time, azimuth, range) float32 ...\n",
       "    RHOHV       (time, azimuth, range) float32 ...\n",
       "    VRAD        (time, azimuth, range) float32 ...\n",
       "    WRAD        (time, azimuth, range) float32 ..."
      ]
     },
     "metadata": {},
     "output_type": "display_data"
    }
   ],
   "source": [
    "display(vol3)"
   ]
  },
  {
   "cell_type": "code",
   "execution_count": 58,
   "metadata": {
    "execution": {
     "iopub.execute_input": "2022-04-11T06:24:49.414560Z",
     "iopub.status.busy": "2022-04-11T06:24:49.413580Z",
     "iopub.status.idle": "2022-04-11T06:24:49.450418Z",
     "shell.execute_reply": "2022-04-11T06:24:49.449904Z"
    }
   },
   "outputs": [],
   "source": [
    "xr.testing.assert_equal(vol[0][5].data, vol3.isel(time=5))"
   ]
  },
  {
   "cell_type": "markdown",
   "metadata": {},
   "source": [
    "## Delete object"
   ]
  },
  {
   "cell_type": "code",
   "execution_count": 59,
   "metadata": {
    "execution": {
     "iopub.execute_input": "2022-04-11T06:24:49.454251Z",
     "iopub.status.busy": "2022-04-11T06:24:49.453247Z",
     "iopub.status.idle": "2022-04-11T06:24:49.470035Z",
     "shell.execute_reply": "2022-04-11T06:24:49.469582Z"
    }
   },
   "outputs": [],
   "source": [
    "del mom\n",
    "del swp\n",
    "del ts\n",
    "del vol\n",
    "del vol1\n",
    "del vol2\n",
    "del vol3"
   ]
  },
  {
   "cell_type": "markdown",
   "metadata": {},
   "source": [
    "## Run Garbage Collection"
   ]
  },
  {
   "cell_type": "code",
   "execution_count": 60,
   "metadata": {
    "execution": {
     "iopub.execute_input": "2022-04-11T06:24:49.473297Z",
     "iopub.status.busy": "2022-04-11T06:24:49.473009Z",
     "iopub.status.idle": "2022-04-11T06:24:49.922140Z",
     "shell.execute_reply": "2022-04-11T06:24:49.921751Z"
    }
   },
   "outputs": [
    {
     "name": "stdout",
     "output_type": "stream",
     "text": [
      "53401\n",
      "Memory freed: 1.85156 MB\n"
     ]
    }
   ],
   "source": [
    "free_memory()"
   ]
  },
  {
   "cell_type": "markdown",
   "metadata": {},
   "source": [
    "## Check Memory"
   ]
  },
  {
   "cell_type": "code",
   "execution_count": 61,
   "metadata": {
    "execution": {
     "iopub.execute_input": "2022-04-11T06:24:49.927273Z",
     "iopub.status.busy": "2022-04-11T06:24:49.927085Z",
     "iopub.status.idle": "2022-04-11T06:24:49.955103Z",
     "shell.execute_reply": "2022-04-11T06:24:49.954602Z"
    }
   },
   "outputs": [
    {
     "name": "stdout",
     "output_type": "stream",
     "text": [
      "Memory: 156.69140625 - 379.68359375\n",
      "Memory still in use: 222.99219 MB\n"
     ]
    }
   ],
   "source": [
    "mem_end = memory_usage_psutil()\n",
    "print(\"Memory: {} - {}\".format(mem_start, mem_end))\n",
    "print(\"Memory still in use: {0:.5f} MB\".format((mem_end-mem_start)))"
   ]
  },
  {
   "cell_type": "markdown",
   "metadata": {},
   "source": [
    "## Check Open files\n",
    "\n",
    "No open data files!"
   ]
  },
  {
   "cell_type": "code",
   "execution_count": 62,
   "metadata": {
    "execution": {
     "iopub.execute_input": "2022-04-11T06:24:49.957994Z",
     "iopub.status.busy": "2022-04-11T06:24:49.957833Z",
     "iopub.status.idle": "2022-04-11T06:24:49.962832Z",
     "shell.execute_reply": "2022-04-11T06:24:49.962345Z"
    }
   },
   "outputs": [
    {
     "name": "stdout",
     "output_type": "stream",
     "text": [
      "3\n",
      "[popenfile(path='/home/runner/micromamba/envs/wradlib-notebooks/share/proj/proj.db', fd=49, position=0, mode='r', flags=688128), popenfile(path='/home/runner/micromamba/envs/wradlib-notebooks/lib/python3.10/site-packages/matplotlib/mpl-data/fonts/ttf/DejaVuSans.ttf', fd=83, position=69642, mode='r', flags=557056), popenfile(path='/home/runner/work/wradlib-notebooks/wradlib-notebooks/notebooks/fileio/test_odim.h5', fd=91, position=0, mode='r', flags=32768)]\n"
     ]
    }
   ],
   "source": [
    "check_open_files(True)"
   ]
  }
 ],
 "metadata": {
  "language_info": {
   "codemirror_mode": {
    "name": "ipython",
    "version": 3
   },
   "file_extension": ".py",
   "mimetype": "text/x-python",
   "name": "python",
   "nbconvert_exporter": "python",
   "pygments_lexer": "ipython3",
   "version": "3.10.4"
  }
 },
 "nbformat": 4,
 "nbformat_minor": 2
}
