{
 "cells": [
  {
   "cell_type": "markdown",
   "metadata": {},
   "source": [
    "This notebook is part of the $\\omega radlib$ documentation: https://docs.wradlib.org.\n",
    "\n",
    "Copyright (c) $\\omega radlib$ developers.\n",
    "Distributed under the MIT License. See LICENSE.txt for more info."
   ]
  },
  {
   "cell_type": "markdown",
   "metadata": {},
   "source": [
    "# Multi File OdimH5 reader"
   ]
  },
  {
   "cell_type": "markdown",
   "metadata": {},
   "source": [
    "<div class=\"alert alert-warning\">\n",
    "\n",
    "**Note** <br>\n",
    "\n",
    "The following functionality is deprecated. Please use the [xarray backend loaders](wradlib_xarray_backends.ipynb) instead.\n",
    "    \n",
    "</div>"
   ]
  },
  {
   "cell_type": "markdown",
   "metadata": {},
   "source": [
    "This implementation is based on several classes which are described below."
   ]
  },
  {
   "cell_type": "markdown",
   "metadata": {},
   "source": [
    "## Class Overview\n",
    "\n",
    "### XRadBase\n",
    "\n",
    "Implements `collections.abc.MutableSequence` for holding sequential data in the derived classes (eg. sweeps, timeseries, moments).\n",
    "\n",
    "### OdimH5GroupAttributeMixin\n",
    "\n",
    "Implements properties for `XRadMoment`, `XRadSweep`, `XRadTimeSeries` and `XRadVolume` to nicely acquire ODIM group metadata, eg. `how`, `what` and `where` groups. Other wanted attributes can be acquired via `attrs`-property and other (sub-) groups be inspected via `groups`-property.\n",
    "\n",
    "### OdimH5SweepMetaDataMixin\n",
    "\n",
    "Implements properties for `XRadSweep` to nicely acquire ODIM sweep metadata, eg. `a1gate`, `azimuth`, `nrays`, `nbins` etc.\n",
    "\n",
    "### XRadMoment\n",
    "\n",
    "Uses `OdimH5GroupAttributeMixin` to access ODIM metadata. Does not hold any data. Property `data` fetches the moment as xarray DataArray from the parent `XRadSweep`. \n",
    "\n",
    "### XRadSweep\n",
    "\n",
    "Inherits from `XRadBase`, uses `OdimH5GroupAttributeMixin` and `OdimH5SweepMetaDataMixin`. Worker class, where everything happens. Implements methods and properties to retrieve sweep metadata and data. Holds `XRadMoments` in it's `MutableSequence`. Property `data` is used to load and cache the `XRadMoments` as combined xarray Dataset. Implements a whole arsenal of other properties to inspect metadata.\n",
    "\n",
    "#### XRadSweepOdim:\n",
    "\n",
    "Inherits from `XRadSweep`. Accounts for ODIM data layout.\n",
    "\n",
    "#### XRadSweepGamic:\n",
    "\n",
    "Inherits from `XRadSweep`. Accounts for GAMIC data layout.\n",
    "\n",
    "### XRadTimeSeries\n",
    "\n",
    "Inherits from `XRadBase`, holds several `XRadSweep` objects in it's `MutableSequence`. Property `data` is used to concat and cache the `XRadSweeps` as xarray Dataset along time dimension. Implements check methods to quickly get information about layout of timeseries data. \n",
    "\n",
    "### XRadVolume\n",
    "\n",
    "Inherits from `XRadBase`, holds several `XRadTimeSeries` objects in it's `MutableSequence`. Implements CfRadial2 like `root` property."
   ]
  },
  {
   "cell_type": "markdown",
   "metadata": {},
   "source": [
    "## Loading Function\n",
    "\n",
    "For opening ODIMH5 datafiles `wrl.io.open_odim(filename, loader='h5py', **kwargs)` can be used.\n",
    "\n",
    "The user can decide which loader to use (`h5py`, `h5netcdf` or `netcdf4`) to open the files for reading. The output should be the same in any case, although the memory footprint can differ quite substantially. The default loader is `netcdf4` if loader isn't specified.\n",
    "\n",
    "The datasets are retrieved in further succession via `xarray.open_dataset()` in combination with either `xarray.backends.H5NetCDFStore` (for loader `h5py` and `h5netcdf`) or `xarray.backends.NetCDF4DataStore` (for loader `netcdf4`.\n",
    "\n",
    "Possible keyword arguments are:\n",
    "\n",
    "- `mask_and_scale` *bool* - If True, apply mask and scale to moment data arrays\n",
    "- `decode_coords` *bool* - If True, decode ODIMH5 coordinates\n",
    "- `decode_times` *bool* - If True, decode times into datetime objects\n",
    "- `chunks` *int or dict* - Data loaded as dask array\n",
    "- `parallel` *bool* - if True, use `dask.delayed` to load moments in parallel\n",
    "\n",
    "The user is encouraged to play with the keyword arguments for best alignment with the needs in terms of speed and performance."
   ]
  },
  {
   "cell_type": "code",
   "execution_count": 1,
   "metadata": {
    "execution": {
     "iopub.execute_input": "2023-02-24T14:38:59.407062Z",
     "iopub.status.busy": "2023-02-24T14:38:59.406881Z",
     "iopub.status.idle": "2023-02-24T14:39:00.687643Z",
     "shell.execute_reply": "2023-02-24T14:39:00.687125Z"
    }
   },
   "outputs": [
    {
     "name": "stderr",
     "output_type": "stream",
     "text": [
      "/home/runner/micromamba-root/envs/wradlib-notebooks/lib/python3.11/site-packages/tqdm/auto.py:22: TqdmWarning: IProgress not found. Please update jupyter and ipywidgets. See https://ipywidgets.readthedocs.io/en/stable/user_install.html\n",
      "  from .autonotebook import tqdm as notebook_tqdm\n"
     ]
    }
   ],
   "source": [
    "import wradlib as wrl\n",
    "import warnings\n",
    "\n",
    "# warnings.filterwarnings('ignore')\n",
    "import matplotlib.pyplot as pl\n",
    "import numpy as np\n",
    "import xarray as xr\n",
    "import os\n",
    "import glob\n",
    "\n",
    "try:\n",
    "    get_ipython().run_line_magic(\"matplotlib inline\")\n",
    "except:\n",
    "    pl.ion()"
   ]
  },
  {
   "cell_type": "code",
   "execution_count": 2,
   "metadata": {
    "execution": {
     "iopub.execute_input": "2023-02-24T14:39:00.691154Z",
     "iopub.status.busy": "2023-02-24T14:39:00.690195Z",
     "iopub.status.idle": "2023-02-24T14:39:00.693983Z",
     "shell.execute_reply": "2023-02-24T14:39:00.693578Z"
    }
   },
   "outputs": [],
   "source": [
    "import os\n",
    "import psutil\n",
    "import gc\n",
    "\n",
    "process = psutil.Process(os.getpid())"
   ]
  },
  {
   "cell_type": "code",
   "execution_count": 3,
   "metadata": {
    "execution": {
     "iopub.execute_input": "2023-02-24T14:39:00.696678Z",
     "iopub.status.busy": "2023-02-24T14:39:00.695991Z",
     "iopub.status.idle": "2023-02-24T14:39:00.699461Z",
     "shell.execute_reply": "2023-02-24T14:39:00.699057Z"
    }
   },
   "outputs": [],
   "source": [
    "def memory_usage_psutil():\n",
    "    # return the memory usage in MB\n",
    "    rocess = psutil.Process(os.getpid())\n",
    "    mem = process.memory_full_info().uss / float(1 << 20)\n",
    "    return mem"
   ]
  },
  {
   "cell_type": "code",
   "execution_count": 4,
   "metadata": {
    "execution": {
     "iopub.execute_input": "2023-02-24T14:39:00.702018Z",
     "iopub.status.busy": "2023-02-24T14:39:00.701347Z",
     "iopub.status.idle": "2023-02-24T14:39:00.704879Z",
     "shell.execute_reply": "2023-02-24T14:39:00.704476Z"
    }
   },
   "outputs": [],
   "source": [
    "def free_memory():\n",
    "    mem0 = memory_usage_psutil()\n",
    "    print(gc.collect())\n",
    "    proc = psutil.Process()\n",
    "    mem1 = memory_usage_psutil()\n",
    "    print(\"Memory freed: {0:.5f} MB\".format((mem0 - mem1)))"
   ]
  },
  {
   "cell_type": "code",
   "execution_count": 5,
   "metadata": {
    "execution": {
     "iopub.execute_input": "2023-02-24T14:39:00.707901Z",
     "iopub.status.busy": "2023-02-24T14:39:00.707221Z",
     "iopub.status.idle": "2023-02-24T14:39:00.710683Z",
     "shell.execute_reply": "2023-02-24T14:39:00.710265Z"
    }
   },
   "outputs": [],
   "source": [
    "def check_open_files(full=False):\n",
    "    proc = psutil.Process()\n",
    "    print(len(proc.open_files()))\n",
    "    if full:\n",
    "        print(proc.open_files())"
   ]
  },
  {
   "cell_type": "code",
   "execution_count": 6,
   "metadata": {
    "execution": {
     "iopub.execute_input": "2023-02-24T14:39:00.713265Z",
     "iopub.status.busy": "2023-02-24T14:39:00.712596Z",
     "iopub.status.idle": "2023-02-24T14:39:08.973507Z",
     "shell.execute_reply": "2023-02-24T14:39:08.972999Z"
    }
   },
   "outputs": [],
   "source": [
    "%%capture\n",
    "flist = [\n",
    "    \"hdf5/behel/20200207130000.rad.behel.pvol.dbzh.scanz.hdf\",\n",
    "    \"hdf5/behel/20200207130000.rad.behel.pvol.rhohv.scanz.hdf\",\n",
    "    \"hdf5/behel/20200207130000.rad.behel.pvol.vrad.scanz.hdf\",\n",
    "    \"hdf5/behel/20200207130000.rad.behel.pvol.wrad.scanz.hdf\",\n",
    "    \"hdf5/behel/20200207130500.rad.behel.pvol.dbzh.scanz.hdf\",\n",
    "    \"hdf5/behel/20200207130500.rad.behel.pvol.rhohv.scanz.hdf\",\n",
    "    \"hdf5/behel/20200207130500.rad.behel.pvol.vrad.scanz.hdf\",\n",
    "    \"hdf5/behel/20200207130500.rad.behel.pvol.wrad.scanz.hdf\",\n",
    "    \"hdf5/behel/20200207131000.rad.behel.pvol.dbzh.scanz.hdf\",\n",
    "    \"hdf5/behel/20200207131000.rad.behel.pvol.rhohv.scanz.hdf\",\n",
    "    \"hdf5/behel/20200207131000.rad.behel.pvol.vrad.scanz.hdf\",\n",
    "    \"hdf5/behel/20200207131000.rad.behel.pvol.wrad.scanz.hdf\",\n",
    "    \"hdf5/behel/20200207131500.rad.behel.pvol.dbzh.scanz.hdf\",\n",
    "    \"hdf5/behel/20200207131500.rad.behel.pvol.rhohv.scanz.hdf\",\n",
    "    \"hdf5/behel/20200207131500.rad.behel.pvol.vrad.scanz.hdf\",\n",
    "    \"hdf5/behel/20200207131500.rad.behel.pvol.wrad.scanz.hdf\",\n",
    "    \"hdf5/behel/20200207132000.rad.behel.pvol.dbzh.scanz.hdf\",\n",
    "    \"hdf5/behel/20200207132000.rad.behel.pvol.rhohv.scanz.hdf\",\n",
    "    \"hdf5/behel/20200207132000.rad.behel.pvol.vrad.scanz.hdf\",\n",
    "    \"hdf5/behel/20200207132000.rad.behel.pvol.wrad.scanz.hdf\",\n",
    "    \"hdf5/behel/20200207132500.rad.behel.pvol.dbzh.scanz.hdf\",\n",
    "    \"hdf5/behel/20200207132500.rad.behel.pvol.rhohv.scanz.hdf\",\n",
    "    \"hdf5/behel/20200207132500.rad.behel.pvol.vrad.scanz.hdf\",\n",
    "    \"hdf5/behel/20200207132500.rad.behel.pvol.wrad.scanz.hdf\",\n",
    "    \"hdf5/behel/20200207133000.rad.behel.pvol.dbzh.scanz.hdf\",\n",
    "    \"hdf5/behel/20200207133000.rad.behel.pvol.rhohv.scanz.hdf\",\n",
    "    \"hdf5/behel/20200207133000.rad.behel.pvol.vrad.scanz.hdf\",\n",
    "    \"hdf5/behel/20200207133000.rad.behel.pvol.wrad.scanz.hdf\",\n",
    "    \"hdf5/behel/20200207133500.rad.behel.pvol.dbzh.scanz.hdf\",\n",
    "    \"hdf5/behel/20200207133500.rad.behel.pvol.rhohv.scanz.hdf\",\n",
    "    \"hdf5/behel/20200207133500.rad.behel.pvol.vrad.scanz.hdf\",\n",
    "    \"hdf5/behel/20200207133500.rad.behel.pvol.wrad.scanz.hdf\",\n",
    "]\n",
    "f = [wrl.util.get_wradlib_data_file(f) for f in flist]"
   ]
  },
  {
   "cell_type": "code",
   "execution_count": 7,
   "metadata": {
    "execution": {
     "iopub.execute_input": "2023-02-24T14:39:08.975941Z",
     "iopub.status.busy": "2023-02-24T14:39:08.975728Z",
     "iopub.status.idle": "2023-02-24T14:39:08.983786Z",
     "shell.execute_reply": "2023-02-24T14:39:08.983341Z"
    }
   },
   "outputs": [
    {
     "name": "stdout",
     "output_type": "stream",
     "text": [
      "Current Memory: 167.31640625\n"
     ]
    }
   ],
   "source": [
    "mem_start = memory_usage_psutil()\n",
    "print(\"Current Memory:\", mem_start)"
   ]
  },
  {
   "cell_type": "markdown",
   "metadata": {},
   "source": [
    "## Check open files"
   ]
  },
  {
   "cell_type": "code",
   "execution_count": 8,
   "metadata": {
    "execution": {
     "iopub.execute_input": "2023-02-24T14:39:08.986615Z",
     "iopub.status.busy": "2023-02-24T14:39:08.985894Z",
     "iopub.status.idle": "2023-02-24T14:39:08.990531Z",
     "shell.execute_reply": "2023-02-24T14:39:08.990111Z"
    }
   },
   "outputs": [
    {
     "name": "stdout",
     "output_type": "stream",
     "text": [
      "1\n"
     ]
    }
   ],
   "source": [
    "check_open_files()"
   ]
  },
  {
   "cell_type": "markdown",
   "metadata": {},
   "source": [
    "## Claim Files into class structure\n",
    "\n",
    "The different files will be opened with `h5netcdf`, `h5py` or `netcdf4` depending on `loader` keyword. Only absolutely neccessary metadata (time, elevation) is read from the files to be used for aligning into the structure.\n",
    "\n",
    "Normally `h5py` is the most performant loader for `ODIM` data. But your mileage may vary.\n",
    "\n",
    "This means that every file is opened once and the filehandle is distributed to `XRadSweep`. If `XRadSweep` will be destroyed, the memory will be ready for garbage collection.\n",
    "\n",
    "Under the hood `netcdf4` or `h5netcdf` will be used to open data as `xarray.Dataset` depending on the loader-type. All filehandling issues are moved to xarray. No memory holes, no need to track filehandles."
   ]
  },
  {
   "cell_type": "code",
   "execution_count": 9,
   "metadata": {
    "execution": {
     "iopub.execute_input": "2023-02-24T14:39:08.993253Z",
     "iopub.status.busy": "2023-02-24T14:39:08.992571Z",
     "iopub.status.idle": "2023-02-24T14:39:09.390131Z",
     "shell.execute_reply": "2023-02-24T14:39:09.389666Z"
    }
   },
   "outputs": [
    {
     "name": "stderr",
     "output_type": "stream",
     "text": [
      "<timed exec>:1: DeprecatedWarning: open_odim is deprecated as of 1.10 and will be removed in 2.0. Use the appropriate `wradlib.io.open_{engine}_dataset` or `wradlib.io.open_{engine}_mfdataset` function.\n"
     ]
    },
    {
     "name": "stderr",
     "output_type": "stream",
     "text": [
      "\r",
      "Open:   0%|          | 0/32 [00:00<?, ? Files/s]"
     ]
    },
    {
     "name": "stderr",
     "output_type": "stream",
     "text": [
      "\r",
      "Open:  47%|████▋     | 15/32 [00:00<00:00, 129.54 Files/s]"
     ]
    },
    {
     "name": "stderr",
     "output_type": "stream",
     "text": [
      "\r",
      "Open:  91%|█████████ | 29/32 [00:00<00:00, 133.38 Files/s]"
     ]
    },
    {
     "name": "stderr",
     "output_type": "stream",
     "text": [
      "\r",
      "Open: 100%|██████████| 32/32 [00:00<00:00, 133.14 Files/s]"
     ]
    },
    {
     "name": "stderr",
     "output_type": "stream",
     "text": [
      "\n",
      "/home/runner/micromamba-root/envs/wradlib-notebooks/lib/python3.11/site-packages/wradlib/io/xarray_depr.py:2287: DeprecatedWarning: collect_by_angle is deprecated as of 1.10 and will be removed in 2.0. Use xarray BackendEntrypoint based functionality instead.\n",
      "  angles = collect_by_angle(sweeps)\n"
     ]
    },
    {
     "name": "stderr",
     "output_type": "stream",
     "text": [
      "\r",
      "Collecting:   0%|          | 0/12 [00:00<?, ? Angles/s]"
     ]
    },
    {
     "name": "stderr",
     "output_type": "stream",
     "text": [
      "/home/runner/micromamba-root/envs/wradlib-notebooks/lib/python3.11/site-packages/wradlib/io/xarray_depr.py:2289: DeprecatedWarning: collect_by_time is deprecated as of 1.10 and will be removed in 2.0. Use xarray BackendEntrypoint based functionality instead.\n",
      "  angles[i] = collect_by_time(angles[i])\n",
      "/home/runner/micromamba-root/envs/wradlib-notebooks/lib/python3.11/site-packages/wradlib/io/xarray_depr.py:2289: DeprecatedWarning: collect_by_time is deprecated as of 1.10 and will be removed in 2.0. Use xarray BackendEntrypoint based functionality instead.\n",
      "  angles[i] = collect_by_time(angles[i])\n",
      "/home/runner/micromamba-root/envs/wradlib-notebooks/lib/python3.11/site-packages/wradlib/io/xarray_depr.py:2289: DeprecatedWarning: collect_by_time is deprecated as of 1.10 and will be removed in 2.0. Use xarray BackendEntrypoint based functionality instead.\n",
      "  angles[i] = collect_by_time(angles[i])\n",
      "/home/runner/micromamba-root/envs/wradlib-notebooks/lib/python3.11/site-packages/wradlib/io/xarray_depr.py:2289: DeprecatedWarning: collect_by_time is deprecated as of 1.10 and will be removed in 2.0. Use xarray BackendEntrypoint based functionality instead.\n",
      "  angles[i] = collect_by_time(angles[i])\n",
      "/home/runner/micromamba-root/envs/wradlib-notebooks/lib/python3.11/site-packages/wradlib/io/xarray_depr.py:2289: DeprecatedWarning: collect_by_time is deprecated as of 1.10 and will be removed in 2.0. Use xarray BackendEntrypoint based functionality instead.\n",
      "  angles[i] = collect_by_time(angles[i])\n",
      "/home/runner/micromamba-root/envs/wradlib-notebooks/lib/python3.11/site-packages/wradlib/io/xarray_depr.py:2289: DeprecatedWarning: collect_by_time is deprecated as of 1.10 and will be removed in 2.0. Use xarray BackendEntrypoint based functionality instead.\n",
      "  angles[i] = collect_by_time(angles[i])\n",
      "/home/runner/micromamba-root/envs/wradlib-notebooks/lib/python3.11/site-packages/wradlib/io/xarray_depr.py:2289: DeprecatedWarning: collect_by_time is deprecated as of 1.10 and will be removed in 2.0. Use xarray BackendEntrypoint based functionality instead.\n",
      "  angles[i] = collect_by_time(angles[i])\n",
      "/home/runner/micromamba-root/envs/wradlib-notebooks/lib/python3.11/site-packages/wradlib/io/xarray_depr.py:2289: DeprecatedWarning: collect_by_time is deprecated as of 1.10 and will be removed in 2.0. Use xarray BackendEntrypoint based functionality instead.\n",
      "  angles[i] = collect_by_time(angles[i])\n",
      "/home/runner/micromamba-root/envs/wradlib-notebooks/lib/python3.11/site-packages/wradlib/io/xarray_depr.py:2289: DeprecatedWarning: collect_by_time is deprecated as of 1.10 and will be removed in 2.0. Use xarray BackendEntrypoint based functionality instead.\n",
      "  angles[i] = collect_by_time(angles[i])\n",
      "/home/runner/micromamba-root/envs/wradlib-notebooks/lib/python3.11/site-packages/wradlib/io/xarray_depr.py:2289: DeprecatedWarning: collect_by_time is deprecated as of 1.10 and will be removed in 2.0. Use xarray BackendEntrypoint based functionality instead.\n",
      "  angles[i] = collect_by_time(angles[i])\n"
     ]
    },
    {
     "name": "stderr",
     "output_type": "stream",
     "text": [
      "/home/runner/micromamba-root/envs/wradlib-notebooks/lib/python3.11/site-packages/wradlib/io/xarray_depr.py:2289: DeprecatedWarning: collect_by_time is deprecated as of 1.10 and will be removed in 2.0. Use xarray BackendEntrypoint based functionality instead.\n",
      "  angles[i] = collect_by_time(angles[i])\n",
      "/home/runner/micromamba-root/envs/wradlib-notebooks/lib/python3.11/site-packages/wradlib/io/xarray_depr.py:2289: DeprecatedWarning: collect_by_time is deprecated as of 1.10 and will be removed in 2.0. Use xarray BackendEntrypoint based functionality instead.\n",
      "  angles[i] = collect_by_time(angles[i])\n",
      "\r",
      "Collecting: 100%|██████████| 12/12 [00:00<00:00, 137.44 Angles/s]"
     ]
    },
    {
     "name": "stdout",
     "output_type": "stream",
     "text": [
      "CPU times: user 352 ms, sys: 8.56 ms, total: 361 ms\n",
      "Wall time: 392 ms\n"
     ]
    },
    {
     "name": "stderr",
     "output_type": "stream",
     "text": [
      "\n"
     ]
    }
   ],
   "source": [
    "%%time\n",
    "vol = wrl.io.xarray_depr.open_odim(f, loader=\"h5py\", chunks={})"
   ]
  },
  {
   "cell_type": "markdown",
   "metadata": {},
   "source": [
    "## Check open files"
   ]
  },
  {
   "cell_type": "code",
   "execution_count": 10,
   "metadata": {
    "execution": {
     "iopub.execute_input": "2023-02-24T14:39:09.393004Z",
     "iopub.status.busy": "2023-02-24T14:39:09.392313Z",
     "iopub.status.idle": "2023-02-24T14:39:09.397661Z",
     "shell.execute_reply": "2023-02-24T14:39:09.397241Z"
    }
   },
   "outputs": [
    {
     "name": "stdout",
     "output_type": "stream",
     "text": [
      "33\n"
     ]
    }
   ],
   "source": [
    "check_open_files()"
   ]
  },
  {
   "cell_type": "markdown",
   "metadata": {},
   "source": [
    "## Overview type and lenght"
   ]
  },
  {
   "cell_type": "code",
   "execution_count": 11,
   "metadata": {
    "execution": {
     "iopub.execute_input": "2023-02-24T14:39:09.400339Z",
     "iopub.status.busy": "2023-02-24T14:39:09.399669Z",
     "iopub.status.idle": "2023-02-24T14:39:09.405129Z",
     "shell.execute_reply": "2023-02-24T14:39:09.404705Z"
    }
   },
   "outputs": [
    {
     "name": "stdout",
     "output_type": "stream",
     "text": [
      "Volume: <class 'wradlib.io.xarray_depr.XRadVolume'> 12\n",
      "TimeSeries: <class 'wradlib.io.xarray_depr.XRadTimeSeries'> 8\n",
      "Sweep: <class 'wradlib.io.xarray_depr.XRadSweepOdim'> 4\n",
      "Moment: <class 'wradlib.io.xarray_depr.XRadMoment'> DBZH\n"
     ]
    }
   ],
   "source": [
    "print(\"Volume:\", type(vol), len(vol))\n",
    "print(\"TimeSeries:\", type(vol[0]), len(vol[0]))\n",
    "print(\"Sweep:\", type(vol[0][0]), len(vol[0][0]))\n",
    "print(\"Moment:\", type(vol[0][0][0]), vol[0][0][0].quantity)"
   ]
  },
  {
   "cell_type": "markdown",
   "metadata": {},
   "source": [
    "## Overview Contents (__repr__())\n",
    "\n",
    "When printing the objects, they tell us a little about themselves and the data they can get access to. "
   ]
  },
  {
   "cell_type": "markdown",
   "metadata": {},
   "source": [
    "### Volume\n",
    "\n",
    "Here we see, that it is of type `wradlib.XRadVolume`. It holds 12 sweeps with the shown elevations."
   ]
  },
  {
   "cell_type": "code",
   "execution_count": 12,
   "metadata": {
    "execution": {
     "iopub.execute_input": "2023-02-24T14:39:09.407786Z",
     "iopub.status.busy": "2023-02-24T14:39:09.407121Z",
     "iopub.status.idle": "2023-02-24T14:39:09.411031Z",
     "shell.execute_reply": "2023-02-24T14:39:09.410617Z"
    }
   },
   "outputs": [
    {
     "name": "stdout",
     "output_type": "stream",
     "text": [
      "<wradlib.XRadVolume>\n",
      "Dimension(s): (sweep: 12)\n",
      "Elevation(s): (25.0, 20.0, 16.0, 13.0, 10.0, 7.5, 5.0, 3.0, 1.8, 0.8, 0.5, 0.3)\n"
     ]
    }
   ],
   "source": [
    "print(vol)"
   ]
  },
  {
   "cell_type": "markdown",
   "metadata": {},
   "source": [
    "### TimeSeries\n",
    "\n",
    "Here we see, that it is of type `wradlib.XRadTimeseries`. It holds 8 timesteps with a data layout of 360 azimuths by 800 range bins. The elevation is 25.0 deg."
   ]
  },
  {
   "cell_type": "code",
   "execution_count": 13,
   "metadata": {
    "execution": {
     "iopub.execute_input": "2023-02-24T14:39:09.413633Z",
     "iopub.status.busy": "2023-02-24T14:39:09.412964Z",
     "iopub.status.idle": "2023-02-24T14:39:09.417016Z",
     "shell.execute_reply": "2023-02-24T14:39:09.416585Z"
    }
   },
   "outputs": [
    {
     "name": "stdout",
     "output_type": "stream",
     "text": [
      "<wradlib.XRadTimeSeries>\n",
      "Dimension(s): (time: 8, azimuth: 360, range: 800)\n",
      "Elevation(s): (25.0)\n"
     ]
    }
   ],
   "source": [
    "print(vol[0])"
   ]
  },
  {
   "cell_type": "markdown",
   "metadata": {},
   "source": [
    "### Sweep\n",
    "\n",
    "Here we see, that it is of type `wradlib.XRadSweepOdim`, which means it is leaded from ODIMH5 standard data. It holds data with layout of 360 azimuths by 800 range bins. The elevation is 25.0 deg. It consists of the radar moments `DBZH`, `RHOHV`, `VRAD` and `WRAD`."
   ]
  },
  {
   "cell_type": "code",
   "execution_count": 14,
   "metadata": {
    "execution": {
     "iopub.execute_input": "2023-02-24T14:39:09.419625Z",
     "iopub.status.busy": "2023-02-24T14:39:09.418961Z",
     "iopub.status.idle": "2023-02-24T14:39:09.424267Z",
     "shell.execute_reply": "2023-02-24T14:39:09.423852Z"
    }
   },
   "outputs": [
    {
     "name": "stdout",
     "output_type": "stream",
     "text": [
      "<wradlib.XRadSweepOdim>\n",
      "Dimension(s): (azimuth: 360, range: 800)\n",
      "Elevation(s): (25.0)\n",
      "Moment(s): (DBZH, RHOHV, VRAD, WRAD)\n"
     ]
    }
   ],
   "source": [
    "print(vol[0][0])"
   ]
  },
  {
   "cell_type": "markdown",
   "metadata": {},
   "source": [
    "### Moment\n",
    "\n",
    "Here we see, that it is of type `wradlib.XRadMoment`. It holds data with layout of 360 azimuths by 800 range bins. The elevation is 25.0 deg. It is the radar moment `DBZH`."
   ]
  },
  {
   "cell_type": "code",
   "execution_count": 15,
   "metadata": {
    "execution": {
     "iopub.execute_input": "2023-02-24T14:39:09.426871Z",
     "iopub.status.busy": "2023-02-24T14:39:09.426186Z",
     "iopub.status.idle": "2023-02-24T14:39:09.430209Z",
     "shell.execute_reply": "2023-02-24T14:39:09.429793Z"
    }
   },
   "outputs": [
    {
     "name": "stdout",
     "output_type": "stream",
     "text": [
      "<wradlib.XRadMoment>\n",
      "Dimension(s): (azimuth: 360, range: 800)\n",
      "Elevation(s): (25.0)\n",
      "Moment: (DBZH)\n"
     ]
    }
   ],
   "source": [
    "print(vol[0][0][0])"
   ]
  },
  {
   "cell_type": "markdown",
   "metadata": {},
   "source": [
    "## Accessing metadata via `OdimH5GroupAttributeMixin`\n",
    "\n",
    "\n",
    "You can access underlying metadata for every object. The properties `ncpath`, `ncid`, `ncfile` and `filename` give information about the location of the metadata. Properties `groups` and `attrs` give information about attached subgroups and attributes. `how`, `what` and `where` return the contents of the respective ODIMH5-subgroups if available.\n",
    "\n",
    "As long as the objects are not deleted the according files are open and the handles can be used to retrieve data from it."
   ]
  },
  {
   "cell_type": "markdown",
   "metadata": {},
   "source": [
    "### Volume\n",
    "\n",
    "The `OdimH5GroupAttributeMixin` access in `XRadVolume` will retrieve the root-metadata of the first file of the first timeseries, which is the first volume file in most cases."
   ]
  },
  {
   "cell_type": "code",
   "execution_count": 16,
   "metadata": {
    "execution": {
     "iopub.execute_input": "2023-02-24T14:39:09.432838Z",
     "iopub.status.busy": "2023-02-24T14:39:09.432173Z",
     "iopub.status.idle": "2023-02-24T14:39:09.436636Z",
     "shell.execute_reply": "2023-02-24T14:39:09.436221Z"
    }
   },
   "outputs": [
    {
     "name": "stdout",
     "output_type": "stream",
     "text": [
      "path: /\n",
      "  id: <HDF5 group \"/\" (15 members)>\n",
      "file: <HDF5 file \"20200207130000.rad.behel.pvol.dbzh.scanz.hdf\" (mode r)>\n",
      "name: /home/runner/work/wradlib-notebooks/wradlib-notebooks/wradlib-data/hdf5/behel/20200207130000.rad.behel.pvol.dbzh.scanz.hdf\n"
     ]
    }
   ],
   "source": [
    "print(\"path:\", vol.ncpath)\n",
    "print(\"  id:\", vol.ncid)\n",
    "print(\"file:\", vol.ncfile)\n",
    "print(\"name:\", vol.filename)"
   ]
  },
  {
   "cell_type": "code",
   "execution_count": 17,
   "metadata": {
    "execution": {
     "iopub.execute_input": "2023-02-24T14:39:09.439237Z",
     "iopub.status.busy": "2023-02-24T14:39:09.438549Z",
     "iopub.status.idle": "2023-02-24T14:39:09.442814Z",
     "shell.execute_reply": "2023-02-24T14:39:09.442360Z"
    }
   },
   "outputs": [
    {
     "name": "stdout",
     "output_type": "stream",
     "text": [
      "['dataset1', 'dataset10', 'dataset11', 'dataset12', 'dataset2', 'dataset3', 'dataset4', 'dataset5', 'dataset6', 'dataset7', 'dataset8', 'dataset9', 'how', 'what', 'where']\n"
     ]
    }
   ],
   "source": [
    "print(vol.groups)"
   ]
  },
  {
   "cell_type": "code",
   "execution_count": 18,
   "metadata": {
    "execution": {
     "iopub.execute_input": "2023-02-24T14:39:09.445348Z",
     "iopub.status.busy": "2023-02-24T14:39:09.444706Z",
     "iopub.status.idle": "2023-02-24T14:39:09.448759Z",
     "shell.execute_reply": "2023-02-24T14:39:09.448351Z"
    }
   },
   "outputs": [
    {
     "name": "stdout",
     "output_type": "stream",
     "text": [
      "{'Conventions': 'ODIM_H5/V2_0'}\n"
     ]
    }
   ],
   "source": [
    "print(vol.attrs)"
   ]
  },
  {
   "cell_type": "code",
   "execution_count": 19,
   "metadata": {
    "execution": {
     "iopub.execute_input": "2023-02-24T14:39:09.451161Z",
     "iopub.status.busy": "2023-02-24T14:39:09.450517Z",
     "iopub.status.idle": "2023-02-24T14:39:09.454918Z",
     "shell.execute_reply": "2023-02-24T14:39:09.454490Z"
    }
   },
   "outputs": [
    {
     "name": "stdout",
     "output_type": "stream",
     "text": [
      "{'beamwidth': 0.948, 'endepochs': 1581080424, 'highprf': 550, 'lowprf': 0, 'software': 'RAINBOW 5.42.9', 'startepochs': 1581080648, 'system': 'GEMA500', 'wavelength': 5.349}\n"
     ]
    }
   ],
   "source": [
    "print(vol.how)"
   ]
  },
  {
   "cell_type": "code",
   "execution_count": 20,
   "metadata": {
    "execution": {
     "iopub.execute_input": "2023-02-24T14:39:09.457310Z",
     "iopub.status.busy": "2023-02-24T14:39:09.456677Z",
     "iopub.status.idle": "2023-02-24T14:39:09.460912Z",
     "shell.execute_reply": "2023-02-24T14:39:09.460494Z"
    }
   },
   "outputs": [
    {
     "name": "stdout",
     "output_type": "stream",
     "text": [
      "{'date': '20200207', 'object': 'PVOL', 'source': 'WMO:06475,RAD:BX43,PLC:Helchteren,NOD:behel,CTY:605,CMT:behel_scan_200km_dp_dBZ', 'time': '130005', 'version': 'H5rad 2.0'}\n"
     ]
    }
   ],
   "source": [
    "print(vol.what)"
   ]
  },
  {
   "cell_type": "code",
   "execution_count": 21,
   "metadata": {
    "execution": {
     "iopub.execute_input": "2023-02-24T14:39:09.463320Z",
     "iopub.status.busy": "2023-02-24T14:39:09.462690Z",
     "iopub.status.idle": "2023-02-24T14:39:09.466816Z",
     "shell.execute_reply": "2023-02-24T14:39:09.466388Z"
    }
   },
   "outputs": [
    {
     "name": "stdout",
     "output_type": "stream",
     "text": [
      "{'height': 140.0, 'lat': 51.069072, 'lon': 5.4064}\n"
     ]
    }
   ],
   "source": [
    "print(vol.where)"
   ]
  },
  {
   "cell_type": "markdown",
   "metadata": {},
   "source": [
    "### Timeseries\n",
    "\n",
    "The `OdimH5GroupAttributeMixin` access in `XRadTimeseries` will retrieve the group-metadata of the first sweep of the selected timeseries."
   ]
  },
  {
   "cell_type": "code",
   "execution_count": 22,
   "metadata": {
    "execution": {
     "iopub.execute_input": "2023-02-24T14:39:09.469238Z",
     "iopub.status.busy": "2023-02-24T14:39:09.468606Z",
     "iopub.status.idle": "2023-02-24T14:39:09.472992Z",
     "shell.execute_reply": "2023-02-24T14:39:09.472580Z"
    }
   },
   "outputs": [
    {
     "name": "stdout",
     "output_type": "stream",
     "text": [
      "path: dataset12\n",
      "  id: <HDF5 group \"/dataset12\" (4 members)>\n",
      "file: <HDF5 file \"20200207130000.rad.behel.pvol.dbzh.scanz.hdf\" (mode r)>\n",
      "name: /home/runner/work/wradlib-notebooks/wradlib-notebooks/wradlib-data/hdf5/behel/20200207130000.rad.behel.pvol.dbzh.scanz.hdf\n"
     ]
    }
   ],
   "source": [
    "ts = vol[0]\n",
    "print(\"path:\", ts.ncpath)\n",
    "print(\"  id:\", ts.ncid)\n",
    "print(\"file:\", ts.ncfile)\n",
    "print(\"name:\", ts.filename)"
   ]
  },
  {
   "cell_type": "code",
   "execution_count": 23,
   "metadata": {
    "execution": {
     "iopub.execute_input": "2023-02-24T14:39:09.475393Z",
     "iopub.status.busy": "2023-02-24T14:39:09.474763Z",
     "iopub.status.idle": "2023-02-24T14:39:09.478699Z",
     "shell.execute_reply": "2023-02-24T14:39:09.478265Z"
    }
   },
   "outputs": [
    {
     "name": "stdout",
     "output_type": "stream",
     "text": [
      "['data1', 'how', 'what', 'where']\n"
     ]
    }
   ],
   "source": [
    "print(ts.groups)"
   ]
  },
  {
   "cell_type": "code",
   "execution_count": 24,
   "metadata": {
    "execution": {
     "iopub.execute_input": "2023-02-24T14:39:09.481086Z",
     "iopub.status.busy": "2023-02-24T14:39:09.480448Z",
     "iopub.status.idle": "2023-02-24T14:39:09.484364Z",
     "shell.execute_reply": "2023-02-24T14:39:09.483951Z"
    }
   },
   "outputs": [
    {
     "name": "stdout",
     "output_type": "stream",
     "text": [
      "{}\n"
     ]
    }
   ],
   "source": [
    "print(ts.attrs)"
   ]
  },
  {
   "cell_type": "code",
   "execution_count": 25,
   "metadata": {
    "execution": {
     "iopub.execute_input": "2023-02-24T14:39:09.486793Z",
     "iopub.status.busy": "2023-02-24T14:39:09.486143Z",
     "iopub.status.idle": "2023-02-24T14:39:09.490285Z",
     "shell.execute_reply": "2023-02-24T14:39:09.489873Z"
    }
   },
   "outputs": [
    {
     "name": "stdout",
     "output_type": "stream",
     "text": [
      "{'azangles': '0:1,1:2,2:3,3:4,4:5,5:6,6:7,7:8,8:9,9:10,10:11,11:12,12:13,13:14,14:15,15:16,16:17,17:18,18:19,19:20,20:21,21:22,22:23,23:24,24:25,25:26,26:27,27:28,28:29,29:30,30:31,31:32,32:33,33:34,34:35,35:36,36:37,37:38,38:39,39:40,40:41,41:42,42:43,43:44,44:45,45:46,46:47,47:48,48:49,49:50,50:51,51:52,52:53,53:54,54:55,55:56,56:57,57:58,58:59,59:60,60:61,61:62,62:63,63:64,64:65,65:66,66:67,67:68,68:69,69:70,70:71,71:72,72:73,73:74,74:75,75:76,76:77,77:78,78:79,79:80,80:81,81:82,82:83,83:84,84:85,85:86,86:87,87:88,88:89,89:90,90:91,91:92,92:93,93:94,94:95,95:96,96:97,97:98,98:99,99:100,100:101,101:102,102:103,103:104,104:105,105:106,106:107,107:108,108:109,109:110,110:111,111:112,112:113,113:114,114:115,115:116,116:117,117:118,118:119,119:120,120:121,121:122,122:123,123:124,124:125,125:126,126:127,127:128,128:129,129:130,130:131,131:132,132:133,133:134,134:135,135:136,136:137,137:138,138:139,139:140,140:141,141:142,142:143,143:144,144:145,145:146,146:147,147:148,148:149,149:150,150:151,151:152,152:153,153:154,154:155,155:156,156:157,157:158,158:159,159:160,160:161,161:162,162:163,163:164,164:165,165:166,166:167,167:168,168:169,169:170,170:171,171:172,172:173,173:174,174:175,175:176,176:177,177:178,178:179,179:180,180:181,181:182,182:183,183:184,184:185,185:186,186:187,187:188,188:189,189:190,190:191,191:192,192:193,193:194,194:195,195:196,196:197,197:198,198:199,199:200,200:201,201:202,202:203,203:204,204:205,205:206,206:207,207:208,208:209,209:210,210:211,211:212,212:213,213:214,214:215,215:216,216:217,217:218,218:219,219:220,220:221,221:222,222:223,223:224,224:225,225:226,226:227,227:228,228:229,229:230,230:231,231:232,232:233,233:234,234:235,235:236,236:237,237:238,238:239,239:240,240:241,241:242,242:243,243:244,244:245,245:246,246:247,247:248,248:249,249:250,250:251,251:252,252:253,253:254,254:255,255:256,256:257,257:258,258:259,259:260,260:261,261:262,262:263,263:264,264:265,265:266,266:267,267:268,268:269,269:270,270:271,271:272,272:273,273:274,274:275,275:276,276:277,277:278,278:279,279:280,280:281,281:282,282:283,283:284,284:285,285:286,286:287,287:288,288:289,289:290,290:291,291:292,292:293,293:294,294:295,295:296,296:297,297:298,298:299,299:300,300:301,301:302,302:303,303:304,304:305,305:306,306:307,307:308,308:309,309:310,310:311,311:312,312:313,313:314,314:315,315:316,316:317,317:318,318:319,319:320,320:321,321:322,322:323,323:324,324:325,325:326,326:327,327:328,328:329,329:330,330:331,331:332,332:333,333:334,334:335,335:336,336:337,337:338,338:339,339:340,340:341,341:342,342:343,343:344,344:345,345:346,346:347,347:348,348:349,349:350,350:351,351:352,352:353,353:354,354:355,355:356,356:357,357:358,358:359,359:360,'}\n"
     ]
    }
   ],
   "source": [
    "print(ts.how)"
   ]
  },
  {
   "cell_type": "code",
   "execution_count": 26,
   "metadata": {
    "execution": {
     "iopub.execute_input": "2023-02-24T14:39:09.492691Z",
     "iopub.status.busy": "2023-02-24T14:39:09.492057Z",
     "iopub.status.idle": "2023-02-24T14:39:09.496247Z",
     "shell.execute_reply": "2023-02-24T14:39:09.495840Z"
    }
   },
   "outputs": [
    {
     "name": "stdout",
     "output_type": "stream",
     "text": [
      "{'enddate': '20200207', 'endtime': '130024', 'product': 'SCAN', 'startdate': '20200207', 'starttime': '130005'}\n"
     ]
    }
   ],
   "source": [
    "print(ts.what)"
   ]
  },
  {
   "cell_type": "code",
   "execution_count": 27,
   "metadata": {
    "execution": {
     "iopub.execute_input": "2023-02-24T14:39:09.498637Z",
     "iopub.status.busy": "2023-02-24T14:39:09.497994Z",
     "iopub.status.idle": "2023-02-24T14:39:09.502231Z",
     "shell.execute_reply": "2023-02-24T14:39:09.501820Z"
    }
   },
   "outputs": [
    {
     "name": "stdout",
     "output_type": "stream",
     "text": [
      "{'a1gate': 266, 'elangle': 25.0, 'nbins': 800, 'nrays': 360, 'rscale': 250.0, 'rstart': 0.0}\n"
     ]
    }
   ],
   "source": [
    "print(ts.where)"
   ]
  },
  {
   "cell_type": "markdown",
   "metadata": {},
   "source": [
    "### Sweep\n",
    "\n",
    "The `OdimH5GroupAttributeMixin` access in `XRadSweep` will retrieve the group-metadata of the selected sweep."
   ]
  },
  {
   "cell_type": "code",
   "execution_count": 28,
   "metadata": {
    "execution": {
     "iopub.execute_input": "2023-02-24T14:39:09.504692Z",
     "iopub.status.busy": "2023-02-24T14:39:09.504060Z",
     "iopub.status.idle": "2023-02-24T14:39:09.508455Z",
     "shell.execute_reply": "2023-02-24T14:39:09.508045Z"
    }
   },
   "outputs": [
    {
     "name": "stdout",
     "output_type": "stream",
     "text": [
      "path: dataset12\n",
      "  id: <HDF5 group \"/dataset12\" (4 members)>\n",
      "file: <HDF5 file \"20200207132500.rad.behel.pvol.dbzh.scanz.hdf\" (mode r)>\n",
      "name: /home/runner/work/wradlib-notebooks/wradlib-notebooks/wradlib-data/hdf5/behel/20200207132500.rad.behel.pvol.dbzh.scanz.hdf\n"
     ]
    }
   ],
   "source": [
    "swp = vol[0][5]\n",
    "print(\"path:\", swp.ncpath)\n",
    "print(\"  id:\", swp.ncid)\n",
    "print(\"file:\", swp.ncfile)\n",
    "print(\"name:\", swp.filename)"
   ]
  },
  {
   "cell_type": "code",
   "execution_count": 29,
   "metadata": {
    "execution": {
     "iopub.execute_input": "2023-02-24T14:39:09.510846Z",
     "iopub.status.busy": "2023-02-24T14:39:09.510197Z",
     "iopub.status.idle": "2023-02-24T14:39:09.514108Z",
     "shell.execute_reply": "2023-02-24T14:39:09.513696Z"
    }
   },
   "outputs": [
    {
     "name": "stdout",
     "output_type": "stream",
     "text": [
      "['data1', 'how', 'what', 'where']\n"
     ]
    }
   ],
   "source": [
    "print(swp.groups)"
   ]
  },
  {
   "cell_type": "code",
   "execution_count": 30,
   "metadata": {
    "execution": {
     "iopub.execute_input": "2023-02-24T14:39:09.516502Z",
     "iopub.status.busy": "2023-02-24T14:39:09.515875Z",
     "iopub.status.idle": "2023-02-24T14:39:09.519782Z",
     "shell.execute_reply": "2023-02-24T14:39:09.519372Z"
    }
   },
   "outputs": [
    {
     "name": "stdout",
     "output_type": "stream",
     "text": [
      "{}\n"
     ]
    }
   ],
   "source": [
    "print(swp.attrs)"
   ]
  },
  {
   "cell_type": "code",
   "execution_count": 31,
   "metadata": {
    "execution": {
     "iopub.execute_input": "2023-02-24T14:39:09.522189Z",
     "iopub.status.busy": "2023-02-24T14:39:09.521553Z",
     "iopub.status.idle": "2023-02-24T14:39:09.525724Z",
     "shell.execute_reply": "2023-02-24T14:39:09.525314Z"
    }
   },
   "outputs": [
    {
     "name": "stdout",
     "output_type": "stream",
     "text": [
      "{'azangles': '0:1,1:2,2:3,3:4,4:5,5:6,6:7,7:8,8:9,9:10,10:11,11:12,12:13,13:14,14:15,15:16,16:17,17:18,18:19,19:20,20:21,21:22,22:23,23:24,24:25,25:26,26:27,27:28,28:29,29:30,30:31,31:32,32:33,33:34,34:35,35:36,36:37,37:38,38:39,39:40,40:41,41:42,42:43,43:44,44:45,45:46,46:47,47:48,48:49,49:50,50:51,51:52,52:53,53:54,54:55,55:56,56:57,57:58,58:59,59:60,60:61,61:62,62:63,63:64,64:65,65:66,66:67,67:68,68:69,69:70,70:71,71:72,72:73,73:74,74:75,75:76,76:77,77:78,78:79,79:80,80:81,81:82,82:83,83:84,84:85,85:86,86:87,87:88,88:89,89:90,90:91,91:92,92:93,93:94,94:95,95:96,96:97,97:98,98:99,99:100,100:101,101:102,102:103,103:104,104:105,105:106,106:107,107:108,108:109,109:110,110:111,111:112,112:113,113:114,114:115,115:116,116:117,117:118,118:119,119:120,120:121,121:122,122:123,123:124,124:125,125:126,126:127,127:128,128:129,129:130,130:131,131:132,132:133,133:134,134:135,135:136,136:137,137:138,138:139,139:140,140:141,141:142,142:143,143:144,144:145,145:146,146:147,147:148,148:149,149:150,150:151,151:152,152:153,153:154,154:155,155:156,156:157,157:158,158:159,159:160,160:161,161:162,162:163,163:164,164:165,165:166,166:167,167:168,168:169,169:170,170:171,171:172,172:173,173:174,174:175,175:176,176:177,177:178,178:179,179:180,180:181,181:182,182:183,183:184,184:185,185:186,186:187,187:188,188:189,189:190,190:191,191:192,192:193,193:194,194:195,195:196,196:197,197:198,198:199,199:200,200:201,201:202,202:203,203:204,204:205,205:206,206:207,207:208,208:209,209:210,210:211,211:212,212:213,213:214,214:215,215:216,216:217,217:218,218:219,219:220,220:221,221:222,222:223,223:224,224:225,225:226,226:227,227:228,228:229,229:230,230:231,231:232,232:233,233:234,234:235,235:236,236:237,237:238,238:239,239:240,240:241,241:242,242:243,243:244,244:245,245:246,246:247,247:248,248:249,249:250,250:251,251:252,252:253,253:254,254:255,255:256,256:257,257:258,258:259,259:260,260:261,261:262,262:263,263:264,264:265,265:266,266:267,267:268,268:269,269:270,270:271,271:272,272:273,273:274,274:275,275:276,276:277,277:278,278:279,279:280,280:281,281:282,282:283,283:284,284:285,285:286,286:287,287:288,288:289,289:290,290:291,291:292,292:293,293:294,294:295,295:296,296:297,297:298,298:299,299:300,300:301,301:302,302:303,303:304,304:305,305:306,306:307,307:308,308:309,309:310,310:311,311:312,312:313,313:314,314:315,315:316,316:317,317:318,318:319,319:320,320:321,321:322,322:323,323:324,324:325,325:326,326:327,327:328,328:329,329:330,330:331,331:332,332:333,333:334,334:335,335:336,336:337,337:338,338:339,339:340,340:341,341:342,342:343,343:344,344:345,345:346,346:347,347:348,348:349,349:350,350:351,351:352,352:353,353:354,354:355,355:356,356:357,357:358,358:359,359:360,'}\n"
     ]
    }
   ],
   "source": [
    "print(swp.how)"
   ]
  },
  {
   "cell_type": "code",
   "execution_count": 32,
   "metadata": {
    "execution": {
     "iopub.execute_input": "2023-02-24T14:39:09.528147Z",
     "iopub.status.busy": "2023-02-24T14:39:09.527512Z",
     "iopub.status.idle": "2023-02-24T14:39:09.531759Z",
     "shell.execute_reply": "2023-02-24T14:39:09.531339Z"
    }
   },
   "outputs": [
    {
     "name": "stdout",
     "output_type": "stream",
     "text": [
      "{'enddate': '20200207', 'endtime': '132523', 'product': 'SCAN', 'startdate': '20200207', 'starttime': '132504'}\n"
     ]
    }
   ],
   "source": [
    "print(swp.what)"
   ]
  },
  {
   "cell_type": "code",
   "execution_count": 33,
   "metadata": {
    "execution": {
     "iopub.execute_input": "2023-02-24T14:39:09.534160Z",
     "iopub.status.busy": "2023-02-24T14:39:09.533523Z",
     "iopub.status.idle": "2023-02-24T14:39:09.537352Z",
     "shell.execute_reply": "2023-02-24T14:39:09.536934Z"
    }
   },
   "outputs": [
    {
     "name": "stdout",
     "output_type": "stream",
     "text": [
      "{'a1gate': 252, 'elangle': 25.0, 'nbins': 800, 'nrays': 360, 'rscale': 250.0, 'rstart': 0.0}\n"
     ]
    }
   ],
   "source": [
    "print(swp.where)"
   ]
  },
  {
   "cell_type": "markdown",
   "metadata": {},
   "source": [
    "### Moment\n",
    "\n",
    "The `OdimH5GroupAttributeMixin` access in `XRadMoment` will retrieve the group-metadata of the selected moment."
   ]
  },
  {
   "cell_type": "code",
   "execution_count": 34,
   "metadata": {
    "execution": {
     "iopub.execute_input": "2023-02-24T14:39:09.539787Z",
     "iopub.status.busy": "2023-02-24T14:39:09.539154Z",
     "iopub.status.idle": "2023-02-24T14:39:09.543623Z",
     "shell.execute_reply": "2023-02-24T14:39:09.543215Z"
    }
   },
   "outputs": [
    {
     "name": "stdout",
     "output_type": "stream",
     "text": [
      "path: dataset12/data1\n",
      "  id: <HDF5 group \"/dataset12/data1\" (2 members)>\n",
      "file: <HDF5 file \"20200207130000.rad.behel.pvol.dbzh.scanz.hdf\" (mode r)>\n",
      "name: /home/runner/work/wradlib-notebooks/wradlib-notebooks/wradlib-data/hdf5/behel/20200207130000.rad.behel.pvol.dbzh.scanz.hdf\n"
     ]
    }
   ],
   "source": [
    "mom = vol[0][0][0]\n",
    "print(\"path:\", mom.ncpath)\n",
    "print(\"  id:\", mom.ncid)\n",
    "print(\"file:\", mom.ncfile)\n",
    "print(\"name:\", mom.filename)"
   ]
  },
  {
   "cell_type": "code",
   "execution_count": 35,
   "metadata": {
    "execution": {
     "iopub.execute_input": "2023-02-24T14:39:09.546070Z",
     "iopub.status.busy": "2023-02-24T14:39:09.545387Z",
     "iopub.status.idle": "2023-02-24T14:39:09.549496Z",
     "shell.execute_reply": "2023-02-24T14:39:09.549083Z"
    }
   },
   "outputs": [
    {
     "name": "stdout",
     "output_type": "stream",
     "text": [
      "['data', 'what']\n"
     ]
    }
   ],
   "source": [
    "print(mom.groups)"
   ]
  },
  {
   "cell_type": "code",
   "execution_count": 36,
   "metadata": {
    "execution": {
     "iopub.execute_input": "2023-02-24T14:39:09.552051Z",
     "iopub.status.busy": "2023-02-24T14:39:09.551379Z",
     "iopub.status.idle": "2023-02-24T14:39:09.555436Z",
     "shell.execute_reply": "2023-02-24T14:39:09.555023Z"
    }
   },
   "outputs": [
    {
     "name": "stdout",
     "output_type": "stream",
     "text": [
      "{}\n"
     ]
    }
   ],
   "source": [
    "print(mom.attrs)"
   ]
  },
  {
   "cell_type": "code",
   "execution_count": 37,
   "metadata": {
    "execution": {
     "iopub.execute_input": "2023-02-24T14:39:09.557957Z",
     "iopub.status.busy": "2023-02-24T14:39:09.557291Z",
     "iopub.status.idle": "2023-02-24T14:39:09.561215Z",
     "shell.execute_reply": "2023-02-24T14:39:09.560800Z"
    }
   },
   "outputs": [
    {
     "name": "stdout",
     "output_type": "stream",
     "text": [
      "{'gain': 0.5, 'nodata': 255.0, 'offset': -32.0, 'quantity': 'DBZH', 'undetect': 0.0}\n"
     ]
    }
   ],
   "source": [
    "print(mom.what)"
   ]
  },
  {
   "cell_type": "markdown",
   "metadata": {},
   "source": [
    "## CfRadial2 style root object\n",
    "\n",
    "The XRadVolume object is equipped with a CfRadial2-style `root`-object, where some information can be retrieved. "
   ]
  },
  {
   "cell_type": "code",
   "execution_count": 38,
   "metadata": {
    "execution": {
     "iopub.execute_input": "2023-02-24T14:39:09.563789Z",
     "iopub.status.busy": "2023-02-24T14:39:09.563121Z",
     "iopub.status.idle": "2023-02-24T14:39:09.622634Z",
     "shell.execute_reply": "2023-02-24T14:39:09.622145Z"
    }
   },
   "outputs": [
    {
     "data": {
      "text/html": [
       "<div><svg style=\"position: absolute; width: 0; height: 0; overflow: hidden\">\n",
       "<defs>\n",
       "<symbol id=\"icon-database\" viewBox=\"0 0 32 32\">\n",
       "<path d=\"M16 0c-8.837 0-16 2.239-16 5v4c0 2.761 7.163 5 16 5s16-2.239 16-5v-4c0-2.761-7.163-5-16-5z\"></path>\n",
       "<path d=\"M16 17c-8.837 0-16-2.239-16-5v6c0 2.761 7.163 5 16 5s16-2.239 16-5v-6c0 2.761-7.163 5-16 5z\"></path>\n",
       "<path d=\"M16 26c-8.837 0-16-2.239-16-5v6c0 2.761 7.163 5 16 5s16-2.239 16-5v-6c0 2.761-7.163 5-16 5z\"></path>\n",
       "</symbol>\n",
       "<symbol id=\"icon-file-text2\" viewBox=\"0 0 32 32\">\n",
       "<path d=\"M28.681 7.159c-0.694-0.947-1.662-2.053-2.724-3.116s-2.169-2.030-3.116-2.724c-1.612-1.182-2.393-1.319-2.841-1.319h-15.5c-1.378 0-2.5 1.121-2.5 2.5v27c0 1.378 1.122 2.5 2.5 2.5h23c1.378 0 2.5-1.122 2.5-2.5v-19.5c0-0.448-0.137-1.23-1.319-2.841zM24.543 5.457c0.959 0.959 1.712 1.825 2.268 2.543h-4.811v-4.811c0.718 0.556 1.584 1.309 2.543 2.268zM28 29.5c0 0.271-0.229 0.5-0.5 0.5h-23c-0.271 0-0.5-0.229-0.5-0.5v-27c0-0.271 0.229-0.5 0.5-0.5 0 0 15.499-0 15.5 0v7c0 0.552 0.448 1 1 1h7v19.5z\"></path>\n",
       "<path d=\"M23 26h-14c-0.552 0-1-0.448-1-1s0.448-1 1-1h14c0.552 0 1 0.448 1 1s-0.448 1-1 1z\"></path>\n",
       "<path d=\"M23 22h-14c-0.552 0-1-0.448-1-1s0.448-1 1-1h14c0.552 0 1 0.448 1 1s-0.448 1-1 1z\"></path>\n",
       "<path d=\"M23 18h-14c-0.552 0-1-0.448-1-1s0.448-1 1-1h14c0.552 0 1 0.448 1 1s-0.448 1-1 1z\"></path>\n",
       "</symbol>\n",
       "</defs>\n",
       "</svg>\n",
       "<style>/* CSS stylesheet for displaying xarray objects in jupyterlab.\n",
       " *\n",
       " */\n",
       "\n",
       ":root {\n",
       "  --xr-font-color0: var(--jp-content-font-color0, rgba(0, 0, 0, 1));\n",
       "  --xr-font-color2: var(--jp-content-font-color2, rgba(0, 0, 0, 0.54));\n",
       "  --xr-font-color3: var(--jp-content-font-color3, rgba(0, 0, 0, 0.38));\n",
       "  --xr-border-color: var(--jp-border-color2, #e0e0e0);\n",
       "  --xr-disabled-color: var(--jp-layout-color3, #bdbdbd);\n",
       "  --xr-background-color: var(--jp-layout-color0, white);\n",
       "  --xr-background-color-row-even: var(--jp-layout-color1, white);\n",
       "  --xr-background-color-row-odd: var(--jp-layout-color2, #eeeeee);\n",
       "}\n",
       "\n",
       "html[theme=dark],\n",
       "body[data-theme=dark],\n",
       "body.vscode-dark {\n",
       "  --xr-font-color0: rgba(255, 255, 255, 1);\n",
       "  --xr-font-color2: rgba(255, 255, 255, 0.54);\n",
       "  --xr-font-color3: rgba(255, 255, 255, 0.38);\n",
       "  --xr-border-color: #1F1F1F;\n",
       "  --xr-disabled-color: #515151;\n",
       "  --xr-background-color: #111111;\n",
       "  --xr-background-color-row-even: #111111;\n",
       "  --xr-background-color-row-odd: #313131;\n",
       "}\n",
       "\n",
       ".xr-wrap {\n",
       "  display: block !important;\n",
       "  min-width: 300px;\n",
       "  max-width: 700px;\n",
       "}\n",
       "\n",
       ".xr-text-repr-fallback {\n",
       "  /* fallback to plain text repr when CSS is not injected (untrusted notebook) */\n",
       "  display: none;\n",
       "}\n",
       "\n",
       ".xr-header {\n",
       "  padding-top: 6px;\n",
       "  padding-bottom: 6px;\n",
       "  margin-bottom: 4px;\n",
       "  border-bottom: solid 1px var(--xr-border-color);\n",
       "}\n",
       "\n",
       ".xr-header > div,\n",
       ".xr-header > ul {\n",
       "  display: inline;\n",
       "  margin-top: 0;\n",
       "  margin-bottom: 0;\n",
       "}\n",
       "\n",
       ".xr-obj-type,\n",
       ".xr-array-name {\n",
       "  margin-left: 2px;\n",
       "  margin-right: 10px;\n",
       "}\n",
       "\n",
       ".xr-obj-type {\n",
       "  color: var(--xr-font-color2);\n",
       "}\n",
       "\n",
       ".xr-sections {\n",
       "  padding-left: 0 !important;\n",
       "  display: grid;\n",
       "  grid-template-columns: 150px auto auto 1fr 20px 20px;\n",
       "}\n",
       "\n",
       ".xr-section-item {\n",
       "  display: contents;\n",
       "}\n",
       "\n",
       ".xr-section-item input {\n",
       "  display: none;\n",
       "}\n",
       "\n",
       ".xr-section-item input + label {\n",
       "  color: var(--xr-disabled-color);\n",
       "}\n",
       "\n",
       ".xr-section-item input:enabled + label {\n",
       "  cursor: pointer;\n",
       "  color: var(--xr-font-color2);\n",
       "}\n",
       "\n",
       ".xr-section-item input:enabled + label:hover {\n",
       "  color: var(--xr-font-color0);\n",
       "}\n",
       "\n",
       ".xr-section-summary {\n",
       "  grid-column: 1;\n",
       "  color: var(--xr-font-color2);\n",
       "  font-weight: 500;\n",
       "}\n",
       "\n",
       ".xr-section-summary > span {\n",
       "  display: inline-block;\n",
       "  padding-left: 0.5em;\n",
       "}\n",
       "\n",
       ".xr-section-summary-in:disabled + label {\n",
       "  color: var(--xr-font-color2);\n",
       "}\n",
       "\n",
       ".xr-section-summary-in + label:before {\n",
       "  display: inline-block;\n",
       "  content: '►';\n",
       "  font-size: 11px;\n",
       "  width: 15px;\n",
       "  text-align: center;\n",
       "}\n",
       "\n",
       ".xr-section-summary-in:disabled + label:before {\n",
       "  color: var(--xr-disabled-color);\n",
       "}\n",
       "\n",
       ".xr-section-summary-in:checked + label:before {\n",
       "  content: '▼';\n",
       "}\n",
       "\n",
       ".xr-section-summary-in:checked + label > span {\n",
       "  display: none;\n",
       "}\n",
       "\n",
       ".xr-section-summary,\n",
       ".xr-section-inline-details {\n",
       "  padding-top: 4px;\n",
       "  padding-bottom: 4px;\n",
       "}\n",
       "\n",
       ".xr-section-inline-details {\n",
       "  grid-column: 2 / -1;\n",
       "}\n",
       "\n",
       ".xr-section-details {\n",
       "  display: none;\n",
       "  grid-column: 1 / -1;\n",
       "  margin-bottom: 5px;\n",
       "}\n",
       "\n",
       ".xr-section-summary-in:checked ~ .xr-section-details {\n",
       "  display: contents;\n",
       "}\n",
       "\n",
       ".xr-array-wrap {\n",
       "  grid-column: 1 / -1;\n",
       "  display: grid;\n",
       "  grid-template-columns: 20px auto;\n",
       "}\n",
       "\n",
       ".xr-array-wrap > label {\n",
       "  grid-column: 1;\n",
       "  vertical-align: top;\n",
       "}\n",
       "\n",
       ".xr-preview {\n",
       "  color: var(--xr-font-color3);\n",
       "}\n",
       "\n",
       ".xr-array-preview,\n",
       ".xr-array-data {\n",
       "  padding: 0 5px !important;\n",
       "  grid-column: 2;\n",
       "}\n",
       "\n",
       ".xr-array-data,\n",
       ".xr-array-in:checked ~ .xr-array-preview {\n",
       "  display: none;\n",
       "}\n",
       "\n",
       ".xr-array-in:checked ~ .xr-array-data,\n",
       ".xr-array-preview {\n",
       "  display: inline-block;\n",
       "}\n",
       "\n",
       ".xr-dim-list {\n",
       "  display: inline-block !important;\n",
       "  list-style: none;\n",
       "  padding: 0 !important;\n",
       "  margin: 0;\n",
       "}\n",
       "\n",
       ".xr-dim-list li {\n",
       "  display: inline-block;\n",
       "  padding: 0;\n",
       "  margin: 0;\n",
       "}\n",
       "\n",
       ".xr-dim-list:before {\n",
       "  content: '(';\n",
       "}\n",
       "\n",
       ".xr-dim-list:after {\n",
       "  content: ')';\n",
       "}\n",
       "\n",
       ".xr-dim-list li:not(:last-child):after {\n",
       "  content: ',';\n",
       "  padding-right: 5px;\n",
       "}\n",
       "\n",
       ".xr-has-index {\n",
       "  font-weight: bold;\n",
       "}\n",
       "\n",
       ".xr-var-list,\n",
       ".xr-var-item {\n",
       "  display: contents;\n",
       "}\n",
       "\n",
       ".xr-var-item > div,\n",
       ".xr-var-item label,\n",
       ".xr-var-item > .xr-var-name span {\n",
       "  background-color: var(--xr-background-color-row-even);\n",
       "  margin-bottom: 0;\n",
       "}\n",
       "\n",
       ".xr-var-item > .xr-var-name:hover span {\n",
       "  padding-right: 5px;\n",
       "}\n",
       "\n",
       ".xr-var-list > li:nth-child(odd) > div,\n",
       ".xr-var-list > li:nth-child(odd) > label,\n",
       ".xr-var-list > li:nth-child(odd) > .xr-var-name span {\n",
       "  background-color: var(--xr-background-color-row-odd);\n",
       "}\n",
       "\n",
       ".xr-var-name {\n",
       "  grid-column: 1;\n",
       "}\n",
       "\n",
       ".xr-var-dims {\n",
       "  grid-column: 2;\n",
       "}\n",
       "\n",
       ".xr-var-dtype {\n",
       "  grid-column: 3;\n",
       "  text-align: right;\n",
       "  color: var(--xr-font-color2);\n",
       "}\n",
       "\n",
       ".xr-var-preview {\n",
       "  grid-column: 4;\n",
       "}\n",
       "\n",
       ".xr-index-preview {\n",
       "  grid-column: 2 / 5;\n",
       "  color: var(--xr-font-color2);\n",
       "}\n",
       "\n",
       ".xr-var-name,\n",
       ".xr-var-dims,\n",
       ".xr-var-dtype,\n",
       ".xr-preview,\n",
       ".xr-attrs dt {\n",
       "  white-space: nowrap;\n",
       "  overflow: hidden;\n",
       "  text-overflow: ellipsis;\n",
       "  padding-right: 10px;\n",
       "}\n",
       "\n",
       ".xr-var-name:hover,\n",
       ".xr-var-dims:hover,\n",
       ".xr-var-dtype:hover,\n",
       ".xr-attrs dt:hover {\n",
       "  overflow: visible;\n",
       "  width: auto;\n",
       "  z-index: 1;\n",
       "}\n",
       "\n",
       ".xr-var-attrs,\n",
       ".xr-var-data,\n",
       ".xr-index-data {\n",
       "  display: none;\n",
       "  background-color: var(--xr-background-color) !important;\n",
       "  padding-bottom: 5px !important;\n",
       "}\n",
       "\n",
       ".xr-var-attrs-in:checked ~ .xr-var-attrs,\n",
       ".xr-var-data-in:checked ~ .xr-var-data,\n",
       ".xr-index-data-in:checked ~ .xr-index-data {\n",
       "  display: block;\n",
       "}\n",
       "\n",
       ".xr-var-data > table {\n",
       "  float: right;\n",
       "}\n",
       "\n",
       ".xr-var-name span,\n",
       ".xr-var-data,\n",
       ".xr-index-name div,\n",
       ".xr-index-data,\n",
       ".xr-attrs {\n",
       "  padding-left: 25px !important;\n",
       "}\n",
       "\n",
       ".xr-attrs,\n",
       ".xr-var-attrs,\n",
       ".xr-var-data,\n",
       ".xr-index-data {\n",
       "  grid-column: 1 / -1;\n",
       "}\n",
       "\n",
       "dl.xr-attrs {\n",
       "  padding: 0;\n",
       "  margin: 0;\n",
       "  display: grid;\n",
       "  grid-template-columns: 125px auto;\n",
       "}\n",
       "\n",
       ".xr-attrs dt,\n",
       ".xr-attrs dd {\n",
       "  padding: 0;\n",
       "  margin: 0;\n",
       "  float: left;\n",
       "  padding-right: 10px;\n",
       "  width: auto;\n",
       "}\n",
       "\n",
       ".xr-attrs dt {\n",
       "  font-weight: normal;\n",
       "  grid-column: 1;\n",
       "}\n",
       "\n",
       ".xr-attrs dt:hover span {\n",
       "  display: inline-block;\n",
       "  background: var(--xr-background-color);\n",
       "  padding-right: 10px;\n",
       "}\n",
       "\n",
       ".xr-attrs dd {\n",
       "  grid-column: 2;\n",
       "  white-space: pre-wrap;\n",
       "  word-break: break-all;\n",
       "}\n",
       "\n",
       ".xr-icon-database,\n",
       ".xr-icon-file-text2,\n",
       ".xr-no-icon {\n",
       "  display: inline-block;\n",
       "  vertical-align: middle;\n",
       "  width: 1em;\n",
       "  height: 1.5em !important;\n",
       "  stroke-width: 0;\n",
       "  stroke: currentColor;\n",
       "  fill: currentColor;\n",
       "}\n",
       "</style><pre class='xr-text-repr-fallback'>&lt;xarray.Dataset&gt;\n",
       "Dimensions:              (sweep: 12)\n",
       "Dimensions without coordinates: sweep\n",
       "Data variables:\n",
       "    volume_number        int64 0\n",
       "    platform_type        &lt;U5 &#x27;fixed&#x27;\n",
       "    instrument_type      &lt;U5 &#x27;radar&#x27;\n",
       "    primary_axis         &lt;U6 &#x27;axis_z&#x27;\n",
       "    time_coverage_start  &lt;U20 &#x27;2020-02-07T13:00:05Z&#x27;\n",
       "    time_coverage_end    &lt;U20 &#x27;2020-02-07T13:39:26Z&#x27;\n",
       "    latitude             float64 51.07\n",
       "    longitude            float64 5.406\n",
       "    altitude             float64 140.0\n",
       "    sweep_group_name     (sweep) &lt;U8 &#x27;sweep_0&#x27; &#x27;sweep_1&#x27; ... &#x27;sweep_11&#x27;\n",
       "    sweep_fixed_angle    (sweep) float64 25.0 20.0 16.0 13.0 ... 1.8 0.8 0.5 0.3\n",
       "Attributes:\n",
       "    version:          H5rad 2.0\n",
       "    title:            None\n",
       "    institution:      None\n",
       "    references:       None\n",
       "    source:           None\n",
       "    history:          None\n",
       "    comment:          im/exported using wradlib\n",
       "    instrument_name:  None\n",
       "    Conventions:      ODIM_H5/V2_0</pre><div class='xr-wrap' style='display:none'><div class='xr-header'><div class='xr-obj-type'>xarray.Dataset</div></div><ul class='xr-sections'><li class='xr-section-item'><input id='section-d8dedd3e-267c-43d0-985d-50b6c85e7f6a' class='xr-section-summary-in' type='checkbox' disabled ><label for='section-d8dedd3e-267c-43d0-985d-50b6c85e7f6a' class='xr-section-summary'  title='Expand/collapse section'>Dimensions:</label><div class='xr-section-inline-details'><ul class='xr-dim-list'><li><span>sweep</span>: 12</li></ul></div><div class='xr-section-details'></div></li><li class='xr-section-item'><input id='section-c500037d-f969-4691-b3c2-86272d796571' class='xr-section-summary-in' type='checkbox' disabled ><label for='section-c500037d-f969-4691-b3c2-86272d796571' class='xr-section-summary'  title='Expand/collapse section'>Coordinates: <span>(0)</span></label><div class='xr-section-inline-details'></div><div class='xr-section-details'><ul class='xr-var-list'></ul></div></li><li class='xr-section-item'><input id='section-ba02729c-583e-4d5e-9f08-1be97574525d' class='xr-section-summary-in' type='checkbox'  checked><label for='section-ba02729c-583e-4d5e-9f08-1be97574525d' class='xr-section-summary' >Data variables: <span>(11)</span></label><div class='xr-section-inline-details'></div><div class='xr-section-details'><ul class='xr-var-list'><li class='xr-var-item'><div class='xr-var-name'><span>volume_number</span></div><div class='xr-var-dims'>()</div><div class='xr-var-dtype'>int64</div><div class='xr-var-preview xr-preview'>0</div><input id='attrs-a14b5311-4cd3-40e6-9e6f-427814d16b25' class='xr-var-attrs-in' type='checkbox' disabled><label for='attrs-a14b5311-4cd3-40e6-9e6f-427814d16b25' title='Show/Hide attributes'><svg class='icon xr-icon-file-text2'><use xlink:href='#icon-file-text2'></use></svg></label><input id='data-58a8eae8-55cb-467b-828f-54277190d176' class='xr-var-data-in' type='checkbox'><label for='data-58a8eae8-55cb-467b-828f-54277190d176' title='Show/Hide data repr'><svg class='icon xr-icon-database'><use xlink:href='#icon-database'></use></svg></label><div class='xr-var-attrs'><dl class='xr-attrs'></dl></div><div class='xr-var-data'><pre>array(0)</pre></div></li><li class='xr-var-item'><div class='xr-var-name'><span>platform_type</span></div><div class='xr-var-dims'>()</div><div class='xr-var-dtype'>&lt;U5</div><div class='xr-var-preview xr-preview'>&#x27;fixed&#x27;</div><input id='attrs-2b9ad1e3-3f71-4ff3-9611-2a3bd29f116b' class='xr-var-attrs-in' type='checkbox' disabled><label for='attrs-2b9ad1e3-3f71-4ff3-9611-2a3bd29f116b' title='Show/Hide attributes'><svg class='icon xr-icon-file-text2'><use xlink:href='#icon-file-text2'></use></svg></label><input id='data-5e580655-d38c-49d1-9e16-a5eb4566d7e7' class='xr-var-data-in' type='checkbox'><label for='data-5e580655-d38c-49d1-9e16-a5eb4566d7e7' title='Show/Hide data repr'><svg class='icon xr-icon-database'><use xlink:href='#icon-database'></use></svg></label><div class='xr-var-attrs'><dl class='xr-attrs'></dl></div><div class='xr-var-data'><pre>array(&#x27;fixed&#x27;, dtype=&#x27;&lt;U5&#x27;)</pre></div></li><li class='xr-var-item'><div class='xr-var-name'><span>instrument_type</span></div><div class='xr-var-dims'>()</div><div class='xr-var-dtype'>&lt;U5</div><div class='xr-var-preview xr-preview'>&#x27;radar&#x27;</div><input id='attrs-30e59190-58da-491d-80d4-8f549af4cb9f' class='xr-var-attrs-in' type='checkbox' disabled><label for='attrs-30e59190-58da-491d-80d4-8f549af4cb9f' title='Show/Hide attributes'><svg class='icon xr-icon-file-text2'><use xlink:href='#icon-file-text2'></use></svg></label><input id='data-7c60ad2f-3419-489d-8bce-0a601bda4876' class='xr-var-data-in' type='checkbox'><label for='data-7c60ad2f-3419-489d-8bce-0a601bda4876' title='Show/Hide data repr'><svg class='icon xr-icon-database'><use xlink:href='#icon-database'></use></svg></label><div class='xr-var-attrs'><dl class='xr-attrs'></dl></div><div class='xr-var-data'><pre>array(&#x27;radar&#x27;, dtype=&#x27;&lt;U5&#x27;)</pre></div></li><li class='xr-var-item'><div class='xr-var-name'><span>primary_axis</span></div><div class='xr-var-dims'>()</div><div class='xr-var-dtype'>&lt;U6</div><div class='xr-var-preview xr-preview'>&#x27;axis_z&#x27;</div><input id='attrs-88582800-d3a3-44c2-8cb1-70c8af3937bd' class='xr-var-attrs-in' type='checkbox' disabled><label for='attrs-88582800-d3a3-44c2-8cb1-70c8af3937bd' title='Show/Hide attributes'><svg class='icon xr-icon-file-text2'><use xlink:href='#icon-file-text2'></use></svg></label><input id='data-8ca29d07-ab46-4899-b68e-e3152e5f4f61' class='xr-var-data-in' type='checkbox'><label for='data-8ca29d07-ab46-4899-b68e-e3152e5f4f61' title='Show/Hide data repr'><svg class='icon xr-icon-database'><use xlink:href='#icon-database'></use></svg></label><div class='xr-var-attrs'><dl class='xr-attrs'></dl></div><div class='xr-var-data'><pre>array(&#x27;axis_z&#x27;, dtype=&#x27;&lt;U6&#x27;)</pre></div></li><li class='xr-var-item'><div class='xr-var-name'><span>time_coverage_start</span></div><div class='xr-var-dims'>()</div><div class='xr-var-dtype'>&lt;U20</div><div class='xr-var-preview xr-preview'>&#x27;2020-02-07T13:00:05Z&#x27;</div><input id='attrs-7d9bac2b-1035-4564-95e5-0e6c086b722e' class='xr-var-attrs-in' type='checkbox' disabled><label for='attrs-7d9bac2b-1035-4564-95e5-0e6c086b722e' title='Show/Hide attributes'><svg class='icon xr-icon-file-text2'><use xlink:href='#icon-file-text2'></use></svg></label><input id='data-1def48b9-3ea9-474e-b7c9-965b8a94c1a2' class='xr-var-data-in' type='checkbox'><label for='data-1def48b9-3ea9-474e-b7c9-965b8a94c1a2' title='Show/Hide data repr'><svg class='icon xr-icon-database'><use xlink:href='#icon-database'></use></svg></label><div class='xr-var-attrs'><dl class='xr-attrs'></dl></div><div class='xr-var-data'><pre>array(&#x27;2020-02-07T13:00:05Z&#x27;, dtype=&#x27;&lt;U20&#x27;)</pre></div></li><li class='xr-var-item'><div class='xr-var-name'><span>time_coverage_end</span></div><div class='xr-var-dims'>()</div><div class='xr-var-dtype'>&lt;U20</div><div class='xr-var-preview xr-preview'>&#x27;2020-02-07T13:39:26Z&#x27;</div><input id='attrs-f3a744a7-fa5e-4aff-84fb-0ad970cd69a7' class='xr-var-attrs-in' type='checkbox' disabled><label for='attrs-f3a744a7-fa5e-4aff-84fb-0ad970cd69a7' title='Show/Hide attributes'><svg class='icon xr-icon-file-text2'><use xlink:href='#icon-file-text2'></use></svg></label><input id='data-e2705421-0bcb-44f9-aab1-857415802858' class='xr-var-data-in' type='checkbox'><label for='data-e2705421-0bcb-44f9-aab1-857415802858' title='Show/Hide data repr'><svg class='icon xr-icon-database'><use xlink:href='#icon-database'></use></svg></label><div class='xr-var-attrs'><dl class='xr-attrs'></dl></div><div class='xr-var-data'><pre>array(&#x27;2020-02-07T13:39:26Z&#x27;, dtype=&#x27;&lt;U20&#x27;)</pre></div></li><li class='xr-var-item'><div class='xr-var-name'><span>latitude</span></div><div class='xr-var-dims'>()</div><div class='xr-var-dtype'>float64</div><div class='xr-var-preview xr-preview'>51.07</div><input id='attrs-aad7c5dc-545f-433f-bff2-c5fef7714275' class='xr-var-attrs-in' type='checkbox' disabled><label for='attrs-aad7c5dc-545f-433f-bff2-c5fef7714275' title='Show/Hide attributes'><svg class='icon xr-icon-file-text2'><use xlink:href='#icon-file-text2'></use></svg></label><input id='data-bfd06375-e0f1-4567-b7ee-561a0299e08c' class='xr-var-data-in' type='checkbox'><label for='data-bfd06375-e0f1-4567-b7ee-561a0299e08c' title='Show/Hide data repr'><svg class='icon xr-icon-database'><use xlink:href='#icon-database'></use></svg></label><div class='xr-var-attrs'><dl class='xr-attrs'></dl></div><div class='xr-var-data'><pre>array(51.069072)</pre></div></li><li class='xr-var-item'><div class='xr-var-name'><span>longitude</span></div><div class='xr-var-dims'>()</div><div class='xr-var-dtype'>float64</div><div class='xr-var-preview xr-preview'>5.406</div><input id='attrs-e264d086-80f8-4838-b549-bbe8447fb513' class='xr-var-attrs-in' type='checkbox' disabled><label for='attrs-e264d086-80f8-4838-b549-bbe8447fb513' title='Show/Hide attributes'><svg class='icon xr-icon-file-text2'><use xlink:href='#icon-file-text2'></use></svg></label><input id='data-796cd3c9-3124-43d6-a069-a48d5e114132' class='xr-var-data-in' type='checkbox'><label for='data-796cd3c9-3124-43d6-a069-a48d5e114132' title='Show/Hide data repr'><svg class='icon xr-icon-database'><use xlink:href='#icon-database'></use></svg></label><div class='xr-var-attrs'><dl class='xr-attrs'></dl></div><div class='xr-var-data'><pre>array(5.4064)</pre></div></li><li class='xr-var-item'><div class='xr-var-name'><span>altitude</span></div><div class='xr-var-dims'>()</div><div class='xr-var-dtype'>float64</div><div class='xr-var-preview xr-preview'>140.0</div><input id='attrs-78283dab-00a4-4c9d-a9f9-458797a0e756' class='xr-var-attrs-in' type='checkbox' disabled><label for='attrs-78283dab-00a4-4c9d-a9f9-458797a0e756' title='Show/Hide attributes'><svg class='icon xr-icon-file-text2'><use xlink:href='#icon-file-text2'></use></svg></label><input id='data-8ea1acd5-89e9-4e45-892c-e0411aa8be27' class='xr-var-data-in' type='checkbox'><label for='data-8ea1acd5-89e9-4e45-892c-e0411aa8be27' title='Show/Hide data repr'><svg class='icon xr-icon-database'><use xlink:href='#icon-database'></use></svg></label><div class='xr-var-attrs'><dl class='xr-attrs'></dl></div><div class='xr-var-data'><pre>array(140.)</pre></div></li><li class='xr-var-item'><div class='xr-var-name'><span>sweep_group_name</span></div><div class='xr-var-dims'>(sweep)</div><div class='xr-var-dtype'>&lt;U8</div><div class='xr-var-preview xr-preview'>&#x27;sweep_0&#x27; &#x27;sweep_1&#x27; ... &#x27;sweep_11&#x27;</div><input id='attrs-b8462b2a-43aa-43ff-b45e-18d5694a582f' class='xr-var-attrs-in' type='checkbox' disabled><label for='attrs-b8462b2a-43aa-43ff-b45e-18d5694a582f' title='Show/Hide attributes'><svg class='icon xr-icon-file-text2'><use xlink:href='#icon-file-text2'></use></svg></label><input id='data-d0ba14fa-520a-4f7e-8e1e-e9b05664f9de' class='xr-var-data-in' type='checkbox'><label for='data-d0ba14fa-520a-4f7e-8e1e-e9b05664f9de' title='Show/Hide data repr'><svg class='icon xr-icon-database'><use xlink:href='#icon-database'></use></svg></label><div class='xr-var-attrs'><dl class='xr-attrs'></dl></div><div class='xr-var-data'><pre>array([&#x27;sweep_0&#x27;, &#x27;sweep_1&#x27;, &#x27;sweep_2&#x27;, &#x27;sweep_3&#x27;, &#x27;sweep_4&#x27;, &#x27;sweep_5&#x27;,\n",
       "       &#x27;sweep_6&#x27;, &#x27;sweep_7&#x27;, &#x27;sweep_8&#x27;, &#x27;sweep_9&#x27;, &#x27;sweep_10&#x27;, &#x27;sweep_11&#x27;],\n",
       "      dtype=&#x27;&lt;U8&#x27;)</pre></div></li><li class='xr-var-item'><div class='xr-var-name'><span>sweep_fixed_angle</span></div><div class='xr-var-dims'>(sweep)</div><div class='xr-var-dtype'>float64</div><div class='xr-var-preview xr-preview'>25.0 20.0 16.0 13.0 ... 0.8 0.5 0.3</div><input id='attrs-f4608a43-a959-4703-a93e-deed837424cf' class='xr-var-attrs-in' type='checkbox' disabled><label for='attrs-f4608a43-a959-4703-a93e-deed837424cf' title='Show/Hide attributes'><svg class='icon xr-icon-file-text2'><use xlink:href='#icon-file-text2'></use></svg></label><input id='data-7c3dafe0-e3ad-4436-913c-7d7e257b0164' class='xr-var-data-in' type='checkbox'><label for='data-7c3dafe0-e3ad-4436-913c-7d7e257b0164' title='Show/Hide data repr'><svg class='icon xr-icon-database'><use xlink:href='#icon-database'></use></svg></label><div class='xr-var-attrs'><dl class='xr-attrs'></dl></div><div class='xr-var-data'><pre>array([25. , 20. , 16. , 13. , 10. ,  7.5,  5. ,  3. ,  1.8,  0.8,  0.5,\n",
       "        0.3])</pre></div></li></ul></div></li><li class='xr-section-item'><input id='section-400cd2ca-d74e-41ca-aa73-ededf43d2266' class='xr-section-summary-in' type='checkbox' disabled ><label for='section-400cd2ca-d74e-41ca-aa73-ededf43d2266' class='xr-section-summary'  title='Expand/collapse section'>Indexes: <span>(0)</span></label><div class='xr-section-inline-details'></div><div class='xr-section-details'><ul class='xr-var-list'></ul></div></li><li class='xr-section-item'><input id='section-04dfa765-d06a-4c52-b4bc-dbc98c6764d9' class='xr-section-summary-in' type='checkbox'  checked><label for='section-04dfa765-d06a-4c52-b4bc-dbc98c6764d9' class='xr-section-summary' >Attributes: <span>(9)</span></label><div class='xr-section-inline-details'></div><div class='xr-section-details'><dl class='xr-attrs'><dt><span>version :</span></dt><dd>H5rad 2.0</dd><dt><span>title :</span></dt><dd>None</dd><dt><span>institution :</span></dt><dd>None</dd><dt><span>references :</span></dt><dd>None</dd><dt><span>source :</span></dt><dd>None</dd><dt><span>history :</span></dt><dd>None</dd><dt><span>comment :</span></dt><dd>im/exported using wradlib</dd><dt><span>instrument_name :</span></dt><dd>None</dd><dt><span>Conventions :</span></dt><dd>ODIM_H5/V2_0</dd></dl></div></li></ul></div></div>"
      ],
      "text/plain": [
       "<xarray.Dataset>\n",
       "Dimensions:              (sweep: 12)\n",
       "Dimensions without coordinates: sweep\n",
       "Data variables:\n",
       "    volume_number        int64 0\n",
       "    platform_type        <U5 'fixed'\n",
       "    instrument_type      <U5 'radar'\n",
       "    primary_axis         <U6 'axis_z'\n",
       "    time_coverage_start  <U20 '2020-02-07T13:00:05Z'\n",
       "    time_coverage_end    <U20 '2020-02-07T13:39:26Z'\n",
       "    latitude             float64 51.07\n",
       "    longitude            float64 5.406\n",
       "    altitude             float64 140.0\n",
       "    sweep_group_name     (sweep) <U8 'sweep_0' 'sweep_1' ... 'sweep_11'\n",
       "    sweep_fixed_angle    (sweep) float64 25.0 20.0 16.0 13.0 ... 1.8 0.8 0.5 0.3\n",
       "Attributes:\n",
       "    version:          H5rad 2.0\n",
       "    title:            None\n",
       "    institution:      None\n",
       "    references:       None\n",
       "    source:           None\n",
       "    history:          None\n",
       "    comment:          im/exported using wradlib\n",
       "    instrument_name:  None\n",
       "    Conventions:      ODIM_H5/V2_0"
      ]
     },
     "execution_count": 38,
     "metadata": {},
     "output_type": "execute_result"
    }
   ],
   "source": [
    "vol.root"
   ]
  },
  {
   "cell_type": "markdown",
   "metadata": {},
   "source": [
    "## Get hold of data using xarray\n",
    "\n",
    "- The outer class instance `XRadVolume` does not contain a `.data`-property because the volume cannot be represented using xarray. \n",
    "- `XRadTimeseries` `.data` works on the sweep level, it can contain one or multiple consecutive sweeps.\n",
    "    It will be created on the fly from the `XRadSweep` `.data` xarray.Dataset objects via concatenation.\n",
    "- `XRadSweep` `.data` is one single sweep containing multiple radar moments. It is created **and** cached when first accessed.\n",
    "- `XRadMoment` `.data` is one single moment as xarray DataArray, which is claimed from the parent `XRadSweep`"
   ]
  },
  {
   "cell_type": "markdown",
   "metadata": {},
   "source": [
    "### Moment"
   ]
  },
  {
   "cell_type": "code",
   "execution_count": 39,
   "metadata": {
    "execution": {
     "iopub.execute_input": "2023-02-24T14:39:09.625570Z",
     "iopub.status.busy": "2023-02-24T14:39:09.624873Z",
     "iopub.status.idle": "2023-02-24T14:39:09.816468Z",
     "shell.execute_reply": "2023-02-24T14:39:09.816005Z"
    }
   },
   "outputs": [
    {
     "name": "stdout",
     "output_type": "stream",
     "text": [
      "First Access\n"
     ]
    },
    {
     "name": "stdout",
     "output_type": "stream",
     "text": [
      "<xarray.DataArray 'DBZH' (azimuth: 360, range: 800)>\n",
      "dask.array<_scale_offset_decoding, shape=(360, 800), dtype=float32, chunksize=(360, 800), chunktype=numpy.ndarray>\n",
      "Coordinates:\n",
      "    time        datetime64[ns] 2020-02-07T13:03:46\n",
      "    rtime       (azimuth) datetime64[ns] 2020-02-07T13:03:50.472224256 ... 20...\n",
      "    elevation   (azimuth) float32 ...\n",
      "  * azimuth     (azimuth) float32 0.5 1.5 2.5 3.5 ... 356.5 357.5 358.5 359.5\n",
      "  * range       (range) float32 125.0 375.0 625.0 ... 1.996e+05 1.999e+05\n",
      "    sweep_mode  <U20 ...\n",
      "    latitude    float64 ...\n",
      "    longitude   float64 ...\n",
      "    altitude    float64 ...\n",
      "Attributes:\n",
      "    IMAGE_VERSION:  1.2\n",
      "    _Undetect:      0.0\n",
      "    units:          dBZ\n",
      "    long_name:      Equivalent reflectivity factor H\n",
      "    standard_name:  radar_equivalent_reflectivity_factor_h\n",
      "Memory: 192.75390625 - 200.04296875\n",
      "Memory added: 7.28906 MB\n",
      "CPU times: user 156 ms, sys: 19.2 ms, total: 176 ms\n",
      "Wall time: 187 ms\n"
     ]
    }
   ],
   "source": [
    "%%time\n",
    "print(\"First Access\")\n",
    "mem0 = memory_usage_psutil()\n",
    "print(vol[-2][0][0].data)\n",
    "mem1 = memory_usage_psutil()\n",
    "print(\"Memory: {} - {}\".format(mem0, mem1))\n",
    "print(\"Memory added: {0:.5f} MB\".format((mem1 - mem0)))"
   ]
  },
  {
   "cell_type": "code",
   "execution_count": 40,
   "metadata": {
    "execution": {
     "iopub.execute_input": "2023-02-24T14:39:09.818802Z",
     "iopub.status.busy": "2023-02-24T14:39:09.818578Z",
     "iopub.status.idle": "2023-02-24T14:39:09.833260Z",
     "shell.execute_reply": "2023-02-24T14:39:09.832700Z"
    }
   },
   "outputs": [
    {
     "name": "stdout",
     "output_type": "stream",
     "text": [
      "Second Access\n",
      "<xarray.DataArray 'DBZH' (azimuth: 360, range: 800)>\n",
      "dask.array<_scale_offset_decoding, shape=(360, 800), dtype=float32, chunksize=(360, 800), chunktype=numpy.ndarray>\n",
      "Coordinates:\n",
      "    time        datetime64[ns] 2020-02-07T13:03:46\n",
      "    rtime       (azimuth) datetime64[ns] 2020-02-07T13:03:50.472224256 ... 20...\n",
      "    elevation   (azimuth) float32 ...\n",
      "  * azimuth     (azimuth) float32 0.5 1.5 2.5 3.5 ... 356.5 357.5 358.5 359.5\n",
      "  * range       (range) float32 125.0 375.0 625.0 ... 1.996e+05 1.999e+05\n",
      "    sweep_mode  <U20 ...\n",
      "    latitude    float64 ...\n",
      "    longitude   float64 ...\n",
      "    altitude    float64 ...\n",
      "Attributes:\n",
      "    IMAGE_VERSION:  1.2\n",
      "    _Undetect:      0.0\n",
      "    units:          dBZ\n",
      "    long_name:      Equivalent reflectivity factor H\n",
      "    standard_name:  radar_equivalent_reflectivity_factor_h\n"
     ]
    },
    {
     "name": "stdout",
     "output_type": "stream",
     "text": [
      "Memory: 200.046875 - 200.046875\n",
      "Memory added: 0.00000 MB\n",
      "CPU times: user 3.01 ms, sys: 7.47 ms, total: 10.5 ms\n",
      "Wall time: 11.2 ms\n"
     ]
    }
   ],
   "source": [
    "%%time\n",
    "print(\"Second Access\")\n",
    "mem0 = memory_usage_psutil()\n",
    "print(vol[-2][0][0].data)\n",
    "mem1 = memory_usage_psutil()\n",
    "print(\"Memory: {} - {}\".format(mem0, mem1))\n",
    "print(\"Memory added: {0:.5f} MB\".format((mem1 - mem0)))"
   ]
  },
  {
   "cell_type": "markdown",
   "metadata": {},
   "source": [
    "### Sweep"
   ]
  },
  {
   "cell_type": "code",
   "execution_count": 41,
   "metadata": {
    "execution": {
     "iopub.execute_input": "2023-02-24T14:39:09.835456Z",
     "iopub.status.busy": "2023-02-24T14:39:09.835270Z",
     "iopub.status.idle": "2023-02-24T14:39:09.891388Z",
     "shell.execute_reply": "2023-02-24T14:39:09.890779Z"
    }
   },
   "outputs": [
    {
     "name": "stdout",
     "output_type": "stream",
     "text": [
      "First Access\n",
      "<xarray.Dataset>\n",
      "Dimensions:     (azimuth: 360, range: 800)\n",
      "Coordinates:\n",
      "    time        datetime64[ns] 2020-02-07T13:04:08\n",
      "    rtime       (azimuth) datetime64[ns] 2020-02-07T13:04:10.527778816 ... 20...\n",
      "    elevation   (azimuth) float32 ...\n",
      "  * azimuth     (azimuth) float32 0.5 1.5 2.5 3.5 ... 356.5 357.5 358.5 359.5\n",
      "  * range       (range) float32 125.0 375.0 625.0 ... 1.996e+05 1.999e+05\n",
      "    sweep_mode  <U20 ...\n",
      "    latitude    float64 ...\n",
      "    longitude   float64 ...\n",
      "    altitude    float64 ...\n",
      "Data variables:\n",
      "    DBZH        (azimuth, range) float32 dask.array<chunksize=(360, 800), meta=np.ndarray>\n",
      "    RHOHV       (azimuth, range) float32 dask.array<chunksize=(360, 800), meta=np.ndarray>\n",
      "    VRAD        (azimuth, range) float32 dask.array<chunksize=(360, 800), meta=np.ndarray>\n",
      "    WRAD        (azimuth, range) float32 dask.array<chunksize=(360, 800), meta=np.ndarray>\n",
      "Memory: 200.06640625 - 200.31640625\n",
      "Memory added: 0.25000 MB\n",
      "CPU times: user 41.8 ms, sys: 8.04 ms, total: 49.8 ms\n",
      "Wall time: 52.5 ms\n"
     ]
    }
   ],
   "source": [
    "%%time\n",
    "print(\"First Access\")\n",
    "mem0 = memory_usage_psutil()\n",
    "print(vol[-1][0].data)\n",
    "mem1 = memory_usage_psutil()\n",
    "print(\"Memory: {} - {}\".format(mem0, mem1))\n",
    "print(\"Memory added: {0:.5f} MB\".format((mem1 - mem0)))"
   ]
  },
  {
   "cell_type": "code",
   "execution_count": 42,
   "metadata": {
    "execution": {
     "iopub.execute_input": "2023-02-24T14:39:09.893983Z",
     "iopub.status.busy": "2023-02-24T14:39:09.893784Z",
     "iopub.status.idle": "2023-02-24T14:39:09.908798Z",
     "shell.execute_reply": "2023-02-24T14:39:09.908276Z"
    }
   },
   "outputs": [
    {
     "name": "stdout",
     "output_type": "stream",
     "text": [
      "Second Access\n",
      "<xarray.Dataset>\n",
      "Dimensions:     (azimuth: 360, range: 800)\n",
      "Coordinates:\n",
      "    time        datetime64[ns] 2020-02-07T13:04:08\n",
      "    rtime       (azimuth) datetime64[ns] 2020-02-07T13:04:10.527778816 ... 20...\n",
      "    elevation   (azimuth) float32 ...\n",
      "  * azimuth     (azimuth) float32 0.5 1.5 2.5 3.5 ... 356.5 357.5 358.5 359.5\n",
      "  * range       (range) float32 125.0 375.0 625.0 ... 1.996e+05 1.999e+05\n",
      "    sweep_mode  <U20 ...\n",
      "    latitude    float64 ...\n",
      "    longitude   float64 ...\n",
      "    altitude    float64 ...\n",
      "Data variables:\n",
      "    DBZH        (azimuth, range) float32 dask.array<chunksize=(360, 800), meta=np.ndarray>\n",
      "    RHOHV       (azimuth, range) float32 dask.array<chunksize=(360, 800), meta=np.ndarray>\n",
      "    VRAD        (azimuth, range) float32 dask.array<chunksize=(360, 800), meta=np.ndarray>\n",
      "    WRAD        (azimuth, range) float32 dask.array<chunksize=(360, 800), meta=np.ndarray>\n",
      "Memory: 200.3203125 - 200.3203125\n",
      "Memory added: 0.00000 MB\n",
      "CPU times: user 2.59 ms, sys: 7.82 ms, total: 10.4 ms\n",
      "Wall time: 11 ms\n"
     ]
    }
   ],
   "source": [
    "%%time\n",
    "print(\"Second Access\")\n",
    "mem0 = memory_usage_psutil()\n",
    "print(vol[-1][0].data)\n",
    "mem1 = memory_usage_psutil()\n",
    "print(\"Memory: {} - {}\".format(mem0, mem1))\n",
    "print(\"Memory added: {0:.5f} MB\".format((mem1 - mem0)))"
   ]
  },
  {
   "cell_type": "markdown",
   "metadata": {},
   "source": [
    "### TimeSeries"
   ]
  },
  {
   "cell_type": "code",
   "execution_count": 43,
   "metadata": {
    "execution": {
     "iopub.execute_input": "2023-02-24T14:39:09.910970Z",
     "iopub.status.busy": "2023-02-24T14:39:09.910782Z",
     "iopub.status.idle": "2023-02-24T14:39:10.228240Z",
     "shell.execute_reply": "2023-02-24T14:39:10.227686Z"
    }
   },
   "outputs": [
    {
     "name": "stdout",
     "output_type": "stream",
     "text": [
      "First Access\n"
     ]
    },
    {
     "name": "stderr",
     "output_type": "stream",
     "text": [
      "\r",
      "Collecting:   0%|          | 0/8 [00:00<?, ? Timesteps/s]"
     ]
    },
    {
     "name": "stderr",
     "output_type": "stream",
     "text": [
      "\r",
      "Collecting:  50%|█████     | 4/8 [00:00<00:00, 34.39 Timesteps/s]"
     ]
    },
    {
     "name": "stderr",
     "output_type": "stream",
     "text": [
      "\r",
      "Collecting: 100%|██████████| 8/8 [00:00<00:00, 29.71 Timesteps/s]"
     ]
    },
    {
     "name": "stderr",
     "output_type": "stream",
     "text": [
      "\r",
      "Collecting: 100%|██████████| 8/8 [00:00<00:00, 30.14 Timesteps/s]"
     ]
    },
    {
     "name": "stdout",
     "output_type": "stream",
     "text": [
      "<xarray.Dataset>\n",
      "Dimensions:     (time: 8, azimuth: 360, range: 800)\n",
      "Coordinates:\n",
      "  * time        (time) datetime64[ns] 2020-02-07T13:04:08 ... 2020-02-07T13:3...\n",
      "    rtime       (time, azimuth) datetime64[ns] 2020-02-07T13:04:10.527778816 ...\n",
      "    elevation   (azimuth) float32 0.3 0.3 0.3 0.3 0.3 ... 0.3 0.3 0.3 0.3 0.3\n",
      "  * azimuth     (azimuth) float32 0.5 1.5 2.5 3.5 ... 356.5 357.5 358.5 359.5\n",
      "  * range       (range) float32 125.0 375.0 625.0 ... 1.996e+05 1.999e+05\n",
      "    sweep_mode  <U20 'azimuth_surveillance'\n",
      "    latitude    float64 51.07\n",
      "    longitude   float64 5.406\n",
      "    altitude    float64 140.0\n",
      "Data variables:\n",
      "    DBZH        (time, azimuth, range) float32 dask.array<chunksize=(1, 360, 800), meta=np.ndarray>\n",
      "    RHOHV       (time, azimuth, range) float32 dask.array<chunksize=(1, 360, 800), meta=np.ndarray>\n",
      "    VRAD        (time, azimuth, range) float32 dask.array<chunksize=(1, 360, 800), meta=np.ndarray>\n",
      "    WRAD        (time, azimuth, range) float32 dask.array<chunksize=(1, 360, 800), meta=np.ndarray>\n",
      "Memory: 200.32421875 - 203.2734375\n",
      "Memory added: 2.94922 MB\n",
      "CPU times: user 290 ms, sys: 19.8 ms, total: 309 ms\n",
      "Wall time: 312 ms\n"
     ]
    },
    {
     "name": "stderr",
     "output_type": "stream",
     "text": [
      "\n"
     ]
    }
   ],
   "source": [
    "%%time\n",
    "print(\"First Access\")\n",
    "mem0 = memory_usage_psutil()\n",
    "print(vol[-1].data)\n",
    "mem1 = memory_usage_psutil()\n",
    "print(\"Memory: {} - {}\".format(mem0, mem1))\n",
    "print(\"Memory added: {0:.5f} MB\".format((mem1 - mem0)))"
   ]
  },
  {
   "cell_type": "code",
   "execution_count": 44,
   "metadata": {
    "execution": {
     "iopub.execute_input": "2023-02-24T14:39:10.230495Z",
     "iopub.status.busy": "2023-02-24T14:39:10.230295Z",
     "iopub.status.idle": "2023-02-24T14:39:10.245154Z",
     "shell.execute_reply": "2023-02-24T14:39:10.244612Z"
    }
   },
   "outputs": [
    {
     "name": "stdout",
     "output_type": "stream",
     "text": [
      "Second Access\n",
      "<xarray.Dataset>\n",
      "Dimensions:     (time: 8, azimuth: 360, range: 800)\n",
      "Coordinates:\n",
      "  * time        (time) datetime64[ns] 2020-02-07T13:04:08 ... 2020-02-07T13:3...\n",
      "    rtime       (time, azimuth) datetime64[ns] 2020-02-07T13:04:10.527778816 ...\n",
      "    elevation   (azimuth) float32 0.3 0.3 0.3 0.3 0.3 ... 0.3 0.3 0.3 0.3 0.3\n",
      "  * azimuth     (azimuth) float32 0.5 1.5 2.5 3.5 ... 356.5 357.5 358.5 359.5\n",
      "  * range       (range) float32 125.0 375.0 625.0 ... 1.996e+05 1.999e+05\n",
      "    sweep_mode  <U20 'azimuth_surveillance'\n",
      "    latitude    float64 51.07\n",
      "    longitude   float64 5.406\n",
      "    altitude    float64 140.0\n",
      "Data variables:\n",
      "    DBZH        (time, azimuth, range) float32 dask.array<chunksize=(1, 360, 800), meta=np.ndarray>\n",
      "    RHOHV       (time, azimuth, range) float32 dask.array<chunksize=(1, 360, 800), meta=np.ndarray>\n",
      "    VRAD        (time, azimuth, range) float32 dask.array<chunksize=(1, 360, 800), meta=np.ndarray>\n",
      "    WRAD        (time, azimuth, range) float32 dask.array<chunksize=(1, 360, 800), meta=np.ndarray>\n",
      "Memory: 203.27734375 - 203.27734375\n",
      "Memory added: 0.00000 MB\n",
      "CPU times: user 6.29 ms, sys: 4.11 ms, total: 10.4 ms\n",
      "Wall time: 10.8 ms\n"
     ]
    }
   ],
   "source": [
    "%%time\n",
    "print(\"Second Access\")\n",
    "mem0 = memory_usage_psutil()\n",
    "print(vol[-1].data)\n",
    "mem1 = memory_usage_psutil()\n",
    "print(\"Memory: {} - {}\".format(mem0, mem1))\n",
    "print(\"Memory added: {0:.5f} MB\".format((mem1 - mem0)))"
   ]
  },
  {
   "cell_type": "markdown",
   "metadata": {},
   "source": [
    "## Plot Data"
   ]
  },
  {
   "cell_type": "markdown",
   "metadata": {},
   "source": [
    "### Plot Single Sweep"
   ]
  },
  {
   "cell_type": "code",
   "execution_count": 45,
   "metadata": {
    "execution": {
     "iopub.execute_input": "2023-02-24T14:39:10.247384Z",
     "iopub.status.busy": "2023-02-24T14:39:10.247193Z",
     "iopub.status.idle": "2023-02-24T14:39:11.108783Z",
     "shell.execute_reply": "2023-02-24T14:39:11.108161Z"
    }
   },
   "outputs": [
    {
     "data": {
      "text/plain": [
       "<matplotlib.collections.QuadMesh at 0x7fab92df8990>"
      ]
     },
     "execution_count": 45,
     "metadata": {},
     "output_type": "execute_result"
    },
    {
     "data": {
      "image/png": "[encoded data removed]",
      "text/plain": [
       "<Figure size 640x480 with 1 Axes>"
      ]
     },
     "metadata": {},
     "output_type": "display_data"
    }
   ],
   "source": [
    "vol[-1].data.pipe(wrl.georef.georeference_dataset).DBZH[0].wradlib.plot()"
   ]
  },
  {
   "cell_type": "markdown",
   "metadata": {},
   "source": [
    "### Plot same single sweep from Timeseries"
   ]
  },
  {
   "cell_type": "code",
   "execution_count": 46,
   "metadata": {
    "execution": {
     "iopub.execute_input": "2023-02-24T14:39:11.111176Z",
     "iopub.status.busy": "2023-02-24T14:39:11.110975Z",
     "iopub.status.idle": "2023-02-24T14:39:11.656294Z",
     "shell.execute_reply": "2023-02-24T14:39:11.655818Z"
    }
   },
   "outputs": [
    {
     "data": {
      "text/plain": [
       "<matplotlib.collections.QuadMesh at 0x7fab92eaf890>"
      ]
     },
     "execution_count": 46,
     "metadata": {},
     "output_type": "execute_result"
    },
    {
     "data": {
      "image/png": "[encoded data removed]",
      "text/plain": [
       "<Figure size 640x480 with 2 Axes>"
      ]
     },
     "metadata": {},
     "output_type": "display_data"
    }
   ],
   "source": [
    "vol[-1].data.DBZH[0].plot()"
   ]
  },
  {
   "cell_type": "markdown",
   "metadata": {},
   "source": [
    "## Exporting Data\n",
    "\n",
    "Data can be exported to ODIMH5, CfRadial2 and NetCDF4."
   ]
  },
  {
   "cell_type": "markdown",
   "metadata": {},
   "source": [
    "### ODIMH5\n",
    "\n",
    "ODIMH5 can only handle one volume not timeseries. So we have to select the timestep which we want to export.\n",
    "\n",
    "The example shows, how to output the volume to a ODIMH5-file, read it back and check for equality."
   ]
  },
  {
   "cell_type": "code",
   "execution_count": 47,
   "metadata": {
    "execution": {
     "iopub.execute_input": "2023-02-24T14:39:11.659614Z",
     "iopub.status.busy": "2023-02-24T14:39:11.659228Z",
     "iopub.status.idle": "2023-02-24T14:39:12.885680Z",
     "shell.execute_reply": "2023-02-24T14:39:12.885107Z"
    }
   },
   "outputs": [],
   "source": [
    "vol.to_odim(\"test_odim.h5\", timestep=5)"
   ]
  },
  {
   "cell_type": "code",
   "execution_count": 48,
   "metadata": {
    "execution": {
     "iopub.execute_input": "2023-02-24T14:39:12.888176Z",
     "iopub.status.busy": "2023-02-24T14:39:12.887928Z",
     "iopub.status.idle": "2023-02-24T14:39:12.947505Z",
     "shell.execute_reply": "2023-02-24T14:39:12.947032Z"
    }
   },
   "outputs": [
    {
     "name": "stderr",
     "output_type": "stream",
     "text": [
      "/tmp/ipykernel_4260/3074143617.py:1: DeprecatedWarning: open_odim is deprecated as of 1.10 and will be removed in 2.0. Use the appropriate `wradlib.io.open_{engine}_dataset` or `wradlib.io.open_{engine}_mfdataset` function.\n",
      "  vol1 = wrl.io.open_odim(\"test_odim.h5\")\n"
     ]
    },
    {
     "name": "stderr",
     "output_type": "stream",
     "text": [
      "\r",
      "Open:   0%|          | 0/1 [00:00<?, ? Files/s]"
     ]
    },
    {
     "name": "stderr",
     "output_type": "stream",
     "text": [
      "\r",
      "Open: 100%|██████████| 1/1 [00:00<00:00, 55.53 Files/s]"
     ]
    },
    {
     "name": "stderr",
     "output_type": "stream",
     "text": [
      "\n",
      "/home/runner/micromamba-root/envs/wradlib-notebooks/lib/python3.11/site-packages/wradlib/io/xarray_depr.py:2287: DeprecatedWarning: collect_by_angle is deprecated as of 1.10 and will be removed in 2.0. Use xarray BackendEntrypoint based functionality instead.\n",
      "  angles = collect_by_angle(sweeps)\n"
     ]
    },
    {
     "name": "stderr",
     "output_type": "stream",
     "text": [
      "\r",
      "Collecting:   0%|          | 0/12 [00:00<?, ? Angles/s]"
     ]
    },
    {
     "name": "stderr",
     "output_type": "stream",
     "text": [
      "/home/runner/micromamba-root/envs/wradlib-notebooks/lib/python3.11/site-packages/wradlib/io/xarray_depr.py:2289: DeprecatedWarning: collect_by_time is deprecated as of 1.10 and will be removed in 2.0. Use xarray BackendEntrypoint based functionality instead.\n",
      "  angles[i] = collect_by_time(angles[i])\n",
      "/home/runner/micromamba-root/envs/wradlib-notebooks/lib/python3.11/site-packages/wradlib/io/xarray_depr.py:2289: DeprecatedWarning: collect_by_time is deprecated as of 1.10 and will be removed in 2.0. Use xarray BackendEntrypoint based functionality instead.\n",
      "  angles[i] = collect_by_time(angles[i])\n",
      "/home/runner/micromamba-root/envs/wradlib-notebooks/lib/python3.11/site-packages/wradlib/io/xarray_depr.py:2289: DeprecatedWarning: collect_by_time is deprecated as of 1.10 and will be removed in 2.0. Use xarray BackendEntrypoint based functionality instead.\n",
      "  angles[i] = collect_by_time(angles[i])\n",
      "/home/runner/micromamba-root/envs/wradlib-notebooks/lib/python3.11/site-packages/wradlib/io/xarray_depr.py:2289: DeprecatedWarning: collect_by_time is deprecated as of 1.10 and will be removed in 2.0. Use xarray BackendEntrypoint based functionality instead.\n",
      "  angles[i] = collect_by_time(angles[i])\n",
      "/home/runner/micromamba-root/envs/wradlib-notebooks/lib/python3.11/site-packages/wradlib/io/xarray_depr.py:2289: DeprecatedWarning: collect_by_time is deprecated as of 1.10 and will be removed in 2.0. Use xarray BackendEntrypoint based functionality instead.\n",
      "  angles[i] = collect_by_time(angles[i])\n",
      "/home/runner/micromamba-root/envs/wradlib-notebooks/lib/python3.11/site-packages/wradlib/io/xarray_depr.py:2289: DeprecatedWarning: collect_by_time is deprecated as of 1.10 and will be removed in 2.0. Use xarray BackendEntrypoint based functionality instead.\n",
      "  angles[i] = collect_by_time(angles[i])\n",
      "/home/runner/micromamba-root/envs/wradlib-notebooks/lib/python3.11/site-packages/wradlib/io/xarray_depr.py:2289: DeprecatedWarning: collect_by_time is deprecated as of 1.10 and will be removed in 2.0. Use xarray BackendEntrypoint based functionality instead.\n",
      "  angles[i] = collect_by_time(angles[i])\n",
      "/home/runner/micromamba-root/envs/wradlib-notebooks/lib/python3.11/site-packages/wradlib/io/xarray_depr.py:2289: DeprecatedWarning: collect_by_time is deprecated as of 1.10 and will be removed in 2.0. Use xarray BackendEntrypoint based functionality instead.\n",
      "  angles[i] = collect_by_time(angles[i])\n",
      "/home/runner/micromamba-root/envs/wradlib-notebooks/lib/python3.11/site-packages/wradlib/io/xarray_depr.py:2289: DeprecatedWarning: collect_by_time is deprecated as of 1.10 and will be removed in 2.0. Use xarray BackendEntrypoint based functionality instead.\n",
      "  angles[i] = collect_by_time(angles[i])\n",
      "/home/runner/micromamba-root/envs/wradlib-notebooks/lib/python3.11/site-packages/wradlib/io/xarray_depr.py:2289: DeprecatedWarning: collect_by_time is deprecated as of 1.10 and will be removed in 2.0. Use xarray BackendEntrypoint based functionality instead.\n",
      "  angles[i] = collect_by_time(angles[i])\n",
      "/home/runner/micromamba-root/envs/wradlib-notebooks/lib/python3.11/site-packages/wradlib/io/xarray_depr.py:2289: DeprecatedWarning: collect_by_time is deprecated as of 1.10 and will be removed in 2.0. Use xarray BackendEntrypoint based functionality instead.\n",
      "  angles[i] = collect_by_time(angles[i])\n",
      "/home/runner/micromamba-root/envs/wradlib-notebooks/lib/python3.11/site-packages/wradlib/io/xarray_depr.py:2289: DeprecatedWarning: collect_by_time is deprecated as of 1.10 and will be removed in 2.0. Use xarray BackendEntrypoint based functionality instead.\n",
      "  angles[i] = collect_by_time(angles[i])\n",
      "\r",
      "Collecting: 100%|██████████| 12/12 [00:00<00:00, 5032.66 Angles/s]"
     ]
    },
    {
     "name": "stderr",
     "output_type": "stream",
     "text": [
      "\n"
     ]
    }
   ],
   "source": [
    "vol1 = wrl.io.open_odim(\"test_odim.h5\")"
   ]
  },
  {
   "cell_type": "code",
   "execution_count": 49,
   "metadata": {
    "execution": {
     "iopub.execute_input": "2023-02-24T14:39:12.950345Z",
     "iopub.status.busy": "2023-02-24T14:39:12.949650Z",
     "iopub.status.idle": "2023-02-24T14:39:12.953934Z",
     "shell.execute_reply": "2023-02-24T14:39:12.953516Z"
    }
   },
   "outputs": [
    {
     "name": "stdout",
     "output_type": "stream",
     "text": [
      "<wradlib.XRadSweepOdim>\n",
      "Dimension(s): (azimuth: 360, range: 800)\n",
      "Elevation(s): (25.0)\n",
      "Moment(s): (DBZH, RHOHV, VRAD, WRAD)\n"
     ]
    }
   ],
   "source": [
    "print(vol[0][5])"
   ]
  },
  {
   "cell_type": "code",
   "execution_count": 50,
   "metadata": {
    "execution": {
     "iopub.execute_input": "2023-02-24T14:39:12.956592Z",
     "iopub.status.busy": "2023-02-24T14:39:12.955914Z",
     "iopub.status.idle": "2023-02-24T14:39:12.960520Z",
     "shell.execute_reply": "2023-02-24T14:39:12.960101Z"
    }
   },
   "outputs": [
    {
     "name": "stdout",
     "output_type": "stream",
     "text": [
      "<wradlib.XRadSweepOdim>\n",
      "Dimension(s): (azimuth: 360, range: 800)\n",
      "Elevation(s): (25.0)\n",
      "Moment(s): (DBZH, RHOHV, VRAD, WRAD)\n"
     ]
    }
   ],
   "source": [
    "print(vol1[0][0])"
   ]
  },
  {
   "cell_type": "code",
   "execution_count": 51,
   "metadata": {
    "execution": {
     "iopub.execute_input": "2023-02-24T14:39:12.963105Z",
     "iopub.status.busy": "2023-02-24T14:39:12.962415Z",
     "iopub.status.idle": "2023-02-24T14:39:13.063834Z",
     "shell.execute_reply": "2023-02-24T14:39:13.063272Z"
    }
   },
   "outputs": [],
   "source": [
    "xr.testing.assert_equal(vol[0][5].data, vol1[0][0].data)"
   ]
  },
  {
   "cell_type": "markdown",
   "metadata": {},
   "source": [
    "### CfRadial2\n",
    "\n",
    "CfRadial2 can only handle one volume not timeseries. So we have to select the timestep which we want to export.\n",
    "\n",
    "The example shows, how to output the volume to a CfRadial2-file and read it back. For there is currently no fitting counterpart to `open_odim` for reading CfRadial2 volumes we resort to `wradlib.io.CfRadial` reader and compare the underlying numpy arrays. As CfRadial2 data is sorted by time, we have to sort it by azimuth first."
   ]
  },
  {
   "cell_type": "code",
   "execution_count": 52,
   "metadata": {
    "execution": {
     "iopub.execute_input": "2023-02-24T14:39:13.066380Z",
     "iopub.status.busy": "2023-02-24T14:39:13.066187Z",
     "iopub.status.idle": "2023-02-24T14:39:13.927096Z",
     "shell.execute_reply": "2023-02-24T14:39:13.926405Z"
    }
   },
   "outputs": [],
   "source": [
    "vol.to_cfradial2(\"test_cfradial2.nc\", timestep=5)"
   ]
  },
  {
   "cell_type": "code",
   "execution_count": 53,
   "metadata": {
    "execution": {
     "iopub.execute_input": "2023-02-24T14:39:13.929950Z",
     "iopub.status.busy": "2023-02-24T14:39:13.929625Z",
     "iopub.status.idle": "2023-02-24T14:39:14.078737Z",
     "shell.execute_reply": "2023-02-24T14:39:14.078032Z"
    }
   },
   "outputs": [
    {
     "name": "stderr",
     "output_type": "stream",
     "text": [
      "/tmp/ipykernel_4260/678447143.py:1: FutureWarning: <class 'wradlib.io.xarray_depr.CfRadial'> is deprecated as of 1.10. and will be removed in 2.0. Use xarray backends from `xradar`-package.\n",
      "  vol2 = wrl.io.CfRadial(\"test_cfradial2.nc\", dim0=\"azimuth\")\n"
     ]
    }
   ],
   "source": [
    "vol2 = wrl.io.CfRadial(\"test_cfradial2.nc\", dim0=\"azimuth\")"
   ]
  },
  {
   "cell_type": "code",
   "execution_count": 54,
   "metadata": {
    "execution": {
     "iopub.execute_input": "2023-02-24T14:39:14.080994Z",
     "iopub.status.busy": "2023-02-24T14:39:14.080685Z",
     "iopub.status.idle": "2023-02-24T14:39:14.090084Z",
     "shell.execute_reply": "2023-02-24T14:39:14.089528Z"
    }
   },
   "outputs": [],
   "source": [
    "np.testing.assert_equal(\n",
    "    vol[0][5].data.DBZH.values, vol2[\"sweep_0\"].sortby(\"azimuth\").DBZH.values\n",
    ")"
   ]
  },
  {
   "cell_type": "markdown",
   "metadata": {},
   "source": [
    "### NetCDF4\n",
    "\n",
    "Using this, the complete volume/timeseries is exported to a NetCDF4 file.\n",
    "\n",
    "The example shows, how to output the volume to such NetCDF4-file and read it back. For there is currently no fitting counterpart to `open_odim` for reading these NetCDF4 volumes we resort to `xarray.open_dataset` reader."
   ]
  },
  {
   "cell_type": "code",
   "execution_count": 55,
   "metadata": {
    "execution": {
     "iopub.execute_input": "2023-02-24T14:39:14.092374Z",
     "iopub.status.busy": "2023-02-24T14:39:14.091932Z",
     "iopub.status.idle": "2023-02-24T14:39:21.489548Z",
     "shell.execute_reply": "2023-02-24T14:39:21.489015Z"
    }
   },
   "outputs": [
    {
     "name": "stderr",
     "output_type": "stream",
     "text": [
      "\r",
      "Collecting:   0%|          | 0/8 [00:00<?, ? Timesteps/s]"
     ]
    },
    {
     "name": "stderr",
     "output_type": "stream",
     "text": [
      "\r",
      "Collecting:  38%|███▊      | 3/8 [00:00<00:00, 26.14 Timesteps/s]"
     ]
    },
    {
     "name": "stderr",
     "output_type": "stream",
     "text": [
      "\r",
      "Collecting:  88%|████████▊ | 7/8 [00:00<00:00, 30.79 Timesteps/s]"
     ]
    },
    {
     "name": "stderr",
     "output_type": "stream",
     "text": [
      "\r",
      "Collecting: 100%|██████████| 8/8 [00:00<00:00, 29.50 Timesteps/s]"
     ]
    },
    {
     "name": "stderr",
     "output_type": "stream",
     "text": [
      "\n"
     ]
    },
    {
     "name": "stderr",
     "output_type": "stream",
     "text": [
      "\r",
      "Collecting:   0%|          | 0/8 [00:00<?, ? Timesteps/s]"
     ]
    },
    {
     "name": "stderr",
     "output_type": "stream",
     "text": [
      "\r",
      "Collecting:  38%|███▊      | 3/8 [00:00<00:00, 26.11 Timesteps/s]"
     ]
    },
    {
     "name": "stderr",
     "output_type": "stream",
     "text": [
      "\r",
      "Collecting:  88%|████████▊ | 7/8 [00:00<00:00, 24.46 Timesteps/s]"
     ]
    },
    {
     "name": "stderr",
     "output_type": "stream",
     "text": [
      "\r",
      "Collecting: 100%|██████████| 8/8 [00:00<00:00, 24.91 Timesteps/s]"
     ]
    },
    {
     "name": "stderr",
     "output_type": "stream",
     "text": [
      "\n"
     ]
    },
    {
     "name": "stderr",
     "output_type": "stream",
     "text": [
      "\r",
      "Collecting:   0%|          | 0/8 [00:00<?, ? Timesteps/s]"
     ]
    },
    {
     "name": "stderr",
     "output_type": "stream",
     "text": [
      "\r",
      "Collecting:  38%|███▊      | 3/8 [00:00<00:00, 26.75 Timesteps/s]"
     ]
    },
    {
     "name": "stderr",
     "output_type": "stream",
     "text": [
      "\r",
      "Collecting:  88%|████████▊ | 7/8 [00:00<00:00, 31.84 Timesteps/s]"
     ]
    },
    {
     "name": "stderr",
     "output_type": "stream",
     "text": [
      "\r",
      "Collecting: 100%|██████████| 8/8 [00:00<00:00, 30.52 Timesteps/s]"
     ]
    },
    {
     "name": "stderr",
     "output_type": "stream",
     "text": [
      "\n"
     ]
    },
    {
     "name": "stderr",
     "output_type": "stream",
     "text": [
      "\r",
      "Collecting:   0%|          | 0/8 [00:00<?, ? Timesteps/s]"
     ]
    },
    {
     "name": "stderr",
     "output_type": "stream",
     "text": [
      "\r",
      "Collecting:  25%|██▌       | 2/8 [00:00<00:00, 18.65 Timesteps/s]"
     ]
    },
    {
     "name": "stderr",
     "output_type": "stream",
     "text": [
      "\r",
      "Collecting:  62%|██████▎   | 5/8 [00:00<00:00, 20.66 Timesteps/s]"
     ]
    },
    {
     "name": "stderr",
     "output_type": "stream",
     "text": [
      "\r",
      "Collecting: 100%|██████████| 8/8 [00:00<00:00, 24.96 Timesteps/s]"
     ]
    },
    {
     "name": "stderr",
     "output_type": "stream",
     "text": [
      "\n"
     ]
    },
    {
     "name": "stderr",
     "output_type": "stream",
     "text": [
      "\r",
      "Collecting:   0%|          | 0/8 [00:00<?, ? Timesteps/s]"
     ]
    },
    {
     "name": "stderr",
     "output_type": "stream",
     "text": [
      "\r",
      "Collecting:  38%|███▊      | 3/8 [00:00<00:00, 21.16 Timesteps/s]"
     ]
    },
    {
     "name": "stderr",
     "output_type": "stream",
     "text": [
      "\r",
      "Collecting:  75%|███████▌  | 6/8 [00:00<00:00, 21.55 Timesteps/s]"
     ]
    },
    {
     "name": "stderr",
     "output_type": "stream",
     "text": [
      "\r",
      "Collecting: 100%|██████████| 8/8 [00:00<00:00, 19.13 Timesteps/s]"
     ]
    },
    {
     "name": "stderr",
     "output_type": "stream",
     "text": [
      "\n"
     ]
    },
    {
     "name": "stderr",
     "output_type": "stream",
     "text": [
      "\r",
      "Collecting:   0%|          | 0/8 [00:00<?, ? Timesteps/s]"
     ]
    },
    {
     "name": "stderr",
     "output_type": "stream",
     "text": [
      "\r",
      "Collecting:  38%|███▊      | 3/8 [00:00<00:00, 26.76 Timesteps/s]"
     ]
    },
    {
     "name": "stderr",
     "output_type": "stream",
     "text": [
      "\r",
      "Collecting:  88%|████████▊ | 7/8 [00:00<00:00, 31.77 Timesteps/s]"
     ]
    },
    {
     "name": "stderr",
     "output_type": "stream",
     "text": [
      "\r",
      "Collecting: 100%|██████████| 8/8 [00:00<00:00, 30.43 Timesteps/s]"
     ]
    },
    {
     "name": "stderr",
     "output_type": "stream",
     "text": [
      "\n"
     ]
    },
    {
     "name": "stderr",
     "output_type": "stream",
     "text": [
      "\r",
      "Collecting:   0%|          | 0/8 [00:00<?, ? Timesteps/s]"
     ]
    },
    {
     "name": "stderr",
     "output_type": "stream",
     "text": [
      "\r",
      "Collecting:  38%|███▊      | 3/8 [00:00<00:00, 23.86 Timesteps/s]"
     ]
    },
    {
     "name": "stderr",
     "output_type": "stream",
     "text": [
      "\r",
      "Collecting:  88%|████████▊ | 7/8 [00:00<00:00, 29.87 Timesteps/s]"
     ]
    },
    {
     "name": "stderr",
     "output_type": "stream",
     "text": [
      "\r",
      "Collecting: 100%|██████████| 8/8 [00:00<00:00, 28.41 Timesteps/s]"
     ]
    },
    {
     "name": "stderr",
     "output_type": "stream",
     "text": [
      "\n"
     ]
    },
    {
     "name": "stderr",
     "output_type": "stream",
     "text": [
      "\r",
      "Collecting:   0%|          | 0/8 [00:00<?, ? Timesteps/s]"
     ]
    },
    {
     "name": "stderr",
     "output_type": "stream",
     "text": [
      "\r",
      "Collecting:  12%|█▎        | 1/8 [00:00<00:01,  6.13 Timesteps/s]"
     ]
    },
    {
     "name": "stderr",
     "output_type": "stream",
     "text": [
      "\r",
      "Collecting:  50%|█████     | 4/8 [00:00<00:00, 16.13 Timesteps/s]"
     ]
    },
    {
     "name": "stderr",
     "output_type": "stream",
     "text": [
      "\r",
      "Collecting: 100%|██████████| 8/8 [00:00<00:00, 24.27 Timesteps/s]"
     ]
    },
    {
     "name": "stderr",
     "output_type": "stream",
     "text": [
      "\r",
      "Collecting: 100%|██████████| 8/8 [00:00<00:00, 20.51 Timesteps/s]"
     ]
    },
    {
     "name": "stderr",
     "output_type": "stream",
     "text": [
      "\n"
     ]
    },
    {
     "name": "stderr",
     "output_type": "stream",
     "text": [
      "\r",
      "Collecting:   0%|          | 0/8 [00:00<?, ? Timesteps/s]"
     ]
    },
    {
     "name": "stderr",
     "output_type": "stream",
     "text": [
      "\r",
      "Collecting:  38%|███▊      | 3/8 [00:00<00:00, 27.13 Timesteps/s]"
     ]
    },
    {
     "name": "stderr",
     "output_type": "stream",
     "text": [
      "\r",
      "Collecting:  88%|████████▊ | 7/8 [00:00<00:00, 31.81 Timesteps/s]"
     ]
    },
    {
     "name": "stderr",
     "output_type": "stream",
     "text": [
      "\r",
      "Collecting: 100%|██████████| 8/8 [00:00<00:00, 30.44 Timesteps/s]"
     ]
    },
    {
     "name": "stderr",
     "output_type": "stream",
     "text": [
      "\n"
     ]
    },
    {
     "name": "stderr",
     "output_type": "stream",
     "text": [
      "\r",
      "Collecting:   0%|          | 0/8 [00:00<?, ? Timesteps/s]"
     ]
    },
    {
     "name": "stderr",
     "output_type": "stream",
     "text": [
      "\r",
      "Collecting:  38%|███▊      | 3/8 [00:00<00:00, 26.75 Timesteps/s]"
     ]
    },
    {
     "name": "stderr",
     "output_type": "stream",
     "text": [
      "\r",
      "Collecting:  88%|████████▊ | 7/8 [00:00<00:00, 31.60 Timesteps/s]"
     ]
    },
    {
     "name": "stderr",
     "output_type": "stream",
     "text": [
      "\r",
      "Collecting: 100%|██████████| 8/8 [00:00<00:00, 26.69 Timesteps/s]"
     ]
    },
    {
     "name": "stderr",
     "output_type": "stream",
     "text": [
      "\n"
     ]
    },
    {
     "name": "stderr",
     "output_type": "stream",
     "text": [
      "\r",
      "Collecting:   0%|          | 0/8 [00:00<?, ? Timesteps/s]"
     ]
    },
    {
     "name": "stderr",
     "output_type": "stream",
     "text": [
      "\r",
      "Collecting:  50%|█████     | 4/8 [00:00<00:00, 34.31 Timesteps/s]"
     ]
    },
    {
     "name": "stderr",
     "output_type": "stream",
     "text": [
      "\r",
      "Collecting: 100%|██████████| 8/8 [00:00<00:00, 35.21 Timesteps/s]"
     ]
    },
    {
     "name": "stderr",
     "output_type": "stream",
     "text": [
      "\r",
      "Collecting: 100%|██████████| 8/8 [00:00<00:00, 34.93 Timesteps/s]"
     ]
    },
    {
     "name": "stderr",
     "output_type": "stream",
     "text": [
      "\n"
     ]
    }
   ],
   "source": [
    "vol.to_netcdf(\"test_netcdf.nc\", timestep=slice(None, None))"
   ]
  },
  {
   "cell_type": "code",
   "execution_count": 56,
   "metadata": {
    "execution": {
     "iopub.execute_input": "2023-02-24T14:39:21.491970Z",
     "iopub.status.busy": "2023-02-24T14:39:21.491651Z",
     "iopub.status.idle": "2023-02-24T14:39:21.548711Z",
     "shell.execute_reply": "2023-02-24T14:39:21.548161Z"
    }
   },
   "outputs": [],
   "source": [
    "vol3 = xr.open_dataset(\"test_netcdf.nc\", group=\"sweep_0\")"
   ]
  },
  {
   "cell_type": "code",
   "execution_count": 57,
   "metadata": {
    "execution": {
     "iopub.execute_input": "2023-02-24T14:39:21.551384Z",
     "iopub.status.busy": "2023-02-24T14:39:21.551181Z",
     "iopub.status.idle": "2023-02-24T14:39:21.575716Z",
     "shell.execute_reply": "2023-02-24T14:39:21.575176Z"
    }
   },
   "outputs": [
    {
     "data": {
      "text/html": [
       "<div><svg style=\"position: absolute; width: 0; height: 0; overflow: hidden\">\n",
       "<defs>\n",
       "<symbol id=\"icon-database\" viewBox=\"0 0 32 32\">\n",
       "<path d=\"M16 0c-8.837 0-16 2.239-16 5v4c0 2.761 7.163 5 16 5s16-2.239 16-5v-4c0-2.761-7.163-5-16-5z\"></path>\n",
       "<path d=\"M16 17c-8.837 0-16-2.239-16-5v6c0 2.761 7.163 5 16 5s16-2.239 16-5v-6c0 2.761-7.163 5-16 5z\"></path>\n",
       "<path d=\"M16 26c-8.837 0-16-2.239-16-5v6c0 2.761 7.163 5 16 5s16-2.239 16-5v-6c0 2.761-7.163 5-16 5z\"></path>\n",
       "</symbol>\n",
       "<symbol id=\"icon-file-text2\" viewBox=\"0 0 32 32\">\n",
       "<path d=\"M28.681 7.159c-0.694-0.947-1.662-2.053-2.724-3.116s-2.169-2.030-3.116-2.724c-1.612-1.182-2.393-1.319-2.841-1.319h-15.5c-1.378 0-2.5 1.121-2.5 2.5v27c0 1.378 1.122 2.5 2.5 2.5h23c1.378 0 2.5-1.122 2.5-2.5v-19.5c0-0.448-0.137-1.23-1.319-2.841zM24.543 5.457c0.959 0.959 1.712 1.825 2.268 2.543h-4.811v-4.811c0.718 0.556 1.584 1.309 2.543 2.268zM28 29.5c0 0.271-0.229 0.5-0.5 0.5h-23c-0.271 0-0.5-0.229-0.5-0.5v-27c0-0.271 0.229-0.5 0.5-0.5 0 0 15.499-0 15.5 0v7c0 0.552 0.448 1 1 1h7v19.5z\"></path>\n",
       "<path d=\"M23 26h-14c-0.552 0-1-0.448-1-1s0.448-1 1-1h14c0.552 0 1 0.448 1 1s-0.448 1-1 1z\"></path>\n",
       "<path d=\"M23 22h-14c-0.552 0-1-0.448-1-1s0.448-1 1-1h14c0.552 0 1 0.448 1 1s-0.448 1-1 1z\"></path>\n",
       "<path d=\"M23 18h-14c-0.552 0-1-0.448-1-1s0.448-1 1-1h14c0.552 0 1 0.448 1 1s-0.448 1-1 1z\"></path>\n",
       "</symbol>\n",
       "</defs>\n",
       "</svg>\n",
       "<style>/* CSS stylesheet for displaying xarray objects in jupyterlab.\n",
       " *\n",
       " */\n",
       "\n",
       ":root {\n",
       "  --xr-font-color0: var(--jp-content-font-color0, rgba(0, 0, 0, 1));\n",
       "  --xr-font-color2: var(--jp-content-font-color2, rgba(0, 0, 0, 0.54));\n",
       "  --xr-font-color3: var(--jp-content-font-color3, rgba(0, 0, 0, 0.38));\n",
       "  --xr-border-color: var(--jp-border-color2, #e0e0e0);\n",
       "  --xr-disabled-color: var(--jp-layout-color3, #bdbdbd);\n",
       "  --xr-background-color: var(--jp-layout-color0, white);\n",
       "  --xr-background-color-row-even: var(--jp-layout-color1, white);\n",
       "  --xr-background-color-row-odd: var(--jp-layout-color2, #eeeeee);\n",
       "}\n",
       "\n",
       "html[theme=dark],\n",
       "body[data-theme=dark],\n",
       "body.vscode-dark {\n",
       "  --xr-font-color0: rgba(255, 255, 255, 1);\n",
       "  --xr-font-color2: rgba(255, 255, 255, 0.54);\n",
       "  --xr-font-color3: rgba(255, 255, 255, 0.38);\n",
       "  --xr-border-color: #1F1F1F;\n",
       "  --xr-disabled-color: #515151;\n",
       "  --xr-background-color: #111111;\n",
       "  --xr-background-color-row-even: #111111;\n",
       "  --xr-background-color-row-odd: #313131;\n",
       "}\n",
       "\n",
       ".xr-wrap {\n",
       "  display: block !important;\n",
       "  min-width: 300px;\n",
       "  max-width: 700px;\n",
       "}\n",
       "\n",
       ".xr-text-repr-fallback {\n",
       "  /* fallback to plain text repr when CSS is not injected (untrusted notebook) */\n",
       "  display: none;\n",
       "}\n",
       "\n",
       ".xr-header {\n",
       "  padding-top: 6px;\n",
       "  padding-bottom: 6px;\n",
       "  margin-bottom: 4px;\n",
       "  border-bottom: solid 1px var(--xr-border-color);\n",
       "}\n",
       "\n",
       ".xr-header > div,\n",
       ".xr-header > ul {\n",
       "  display: inline;\n",
       "  margin-top: 0;\n",
       "  margin-bottom: 0;\n",
       "}\n",
       "\n",
       ".xr-obj-type,\n",
       ".xr-array-name {\n",
       "  margin-left: 2px;\n",
       "  margin-right: 10px;\n",
       "}\n",
       "\n",
       ".xr-obj-type {\n",
       "  color: var(--xr-font-color2);\n",
       "}\n",
       "\n",
       ".xr-sections {\n",
       "  padding-left: 0 !important;\n",
       "  display: grid;\n",
       "  grid-template-columns: 150px auto auto 1fr 20px 20px;\n",
       "}\n",
       "\n",
       ".xr-section-item {\n",
       "  display: contents;\n",
       "}\n",
       "\n",
       ".xr-section-item input {\n",
       "  display: none;\n",
       "}\n",
       "\n",
       ".xr-section-item input + label {\n",
       "  color: var(--xr-disabled-color);\n",
       "}\n",
       "\n",
       ".xr-section-item input:enabled + label {\n",
       "  cursor: pointer;\n",
       "  color: var(--xr-font-color2);\n",
       "}\n",
       "\n",
       ".xr-section-item input:enabled + label:hover {\n",
       "  color: var(--xr-font-color0);\n",
       "}\n",
       "\n",
       ".xr-section-summary {\n",
       "  grid-column: 1;\n",
       "  color: var(--xr-font-color2);\n",
       "  font-weight: 500;\n",
       "}\n",
       "\n",
       ".xr-section-summary > span {\n",
       "  display: inline-block;\n",
       "  padding-left: 0.5em;\n",
       "}\n",
       "\n",
       ".xr-section-summary-in:disabled + label {\n",
       "  color: var(--xr-font-color2);\n",
       "}\n",
       "\n",
       ".xr-section-summary-in + label:before {\n",
       "  display: inline-block;\n",
       "  content: '►';\n",
       "  font-size: 11px;\n",
       "  width: 15px;\n",
       "  text-align: center;\n",
       "}\n",
       "\n",
       ".xr-section-summary-in:disabled + label:before {\n",
       "  color: var(--xr-disabled-color);\n",
       "}\n",
       "\n",
       ".xr-section-summary-in:checked + label:before {\n",
       "  content: '▼';\n",
       "}\n",
       "\n",
       ".xr-section-summary-in:checked + label > span {\n",
       "  display: none;\n",
       "}\n",
       "\n",
       ".xr-section-summary,\n",
       ".xr-section-inline-details {\n",
       "  padding-top: 4px;\n",
       "  padding-bottom: 4px;\n",
       "}\n",
       "\n",
       ".xr-section-inline-details {\n",
       "  grid-column: 2 / -1;\n",
       "}\n",
       "\n",
       ".xr-section-details {\n",
       "  display: none;\n",
       "  grid-column: 1 / -1;\n",
       "  margin-bottom: 5px;\n",
       "}\n",
       "\n",
       ".xr-section-summary-in:checked ~ .xr-section-details {\n",
       "  display: contents;\n",
       "}\n",
       "\n",
       ".xr-array-wrap {\n",
       "  grid-column: 1 / -1;\n",
       "  display: grid;\n",
       "  grid-template-columns: 20px auto;\n",
       "}\n",
       "\n",
       ".xr-array-wrap > label {\n",
       "  grid-column: 1;\n",
       "  vertical-align: top;\n",
       "}\n",
       "\n",
       ".xr-preview {\n",
       "  color: var(--xr-font-color3);\n",
       "}\n",
       "\n",
       ".xr-array-preview,\n",
       ".xr-array-data {\n",
       "  padding: 0 5px !important;\n",
       "  grid-column: 2;\n",
       "}\n",
       "\n",
       ".xr-array-data,\n",
       ".xr-array-in:checked ~ .xr-array-preview {\n",
       "  display: none;\n",
       "}\n",
       "\n",
       ".xr-array-in:checked ~ .xr-array-data,\n",
       ".xr-array-preview {\n",
       "  display: inline-block;\n",
       "}\n",
       "\n",
       ".xr-dim-list {\n",
       "  display: inline-block !important;\n",
       "  list-style: none;\n",
       "  padding: 0 !important;\n",
       "  margin: 0;\n",
       "}\n",
       "\n",
       ".xr-dim-list li {\n",
       "  display: inline-block;\n",
       "  padding: 0;\n",
       "  margin: 0;\n",
       "}\n",
       "\n",
       ".xr-dim-list:before {\n",
       "  content: '(';\n",
       "}\n",
       "\n",
       ".xr-dim-list:after {\n",
       "  content: ')';\n",
       "}\n",
       "\n",
       ".xr-dim-list li:not(:last-child):after {\n",
       "  content: ',';\n",
       "  padding-right: 5px;\n",
       "}\n",
       "\n",
       ".xr-has-index {\n",
       "  font-weight: bold;\n",
       "}\n",
       "\n",
       ".xr-var-list,\n",
       ".xr-var-item {\n",
       "  display: contents;\n",
       "}\n",
       "\n",
       ".xr-var-item > div,\n",
       ".xr-var-item label,\n",
       ".xr-var-item > .xr-var-name span {\n",
       "  background-color: var(--xr-background-color-row-even);\n",
       "  margin-bottom: 0;\n",
       "}\n",
       "\n",
       ".xr-var-item > .xr-var-name:hover span {\n",
       "  padding-right: 5px;\n",
       "}\n",
       "\n",
       ".xr-var-list > li:nth-child(odd) > div,\n",
       ".xr-var-list > li:nth-child(odd) > label,\n",
       ".xr-var-list > li:nth-child(odd) > .xr-var-name span {\n",
       "  background-color: var(--xr-background-color-row-odd);\n",
       "}\n",
       "\n",
       ".xr-var-name {\n",
       "  grid-column: 1;\n",
       "}\n",
       "\n",
       ".xr-var-dims {\n",
       "  grid-column: 2;\n",
       "}\n",
       "\n",
       ".xr-var-dtype {\n",
       "  grid-column: 3;\n",
       "  text-align: right;\n",
       "  color: var(--xr-font-color2);\n",
       "}\n",
       "\n",
       ".xr-var-preview {\n",
       "  grid-column: 4;\n",
       "}\n",
       "\n",
       ".xr-index-preview {\n",
       "  grid-column: 2 / 5;\n",
       "  color: var(--xr-font-color2);\n",
       "}\n",
       "\n",
       ".xr-var-name,\n",
       ".xr-var-dims,\n",
       ".xr-var-dtype,\n",
       ".xr-preview,\n",
       ".xr-attrs dt {\n",
       "  white-space: nowrap;\n",
       "  overflow: hidden;\n",
       "  text-overflow: ellipsis;\n",
       "  padding-right: 10px;\n",
       "}\n",
       "\n",
       ".xr-var-name:hover,\n",
       ".xr-var-dims:hover,\n",
       ".xr-var-dtype:hover,\n",
       ".xr-attrs dt:hover {\n",
       "  overflow: visible;\n",
       "  width: auto;\n",
       "  z-index: 1;\n",
       "}\n",
       "\n",
       ".xr-var-attrs,\n",
       ".xr-var-data,\n",
       ".xr-index-data {\n",
       "  display: none;\n",
       "  background-color: var(--xr-background-color) !important;\n",
       "  padding-bottom: 5px !important;\n",
       "}\n",
       "\n",
       ".xr-var-attrs-in:checked ~ .xr-var-attrs,\n",
       ".xr-var-data-in:checked ~ .xr-var-data,\n",
       ".xr-index-data-in:checked ~ .xr-index-data {\n",
       "  display: block;\n",
       "}\n",
       "\n",
       ".xr-var-data > table {\n",
       "  float: right;\n",
       "}\n",
       "\n",
       ".xr-var-name span,\n",
       ".xr-var-data,\n",
       ".xr-index-name div,\n",
       ".xr-index-data,\n",
       ".xr-attrs {\n",
       "  padding-left: 25px !important;\n",
       "}\n",
       "\n",
       ".xr-attrs,\n",
       ".xr-var-attrs,\n",
       ".xr-var-data,\n",
       ".xr-index-data {\n",
       "  grid-column: 1 / -1;\n",
       "}\n",
       "\n",
       "dl.xr-attrs {\n",
       "  padding: 0;\n",
       "  margin: 0;\n",
       "  display: grid;\n",
       "  grid-template-columns: 125px auto;\n",
       "}\n",
       "\n",
       ".xr-attrs dt,\n",
       ".xr-attrs dd {\n",
       "  padding: 0;\n",
       "  margin: 0;\n",
       "  float: left;\n",
       "  padding-right: 10px;\n",
       "  width: auto;\n",
       "}\n",
       "\n",
       ".xr-attrs dt {\n",
       "  font-weight: normal;\n",
       "  grid-column: 1;\n",
       "}\n",
       "\n",
       ".xr-attrs dt:hover span {\n",
       "  display: inline-block;\n",
       "  background: var(--xr-background-color);\n",
       "  padding-right: 10px;\n",
       "}\n",
       "\n",
       ".xr-attrs dd {\n",
       "  grid-column: 2;\n",
       "  white-space: pre-wrap;\n",
       "  word-break: break-all;\n",
       "}\n",
       "\n",
       ".xr-icon-database,\n",
       ".xr-icon-file-text2,\n",
       ".xr-no-icon {\n",
       "  display: inline-block;\n",
       "  vertical-align: middle;\n",
       "  width: 1em;\n",
       "  height: 1.5em !important;\n",
       "  stroke-width: 0;\n",
       "  stroke: currentColor;\n",
       "  fill: currentColor;\n",
       "}\n",
       "</style><pre class='xr-text-repr-fallback'>&lt;xarray.Dataset&gt;\n",
       "Dimensions:     (time: 8, azimuth: 360, range: 800)\n",
       "Coordinates:\n",
       "  * time        (time) datetime64[ns] 2020-02-07T13:00:05 ... 2020-02-07T13:3...\n",
       "    rtime       (time, azimuth) datetime64[ns] ...\n",
       "    elevation   (azimuth) float32 ...\n",
       "  * azimuth     (azimuth) float32 0.5 1.5 2.5 3.5 ... 356.5 357.5 358.5 359.5\n",
       "  * range       (range) float32 125.0 375.0 625.0 ... 1.996e+05 1.999e+05\n",
       "    sweep_mode  object ...\n",
       "    latitude    float64 ...\n",
       "    longitude   float64 ...\n",
       "    altitude    float64 ...\n",
       "Data variables:\n",
       "    DBZH        (time, azimuth, range) float32 ...\n",
       "    RHOHV       (time, azimuth, range) float32 ...\n",
       "    VRAD        (time, azimuth, range) float32 ...\n",
       "    WRAD        (time, azimuth, range) float32 ...</pre><div class='xr-wrap' style='display:none'><div class='xr-header'><div class='xr-obj-type'>xarray.Dataset</div></div><ul class='xr-sections'><li class='xr-section-item'><input id='section-a960151c-00b0-4a81-b110-5e9ca43acbdf' class='xr-section-summary-in' type='checkbox' disabled ><label for='section-a960151c-00b0-4a81-b110-5e9ca43acbdf' class='xr-section-summary'  title='Expand/collapse section'>Dimensions:</label><div class='xr-section-inline-details'><ul class='xr-dim-list'><li><span class='xr-has-index'>time</span>: 8</li><li><span class='xr-has-index'>azimuth</span>: 360</li><li><span class='xr-has-index'>range</span>: 800</li></ul></div><div class='xr-section-details'></div></li><li class='xr-section-item'><input id='section-478a3782-0c43-42f9-9bce-3f0c35c5b48f' class='xr-section-summary-in' type='checkbox'  checked><label for='section-478a3782-0c43-42f9-9bce-3f0c35c5b48f' class='xr-section-summary' >Coordinates: <span>(9)</span></label><div class='xr-section-inline-details'></div><div class='xr-section-details'><ul class='xr-var-list'><li class='xr-var-item'><div class='xr-var-name'><span class='xr-has-index'>time</span></div><div class='xr-var-dims'>(time)</div><div class='xr-var-dtype'>datetime64[ns]</div><div class='xr-var-preview xr-preview'>2020-02-07T13:00:05 ... 2020-02-...</div><input id='attrs-550b5bbe-1936-4207-8632-23b2999e63c9' class='xr-var-attrs-in' type='checkbox' ><label for='attrs-550b5bbe-1936-4207-8632-23b2999e63c9' title='Show/Hide attributes'><svg class='icon xr-icon-file-text2'><use xlink:href='#icon-file-text2'></use></svg></label><input id='data-f3b28560-0256-4ae6-b0d5-dec430ee33ad' class='xr-var-data-in' type='checkbox'><label for='data-f3b28560-0256-4ae6-b0d5-dec430ee33ad' title='Show/Hide data repr'><svg class='icon xr-icon-database'><use xlink:href='#icon-database'></use></svg></label><div class='xr-var-attrs'><dl class='xr-attrs'><dt><span>standard_name :</span></dt><dd>time</dd></dl></div><div class='xr-var-data'><pre>array([&#x27;2020-02-07T13:00:05.000000000&#x27;, &#x27;2020-02-07T13:05:04.000000000&#x27;,\n",
       "       &#x27;2020-02-07T13:10:04.000000000&#x27;, &#x27;2020-02-07T13:15:04.000000000&#x27;,\n",
       "       &#x27;2020-02-07T13:20:04.000000000&#x27;, &#x27;2020-02-07T13:25:04.000000000&#x27;,\n",
       "       &#x27;2020-02-07T13:30:04.000000000&#x27;, &#x27;2020-02-07T13:35:04.000000000&#x27;],\n",
       "      dtype=&#x27;datetime64[ns]&#x27;)</pre></div></li><li class='xr-var-item'><div class='xr-var-name'><span>rtime</span></div><div class='xr-var-dims'>(time, azimuth)</div><div class='xr-var-dtype'>datetime64[ns]</div><div class='xr-var-preview xr-preview'>...</div><input id='attrs-78ed0cba-8f83-4031-a321-426bb0ccf260' class='xr-var-attrs-in' type='checkbox' ><label for='attrs-78ed0cba-8f83-4031-a321-426bb0ccf260' title='Show/Hide attributes'><svg class='icon xr-icon-file-text2'><use xlink:href='#icon-file-text2'></use></svg></label><input id='data-d27105bd-eada-4957-aac1-81d43a16e7a4' class='xr-var-data-in' type='checkbox'><label for='data-d27105bd-eada-4957-aac1-81d43a16e7a4' title='Show/Hide data repr'><svg class='icon xr-icon-database'><use xlink:href='#icon-database'></use></svg></label><div class='xr-var-attrs'><dl class='xr-attrs'><dt><span>standard_name :</span></dt><dd>time</dd></dl></div><div class='xr-var-data'><pre>[2880 values with dtype=datetime64[ns]]</pre></div></li><li class='xr-var-item'><div class='xr-var-name'><span>elevation</span></div><div class='xr-var-dims'>(azimuth)</div><div class='xr-var-dtype'>float32</div><div class='xr-var-preview xr-preview'>...</div><input id='attrs-9e406714-9254-4d21-ba47-ee86b2f4ad98' class='xr-var-attrs-in' type='checkbox' ><label for='attrs-9e406714-9254-4d21-ba47-ee86b2f4ad98' title='Show/Hide attributes'><svg class='icon xr-icon-file-text2'><use xlink:href='#icon-file-text2'></use></svg></label><input id='data-01399f76-78de-4823-8daa-1012c56d209f' class='xr-var-data-in' type='checkbox'><label for='data-01399f76-78de-4823-8daa-1012c56d209f' title='Show/Hide data repr'><svg class='icon xr-icon-database'><use xlink:href='#icon-database'></use></svg></label><div class='xr-var-attrs'><dl class='xr-attrs'><dt><span>standard_name :</span></dt><dd>ray_elevation_angle</dd><dt><span>long_name :</span></dt><dd>elevation_angle_from_horizontal_plane</dd><dt><span>units :</span></dt><dd>degrees</dd><dt><span>axis :</span></dt><dd>radial_elevation_coordinate</dd></dl></div><div class='xr-var-data'><pre>[360 values with dtype=float32]</pre></div></li><li class='xr-var-item'><div class='xr-var-name'><span class='xr-has-index'>azimuth</span></div><div class='xr-var-dims'>(azimuth)</div><div class='xr-var-dtype'>float32</div><div class='xr-var-preview xr-preview'>0.5 1.5 2.5 ... 357.5 358.5 359.5</div><input id='attrs-37618184-4552-4103-8200-7576654acab4' class='xr-var-attrs-in' type='checkbox' ><label for='attrs-37618184-4552-4103-8200-7576654acab4' title='Show/Hide attributes'><svg class='icon xr-icon-file-text2'><use xlink:href='#icon-file-text2'></use></svg></label><input id='data-a461f24b-62cc-42a0-92a7-7e54c8b2f39a' class='xr-var-data-in' type='checkbox'><label for='data-a461f24b-62cc-42a0-92a7-7e54c8b2f39a' title='Show/Hide data repr'><svg class='icon xr-icon-database'><use xlink:href='#icon-database'></use></svg></label><div class='xr-var-attrs'><dl class='xr-attrs'><dt><span>standard_name :</span></dt><dd>ray_azimuth_angle</dd><dt><span>long_name :</span></dt><dd>azimuth_angle_from_true_north</dd><dt><span>units :</span></dt><dd>degrees</dd><dt><span>axis :</span></dt><dd>radial_azimuth_coordinate</dd></dl></div><div class='xr-var-data'><pre>array([  0.5,   1.5,   2.5, ..., 357.5, 358.5, 359.5], dtype=float32)</pre></div></li><li class='xr-var-item'><div class='xr-var-name'><span class='xr-has-index'>range</span></div><div class='xr-var-dims'>(range)</div><div class='xr-var-dtype'>float32</div><div class='xr-var-preview xr-preview'>125.0 375.0 ... 1.996e+05 1.999e+05</div><input id='attrs-954c3618-1aa2-4a71-93df-cd7f85409e4d' class='xr-var-attrs-in' type='checkbox' ><label for='attrs-954c3618-1aa2-4a71-93df-cd7f85409e4d' title='Show/Hide attributes'><svg class='icon xr-icon-file-text2'><use xlink:href='#icon-file-text2'></use></svg></label><input id='data-6bc5f331-e1d2-45e4-9406-26f531e2adaa' class='xr-var-data-in' type='checkbox'><label for='data-6bc5f331-e1d2-45e4-9406-26f531e2adaa' title='Show/Hide data repr'><svg class='icon xr-icon-database'><use xlink:href='#icon-database'></use></svg></label><div class='xr-var-attrs'><dl class='xr-attrs'><dt><span>units :</span></dt><dd>meters</dd><dt><span>standard_name :</span></dt><dd>projection_range_coordinate</dd><dt><span>long_name :</span></dt><dd>range_to_measurement_volume</dd><dt><span>axis :</span></dt><dd>radial_range_coordinate</dd><dt><span>meters_between_gates :</span></dt><dd>250.0</dd><dt><span>spacing_is_constant :</span></dt><dd>true</dd><dt><span>meters_to_center_of_first_gate :</span></dt><dd>125.0</dd></dl></div><div class='xr-var-data'><pre>array([1.25000e+02, 3.75000e+02, 6.25000e+02, ..., 1.99375e+05, 1.99625e+05,\n",
       "       1.99875e+05], dtype=float32)</pre></div></li><li class='xr-var-item'><div class='xr-var-name'><span>sweep_mode</span></div><div class='xr-var-dims'>()</div><div class='xr-var-dtype'>object</div><div class='xr-var-preview xr-preview'>...</div><input id='attrs-a5439435-8047-48d9-ab24-1c84b6348f88' class='xr-var-attrs-in' type='checkbox' disabled><label for='attrs-a5439435-8047-48d9-ab24-1c84b6348f88' title='Show/Hide attributes'><svg class='icon xr-icon-file-text2'><use xlink:href='#icon-file-text2'></use></svg></label><input id='data-e07b4271-c8df-4b1b-8de2-c877580c9089' class='xr-var-data-in' type='checkbox'><label for='data-e07b4271-c8df-4b1b-8de2-c877580c9089' title='Show/Hide data repr'><svg class='icon xr-icon-database'><use xlink:href='#icon-database'></use></svg></label><div class='xr-var-attrs'><dl class='xr-attrs'></dl></div><div class='xr-var-data'><pre>[1 values with dtype=object]</pre></div></li><li class='xr-var-item'><div class='xr-var-name'><span>latitude</span></div><div class='xr-var-dims'>()</div><div class='xr-var-dtype'>float64</div><div class='xr-var-preview xr-preview'>...</div><input id='attrs-6b9a278b-cc53-459b-ae68-df0b0ac2f033' class='xr-var-attrs-in' type='checkbox' disabled><label for='attrs-6b9a278b-cc53-459b-ae68-df0b0ac2f033' title='Show/Hide attributes'><svg class='icon xr-icon-file-text2'><use xlink:href='#icon-file-text2'></use></svg></label><input id='data-d531a907-b9e7-466a-b6b9-6a1fced2be81' class='xr-var-data-in' type='checkbox'><label for='data-d531a907-b9e7-466a-b6b9-6a1fced2be81' title='Show/Hide data repr'><svg class='icon xr-icon-database'><use xlink:href='#icon-database'></use></svg></label><div class='xr-var-attrs'><dl class='xr-attrs'></dl></div><div class='xr-var-data'><pre>[1 values with dtype=float64]</pre></div></li><li class='xr-var-item'><div class='xr-var-name'><span>longitude</span></div><div class='xr-var-dims'>()</div><div class='xr-var-dtype'>float64</div><div class='xr-var-preview xr-preview'>...</div><input id='attrs-a1966b2f-7575-4039-9e23-597dfae7c1a9' class='xr-var-attrs-in' type='checkbox' disabled><label for='attrs-a1966b2f-7575-4039-9e23-597dfae7c1a9' title='Show/Hide attributes'><svg class='icon xr-icon-file-text2'><use xlink:href='#icon-file-text2'></use></svg></label><input id='data-02f3cbe7-bcee-4ac4-b596-a32a033dc77a' class='xr-var-data-in' type='checkbox'><label for='data-02f3cbe7-bcee-4ac4-b596-a32a033dc77a' title='Show/Hide data repr'><svg class='icon xr-icon-database'><use xlink:href='#icon-database'></use></svg></label><div class='xr-var-attrs'><dl class='xr-attrs'></dl></div><div class='xr-var-data'><pre>[1 values with dtype=float64]</pre></div></li><li class='xr-var-item'><div class='xr-var-name'><span>altitude</span></div><div class='xr-var-dims'>()</div><div class='xr-var-dtype'>float64</div><div class='xr-var-preview xr-preview'>...</div><input id='attrs-0c42921d-9d2d-4663-bcff-b245ca50f812' class='xr-var-attrs-in' type='checkbox' disabled><label for='attrs-0c42921d-9d2d-4663-bcff-b245ca50f812' title='Show/Hide attributes'><svg class='icon xr-icon-file-text2'><use xlink:href='#icon-file-text2'></use></svg></label><input id='data-93528569-1ad7-4d0a-81e6-4f168e258ade' class='xr-var-data-in' type='checkbox'><label for='data-93528569-1ad7-4d0a-81e6-4f168e258ade' title='Show/Hide data repr'><svg class='icon xr-icon-database'><use xlink:href='#icon-database'></use></svg></label><div class='xr-var-attrs'><dl class='xr-attrs'></dl></div><div class='xr-var-data'><pre>[1 values with dtype=float64]</pre></div></li></ul></div></li><li class='xr-section-item'><input id='section-a04aaf4c-4270-4b01-b4dc-78cfe34422cf' class='xr-section-summary-in' type='checkbox'  checked><label for='section-a04aaf4c-4270-4b01-b4dc-78cfe34422cf' class='xr-section-summary' >Data variables: <span>(4)</span></label><div class='xr-section-inline-details'></div><div class='xr-section-details'><ul class='xr-var-list'><li class='xr-var-item'><div class='xr-var-name'><span>DBZH</span></div><div class='xr-var-dims'>(time, azimuth, range)</div><div class='xr-var-dtype'>float32</div><div class='xr-var-preview xr-preview'>...</div><input id='attrs-5e6ab5ed-82b4-46a7-b69b-a56699da029a' class='xr-var-attrs-in' type='checkbox' ><label for='attrs-5e6ab5ed-82b4-46a7-b69b-a56699da029a' title='Show/Hide attributes'><svg class='icon xr-icon-file-text2'><use xlink:href='#icon-file-text2'></use></svg></label><input id='data-a1f60a2e-b468-496a-82d3-2d4c40997ff2' class='xr-var-data-in' type='checkbox'><label for='data-a1f60a2e-b468-496a-82d3-2d4c40997ff2' title='Show/Hide data repr'><svg class='icon xr-icon-database'><use xlink:href='#icon-database'></use></svg></label><div class='xr-var-attrs'><dl class='xr-attrs'><dt><span>IMAGE_VERSION :</span></dt><dd>1.2</dd><dt><span>_Undetect :</span></dt><dd>0.0</dd><dt><span>units :</span></dt><dd>dBZ</dd><dt><span>long_name :</span></dt><dd>Equivalent reflectivity factor H</dd><dt><span>standard_name :</span></dt><dd>radar_equivalent_reflectivity_factor_h</dd></dl></div><div class='xr-var-data'><pre>[2304000 values with dtype=float32]</pre></div></li><li class='xr-var-item'><div class='xr-var-name'><span>RHOHV</span></div><div class='xr-var-dims'>(time, azimuth, range)</div><div class='xr-var-dtype'>float32</div><div class='xr-var-preview xr-preview'>...</div><input id='attrs-ae45135b-bb01-4f53-9026-8b6f65dd0653' class='xr-var-attrs-in' type='checkbox' ><label for='attrs-ae45135b-bb01-4f53-9026-8b6f65dd0653' title='Show/Hide attributes'><svg class='icon xr-icon-file-text2'><use xlink:href='#icon-file-text2'></use></svg></label><input id='data-097090d3-60b7-46d2-b668-e54ecaad6bf1' class='xr-var-data-in' type='checkbox'><label for='data-097090d3-60b7-46d2-b668-e54ecaad6bf1' title='Show/Hide data repr'><svg class='icon xr-icon-database'><use xlink:href='#icon-database'></use></svg></label><div class='xr-var-attrs'><dl class='xr-attrs'><dt><span>IMAGE_VERSION :</span></dt><dd>1.2</dd><dt><span>_Undetect :</span></dt><dd>0.0</dd><dt><span>units :</span></dt><dd>unitless</dd><dt><span>long_name :</span></dt><dd>Correlation coefficient HV</dd><dt><span>standard_name :</span></dt><dd>radar_correlation_coefficient_hv</dd></dl></div><div class='xr-var-data'><pre>[2304000 values with dtype=float32]</pre></div></li><li class='xr-var-item'><div class='xr-var-name'><span>VRAD</span></div><div class='xr-var-dims'>(time, azimuth, range)</div><div class='xr-var-dtype'>float32</div><div class='xr-var-preview xr-preview'>...</div><input id='attrs-455dc5c7-fa5e-4b60-8403-4dbd136da69e' class='xr-var-attrs-in' type='checkbox' ><label for='attrs-455dc5c7-fa5e-4b60-8403-4dbd136da69e' title='Show/Hide attributes'><svg class='icon xr-icon-file-text2'><use xlink:href='#icon-file-text2'></use></svg></label><input id='data-f196f321-2a2c-4a94-ab3d-cbbb3a874580' class='xr-var-data-in' type='checkbox'><label for='data-f196f321-2a2c-4a94-ab3d-cbbb3a874580' title='Show/Hide data repr'><svg class='icon xr-icon-database'><use xlink:href='#icon-database'></use></svg></label><div class='xr-var-attrs'><dl class='xr-attrs'><dt><span>IMAGE_VERSION :</span></dt><dd>1.2</dd><dt><span>_Undetect :</span></dt><dd>0.0</dd><dt><span>units :</span></dt><dd>meters per seconds</dd><dt><span>long_name :</span></dt><dd>Radial velocity of scatterers away from instrument</dd><dt><span>standard_name :</span></dt><dd>radial_velocity_of_scatterers_away_from_instrument</dd></dl></div><div class='xr-var-data'><pre>[2304000 values with dtype=float32]</pre></div></li><li class='xr-var-item'><div class='xr-var-name'><span>WRAD</span></div><div class='xr-var-dims'>(time, azimuth, range)</div><div class='xr-var-dtype'>float32</div><div class='xr-var-preview xr-preview'>...</div><input id='attrs-60407940-b88f-44e6-a338-2f302b5013af' class='xr-var-attrs-in' type='checkbox' ><label for='attrs-60407940-b88f-44e6-a338-2f302b5013af' title='Show/Hide attributes'><svg class='icon xr-icon-file-text2'><use xlink:href='#icon-file-text2'></use></svg></label><input id='data-fad261b1-d7e5-4b6d-8fff-639e3d983afa' class='xr-var-data-in' type='checkbox'><label for='data-fad261b1-d7e5-4b6d-8fff-639e3d983afa' title='Show/Hide data repr'><svg class='icon xr-icon-database'><use xlink:href='#icon-database'></use></svg></label><div class='xr-var-attrs'><dl class='xr-attrs'><dt><span>IMAGE_VERSION :</span></dt><dd>1.2</dd><dt><span>_Undetect :</span></dt><dd>0.0</dd><dt><span>units :</span></dt><dd>meters per second</dd><dt><span>long_name :</span></dt><dd>Doppler spectrum width</dd><dt><span>standard_name :</span></dt><dd>radar_doppler_spectrum_width</dd></dl></div><div class='xr-var-data'><pre>[2304000 values with dtype=float32]</pre></div></li></ul></div></li><li class='xr-section-item'><input id='section-e946b37f-658c-4e96-b051-204232c3e346' class='xr-section-summary-in' type='checkbox'  ><label for='section-e946b37f-658c-4e96-b051-204232c3e346' class='xr-section-summary' >Indexes: <span>(3)</span></label><div class='xr-section-inline-details'></div><div class='xr-section-details'><ul class='xr-var-list'><li class='xr-var-item'><div class='xr-index-name'><div>time</div></div><div class='xr-index-preview'>PandasIndex</div><div></div><input id='index-752b01eb-3267-4d78-b0d3-91b185c68ab3' class='xr-index-data-in' type='checkbox'/><label for='index-752b01eb-3267-4d78-b0d3-91b185c68ab3' title='Show/Hide index repr'><svg class='icon xr-icon-database'><use xlink:href='#icon-database'></use></svg></label><div class='xr-index-data'><pre>PandasIndex(DatetimeIndex([&#x27;2020-02-07 13:00:05&#x27;, &#x27;2020-02-07 13:05:04&#x27;,\n",
       "               &#x27;2020-02-07 13:10:04&#x27;, &#x27;2020-02-07 13:15:04&#x27;,\n",
       "               &#x27;2020-02-07 13:20:04&#x27;, &#x27;2020-02-07 13:25:04&#x27;,\n",
       "               &#x27;2020-02-07 13:30:04&#x27;, &#x27;2020-02-07 13:35:04&#x27;],\n",
       "              dtype=&#x27;datetime64[ns]&#x27;, name=&#x27;time&#x27;, freq=None))</pre></div></li><li class='xr-var-item'><div class='xr-index-name'><div>azimuth</div></div><div class='xr-index-preview'>PandasIndex</div><div></div><input id='index-45e7821d-4b50-4525-af50-77ad9157fc87' class='xr-index-data-in' type='checkbox'/><label for='index-45e7821d-4b50-4525-af50-77ad9157fc87' title='Show/Hide index repr'><svg class='icon xr-icon-database'><use xlink:href='#icon-database'></use></svg></label><div class='xr-index-data'><pre>PandasIndex(Float64Index([  0.5,   1.5,   2.5,   3.5,   4.5,   5.5,   6.5,   7.5,   8.5,\n",
       "                9.5,\n",
       "              ...\n",
       "              350.5, 351.5, 352.5, 353.5, 354.5, 355.5, 356.5, 357.5, 358.5,\n",
       "              359.5],\n",
       "             dtype=&#x27;float64&#x27;, name=&#x27;azimuth&#x27;, length=360))</pre></div></li><li class='xr-var-item'><div class='xr-index-name'><div>range</div></div><div class='xr-index-preview'>PandasIndex</div><div></div><input id='index-a2a24e3d-5dbd-421d-aa3d-376058fad995' class='xr-index-data-in' type='checkbox'/><label for='index-a2a24e3d-5dbd-421d-aa3d-376058fad995' title='Show/Hide index repr'><svg class='icon xr-icon-database'><use xlink:href='#icon-database'></use></svg></label><div class='xr-index-data'><pre>PandasIndex(Float64Index([   125.0,    375.0,    625.0,    875.0,   1125.0,   1375.0,\n",
       "                1625.0,   1875.0,   2125.0,   2375.0,\n",
       "              ...\n",
       "              197625.0, 197875.0, 198125.0, 198375.0, 198625.0, 198875.0,\n",
       "              199125.0, 199375.0, 199625.0, 199875.0],\n",
       "             dtype=&#x27;float64&#x27;, name=&#x27;range&#x27;, length=800))</pre></div></li></ul></div></li><li class='xr-section-item'><input id='section-00cdbb82-ced9-4db3-b4ac-058d020b5d49' class='xr-section-summary-in' type='checkbox' disabled ><label for='section-00cdbb82-ced9-4db3-b4ac-058d020b5d49' class='xr-section-summary'  title='Expand/collapse section'>Attributes: <span>(0)</span></label><div class='xr-section-inline-details'></div><div class='xr-section-details'><dl class='xr-attrs'></dl></div></li></ul></div></div>"
      ],
      "text/plain": [
       "<xarray.Dataset>\n",
       "Dimensions:     (time: 8, azimuth: 360, range: 800)\n",
       "Coordinates:\n",
       "  * time        (time) datetime64[ns] 2020-02-07T13:00:05 ... 2020-02-07T13:3...\n",
       "    rtime       (time, azimuth) datetime64[ns] ...\n",
       "    elevation   (azimuth) float32 ...\n",
       "  * azimuth     (azimuth) float32 0.5 1.5 2.5 3.5 ... 356.5 357.5 358.5 359.5\n",
       "  * range       (range) float32 125.0 375.0 625.0 ... 1.996e+05 1.999e+05\n",
       "    sweep_mode  object ...\n",
       "    latitude    float64 ...\n",
       "    longitude   float64 ...\n",
       "    altitude    float64 ...\n",
       "Data variables:\n",
       "    DBZH        (time, azimuth, range) float32 ...\n",
       "    RHOHV       (time, azimuth, range) float32 ...\n",
       "    VRAD        (time, azimuth, range) float32 ...\n",
       "    WRAD        (time, azimuth, range) float32 ..."
      ]
     },
     "metadata": {},
     "output_type": "display_data"
    }
   ],
   "source": [
    "display(vol3)"
   ]
  },
  {
   "cell_type": "code",
   "execution_count": 58,
   "metadata": {
    "execution": {
     "iopub.execute_input": "2023-02-24T14:39:21.577906Z",
     "iopub.status.busy": "2023-02-24T14:39:21.577715Z",
     "iopub.status.idle": "2023-02-24T14:39:21.619155Z",
     "shell.execute_reply": "2023-02-24T14:39:21.618656Z"
    }
   },
   "outputs": [],
   "source": [
    "xr.testing.assert_equal(vol[0][5].data, vol3.isel(time=5))"
   ]
  },
  {
   "cell_type": "markdown",
   "metadata": {},
   "source": [
    "## Delete object"
   ]
  },
  {
   "cell_type": "code",
   "execution_count": 59,
   "metadata": {
    "execution": {
     "iopub.execute_input": "2023-02-24T14:39:21.622320Z",
     "iopub.status.busy": "2023-02-24T14:39:21.621398Z",
     "iopub.status.idle": "2023-02-24T14:39:21.636240Z",
     "shell.execute_reply": "2023-02-24T14:39:21.635825Z"
    }
   },
   "outputs": [],
   "source": [
    "del mom\n",
    "del swp\n",
    "del ts\n",
    "del vol\n",
    "del vol1\n",
    "del vol2\n",
    "del vol3"
   ]
  },
  {
   "cell_type": "markdown",
   "metadata": {},
   "source": [
    "## Run Garbage Collection"
   ]
  },
  {
   "cell_type": "code",
   "execution_count": 60,
   "metadata": {
    "execution": {
     "iopub.execute_input": "2023-02-24T14:39:21.639153Z",
     "iopub.status.busy": "2023-02-24T14:39:21.638286Z",
     "iopub.status.idle": "2023-02-24T14:39:21.899868Z",
     "shell.execute_reply": "2023-02-24T14:39:21.899392Z"
    }
   },
   "outputs": [
    {
     "name": "stdout",
     "output_type": "stream",
     "text": [
      "35029\n",
      "Memory freed: 3.29688 MB\n"
     ]
    }
   ],
   "source": [
    "free_memory()"
   ]
  },
  {
   "cell_type": "markdown",
   "metadata": {},
   "source": [
    "## Check Memory"
   ]
  },
  {
   "cell_type": "code",
   "execution_count": 61,
   "metadata": {
    "execution": {
     "iopub.execute_input": "2023-02-24T14:39:21.902434Z",
     "iopub.status.busy": "2023-02-24T14:39:21.902040Z",
     "iopub.status.idle": "2023-02-24T14:39:21.911385Z",
     "shell.execute_reply": "2023-02-24T14:39:21.910962Z"
    }
   },
   "outputs": [
    {
     "name": "stdout",
     "output_type": "stream",
     "text": [
      "Memory: 167.31640625 - 395.125\n",
      "Memory still in use: 227.80859 MB\n"
     ]
    }
   ],
   "source": [
    "mem_end = memory_usage_psutil()\n",
    "print(\"Memory: {} - {}\".format(mem_start, mem_end))\n",
    "print(\"Memory still in use: {0:.5f} MB\".format((mem_end - mem_start)))"
   ]
  },
  {
   "cell_type": "markdown",
   "metadata": {},
   "source": [
    "## Check Open files\n",
    "\n",
    "No open data files!"
   ]
  },
  {
   "cell_type": "code",
   "execution_count": 62,
   "metadata": {
    "execution": {
     "iopub.execute_input": "2023-02-24T14:39:21.914222Z",
     "iopub.status.busy": "2023-02-24T14:39:21.913379Z",
     "iopub.status.idle": "2023-02-24T14:39:21.918495Z",
     "shell.execute_reply": "2023-02-24T14:39:21.917986Z"
    }
   },
   "outputs": [
    {
     "name": "stdout",
     "output_type": "stream",
     "text": [
      "3\n",
      "[popenfile(path='/home/runner/micromamba-root/envs/wradlib-notebooks/share/proj/proj.db', fd=48, position=0, mode='r', flags=688128), popenfile(path='/home/runner/micromamba-root/envs/wradlib-notebooks/lib/python3.11/site-packages/matplotlib/mpl-data/fonts/ttf/DejaVuSans.ttf', fd=82, position=69642, mode='r', flags=557056), popenfile(path='/home/runner/work/wradlib-notebooks/wradlib-notebooks/notebooks/fileio/test_odim.h5', fd=90, position=0, mode='r', flags=32768)]\n"
     ]
    }
   ],
   "source": [
    "check_open_files(True)"
   ]
  }
 ],
 "metadata": {
  "language_info": {
   "codemirror_mode": {
    "name": "ipython",
    "version": 3
   },
   "file_extension": ".py",
   "mimetype": "text/x-python",
   "name": "python",
   "nbconvert_exporter": "python",
   "pygments_lexer": "ipython3",
   "version": "3.11.0"
  }
 },
 "nbformat": 4,
 "nbformat_minor": 4
}
