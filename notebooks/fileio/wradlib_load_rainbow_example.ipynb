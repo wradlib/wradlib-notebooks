{
 "cells": [
  {
   "cell_type": "markdown",
   "metadata": {
    "nbsphinx": "hidden"
   },
   "source": [
    "This notebook is part of the $\\omega radlib$ documentation: https://docs.wradlib.org.\n",
    "\n",
    "Copyright (c) $\\omega radlib$ developers.\n",
    "Distributed under the MIT License. See LICENSE.txt for more info."
   ]
  },
  {
   "cell_type": "markdown",
   "metadata": {},
   "source": [
    "# Load and inspect data from a Rainbow file"
   ]
  },
  {
   "cell_type": "code",
   "execution_count": null,
   "metadata": {},
   "outputs": [],
   "source": [
    "import wradlib as wrl\n",
    "import matplotlib.pyplot as pl\n",
    "import numpy as np\n",
    "import warnings\n",
    "warnings.filterwarnings('ignore')\n",
    "try:\n",
    "    get_ipython().magic(\"matplotlib inline\")\n",
    "except:\n",
    "    pl.ion()"
   ]
  },
  {
   "cell_type": "markdown",
   "metadata": {},
   "source": [
    "#### Load Rainbow file"
   ]
  },
  {
   "cell_type": "code",
   "execution_count": null,
   "metadata": {},
   "outputs": [],
   "source": [
    "filename = wrl.util.get_wradlib_data_file('rainbow/2013070308340000dBuZ.azi')\n",
    "rbdict = wrl.io.read_rainbow(filename)"
   ]
  },
  {
   "cell_type": "markdown",
   "metadata": {},
   "source": [
    "#### Get azimuthal data"
   ]
  },
  {
   "cell_type": "code",
   "execution_count": null,
   "metadata": {},
   "outputs": [],
   "source": [
    "azi = rbdict['volume']['scan']['slice']['slicedata']['rayinfo']['data']\n",
    "azidepth = float(rbdict['volume']['scan']['slice']\n",
    "                 ['slicedata']['rayinfo']['@depth'])\n",
    "azirange = float(rbdict['volume']['scan']['slice']\n",
    "                 ['slicedata']['rayinfo']['@rays'])\n",
    "azires = float(rbdict['volume']['scan']['slice']['anglestep'])\n",
    "azi = (azi * azirange / 2**azidepth) * azires"
   ]
  },
  {
   "cell_type": "markdown",
   "metadata": {},
   "source": [
    "#### Create range array"
   ]
  },
  {
   "cell_type": "code",
   "execution_count": null,
   "metadata": {},
   "outputs": [],
   "source": [
    "stoprange = float(rbdict['volume']['scan']['slice']['stoprange'])\n",
    "rangestep = float(rbdict['volume']['scan']['slice']['rangestep'])\n",
    "r = np.arange(0, stoprange, rangestep)"
   ]
  },
  {
   "cell_type": "markdown",
   "metadata": {},
   "source": [
    "#### Get reflectivity data"
   ]
  },
  {
   "cell_type": "code",
   "execution_count": null,
   "metadata": {},
   "outputs": [],
   "source": [
    "data = rbdict['volume']['scan']['slice']['slicedata']['rawdata']['data']\n",
    "datadepth = float(rbdict['volume']['scan']['slice']\n",
    "                  ['slicedata']['rawdata']['@depth'])\n",
    "datamin = float(rbdict['volume']['scan']['slice']\n",
    "                ['slicedata']['rawdata']['@min'])\n",
    "datamax = float(rbdict['volume']['scan']['slice']\n",
    "                ['slicedata']['rawdata']['@max'])\n",
    "data = datamin + data * (datamax - datamin) / 2 ** datadepth"
   ]
  },
  {
   "cell_type": "markdown",
   "metadata": {},
   "source": [
    "#### Get annotation data"
   ]
  },
  {
   "cell_type": "code",
   "execution_count": null,
   "metadata": {},
   "outputs": [],
   "source": [
    "unit = rbdict['volume']['scan']['slice']['slicedata']['rawdata']['@type']\n",
    "time = rbdict['volume']['scan']['slice']['slicedata']['@time']\n",
    "date = rbdict['volume']['scan']['slice']['slicedata']['@date']\n",
    "lon = rbdict['volume']['sensorinfo']['lon']\n",
    "lat = rbdict['volume']['sensorinfo']['lat']\n",
    "sensortype = rbdict['volume']['sensorinfo']['@type']\n",
    "sensorname = rbdict['volume']['sensorinfo']['@name']"
   ]
  },
  {
   "cell_type": "markdown",
   "metadata": {},
   "source": [
    "#### Plot data with annotation"
   ]
  },
  {
   "cell_type": "code",
   "execution_count": null,
   "metadata": {},
   "outputs": [],
   "source": [
    "fig = pl.figure(figsize=(8,8))\n",
    "cgax, pm = wrl.vis.plot_ppi(data, r=r, az=azi, fig=fig, proj='cg')\n",
    "\n",
    "title = '{0} {1} {2} {3}\\n{4}E {5}N'.format(sensortype, sensorname, date,\n",
    "                                            time, lon, lat)\n",
    "caax = cgax.parasites[0]\n",
    "t = pl.title(title, fontsize=12)\n",
    "t.set_y(1.1)\n",
    "cbar = pl.gcf().colorbar(pm, pad=0.075)\n",
    "caax.set_xlabel('x_range [km]')\n",
    "caax.set_ylabel('y_range [km]')\n",
    "pl.text(1.0, 1.05, 'azimuth', transform=caax.transAxes, va='bottom',\n",
    "        ha='right')\n",
    "cbar.set_label('reflectivity [' + unit + ']')"
   ]
  }
 ],
 "metadata": {
  "kernelspec": {
   "display_name": "Python 3",
   "language": "python",
   "name": "python3"
  },
  "language_info": {
   "codemirror_mode": {
    "name": "ipython",
    "version": 3
   },
   "file_extension": ".py",
   "mimetype": "text/x-python",
   "name": "python",
   "nbconvert_exporter": "python",
   "pygments_lexer": "ipython3",
   "version": "3.7.3"
  },
  "toc": {
   "colors": {
    "hover_highlight": "#DAA520",
    "navigate_num": "#000000",
    "navigate_text": "#333333",
    "running_highlight": "#FF0000",
    "selected_highlight": "#FFD700",
    "sidebar_border": "#EEEEEE",
    "wrapper_background": "#FFFFFF"
   },
   "moveMenuLeft": true,
   "nav_menu": {
    "height": "158px",
    "width": "252px"
   },
   "navigate_menu": true,
   "number_sections": false,
   "sideBar": true,
   "threshold": 4,
   "toc_cell": false,
   "toc_section_display": "block",
   "toc_window_display": false,
   "widenNotebook": false
  }
 },
 "nbformat": 4,
 "nbformat_minor": 1
}
