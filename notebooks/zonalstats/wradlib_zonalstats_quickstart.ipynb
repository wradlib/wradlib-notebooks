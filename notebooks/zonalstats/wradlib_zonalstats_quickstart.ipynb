{
 "cells": [
  {
   "cell_type": "markdown",
   "metadata": {
    "nbsphinx": "hidden",
    "slideshow": {
     "slide_type": "skip"
    }
   },
   "source": [
    "This notebook is part of the $\\omega radlib$ documentation: https://docs.wradlib.org.\n",
    "\n",
    "Copyright (c) $\\omega radlib$ developers.\n",
    "Distributed under the MIT License. See LICENSE.txt for more info."
   ]
  },
  {
   "cell_type": "markdown",
   "metadata": {
    "slideshow": {
     "slide_type": "slide"
    }
   },
   "source": [
    "# Zonal Statistics - Quickstart"
   ]
  },
  {
   "cell_type": "markdown",
   "metadata": {
    "slideshow": {
     "slide_type": "fragment"
    }
   },
   "source": [
    "Zonal statistics can be used to compute e.g. the areal average precipitation over a catchment."
   ]
  },
  {
   "cell_type": "markdown",
   "metadata": {
    "slideshow": {
     "slide_type": "fragment"
    }
   },
   "source": [
    "Here, we show a brief example using RADOLAN composite data from the German Weather Service (DWD)."
   ]
  },
  {
   "cell_type": "code",
   "execution_count": null,
   "metadata": {
    "slideshow": {
     "slide_type": "slide"
    }
   },
   "outputs": [],
   "source": [
    "import wradlib as wrl\n",
    "import matplotlib.pyplot as pl\n",
    "import matplotlib as mpl\n",
    "import warnings\n",
    "\n",
    "warnings.filterwarnings(\"ignore\")\n",
    "try:\n",
    "    get_ipython().run_line_magic(\"matplotlib inline\")\n",
    "except:\n",
    "    pl.ion()\n",
    "import numpy as np\n",
    "from osgeo import osr"
   ]
  },
  {
   "cell_type": "code",
   "execution_count": null,
   "metadata": {},
   "outputs": [],
   "source": [
    "from matplotlib.collections import PatchCollection\n",
    "from matplotlib.colors import from_levels_and_colors\n",
    "import matplotlib.patches as patches"
   ]
  },
  {
   "cell_type": "markdown",
   "metadata": {
    "slideshow": {
     "slide_type": "slide"
    }
   },
   "source": [
    "## Preparing the RADOLAN data"
   ]
  },
  {
   "cell_type": "markdown",
   "metadata": {
    "slideshow": {
     "slide_type": "fragment"
    }
   },
   "source": [
    "Preparing the radar composite data includes to\n",
    "- read the data,\n",
    "- geoference the data in native RADOLAN projection,\n",
    "- reproject the data to UTM zone 32 projection."
   ]
  },
  {
   "cell_type": "code",
   "execution_count": null,
   "metadata": {
    "slideshow": {
     "slide_type": "fragment"
    }
   },
   "outputs": [],
   "source": [
    "# Read and preprocess the RADOLAN data\n",
    "fpath = \"radolan/misc/raa01-sf_10000-1406100050-dwd---bin.gz\"\n",
    "f = wrl.util.get_wradlib_data_file(fpath)\n",
    "ds = wrl.io.open_radolan_dataset(f)"
   ]
  },
  {
   "cell_type": "code",
   "execution_count": null,
   "metadata": {},
   "outputs": [],
   "source": [
    "gridres = ds.x.diff(\"x\")[0].values\n",
    "gridres"
   ]
  },
  {
   "cell_type": "code",
   "execution_count": null,
   "metadata": {
    "slideshow": {
     "slide_type": "fragment"
    }
   },
   "outputs": [],
   "source": [
    "# This is the native RADOLAN projection\n",
    "# (polar stereographic projection)\n",
    "# create radolan projection osr object\n",
    "if ds.attrs[\"formatversion\"] >= 5:\n",
    "    proj_stereo = wrl.georef.create_osr(\"dwd-radolan-wgs84\")\n",
    "else:\n",
    "    proj_stereo = wrl.georef.create_osr(\"dwd-radolan-sphere\")\n",
    "\n",
    "# This is our target projection (UTM Zone 32)\n",
    "proj_utm = osr.SpatialReference()\n",
    "proj_utm.ImportFromEPSG(32632)\n",
    "\n",
    "# This is the source projection of the shape data\n",
    "proj_gk2 = osr.SpatialReference()\n",
    "proj_gk2.ImportFromEPSG(31466)"
   ]
  },
  {
   "cell_type": "code",
   "execution_count": null,
   "metadata": {},
   "outputs": [],
   "source": [
    "# Get RADOLAN grid coordinates - center coordinates\n",
    "x_rad, y_rad = np.meshgrid(ds.x, ds.y)\n",
    "grid_xy_radolan = np.stack([x_rad, y_rad], axis=-1)\n",
    "# Reproject the RADOLAN coordinates\n",
    "xy = wrl.georef.reproject(\n",
    "    grid_xy_radolan, projection_source=proj_stereo, projection_target=proj_utm\n",
    ")\n",
    "# assign as coordinates\n",
    "ds = ds.assign_coords(\n",
    "    {\n",
    "        \"xc\": (\n",
    "            [\"y\", \"x\"],\n",
    "            xy[..., 0],\n",
    "            dict(long_name=\"UTM Zone 32 Easting\", units=\"m\"),\n",
    "        ),\n",
    "        \"yc\": (\n",
    "            [\"y\", \"x\"],\n",
    "            xy[..., 1],\n",
    "            dict(long_name=\"UTM Zone 32 Northing\", units=\"m\"),\n",
    "        ),\n",
    "    }\n",
    ")"
   ]
  },
  {
   "cell_type": "markdown",
   "metadata": {},
   "source": [
    "## Fix shapefile without projection information\n",
    "\n",
    "As an example it is shown how to fix a shapefile with missing projection information."
   ]
  },
  {
   "cell_type": "code",
   "execution_count": null,
   "metadata": {},
   "outputs": [],
   "source": [
    "from osgeo import ogr, osr, gdal\n",
    "import os\n",
    "\n",
    "# Shape Source Projection\n",
    "proj_gk2 = osr.SpatialReference()\n",
    "proj_gk2.ImportFromEPSG(31466)\n",
    "\n",
    "# This is our target projection (UTM Zone 32)\n",
    "proj_utm = osr.SpatialReference()\n",
    "proj_utm.ImportFromEPSG(32632)\n",
    "\n",
    "shpfile = wrl.util.get_wradlib_data_file(\"shapefiles/agger/agger_merge.shp\")\n",
    "dst_shpfile = shpfile[:-4] + \"_gk2.shp\"\n",
    "\n",
    "\n",
    "def transform_shapefile(src, dst, dst_srs, dst_driver=\"ESRI Shapefile\", src_srs=None):\n",
    "    # remove destination file, if exists\n",
    "    driver = ogr.GetDriverByName(dst_driver)\n",
    "    if os.path.exists(dst_shpfile):\n",
    "        driver.DeleteDataSource(dst_shpfile)\n",
    "\n",
    "    # create the output layer\n",
    "    dst_ds = driver.CreateDataSource(dst)\n",
    "    dst_lyr = dst_ds.CreateLayer(\"\", dst_srs, geom_type=ogr.wkbPolygon)\n",
    "\n",
    "    # get the input layer\n",
    "    src_ds = gdal.OpenEx(src)\n",
    "    src_lyr = src_ds.GetLayer()\n",
    "\n",
    "    # transform - reproject\n",
    "    wrl.georef.ogr_reproject_layer(src_lyr, dst_lyr, dst_srs, src_srs=src_srs)\n",
    "\n",
    "    # unlock files\n",
    "    dst_ds = None\n",
    "    src_ds = None\n",
    "\n",
    "\n",
    "transform_shapefile(shpfile, dst_shpfile, proj_gk2, src_srs=proj_gk2)"
   ]
  },
  {
   "cell_type": "markdown",
   "metadata": {
    "slideshow": {
     "slide_type": "slide"
    }
   },
   "source": [
    "## Import catchment boundaries from ESRI shapefile\n",
    "\n",
    "### Create trg VectorSource\n",
    "\n",
    "This shows how to load data in a specific projection and project it on the fly to another projection. Here gk2 -> utm32."
   ]
  },
  {
   "cell_type": "code",
   "execution_count": null,
   "metadata": {
    "slideshow": {
     "slide_type": "fragment"
    }
   },
   "outputs": [],
   "source": [
    "shpfile = wrl.util.get_wradlib_data_file(\"shapefiles/agger/agger_merge_gk2.shp\")\n",
    "trg = wrl.io.VectorSource(shpfile, srs=proj_utm, name=\"trg\")\n",
    "print(f\"Found {len(trg)} sub-catchments in shapefile.\")"
   ]
  },
  {
   "cell_type": "code",
   "execution_count": null,
   "metadata": {},
   "outputs": [],
   "source": [
    "# check projection\n",
    "print(trg.crs)"
   ]
  },
  {
   "cell_type": "markdown",
   "metadata": {
    "slideshow": {
     "slide_type": "slide"
    }
   },
   "source": [
    "## Clip subgrid from RADOLAN grid "
   ]
  },
  {
   "cell_type": "markdown",
   "metadata": {
    "slideshow": {
     "slide_type": "fragment"
    }
   },
   "source": [
    "This is just to speed up the computation (so we don't have to deal with the full grid)."
   ]
  },
  {
   "cell_type": "code",
   "execution_count": null,
   "metadata": {},
   "outputs": [],
   "source": [
    "bbox = trg.extent\n",
    "buffer = 5000.0\n",
    "bbox = dict(\n",
    "    left=bbox[0] - buffer,\n",
    "    right=bbox[1] + buffer,\n",
    "    bottom=bbox[2] - buffer,\n",
    "    top=bbox[3] + buffer,\n",
    ")\n",
    "print(bbox)"
   ]
  },
  {
   "cell_type": "code",
   "execution_count": null,
   "metadata": {},
   "outputs": [],
   "source": [
    "ds_clip = ds.where(\n",
    "    (\n",
    "        ((ds.yc > bbox[\"bottom\"]) & (ds.yc < bbox[\"top\"]))\n",
    "        & ((ds.xc > bbox[\"left\"]) & (ds.xc < bbox[\"right\"]))\n",
    "    ),\n",
    "    drop=True,\n",
    ")\n",
    "display(ds_clip)"
   ]
  },
  {
   "cell_type": "code",
   "execution_count": null,
   "metadata": {},
   "outputs": [],
   "source": [
    "ds_clip.SF.plot()"
   ]
  },
  {
   "cell_type": "markdown",
   "metadata": {
    "slideshow": {
     "slide_type": "slide"
    }
   },
   "source": [
    "## Compute the average precipitation for each catchment"
   ]
  },
  {
   "cell_type": "markdown",
   "metadata": {
    "slideshow": {
     "slide_type": "fragment"
    }
   },
   "source": [
    "To compute the zonal average, we have to understand the the grid cells as *polygons* defined by a set of *vertices*."
   ]
  },
  {
   "cell_type": "code",
   "execution_count": null,
   "metadata": {
    "slideshow": {
     "slide_type": "fragment"
    }
   },
   "outputs": [],
   "source": [
    "# Create vertices for each grid cell\n",
    "# (MUST BE DONE IN NATIVE RADOLAN COORDINATES)\n",
    "grid_x, grid_y = np.meshgrid(ds_clip.x, ds_clip.y)\n",
    "grdverts = wrl.zonalstats.grid_centers_to_vertices(grid_x, grid_y, gridres, gridres)"
   ]
  },
  {
   "cell_type": "markdown",
   "metadata": {},
   "source": [
    "### Create src VectorSource\n",
    "\n",
    "This shows how to load data via numpy arrays in a given source projection and project it on the fly to a needed target projection"
   ]
  },
  {
   "cell_type": "code",
   "execution_count": null,
   "metadata": {
    "slideshow": {
     "slide_type": "fragment"
    }
   },
   "outputs": [],
   "source": [
    "src = wrl.io.VectorSource(\n",
    "    grdverts, srs=proj_utm, name=\"src\", projection_source=proj_stereo\n",
    ")"
   ]
  },
  {
   "cell_type": "markdown",
   "metadata": {
    "slideshow": {
     "slide_type": "fragment"
    }
   },
   "source": [
    "Now we create the `ZonalDataPoly` class instance providing `src`  and `trg` VectorSources. Based on the overlap of these polygons with the catchment area, we can then compute a *weighted average*. "
   ]
  },
  {
   "cell_type": "code",
   "execution_count": null,
   "metadata": {
    "slideshow": {
     "slide_type": "fragment"
    }
   },
   "outputs": [],
   "source": [
    "# This object collects our source and target data\n",
    "#   and computes the intersections\n",
    "zd = wrl.zonalstats.ZonalDataPoly(src, trg, srs=proj_utm)\n",
    "# zd = wrl.zonalstats.ZonalDataPoly(grdverts, shpfile, srs=proj_utm)\n",
    "\n",
    "# This object can actually compute the statistics\n",
    "obj = wrl.zonalstats.ZonalStatsPoly(zd)\n",
    "\n",
    "# We just call this object with any set of radar data\n",
    "avg = obj.mean(ds_clip.SF.values.ravel())"
   ]
  },
  {
   "cell_type": "markdown",
   "metadata": {
    "slideshow": {
     "slide_type": "slide"
    }
   },
   "source": [
    "## Plot results in map using matplotlib\n",
    "\n",
    "We now plot the data using matplotlib accessors of `geopandas` (vector) and `xarray` (raster)."
   ]
  },
  {
   "cell_type": "code",
   "execution_count": null,
   "metadata": {
    "slideshow": {
     "slide_type": "fragment"
    }
   },
   "outputs": [],
   "source": [
    "from matplotlib.colors import from_levels_and_colors\n",
    "\n",
    "# Create discrete colormap\n",
    "levels = np.arange(0, 30, 2.5)\n",
    "colors = pl.cm.inferno(np.linspace(0, 1, len(levels)))\n",
    "mycmap, mynorm = from_levels_and_colors(levels, colors, extend=\"max\")\n",
    "\n",
    "fig = pl.figure(figsize=(10, 10))\n",
    "\n",
    "# Average rainfall sum\n",
    "ax = fig.add_subplot(121, aspect=\"equal\")\n",
    "obj.zdata.trg.geo.plot(\n",
    "    column=\"mean\",\n",
    "    ax=ax,\n",
    "    cmap=mycmap,\n",
    "    norm=mynorm,\n",
    "    edgecolor=\"white\",\n",
    "    lw=0.5,\n",
    "    legend=True,\n",
    "    legend_kwds=dict(orientation=\"horizontal\", pad=0.05),\n",
    ")\n",
    "pl.xlabel(\"UTM Zone 32 Easting (m)\")\n",
    "pl.ylabel(\"UTM Zone 32 Northing (m)\")\n",
    "pl.title(\"Catchment areal average\")\n",
    "bbox = obj.zdata.trg.extent\n",
    "pl.xlim(bbox[0] - 5000, bbox[1] + 5000)\n",
    "pl.ylim(bbox[2] - 5000, bbox[3] + 5000)\n",
    "pl.grid()\n",
    "\n",
    "# Original radar data\n",
    "ax = fig.add_subplot(122, aspect=\"equal\")\n",
    "pm = ds_clip.SF.plot(\n",
    "    x=\"xc\",\n",
    "    y=\"yc\",\n",
    "    cmap=mycmap,\n",
    "    norm=mynorm,\n",
    "    ax=ax,\n",
    "    cbar_kwargs=dict(orientation=\"horizontal\", pad=0.05),\n",
    ")\n",
    "obj.zdata.trg.geo.plot(ax=ax, facecolor=\"None\", edgecolor=\"white\")\n",
    "pl.title(\"RADOLAN rain depth\")\n",
    "pl.grid(color=\"white\")\n",
    "pl.tight_layout()"
   ]
  },
  {
   "cell_type": "markdown",
   "metadata": {},
   "source": [
    "## Plot results in interactive map using geopandas\n",
    "\n",
    "Interactive mapmaking is easy using `geopandas`:"
   ]
  },
  {
   "cell_type": "code",
   "execution_count": null,
   "metadata": {},
   "outputs": [],
   "source": [
    "fmap = obj.zdata.trg.geo.explore(column=\"mean\")\n",
    "fmap"
   ]
  },
  {
   "cell_type": "markdown",
   "metadata": {
    "slideshow": {
     "slide_type": "slide"
    }
   },
   "source": [
    "## Save time by reading the weights from a file"
   ]
  },
  {
   "cell_type": "markdown",
   "metadata": {
    "slideshow": {
     "slide_type": "fragment"
    }
   },
   "source": [
    "The computational expensive part is the computation of intersections and weights. You only need to do it *once*.\n",
    "\n",
    "You can dump the results on disk and read them from there when required. Let's do a little benchmark:"
   ]
  },
  {
   "cell_type": "code",
   "execution_count": null,
   "metadata": {
    "slideshow": {
     "slide_type": "fragment"
    }
   },
   "outputs": [],
   "source": [
    "import datetime as dt\n",
    "\n",
    "# dump to file\n",
    "zd.dump_vector(\"test_zonal_poly_cart\")\n",
    "\n",
    "t1 = dt.datetime.now()\n",
    "# Create instance of type ZonalStatsPoly from zonal data file\n",
    "obj = wrl.zonalstats.ZonalStatsPoly(\"test_zonal_poly_cart\")\n",
    "t2 = dt.datetime.now()\n",
    "\n",
    "# Create instance of type ZonalStatsPoly from scratch\n",
    "src = wrl.io.VectorSource(\n",
    "    grdverts, srs=proj_utm, name=\"src\", projection_source=proj_stereo\n",
    ")\n",
    "trg = wrl.io.VectorSource(shpfile, srs=proj_utm, name=\"trg\")\n",
    "zd = wrl.zonalstats.ZonalDataPoly(src, trg)\n",
    "obj = wrl.zonalstats.ZonalStatsPoly(zd)\n",
    "t3 = dt.datetime.now()\n",
    "\n",
    "# Calling the object\n",
    "avg = obj.mean(ds_clip.SF.values.ravel())\n",
    "t4 = dt.datetime.now()\n",
    "\n",
    "print(\"\\nCreate object from file: %f seconds\" % (t2 - t1).total_seconds())\n",
    "print(\"Create object from sratch: %f seconds\" % (t3 - t2).total_seconds())\n",
    "print(\"Compute stats: %f seconds\" % (t4 - t3).total_seconds())"
   ]
  },
  {
   "cell_type": "markdown",
   "metadata": {},
   "source": [
    "### Calculate Variance and Plot Result"
   ]
  },
  {
   "cell_type": "code",
   "execution_count": null,
   "metadata": {},
   "outputs": [],
   "source": [
    "var = obj.var(ds_clip.SF.values.ravel())"
   ]
  },
  {
   "cell_type": "code",
   "execution_count": null,
   "metadata": {},
   "outputs": [],
   "source": [
    "fig = pl.figure(figsize=(10, 10))\n",
    "ax = fig.add_subplot(111)\n",
    "obj.zdata.trg.geo.plot(\n",
    "    column=\"var\",\n",
    "    ax=ax,\n",
    "    cmap=mycmap,\n",
    "    norm=mynorm,\n",
    "    edgecolor=\"white\",\n",
    "    lw=0.5,\n",
    "    legend=True,\n",
    "    legend_kwds=dict(orientation=\"horizontal\", pad=0.1),\n",
    ")\n",
    "pl.xlabel(\"UTM Zone 32 Easting (m)\")\n",
    "pl.ylabel(\"UTM Zone 32 Northing (m)\")\n",
    "pl.title(\"Catchment areal variance\")\n",
    "bbox = obj.zdata.trg.extent\n",
    "pl.xlim(bbox[0] - 5000, bbox[1] + 5000)\n",
    "pl.ylim(bbox[2] - 5000, bbox[3] + 5000)\n",
    "pl.grid()"
   ]
  }
 ],
 "metadata": {
  "celltoolbar": "Slideshow",
  "language_info": {
   "codemirror_mode": {
    "name": "ipython",
    "version": 3
   },
   "file_extension": ".py",
   "mimetype": "text/x-python",
   "name": "python",
   "nbconvert_exporter": "python",
   "pygments_lexer": "ipython3",
   "version": "3.10.5"
  },
  "livereveal": {
   "scroll": true
  },
  "toc": {
   "colors": {
    "hover_highlight": "#DAA520",
    "navigate_num": "#000000",
    "navigate_text": "#333333",
    "running_highlight": "#FF0000",
    "selected_highlight": "#FFD700",
    "sidebar_border": "#EEEEEE",
    "wrapper_background": "#FFFFFF"
   },
   "moveMenuLeft": true,
   "nav_menu": {
    "height": "158px",
    "width": "252px"
   },
   "navigate_menu": true,
   "number_sections": false,
   "sideBar": true,
   "threshold": 4,
   "toc_cell": false,
   "toc_section_display": "block",
   "toc_window_display": false,
   "widenNotebook": false
  }
 },
 "nbformat": 4,
 "nbformat_minor": 4
}
