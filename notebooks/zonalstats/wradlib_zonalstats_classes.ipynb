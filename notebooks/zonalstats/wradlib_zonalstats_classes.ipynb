{
 "cells": [
  {
   "cell_type": "markdown",
   "metadata": {
    "nbsphinx": "hidden"
   },
   "source": [
    "This notebook is part of the $\\omega radlib$ documentation: https://docs.wradlib.org.\n",
    "\n",
    "Copyright (c) $\\omega radlib$ developers.\n",
    "Distributed under the MIT License. See LICENSE.txt for more info."
   ]
  },
  {
   "cell_type": "markdown",
   "metadata": {},
   "source": [
    "# Zonal Statistics - Overview"
   ]
  },
  {
   "cell_type": "markdown",
   "metadata": {
    "nbsphinx-toctree": {
     "hidden": true,
     "maxdepth": 2
    }
   },
   "source": [
    "- [Quickstart](wradlib_zonalstats_quickstart.ipynb)\n",
    "- [Cartesian Grid](wradlib_zonalstats_cartesian_grid.ipynb)\n",
    "- [Polar Grid](wradlib_zonalstats_polar_grid.ipynb)"
   ]
  },
  {
   "cell_type": "markdown",
   "metadata": {},
   "source": [
    "The [wradlib.zonalstats](https://docs.wradlib.org/en/latest/zonalstats.html) module provides classes and functions for calculation of zonal statistics for data on arbitrary grids and projections.\n",
    "\n",
    "It provides classes for:\n",
    "\n",
    "- managing georeferenced data (grid points or grid polygons, zonal polygons),\n",
    "- calculation of geographic intersections and managing resulting vector data\n",
    "- calculation of zonal statistics and managing result data as vector attributes\n",
    "- output to vector and raster files available within ogr/gdal"
   ]
  },
  {
   "cell_type": "code",
   "execution_count": 1,
   "metadata": {
    "execution": {
     "iopub.execute_input": "2023-02-24T14:44:43.286809Z",
     "iopub.status.busy": "2023-02-24T14:44:43.286065Z",
     "iopub.status.idle": "2023-02-24T14:44:44.598637Z",
     "shell.execute_reply": "2023-02-24T14:44:44.598093Z"
    }
   },
   "outputs": [
    {
     "name": "stderr",
     "output_type": "stream",
     "text": [
      "/home/runner/micromamba-root/envs/wradlib-notebooks/lib/python3.11/site-packages/tqdm/auto.py:22: TqdmWarning: IProgress not found. Please update jupyter and ipywidgets. See https://ipywidgets.readthedocs.io/en/stable/user_install.html\n",
      "  from .autonotebook import tqdm as notebook_tqdm\n"
     ]
    }
   ],
   "source": [
    "import wradlib as wrl\n",
    "import matplotlib.pyplot as pl\n",
    "import matplotlib as mpl\n",
    "import warnings\n",
    "\n",
    "warnings.filterwarnings(\"ignore\")\n",
    "try:\n",
    "    get_ipython().run_line_magic(\"matplotlib inline\")\n",
    "except:\n",
    "    pl.ion()\n",
    "import numpy as np"
   ]
  },
  {
   "cell_type": "markdown",
   "metadata": {},
   "source": [
    "## DataSource"
   ]
  },
  {
   "cell_type": "markdown",
   "metadata": {},
   "source": [
    "The [wradlib.zonalstats.DataSource](https://docs.wradlib.org/en/latest/generated/wradlib.zonalstats.DataSource.html) class handles point or polygon vector data by wrapping ogr.DataSource with special functions. It's just a wrapper around the [wradlib.io.VectorSource](https://docs.wradlib.org/en/latest/generated/wradlib.io.gdal.VectorSource.html)  class.\n",
    "\n",
    "The following example shows how to create different DataSource objects:"
   ]
  },
  {
   "cell_type": "code",
   "execution_count": 2,
   "metadata": {
    "execution": {
     "iopub.execute_input": "2023-02-24T14:44:44.602209Z",
     "iopub.status.busy": "2023-02-24T14:44:44.601264Z",
     "iopub.status.idle": "2023-02-24T14:44:44.614669Z",
     "shell.execute_reply": "2023-02-24T14:44:44.614226Z"
    }
   },
   "outputs": [],
   "source": [
    "from osgeo import osr\n",
    "\n",
    "# create gauss-krueger2 srs object\n",
    "proj_gk2 = osr.SpatialReference()\n",
    "proj_gk2.ImportFromEPSG(31466)\n",
    "\n",
    "# Setting up DataSource\n",
    "box0 = np.array(\n",
    "    [\n",
    "        [2600000.0, 5630000.0],\n",
    "        [2600000.0, 5640000.0],\n",
    "        [2610000.0, 5640000.0],\n",
    "        [2610000.0, 5630000.0],\n",
    "        [2600000.0, 5630000.0],\n",
    "    ]\n",
    ")\n",
    "box1 = np.array(\n",
    "    [\n",
    "        [2610000.0, 5630000.0],\n",
    "        [2610000.0, 5640000.0],\n",
    "        [2620000.0, 5640000.0],\n",
    "        [2620000.0, 5630000.0],\n",
    "        [2610000.0, 5630000.0],\n",
    "    ]\n",
    ")\n",
    "box2 = np.array(\n",
    "    [\n",
    "        [2600000.0, 5640000.0],\n",
    "        [2600000.0, 5650000.0],\n",
    "        [2610000.0, 5650000.0],\n",
    "        [2610000.0, 5640000.0],\n",
    "        [2600000.0, 5640000.0],\n",
    "    ]\n",
    ")\n",
    "box3 = np.array(\n",
    "    [\n",
    "        [2610000.0, 5640000.0],\n",
    "        [2610000.0, 5650000.0],\n",
    "        [2620000.0, 5650000.0],\n",
    "        [2620000.0, 5640000.0],\n",
    "        [2610000.0, 5640000.0],\n",
    "    ]\n",
    ")\n",
    "\n",
    "point0 = np.array(wrl.georef.get_centroid(box0))\n",
    "point1 = np.array(wrl.georef.get_centroid(box1))\n",
    "point2 = np.array(wrl.georef.get_centroid(box2))\n",
    "point3 = np.array(wrl.georef.get_centroid(box3))\n",
    "\n",
    "# creates Polygons in Datasource\n",
    "poly = wrl.zonalstats.DataSource(\n",
    "    np.array([box0, box1, box2, box3]), srs=proj_gk2, name=\"poly\"\n",
    ")\n",
    "\n",
    "# creates Points in Datasource\n",
    "point = wrl.zonalstats.DataSource(\n",
    "    np.vstack((point0, point1, point2, point3)), srs=proj_gk2, name=\"point\"\n",
    ")"
   ]
  },
  {
   "cell_type": "markdown",
   "metadata": {},
   "source": [
    "Let's have a look at the data, which will be exported as numpy arrays. The property ``data`` exports all available data:"
   ]
  },
  {
   "cell_type": "code",
   "execution_count": 3,
   "metadata": {
    "execution": {
     "iopub.execute_input": "2023-02-24T14:44:44.617505Z",
     "iopub.status.busy": "2023-02-24T14:44:44.616804Z",
     "iopub.status.idle": "2023-02-24T14:44:44.622142Z",
     "shell.execute_reply": "2023-02-24T14:44:44.621709Z"
    }
   },
   "outputs": [
    {
     "name": "stdout",
     "output_type": "stream",
     "text": [
      "[[[2600000.0 5630000.0]\n",
      "  [2600000.0 5640000.0]\n",
      "  [2610000.0 5640000.0]\n",
      "  [2610000.0 5630000.0]\n",
      "  [2600000.0 5630000.0]]\n",
      "\n",
      " [[2610000.0 5630000.0]\n",
      "  [2610000.0 5640000.0]\n",
      "  [2620000.0 5640000.0]\n",
      "  [2620000.0 5630000.0]\n",
      "  [2610000.0 5630000.0]]\n",
      "\n",
      " [[2600000.0 5640000.0]\n",
      "  [2600000.0 5650000.0]\n",
      "  [2610000.0 5650000.0]\n",
      "  [2610000.0 5640000.0]\n",
      "  [2600000.0 5640000.0]]\n",
      "\n",
      " [[2610000.0 5640000.0]\n",
      "  [2610000.0 5650000.0]\n",
      "  [2620000.0 5650000.0]\n",
      "  [2620000.0 5640000.0]\n",
      "  [2610000.0 5640000.0]]]\n",
      "[[2605000.0 5635000.0]\n",
      " [2615000.0 5635000.0]\n",
      " [2605000.0 5645000.0]\n",
      " [2615000.0 5645000.0]]\n"
     ]
    }
   ],
   "source": [
    "print(poly.data)\n",
    "print(point.data)"
   ]
  },
  {
   "cell_type": "markdown",
   "metadata": {},
   "source": [
    "Currently data can also be retrieved by:\n",
    "\n",
    "- index - [wradlib.zonalstats.DataSource.get_data_by_idx()](https://docs.wradlib.org/en/latest/generated/wradlib.zonalstats.DataSource.get_data_by_idx.html),\n",
    "- attribute - [wradlib.zonalstats.DataSource.get_data_by_att()](https://docs.wradlib.org/en/latest/generated/wradlib.zonalstats.DataSource.get_data_by_att.html) and\n",
    "- geometry - [wradlib.zonalstats.DataSource.get_data_by_geom()](https://docs.wradlib.org/en/latest/generated/wradlib.zonalstats.DataSource.get_data_by_geom.html)."
   ]
  },
  {
   "cell_type": "markdown",
   "metadata": {},
   "source": [
    "Now, with the DataSource being created, we can add/set attribute data of the features:"
   ]
  },
  {
   "cell_type": "code",
   "execution_count": 4,
   "metadata": {
    "execution": {
     "iopub.execute_input": "2023-02-24T14:44:44.624930Z",
     "iopub.status.busy": "2023-02-24T14:44:44.624228Z",
     "iopub.status.idle": "2023-02-24T14:44:44.628418Z",
     "shell.execute_reply": "2023-02-24T14:44:44.627987Z"
    }
   },
   "outputs": [],
   "source": [
    "# add attribute\n",
    "poly.set_attribute(\"mean\", np.array([10.1, 20.2, 30.3, 40.4]))\n",
    "point.set_attribute(\"mean\", np.array([10.1, 20.2, 30.3, 40.4]))"
   ]
  },
  {
   "cell_type": "markdown",
   "metadata": {},
   "source": [
    "Attributes associated with features can also be retrieved:"
   ]
  },
  {
   "cell_type": "code",
   "execution_count": 5,
   "metadata": {
    "execution": {
     "iopub.execute_input": "2023-02-24T14:44:44.631194Z",
     "iopub.status.busy": "2023-02-24T14:44:44.630474Z",
     "iopub.status.idle": "2023-02-24T14:44:44.635187Z",
     "shell.execute_reply": "2023-02-24T14:44:44.634755Z"
    }
   },
   "outputs": [
    {
     "name": "stdout",
     "output_type": "stream",
     "text": [
      "[[10.1, 20.2, 30.3, 40.4]]\n",
      "[[30.3]]\n"
     ]
    }
   ],
   "source": [
    "# get attributes\n",
    "print(poly.get_attributes([\"mean\"]))\n",
    "# get attributes filtered\n",
    "print(poly.get_attributes([\"mean\"], filt=(\"index\", 2)))"
   ]
  },
  {
   "cell_type": "markdown",
   "metadata": {},
   "source": [
    "Finally, we can export the contained data to OGR/GDAL supported [vector](https://gdal.org/ogr_formats.html) and [raster](https://gdal.org/formats_list.html) files:"
   ]
  },
  {
   "cell_type": "code",
   "execution_count": 6,
   "metadata": {
    "execution": {
     "iopub.execute_input": "2023-02-24T14:44:44.637964Z",
     "iopub.status.busy": "2023-02-24T14:44:44.637269Z",
     "iopub.status.idle": "2023-02-24T14:44:44.658972Z",
     "shell.execute_reply": "2023-02-24T14:44:44.658434Z"
    }
   },
   "outputs": [],
   "source": [
    "# dump as 'ESRI Shapefile', default\n",
    "poly.dump_vector(\"test_poly.shp\")\n",
    "point.dump_vector(\"test_point.shp\")\n",
    "# dump as 'GeoJSON'\n",
    "poly.dump_vector(\"test_poly.geojson\", \"GeoJSON\")\n",
    "point.dump_vector(\"test_point.geojson\", \"GeoJSON\")\n",
    "# dump as 'GTiff', default\n",
    "poly.dump_raster(\"test_poly_raster.tif\", attr=\"mean\", pixel_size=100.0)\n",
    "# dump as 'netCDF'\n",
    "poly.dump_raster(\"test_poly_raster.nc\", \"netCDF\", attr=\"mean\", pixel_size=100.0)"
   ]
  },
  {
   "cell_type": "markdown",
   "metadata": {},
   "source": [
    "## ZonalData"
   ]
  },
  {
   "cell_type": "markdown",
   "metadata": {},
   "source": [
    "ZonalData is usually available as georeferenced regular gridded data. Here the [wradlib.zonalstats.ZonalDataBase](https://docs.wradlib.org/en/latest/generated/wradlib.zonalstats.ZonalDataBase.html) class manages the grid data, the zonal data (target polygons) and the intersection data of source grid and target polygons.\n",
    "Because the calculation of intersection is different for point grids and polygon grids, we have subclasses [wradlib.zonalstats.ZonalDataPoly](https://docs.wradlib.org/en/latest/generated/wradlib.zonalstats.ZonalDataPoly.html) and [wradlib.zonalstats.ZonalDataPoint](https://docs.wradlib.org/en/latest/generated/wradlib.zonalstats.ZonalDataPoint.html).\n",
    "\n",
    "Basically, [wradlib.zonalstats.ZonalDataBase](https://docs.wradlib.org/en/latest/generated/wradlib.zonalstats.ZonalDataBase.html) encapsulates three [wradlib.zonalstats.DataSource](https://docs.wradlib.org/en/latest/generated/wradlib.zonalstats.DataSource.html) objects:\n",
    "\n",
    "- source grid (points/polygons)\n",
    "- target polygons\n",
    "- destination (intersection) (points/polygons)\n",
    "\n",
    "The destination DataSource object is created from the provided source grid and target polygons at initialisation time."
   ]
  },
  {
   "cell_type": "markdown",
   "metadata": {},
   "source": [
    "As an example the creation of a [wradlib.zonalstats.ZonalDataPoly](https://docs.wradlib.org/en/latest/generated/wradlib.zonalstats.ZonalDataPoly.html) class instance is shown:"
   ]
  },
  {
   "cell_type": "code",
   "execution_count": 7,
   "metadata": {
    "execution": {
     "iopub.execute_input": "2023-02-24T14:44:44.662127Z",
     "iopub.status.busy": "2023-02-24T14:44:44.661417Z",
     "iopub.status.idle": "2023-02-24T14:44:47.855164Z",
     "shell.execute_reply": "2023-02-24T14:44:47.854630Z"
    }
   },
   "outputs": [],
   "source": [
    "# setup test grid and catchment\n",
    "lon = 7.071664\n",
    "lat = 50.730521\n",
    "r = np.array(range(50, 100 * 1000 + 50, 100))\n",
    "a = np.array(range(0, 90, 1))\n",
    "rays = a.shape[0]\n",
    "bins = r.shape[0]\n",
    "\n",
    "# setup OSR objects\n",
    "proj_utm = osr.SpatialReference()\n",
    "proj_utm.ImportFromEPSG(32632)\n",
    "\n",
    "# create polar grid polygon vertices in UTM\n",
    "radar_utm = wrl.georef.spherical_to_polyvert(r, a, 0, (lon, lat), proj=proj_utm)\n",
    "radar_utm = radar_utm[..., 0:2]\n",
    "# reshape\n",
    "radar_utm.shape = (rays * bins, 5, 2)\n",
    "\n",
    "box0 = np.array(\n",
    "    [\n",
    "        [390000.0, 5630000.0],\n",
    "        [390000.0, 5640000.0],\n",
    "        [400000.0, 5640000.0],\n",
    "        [400000.0, 5630000.0],\n",
    "        [390000.0, 5630000.0],\n",
    "    ]\n",
    ")\n",
    "\n",
    "box1 = np.array(\n",
    "    [\n",
    "        [400000.0, 5630000.0],\n",
    "        [400000.0, 5640000.0],\n",
    "        [410000.0, 5640000.0],\n",
    "        [410000.0, 5630000.0],\n",
    "        [400000.0, 5630000.0],\n",
    "    ]\n",
    ")\n",
    "\n",
    "targets = np.array([box0, box1])\n",
    "\n",
    "zdpoly = wrl.zonalstats.ZonalDataPoly(radar_utm, targets, srs=proj_utm)"
   ]
  },
  {
   "cell_type": "markdown",
   "metadata": {},
   "source": [
    "When calculationg the intersection, also weights are calculated for every source grid feature and attributed to the destination features.\n",
    "\n",
    "With the property ``isecs`` it is possible to retrieve the intersection geometries as numpy array, further get-functions add to the functionality:"
   ]
  },
  {
   "cell_type": "code",
   "execution_count": 8,
   "metadata": {
    "execution": {
     "iopub.execute_input": "2023-02-24T14:44:47.858515Z",
     "iopub.status.busy": "2023-02-24T14:44:47.857758Z",
     "iopub.status.idle": "2023-02-24T14:44:48.430163Z",
     "shell.execute_reply": "2023-02-24T14:44:48.429664Z"
    }
   },
   "outputs": [
    {
     "name": "stdout",
     "output_type": "stream",
     "text": [
      "(2,) (2053,) (2053,)\n"
     ]
    }
   ],
   "source": [
    "# get intersections as numpy array\n",
    "isecs = zdpoly.isecs\n",
    "# get intersections for target polygon 0\n",
    "isec0 = zdpoly.get_isec(0)\n",
    "# get source indices referring to target polygon 0\n",
    "ind0 = zdpoly.get_source_index(0)\n",
    "\n",
    "print(isecs.shape, isec0.shape, ind0.shape)"
   ]
  },
  {
   "cell_type": "markdown",
   "metadata": {},
   "source": [
    "There are import/export functions using [ESRI-Shapfile Format](https://de.wikipedia.org/wiki/Shapefile) as data format. Next export and import is shown:\n",
    "[wradlib.zonalstats.ZonalDataBase](https://docs.wradlib.org/en/latest/generated/wradlib.zonalstats.ZonalDataBase.html)"
   ]
  },
  {
   "cell_type": "code",
   "execution_count": 9,
   "metadata": {
    "execution": {
     "iopub.execute_input": "2023-02-24T14:44:48.433177Z",
     "iopub.status.busy": "2023-02-24T14:44:48.432467Z",
     "iopub.status.idle": "2023-02-24T14:44:49.963223Z",
     "shell.execute_reply": "2023-02-24T14:44:49.962693Z"
    }
   },
   "outputs": [],
   "source": [
    "zdpoly.dump_vector(\"test_zdpoly\")\n",
    "zdpoly_new = wrl.zonalstats.ZonalDataPoly(\"test_zdpoly\")"
   ]
  },
  {
   "cell_type": "markdown",
   "metadata": {},
   "source": [
    "## ZonalStats"
   ]
  },
  {
   "cell_type": "markdown",
   "metadata": {},
   "source": [
    "For ZonalStats the [wradlib.zonalstats.ZonalStatsBase](https://docs.wradlib.org/en/latest/generated/wradlib.zonalstats.ZonalStatsBase.html) class and the two subclasses [wradlib.zonalstats.ZonalStatsPoly](https://docs.wradlib.org/en/latest/generated/wradlib.zonalstats.ZonalStatsPoly.html) and [wradlib.zonalstats.ZonalStatsPoint](https://docs.wradlib.org/en/latest/generated/wradlib.zonalstats.ZonalStatsPoint.html) are available. ZonalStatsBase encapsulates one ZonalData object. Properties for simple access of ZonalData, intersection indices and weights are provided. The following code will add ``mean`` and ``var`` attributes to the target DataSource:"
   ]
  },
  {
   "cell_type": "code",
   "execution_count": 10,
   "metadata": {
    "execution": {
     "iopub.execute_input": "2023-02-24T14:44:49.966599Z",
     "iopub.status.busy": "2023-02-24T14:44:49.965825Z",
     "iopub.status.idle": "2023-02-24T14:44:50.029521Z",
     "shell.execute_reply": "2023-02-24T14:44:50.029011Z"
    }
   },
   "outputs": [
    {
     "name": "stdout",
     "output_type": "stream",
     "text": [
      "Average: [13.25806535 12.65538485]\n",
      "Variance: [4.99591556 2.5116987 ]\n"
     ]
    }
   ],
   "source": [
    "# create ZonalStatsPoly instance\n",
    "gc = wrl.zonalstats.ZonalStatsPoly(zdpoly_new)\n",
    "# create some artificial data for processing using the features indices\n",
    "count = radar_utm.shape[0]\n",
    "data = 1000000.0 / np.array(range(count))\n",
    "# calculate mean and variance\n",
    "mean = gc.mean(data)\n",
    "var = gc.var(data)\n",
    "\n",
    "print(\"Average:\", mean)\n",
    "print(\"Variance:\", var)"
   ]
  },
  {
   "cell_type": "markdown",
   "metadata": {},
   "source": [
    "Next we can export the resulting zonal statistics to vector and raster files:"
   ]
  },
  {
   "cell_type": "code",
   "execution_count": 11,
   "metadata": {
    "execution": {
     "iopub.execute_input": "2023-02-24T14:44:50.032595Z",
     "iopub.status.busy": "2023-02-24T14:44:50.031884Z",
     "iopub.status.idle": "2023-02-24T14:44:50.038453Z",
     "shell.execute_reply": "2023-02-24T14:44:50.038008Z"
    }
   },
   "outputs": [],
   "source": [
    "# export to vector GeoJSON\n",
    "gc.zdata.trg.dump_vector(\"test_zonal_json.geojson\", \"GeoJSON\")\n",
    "# export 'mean' to raster netCDF\n",
    "gc.zdata.trg.dump_raster(\"test_zonal_hdr.nc\", \"netCDF\", \"mean\", pixel_size=100.0)"
   ]
  },
  {
   "cell_type": "markdown",
   "metadata": {},
   "source": [
    "The ZonalStats classes can also be used without any ZonalData by instantiating with precalculated index and weight values. Be sure to use matching ix, w and data arrays:"
   ]
  },
  {
   "cell_type": "code",
   "execution_count": 12,
   "metadata": {
    "execution": {
     "iopub.execute_input": "2023-02-24T14:44:50.041343Z",
     "iopub.status.busy": "2023-02-24T14:44:50.040642Z",
     "iopub.status.idle": "2023-02-24T14:44:50.047156Z",
     "shell.execute_reply": "2023-02-24T14:44:50.046714Z"
    }
   },
   "outputs": [
    {
     "name": "stdout",
     "output_type": "stream",
     "text": [
      "Average: [13.25806535 12.65538485]\n",
      "Variance: [4.99591556 2.5116987 ]\n"
     ]
    }
   ],
   "source": [
    "# get ix, and weight arrays\n",
    "ix = gc.ix\n",
    "w = gc.w\n",
    "# instantiate new ZonlaStats object\n",
    "gc1 = wrl.zonalstats.ZonalStatsPoly(ix=ix, w=w)\n",
    "# caclulate statistics\n",
    "avg = gc1.mean(data)\n",
    "var = gc1.var(data)\n",
    "\n",
    "print(\"Average:\", avg)\n",
    "print(\"Variance:\", var)"
   ]
  }
 ],
 "metadata": {
  "celltoolbar": "Edit Metadata",
  "language_info": {
   "codemirror_mode": {
    "name": "ipython",
    "version": 3
   },
   "file_extension": ".py",
   "mimetype": "text/x-python",
   "name": "python",
   "nbconvert_exporter": "python",
   "pygments_lexer": "ipython3",
   "version": "3.11.0"
  },
  "toc": {
   "colors": {
    "hover_highlight": "#DAA520",
    "navigate_num": "#000000",
    "navigate_text": "#333333",
    "running_highlight": "#FF0000",
    "selected_highlight": "#FFD700",
    "sidebar_border": "#EEEEEE",
    "wrapper_background": "#FFFFFF"
   },
   "moveMenuLeft": true,
   "nav_menu": {
    "height": "105px",
    "width": "252px"
   },
   "navigate_menu": true,
   "number_sections": false,
   "sideBar": true,
   "threshold": 4,
   "toc_cell": false,
   "toc_section_display": "block",
   "toc_window_display": false,
   "widenNotebook": false
  }
 },
 "nbformat": 4,
 "nbformat_minor": 4
}
