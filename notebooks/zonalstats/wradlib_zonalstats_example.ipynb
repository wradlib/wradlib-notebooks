{
 "cells": [
  {
   "cell_type": "markdown",
   "metadata": {
    "nbsphinx": "hidden"
   },
   "source": [
    "This notebook is part of the $\\omega radlib$ documentation: https://docs.wradlib.org.\n",
    "\n",
    "Copyright (c) $\\omega radlib$ developers.\n",
    "Distributed under the MIT License. See LICENSE.txt for more info."
   ]
  },
  {
   "cell_type": "markdown",
   "metadata": {},
   "source": [
    "# Zonal Statistics Example"
   ]
  },
  {
   "cell_type": "code",
   "execution_count": null,
   "metadata": {},
   "outputs": [],
   "source": [
    "import wradlib as wrl\n",
    "import matplotlib.pyplot as pl\n",
    "import matplotlib as mpl\n",
    "import warnings\n",
    "warnings.filterwarnings('ignore')\n",
    "try:\n",
    "    get_ipython().magic(\"matplotlib inline\")\n",
    "except:\n",
    "    pl.ion()\n",
    "import numpy as np\n",
    "import xarray as xr"
   ]
  },
  {
   "cell_type": "markdown",
   "metadata": {},
   "source": [
    "## Setup Examples"
   ]
  },
  {
   "cell_type": "code",
   "execution_count": null,
   "metadata": {},
   "outputs": [],
   "source": [
    "def testplot(ds, obj, col=\"mean\",\n",
    "             levels=[0, 1, 2, 3, 4, 5, 10, 15, 20, 25, 30, 40, 50, 100],\n",
    "             title=\"\"):\n",
    "    \"\"\"Quick test plot layout for this example file\n",
    "    \"\"\"\n",
    "    colors = pl.cm.viridis(np.linspace(0, 1, len(levels)))\n",
    "    mycmap, mynorm = from_levels_and_colors(levels, colors, extend=\"max\")\n",
    "\n",
    "    radolevels = [0, 1, 2, 3, 4, 5, 10, 15, 20, 25, 30, 40, 50, 100]\n",
    "    radocolors = pl.cm.viridis(np.linspace(0, 1, len(radolevels)))\n",
    "    radocmap, radonorm = from_levels_and_colors(radolevels, radocolors,\n",
    "                                                extend=\"max\")\n",
    "\n",
    "    fig = pl.figure(figsize=(10, 16))\n",
    "\n",
    "    # Average rainfall sum\n",
    "    ax = fig.add_subplot(211, aspect=\"equal\")\n",
    "    obj.zdata.trg.geo.plot(column=col, ax=ax, \n",
    "                           cmap=mycmap, norm=mynorm, \n",
    "                           edgecolor=\"white\", lw=0.5,\n",
    "                           legend=True, legend_kwds=dict(shrink=0.5))\n",
    "    ax.autoscale()\n",
    "    pl.xlabel(\"UTM Zone 32 Easting\")\n",
    "    pl.ylabel(\"UTM Zone 32 Northing\")\n",
    "    pl.title(title)\n",
    "    pl.draw()\n",
    "\n",
    "    # Original radar data\n",
    "    ax1 = fig.add_subplot(212, aspect=\"equal\")\n",
    "    pm = ds.plot(x=\"x\", y=\"y\", cmap=radocmap, norm=radonorm, ax=ax1, \n",
    "                 cbar_kwargs=dict(shrink=0.5))\n",
    "    obj.zdata.trg.geo.plot(ax=ax1, facecolor=\"None\", edgecolor=\"white\")\n",
    "    pl.xlabel(\"UTM Zone 32 Easting\")\n",
    "    pl.ylabel(\"UTM Zone 32 Northing\")\n",
    "    pl.title(\"Original radar rain sums\")\n",
    "    pl.draw()\n",
    "    pl.tight_layout()"
   ]
  },
  {
   "cell_type": "markdown",
   "metadata": {},
   "source": [
    "## Zonal Stats Rectangular Grid"
   ]
  },
  {
   "cell_type": "code",
   "execution_count": null,
   "metadata": {},
   "outputs": [],
   "source": [
    "from matplotlib.collections import PatchCollection\n",
    "from matplotlib.colors import from_levels_and_colors\n",
    "import matplotlib.patches as patches\n",
    "import datetime as dt\n",
    "from osgeo import osr"
   ]
  },
  {
   "cell_type": "code",
   "execution_count": null,
   "metadata": {},
   "outputs": [],
   "source": [
    "# check for GEOS enabled GDAL\n",
    "if not wrl.util.has_geos():\n",
    "    print(\"NO GEOS support within GDAL, aborting...\")\n",
    "    exit(0)"
   ]
  },
  {
   "cell_type": "code",
   "execution_count": null,
   "metadata": {},
   "outputs": [],
   "source": [
    "# Read and prepare the actual data (RADOLAN)\n",
    "f = wrl.util.get_wradlib_data_file(\n",
    "    'radolan/misc/raa01-sf_10000-1406100050-dwd---bin.gz')\n",
    "ds = wrl.io.open_radolan_dataset(f)"
   ]
  },
  {
   "cell_type": "code",
   "execution_count": null,
   "metadata": {},
   "outputs": [],
   "source": [
    "gridres = ds.x.diff(\"x\")[0].values\n",
    "gridres"
   ]
  },
  {
   "cell_type": "code",
   "execution_count": null,
   "metadata": {},
   "outputs": [],
   "source": [
    "# create radolan projection osr object\n",
    "if ds.attrs[\"formatversion\"] >= 5:\n",
    "    proj_stereo = wrl.georef.create_osr(\"dwd-radolan-wgs84\")\n",
    "else:\n",
    "    proj_stereo = wrl.georef.create_osr(\"dwd-radolan-sphere\")\n",
    "\n",
    "# create UTM Zone 32 projection osr object\n",
    "proj_utm = osr.SpatialReference()\n",
    "proj_utm.ImportFromEPSG(32632)\n",
    "\n",
    "# Source projection of the shape data (in GK2)\n",
    "proj_gk2 = osr.SpatialReference()\n",
    "proj_gk2.ImportFromEPSG(31466)"
   ]
  },
  {
   "cell_type": "code",
   "execution_count": null,
   "metadata": {},
   "outputs": [],
   "source": [
    "print(proj_gk2)"
   ]
  },
  {
   "cell_type": "code",
   "execution_count": null,
   "metadata": {},
   "outputs": [],
   "source": [
    "shpfile = wrl.util.get_wradlib_data_file(\n",
    "    'shapefiles/agger/agger_merge.shp')\n",
    "trg = wrl.io.VectorSource(shpfile, srs=proj_utm, name=\"trg\", projection_source=proj_gk2)\n",
    "print(f\"Found {len(trg)} sub-catchments in shapefile.\")"
   ]
  },
  {
   "cell_type": "code",
   "execution_count": null,
   "metadata": {},
   "outputs": [],
   "source": [
    "print(trg.crs)"
   ]
  },
  {
   "cell_type": "code",
   "execution_count": null,
   "metadata": {},
   "outputs": [],
   "source": [
    "bbox = trg.extent\n",
    "buffer = 5000.\n",
    "bbox = dict(left=bbox[0] - buffer, right=bbox[1] + buffer,\n",
    "            bottom=bbox[2] - buffer, top=bbox[3] + buffer)\n",
    "print(bbox)"
   ]
  },
  {
   "cell_type": "code",
   "execution_count": null,
   "metadata": {},
   "outputs": [],
   "source": [
    "# Get RADOLAN grid coordinates\n",
    "x_rad, y_rad = np.meshgrid(ds.x, ds.y)\n",
    "grid_xy_radolan = np.stack([x_rad, y_rad], axis=-1)\n",
    "\n",
    "# Reproject the RADOLAN coordinates\n",
    "xy = wrl.georef.reproject(grid_xy_radolan,\n",
    "                          projection_source=proj_stereo,\n",
    "                          projection_target=proj_utm)\n",
    "\n",
    "# assign as coordinates\n",
    "ds = ds.assign_coords({\"xc\": ([\"y\", \"x\"], xy[..., 0], dict(long_name=\"UTM Zone 32 Easting\", units=\"m\")),\n",
    "                       \"yc\": ([\"y\", \"x\"], xy[..., 1], dict(long_name=\"UTM Zone 32 Northing\", units=\"m\"))})\n",
    "ds_clip = ds.where((((ds.yc > bbox['bottom']) & (ds.yc < bbox['top'])) &\n",
    "                    ((ds.xc > bbox['left']) & (ds.xc < bbox['right']))), drop=True)\n",
    "display(ds_clip)"
   ]
  },
  {
   "cell_type": "code",
   "execution_count": null,
   "metadata": {},
   "outputs": [],
   "source": [
    "###########################################################################\n",
    "# Approach #1: Assign grid points to each polygon and compute the average.\n",
    "#\n",
    "# - Uses matplotlib.path.Path\n",
    "# - Each point is weighted equally (assumption: polygon >> grid cell)\n",
    "# - this is quick, but theoretically dirty\n",
    "###########################################################################\n",
    "\n",
    "t1 = dt.datetime.now()\n",
    "\n",
    "# Get RADOLAN center grid points for each grid cell\n",
    "# (MUST BE DONE IN NATIVE RADOLAN COORDINATES)\n",
    "grid_x, grid_y = np.meshgrid(ds_clip.x, ds_clip.y)\n",
    "grdpoints = np.dstack([grid_x, grid_y]).reshape(-1, 2)\n",
    "\n",
    "src = wrl.io.VectorSource(grdpoints, srs=proj_utm, name=\"src\", projection_source=proj_stereo)\n",
    "trg = wrl.io.VectorSource(shpfile, srs=proj_utm, name=\"trg\", projection_source=proj_gk2)\n",
    "\n",
    "# Create instance of type ZonalDataPoint from source grid and\n",
    "# catchment array\n",
    "zd = wrl.zonalstats.ZonalDataPoint(src, trg, srs=proj_utm, buf=500.)\n",
    "# dump to file (for later use - see below)\n",
    "zd.dump_vector('test_zonal_points_cart')\n",
    "# Create instance of type ZonalStatsPoint from zonal data object\n",
    "obj1 = wrl.zonalstats.ZonalStatsPoint(zd)\n",
    "\n",
    "isecs1 = obj1.zdata.isecs  # for plotting (see below)\n",
    "\n",
    "t2 = dt.datetime.now()\n",
    "\n",
    "t3 = dt.datetime.now()\n",
    "\n",
    "# Create instance of type ZonalStatsPoint from zonal data file\n",
    "# (much faster)\n",
    "obj1 = wrl.zonalstats.ZonalStatsPoint('test_zonal_points_cart')\n",
    "\n",
    "# Compute stats for target polygons\n",
    "avg1 = obj1.mean(ds_clip.SF.values.ravel())\n",
    "var1 = obj1.var(ds_clip.SF.values.ravel())\n",
    "\n",
    "\n",
    "t4 = dt.datetime.now()\n",
    "\n",
    "print(\"Approach #1 computation time:\")\n",
    "print(\"\\tCreate object from scratch: %f \"\n",
    "      \"seconds\" % (t2 - t1).total_seconds())\n",
    "print(\"\\tCreate object from dumped file: %f \"\n",
    "      \"seconds\" % (t4 - t3).total_seconds())\n",
    "print(\"\\tCompute stats using object: %f \"\n",
    "      \"seconds\" % (t3 - t2).total_seconds())\n",
    "\n",
    "# PLOTTING Approach #1\n",
    "\n",
    "src = wrl.io.VectorSource(grdpoints, srs=proj_utm, name=\"src\", projection_source=proj_stereo)\n",
    "trg = wrl.io.VectorSource(shpfile, srs=proj_utm, name=\"trg\", projection_source=proj_gk2)\n",
    "# Just a test for plotting results with zero buffer\n",
    "zd2 = wrl.zonalstats.ZonalDataPoint(src, trg, buf=0)\n",
    "# Create instance of type ZonalStatsPoint from zonal data object\n",
    "obj2 = wrl.zonalstats.ZonalStatsPoint(zd2)\n",
    "# copy attributes to target layer\n",
    "obj2.zdata.trg.set_attribute(\"mean\", avg1)\n",
    "obj2.zdata.trg.set_attribute(\"var\", var1)\n",
    "isecs2 = obj2.zdata.isecs"
   ]
  },
  {
   "cell_type": "code",
   "execution_count": null,
   "metadata": {},
   "outputs": [],
   "source": [
    "# Illustrate results for an example catchment i\n",
    "i = 6  # try e.g. 5, 2\n",
    "fig = pl.figure(figsize=(10,8))\n",
    "ax = fig.add_subplot(111, aspect=\"equal\")\n",
    "\n",
    "# Target polygon patches\n",
    "trg_patch = obj2.zdata.trg.get_data_by_idx([i], mode=\"geo\")\n",
    "trg_patch.plot(ax=ax, facecolor=\"None\", edgecolor=\"black\", linewidth=2)\n",
    "trg_patch = obj1.zdata.trg.get_data_by_idx([i], mode=\"geo\")\n",
    "trg_patch.plot(ax=ax, facecolor=\"None\", edgecolor=\"grey\", linewidth=2)\n",
    "\n",
    "# pips\n",
    "sources = obj1.zdata.src.geo\n",
    "sources.plot(ax=ax, label=\"all points\", c=\"grey\", markersize=200)\n",
    "isecs1 = obj2.zdata.dst.get_data_by_att(attr=\"trg_index\", value=[i], mode=\"geo\")\n",
    "isecs1.plot(ax=ax, label=\"buffer=0 m\", c=\"green\", markersize=200)\n",
    "isecs2 = obj1.zdata.dst.get_data_by_att(attr=\"trg_index\", value=[i], mode=\"geo\")\n",
    "isecs2.plot(ax=ax, label=\"buffer=500 m\", c=\"red\", markersize=50)\n",
    "\n",
    "cat = trg.get_data_by_idx([i])[0]\n",
    "bbox = wrl.zonalstats.get_bbox(cat[..., 0], cat[..., 1])\n",
    "pl.xlim(bbox[\"left\"] - 2000, bbox[\"right\"] + 2000)\n",
    "pl.ylim(bbox[\"bottom\"] - 2000, bbox[\"top\"] + 2000)\n",
    "pl.legend()\n",
    "pl.title(\"Catchment #%d: Points considered for stats\" % i)"
   ]
  },
  {
   "cell_type": "code",
   "execution_count": null,
   "metadata": {},
   "outputs": [],
   "source": [
    "# Plot average rainfall and original data\n",
    "testplot(ds_clip.SF, obj2, col=\"mean\", title=\"Catchment rainfall mean (ZonalStatsPoint)\")"
   ]
  },
  {
   "cell_type": "code",
   "execution_count": null,
   "metadata": {},
   "outputs": [],
   "source": [
    "testplot(ds_clip.SF, obj2, col=\"var\",\n",
    "         levels=np.arange(0, np.max(var1), 1.),\n",
    "         title=\"Catchment rainfall variance (ZonalStatsPoint)\")"
   ]
  },
  {
   "cell_type": "code",
   "execution_count": null,
   "metadata": {},
   "outputs": [],
   "source": [
    "###########################################################################\n",
    "# Approach #2: Compute weighted mean based on fraction of source polygons\n",
    "# in target polygons\n",
    "#\n",
    "# - This is more accurate (no assumptions), but probably slower...\n",
    "###########################################################################\n",
    "\n",
    "# Create vertices for each grid cell\n",
    "# (MUST BE DONE IN NATIVE RADOLAN COORDINATES)\n",
    "grid_x, grid_y = np.meshgrid(ds_clip.x, ds_clip.y)\n",
    "grdverts = wrl.zonalstats.grid_centers_to_vertices(grid_x,\n",
    "                                                   grid_y, \n",
    "                                                   gridres, gridres)\n",
    "# And reproject to Cartesian reference system (here: UTM Zone 32)\n",
    "src = wrl.io.VectorSource(grdverts, srs=proj_utm, name=\"src\", projection_source=proj_stereo)\n",
    "trg = wrl.io.VectorSource(shpfile, srs=proj_utm, name=\"trg\", projection_source=proj_gk2)\n",
    "\n",
    "t1 = dt.datetime.now()\n",
    "\n",
    "# Create instance of type ZonalDataPoly from source grid and\n",
    "# catchment array\n",
    "zd = wrl.zonalstats.ZonalDataPoly(src, trg, srs=proj_utm)\n",
    "# dump to file\n",
    "zd.dump_vector('test_zonal_poly_cart')\n",
    "# Create instance of type ZonalStatsPoint from zonal data object\n",
    "obj3 = wrl.zonalstats.ZonalStatsPoly(zd)\n",
    "\n",
    "t2 = dt.datetime.now()\n",
    "\n",
    "t3 = dt.datetime.now()\n",
    "\n",
    "# Create instance of type ZonalStatsPoly from zonal data file\n",
    "obj3 = wrl.zonalstats.ZonalStatsPoly('test_zonal_poly_cart')\n",
    "# Compute stats for target polygons\n",
    "avg3 = obj3.mean(ds_clip.SF.values.ravel())\n",
    "var3 = obj3.var(ds_clip.SF.values.ravel())\n",
    "\n",
    "t4 = dt.datetime.now()\n",
    "\n",
    "print(\"Approach #2 computation time:\")\n",
    "print(\"\\tCreate object from scratch: %f \"\n",
    "      \"seconds\" % (t2 - t1).total_seconds())\n",
    "print(\"\\tCreate object from dumped file: %f \"\n",
    "      \"seconds\" % (t4 - t3).total_seconds())\n",
    "print(\"\\tCompute stats using object: %f \"\n",
    "      \"seconds\" % (t3 - t2).total_seconds())"
   ]
  },
  {
   "cell_type": "code",
   "execution_count": null,
   "metadata": {},
   "outputs": [],
   "source": [
    "# PLOTTING Approach #2\n",
    "\n",
    "# Plot average rainfall and original data\n",
    "testplot(ds.SF, obj3, col=\"mean\",\n",
    "         title=\"Catchment rainfall mean (ZonalStatsPoly)\")"
   ]
  },
  {
   "cell_type": "code",
   "execution_count": null,
   "metadata": {},
   "outputs": [],
   "source": [
    "testplot(ds.SF, obj3, col=\"var\",\n",
    "         levels=np.arange(0, np.max(var3), 1.),\n",
    "         title=\"Catchment rainfall variance (ZonalStatsPoly)\")"
   ]
  },
  {
   "cell_type": "code",
   "execution_count": null,
   "metadata": {},
   "outputs": [],
   "source": [
    "ds_clip"
   ]
  },
  {
   "cell_type": "code",
   "execution_count": null,
   "metadata": {},
   "outputs": [],
   "source": [
    "# Illustrate results for an example catchment i\n",
    "i = 6  # try e.g. 5, 2\n",
    "fig = pl.figure(figsize=(10,8))\n",
    "ax = fig.add_subplot(111, aspect=\"equal\")\n",
    "\n",
    "# Grid cell patches\n",
    "src_index = obj3.zdata.get_source_index(i)\n",
    "trg_patch = obj3.zdata.src.get_data_by_idx(src_index, mode=\"geo\")\n",
    "trg_patch.plot(ax=ax, facecolor=\"None\", edgecolor=\"black\")\n",
    "\n",
    "# Target polygon patches\n",
    "trg_patch = obj3.zdata.trg.get_data_by_idx([i], mode=\"geo\")\n",
    "trg_patch.plot(ax=ax, facecolor=\"None\", edgecolor=\"red\", linewidth=2)\n",
    "\n",
    "# intersections\n",
    "isecs1 = obj3.zdata.dst.get_data_by_att(attr=\"trg_index\", value=[i], mode=\"geo\")\n",
    "isecs1.plot(column=\"src_index\", ax=ax, cmap=pl.cm.plasma, alpha=0.5)\n",
    "\n",
    "# scatter center points\n",
    "ds_clip.plot.scatter(x=\"xc\", y=\"yc\", s=10)\n",
    "\n",
    "cat = trg.get_data_by_idx([i])[0]\n",
    "bbox = wrl.zonalstats.get_bbox(cat[..., 0], cat[..., 1])\n",
    "pl.xlim(bbox[\"left\"] - 2000, bbox[\"right\"] + 2000)\n",
    "pl.ylim(bbox[\"bottom\"] - 2000, bbox[\"top\"] + 2000)\n",
    "pl.legend()\n",
    "pl.title(\"Catchment #%d: Polygons considered for stats\" % i)\n",
    "#pl.gca().set_xlim(402000, 404000)\n",
    "#pl.gca().set_ylim(5642000, 5644000)"
   ]
  },
  {
   "cell_type": "code",
   "execution_count": null,
   "metadata": {},
   "outputs": [],
   "source": [
    "# Compare estimates\n",
    "maxlim = np.max(np.concatenate((avg1, avg3)))\n",
    "fig = pl.figure(figsize=(10, 8))\n",
    "ax = fig.add_subplot(111, aspect=\"equal\")\n",
    "pl.scatter(avg1, avg3, edgecolor=\"None\", alpha=0.5)\n",
    "pl.xlabel(\"Average of points in or close to polygon (mm)\")\n",
    "pl.ylabel(\"Area-weighted average (mm)\")\n",
    "pl.xlim(0, maxlim)\n",
    "pl.ylim(0, maxlim)\n",
    "pl.plot([-1, maxlim + 1], [-1, maxlim + 1], color=\"black\")\n",
    "pl.show()"
   ]
  },
  {
   "cell_type": "markdown",
   "metadata": {},
   "source": [
    "## Zonal Stats Polar Grid"
   ]
  },
  {
   "cell_type": "code",
   "execution_count": null,
   "metadata": {},
   "outputs": [],
   "source": [
    "def create_center_coords(ds, proj=None):\n",
    "    # create polar grid centroids in GK2\n",
    "    center = wrl.georef.spherical_to_centroids(ds.data.r, \n",
    "                                               ds.azimuth.values, \n",
    "                                               ds.elevation.values, \n",
    "                                               (ds.longitude.values, ds.latitude.values, ds.altitude.values),\n",
    "                                               proj=proj)\n",
    "    ds = ds.assign_coords({\"xc\": ([\"azimuth\", \"range\"], center[..., 0]),\n",
    "                           \"yc\": ([\"azimuth\", \"range\"], center[..., 1]),\n",
    "                           \"zc\": ([\"azimuth\", \"range\"], center[..., 2])})\n",
    "    return ds\n",
    "    "
   ]
  },
  {
   "cell_type": "code",
   "execution_count": null,
   "metadata": {},
   "outputs": [],
   "source": [
    "filename = wrl.util.get_wradlib_data_file('hdf5/rainsum_boxpol_20140609.h5')\n",
    "ds = xr.open_dataset(filename)\n",
    "ds = ds.rename_dims({\"phony_dim_0\": \"azimuth\", \"phony_dim_1\": \"range\"})\n",
    "ds = ds.assign_coords({\"latitude\": ds.data.Latitude,\n",
    "                       \"longitude\": ds.data.Longitude, \n",
    "                       \"altitude\": 99.5,\n",
    "                       \"azimuth\": ds.data.az,\n",
    "                       # bin centers\n",
    "                       \"range\": ds.data.r - np.median(np.diff(ds.data.r)) / 2.,\n",
    "                       \"sweep_mode\": \"azimuth_surveillance\",\n",
    "                       \"elevation\": 0.5}\n",
    "                     )"
   ]
  },
  {
   "cell_type": "code",
   "execution_count": null,
   "metadata": {},
   "outputs": [],
   "source": [
    "ds = ds.pipe(wrl.georef.georeference_dataset, proj=proj_utm)\n",
    "ds = ds.pipe(create_center_coords, proj=proj_utm)\n",
    "display(ds)"
   ]
  },
  {
   "cell_type": "code",
   "execution_count": null,
   "metadata": {},
   "outputs": [],
   "source": [
    "# reshape\n",
    "shpfile = wrl.util.get_wradlib_data_file('shapefiles/agger/agger_merge.shp')\n",
    "trg = wrl.io.VectorSource(shpfile, srs=proj_utm, name=\"trg\", projection_source=proj_gk2)\n",
    "\n",
    "bbox = trg.extent\n",
    "\n",
    "# create catchment bounding box\n",
    "buffer = 5000.\n",
    "bbox = dict(left=bbox[0] - buffer, right=bbox[1] + buffer,\n",
    "            bottom=bbox[2] - buffer, top=bbox[3] + buffer)"
   ]
  },
  {
   "cell_type": "code",
   "execution_count": null,
   "metadata": {},
   "outputs": [],
   "source": [
    "ds_clip = ds.where((((ds.yc > bbox['bottom']) & (ds.yc < bbox['top'])) &\n",
    "                    ((ds.xc > bbox['left']) & (ds.xc < bbox['right']))), drop=True)\n",
    "display(ds_clip)"
   ]
  },
  {
   "cell_type": "code",
   "execution_count": null,
   "metadata": {},
   "outputs": [],
   "source": [
    "radar_utmc = np.dstack([ds_clip.xc, ds_clip.yc]).reshape(-1, 2)\n",
    "radar_utmc.shape"
   ]
  },
  {
   "cell_type": "code",
   "execution_count": null,
   "metadata": {},
   "outputs": [],
   "source": [
    "trg = wrl.io.VectorSource(shpfile, srs=proj_utm, name=\"trg\", projection_source=proj_gk2)\n",
    "src = wrl.io.VectorSource(radar_utmc, srs=proj_utm, name=\"src\")"
   ]
  },
  {
   "cell_type": "code",
   "execution_count": null,
   "metadata": {},
   "outputs": [],
   "source": [
    "###########################################################################\n",
    "# Approach #1: Assign grid points to each polygon and compute the average.\n",
    "#\n",
    "# - Uses matplotlib.path.Path\n",
    "# - Each point is weighted equally (assumption: polygon >> grid cell)\n",
    "# - this is quick, but theoretically dirty\n",
    "# - for polar grids a range-area dependency has to be taken into account\n",
    "###########################################################################\n",
    "\n",
    "t1 = dt.datetime.now()\n",
    "\n",
    "# Create instance of type ZonalDataPoint from source grid and\n",
    "# catchment array\n",
    "zd = wrl.zonalstats.ZonalDataPoint(src, trg, srs=proj_utm,\n",
    "                                   buf=500.)\n",
    "# dump to file\n",
    "zd.dump_vector('test_zonal_points')\n",
    "# Create instance of type ZonalStatsPoint from zonal data object\n",
    "obj1 = wrl.zonalstats.ZonalStatsPoint(zd)\n",
    "\n",
    "isecs1 = obj1.zdata.isecs\n",
    "t2 = dt.datetime.now()\n",
    "\n",
    "t3 = dt.datetime.now()\n",
    "\n",
    "# Create instance of type ZonalStatsPoint from zonal data file\n",
    "obj1 = wrl.zonalstats.ZonalStatsPoint('test_zonal_points')\n",
    "# Compute stats for target polygons\n",
    "avg1 = obj1.mean(ds_clip.data.values.ravel())\n",
    "var1 = obj1.var(ds_clip.data.values.ravel())\n",
    "\n",
    "t4 = dt.datetime.now()\n",
    "\n",
    "print (\"Approach #1 computation time:\")\n",
    "print(\n",
    "\"\\tCreate object from scratch: %f seconds\" % (t2 - t1).total_seconds())\n",
    "print(\n",
    "\"\\tCreate object from dumped file: %f seconds\" % (t4 - t3).total_seconds())\n",
    "print(\n",
    "\"\\tCompute stats using object: %f seconds\" % (t3 - t2).total_seconds())"
   ]
  },
  {
   "cell_type": "code",
   "execution_count": null,
   "metadata": {},
   "outputs": [],
   "source": [
    "# PLOTTING Approach #2\n",
    "src1 = wrl.io.VectorSource(radar_utmc, srs=proj_utm, name=\"src\")\n",
    "trg1 = wrl.io.VectorSource(shpfile, srs=proj_utm, name=\"trg\", projection_source=proj_gk2)\n",
    "\n",
    "# Just a test for plotting results with zero buffer\n",
    "zd = wrl.zonalstats.ZonalDataPoint(src1, trg1, buf=0)\n",
    "# Create instance of type ZonalStatsPoint from zonal data object\n",
    "obj2 = wrl.zonalstats.ZonalStatsPoint(zd)\n",
    "obj2.zdata.trg.set_attribute(\"mean\", avg1)\n",
    "obj2.zdata.trg.set_attribute(\"var\", var1)\n",
    "\n",
    "isecs2 = obj2.zdata.isecs"
   ]
  },
  {
   "cell_type": "code",
   "execution_count": null,
   "metadata": {},
   "outputs": [],
   "source": [
    "# Illustrate results for an example catchment i\n",
    "i = 0  # try e.g. 5, 2\n",
    "fig = pl.figure(figsize=(10,8))\n",
    "ax = fig.add_subplot(111, aspect=\"equal\")\n",
    "\n",
    "# Target polygon patches\n",
    "trg_patch = obj2.zdata.trg.get_data_by_idx([i], mode=\"geo\")\n",
    "trg_patch.plot(ax=ax, facecolor=\"None\", edgecolor=\"black\", linewidth=2)\n",
    "trg_patch = obj1.zdata.trg.get_data_by_idx([i], mode=\"geo\")\n",
    "trg_patch.plot(ax=ax, facecolor=\"None\", edgecolor=\"grey\", linewidth=2)\n",
    "\n",
    "# pips\n",
    "sources = obj1.zdata.src.geo\n",
    "sources.plot(ax=ax, label=\"all points\", c=\"grey\", markersize=200)\n",
    "isecs1 = obj2.zdata.dst.get_data_by_att(attr=\"trg_index\", value=[i], mode=\"geo\")\n",
    "isecs1.plot(ax=ax, label=\"buffer=0 m\", c=\"green\", markersize=200)\n",
    "isecs2 = obj1.zdata.dst.get_data_by_att(attr=\"trg_index\", value=[i], mode=\"geo\")\n",
    "isecs2.plot(ax=ax, label=\"buffer=500 m\", c=\"red\", markersize=50)\n",
    "\n",
    "cat = trg.get_data_by_idx([i])[0]\n",
    "bbox = wrl.zonalstats.get_bbox(cat[..., 0], cat[..., 1])\n",
    "pl.xlim(bbox[\"left\"] - 2000, bbox[\"right\"] + 2000)\n",
    "pl.ylim(bbox[\"bottom\"] - 2000, bbox[\"top\"] + 2000)\n",
    "pl.legend()\n",
    "pl.title(\"Catchment #%d: Points considered for stats\" % i)"
   ]
  },
  {
   "cell_type": "code",
   "execution_count": null,
   "metadata": {},
   "outputs": [],
   "source": [
    "# Plot average rainfall and original data\n",
    "testplot(ds_clip.data, obj2, col=\"mean\",\n",
    "         title=\"Catchment rainfall mean (ZonalStatsPoint)\")"
   ]
  },
  {
   "cell_type": "code",
   "execution_count": null,
   "metadata": {},
   "outputs": [],
   "source": [
    "testplot(ds_clip.data, obj2, col=\"var\", levels=np.arange(0, 20, 1.0),\n",
    "         title=\"Catchment rainfall variance (ZonalStatsPoint)\")"
   ]
  },
  {
   "cell_type": "code",
   "execution_count": null,
   "metadata": {},
   "outputs": [],
   "source": [
    "radar_utm = wrl.georef.spherical_to_polyvert(ds.range.values + np.median(np.diff(ds.range.values)) / 2., \n",
    "                                 ds.azimuth.values, \n",
    "                                 0.5, \n",
    "                                 (ds.longitude.values, ds.latitude.values, ds.altitude.values),\n",
    "                                 proj=proj_utm)\n",
    "radar_utm.shape = (360, 1000, 5, 3)\n",
    "ds = ds.assign_coords({\"xp\": ([\"azimuth\", \"range\", \"verts\"], radar_utm[..., 0]),\n",
    "                       \"yp\": ([\"azimuth\", \"range\", \"verts\"], radar_utm[..., 1]),\n",
    "                       \"zp\": ([\"azimuth\", \"range\", \"verts\"], radar_utm[..., 2])})\n",
    "\n",
    "trg = wrl.io.VectorSource(shpfile, srs=proj_utm, name=\"trg\", projection_source=proj_gk2)\n",
    "bbox = trg.extent\n",
    "\n",
    "# create catchment bounding box\n",
    "buffer = 5000.\n",
    "bbox = dict(left=bbox[0] - buffer, right=bbox[1] + buffer,\n",
    "            bottom=bbox[2] - buffer, top=bbox[3] + buffer)\n",
    "ds_clip = ds.where((((ds.yc > bbox['bottom']) & (ds.yc < bbox['top'])) &\n",
    "                    ((ds.xc > bbox['left']) & (ds.xc < bbox['right']))), drop=True)\n",
    "display(ds_clip)"
   ]
  },
  {
   "cell_type": "code",
   "execution_count": null,
   "metadata": {},
   "outputs": [],
   "source": [
    "radar_utm = np.stack([ds_clip.xp, ds_clip.yp], axis=-1).reshape(-1, 5, 2)\n",
    "print(radar_utm.shape)\n",
    "src = wrl.io.VectorSource(radar_utm, srs=proj_utm, name=\"src\")\n",
    "trg = wrl.io.VectorSource(shpfile, srs=proj_utm, name=\"trg\", projection_source=proj_gk2)"
   ]
  },
  {
   "cell_type": "code",
   "execution_count": null,
   "metadata": {},
   "outputs": [],
   "source": [
    "###########################################################################\n",
    "# Approach #2: Compute weighted mean based on fraction of source polygons\n",
    "# in target polygons\n",
    "#\n",
    "# - This is more accurate (no assumptions), but probably slower...\n",
    "###########################################################################\n",
    "\n",
    "t1 = dt.datetime.now()\n",
    "\n",
    "# Create instance of type ZonalDataPoly from source grid and\n",
    "# catchment array\n",
    "zd = wrl.zonalstats.ZonalDataPoly(src, trg, srs=proj_utm)\n",
    "# dump to file\n",
    "zd.dump_vector('test_zonal_poly')\n",
    "# Create instance of type ZonalStatsPoint from zonal data object\n",
    "obj3 = wrl.zonalstats.ZonalStatsPoly(zd)\n",
    "\n",
    "obj3.zdata.dump_vector('test_zonal_poly')\n",
    "t2 = dt.datetime.now()\n",
    "\n",
    "\n",
    "t3 = dt.datetime.now()\n",
    "\n",
    "# Create instance of type ZonalStatsPoly from zonal data file\n",
    "obj4 = wrl.zonalstats.ZonalStatsPoly('test_zonal_poly')\n",
    "\n",
    "avg3 = obj4.mean(ds_clip.data.values.ravel())\n",
    "var3 = obj4.var(ds_clip.data.values.ravel())\n",
    "\n",
    "\n",
    "t4 = dt.datetime.now()\n",
    "\n",
    "print (\"Approach #2 computation time:\")\n",
    "print(\n",
    "\"\\tCreate object from scratch: %f seconds\" % (t2 - t1).total_seconds())\n",
    "print(\n",
    "\"\\tCreate object from dumped file: %f seconds\" % (t4 - t3).total_seconds())\n",
    "print(\n",
    "\"\\tCompute stats using object: %f seconds\" % (t3 - t2).total_seconds())\n",
    "\n",
    "obj4.zdata.trg.dump_raster('test_zonal_hdr.nc', 'netCDF', 'mean',\n",
    "                           pixel_size=100.)\n",
    "\n",
    "obj4.zdata.trg.dump_vector('test_zonal_shp')\n",
    "obj4.zdata.trg.dump_vector('test_zonal_json.geojson', 'GeoJSON')\n",
    "\n",
    "# Target polygon patches\n",
    "trg_patches = [patches.Polygon(item, True) for item in obj3.zdata.trg.data]"
   ]
  },
  {
   "cell_type": "code",
   "execution_count": null,
   "metadata": {},
   "outputs": [],
   "source": [
    "ds_clip.data.plot(x=\"x\", y=\"y\")"
   ]
  },
  {
   "cell_type": "code",
   "execution_count": null,
   "metadata": {},
   "outputs": [],
   "source": [
    "# Plot average rainfall and original data\n",
    "testplot(ds_clip.data, obj4, col=\"mean\",\n",
    "         title=\"Catchment rainfall mean (PolarZonalStatsPoly)\")"
   ]
  },
  {
   "cell_type": "code",
   "execution_count": null,
   "metadata": {},
   "outputs": [],
   "source": [
    "testplot(ds_clip.data, obj4, col=\"var\", levels=np.arange(0, 20, 1.0),\n",
    "         title=\"Catchment rainfall variance (PolarZonalStatsPoly)\")"
   ]
  },
  {
   "cell_type": "code",
   "execution_count": null,
   "metadata": {},
   "outputs": [],
   "source": [
    "# Illustrate results for an example catchment i\n",
    "i = 0  # try e.g. 5, 2\n",
    "fig = pl.figure(figsize=(10,8))\n",
    "ax = fig.add_subplot(111, aspect=\"equal\")\n",
    "\n",
    "# Grid cell patches\n",
    "src_index = obj3.zdata.get_source_index(i)\n",
    "trg_patch = obj3.zdata.src.get_data_by_idx(src_index, mode=\"geo\")\n",
    "trg_patch.plot(ax=ax, facecolor=\"None\", edgecolor=\"black\")\n",
    "\n",
    "# Target polygon patches\n",
    "trg_patch = obj3.zdata.trg.get_data_by_idx([i], mode=\"geo\")\n",
    "trg_patch.plot(ax=ax, facecolor=\"None\", edgecolor=\"red\", linewidth=2)\n",
    "\n",
    "# intersections\n",
    "isecs1 = obj3.zdata.dst.get_data_by_att(attr=\"trg_index\", value=[i], mode=\"geo\")\n",
    "isecs1.plot(column=\"src_index\", ax=ax, cmap=pl.cm.plasma, alpha=0.5)\n",
    "\n",
    "# scatter center points\n",
    "ds_clip.plot.scatter(x=\"xc\", y=\"yc\", s=10)\n",
    "\n",
    "cat = trg.get_data_by_idx([i])[0]\n",
    "bbox = wrl.zonalstats.get_bbox(cat[..., 0], cat[..., 1])\n",
    "pl.xlim(bbox[\"left\"] - 2000, bbox[\"right\"] + 2000)\n",
    "pl.ylim(bbox[\"bottom\"] - 2000, bbox[\"top\"] + 2000)\n",
    "pl.legend()\n",
    "pl.title(\"Catchment #%d: Polygons considered for stats\" % i)\n",
    "pl.gca().set_xlim(402000, 404000)\n",
    "pl.gca().set_ylim(5654000, 5656000)\n"
   ]
  },
  {
   "cell_type": "code",
   "execution_count": null,
   "metadata": {},
   "outputs": [],
   "source": [
    "# Compare estimates\n",
    "maxlim = np.max(np.concatenate((avg1, avg3)))\n",
    "fig = pl.figure(figsize=(10, 8))\n",
    "ax = fig.add_subplot(111, aspect=\"equal\")\n",
    "pl.scatter(avg1, avg3, edgecolor=\"None\", alpha=0.5)\n",
    "pl.xlabel(\"Average of points in or close to polygon (mm)\")\n",
    "pl.ylabel(\"Area-weighted average (mm)\")\n",
    "pl.xlim(0, maxlim)\n",
    "pl.ylim(0, maxlim)\n",
    "pl.plot([-1, maxlim + 1], [-1, maxlim + 1], color=\"black\")\n",
    "pl.show()"
   ]
  }
 ],
 "metadata": {
  "celltoolbar": "Edit Metadata",
  "language_info": {
   "codemirror_mode": {
    "name": "ipython",
    "version": 3
   },
   "file_extension": ".py",
   "mimetype": "text/x-python",
   "name": "python",
   "nbconvert_exporter": "python",
   "pygments_lexer": "ipython3",
   "version": "3.10.0"
  },
  "toc": {
   "colors": {
    "hover_highlight": "#DAA520",
    "navigate_num": "#000000",
    "navigate_text": "#333333",
    "running_highlight": "#FF0000",
    "selected_highlight": "#FFD700",
    "sidebar_border": "#EEEEEE",
    "wrapper_background": "#FFFFFF"
   },
   "moveMenuLeft": true,
   "nav_menu": {
    "height": "86px",
    "width": "252px"
   },
   "navigate_menu": true,
   "number_sections": false,
   "sideBar": true,
   "threshold": 4,
   "toc_cell": false,
   "toc_section_display": "block",
   "toc_window_display": false,
   "widenNotebook": false
  }
 },
 "nbformat": 4,
 "nbformat_minor": 1
}
