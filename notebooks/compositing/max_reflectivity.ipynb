{
 "cells": [
  {
   "cell_type": "markdown",
   "metadata": {
    "nbsphinx": "hidden"
   },
   "source": [
    "This notebook is part of the $\\omega radlib$ documentation: https://docs.wradlib.org.\n",
    "\n",
    "Copyright (c) $\\omega radlib$ developers.\n",
    "Distributed under the MIT License. See LICENSE.txt for more info."
   ]
  },
  {
   "cell_type": "markdown",
   "metadata": {},
   "source": [
    "# Production of a maximum reflectivity composite"
   ]
  },
  {
   "cell_type": "code",
   "execution_count": null,
   "metadata": {},
   "outputs": [],
   "source": [
    "import os\n",
    "import numpy as np\n",
    "import wradlib\n",
    "import xarray\n",
    "import xradar\n",
    "import matplotlib.pyplot as plt"
   ]
  },
  {
   "cell_type": "markdown",
   "metadata": {},
   "source": [
    "Read volume reflectivity measurements from the three belgian radars"
   ]
  },
  {
   "cell_type": "code",
   "execution_count": null,
   "metadata": {},
   "outputs": [],
   "source": [
    "from wradlib_data import DATASETS\n",
    "\n",
    "filenames = [\"bejab.pvol.hdf\", \"bewid.pvol.hdf\", \"behel.pvol.hdf\"]\n",
    "paths = [DATASETS.fetch(f\"hdf5/{f}\") for f in filenames]\n",
    "volumes = [xradar.io.backends.odim.open_odim_datatree(p) for p in paths]"
   ]
  },
  {
   "cell_type": "markdown",
   "metadata": {},
   "source": [
    "Define a raster dataset with a window including the 3 radars, a pixel size of 1km and the standard European projection."
   ]
  },
  {
   "cell_type": "code",
   "execution_count": null,
   "metadata": {},
   "outputs": [],
   "source": [
    "crs = wradlib.georef.epsg_to_osr(3035)\n",
    "bounds = [0, 8, 48, 53]\n",
    "bounds = wradlib.georef.project_bounds(bounds, crs)\n",
    "print(bounds)\n",
    "size = 1000\n",
    "raster = wradlib.georef.create_raster_xarray(crs, bounds, size)"
   ]
  },
  {
   "cell_type": "markdown",
   "metadata": {},
   "source": [
    "Define a geographic raster dataset with a window including the 3 radars, and an approximate pixel size of 1km. "
   ]
  },
  {
   "cell_type": "code",
   "execution_count": null,
   "metadata": {},
   "outputs": [],
   "source": [
    "crs = wradlib.georef.epsg_to_osr(3035)\n",
    "bounds = [0, 8, 48, 53]\n",
    "size = 1000\n",
    "raster2 = wradlib.georef.create_raster_geographic(bounds, size, size_in_meters=True)"
   ]
  },
  {
   "cell_type": "markdown",
   "metadata": {},
   "source": [
    "Combine lowest radar sweep into a raster image for each radar"
   ]
  },
  {
   "cell_type": "code",
   "execution_count": null,
   "metadata": {},
   "outputs": [],
   "source": [
    "# raster = raster2\n",
    "metadata = xradar.model.required_sweep_metadata_vars\n",
    "rasters = []\n",
    "for volume in volumes:\n",
    "    sweep = volume[\"sweep_0\"].to_dataset()\n",
    "    sweep = sweep[[\"DBZH\"] + list(metadata)]\n",
    "    sweep = sweep.sel(range=slice(0, 200e3))\n",
    "    raster_sweep = wradlib.comp.sweep_to_raster(sweep, raster)\n",
    "    rasters.append(raster_sweep)\n",
    "\n",
    "for raster in rasters:\n",
    "    raster = raster.drop_vars(\"spatial_ref\")\n",
    "    raster[\"DBZH\"].plot(vmin=0, vmax=50)\n",
    "    plt.axis(\"equal\")\n",
    "    plt.show()"
   ]
  },
  {
   "cell_type": "markdown",
   "metadata": {},
   "source": [
    "Take the maximum value from the 3 rasters"
   ]
  },
  {
   "cell_type": "code",
   "execution_count": null,
   "metadata": {},
   "outputs": [],
   "source": [
    "rasters_concat = xarray.concat(rasters, dim=\"sweep\")\n",
    "comp = rasters_concat.max(dim=\"sweep\", keep_attrs=True)\n",
    "comp[\"DBZH\"].plot(vmin=0, vmax=50)\n",
    "with open(\"comp.nc\", \"wb\") as f:\n",
    "    comp.to_netcdf(f)\n",
    "!gdalinfo comp.nc\n",
    "ds = xarray.open_dataset(\"comp.nc\", engine=\"rasterio\")\n",
    "comp = comp.drop_vars(\"spatial_ref\")\n",
    "plt.axis(\"equal\")\n",
    "plt.show()"
   ]
  },
  {
   "cell_type": "code",
   "execution_count": null,
   "metadata": {},
   "outputs": [],
   "source": []
  }
 ],
 "metadata": {
  "language_info": {
   "codemirror_mode": {
    "name": "ipython",
    "version": 3
   },
   "file_extension": ".py",
   "mimetype": "text/x-python",
   "name": "python",
   "nbconvert_exporter": "python",
   "pygments_lexer": "ipython3",
   "version": "3.13.3"
  },
  "toc": {
   "colors": {
    "hover_highlight": "#DAA520",
    "navigate_num": "#000000",
    "navigate_text": "#333333",
    "running_highlight": "#FF0000",
    "selected_highlight": "#FFD700",
    "sidebar_border": "#EEEEEE",
    "wrapper_background": "#FFFFFF"
   },
   "moveMenuLeft": true,
   "nav_menu": {
    "height": "47px",
    "width": "252px"
   },
   "navigate_menu": true,
   "number_sections": false,
   "sideBar": true,
   "threshold": 4,
   "toc_cell": false,
   "toc_section_display": "block",
   "toc_window_display": false,
   "widenNotebook": false
  }
 },
 "nbformat": 4,
 "nbformat_minor": 4
}
