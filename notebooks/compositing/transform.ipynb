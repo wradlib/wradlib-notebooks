{
 "cells": [
  {
   "cell_type": "markdown",
   "metadata": {
    "nbsphinx": "hidden"
   },
   "source": [
    "This notebook is part of the $\\omega radlib$ documentation: https://docs.wradlib.org.\n",
    "\n",
    "Copyright (c) $\\omega radlib$ developers.\n",
    "Distributed under the MIT License. See LICENSE.txt for more info."
   ]
  },
  {
   "cell_type": "markdown",
   "metadata": {},
   "source": [
    "# Comparaison of transformation methods"
   ]
  },
  {
   "cell_type": "code",
   "execution_count": null,
   "metadata": {},
   "outputs": [],
   "source": [
    "import time\n",
    "\n",
    "import matplotlib.pyplot as plt\n",
    "import wradlib\n",
    "import xarray\n",
    "import xradar"
   ]
  },
  {
   "cell_type": "markdown",
   "metadata": {},
   "source": [
    "Get a radar sweep with reflectivity measurements and metadata"
   ]
  },
  {
   "cell_type": "code",
   "execution_count": null,
   "metadata": {},
   "outputs": [],
   "source": [
    "from wradlib_data import DATASETS\n",
    "\n",
    "filename = \"hdf5/71_20181220_060628.pvol.h5\"\n",
    "filename = DATASETS.fetch(filename)\n",
    "volume = xradar.io.open_odim_datatree(filename)\n",
    "sweep = volume[\"sweep_0\"].ds\n",
    "metadata = xradar.model.required_sweep_metadata_vars\n",
    "sweep = sweep[[\"DBZH\"] + list(metadata)]"
   ]
  },
  {
   "cell_type": "markdown",
   "metadata": {},
   "source": [
    "Interpolate radar sweep into a Cartesian grid using nearest neighbor method"
   ]
  },
  {
   "cell_type": "code",
   "execution_count": null,
   "metadata": {},
   "outputs": [],
   "source": [
    "window = [-200e3, 200e3, -200e3, 200e3]\n",
    "size = 1000\n",
    "lon = float(sweep.longitude.values)\n",
    "lat = float(sweep.latitude.values)\n",
    "crs = wradlib.georef.get_radar_projection((lon, lat))\n",
    "raster = wradlib.georef.create_raster_xarray(crs, window, size)\n",
    "grid = raster\n",
    "sweep = sweep.wrl.georef.georeference(crs=crs)\n",
    "tic = time.time()\n",
    "comp1 = sweep.DBZH.wrl.comp.togrid(\n",
    "    grid, radius=250e3, center=(lon, lat), interpol=wradlib.ipol.Nearest\n",
    ")\n",
    "toc = time.time() - tic\n",
    "print(f\"Time elapsed: {toc}\")"
   ]
  },
  {
   "cell_type": "markdown",
   "metadata": {},
   "source": [
    "Combine radar sweep into a raster image by taking the mean"
   ]
  },
  {
   "cell_type": "code",
   "execution_count": null,
   "metadata": {},
   "outputs": [],
   "source": [
    "tic = time.time()\n",
    "transform = wradlib.comp.transform_binned(sweep, raster)\n",
    "comp2 = wradlib.comp.sweep_to_raster(sweep, raster)\n",
    "toc = time.time() - tic\n",
    "print(f\"Time elapsed: {toc}\")"
   ]
  },
  {
   "cell_type": "markdown",
   "metadata": {},
   "source": [
    "Compare the methods at close range"
   ]
  },
  {
   "cell_type": "code",
   "execution_count": null,
   "metadata": {},
   "outputs": [],
   "source": [
    "sweep.DBZH.plot(x=\"x\", y=\"y\", cmap=\"PuBuGn\", vmin=10, vmax=60)\n",
    "plt.xlim(-10e3, 10e3)\n",
    "plt.ylim(-10e3, 10e3)\n",
    "plt.suptitle(\"Sweep\")\n",
    "plt.show()\n",
    "\n",
    "comp1.plot.pcolormesh(cmap=\"PuBuGn\", vmin=10, vmax=60)\n",
    "plt.xlim(-10e3, 10e3)\n",
    "plt.ylim(-10e3, 10e3)\n",
    "plt.suptitle(\"Grid (nearest)\")\n",
    "plt.show()\n",
    "\n",
    "comp2 = comp2.drop_vars(\"spatial_ref\")\n",
    "comp2[\"DBZH\"].plot.pcolormesh(cmap=\"PuBuGn\", vmin=10, vmax=60)\n",
    "plt.xlim(-10e3, 10e3)\n",
    "plt.ylim(-10e3, 10e3)\n",
    "plt.suptitle(\"Raster (binned)\")\n",
    "plt.show()"
   ]
  },
  {
   "cell_type": "code",
   "execution_count": null,
   "metadata": {},
   "outputs": [],
   "source": []
  }
 ],
 "metadata": {
  "language_info": {
   "codemirror_mode": {
    "name": "ipython",
    "version": 3
   },
   "file_extension": ".py",
   "mimetype": "text/x-python",
   "name": "python",
   "nbconvert_exporter": "python",
   "pygments_lexer": "ipython3",
   "version": "3.13.3"
  },
  "toc": {
   "colors": {
    "hover_highlight": "#DAA520",
    "navigate_num": "#000000",
    "navigate_text": "#333333",
    "running_highlight": "#FF0000",
    "selected_highlight": "#FFD700",
    "sidebar_border": "#EEEEEE",
    "wrapper_background": "#FFFFFF"
   },
   "moveMenuLeft": true,
   "nav_menu": {
    "height": "47px",
    "width": "252px"
   },
   "navigate_menu": true,
   "number_sections": false,
   "sideBar": true,
   "threshold": 4,
   "toc_cell": false,
   "toc_section_display": "block",
   "toc_window_display": false,
   "widenNotebook": false
  }
 },
 "nbformat": 4,
 "nbformat_minor": 4
}
