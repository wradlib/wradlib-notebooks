{
 "cells": [
  {
   "cell_type": "markdown",
   "metadata": {
    "nbsphinx": "hidden"
   },
   "source": [
    "This notebook is part of the $\\omega radlib$ documentation: https://docs.wradlib.org.\n",
    "\n",
    "Copyright (c) $\\omega radlib$ developers.\n",
    "Distributed under the MIT License. See LICENSE.txt for more info."
   ]
  },
  {
   "cell_type": "markdown",
   "metadata": {},
   "source": [
    "# Recipe #2: Reading and visualizing an ODIM_H5 polar volume"
   ]
  },
  {
   "cell_type": "markdown",
   "metadata": {},
   "source": [
    "This recipe shows how extract the polar volume data from an ODIM_H5 hdf5 file (KNMI example file from OPERA), contruct a 3-dimensional Cartesian volume and produce a diagnostic plot. The challenge for this file is that for each elevation angle, the scan strategy is different."
   ]
  },
  {
   "cell_type": "code",
   "execution_count": null,
   "metadata": {
    "nbsphinx": "hidden"
   },
   "outputs": [],
   "source": [
    "import wradlib as wrl\n",
    "import xarray as xr\n",
    "import xradar as xd\n",
    "import matplotlib.pyplot as plt\n",
    "import warnings\n",
    "\n",
    "warnings.filterwarnings(\"ignore\")\n",
    "try:\n",
    "    get_ipython().run_line_magic(\"matplotlib inline\")\n",
    "except:\n",
    "    plt.ion()\n",
    "import numpy as np"
   ]
  },
  {
   "cell_type": "code",
   "execution_count": null,
   "metadata": {},
   "outputs": [],
   "source": [
    "import datetime as dt\n",
    "from osgeo import osr\n",
    "\n",
    "# read the data (sample file in WRADLIB_DATA)\n",
    "filename = wrl.util.get_wradlib_data_file(\"hdf5/knmi_polar_volume.h5\")\n",
    "\n",
    "raw_dt = xd.io.open_odim_datatree(filename)\n",
    "display(raw_dt)"
   ]
  },
  {
   "cell_type": "code",
   "execution_count": null,
   "metadata": {},
   "outputs": [],
   "source": [
    "proj = osr.SpatialReference()\n",
    "proj.ImportFromEPSG(32632)\n",
    "for key in list(raw_dt.children):\n",
    "    if \"sweep\" in key:\n",
    "        raw_dt[key].ds = raw_dt[key].ds.wrl.georef.georeference(crs=proj)"
   ]
  },
  {
   "cell_type": "code",
   "execution_count": null,
   "metadata": {},
   "outputs": [],
   "source": [
    "swp_list = []\n",
    "for key in list(raw_dt.children):\n",
    "    if \"sweep\" in key:\n",
    "        ds = raw_dt[key].ds\n",
    "        xyz = (\n",
    "            xr.concat(\n",
    "                [\n",
    "                    ds.coords[\"x\"].reset_coords(drop=True),\n",
    "                    ds.coords[\"y\"].reset_coords(drop=True),\n",
    "                    ds.coords[\"z\"].reset_coords(drop=True),\n",
    "                ],\n",
    "                \"xyz\",\n",
    "            )\n",
    "            .stack(npoints=(\"azimuth\", \"range\"))\n",
    "            .transpose(..., \"xyz\")\n",
    "        )\n",
    "        swp_list.append(xyz)\n",
    "xyz = xr.concat(swp_list, \"npoints\")"
   ]
  },
  {
   "cell_type": "code",
   "execution_count": null,
   "metadata": {},
   "outputs": [],
   "source": [
    "swp_list[0]"
   ]
  },
  {
   "cell_type": "code",
   "execution_count": null,
   "metadata": {},
   "outputs": [],
   "source": [
    "data_list = []\n",
    "for key in list(raw_dt.children):\n",
    "    if \"sweep\" in key:\n",
    "        ds = raw_dt[key].ds\n",
    "        data = ds.DBZH.stack(npoints=(\"azimuth\", \"range\"))\n",
    "        data_list.append(data)\n",
    "data = xr.concat(data_list, \"npoints\")"
   ]
  },
  {
   "cell_type": "code",
   "execution_count": null,
   "metadata": {},
   "outputs": [],
   "source": [
    "# generate 3-D Cartesian target grid coordinates\n",
    "sitecoords = (raw_dt.longitude.values, raw_dt.latitude.values, raw_dt.altitude.values)\n",
    "maxrange = 200000.0\n",
    "minelev = 0.1\n",
    "maxelev = 25.0\n",
    "maxalt = 5000.0\n",
    "horiz_res = 2000.0\n",
    "vert_res = 250.0\n",
    "trgxyz, trgshape = wrl.vpr.make_3d_grid(\n",
    "    sitecoords, proj, maxrange, maxalt, horiz_res, vert_res\n",
    ")"
   ]
  },
  {
   "cell_type": "code",
   "execution_count": null,
   "metadata": {},
   "outputs": [],
   "source": [
    "# interpolate to Cartesian 3-D volume grid\n",
    "tstart = dt.datetime.now()\n",
    "gridder = wrl.vpr.CAPPI(\n",
    "    xyz.values,\n",
    "    trgxyz,\n",
    "    gridshape=trgshape,\n",
    "    maxrange=maxrange,\n",
    "    minelev=minelev,\n",
    "    maxelev=maxelev,\n",
    ")\n",
    "vol = np.ma.masked_invalid(gridder(data.values).reshape(trgshape))\n",
    "print(\"3-D interpolation took:\", dt.datetime.now() - tstart)"
   ]
  },
  {
   "cell_type": "code",
   "execution_count": null,
   "metadata": {},
   "outputs": [],
   "source": [
    "# diagnostic plot\n",
    "trgx = trgxyz[:, 0].reshape(trgshape)[0, 0, :]\n",
    "trgy = trgxyz[:, 1].reshape(trgshape)[0, :, 0]\n",
    "trgz = trgxyz[:, 2].reshape(trgshape)[:, 0, 0]\n",
    "wrl.vis.plot_max_plan_and_vert(\n",
    "    trgx, trgy, trgz, vol, unit=\"dBZH\", levels=range(-32, 60)\n",
    ")"
   ]
  },
  {
   "cell_type": "markdown",
   "metadata": {
    "raw_mimetype": "text/restructuredtext"
   },
   "source": [
    "<div class=\"alert alert-info\">\n",
    "\n",
    "**Note** <br>\n",
    "\n",
    "In order to run the recipe code, you need to extract the sample data into a directory pointed to by environment variable ``WRADLIB_DATA``.\n",
    "</div>"
   ]
  }
 ],
 "metadata": {
  "celltoolbar": "Raw Cell Format",
  "language_info": {
   "codemirror_mode": {
    "name": "ipython",
    "version": 3
   },
   "file_extension": ".py",
   "mimetype": "text/x-python",
   "name": "python",
   "nbconvert_exporter": "python",
   "pygments_lexer": "ipython3",
   "version": "3.11.0"
  },
  "toc": {
   "colors": {
    "hover_highlight": "#DAA520",
    "navigate_num": "#000000",
    "navigate_text": "#333333",
    "running_highlight": "#FF0000",
    "selected_highlight": "#FFD700",
    "sidebar_border": "#EEEEEE",
    "wrapper_background": "#FFFFFF"
   },
   "moveMenuLeft": true,
   "nav_menu": {
    "height": "47px",
    "width": "252px"
   },
   "navigate_menu": true,
   "number_sections": false,
   "sideBar": true,
   "threshold": 4,
   "toc_cell": false,
   "toc_section_display": "block",
   "toc_window_display": false,
   "widenNotebook": false
  }
 },
 "nbformat": 4,
 "nbformat_minor": 4
}
