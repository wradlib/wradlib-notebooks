{
 "cells": [
  {
   "cell_type": "markdown",
   "metadata": {
    "nbsphinx": "hidden"
   },
   "source": [
    "This notebook is part of the $\\omega radlib$ documentation: https://docs.wradlib.org.\n",
    "\n",
    "Copyright (c) $\\omega radlib$ developers.\n",
    "Distributed under the MIT License. See LICENSE.txt for more info."
   ]
  },
  {
   "cell_type": "markdown",
   "metadata": {},
   "source": [
    "# Recipe #1: Clutter and attenuation correction plus composition for two DWD radars"
   ]
  },
  {
   "cell_type": "markdown",
   "metadata": {},
   "source": [
    "This recipe shows a workflow to process radar data provided by the German Weather Service (DWD). The processing includes: \n",
    "\n",
    "- *(1)* Reading local [DX-Data](../fileio/wradlib_radar_formats.ipynb#German-Weather-Service:-DX-format) for radars Feldberg and Tuerkheim. \n",
    "- *(2)* Clutter correction using the [Gabella filter algorithm](https://docs.wradlib.org/en/latest/clutter.html). \n",
    "- *(3)* Attenuation correction using the [modified Kraemer algorithm](https://docs.wradlib.org/en/latest/atten.html). \n",
    "- *(4)* Conversion from reflectivity to rainfall using the [Z-R Conversions](https://docs.wradlib.org/en/latest/zr.html) module. \n",
    "- *(5)* Accumulation of rainfall depths over the entire event. \n",
    "- *(6)* [Composition](https://docs.wradlib.org/en/latest/comp.html) of data from both radars to a common Cartesian grid (UTM Zone 32). Composition is based on a weighted combination, using the sampling volume as a [quality criterion](https://docs.wradlib.org/en/latest/qual.html). \n",
    "- *(7)* Plotting a rainfall map using [cartesian_plot](https://docs.wradlib.org/en/latest/vis.html)."
   ]
  },
  {
   "cell_type": "code",
   "execution_count": null,
   "metadata": {},
   "outputs": [],
   "source": [
    "import wradlib as wrl\n",
    "import xarray as xr\n",
    "import matplotlib.pyplot as plt\n",
    "import warnings\n",
    "\n",
    "warnings.filterwarnings(\"ignore\")\n",
    "try:\n",
    "    get_ipython().run_line_magic(\"matplotlib inline\")\n",
    "except:\n",
    "    plt.ion()\n",
    "import numpy as np"
   ]
  },
  {
   "cell_type": "code",
   "execution_count": null,
   "metadata": {},
   "outputs": [],
   "source": [
    "import glob\n",
    "import os\n",
    "\n",
    "\n",
    "def read_data(flist, site):\n",
    "    \"\"\"Helper function to read raw data for a list of datetimes <dtimes>\"\"\"\n",
    "    dalist = []\n",
    "    for f in flist:\n",
    "        data, attrs = wrl.io.read_dx(f)\n",
    "        dtime = dt.datetime.strptime(os.path.basename(f)[15:25], \"%y%m%d%H%M\")\n",
    "        dalist.append(\n",
    "            wrl.georef.create_xarray_dataarray(\n",
    "                data,\n",
    "                r=np.arange(500, data.shape[1] * 1000 + 500, 1000),\n",
    "                phi=attrs[\"azim\"],\n",
    "                theta=attrs[\"elev\"],\n",
    "                site=site,\n",
    "                sweep_mode=\"azimuth_surveillance\",\n",
    "            ).assign_coords(time=dtime)\n",
    "        )\n",
    "        ds = xr.concat(dalist, \"time\")\n",
    "    return ds.assign_coords(elevation=ds.elevation.median(\"time\"))\n",
    "\n",
    "\n",
    "def process_polar_level_data(radarname, site):\n",
    "    \"\"\"Reading and processing polar level data (DX) for radar <radarname>\"\"\"\n",
    "    print(\"Polar level processing for radar %s...\" % radarname)\n",
    "\n",
    "    # preparations for loading sample data in source directory\n",
    "    files = glob.glob(\n",
    "        os.path.join(\n",
    "            wrl.util.get_wradlib_data_path(), f\"dx/recipe1_data/raa*{radarname}*bin\"\n",
    "        )\n",
    "    )\n",
    "\n",
    "    if len(files) == 0:\n",
    "        print(\n",
    "            \"WARNING: No data files found - maybe you did not extract \"\n",
    "            \"the data from data/recipe1_data.zip?\"\n",
    "        )\n",
    "    # loading the data (two hours of 5-minute images)\n",
    "    data = read_data(files, site)\n",
    "    # Clutter filter on an event base\n",
    "    clmap = wrl.classify.filter_gabella(data.mean(\"time\"), tr1=12, n_p=6, tr2=1.1)\n",
    "    data_ipol = wrl.ipol.interpolate_polar(data, mask=clmap)\n",
    "    # correcting for attenuation\n",
    "    pia = data_ipol.wrl.atten.correct_attenuation_constrained(\n",
    "        a_max=1.67e-4,\n",
    "        a_min=2.33e-5,\n",
    "        n_a=100,\n",
    "        b_max=0.7,\n",
    "        b_min=0.65,\n",
    "        n_b=6,\n",
    "        gate_length=1.0,\n",
    "        constraints=[wrl.atten.constraint_dbz, wrl.atten.constraint_pia],\n",
    "        constraint_args=[[59.0], [10.0]],\n",
    "    )\n",
    "    data_atten = data_ipol + pia\n",
    "    # converting to precipitation depth\n",
    "    R = wrl.zr.z_to_r(wrl.trafo.idecibel(data_atten), a=256, b=1.4)\n",
    "    depth = wrl.trafo.r_to_depth(R, 300.0)\n",
    "    depth.attrs = R.attrs\n",
    "    # calculate hourly accumulation\n",
    "    accum = depth.sum(\"time\")\n",
    "    accum.attrs = {\n",
    "        \"standard_name\": \"rainfall_amount\",\n",
    "        \"long_name\": \"rainfall_amount\",\n",
    "        \"short_name\": \"RSUM\",\n",
    "        \"units\": \"mm\",\n",
    "    }\n",
    "\n",
    "    return accum"
   ]
  },
  {
   "cell_type": "code",
   "execution_count": null,
   "metadata": {},
   "outputs": [],
   "source": [
    "def bbox(*args):\n",
    "    \"\"\"Get bounding box from a set of radar bin coordinates\"\"\"\n",
    "    xy = np.array(\n",
    "        [\n",
    "            [\n",
    "                arg.x.min().values,\n",
    "                arg.x.max().values,\n",
    "                arg.y.min().values,\n",
    "                arg.y.max().values,\n",
    "            ]\n",
    "            for arg in args\n",
    "        ]\n",
    "    )\n",
    "    xmin = xy[..., 0].min()\n",
    "    xmax = xy[..., 1].max()\n",
    "    ymin = xy[..., 2].min()\n",
    "    ymax = xy[..., 3].max()\n",
    "\n",
    "    return xmin, xmax, ymin, ymax"
   ]
  },
  {
   "cell_type": "code",
   "execution_count": null,
   "metadata": {},
   "outputs": [],
   "source": [
    "import zipfile\n",
    "import shutil\n",
    "import datetime as dt\n",
    "\n",
    "# set timer\n",
    "start = dt.datetime.now()\n",
    "# unzip data\n",
    "filename = wrl.util.get_wradlib_data_file(\"dx/recipe1_data.zip\")\n",
    "targetdir = wrl.util.get_wradlib_data_path() + \"/dx/recipe1_data\"\n",
    "with zipfile.ZipFile(filename, \"r\") as z:\n",
    "    z.extractall(targetdir)\n",
    "\n",
    "# set scan geometry and radar coordinates\n",
    "# r = np.arange(500.0, 128500.0, 1000.0)\n",
    "# az = np.arange(0, 360)\n",
    "tur_sitecoords = (9.7839, 48.5861, 0)\n",
    "fbg_sitecoords = (8.005, 47.8744, 0)\n",
    "\n",
    "# processing polar level radar data\n",
    "#   Tuerkheim\n",
    "tur_accum = process_polar_level_data(\"tur\", site=tur_sitecoords)\n",
    "#   Feldberg\n",
    "fbg_accum = process_polar_level_data(\"fbg\", site=fbg_sitecoords)"
   ]
  },
  {
   "cell_type": "code",
   "execution_count": null,
   "metadata": {},
   "outputs": [],
   "source": [
    "# remove unzipped files\n",
    "if os.path.exists(targetdir):\n",
    "    try:\n",
    "        shutil.rmtree(targetdir)\n",
    "    except Exception:\n",
    "        print(\"WARNING: Could not remove directory data/recipe1_data\")\n",
    "\n",
    "# derive UTM Zone 32 coordinates of range-bin centroids\n",
    "# create osr projection using epsg number for UTM Zone 32\n",
    "proj_utm = wrl.georef.epsg_to_osr(32632)"
   ]
  },
  {
   "cell_type": "code",
   "execution_count": null,
   "metadata": {},
   "outputs": [],
   "source": [
    "tur_accum = tur_accum.wrl.georef.georeference(crs=proj_utm)\n",
    "fbg_accum = fbg_accum.wrl.georef.georeference(crs=proj_utm)"
   ]
  },
  {
   "cell_type": "code",
   "execution_count": null,
   "metadata": {},
   "outputs": [],
   "source": [
    "# define target grid for composition\n",
    "xmin, xmax, ymin, ymax = bbox(tur_accum, fbg_accum)\n",
    "x = np.linspace(xmin, xmax + 1000.0, 1000)\n",
    "y = np.linspace(ymin, ymax + 1000.0, 1000)\n",
    "grid_coords = wrl.util.gridaspoints(y, x)\n",
    "cart = xr.Dataset(coords={\"x\": ([\"x\"], x), \"y\": ([\"y\"], y)})"
   ]
  },
  {
   "cell_type": "code",
   "execution_count": null,
   "metadata": {},
   "outputs": [],
   "source": [
    "# quality index\n",
    "tur_pv = tur_accum.wrl.qual.pulse_volume(1000.0, 1.0)\n",
    "fbg_pv = fbg_accum.wrl.qual.pulse_volume(1000.0, 1.0)"
   ]
  },
  {
   "cell_type": "code",
   "execution_count": null,
   "metadata": {},
   "outputs": [],
   "source": [
    "tur_gridded = tur_accum.wrl.comp.togrid(\n",
    "    cart,\n",
    "    radius=128500.0,\n",
    "    center=(tur_accum.y.mean(), tur_accum.x.mean()),\n",
    "    interpol=wrl.ipol.Nearest,\n",
    ")\n",
    "tur_quality_gridded = tur_pv.wrl.comp.togrid(\n",
    "    cart,\n",
    "    radius=128500.0,\n",
    "    center=(tur_pv.y.mean(), tur_pv.x.mean()),\n",
    "    interpol=wrl.ipol.Nearest,\n",
    ")\n",
    "fbg_gridded = fbg_accum.wrl.comp.togrid(\n",
    "    cart,\n",
    "    radius=128500.0,\n",
    "    center=(fbg_accum.y.mean(), fbg_accum.x.mean()),\n",
    "    interpol=wrl.ipol.Nearest,\n",
    ")\n",
    "fbg_quality_gridded = fbg_pv.wrl.comp.togrid(\n",
    "    cart,\n",
    "    radius=128500.0,\n",
    "    center=(fbg_pv.y.mean(), fbg_pv.x.mean()),\n",
    "    interpol=wrl.ipol.Nearest,\n",
    ")"
   ]
  },
  {
   "cell_type": "code",
   "execution_count": null,
   "metadata": {},
   "outputs": [],
   "source": [
    "fig = plt.figure(figsize=(12, 4))\n",
    "ax1 = fig.add_subplot(121)\n",
    "fbg_gridded.plot(ax=ax1)\n",
    "ax2 = fig.add_subplot(122)\n",
    "tur_gridded.plot(ax=ax2)"
   ]
  },
  {
   "cell_type": "code",
   "execution_count": null,
   "metadata": {},
   "outputs": [],
   "source": [
    "# compose the both radar-data based on the quality information\n",
    "# calculated above\n",
    "radar = xr.DataArray([\"tur\", \"fbg\"], dims=\"radar\")\n",
    "radargrids = xr.concat([tur_gridded, fbg_gridded], dim=radar)\n",
    "qualitygrids = xr.concat(\n",
    "    [1.0 / (tur_quality_gridded + 0.001), 1.0 / (fbg_quality_gridded + 0.001)],\n",
    "    dim=radar,\n",
    ")"
   ]
  },
  {
   "cell_type": "code",
   "execution_count": null,
   "metadata": {},
   "outputs": [],
   "source": [
    "print(\"Composing Tuerkheim and Feldbarg data on a common grid...\")\n",
    "composite = radargrids.wrl.comp.compose_weighted(qualitygrids)\n",
    "\n",
    "print(\"Processing took:\", dt.datetime.now() - start)"
   ]
  },
  {
   "cell_type": "code",
   "execution_count": null,
   "metadata": {},
   "outputs": [],
   "source": [
    "# Plotting rainfall map\n",
    "plt.figure(figsize=(10, 8))\n",
    "ax = fig.add_subplot(111, aspect=\"equal\")\n",
    "composite.plot(cmap=\"viridis\")\n",
    "ax.grid()\n",
    "ax.set_xlim(min(x), max(x))\n",
    "ax.set_ylim(min(y), max(y))"
   ]
  },
  {
   "cell_type": "markdown",
   "metadata": {},
   "source": [
    "Download required data at the [wradlib-data repository](https://github.com/wradlib/wradlib-data/archive/main.zip)."
   ]
  },
  {
   "cell_type": "markdown",
   "metadata": {
    "raw_mimetype": "text/restructuredtext"
   },
   "source": [
    "<div class=\"alert alert-info\">\n",
    "\n",
    "**Note** <br>\n",
    "\n",
    "In order to run the recipe code, you need to extract the sample data into a directory pointed to by environment variable ``WRADLIB_DATA``.\n",
    "</div>"
   ]
  }
 ],
 "metadata": {
  "celltoolbar": "Raw Cell Format",
  "language_info": {
   "codemirror_mode": {
    "name": "ipython",
    "version": 3
   },
   "file_extension": ".py",
   "mimetype": "text/x-python",
   "name": "python",
   "nbconvert_exporter": "python",
   "pygments_lexer": "ipython3",
   "version": "3.11.0"
  },
  "toc": {
   "colors": {
    "hover_highlight": "#DAA520",
    "navigate_num": "#000000",
    "navigate_text": "#333333",
    "running_highlight": "#FF0000",
    "selected_highlight": "#FFD700",
    "sidebar_border": "#EEEEEE",
    "wrapper_background": "#FFFFFF"
   },
   "moveMenuLeft": true,
   "nav_menu": {
    "height": "47px",
    "width": "252px"
   },
   "navigate_menu": true,
   "number_sections": false,
   "sideBar": true,
   "threshold": 4,
   "toc_cell": false,
   "toc_section_display": "block",
   "toc_window_display": false,
   "widenNotebook": false
  }
 },
 "nbformat": 4,
 "nbformat_minor": 4
}
