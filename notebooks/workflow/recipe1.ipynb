{
 "cells": [
  {
   "cell_type": "markdown",
   "metadata": {
    "nbsphinx": "hidden"
   },
   "source": [
    "This notebook is part of the $\\omega radlib$ documentation: https://docs.wradlib.org.\n",
    "\n",
    "Copyright (c) $\\omega radlib$ developers.\n",
    "Distributed under the MIT License. See LICENSE.txt for more info."
   ]
  },
  {
   "cell_type": "markdown",
   "metadata": {},
   "source": [
    "# Recipe #1: Clutter and attenuation correction plus composition for two DWD radars"
   ]
  },
  {
   "cell_type": "markdown",
   "metadata": {},
   "source": [
    "This recipe shows a workflow to process radar data provided by the German Weather Service (DWD). The processing includes: \n",
    "\n",
    "- *(1)* Reading local [DX-Data](../fileio/wradlib_radar_formats.ipynb#German-Weather-Service:-DX-format) for radars Feldberg and Tuerkheim. \n",
    "- *(2)* Clutter correction using the [Gabella filter algorithm](https://docs.wradlib.org/en/latest/clutter.html). \n",
    "- *(3)* Attenuation correction using the [modified Kraemer algorithm](https://docs.wradlib.org/en/latest/atten.html). \n",
    "- *(4)* Conversion from reflectivity to rainfall using the [Z-R Conversions](https://docs.wradlib.org/en/latest/zr.html) module. \n",
    "- *(5)* Accumulation of rainfall depths over the entire event. \n",
    "- *(6)* [Composition](https://docs.wradlib.org/en/latest/comp.html) of data from both radars to a common Cartesian grid (UTM Zone 32). Composition is based on a weighted combination, using the sampling volume as a [quality criterion](https://docs.wradlib.org/en/latest/qual.html) \n",
    "- *(7)* Plotting a rainfall map using [cartesian_plot](https://docs.wradlib.org/en/latest/vis.html)"
   ]
  },
  {
   "cell_type": "code",
   "execution_count": 1,
   "metadata": {
    "execution": {
     "iopub.execute_input": "2022-04-11T06:28:54.023992Z",
     "iopub.status.busy": "2022-04-11T06:28:54.023779Z",
     "iopub.status.idle": "2022-04-11T06:28:55.753502Z",
     "shell.execute_reply": "2022-04-11T06:28:55.752533Z"
    }
   },
   "outputs": [],
   "source": [
    "import wradlib as wrl\n",
    "import matplotlib.pyplot as pl\n",
    "import warnings\n",
    "warnings.filterwarnings('ignore')\n",
    "try:\n",
    "    get_ipython().magic(\"matplotlib inline\")\n",
    "except:\n",
    "    pl.ion()\n",
    "import numpy as np"
   ]
  },
  {
   "cell_type": "code",
   "execution_count": 2,
   "metadata": {
    "execution": {
     "iopub.execute_input": "2022-04-11T06:28:55.756488Z",
     "iopub.status.busy": "2022-04-11T06:28:55.756212Z",
     "iopub.status.idle": "2022-04-11T06:28:55.764370Z",
     "shell.execute_reply": "2022-04-11T06:28:55.762889Z"
    }
   },
   "outputs": [],
   "source": [
    "import glob\n",
    "import os\n",
    "def process_polar_level_data(radarname):\n",
    "    \"\"\"Reading and processing polar level data (DX) for radar <radarname>\n",
    "    \"\"\"\n",
    "    print(\"Polar level processing for radar %s...\" % radarname)\n",
    "    # preparations for loading sample data in source directory\n",
    "    files = glob.glob(os.path.join(wrl.util.get_wradlib_data_path(),\n",
    "                                   'dx/recipe1_data/raa*%s*bin' % radarname))\n",
    "\n",
    "    if len(files) == 0:\n",
    "        print(\"WARNING: No data files found - maybe you did not extract \"\n",
    "              \"the data from data/recipe1_data.zip?\")\n",
    "    data = np.empty((len(files), 360, 128))\n",
    "    # loading the data (two hours of 5-minute images)\n",
    "    for i, f in enumerate(files):\n",
    "        #print(i, f)\n",
    "        data[i], attrs = wrl.io.read_dx(f)\n",
    "    # Clutter filter on an event base\n",
    "    clmap = wrl.clutter.filter_gabella(data.mean(axis=0), tr1=12, n_p=6,\n",
    "                                       tr2=1.1)\n",
    "    for i, scan in enumerate(data):\n",
    "        data[i] = wrl.ipol.interpolate_polar(scan, clmap)\n",
    "    # correcting for attenuation\n",
    "    pia = wrl.atten.correct_attenuation_constrained(\n",
    "        data,\n",
    "        a_max=1.67e-4,\n",
    "        a_min=2.33e-5,\n",
    "        n_a=100,\n",
    "        b_max=0.7,\n",
    "        b_min=0.65,\n",
    "        n_b=6,\n",
    "        gate_length=1.,\n",
    "        constraints=[wrl.atten.constraint_dbz, \n",
    "                     wrl.atten.constraint_pia], \n",
    "        constraint_args=[[59.0],[10.0]])\n",
    "    data = data + pia\n",
    "    # converting to precipitation depth\n",
    "    R = wrl.zr.z_to_r(wrl.trafo.idecibel(data), a=256, b=1.4)\n",
    "    depth = wrl.trafo.r_to_depth(R, 300.)\n",
    "    # calculate hourly accumulation\n",
    "    accum = depth.sum(axis=0)\n",
    "\n",
    "    return accum"
   ]
  },
  {
   "cell_type": "code",
   "execution_count": 3,
   "metadata": {
    "execution": {
     "iopub.execute_input": "2022-04-11T06:28:55.766391Z",
     "iopub.status.busy": "2022-04-11T06:28:55.766139Z",
     "iopub.status.idle": "2022-04-11T06:28:55.769555Z",
     "shell.execute_reply": "2022-04-11T06:28:55.769105Z"
    }
   },
   "outputs": [],
   "source": [
    "def bbox(*args):\n",
    "    \"\"\"Get bounding box from a set of radar bin coordinates\n",
    "    \"\"\"\n",
    "    x = np.array([])\n",
    "    y = np.array([])\n",
    "    for arg in args:\n",
    "        x = np.append(x, arg[:, 0])\n",
    "        y = np.append(y, arg[:, 1])\n",
    "    xmin = x.min()\n",
    "    xmax = x.max()\n",
    "    ymin = y.min()\n",
    "    ymax = y.max()\n",
    "\n",
    "    return xmin, xmax, ymin, ymax\n"
   ]
  },
  {
   "cell_type": "code",
   "execution_count": 4,
   "metadata": {
    "execution": {
     "iopub.execute_input": "2022-04-11T06:28:55.771643Z",
     "iopub.status.busy": "2022-04-11T06:28:55.771450Z",
     "iopub.status.idle": "2022-04-11T06:29:01.055750Z",
     "shell.execute_reply": "2022-04-11T06:29:01.055146Z"
    }
   },
   "outputs": [
    {
     "name": "stdout",
     "output_type": "stream",
     "text": [
      "Polar level processing for radar tur...\n"
     ]
    },
    {
     "name": "stdout",
     "output_type": "stream",
     "text": [
      "Polar level processing for radar fbg...\n"
     ]
    },
    {
     "name": "stdout",
     "output_type": "stream",
     "text": [
      "Gridding Tuerkheim data...\n"
     ]
    },
    {
     "name": "stdout",
     "output_type": "stream",
     "text": [
      "Gridding Feldberg data...\n"
     ]
    },
    {
     "name": "stdout",
     "output_type": "stream",
     "text": [
      "Composing Tuerkheim and Feldbarg data on a common grid...\n",
      "Processing took: 0:00:05.273435\n"
     ]
    }
   ],
   "source": [
    "import zipfile\n",
    "import shutil\n",
    "import datetime as dt\n",
    "\n",
    "# set timer\n",
    "start = dt.datetime.now()\n",
    "# unzip data\n",
    "filename = wrl.util.get_wradlib_data_file('dx/recipe1_data.zip')\n",
    "targetdir = wrl.util.get_wradlib_data_path() + '/dx/recipe1_data'\n",
    "with zipfile.ZipFile(filename, 'r') as z:\n",
    "    z.extractall(targetdir)\n",
    "\n",
    "# set scan geometry and radar coordinates\n",
    "r = np.arange(500., 128500., 1000.)\n",
    "az = np.arange(0, 360)\n",
    "tur_sitecoords = (9.7839, 48.5861)\n",
    "fbg_sitecoords = (8.005, 47.8744)\n",
    "\n",
    "# processing polar level radar data\n",
    "#   Tuerkheim\n",
    "tur_accum = process_polar_level_data(\"tur\")\n",
    "#   Feldberg\n",
    "fbg_accum = process_polar_level_data(\"fbg\")\n",
    "\n",
    "# remove unzipped files\n",
    "if os.path.exists(targetdir):\n",
    "    try:\n",
    "        shutil.rmtree(targetdir)\n",
    "    except Exception:\n",
    "        print(\"WARNING: Could not remove directory data/recipe1_data\")\n",
    "\n",
    "# derive UTM Zone 32 coordinates of range-bin centroids\n",
    "# create osr projection using epsg number for UTM Zone 32\n",
    "proj_utm = wrl.georef.epsg_to_osr(32632)\n",
    "\n",
    "#  for Tuerkheim radar\n",
    "tur_coord = wrl.georef.spherical_to_centroids(r, az, 0, tur_sitecoords, \n",
    "                                              proj=proj_utm)\n",
    "tur_coord = tur_coord[..., 0:2]\n",
    "tur_coord = tur_coord.reshape(-1, tur_coord.shape[-1])\n",
    "\n",
    "# for Feldberg radar\n",
    "fbg_coord = wrl.georef.spherical_to_centroids(r, az, 0, fbg_sitecoords,\n",
    "                                              proj=proj_utm)\n",
    "fbg_coord = fbg_coord[..., 0:2]\n",
    "fbg_coord = fbg_coord.reshape(-1, fbg_coord.shape[-1])\n",
    "\n",
    "# define target grid for composition\n",
    "xmin, xmax, ymin, ymax = bbox(tur_coord, fbg_coord)\n",
    "x = np.linspace(xmin, xmax + 1000., 1000)\n",
    "y = np.linspace(ymin, ymax + 1000., 1000)\n",
    "grid_coords = wrl.util.gridaspoints(y, x)\n",
    "\n",
    "# derive quality information - in this case, the pulse volume\n",
    "pulse_volumes = np.tile(wrl.qual.pulse_volume(r, 1000., 1.), 360)\n",
    "# interpolate polar radar-data and quality data to the grid\n",
    "print(\"Gridding Tuerkheim data...\")\n",
    "tur_quality_gridded = wrl.comp.togrid(tur_coord, grid_coords,\n",
    "                                      r.max() + 500.,\n",
    "                                      tur_coord.mean(axis=0),\n",
    "                                      pulse_volumes,\n",
    "                                      wrl.ipol.Nearest)\n",
    "tur_gridded = wrl.comp.togrid(tur_coord, grid_coords, r.max() + 500.,\n",
    "                              tur_coord.mean(axis=0),\n",
    "                              tur_accum.ravel(),\n",
    "                              wrl.ipol.Nearest)\n",
    "\n",
    "print(\"Gridding Feldberg data...\")\n",
    "fbg_quality_gridded = wrl.comp.togrid(fbg_coord, grid_coords,\n",
    "                                      r.max() + 500.,\n",
    "                                      fbg_coord.mean(axis=0),\n",
    "                                      pulse_volumes,\n",
    "                                      wrl.ipol.Nearest)\n",
    "fbg_gridded = wrl.comp.togrid(fbg_coord, grid_coords, r.max() + 500.,\n",
    "                              fbg_coord.mean(axis=0),\n",
    "                              fbg_accum.ravel(),\n",
    "                              wrl.ipol.Nearest)\n",
    "\n",
    "# compose the both radar-data based on the quality information\n",
    "# calculated above\n",
    "print(\"Composing Tuerkheim and Feldbarg data on a common grid...\")\n",
    "composite = wrl.comp.compose_weighted([tur_gridded, fbg_gridded],\n",
    "                                      [1. / (tur_quality_gridded + 0.001),\n",
    "                                       1. / (fbg_quality_gridded + 0.001)])\n",
    "composite = np.ma.masked_invalid(composite)\n",
    "\n",
    "print(\"Processing took:\", dt.datetime.now() - start)"
   ]
  },
  {
   "cell_type": "code",
   "execution_count": 5,
   "metadata": {
    "execution": {
     "iopub.execute_input": "2022-04-11T06:29:01.058590Z",
     "iopub.status.busy": "2022-04-11T06:29:01.058417Z",
     "iopub.status.idle": "2022-04-11T06:29:01.751640Z",
     "shell.execute_reply": "2022-04-11T06:29:01.751058Z"
    }
   },
   "outputs": [
    {
     "data": {
      "text/plain": [
       "<matplotlib.colorbar.Colorbar at 0x7f9e955be0e0>"
      ]
     },
     "execution_count": 5,
     "metadata": {},
     "output_type": "execute_result"
    },
    {
     "data": {
      "image/png": "[encoded data removed]",
      "text/plain": [
       "<Figure size 720x576 with 2 Axes>"
      ]
     },
     "metadata": {
      "needs_background": "light"
     },
     "output_type": "display_data"
    }
   ],
   "source": [
    "# Plotting rainfall map\n",
    "pl.figure(figsize=(10,8))\n",
    "pl.subplot(111, aspect=\"equal\")\n",
    "pm = pl.pcolormesh(x, y, composite.reshape((len(x), len(y))),\n",
    "                   cmap=\"viridis\")\n",
    "pl.grid()\n",
    "pl.xlim(min(x), max(x))\n",
    "pl.ylim(min(y), max(y))\n",
    "pl.colorbar(pm, shrink=0.85)"
   ]
  },
  {
   "cell_type": "markdown",
   "metadata": {},
   "source": [
    "Download required data at the [wradlib-data repository](https://github.com/wradlib/wradlib-data/archive/main.zip)."
   ]
  },
  {
   "cell_type": "markdown",
   "metadata": {
    "raw_mimetype": "text/restructuredtext"
   },
   "source": [
    "<div class=\"alert alert-info\">\n",
    "\n",
    "**Note** <br>\n",
    "\n",
    "In order to run the recipe code, you need to extract the sample data into a directory pointed to by environment variable ``WRADLIB_DATA``.\n",
    "</div>"
   ]
  }
 ],
 "metadata": {
  "celltoolbar": "Raw Cell Format",
  "language_info": {
   "codemirror_mode": {
    "name": "ipython",
    "version": 3
   },
   "file_extension": ".py",
   "mimetype": "text/x-python",
   "name": "python",
   "nbconvert_exporter": "python",
   "pygments_lexer": "ipython3",
   "version": "3.10.4"
  },
  "toc": {
   "colors": {
    "hover_highlight": "#DAA520",
    "navigate_num": "#000000",
    "navigate_text": "#333333",
    "running_highlight": "#FF0000",
    "selected_highlight": "#FFD700",
    "sidebar_border": "#EEEEEE",
    "wrapper_background": "#FFFFFF"
   },
   "moveMenuLeft": true,
   "nav_menu": {
    "height": "47px",
    "width": "252px"
   },
   "navigate_menu": true,
   "number_sections": false,
   "sideBar": true,
   "threshold": 4,
   "toc_cell": false,
   "toc_section_display": "block",
   "toc_window_display": false,
   "widenNotebook": false
  }
 },
 "nbformat": 4,
 "nbformat_minor": 1
}
