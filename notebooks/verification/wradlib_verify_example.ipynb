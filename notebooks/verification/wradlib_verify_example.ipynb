{
 "cells": [
  {
   "cell_type": "markdown",
   "metadata": {
    "nbsphinx": "hidden"
   },
   "source": [
    "This notebook is part of the $\\omega radlib$ documentation: https://docs.wradlib.org.\n",
    "\n",
    "Copyright (c) $\\omega radlib$ developers.\n",
    "Distributed under the MIT License. See LICENSE.txt for more info."
   ]
  },
  {
   "cell_type": "markdown",
   "metadata": {},
   "source": [
    "# Routine verification measures for radar-based precipitation estimates"
   ]
  },
  {
   "cell_type": "code",
   "execution_count": null,
   "metadata": {},
   "outputs": [],
   "source": [
    "import wradlib as wrl\n",
    "import os\n",
    "import numpy as np\n",
    "import matplotlib.pyplot as plt\n",
    "import warnings\n",
    "\n",
    "warnings.filterwarnings(\"ignore\")\n",
    "try:\n",
    "    get_ipython().run_line_magic(\"matplotlib inline\")\n",
    "except:\n",
    "    plt.ion()"
   ]
  },
  {
   "cell_type": "markdown",
   "metadata": {},
   "source": [
    "## Extract bin values from a polar radar data set at rain gage locations"
   ]
  },
  {
   "cell_type": "markdown",
   "metadata": {},
   "source": [
    "#### Read polar data set"
   ]
  },
  {
   "cell_type": "code",
   "execution_count": null,
   "metadata": {},
   "outputs": [],
   "source": [
    "filename = wrl.util.get_wradlib_data_file(\"misc/polar_R_tur.gz\")\n",
    "data = np.loadtxt(filename)"
   ]
  },
  {
   "cell_type": "markdown",
   "metadata": {},
   "source": [
    "#### Define site coordinates (lon/lat) and polar coordinate system"
   ]
  },
  {
   "cell_type": "code",
   "execution_count": null,
   "metadata": {},
   "outputs": [],
   "source": [
    "r = np.arange(1, 129)\n",
    "az = np.linspace(0, 360, 361)[0:-1]\n",
    "site = (9.7839, 48.5861, 0)"
   ]
  },
  {
   "cell_type": "markdown",
   "metadata": {},
   "source": [
    "#### Make up two rain gauge locations (say we want to work in Gaus Krueger zone 3)"
   ]
  },
  {
   "cell_type": "code",
   "execution_count": null,
   "metadata": {},
   "outputs": [],
   "source": [
    "# Define the projection via epsg-code\n",
    "crs = wrl.georef.epsg_to_osr(31467)\n",
    "# Coordinates of the rain gages in Gauss-Krueger 3 coordinates\n",
    "x, y = np.array([3557880, 3557890]), np.array([5383379, 5383375])"
   ]
  },
  {
   "cell_type": "markdown",
   "metadata": {},
   "source": [
    "#### Now extract the radar values at those bins that are closest to our rain gauges\n",
    "\n",
    "For this purppose, we use the PolarNeighbours class from wraldib's verify module. Here, we extract the 9 nearest bins..."
   ]
  },
  {
   "cell_type": "code",
   "execution_count": null,
   "metadata": {},
   "outputs": [],
   "source": [
    "polarneighbs = wrl.verify.PolarNeighbours(r, az, site, crs, x, y, nnear=9)\n",
    "radar_at_gages = polarneighbs.extract(data)\n",
    "print(\"Radar values at rain gauge #1: %r\" % radar_at_gages[0].tolist())\n",
    "print(\"Radar values at rain gauge #2: %r\" % radar_at_gages[1].tolist())"
   ]
  },
  {
   "cell_type": "markdown",
   "metadata": {},
   "source": [
    "#### Retrieve the bin coordinates (all of them or those at the rain gauges)"
   ]
  },
  {
   "cell_type": "code",
   "execution_count": null,
   "metadata": {},
   "outputs": [],
   "source": [
    "binx, biny = polarneighbs.get_bincoords()\n",
    "binx_nn, biny_nn = polarneighbs.get_bincoords_at_points()"
   ]
  },
  {
   "cell_type": "markdown",
   "metadata": {},
   "source": [
    "#### Plot the entire radar domain and zoom into the surrounding of the rain gauge locations"
   ]
  },
  {
   "cell_type": "code",
   "execution_count": null,
   "metadata": {},
   "outputs": [],
   "source": [
    "fig = plt.figure(figsize=(12, 12))\n",
    "ax = fig.add_subplot(121)\n",
    "ax.plot(binx, biny, \"r+\")\n",
    "ax.plot(binx_nn, biny_nn, \"b+\", markersize=10)\n",
    "ax.plot(x, y, \"bo\")\n",
    "ax.axis(\"tight\")\n",
    "ax.set_aspect(\"equal\")\n",
    "plt.title(\"Full view\")\n",
    "ax = fig.add_subplot(122)\n",
    "ax.plot(binx, biny, \"r+\")\n",
    "ax.plot(binx_nn, biny_nn, \"b+\", markersize=10)\n",
    "ax.plot(x, y, \"bo\")\n",
    "plt.xlim(binx_nn.min() - 5, binx_nn.max() + 5)\n",
    "plt.ylim(biny_nn.min() - 7, biny_nn.max() + 8)\n",
    "ax.set_aspect(\"equal\")\n",
    "txt = plt.title(\"Zoom into rain gauge locations\")\n",
    "plt.tight_layout()"
   ]
  },
  {
   "cell_type": "markdown",
   "metadata": {},
   "source": [
    "## Create a verification report\n",
    "\n",
    "In this example, we make up a true Kdp profile and verify our reconstructed Kdp."
   ]
  },
  {
   "cell_type": "markdown",
   "metadata": {},
   "source": [
    "#### Create synthetic data and reconstruct KDP"
   ]
  },
  {
   "cell_type": "code",
   "execution_count": null,
   "metadata": {},
   "outputs": [],
   "source": [
    "# Synthetic truth\n",
    "dr = 0.5\n",
    "r = np.arange(0, 100, dr)\n",
    "kdp_true = np.sin(0.3 * r)\n",
    "kdp_true[kdp_true < 0] = 0.0\n",
    "phidp_true = np.cumsum(kdp_true) * 2 * dr\n",
    "# Synthetic observation of PhiDP with a random noise and gaps\n",
    "np.random.seed(1319622840)\n",
    "phidp_raw = phidp_true + np.random.uniform(-2, 2, len(phidp_true))\n",
    "gaps = np.random.uniform(0, len(r), 20).astype(\"int\")\n",
    "phidp_raw[gaps] = np.nan\n",
    "\n",
    "# linearly interpolate nan\n",
    "nans = np.isnan(phidp_raw)\n",
    "phidp_ipol = phidp_raw.copy()\n",
    "phidp_ipol[nans] = np.interp(r[nans], r[~nans], phidp_raw[~nans])\n",
    "\n",
    "# Reconstruct PhiDP and KDP\n",
    "phidp_rawre, kdp_rawre = wrl.dp.process_raw_phidp_vulpiani(phidp_raw, dr=dr)\n",
    "phidp_ipre, kdp_ipre = wrl.dp.process_raw_phidp_vulpiani(phidp_ipol, dr=dr)\n",
    "\n",
    "# Plot results\n",
    "fig = plt.figure(figsize=(12, 8))\n",
    "ax = fig.add_subplot(211)\n",
    "plt.plot(kdp_true, \"g-\", label=\"True KDP\")\n",
    "plt.plot(kdp_rawre, \"r-\", label=\"Reconstructed Raw KDP\")\n",
    "plt.plot(kdp_ipre, \"b-\", label=\"Reconstructed Ipol KDP\")\n",
    "plt.grid()\n",
    "lg = plt.legend()\n",
    "\n",
    "ax = fig.add_subplot(212)\n",
    "plt.plot(r, phidp_true, \"b--\", label=\"True PhiDP\")\n",
    "plt.plot(r, np.ma.masked_invalid(phidp_raw), \"b-\", label=\"Raw PhiDP\")\n",
    "plt.plot(r, phidp_rawre, \"r-\", label=\"Reconstructed Raw PhiDP\")\n",
    "plt.plot(r, phidp_ipre, \"g-\", label=\"Reconstructed Ipol PhiDP\")\n",
    "plt.grid()\n",
    "lg = plt.legend(loc=\"lower right\")\n",
    "txt = plt.xlabel(\"Range (km)\")"
   ]
  },
  {
   "cell_type": "markdown",
   "metadata": {},
   "source": [
    "#### Create verification report"
   ]
  },
  {
   "cell_type": "code",
   "execution_count": null,
   "metadata": {},
   "outputs": [],
   "source": [
    "metrics_raw = wrl.verify.ErrorMetrics(kdp_true, kdp_rawre)\n",
    "metrics_raw.pprint()\n",
    "metrics_ip = wrl.verify.ErrorMetrics(kdp_true, kdp_ipre)\n",
    "metrics_ip.pprint()\n",
    "\n",
    "plt.subplots_adjust(wspace=0.5)\n",
    "ax = plt.subplot(121, aspect=1.0)\n",
    "ax.plot(metrics_raw.obs, metrics_raw.est, \"bo\")\n",
    "ax.plot([-1, 2], [-1, 2], \"k--\")\n",
    "plt.xlim(-0.3, 1.1)\n",
    "plt.ylim(-0.3, 1.1)\n",
    "xlabel = ax.set_xlabel(\"True KDP (deg/km)\")\n",
    "ylabel = ax.set_ylabel(\"Reconstructed Raw KDP (deg/km)\")\n",
    "ax = plt.subplot(122, aspect=1.0)\n",
    "ax.plot(metrics_ip.obs, metrics_ip.est, \"bo\")\n",
    "ax.plot([-1, 2], [-1, 2], \"k--\")\n",
    "plt.xlim(-0.3, 1.1)\n",
    "plt.ylim(-0.3, 1.1)\n",
    "xlabel = ax.set_xlabel(\"True KDP (deg/km)\")\n",
    "ylabel = ax.set_ylabel(\"Reconstructed Ipol KDP (deg/km)\")"
   ]
  }
 ],
 "metadata": {
  "language_info": {
   "codemirror_mode": {
    "name": "ipython",
    "version": 3
   },
   "file_extension": ".py",
   "mimetype": "text/x-python",
   "name": "python",
   "nbconvert_exporter": "python",
   "pygments_lexer": "ipython3",
   "version": "3.11.0"
  },
  "toc": {
   "colors": {
    "hover_highlight": "#DAA520",
    "navigate_num": "#000000",
    "navigate_text": "#333333",
    "running_highlight": "#FF0000",
    "selected_highlight": "#FFD700",
    "sidebar_border": "#EEEEEE",
    "wrapper_background": "#FFFFFF"
   },
   "moveMenuLeft": true,
   "nav_menu": {
    "height": "232px",
    "width": "252px"
   },
   "navigate_menu": true,
   "number_sections": false,
   "sideBar": true,
   "threshold": 4,
   "toc_cell": false,
   "toc_section_display": "block",
   "toc_window_display": false,
   "widenNotebook": false
  }
 },
 "nbformat": 4,
 "nbformat_minor": 4
}
