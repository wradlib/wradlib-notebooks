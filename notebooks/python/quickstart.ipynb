{
 "cells": [
  {
   "cell_type": "markdown",
   "metadata": {
    "nbsphinx": "hidden",
    "slideshow": {
     "slide_type": "skip"
    }
   },
   "source": [
    "This notebook is part of the $\\omega radlib$ documentation: https://docs.wradlib.org.\n",
    "\n",
    "Copyright (c) $\\omega radlib$ developers.\n",
    "Distributed under the MIT License. See LICENSE.txt for more info."
   ]
  },
  {
   "cell_type": "markdown",
   "metadata": {
    "slideshow": {
     "slide_type": "slide"
    }
   },
   "source": [
    "# A quick start to Python"
   ]
  },
  {
   "cell_type": "markdown",
   "metadata": {
    "slideshow": {
     "slide_type": "fragment"
    }
   },
   "source": [
    "In order to use $\\omega radlib$, you need to be able to use Python. "
   ]
  },
  {
   "cell_type": "markdown",
   "metadata": {
    "slideshow": {
     "slide_type": "fragment"
    }
   },
   "source": [
    "This notebook will \n",
    "- give you a glimpse of the Python language, \n",
    "- confront you with some Python exercises, \n",
    "- and refer you to further in-depth courses for learning Python.   "
   ]
  },
  {
   "cell_type": "markdown",
   "metadata": {
    "slideshow": {
     "slide_type": "slide"
    }
   },
   "source": [
    "## Hello interpreted world"
   ]
  },
  {
   "cell_type": "markdown",
   "metadata": {
    "slideshow": {
     "slide_type": "notes"
    }
   },
   "source": [
    "Python is an interpreted language just as e.g. R, Matlab and many others. In contrast to a compiled languages such as C, C++ or Fortran, each command is immediately interpreted by the Python interpreter. In this case, executing the following cell produces an immediate output."
   ]
  },
  {
   "cell_type": "code",
   "execution_count": 1,
   "metadata": {
    "execution": {
     "iopub.execute_input": "2024-08-30T10:02:15.756691Z",
     "iopub.status.busy": "2024-08-30T10:02:15.756082Z",
     "iopub.status.idle": "2024-08-30T10:02:15.761431Z",
     "shell.execute_reply": "2024-08-30T10:02:15.760765Z"
    },
    "slideshow": {
     "slide_type": "fragment"
    }
   },
   "outputs": [
    {
     "name": "stdout",
     "output_type": "stream",
     "text": [
      "Hello interpreted world.\n"
     ]
    }
   ],
   "source": [
    "print(\"Hello interpreted world.\")"
   ]
  },
  {
   "cell_type": "markdown",
   "metadata": {
    "slideshow": {
     "slide_type": "slide"
    }
   },
   "source": [
    "## Writing a program in Python"
   ]
  },
  {
   "cell_type": "markdown",
   "metadata": {
    "slideshow": {
     "slide_type": "fragment"
    }
   },
   "source": [
    "Instead of entering this command interactively in a Python console (or a jupyter cell, as in this case), you can also write a **Python script** (or, in other words, a Python \"program\")."
   ]
  },
  {
   "cell_type": "markdown",
   "metadata": {
    "slideshow": {
     "slide_type": "fragment"
    }
   },
   "source": [
    "- Use a text editor to create a file, \n",
    "- add the line `print(\"Hello interpreted world.\")`, \n",
    "- save the file under the name `demoscript.py` \n",
    "\n",
    "(by convention, Python scripts should have the extension `.py`). "
   ]
  },
  {
   "cell_type": "markdown",
   "metadata": {
    "slideshow": {
     "slide_type": "fragment"
    }
   },
   "source": [
    "Now execute your script from any shell (or the DOS console on Windows): \n",
    "\n",
    "`$ python demoscript.py`"
   ]
  },
  {
   "cell_type": "markdown",
   "metadata": {
    "slideshow": {
     "slide_type": "skip"
    }
   },
   "source": [
    "Note that this will work only if you open the shell in the *same directory* in which you saved your script. Otherwise, you need to provide the full path like e.g.\n",
    "\n",
    "*Under Linux/OSX:*\n",
    "\n",
    "`$ python /home/user/path/to/demoscript.py`\n",
    "\n",
    "*Under Windows:*\n",
    "\n",
    "`> python e:\\path\\to\\demoscript.py`"
   ]
  },
  {
   "cell_type": "markdown",
   "metadata": {
    "slideshow": {
     "slide_type": "slide"
    }
   },
   "source": [
    "## Important data types"
   ]
  },
  {
   "cell_type": "markdown",
   "metadata": {
    "slideshow": {
     "slide_type": "fragment"
    }
   },
   "source": [
    "Python knows various standard data types such as \n",
    "- `integer`,\n",
    "- `float`,\n",
    "- `bool`,\n",
    "- and `str`. "
   ]
  },
  {
   "cell_type": "markdown",
   "metadata": {
    "slideshow": {
     "slide_type": "fragment"
    }
   },
   "source": [
    "If you define a variable, Python typically assigns the *type* of that variable for you.  "
   ]
  },
  {
   "cell_type": "code",
   "execution_count": 2,
   "metadata": {
    "execution": {
     "iopub.execute_input": "2024-08-30T10:02:15.765749Z",
     "iopub.status.busy": "2024-08-30T10:02:15.765263Z",
     "iopub.status.idle": "2024-08-30T10:02:15.770030Z",
     "shell.execute_reply": "2024-08-30T10:02:15.769352Z"
    },
    "slideshow": {
     "slide_type": "slide"
    }
   },
   "outputs": [
    {
     "name": "stdout",
     "output_type": "stream",
     "text": [
      "x1 is of <class 'int'>\n",
      "x2 is of <class 'float'>\n",
      "x3 is of <class 'bool'>\n",
      "x4 is of <class 'float'>\n",
      "x5 is of <class 'str'>\n"
     ]
    }
   ],
   "source": [
    "x1 = 2\n",
    "print(\"x1 is of %r\" % type(x1))\n",
    "\n",
    "x2 = 2.3\n",
    "print(\"x2 is of %r\" % type(x2))\n",
    "\n",
    "x3 = True\n",
    "print(\"x3 is of %r\" % type(x3))\n",
    "\n",
    "x4 = x1 * x2\n",
    "print(\"x4 is of %r\" % type(x4))\n",
    "\n",
    "x5 = \"Hello interpreted world.\"\n",
    "print(\"x5 is of %r\" % type(x5))"
   ]
  },
  {
   "cell_type": "markdown",
   "metadata": {
    "slideshow": {
     "slide_type": "fragment"
    }
   },
   "source": [
    "As you noticed in the above cell, you can inspect the data type of a variable by using function `type()`. Python has a plethora of data types beyond the standard ones shown above. See for example:"
   ]
  },
  {
   "cell_type": "code",
   "execution_count": 3,
   "metadata": {
    "execution": {
     "iopub.execute_input": "2024-08-30T10:02:15.774457Z",
     "iopub.status.busy": "2024-08-30T10:02:15.774138Z",
     "iopub.status.idle": "2024-08-30T10:02:15.777926Z",
     "shell.execute_reply": "2024-08-30T10:02:15.777256Z"
    },
    "slideshow": {
     "slide_type": "fragment"
    }
   },
   "outputs": [
    {
     "name": "stdout",
     "output_type": "stream",
     "text": [
      "<class 'builtin_function_or_method'>\n",
      "<class 'type'>\n"
     ]
    }
   ],
   "source": [
    "print(type(sum))\n",
    "print(type(type))"
   ]
  },
  {
   "cell_type": "markdown",
   "metadata": {
    "slideshow": {
     "slide_type": "slide"
    }
   },
   "source": [
    "## Other data types: collections"
   ]
  },
  {
   "cell_type": "markdown",
   "metadata": {
    "slideshow": {
     "slide_type": "fragment"
    }
   },
   "source": [
    "Further important data types (and specific to Python) are so called `data collections` (or `containers`), namely \n",
    "\n",
    "- lists (`list`), \n",
    "- dictionaries (`dict`),\n",
    "- and tuples (`tuple`)."
   ]
  },
  {
   "cell_type": "markdown",
   "metadata": {
    "slideshow": {
     "slide_type": "slide"
    }
   },
   "source": [
    "### Lists"
   ]
  },
  {
   "cell_type": "markdown",
   "metadata": {
    "slideshow": {
     "slide_type": "fragment"
    }
   },
   "source": [
    "A list is an ordered collection of objects which may have different types."
   ]
  },
  {
   "cell_type": "code",
   "execution_count": 4,
   "metadata": {
    "execution": {
     "iopub.execute_input": "2024-08-30T10:02:15.782446Z",
     "iopub.status.busy": "2024-08-30T10:02:15.781909Z",
     "iopub.status.idle": "2024-08-30T10:02:15.786277Z",
     "shell.execute_reply": "2024-08-30T10:02:15.785444Z"
    },
    "slideshow": {
     "slide_type": "fragment"
    }
   },
   "outputs": [
    {
     "name": "stdout",
     "output_type": "stream",
     "text": [
      "[1, 2, 3.0]\n",
      "[1, 2]\n"
     ]
    }
   ],
   "source": [
    "# a list\n",
    "l = [1, \"Paris\", 3.0]\n",
    "# a list is \"mutable\" (i.e. you can change the values of its elements)\n",
    "l[1] = 2\n",
    "print(l)\n",
    "print(l[0:2])"
   ]
  },
  {
   "cell_type": "markdown",
   "metadata": {
    "slideshow": {
     "slide_type": "slide"
    }
   },
   "source": [
    "## Excursus: indexing in Python"
   ]
  },
  {
   "cell_type": "markdown",
   "metadata": {
    "slideshow": {
     "slide_type": "fragment"
    }
   },
   "source": [
    "You might have noticed that the index `1` refers to the second element of the list. \n",
    "\n",
    "This is an important rule for all containers in Python: **indexing begins with 0** \n",
    "\n",
    "*(which is familiar e.g. to C programmers, and new e.g. to R programmers)*"
   ]
  },
  {
   "cell_type": "markdown",
   "metadata": {
    "slideshow": {
     "slide_type": "slide"
    }
   },
   "source": [
    "## Dictionaries"
   ]
  },
  {
   "cell_type": "markdown",
   "metadata": {
    "slideshow": {
     "slide_type": "fragment"
    }
   },
   "source": [
    "- a `dictionary` is basically an efficient table that maps `keys` to `values`. \n",
    "- it is an unordered container. \n",
    "\n",
    "There are two ways to define dictionaries - both are equivalent."
   ]
  },
  {
   "cell_type": "code",
   "execution_count": 5,
   "metadata": {
    "execution": {
     "iopub.execute_input": "2024-08-30T10:02:15.790012Z",
     "iopub.status.busy": "2024-08-30T10:02:15.789326Z",
     "iopub.status.idle": "2024-08-30T10:02:15.794769Z",
     "shell.execute_reply": "2024-08-30T10:02:15.793999Z"
    },
    "slideshow": {
     "slide_type": "fragment"
    }
   },
   "outputs": [
    {
     "name": "stdout",
     "output_type": "stream",
     "text": [
      "d1 equals d2 is a True statement \n",
      "The type of d1 is <class 'dict'>\n"
     ]
    }
   ],
   "source": [
    "# One way to define a dictionary\n",
    "d1 = {\"band\": \"C\", \"altitude\": 1000.0}\n",
    "\n",
    "# Another way to define a dictionary\n",
    "d2 = dict(band=\"C\", altitude=1000.0)\n",
    "\n",
    "# Both are equivalent\n",
    "print(\"d1 equals d2 is a %r statement \" % (d1 == d2))\n",
    "print(\"The type of d1 is %r\" % type(d1))"
   ]
  },
  {
   "cell_type": "markdown",
   "metadata": {
    "slideshow": {
     "slide_type": "slide"
    }
   },
   "source": [
    "A `dictionary` can be queried using their keywords. You can also iterate over the keys."
   ]
  },
  {
   "cell_type": "code",
   "execution_count": 6,
   "metadata": {
    "execution": {
     "iopub.execute_input": "2024-08-30T10:02:15.798010Z",
     "iopub.status.busy": "2024-08-30T10:02:15.797554Z",
     "iopub.status.idle": "2024-08-30T10:02:15.803235Z",
     "shell.execute_reply": "2024-08-30T10:02:15.802424Z"
    },
    "slideshow": {
     "slide_type": "fragment"
    }
   },
   "outputs": [
    {
     "name": "stdout",
     "output_type": "stream",
     "text": [
      "C\n",
      "Printing all keys and values of d1:\n",
      "\tband: 'C'\n",
      "\taltitude: 1000.0\n"
     ]
    }
   ],
   "source": [
    "print(d1[\"band\"])\n",
    "print(\"Printing all keys and values of d1:\")\n",
    "for key in d1.keys():\n",
    "    print(\"\\t%s: %r\" % (key, d1[key]))"
   ]
  },
  {
   "cell_type": "markdown",
   "metadata": {
    "slideshow": {
     "slide_type": "slide"
    }
   },
   "source": [
    "## Control flow"
   ]
  },
  {
   "cell_type": "markdown",
   "metadata": {
    "slideshow": {
     "slide_type": "fragment"
    }
   },
   "source": [
    "Loops or iterations as well as conditional statments are key to data processing workflows. "
   ]
  },
  {
   "cell_type": "markdown",
   "metadata": {
    "slideshow": {
     "slide_type": "fragment"
    }
   },
   "source": [
    "In this section, we will present the most important syntax for control flow.  "
   ]
  },
  {
   "cell_type": "markdown",
   "metadata": {
    "slideshow": {
     "slide_type": "slide"
    }
   },
   "source": [
    "### \"for\" loops"
   ]
  },
  {
   "cell_type": "code",
   "execution_count": 7,
   "metadata": {
    "execution": {
     "iopub.execute_input": "2024-08-30T10:02:15.806695Z",
     "iopub.status.busy": "2024-08-30T10:02:15.806139Z",
     "iopub.status.idle": "2024-08-30T10:02:15.810705Z",
     "shell.execute_reply": "2024-08-30T10:02:15.809871Z"
    },
    "slideshow": {
     "slide_type": "fragment"
    }
   },
   "outputs": [
    {
     "name": "stdout",
     "output_type": "stream",
     "text": [
      "0\n",
      "1\n",
      "2\n"
     ]
    }
   ],
   "source": [
    "# For loops\n",
    "for i in range(3):\n",
    "    print(i)"
   ]
  },
  {
   "cell_type": "markdown",
   "metadata": {
    "slideshow": {
     "slide_type": "fragment"
    }
   },
   "source": [
    "**Indentation in Python**\n",
    "\n",
    "Indentation is a mandatory element of Python syntax - not just a question of style. \n",
    "\n",
    "Not using indentation will raise an `IndentationError`."
   ]
  },
  {
   "cell_type": "markdown",
   "metadata": {
    "slideshow": {
     "slide_type": "slide"
    }
   },
   "source": [
    "### \"while\" loops"
   ]
  },
  {
   "cell_type": "code",
   "execution_count": 8,
   "metadata": {
    "execution": {
     "iopub.execute_input": "2024-08-30T10:02:15.814013Z",
     "iopub.status.busy": "2024-08-30T10:02:15.813559Z",
     "iopub.status.idle": "2024-08-30T10:02:15.819274Z",
     "shell.execute_reply": "2024-08-30T10:02:15.818597Z"
    },
    "slideshow": {
     "slide_type": "fragment"
    }
   },
   "outputs": [
    {
     "name": "stdout",
     "output_type": "stream",
     "text": [
      "0\n",
      "1\n",
      "2\n"
     ]
    }
   ],
   "source": [
    "# While loops (in case the number of iterations is not known a-priori)\n",
    "i = 0\n",
    "while i < 3:\n",
    "    print(i)\n",
    "    i += 1"
   ]
  },
  {
   "cell_type": "markdown",
   "metadata": {
    "slideshow": {
     "slide_type": "slide"
    }
   },
   "source": [
    "### Conditional statements"
   ]
  },
  {
   "cell_type": "code",
   "execution_count": 9,
   "metadata": {
    "execution": {
     "iopub.execute_input": "2024-08-30T10:02:15.822684Z",
     "iopub.status.busy": "2024-08-30T10:02:15.822012Z",
     "iopub.status.idle": "2024-08-30T10:02:15.827222Z",
     "shell.execute_reply": "2024-08-30T10:02:15.826546Z"
    },
    "slideshow": {
     "slide_type": "fragment"
    }
   },
   "outputs": [
    {
     "name": "stdout",
     "output_type": "stream",
     "text": [
      "a is less than 10.\n"
     ]
    }
   ],
   "source": [
    "# Conditional statements\n",
    "a = 5\n",
    "if a < 10:\n",
    "    print(\"a is less than 10.\")\n",
    "elif a == 10:\n",
    "    print(\"a equals 10.\")\n",
    "else:\n",
    "    print(\"a is greater than 10.\")"
   ]
  },
  {
   "cell_type": "markdown",
   "metadata": {
    "slideshow": {
     "slide_type": "slide"
    }
   },
   "source": [
    "You can also exit a loop before it is finished or skip parts of a specific iteration."
   ]
  },
  {
   "cell_type": "code",
   "execution_count": 10,
   "metadata": {
    "execution": {
     "iopub.execute_input": "2024-08-30T10:02:15.830602Z",
     "iopub.status.busy": "2024-08-30T10:02:15.829994Z",
     "iopub.status.idle": "2024-08-30T10:02:15.834429Z",
     "shell.execute_reply": "2024-08-30T10:02:15.833747Z"
    },
    "slideshow": {
     "slide_type": "fragment"
    }
   },
   "outputs": [
    {
     "name": "stdout",
     "output_type": "stream",
     "text": [
      "0\n"
     ]
    }
   ],
   "source": [
    "for i in range(3):\n",
    "    # Exit the loop already if i equals 1\n",
    "    if i == 1:\n",
    "        break\n",
    "    print(i)"
   ]
  },
  {
   "cell_type": "code",
   "execution_count": 11,
   "metadata": {
    "execution": {
     "iopub.execute_input": "2024-08-30T10:02:15.838009Z",
     "iopub.status.busy": "2024-08-30T10:02:15.837738Z",
     "iopub.status.idle": "2024-08-30T10:02:15.844709Z",
     "shell.execute_reply": "2024-08-30T10:02:15.844091Z"
    },
    "slideshow": {
     "slide_type": "fragment"
    }
   },
   "outputs": [
    {
     "name": "stdout",
     "output_type": "stream",
     "text": [
      "0\n",
      "2\n"
     ]
    }
   ],
   "source": [
    "for i in range(3):\n",
    "    # Skip the iteration if i equals 1 (but continue the loop)\n",
    "    if i == 1:\n",
    "        continue\n",
    "    print(i)"
   ]
  },
  {
   "cell_type": "markdown",
   "metadata": {
    "slideshow": {
     "slide_type": "slide"
    }
   },
   "source": [
    "## Importing functions from modules"
   ]
  },
  {
   "cell_type": "markdown",
   "metadata": {
    "slideshow": {
     "slide_type": "skip"
    }
   },
   "source": [
    "For most applications, you will need to use `functions` that are available in `modules`. Just think of a module as a collection (or library) of functions. Some are shipped with the Python interpreter ([Python Standard Library](https://docs.python.org/library/)), others (such as wradlib) need to be installed (e.g. from the [Python Package Index](https://pypi.org)) or using the [Anaconda](https://www.anaconda.com/products/individual) Package Manager (`conda`).\n",
    "\n",
    "In order to use a function from a module, you need to `import` the module. See e.g. how to import the `os` module and use its `getcwd` function (which retruns the path to the current working directory):"
   ]
  },
  {
   "cell_type": "code",
   "execution_count": 12,
   "metadata": {
    "execution": {
     "iopub.execute_input": "2024-08-30T10:02:15.847913Z",
     "iopub.status.busy": "2024-08-30T10:02:15.847456Z",
     "iopub.status.idle": "2024-08-30T10:02:15.851385Z",
     "shell.execute_reply": "2024-08-30T10:02:15.850707Z"
    },
    "slideshow": {
     "slide_type": "fragment"
    }
   },
   "outputs": [
    {
     "name": "stdout",
     "output_type": "stream",
     "text": [
      "/home/runner/work/wradlib/wradlib/notebooks/notebooks/python\n"
     ]
    }
   ],
   "source": [
    "import os\n",
    "\n",
    "mycwd = os.getcwd()\n",
    "print(mycwd)"
   ]
  },
  {
   "cell_type": "markdown",
   "metadata": {
    "slideshow": {
     "slide_type": "slide"
    }
   },
   "source": [
    "## Getting help"
   ]
  },
  {
   "cell_type": "markdown",
   "metadata": {
    "slideshow": {
     "slide_type": "fragment"
    }
   },
   "source": [
    "- In most environments, you can use the *TAB* key for code completion and for listing functions available in a module. \n",
    "\n",
    "- Use the following cell, enter `os.` and hit the *TAB* key. You can narrow down available functions by typing further characters. \n",
    "\n",
    "- Once you've selected (or typed) a function name, *jupyter* will show you the help content after hitting *TAB+Shift*.\n",
    "\n",
    "- Alternatively, you can get help for a function in any Python environment by calling `help` (e.g. `help(os.getcwd)`). In juypter, you can also use the following syntax: `os.getcwd?`"
   ]
  },
  {
   "cell_type": "code",
   "execution_count": null,
   "metadata": {
    "slideshow": {
     "slide_type": "fragment"
    }
   },
   "outputs": [],
   "source": []
  },
  {
   "cell_type": "markdown",
   "metadata": {
    "slideshow": {
     "slide_type": "slide"
    }
   },
   "source": [
    "## Writing your own functions"
   ]
  },
  {
   "cell_type": "markdown",
   "metadata": {
    "slideshow": {
     "slide_type": "fragment"
    }
   },
   "source": [
    "In order to organise applications and write reusable code, you will need to write funcions on you own. \n",
    "\n",
    "This is how you define and call a function (notice again the **indentation**): "
   ]
  },
  {
   "cell_type": "code",
   "execution_count": 13,
   "metadata": {
    "execution": {
     "iopub.execute_input": "2024-08-30T10:02:15.856288Z",
     "iopub.status.busy": "2024-08-30T10:02:15.855966Z",
     "iopub.status.idle": "2024-08-30T10:02:15.859925Z",
     "shell.execute_reply": "2024-08-30T10:02:15.859034Z"
    },
    "slideshow": {
     "slide_type": "fragment"
    }
   },
   "outputs": [],
   "source": [
    "# Define the function...\n",
    "def demofunction(a, b):\n",
    "    c = a + b\n",
    "    return c"
   ]
  },
  {
   "cell_type": "code",
   "execution_count": 14,
   "metadata": {
    "execution": {
     "iopub.execute_input": "2024-08-30T10:02:15.863484Z",
     "iopub.status.busy": "2024-08-30T10:02:15.862785Z",
     "iopub.status.idle": "2024-08-30T10:02:15.875135Z",
     "shell.execute_reply": "2024-08-30T10:02:15.874347Z"
    },
    "slideshow": {
     "slide_type": "fragment"
    }
   },
   "outputs": [
    {
     "data": {
      "text/plain": [
       "5"
      ]
     },
     "execution_count": 14,
     "metadata": {},
     "output_type": "execute_result"
    }
   ],
   "source": [
    "# ...and call the function\n",
    "demofunction(2, 3)"
   ]
  },
  {
   "cell_type": "markdown",
   "metadata": {
    "slideshow": {
     "slide_type": "slide"
    }
   },
   "source": [
    "Using `docstrings`, you can document your function as you write it."
   ]
  },
  {
   "cell_type": "code",
   "execution_count": 15,
   "metadata": {
    "execution": {
     "iopub.execute_input": "2024-08-30T10:02:15.884317Z",
     "iopub.status.busy": "2024-08-30T10:02:15.884012Z",
     "iopub.status.idle": "2024-08-30T10:02:15.888983Z",
     "shell.execute_reply": "2024-08-30T10:02:15.888297Z"
    },
    "slideshow": {
     "slide_type": "fragment"
    }
   },
   "outputs": [],
   "source": [
    "def demofunction(a, b):\n",
    "    \"\"\"This function computes the sum of a and b.\n",
    "\n",
    "    Parameters\n",
    "    ----------\n",
    "    a : numeric\n",
    "    b : numeric\n",
    "\n",
    "    Returns\n",
    "    -------\n",
    "    output : numeric (the sum of a and b)\n",
    "\n",
    "    \"\"\"\n",
    "    c = a + b\n",
    "    return c"
   ]
  },
  {
   "cell_type": "markdown",
   "metadata": {
    "slideshow": {
     "slide_type": "fragment"
    }
   },
   "source": [
    "Now try calling `help(demofunction)`."
   ]
  },
  {
   "cell_type": "code",
   "execution_count": null,
   "metadata": {
    "slideshow": {
     "slide_type": "fragment"
    }
   },
   "outputs": [],
   "source": []
  },
  {
   "cell_type": "markdown",
   "metadata": {
    "slideshow": {
     "slide_type": "skip"
    }
   },
   "source": [
    "This should be the output:\n",
    "\n",
    "```python\n",
    "Help on function demofunction in module __main__:\n",
    "\n",
    "demofunction(a, b)\n",
    "    This function computes the sum of a and b\n",
    "    \n",
    "    Parameters\n",
    "    ----------\n",
    "    a : numeric\n",
    "    b : numeric\n",
    "    \n",
    "    Returns\n",
    "    -------\n",
    "    output : numeric (the sum of a and b)\n",
    "```"
   ]
  },
  {
   "cell_type": "markdown",
   "metadata": {
    "slideshow": {
     "slide_type": "slide"
    }
   },
   "source": [
    "Functions can have keyword arguments with default values. In the following example, we set a default value for parameter `b`."
   ]
  },
  {
   "cell_type": "code",
   "execution_count": 16,
   "metadata": {
    "execution": {
     "iopub.execute_input": "2024-08-30T10:02:15.892950Z",
     "iopub.status.busy": "2024-08-30T10:02:15.892593Z",
     "iopub.status.idle": "2024-08-30T10:02:15.896802Z",
     "shell.execute_reply": "2024-08-30T10:02:15.895919Z"
    },
    "slideshow": {
     "slide_type": "fragment"
    }
   },
   "outputs": [],
   "source": [
    "def demofunction(a, b=2):\n",
    "    \"\"\"Adds 2 to a by default.\"\"\"\n",
    "    c = a + b\n",
    "    return c"
   ]
  },
  {
   "cell_type": "code",
   "execution_count": 17,
   "metadata": {
    "execution": {
     "iopub.execute_input": "2024-08-30T10:02:15.900686Z",
     "iopub.status.busy": "2024-08-30T10:02:15.900355Z",
     "iopub.status.idle": "2024-08-30T10:02:15.904685Z",
     "shell.execute_reply": "2024-08-30T10:02:15.904000Z"
    },
    "slideshow": {
     "slide_type": "fragment"
    }
   },
   "outputs": [
    {
     "name": "stdout",
     "output_type": "stream",
     "text": [
      "5\n",
      "6\n"
     ]
    }
   ],
   "source": [
    "print(demofunction(3))\n",
    "print(demofunction(3, b=3))"
   ]
  },
  {
   "cell_type": "markdown",
   "metadata": {
    "slideshow": {
     "slide_type": "slide"
    }
   },
   "source": [
    "## File input and output"
   ]
  },
  {
   "cell_type": "markdown",
   "metadata": {
    "slideshow": {
     "slide_type": "fragment"
    }
   },
   "source": [
    "This is the basic way to read from and write to text and binary files (there are a lot of other file formats which have specific interfaces - particularly in the radar world: see [file formats supported by wradlib](../fileio.ipynb))."
   ]
  },
  {
   "cell_type": "code",
   "execution_count": 18,
   "metadata": {
    "execution": {
     "iopub.execute_input": "2024-08-30T10:02:15.909025Z",
     "iopub.status.busy": "2024-08-30T10:02:15.908761Z",
     "iopub.status.idle": "2024-08-30T10:02:15.913108Z",
     "shell.execute_reply": "2024-08-30T10:02:15.912450Z"
    },
    "slideshow": {
     "slide_type": "fragment"
    }
   },
   "outputs": [
    {
     "name": "stdout",
     "output_type": "stream",
     "text": [
      "<class '_io.TextIOWrapper'>\n"
     ]
    }
   ],
   "source": [
    "# Open a file for writing\n",
    "f = open(\"testfile.txt\", \"w\")  # opens the workfile file\n",
    "print(type(f))\n",
    "f.write(\"This is a test line,\\nand another test line.\\n\")\n",
    "f.close()"
   ]
  },
  {
   "cell_type": "code",
   "execution_count": 19,
   "metadata": {
    "execution": {
     "iopub.execute_input": "2024-08-30T10:02:15.916952Z",
     "iopub.status.busy": "2024-08-30T10:02:15.916461Z",
     "iopub.status.idle": "2024-08-30T10:02:15.920622Z",
     "shell.execute_reply": "2024-08-30T10:02:15.919974Z"
    },
    "slideshow": {
     "slide_type": "fragment"
    }
   },
   "outputs": [
    {
     "name": "stdout",
     "output_type": "stream",
     "text": [
      "This is a test line,\n",
      "and another test line.\n",
      "\n"
     ]
    }
   ],
   "source": [
    "# Open a file for reading\n",
    "f = open(\"testfile.txt\", \"r\")\n",
    "s = f.read()\n",
    "print(s)\n",
    "f.close()"
   ]
  },
  {
   "cell_type": "markdown",
   "metadata": {
    "slideshow": {
     "slide_type": "slide"
    }
   },
   "source": [
    "A safer way to handle files is to use Python's `with` statement which makes sure that the file is properly closed even if your code breaks inbetween opening and closing the file. "
   ]
  },
  {
   "cell_type": "code",
   "execution_count": 20,
   "metadata": {
    "execution": {
     "iopub.execute_input": "2024-08-30T10:02:15.924368Z",
     "iopub.status.busy": "2024-08-30T10:02:15.924055Z",
     "iopub.status.idle": "2024-08-30T10:02:15.928234Z",
     "shell.execute_reply": "2024-08-30T10:02:15.927566Z"
    },
    "slideshow": {
     "slide_type": "fragment"
    }
   },
   "outputs": [
    {
     "name": "stdout",
     "output_type": "stream",
     "text": [
      "This is a test line,\n",
      "and another test line.\n",
      "\n"
     ]
    }
   ],
   "source": [
    "with open(\"testfile.txt\") as f:\n",
    "    s = f.read()\n",
    "    print(s)"
   ]
  },
  {
   "cell_type": "markdown",
   "metadata": {
    "slideshow": {
     "slide_type": "slide"
    }
   },
   "source": [
    "## The building blocks of scientific Python"
   ]
  },
  {
   "cell_type": "markdown",
   "metadata": {
    "slideshow": {
     "slide_type": "fragment"
    }
   },
   "source": [
    "With this, we conclude the basic Python intro. \n",
    "\n",
    "The following sections introduce, we introduce the most important packages for scientific computing in Python. Unlike Matlab, Scilab or R, Python does not come with a pre-bundled set\n",
    "of modules for scientific computing. Instead, a scientific computing environment can be obtained by combining these building blocks:\n",
    "\n",
    "* **Python**, a generic and modern computing language, including standard data types and collections, flow control, modules of the standard library, and development tools (automatic testing, documentation generation)\n",
    "\n",
    "* **IPython**: an interactive **Python shell**, see our article on [how to use notebooks](../../jupyter.rst).\n",
    "\n",
    "* **Numpy**: provides powerful **numerical arrays** objects, and routines to\n",
    "  manipulate them - see our [NumPy intro article](../python/numpyintro.ipynb)\n",
    "\n",
    "* **Matplotlib** : visualization and \"publication-ready\" plots, see related intro [here](../python/mplintro.ipynb)\n",
    "\n",
    "* **Scipy**: high-level data processing routines - e.g. optimization, regression, interpolation, etc (https://www.scipy.org)"
   ]
  },
  {
   "cell_type": "markdown",
   "metadata": {
    "slideshow": {
     "slide_type": "fragment"
    }
   },
   "source": [
    "Please also check out further in-depth courses such as\n",
    "- the [SciPy Lecture Notes](https://scipy-lectures.org/index.html) or \n",
    "- the [Dive into Python](https://en.wikipedia.org/wiki/Mark_Pilgrim#Dive_into_Python) book."
   ]
  }
 ],
 "metadata": {
  "celltoolbar": "Slideshow",
  "language_info": {
   "codemirror_mode": {
    "name": "ipython",
    "version": 3
   },
   "file_extension": ".py",
   "mimetype": "text/x-python",
   "name": "python",
   "nbconvert_exporter": "python",
   "pygments_lexer": "ipython3",
   "version": "3.12.5"
  },
  "livereveal": {
   "scroll": true
  },
  "toc": {
   "colors": {
    "hover_highlight": "#DAA520",
    "navigate_num": "#000000",
    "navigate_text": "#333333",
    "running_highlight": "#FF0000",
    "selected_highlight": "#FFD700",
    "sidebar_border": "#EEEEEE",
    "wrapper_background": "#FFFFFF"
   },
   "moveMenuLeft": true,
   "nav_menu": {
    "height": "328px",
    "width": "252px"
   },
   "navigate_menu": true,
   "number_sections": false,
   "sideBar": true,
   "threshold": 4,
   "toc_cell": false,
   "toc_section_display": "block",
   "toc_window_display": false,
   "widenNotebook": false
  }
 },
 "nbformat": 4,
 "nbformat_minor": 1
}
