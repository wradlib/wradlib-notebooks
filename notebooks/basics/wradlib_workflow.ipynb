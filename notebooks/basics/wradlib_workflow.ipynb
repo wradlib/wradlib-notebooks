{
 "cells": [
  {
   "cell_type": "markdown",
   "metadata": {
    "nbsphinx": "hidden"
   },
   "source": [
    "This notebook is part of the $\\omega radlib$ documentation: https://docs.wradlib.org.\n",
    "\n",
    "Copyright (c) $\\omega radlib$ developers.\n",
    "Distributed under the MIT License. See LICENSE.txt for more info."
   ]
  },
  {
   "cell_type": "markdown",
   "metadata": {},
   "source": [
    "# A Typical Workflow For Radar-Based Rainfall Estimation"
   ]
  },
  {
   "cell_type": "markdown",
   "metadata": {},
   "source": [
    "Raw, unprocessed reflectivity products can already provide useful visual information about the spatial distribution of rainfall fields. However, in order to use weather radar observations for quantitative studies (e.g. in hydrological modelling or for assimilation into Numerical Weather Prediction models), the data has to be carefully processed in order to account for typical errors sources such as ground echoes (clutter), attenuation of the radar signal, or uncertainties in the Z/R relationship.\n",
    "\n",
    "Moreover, it might be necessary to transfer the data from polar coordinates to cartesian grids, or to combine observations from different radar locations in overlapping areas on a common grid (composition). And in the end, you would typically like to visualise the spatial rainfall distribution on a map. Many users also need to quantify the potential error (uncertainty) of their data-based rainfall estimation.\n",
    "\n",
    "These are just some steps that might be necessary in order to make radar data useful in a specific quantitative application environment. All steps together are typically referred to as a *\"radar data processing chain\"*. $\\omega radlib$ was designed to support you in establishing your own processing chain, suited to your specific requirements. In the following, we will provide an outline of a typical processing chain, step-by-step. You might not need all steps for your own workflow, or you might need steps which are not yet included here."
   ]
  },
  {
   "cell_type": "code",
   "execution_count": null,
   "metadata": {
    "nbsphinx": "hidden"
   },
   "outputs": [],
   "source": [
    "import wradlib as wrl\n",
    "import xarray as xr\n",
    "import xradar as xd\n",
    "import matplotlib.pyplot as plt\n",
    "import warnings\n",
    "\n",
    "warnings.filterwarnings(\"ignore\")\n",
    "try:\n",
    "    get_ipython().run_line_magic(\"matplotlib inline\")\n",
    "except:\n",
    "    plt.ion()\n",
    "import numpy as np"
   ]
  },
  {
   "cell_type": "markdown",
   "metadata": {},
   "source": [
    "## Introduction"
   ]
  },
  {
   "cell_type": "markdown",
   "metadata": {},
   "source": [
    "Consider this just as an example. We will not go into detail for each step in this section, but refer to more detailed tutorials (if available) or the corresponding entry in the library reference. Most of the steps have a corresponding $\\omega radlib$ module. In order to access the functions of $\\omega radlib$, you have to import $\\omega radlib$ in your Python environment:\n",
    "\n",
    "```python\n",
    "import wradlib as wrl\n",
    "```"
   ]
  },
  {
   "cell_type": "markdown",
   "metadata": {},
   "source": [
    "If you have trouble with that import, please head back to the [Installation](https://docs.wradlib.org/en/latest/installation.html) section."
   ]
  },
  {
   "cell_type": "markdown",
   "metadata": {},
   "source": [
    "<div class=\"alert alert-info\">\n",
    "\n",
    "**Note** <br>\n",
    "\n",
    "The data used in this tutorial can be found in the [wradlib-data repository](https://github.com/wradlib/wradlib-data). Follow [these instructions](https://github.com/wradlib/wradlib-data/blob/main/README.md) to install and use this data files.\n",
    "\n",
    "</div>"
   ]
  },
  {
   "cell_type": "markdown",
   "metadata": {},
   "source": [
    "<div class=\"alert alert-warning\">\n",
    "\n",
    "**Warning** <br>\n",
    "\n",
    "Be aware that applying an algorithm for error correction does not guarantee that the error is totally removed. Error correction procedures are suceptible to errors, too. Not only might they fail to *remove* the error. They might also introduce *new* errors. The trade-off between costs (introduction of new errors) and benefits (error reduction) can turn out differently for different locations, different points in time, or different rainfall situations.\n",
    "\n",
    "</div>"
   ]
  },
  {
   "cell_type": "markdown",
   "metadata": {},
   "source": [
    "## Reading the data"
   ]
  },
  {
   "cell_type": "markdown",
   "metadata": {},
   "source": [
    "The binary encoding of many radar products is a major obstacle for many potential radar users. Often, decoder software is not easily available. $\\omega radlib$ supports a couple of formats such as the ODIM_H5 implementation, NetCDF, and some formats used by the German Weather Service. With the porting of [xarray](https://xarray.dev/)-based code from $\\omega radlib$ to [xradar](https://docs.openradarscience.org/projects/xradar/en/stable/) the range of supported formats will surely increase in the future.\n",
    "\n",
    "Ever since the basic data type used in $\\omega radlib$ is a multi-dimensional array, the numpy.ndarray. Such an array might e.g. represent a polar or cartesian grid, or a series of rain gage observations. Metadata are normally managed as Python dictionaries. In order to read the content of a data file into a numpy array, you would normally use the [wradlib.io](https://docs.wradlib.org/en/latest/io.html) module. With the evolution in the scientific Python stack (eg. xarray) $\\omega radlib$ adopted DataTree, Dataset and DataArray to conveniently hold radar data together with coordinates and metadata (now available in [xradar](https://docs.openradarscience.org/projects/xradar/en/stable/)). In the following example, a local PPI from the German Weather Service, a DX file, is read and converted to an xarray.DataArray and plotted:"
   ]
  },
  {
   "cell_type": "markdown",
   "metadata": {},
   "source": [
    "The ``metadata`` object can be inspected via keywords. The ``data`` object contains the actual data, in this case a polar grid with 360 azimuth angles and 128 range bins."
   ]
  },
  {
   "cell_type": "code",
   "execution_count": null,
   "metadata": {},
   "outputs": [],
   "source": [
    "filename = wrl.util.get_wradlib_data_file(\"dx/raa00-dx_10908-0806021655-fbg---bin.gz\")\n",
    "data, metadata = wrl.io.read_dx(filename)\n",
    "print(data.shape)\n",
    "print(metadata.keys())"
   ]
  },
  {
   "cell_type": "markdown",
   "metadata": {},
   "source": [
    "Using xarray we can conveniently hold the reflectivity data as well as the needed coordinates in one convenient structure. "
   ]
  },
  {
   "cell_type": "code",
   "execution_count": null,
   "metadata": {},
   "outputs": [],
   "source": [
    "radar_location = (8.003611, 47.873611, 1516.0)\n",
    "da = wrl.georef.create_xarray_dataarray(\n",
    "    data,\n",
    "    r=np.arange(500, data.shape[1] * 1000 + 500, 1000),\n",
    "    phi=metadata[\"azim\"],\n",
    "    theta=metadata[\"elev\"],\n",
    "    site=radar_location,\n",
    "    sweep_mode=\"azimuth_surveillance\",\n",
    ")"
   ]
  },
  {
   "cell_type": "markdown",
   "metadata": {},
   "source": [
    "We can use xarray directly to create a nice plot."
   ]
  },
  {
   "cell_type": "code",
   "execution_count": null,
   "metadata": {},
   "outputs": [],
   "source": [
    "da.plot()"
   ]
  },
  {
   "cell_type": "markdown",
   "metadata": {},
   "source": [
    "## Georeferencing and Projection"
   ]
  },
  {
   "cell_type": "markdown",
   "metadata": {},
   "source": [
    "In order to define the horizontal and vertical position of the radar bins, we need to retrieve the corresponding 3-dimensional coordinates in terms of longitude, latitude and altitude. This information is required e.g. if the positions should be plotted on a map. It is also required for constructing [CAPPIs](https://en.wikipedia.org/wiki/Constant_altitude_plan_position_indicator). The position of a radar bin in 3-dimensional space depends on the position of the radar device, the elevation and azimuth angle of the radar beam, the range of the bin, and the assumed influence of atmospheric refraction on the beam propagation. For the sample data used above, the position of the radar device is the Feldberg in Germany (8.005, 47.8744, 1517):"
   ]
  },
  {
   "cell_type": "markdown",
   "metadata": {},
   "source": [
    "We have the ability to easily georeference all radar bins (here with an azimuthal equidistant projection). This adds the projection as `crs_wkt` coordinate to the Dataset/DataArray."
   ]
  },
  {
   "cell_type": "code",
   "execution_count": null,
   "metadata": {},
   "outputs": [],
   "source": [
    "da = da.wrl.georef.georeference()\n",
    "display(da)"
   ]
  },
  {
   "cell_type": "markdown",
   "metadata": {},
   "source": [
    "$\\omega radlib$ supports the projection between geographical coordinates (lon/lat) and other reference systems. It uses GDAL/OSR Spatial References Objects as function parameters. Basically, you have to create the OSR-object by using GDAL-capabilities or one of the provided helper functions. We recommend the creation using [EPSG numbers](https://epsg.io/):"
   ]
  },
  {
   "cell_type": "code",
   "execution_count": null,
   "metadata": {},
   "outputs": [],
   "source": [
    "# UTM Zone 32, EPSG-Number 32632\n",
    "utm = wrl.georef.epsg_to_osr(32632)\n",
    "print(utm)\n",
    "da_utm = da.wrl.georef.reproject(trg_crs=utm)\n",
    "da_utm.plot(x=\"x\", y=\"y\")"
   ]
  },
  {
   "cell_type": "markdown",
   "metadata": {},
   "source": [
    "Second, you can provide a string which represents the projection - based on the [PROJ library](https://proj.org). You can [look up projection strings](https://epsg.io/), but for some projections, $\\omega radlib$ helps you to define a projection string. In the following example, the target projection is 'dwd-radolan':"
   ]
  },
  {
   "cell_type": "code",
   "execution_count": null,
   "metadata": {},
   "outputs": [],
   "source": [
    "radolan = wrl.georef.create_osr(\"dwd-radolan\")\n",
    "da_radolan = da.wrl.georef.reproject(trg_crs=radolan)\n",
    "da_radolan.plot(x=\"x\", y=\"y\")"
   ]
  },
  {
   "cell_type": "markdown",
   "metadata": {},
   "source": [
    "<div class=\"alert alert-info\">\n",
    "\n",
    "**Seealso** <br>\n",
    "\n",
    "Get more info in the library reference section [Georeferencing](https://docs.wradlib.org/en/latest/georef.html).\n",
    "\n",
    "</div>"
   ]
  },
  {
   "cell_type": "markdown",
   "metadata": {},
   "source": [
    "For plotting we also can use the $\\omega radlib$ plot-function, which detects the data as PPI and plots it."
   ]
  },
  {
   "cell_type": "code",
   "execution_count": null,
   "metadata": {},
   "outputs": [],
   "source": [
    "pm = da.wrl.vis.plot(add_colorbar=True)"
   ]
  },
  {
   "cell_type": "markdown",
   "metadata": {},
   "source": [
    "<div class=\"alert alert-info\">\n",
    "\n",
    "**Seealso** <br>\n",
    "\n",
    "Get more info in the section [Supported radar data formats](../fileio.ipynb) and in the library reference section [Raw Data I/O](https://docs.wradlib.org/en/latest/io.html).\n",
    "\n",
    "</div>"
   ]
  },
  {
   "cell_type": "markdown",
   "metadata": {},
   "source": [
    "## Clutter removal"
   ]
  },
  {
   "cell_type": "markdown",
   "metadata": {},
   "source": [
    "Clutter are non-meteorological echos. They are caused by the radar beam hitting objects on the earth's surface (e.g. mountain or hill tops, houses, wind turbines) or in the air (e.g. airplanes, birds). These objects can potentially cause high reflectivities due large scattering cross sections. Static clutter, if not efficiently removed by Doppler filters, can cause permanent echos which could introduce severe bias in quantitative applications. Thus, an efficient identification and removal of clutter is mandatory e.g. for hydrological studies. Clutter removal can be based on static maps or dynamic filters. Normally, static clutter becomes visible more clearly in rainfall accumulation maps over periods of weeks or months. We recommend such accumulations to create static clutter maps which can in turn be used to remove the static clutter from an image and fill the resulting gaps by interpolation. "
   ]
  },
  {
   "cell_type": "markdown",
   "metadata": {},
   "source": [
    "In the following example, the clutter filter published by [Gabella et al., 2002](https://docs.wradlib.org/en/latest/bibliography.html#gabella2002)) is applied to the single radar sweep of the above example:"
   ]
  },
  {
   "cell_type": "code",
   "execution_count": null,
   "metadata": {},
   "outputs": [],
   "source": [
    "clutter = da.wrl.classify.filter_gabella(tr1=12, n_p=6, tr2=1.1)\n",
    "pm = clutter.wrl.vis.plot(cmap=plt.cm.gray)\n",
    "plt.title(\"Clutter Map\")"
   ]
  },
  {
   "cell_type": "markdown",
   "metadata": {},
   "source": [
    "The resulting Boolean array ``clutter`` indicates the position of clutter. It can be used to interpolate the values at those positons from non-clutter values, as shown in the following lines:"
   ]
  },
  {
   "cell_type": "code",
   "execution_count": null,
   "metadata": {},
   "outputs": [],
   "source": [
    "data_no_clutter = da.wrl.ipol.interpolate_polar(clutter)\n",
    "pm = data_no_clutter.wrl.vis.plot(add_colorbar=True)  # simple diagnostic plot"
   ]
  },
  {
   "cell_type": "markdown",
   "metadata": {},
   "source": [
    "It is generally recommended to remove the clutter before e.g. gridding the data. Otherwise the clutter signal might be \"smeared\" over multiple grid cells, resulting into a decrease in detectability."
   ]
  },
  {
   "cell_type": "markdown",
   "metadata": {},
   "source": [
    "<div class=\"alert alert-info\">\n",
    "\n",
    "**Seealso** <br>\n",
    "\n",
    "Get more info in the library reference section [Echo Classification](https://docs.wradlib.org/en/latest/classify.html).\n",
    "\n",
    "</div>"
   ]
  },
  {
   "cell_type": "markdown",
   "metadata": {},
   "source": [
    "## Attenuation correction"
   ]
  },
  {
   "cell_type": "markdown",
   "metadata": {},
   "source": [
    "Attenuation by wet radome and by heavy rainfall can cause serious underestimation of rainfall for [C-Band and X-Band](https://www.everythingweather.com/weather-radar/bands.shtml) devices. For such radar devices, situations with heavy rainfall require a correction of attenuation effects. <br>\n",
    "The general approach with single-polarized radars is to use a recursive gate-by-gate approach. See [Kraemer et al., 2008](https://docs.wradlib.org/en/latest/bibliography.html#kraemer2008) for an introduction to this concept. Basically, the specific attenuation ``k`` of the first range gate is computed via a so-called ``k-Z`` relationship. Based on ``k``, the reflectivity of the second range gate is corrected and then used to compute the specific attenuation for the second range gate (and so on). <br>\n",
    "The concept was first introduced by [Hitschfeld et al., 1954)](https://docs.wradlib.org/en/latest/bibliography.html#hitschfeld1954). Its main drawback is its suceptibility to instable behaviour. $\\omega radlib$ provides different implementations which address this problem."
   ]
  },
  {
   "cell_type": "markdown",
   "metadata": {},
   "source": [
    "One example is the algorithm published by [Jacobi and Heistermann, 2016](https://docs.wradlib.org/en/latest/bibliography.html#jacobi2016):"
   ]
  },
  {
   "cell_type": "code",
   "execution_count": null,
   "metadata": {},
   "outputs": [],
   "source": [
    "pia = data_no_clutter.wrl.atten.correct_attenuation_constrained(\n",
    "    a_max=1.67e-4,\n",
    "    a_min=2.33e-5,\n",
    "    n_a=100,\n",
    "    b_max=0.7,\n",
    "    b_min=0.65,\n",
    "    n_b=6,\n",
    "    gate_length=1.0,\n",
    "    constraints=[wrl.atten.constraint_dbz, wrl.atten.constraint_pia],\n",
    "    constraint_args=[[59.0], [20.0]],\n",
    ")\n",
    "data_attcorr = data_no_clutter + pia"
   ]
  },
  {
   "cell_type": "markdown",
   "metadata": {},
   "source": [
    "The first line computes the path integrated attenuation ``pia`` for each radar bin. The second line uses ``pia`` to correct the reflectivity values. Let's inspect the effect of attenuation correction for an azimuth angle of 65 deg:"
   ]
  },
  {
   "cell_type": "code",
   "execution_count": null,
   "metadata": {},
   "outputs": [],
   "source": [
    "plt.figure(figsize=(10, 8))\n",
    "data_attcorr[65].plot(label=\"attcorr\")\n",
    "data_no_clutter[65].plot(label=\"no attcorr\")\n",
    "plt.xlabel(\"km\")\n",
    "plt.ylabel(\"dBZ\")\n",
    "plt.legend()"
   ]
  },
  {
   "cell_type": "markdown",
   "metadata": {},
   "source": [
    "<div class=\"alert alert-info\">\n",
    "\n",
    "**Seealso** <br>\n",
    "\n",
    "Get more info in the library reference section [Attenuation Correction](https://docs.wradlib.org/en/latest/atten.html). There you will learn to know the algorithms available for attenuation correction and how to manipulate their behaviour by using additonal keyword arguments.   \n",
    "\n",
    "</div>"
   ]
  },
  {
   "cell_type": "markdown",
   "metadata": {},
   "source": [
    "## Vertical Profile of Reflectivity"
   ]
  },
  {
   "cell_type": "markdown",
   "metadata": {},
   "source": [
    "Precipitation is 3-dimensional in space. The vertical distribution of precipitation (and thus reflectivity) is typically non-uniform. As the height of the radar beam increases with the distance from the radar location (beam elevation, earth curvature), one sweep samples from different heights. The effects of the non-uniform VPR and the different sampling heights need to be accounted for if we are interested in the precipiation near the ground or in defined altitudes."
   ]
  },
  {
   "cell_type": "markdown",
   "metadata": {},
   "source": [
    "<div class=\"alert alert-info\">\n",
    "\n",
    "**Seealso** <br>\n",
    "\n",
    "Get more info in the library reference section [Vertical Profile of Reflectivity (VPR)](https://docs.wradlib.org/en/latest/vpr.html). There you will learn how to reference polar volume data, to create CAPPIs and Pseudo CAPPIs, to inspect vertical profiles of reflectivity (UNDER DEVELOPMENT), and to use these for correction (UNDER DEVELOPMENT).   \n",
    "\n",
    "</div>"
   ]
  },
  {
   "cell_type": "markdown",
   "metadata": {},
   "source": [
    "## Conversion of Reflectivity into Rainfall"
   ]
  },
  {
   "cell_type": "markdown",
   "metadata": {},
   "source": [
    "Reflectivity (Z) and precipitation rate (R) can be related in form of a power law $R=a*Z^b$. The parameters ``a`` and ``b`` depend on the type of precipitation in terms of drop size distribution and water temperature. Before applying the Z-R relationship, we need to convert from dBZ to Z:"
   ]
  },
  {
   "cell_type": "code",
   "execution_count": null,
   "metadata": {},
   "outputs": [],
   "source": [
    "z = data_attcorr.wrl.trafo.idecibel()\n",
    "R = z.wrl.zr.z_to_r()  # wrl.zr.z_to_r(wrl.trafo.idecibel(data_attcorr))"
   ]
  },
  {
   "cell_type": "markdown",
   "metadata": {},
   "source": [
    "The above line uses the default parameters ``a=200`` and ``b=1.6`` for the Z-R relationship. In order to compute a rainfall depth from rainfall intensity, we have to specify an integration interval in seconds. In this example, we choose five minutes (300 s), corresponding to the scan interval."
   ]
  },
  {
   "cell_type": "code",
   "execution_count": null,
   "metadata": {},
   "outputs": [],
   "source": [
    "depths = R.wrl.trafo.r_to_depth(300)\n",
    "depths.wrl.vis.plot()"
   ]
  },
  {
   "cell_type": "markdown",
   "metadata": {},
   "source": [
    "<div class=\"alert alert-info\">\n",
    "\n",
    "**Seealso** <br>\n",
    "\n",
    "Get more info in the section [Converting reflectivity to rainfall](wradlib_get_rainfall.ipynb) and in the library reference sections [Z-R Conversions](https://docs.wradlib.org/en/latest/zr.html) and [Data Transformation](https://docs.wradlib.org/en/latest/trafo.html). Here you will learn about the effects of the Z-R parameters ``a`` and ``b``.\n",
    "\n",
    "</div>"
   ]
  },
  {
   "cell_type": "markdown",
   "metadata": {},
   "source": [
    "## Rainfall accumulation"
   ]
  },
  {
   "cell_type": "markdown",
   "metadata": {},
   "source": [
    "For many applications, accumulated rainfall depths over specific time intervals are required, e.g. hourly or daily accumulations. In the following example, we will use a synthetic time series of 5 minute intervals. Just imagine we have repeated the above procedure for one day of five-minute sweeps and combined the arrays of rainfall depth in a 3-dimensional array of shape ``(number of time steps, number of azimuth angles, number of range gates)``.\n",
    "\n",
    "Now we want to compute the daily rainfall sum:"
   ]
  },
  {
   "cell_type": "code",
   "execution_count": null,
   "metadata": {},
   "outputs": [],
   "source": [
    "sweep_times = wrl.util.from_to(\"2012-10-26 00:00:00\", \"2012-10-27 00:00:00\", 300)\n",
    "np.random.seed(1319622840)\n",
    "depths_5min = np.random.uniform(size=(len(sweep_times) - 1, 360, 128))\n",
    "depth_daily = depths_5min.sum(axis=0)"
   ]
  },
  {
   "cell_type": "markdown",
   "metadata": {},
   "source": [
    "Check the shape the resulting array for plausibility:"
   ]
  },
  {
   "cell_type": "code",
   "execution_count": null,
   "metadata": {},
   "outputs": [],
   "source": [
    "print(depth_daily.shape)"
   ]
  },
  {
   "cell_type": "markdown",
   "metadata": {},
   "source": [
    "<div class=\"alert alert-info\">\n",
    "\n",
    "**Seealso** <br>\n",
    "\n",
    "For more advanced operations on time series, we recommend the [Pandas](https://pandas.pydata.org/) package.\n",
    "\n",
    "</div>"
   ]
  },
  {
   "cell_type": "markdown",
   "metadata": {},
   "source": [
    "## Gridding"
   ]
  },
  {
   "cell_type": "markdown",
   "metadata": {},
   "source": [
    "Assume you would like to transfer the rainfall intensity from the [above example](#Conversion-of-Reflectivity-into-Rainfall) from polar coordinates to a Cartesian grid, or to an arbitrary set of irregular points in space (e.g. centroids of sub-catchments). You already retrieved the Cartesian coordinates of the radar bins in the previous section [Georeferencing and Projection](#Georeferencing-and-Projection). Now you only need to define the target coordinates (e.g. a grid) and apply the ``togrid`` function of the [wradlib.comp](https://docs.wradlib.org/en/latest/comp.html) module. In this example, we want our grid only to represent the South-West sector of our radar circle on a 100 x 100 grid. First, we define the target grid coordinates (these must be an array of 100x100 rows with one coordinate pair each):"
   ]
  },
  {
   "cell_type": "code",
   "execution_count": null,
   "metadata": {},
   "outputs": [],
   "source": [
    "xgrid = np.linspace(R.x.min(), R.x.mean(), 100)\n",
    "ygrid = np.linspace(R.y.min(), R.y.mean(), 100)\n",
    "cart = xr.Dataset(coords={\"x\": ([\"x\"], xgrid), \"y\": ([\"y\"], ygrid)})\n",
    "cart"
   ]
  },
  {
   "cell_type": "markdown",
   "metadata": {},
   "source": [
    "Now we transfer the polar data to the grid and mask out invalid values for plotting (values outside the radar circle receive NaN):"
   ]
  },
  {
   "cell_type": "code",
   "execution_count": null,
   "metadata": {},
   "outputs": [],
   "source": [
    "gridded = data_attcorr.wrl.comp.togrid(\n",
    "    cart, radius=128000.0, center=(0, 0), interpol=wrl.ipol.Nearest\n",
    ")\n",
    "display(gridded)"
   ]
  },
  {
   "cell_type": "code",
   "execution_count": null,
   "metadata": {},
   "outputs": [],
   "source": [
    "fig = plt.figure(figsize=(10, 8))\n",
    "ax = plt.subplot(111, aspect=\"equal\")\n",
    "pm = gridded.plot()\n",
    "plt.xlabel(\"Easting (m)\")\n",
    "plt.ylabel(\"Northing (m)\")"
   ]
  },
  {
   "cell_type": "markdown",
   "metadata": {},
   "source": [
    "<div class=\"alert alert-info\">\n",
    "\n",
    "**Seealso** <br>\n",
    "\n",
    "Get more info about the function [wradlib.comp.togrid()](https://docs.wradlib.org/en/latest/generated/wradlib.comp.togrid.html).\n",
    "\n",
    "</div>"
   ]
  },
  {
   "cell_type": "markdown",
   "metadata": {},
   "source": [
    "## Adjustment by rain gage observations"
   ]
  },
  {
   "cell_type": "markdown",
   "metadata": {},
   "source": [
    "Adjustment normally refers to using rain gage observations on the ground to correct for errors in the radar-based rainfall estimating. [Goudenhoofdt et al., 2009](https://docs.wradlib.org/en/latest/bibliography.html#goudenhoofdt2009) provide an excellent overview of adjustment procedures. A typical approach is to quantify the error of the radar-based rainfall estimate *at* the rain gage locations, assuming the rain gage observation to be accurate. The error can be assumed to be additive, multiplicative, or a mixture of both. Most approaches assume the error to be heterogeneous in space. Hence, the error at the rain gage locations will be interpolated to the radar bin (or grid) locations and then used to adjust (correct) the raw radar rainfall estimates.\n",
    "\n",
    "In the following example, we will use an illustrative one-dimensional example with synthetic data (just imagine radar rainfall estimates and rain gage observations along one radar beam). \n",
    "\n",
    "First, we create the synthetic \"true\" rainfall (``truth``):"
   ]
  },
  {
   "cell_type": "code",
   "execution_count": null,
   "metadata": {},
   "outputs": [],
   "source": [
    "import numpy as np\n",
    "\n",
    "radar_coords = np.arange(0, 101)\n",
    "np.random.seed(1319622840)\n",
    "truth = np.abs(1.5 + np.sin(0.075 * radar_coords)) + np.random.uniform(\n",
    "    -0.1, 0.1, len(radar_coords)\n",
    ")"
   ]
  },
  {
   "cell_type": "markdown",
   "metadata": {},
   "source": [
    "The radar rainfall estimate ``radar`` is then computed by imprinting a multiplicative ``error`` on ``truth`` and adding some noise:"
   ]
  },
  {
   "cell_type": "code",
   "execution_count": null,
   "metadata": {},
   "outputs": [],
   "source": [
    "error = 0.75 + 0.015 * radar_coords\n",
    "np.random.seed(1319622840)\n",
    "radar = error * truth + np.random.uniform(-0.1, 0.1, len(radar_coords))"
   ]
  },
  {
   "cell_type": "markdown",
   "metadata": {},
   "source": [
    "Synthetic gage observations ``obs`` are then created by selecting arbitrary \"true\" values:"
   ]
  },
  {
   "cell_type": "code",
   "execution_count": null,
   "metadata": {},
   "outputs": [],
   "source": [
    "obs_coords = np.array([5, 10, 15, 20, 30, 45, 65, 70, 77, 90])\n",
    "obs = truth[obs_coords]"
   ]
  },
  {
   "cell_type": "markdown",
   "metadata": {},
   "source": [
    "Now we adjust the ``radar`` rainfall estimate by using the gage observations. First, you create an \"adjustment object\" from the approach you want to use for adjustment. After that, you can call the object with the actual data that is to be adjusted. Here, we use a multiplicative error model with spatially heterogenous error (see [wradlib.adjust.AdjustMultiply()](https://docs.wradlib.org/en/latest/generated/wradlib.adjust.AdjustMultiply.html):"
   ]
  },
  {
   "cell_type": "code",
   "execution_count": null,
   "metadata": {},
   "outputs": [],
   "source": [
    "adjuster = wrl.adjust.AdjustMultiply(obs_coords, radar_coords, nnear_raws=3)\n",
    "adjusted = adjuster(obs, radar)"
   ]
  },
  {
   "cell_type": "markdown",
   "metadata": {},
   "source": [
    "Let's compare the ``truth``, the ``radar`` rainfall estimate and the ``adjusted`` product:"
   ]
  },
  {
   "cell_type": "code",
   "execution_count": null,
   "metadata": {},
   "outputs": [],
   "source": [
    "plt.plot(radar_coords, truth, \"k-\", label=\"True rainfall\", linewidth=2.0)\n",
    "plt.xlabel(\"Distance (km)\")\n",
    "plt.ylabel(\"Rainfall intensity (mm/h)\")\n",
    "plt.plot(\n",
    "    radar_coords,\n",
    "    radar,\n",
    "    \"k-\",\n",
    "    label=\"Raw radar rainfall\",\n",
    "    linewidth=2.0,\n",
    "    linestyle=\"dashed\",\n",
    ")\n",
    "plt.plot(\n",
    "    obs_coords,\n",
    "    obs,\n",
    "    \"o\",\n",
    "    label=\"Gage observation\",\n",
    "    markersize=10.0,\n",
    "    markerfacecolor=\"grey\",\n",
    ")\n",
    "plt.plot(\n",
    "    radar_coords,\n",
    "    adjusted,\n",
    "    \"-\",\n",
    "    color=\"green\",\n",
    "    label=\"Multiplicative adjustment\",\n",
    "    linewidth=2.0,\n",
    ")\n",
    "plt.legend(prop={\"size\": 12})"
   ]
  },
  {
   "cell_type": "markdown",
   "metadata": {},
   "source": [
    "<div class=\"alert alert-info\">\n",
    "\n",
    "**Seealso** <br>\n",
    "\n",
    "Get more info in the library reference section [Gage Adjustment](https://docs.wradlib.org/en/latest/adjust.html). There, you will also learn how to use the built-in *cross-validation* in order to evaluate the performance of the adjustment approach.\n",
    "\n",
    "</div>"
   ]
  },
  {
   "cell_type": "markdown",
   "metadata": {},
   "source": [
    "## Verification and quality control"
   ]
  },
  {
   "cell_type": "markdown",
   "metadata": {},
   "source": [
    "Typically, radar-based precipitation estimation and the effectiveness of the underlying correction and adjustment methods are verified by comparing the results against rain gage observations on the ground. [wradlib.verify](https://docs.wradlib.org/en/latest/verify.html) module provides procedures not only to extract the radar values at specific gauge locations, but also a set of error metrics which are computed from gage observations and the corresponding radar-based precipitation estimates (including standard metrics such as RMSE, mean error, Nash-Sutcliffe Efficiency). In the following, we will illustrate the usage of error metrics by comparing the \"true\" rainfall against the raw and adjusted radar rainfall estimates from the above example:"
   ]
  },
  {
   "cell_type": "code",
   "execution_count": null,
   "metadata": {},
   "outputs": [],
   "source": [
    "raw_error = wrl.verify.ErrorMetrics(truth, radar)\n",
    "adj_error = wrl.verify.ErrorMetrics(truth, adjusted)"
   ]
  },
  {
   "cell_type": "markdown",
   "metadata": {},
   "source": [
    "Error metrics can be reported e.g. as follows:"
   ]
  },
  {
   "cell_type": "code",
   "execution_count": null,
   "metadata": {},
   "outputs": [],
   "source": [
    "print(\"Error metrics for unadjusted radar rainfall estimates:\")\n",
    "raw_error.pprint()\n",
    "print(\"\\nError metrics for adjusted radar rainfall estimates:\")\n",
    "adj_error.pprint()"
   ]
  },
  {
   "cell_type": "markdown",
   "metadata": {},
   "source": [
    "<div class=\"alert alert-info\">\n",
    "\n",
    "**Seealso** <br>\n",
    "\n",
    "Get more info in the library reference section [Verification](https://docs.wradlib.org/en/latest/verify.html).\n",
    "\n",
    "</div>"
   ]
  },
  {
   "cell_type": "markdown",
   "metadata": {},
   "source": [
    "## Visualisation and mapping"
   ]
  },
  {
   "cell_type": "markdown",
   "metadata": {},
   "source": [
    "In the above sections [Reading the data](#Reading-the-data), [Clutter removal](#Clutter-removal), and [Gridding](#Gridding) you already saw examples of the $\\omega radlib's$ plotting capabilities."
   ]
  },
  {
   "cell_type": "markdown",
   "metadata": {},
   "source": [
    "<div class=\"alert alert-info\">\n",
    "\n",
    "**Seealso** <br>\n",
    "\n",
    "Get more info in the library reference section [Visualisation](https://docs.wradlib.org/en/latest/vis.html).\n",
    "\n",
    "</div>"
   ]
  },
  {
   "cell_type": "markdown",
   "metadata": {},
   "source": [
    "## Data export to other applications"
   ]
  },
  {
   "cell_type": "markdown",
   "metadata": {},
   "source": [
    "Once you created a dataset which meets your requirements, you might want to export it to other applications or archives. $\\omega radlib$ does not favour or support a specific output format. Basically, you have all the freedom of choice offered by Python and its packages in order to export your data. Arrays can be stored as text or binary files by using numpy functions. You can use the package [NetCDF4](https://unidata.github.io/netcdf4-python/) to write NetCDF files, and the packages [h5py](https://www.h5py.org/) or [PyTables](https://www.pytables.org) to write hdf5 files.\n",
    "\n",
    "Using [xradar](https://docs.openradarscience.org/projects/xradar/en/stable/) a standardized data export is available. Of course, you can also export data as images. See [Visualisation](https://docs.wradlib.org/en/latest/vis.html) for some options.\n",
    "\n",
    "Export your data array as a text file:"
   ]
  },
  {
   "cell_type": "code",
   "execution_count": null,
   "metadata": {},
   "outputs": [],
   "source": [
    "np.savetxt(\"mydata.txt\", data_attcorr)"
   ]
  },
  {
   "cell_type": "markdown",
   "metadata": {},
   "source": [
    "Or as a gzip-compressed text file:"
   ]
  },
  {
   "cell_type": "code",
   "execution_count": null,
   "metadata": {},
   "outputs": [],
   "source": [
    "np.savetxt(\"mydata.gz\", data_attcorr)"
   ]
  },
  {
   "cell_type": "markdown",
   "metadata": {},
   "source": [
    "Or as a NetCDF file:"
   ]
  },
  {
   "cell_type": "code",
   "execution_count": null,
   "metadata": {},
   "outputs": [],
   "source": [
    "data_attcorr.name = \"reflectivity corrected\"\n",
    "data_attcorr.to_netcdf(\"test.nc\", group=\"sweep_0\")"
   ]
  },
  {
   "cell_type": "code",
   "execution_count": null,
   "metadata": {},
   "outputs": [],
   "source": [
    "with xr.open_dataset(\"test.nc\", group=\"sweep_0\") as ds:\n",
    "    display(ds)"
   ]
  },
  {
   "cell_type": "markdown",
   "metadata": {},
   "source": [
    "<div class=\"alert alert-info\">\n",
    "\n",
    "**Note** <br>\n",
    "\n",
    "An example for hdf5 export will follow.\n",
    "\n",
    "</div>"
   ]
  }
 ],
 "metadata": {
  "celltoolbar": "Edit Metadata",
  "language_info": {
   "codemirror_mode": {
    "name": "ipython",
    "version": 3
   },
   "file_extension": ".py",
   "mimetype": "text/x-python",
   "name": "python",
   "nbconvert_exporter": "python",
   "pygments_lexer": "ipython3",
   "version": "3.11.0"
  },
  "toc": {
   "colors": {
    "hover_highlight": "#DAA520",
    "navigate_num": "#000000",
    "navigate_text": "#333333",
    "running_highlight": "#FF0000",
    "selected_highlight": "#FFD700",
    "sidebar_border": "#EEEEEE",
    "wrapper_background": "#FFFFFF"
   },
   "moveMenuLeft": true,
   "nav_menu": {
    "height": "288px",
    "width": "252px"
   },
   "navigate_menu": true,
   "number_sections": false,
   "sideBar": true,
   "threshold": 4,
   "toc_cell": false,
   "toc_section_display": "block",
   "toc_window_display": false,
   "widenNotebook": false
  }
 },
 "nbformat": 4,
 "nbformat_minor": 4
}
