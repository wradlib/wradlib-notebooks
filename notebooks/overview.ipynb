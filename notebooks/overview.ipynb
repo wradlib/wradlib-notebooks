{
 "cells": [
  {
   "cell_type": "markdown",
   "metadata": {
    "nbsphinx": "hidden"
   },
   "source": [
    "This notebook is part of the $\\omega radlib$ documentation: https://docs.wradlib.org.\n",
    "\n",
    "Copyright (c) $\\omega radlib$ developers.\n",
    "Distributed under the MIT License. See LICENSE.txt for more info."
   ]
  },
  {
   "cell_type": "markdown",
   "metadata": {},
   "source": [
    "# Tutorials and Examples\n",
    "\n",
    "This section provides a collection of example code snippets to make users familiar with $\\omega radlib$ and weather radar data processing."
   ]
  },
  {
   "cell_type": "markdown",
   "metadata": {
    "nbsphinx-toctree": {
     "hidden": true,
     "maxdepth": 2
    }
   },
   "source": [
    "- [Python Intro](python/learnpython.ipynb)\n",
    "- [wradlib Basics](basics/basics.ipynb)\n",
    "- [Data Input/Output](fileio.ipynb)\n",
    "- [Visualization](plotting.ipynb)\n",
    "- [Attenuation Correction](attenuation/attenuation.ipynb)\n",
    "- [Beam Blockage](beamblockage/beamblockage.ipynb)\n",
    "- [Echo Classification](classify.ipynb)\n",
    "- [Georeferencing](georeferencing.ipynb)\n",
    "- [Interpolation](interpolation/interpolation.ipynb)\n",
    "- [Gauge Adjustment](multisensor/gauge_adjustment.ipynb)\n",
    "- [Verification](verification/verification.ipynb)\n",
    "- [Zonal Statistics](zonalstats/zonalstats.ipynb)\n",
    "- [Recipes](recipes.ipynb)"
   ]
  },
  {
   "cell_type": "code",
   "execution_count": null,
   "metadata": {},
   "outputs": [],
   "source": []
  }
 ],
 "metadata": {
  "celltoolbar": "Edit Metadata",
  "language_info": {
   "codemirror_mode": {
    "name": "ipython",
    "version": 3
   },
   "file_extension": ".py",
   "mimetype": "text/x-python",
   "name": "python",
   "nbconvert_exporter": "python",
   "pygments_lexer": "ipython3",
   "version": "3.11.6"
  },
  "toc": {
   "colors": {
    "hover_highlight": "#DAA520",
    "navigate_num": "#000000",
    "navigate_text": "#333333",
    "running_highlight": "#FF0000",
    "selected_highlight": "#FFD700",
    "sidebar_border": "#EEEEEE",
    "wrapper_background": "#FFFFFF"
   },
   "moveMenuLeft": true,
   "nav_menu": {
    "height": "68px",
    "width": "252px"
   },
   "navigate_menu": true,
   "number_sections": false,
   "sideBar": true,
   "threshold": 4,
   "toc_cell": false,
   "toc_section_display": "block",
   "toc_window_display": false,
   "widenNotebook": false
  }
 },
 "nbformat": 4,
 "nbformat_minor": 4
}
