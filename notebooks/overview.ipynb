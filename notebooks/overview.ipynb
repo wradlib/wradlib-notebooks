{
 "cells": [
  {
   "cell_type": "markdown",
   "metadata": {
    "nbsphinx": "hidden"
   },
   "source": [
    "This notebook is part of the $\\omega radlib$ documentation: https://docs.wradlib.org.\n",
    "\n",
    "Copyright (c) $\\omega radlib$ developers.\n",
    "Distributed under the MIT License. See LICENSE.txt for more info."
   ]
  },
  {
   "cell_type": "markdown",
   "metadata": {
    "nbsphinx-toctree": {
     "hidden": true
    }
   },
   "source": [
    "# Tutorials and Examples"
   ]
  },
  {
   "cell_type": "markdown",
   "metadata": {},
   "source": [
    "This section provides a collection of example code snippets to make users familiar with $\\omega radlib$ and weather radar data processing."
   ]
  },
  {
   "cell_type": "markdown",
   "metadata": {
    "nbsphinx-toctree": {
     "maxdepth": 2
    }
   },
   "source": [
    "- [An incomplete introduction to python](learnpython.ipynb)\n",
    "- [Getting started with wradlib](basics.ipynb)\n",
    "- [Data Input - Data Output](fileio.ipynb)\n",
    "- [Attenuation correction](attenuation/wradlib_attenuation.ipynb)\n",
    "- [Beam Blockage Calculation using DEM](beamblockage/wradlib_beamblock.ipynb)\n",
    "- [Clutter and Echo Classification](classify.ipynb)\n",
    "- [Georeferencing](georeferencing.ipynb)\n",
    "- [Match spaceborn SR (GPM/TRRM) with ground radars GR](match3d/wradlib_match_workflow.ipynb)\n",
    "- [Data Interpolation](interpolation/wradlib_ipol_example.ipynb)\n",
    "- [Adjusting rainfall estimates by rain gauges](multisensor/wradlib_adjust_example.ipynb)\n",
    "- [Verification for precipitation estimates](verification/wradlib_verify_example.ipynb)\n",
    "- [Recipes](recipes.ipynb)\n",
    "- [RADOLAN Composite](radolan.ipynb)\n",
    "- [Zonal Statistics](zonalstats/wradlib_zonalstats_classes.ipynb)"
   ]
  }
 ],
 "metadata": {
  "celltoolbar": "Edit Metadata",
  "kernelspec": {
   "display_name": "Python 3",
   "language": "python",
   "name": "python3"
  },
  "language_info": {
   "codemirror_mode": {
    "name": "ipython",
    "version": 3
   },
   "file_extension": ".py",
   "mimetype": "text/x-python",
   "name": "python",
   "nbconvert_exporter": "python",
   "pygments_lexer": "ipython3",
   "version": "3.7.1"
  },
  "toc": {
   "colors": {
    "hover_highlight": "#DAA520",
    "navigate_num": "#000000",
    "navigate_text": "#333333",
    "running_highlight": "#FF0000",
    "selected_highlight": "#FFD700",
    "sidebar_border": "#EEEEEE",
    "wrapper_background": "#FFFFFF"
   },
   "moveMenuLeft": true,
   "nav_menu": {
    "height": "68px",
    "width": "252px"
   },
   "navigate_menu": true,
   "number_sections": false,
   "sideBar": true,
   "threshold": 4,
   "toc_cell": false,
   "toc_section_display": "block",
   "toc_window_display": false,
   "widenNotebook": false
  }
 },
 "nbformat": 4,
 "nbformat_minor": 1
}
