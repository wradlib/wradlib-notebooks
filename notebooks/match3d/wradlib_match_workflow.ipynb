{
 "cells": [
  {
   "cell_type": "markdown",
   "metadata": {
    "nbsphinx": "hidden"
   },
   "source": [
    "This notebook is part of the $\\omega radlib$  documentation: https://docs.wradlib.org.\n",
    "\n",
    "Copyright (c), $\\omega radlib$  developers.\n",
    "Distributed under the MIT License. See LICENSE.txt for more info."
   ]
  },
  {
   "cell_type": "markdown",
   "metadata": {},
   "source": [
    "# Match spaceborn SR (GPM/TRMM) with ground radars GR"
   ]
  },
  {
   "cell_type": "markdown",
   "metadata": {},
   "source": [
    "The idea is to match ground radar (GR) and space-born radar (SR) measurements in order to create spatially and temporally coicident samples without interpolation. The procedure had been suggested by [Schwaller and Morris (2011)](https://doi.org/10.1175/2010JTECHA1403.1) and is based on the adaption by [Warren, et. al. (2017)](https://doi.org/10.1175/JTECH-D-17-0128.1). \n",
    "\n",
    "The basic principle is illustrated in Fig. 2 of the original paper of Schwaller and Morris (2011):\n",
    "\n",
    "![figure 2](fig2_schwaller_morris_2011.png)\n",
    "\n",
    "*Quote Warren, et.al: \"[...] In this approach, intersections between indi vidual SR beams and GR elevation sweeps are identified and the reflectivity values from both  instruments are averaged within a spatial neighborhood around the\n",
    "intersection. Specifically, SR data are averaged in range over the width of the GR beam at the GR range of the intersection, while GR data are averaged in the\n",
    "range–azimuth plane within the footprint of the SR beam. The result is a pair of reflectivity measurements corresponding to approximately the same volume of\n",
    "atmosphere. [...]\".*\n",
    "\n",
    "This becomes clearer in Fig. 3:\n",
    "![figure 3](fig3_schwaller_morris_2011.png)\n",
    "\n",
    "Schwaller, MR, and Morris, KR. 2011. A ground validation network for the Global Precipitation Measurement mission. J. Atmos. Oceanic Technol., 28, 301-319.\n",
    "\n",
    "Warren, R.A., A. Protat, S.T. Siems, H.A. Ramsay, V. Louf, M.J. Manton, and T.A. Kane, 0: Calibrating ground-based radars against TRMM and GPM. J. Atmos. Oceanic Technol., 0,"
   ]
  },
  {
   "cell_type": "markdown",
   "metadata": {},
   "source": [
    "## Conventions\n",
    "\n",
    "This code is based on the following conventions:\n",
    "\n",
    "- `gr` indicates **g**round **r**adar\n",
    "- `sr` indicates **s**pace-born precipitation **r**adar (TRMM or GPM)\n",
    "\n",
    "The base routines are designed to process one GR sweep at a time. If a full GR volume with `nelev` of sweeps is available, you can iterate over each sweep. In this code, `ee` is an index that points to one of the `nelev` sweeps/elevation angles. Accordingly, a **GR** data set will be organised as an array of shape `(nelev_gr, nray_gr, ngate_gr)`.\n",
    "\n",
    "A **SR** data set is typically organised as arrays with dimensions `(nscan_sr, nray_sr, ngate_sr)`."
   ]
  },
  {
   "cell_type": "code",
   "execution_count": null,
   "metadata": {},
   "outputs": [],
   "source": [
    "import warnings\n",
    "\n",
    "#warnings.filterwarnings(\"ignore\")\n",
    "import wradlib as wrl\n",
    "import matplotlib.pyplot as plt\n",
    "import matplotlib as mpl\n",
    "\n",
    "try:\n",
    "    get_ipython().run_line_magic(\"matplotlib inline\")\n",
    "except:\n",
    "    plt.ion()\n",
    "    \n",
    "import numpy as np\n",
    "import datetime as dt\n",
    "from osgeo import osr\n",
    "import xarray as xr\n",
    "import xradar as xd"
   ]
  },
  {
   "cell_type": "markdown",
   "metadata": {},
   "source": [
    "# Acquire datafiles"
   ]
  },
  {
   "cell_type": "code",
   "execution_count": null,
   "metadata": {},
   "outputs": [],
   "source": [
    "# define GPM data set\n",
    "gpm_file = wrl.util.get_wradlib_data_file(\n",
    "    \"gpm/2A-CS-151E24S154E30S.GPM.Ku.V7-20170308.20141206-S095002-E095137.004383.V05A.HDF5\"\n",
    ")\n",
    "# define matching ground radar file\n",
    "gr2gpm_file = wrl.util.get_wradlib_data_file(\"hdf5/IDR66_20141206_094829.vol.h5\")\n",
    "\n",
    "# define TRMM data sets\n",
    "trmm_2a23_file = wrl.util.get_wradlib_data_file(\n",
    "    \"trmm/2A-CS-151E24S154E30S.TRMM.PR.2A23.20100206-S111425-E111526.069662.7.HDF\"\n",
    ")\n",
    "trmm_2a25_file = wrl.util.get_wradlib_data_file(\n",
    "    \"trmm/2A-CS-151E24S154E30S.TRMM.PR.2A25.20100206-S111425-E111526.069662.7.HDF\"\n",
    ")\n",
    "\n",
    "# define matching ground radar file\n",
    "gr2trmm_file = wrl.util.get_wradlib_data_file(\"hdf5/IDR66_20100206_111233.vol.h5\")"
   ]
  },
  {
   "cell_type": "markdown",
   "metadata": {},
   "source": [
    "# Set SR and GR parameters"
   ]
  },
  {
   "cell_type": "code",
   "execution_count": null,
   "metadata": {},
   "outputs": [],
   "source": [
    "# Space-born precipitation radar parameters\n",
    "sr_pars = {\n",
    "    \"trmm\": {\n",
    "        \"zt\": 402500.0,  # orbital height of TRMM (post boost)   APPROXIMATION!\n",
    "        \"dr\": 250.0,  # gate spacing of TRMM\n",
    "        \"gr_file\": gr2trmm_file,\n",
    "    },\n",
    "    \"gpm\": {\n",
    "        \"zt\": 407000.0,  # orbital height of GPM                 APPROXIMATION!\n",
    "        \"dr\": 125.0,  # gate spacing of GPM\n",
    "        \"gr_file\": gr2gpm_file,\n",
    "    },\n",
    "}"
   ]
  },
  {
   "cell_type": "code",
   "execution_count": null,
   "metadata": {},
   "outputs": [],
   "source": [
    "# Set parameters for this procedure\n",
    "bw_sr = 0.71  # SR beam width\n",
    "platf = \"gpm\"  # SR platform/product: one out of [\"gpm\", \"trmm\"]\n",
    "zt = sr_pars[platf][\"zt\"]  # SR orbit height (meters)\n",
    "dr_sr = sr_pars[platf][\"dr\"]  # SR gate length (meters)\n",
    "gr_file = sr_pars[platf][\"gr_file\"]\n",
    "ee = 2  # Index that points to the GR elevation angle to be used"
   ]
  },
  {
   "cell_type": "markdown",
   "metadata": {},
   "source": [
    "# Data Input"
   ]
  },
  {
   "cell_type": "markdown",
   "metadata": {},
   "source": [
    "## Ground Radar GR"
   ]
  },
  {
   "cell_type": "markdown",
   "metadata": {},
   "source": [
    "### Read GR data into datatree using xradar\n",
    "\n",
    "The following code reads data in ODIM H5 format. If your GR data is in some other format respective adaptions are needed."
   ]
  },
  {
   "cell_type": "code",
   "execution_count": null,
   "metadata": {},
   "outputs": [],
   "source": [
    "gr_data = xd.io.open_odim_datatree(gr_file)\n",
    "display(gr_data)"
   ]
  },
  {
   "cell_type": "markdown",
   "metadata": {},
   "source": [
    "### Extract relevant GR data and meta-data"
   ]
  },
  {
   "cell_type": "code",
   "execution_count": null,
   "metadata": {},
   "outputs": [],
   "source": [
    "swp = gr_data[f\"sweep_{ee}\"].ds\n",
    "display(swp)\n",
    "print(swp.sweep_fixed_angle.values)"
   ]
  },
  {
   "cell_type": "markdown",
   "metadata": {},
   "source": [
    "### Georeference GR (AEQD)"
   ]
  },
  {
   "cell_type": "code",
   "execution_count": null,
   "metadata": {},
   "outputs": [],
   "source": [
    "swp = swp.wrl.georef.georeference()\n",
    "display(swp)"
   ]
  },
  {
   "cell_type": "markdown",
   "metadata": {},
   "source": [
    "### Assign lonlat coords to GR"
   ]
  },
  {
   "cell_type": "code",
   "execution_count": null,
   "metadata": {},
   "outputs": [],
   "source": [
    "ll = swp.wrl.georef.spherical_to_proj()\n",
    "swp = swp.assign_coords(lon=ll[..., 0], lat=ll[..., 1])\n",
    "display(swp)"
   ]
  },
  {
   "cell_type": "markdown",
   "metadata": {},
   "source": [
    "### Get GR Grid Polygons "
   ]
  },
  {
   "cell_type": "code",
   "execution_count": null,
   "metadata": {},
   "outputs": [],
   "source": [
    "# todo: move to wradlib function\n",
    "def get_grid_polygons(ds):\n",
    "    x = ds.x\n",
    "    for i in reversed(range(x.ndim)):\n",
    "        x = xr.plot.utils._infer_interval_breaks(x, axis=i)\n",
    "    y = ds.y\n",
    "    for i in reversed(range(y.ndim)):\n",
    "        y = xr.plot.utils._infer_interval_breaks(y, axis=i)\n",
    "    coords = np.stack([x, y], axis=-1)\n",
    "    ll = np.dstack([coords[0:-1, 0:-1], ds.z.values[..., None]])\n",
    "    ul = np.dstack([coords[0:-1, 1:], ds.z.values[..., None]])\n",
    "    ur = np.dstack([coords[1:, 1:], ds.z.values[..., None]])\n",
    "    lr = np.dstack([coords[1:, 0:-1], ds.z.values[..., None]])\n",
    "    return np.stack([ll, ul, ur, lr, ll], axis=-2)"
   ]
  },
  {
   "cell_type": "code",
   "execution_count": null,
   "metadata": {},
   "outputs": [],
   "source": [
    "gr_poly = get_grid_polygons(swp)"
   ]
  },
  {
   "cell_type": "markdown",
   "metadata": {},
   "source": [
    "### Calculate GR Bounding Box"
   ]
  },
  {
   "cell_type": "code",
   "execution_count": null,
   "metadata": {},
   "outputs": [],
   "source": [
    "bbox = wrl.zonalstats.get_bbox(swp.lon, swp.lat)\n",
    "print(\n",
    "    \"Radar bounding box:\\n\\t%.2f\\n%.2f           %.2f\\n\\t%.2f\"\n",
    "    % (bbox[\"top\"], bbox[\"left\"], bbox[\"right\"], bbox[\"bottom\"])\n",
    ")"
   ]
  },
  {
   "cell_type": "markdown",
   "metadata": {},
   "source": [
    "## Satellite data SR"
   ]
  },
  {
   "cell_type": "markdown",
   "metadata": {},
   "source": [
    "### Read GPM data"
   ]
  },
  {
   "cell_type": "code",
   "execution_count": null,
   "metadata": {},
   "outputs": [],
   "source": [
    "# read spaceborn SR data\n",
    "if platf == \"gpm\":\n",
    "    sr_data = wrl.io.open_gpm_dataset(gpm_file, group=\"NS\")\n",
    "    sr_data = sr_data.set_coords([\"Longitude\", \"Latitude\"])\n",
    "    sr_data = xr.decode_cf(sr_data)\n",
    "    sr_data.attrs[\"platform\"] = \"GPM\"\n",
    "    # sr_data = wrl.io.read_gpm(gpm_file, bbox=bbox)\n",
    "elif platf == \"trmm\":\n",
    "    sr_data = wrl.io.read_trmm(trmm_2a23_file, trmm_2a25_file, bbox=bbox)\n",
    "    dvars = {\n",
    "        \"pflag\": \"flagPrecip\",\n",
    "        \"ptype\": \"typePrecip\",\n",
    "        \"zbb\": \"heightBB\",\n",
    "        \"bbwidth\": \"widthBB\",\n",
    "        \"sfc\": None,\n",
    "        \"quality\": \"qualityBB\",\n",
    "        \"zenith\": \"localZenithAngle\",\n",
    "        \"refl\": \"zFactorCorrected\",\n",
    "        \"date\": \"time\",\n",
    "        \"lon\": \"Longitude\",\n",
    "        \"lat\": \"Latitude\",\n",
    "    }\n",
    "    dims = [\"nscan\", \"nray\", \"nbin\"]\n",
    "    data_vars = {\n",
    "        dvars[k] if dvars[k] is not None else k: (dims[: v.ndim], v)\n",
    "        for k, v in sr_data.items()\n",
    "        if k in dvars\n",
    "    }\n",
    "    sr_data = xr.Dataset(data_vars=data_vars)\n",
    "    # sr_data = sr_data.rename_vars(date=\"time\")\n",
    "    sr_data = sr_data.set_coords([\"time\", \"Longitude\", \"Latitude\"])\n",
    "    sr_data[\"zFactorCorrected\"] = sr_data[\"zFactorCorrected\"][..., ::-1]\n",
    "    sr_data[\"dprAlt\"] = sr_pars[\"trmm\"][\"zt\"]\n",
    "    sr_data.attrs[\"platform\"] = \"TRMM\"\n",
    "else:\n",
    "    raise (\"Invalid platform\")\n",
    "display(sr_data)"
   ]
  },
  {
   "cell_type": "code",
   "execution_count": null,
   "metadata": {},
   "outputs": [],
   "source": [
    "sr_data[\"dprAlt\"].values"
   ]
  },
  {
   "cell_type": "code",
   "execution_count": null,
   "metadata": {},
   "outputs": [],
   "source": [
    "# Todo: make height level parameterizable via keyword argument\n",
    "# Todo: plot gr radar domain and satellite swath outlines\n",
    "def plot_unmatched_refl(sr_data, gr_data, level=-5):\n",
    "    \"\"\"\n",
    "    Plotting unmatched SR and GR Reflectivity\n",
    "\n",
    "    # Input:\n",
    "    # ------\n",
    "    gr_data ::: graund radar sweep data\n",
    "    sr_data ::: satellite data\n",
    "\n",
    "    # Output:\n",
    "    # ------\n",
    "    Plot of SR Refl. and GR Refl.\n",
    "\n",
    "    \"\"\"\n",
    "    plt.figure(figsize=(12, 4))\n",
    "    ax1 = plt.subplot(1, 2, 1)\n",
    "    # pm = sr_data.zFactorFinal[:, :, -5, 0].plot(x=\"Longitude\", y=\"Latitude\", cmap='jet', vmin=0, vmax=40, add_labels=False, add_colorbar=False)\n",
    "    pm = sr_data.zFactorCorrected[:, :, level].plot(\n",
    "        x=\"Longitude\",\n",
    "        y=\"Latitude\",\n",
    "        cmap=\"jet\",\n",
    "        vmin=0,\n",
    "        vmax=40,\n",
    "        add_labels=False,\n",
    "        add_colorbar=False,\n",
    "    )\n",
    "    cbar = plt.colorbar(pm, ax=ax1, ticks=np.arange(0, 42, 2))\n",
    "    cbar.set_label(\"SR Reflectivity (dBz)\", fontsize=12)\n",
    "    cbar.ax.tick_params(labelsize=12)\n",
    "    ax1.set_xlabel(\"Longitude (°)\", fontsize=12)\n",
    "    ax1.set_ylabel(\"Latitude (°)\", fontsize=12)\n",
    "    ax1.tick_params(axis=\"both\", labelsize=12)\n",
    "    ax1.set_title(sr_data.attrs[\"platform\"], fontsize=12, loc=\"left\")\n",
    "    ax1.grid(lw=0.25, color=\"grey\")\n",
    "    ax1.set_xlim(sr_data.Longitude.min(), sr_data.Longitude.max())\n",
    "    ax1.set_ylim(sr_data.Latitude.min(), sr_data.Latitude.max())\n",
    "\n",
    "    ax2 = plt.subplot(1, 2, 2)\n",
    "    swp = gr_data[\"sweep_2\"].ds\n",
    "    ll = swp.wrl.georef.spherical_to_proj()\n",
    "    swp = swp.assign_coords(lon=ll[..., 0], lat=ll[..., 1])\n",
    "    pm = swp.DBZH.plot(\n",
    "        x=\"lon\",\n",
    "        y=\"lat\",\n",
    "        cmap=\"jet\",\n",
    "        vmin=0,\n",
    "        vmax=40,\n",
    "        ax=ax2,\n",
    "        add_labels=False,\n",
    "        add_colorbar=False,\n",
    "    )\n",
    "    cbar = plt.colorbar(pm, ax=ax2, ticks=np.arange(0, 42, 2))\n",
    "    cbar.set_label(\"GR Reflectivity (dBz)\", fontsize=12)\n",
    "    cbar.ax.tick_params(labelsize=12)\n",
    "    ax2.set_xlabel(\"Longitude (°)\", fontsize=12)\n",
    "    ax2.set_ylabel(\"Latitude (°)\", fontsize=12)\n",
    "    ax2.tick_params(axis=\"both\", labelsize=12)\n",
    "    ax2.set_title(\"Ground Radar\", fontsize=12, loc=\"left\")\n",
    "    ax2.grid(lw=0.25, color=\"grey\")\n",
    "    ax2.set_xlim(sr_data.Longitude.min(), sr_data.Longitude.max())\n",
    "    ax2.set_ylim(sr_data.Latitude.min(), sr_data.Latitude.max())\n",
    "    plt.tight_layout()"
   ]
  },
  {
   "cell_type": "code",
   "execution_count": null,
   "metadata": {},
   "outputs": [],
   "source": [
    "if platf == \"trmm\":\n",
    "    level = 75\n",
    "else:\n",
    "    level = 171\n",
    "plot_unmatched_refl(sr_data, gr_data, level=level)"
   ]
  },
  {
   "cell_type": "markdown",
   "metadata": {},
   "source": [
    "### Georeference SR data\n",
    "\n",
    "add radar AEQD coords to the SR Dataset"
   ]
  },
  {
   "cell_type": "markdown",
   "metadata": {},
   "source": [
    "#### Set fundamental georeferencing parameters"
   ]
  },
  {
   "cell_type": "code",
   "execution_count": null,
   "metadata": {},
   "outputs": [],
   "source": [
    "# Todo: only keep one method\n",
    "\n",
    "# Calculate equivalent earth radius\n",
    "wgs84 = wrl.georef.get_default_projection()\n",
    "# lon0_gr = gr_data.latitude.values\n",
    "re1 = gr_data.ds.wrl.georef.get_earth_radius(sr=wgs84)\n",
    "print(\"Earth radius 1:\", re1)\n",
    "a = wgs84.GetSemiMajor()\n",
    "b = wgs84.GetSemiMinor()\n",
    "print(\"SemiMajor, SemiMinor:\", a, b)\n",
    "\n",
    "# Set up aeqd-projection gr-centered\n",
    "rad = wrl.georef.projstr_to_osr(\n",
    "    (\"+proj=aeqd +lon_0={lon:f} \" + \"+lat_0={lat:f} +a={a:f} \" + \"+b={b:f}\").format(\n",
    "        lon=gr_data.ds.longitude.values, lat=gr_data.ds.latitude.values, a=a, b=b\n",
    "    )\n",
    ")\n",
    "re2 = gr_data.ds.wrl.georef.get_earth_radius(sr=rad)\n",
    "print(\"Earth radius 2:\", re2)"
   ]
  },
  {
   "cell_type": "code",
   "execution_count": null,
   "metadata": {},
   "outputs": [],
   "source": [
    "# todo: use dpr altitude instead fix valued zt"
   ]
  },
  {
   "cell_type": "code",
   "execution_count": null,
   "metadata": {},
   "outputs": [],
   "source": [
    "sr_data = sr_data.wrl.georef.reproject(\n",
    "    coords=dict(x=\"Longitude\", y=\"Latitude\"), src_crs=wgs84, trg_crs=rad\n",
    ")\n",
    "sr_data"
   ]
  },
  {
   "cell_type": "markdown",
   "metadata": {},
   "source": [
    "### Subset relevant SR data"
   ]
  },
  {
   "cell_type": "markdown",
   "metadata": {},
   "source": [
    "Calculate distance of each SR bin to the ground radar location and select only locations within the GR range."
   ]
  },
  {
   "cell_type": "code",
   "execution_count": null,
   "metadata": {},
   "outputs": [],
   "source": [
    "# calculate range and mask srdata\n",
    "r = np.sqrt(sr_data.x**2 + sr_data.y**2)\n",
    "sr_cut = sr_data.where(r < swp.gr.max(), drop=True)\n",
    "sr_cut.zFactorCorrected[..., level].plot(x=\"x\", y=\"y\", vmin=-32, vmax=50)"
   ]
  },
  {
   "cell_type": "markdown",
   "metadata": {},
   "source": [
    "### Subset relevant SR data with precip flag"
   ]
  },
  {
   "cell_type": "code",
   "execution_count": null,
   "metadata": {},
   "outputs": [],
   "source": [
    "precip_mask = xr.where(sr_cut.flagPrecip > 0, 1, 0)\n",
    "precip_mask.plot(x=\"x\", y=\"y\")"
   ]
  },
  {
   "cell_type": "markdown",
   "metadata": {},
   "source": [
    "### SR Parallax Correction\n",
    "\n",
    "Correct for parallax, get 3D-XYZ-Array"
   ]
  },
  {
   "cell_type": "code",
   "execution_count": null,
   "metadata": {},
   "outputs": [],
   "source": [
    "# dr_sr = 125.\n",
    "# todo: make this available from wradlib\n",
    "sr_cut = sr_cut.wrl.georef.correct_parallax(dr_sr)\n",
    "display(sr_cut)"
   ]
  },
  {
   "cell_type": "markdown",
   "metadata": {},
   "source": [
    "### Compute spherical coordinates of SR bins with regard to GR\n",
    "\n",
    "range, azimuth, elevation"
   ]
  },
  {
   "cell_type": "code",
   "execution_count": null,
   "metadata": {},
   "outputs": [],
   "source": [
    "sr_cut = sr_cut.wrl.georef.xyz_to_spherical(crs=rad)\n",
    "sr_cut"
   ]
  },
  {
   "cell_type": "markdown",
   "metadata": {},
   "source": [
    "## Compute SR and GR pulse volumes"
   ]
  },
  {
   "cell_type": "markdown",
   "metadata": {},
   "source": [
    "### Calculate distance from orbit $r_s$"
   ]
  },
  {
   "cell_type": "code",
   "execution_count": null,
   "metadata": {},
   "outputs": [],
   "source": [
    "bw_sr = 0.71\n",
    "freq = 0\n",
    "sr_cut = sr_cut.wrl.georef.dist_from_orbit(bw_sr, freq, re1)\n",
    "sr_cut"
   ]
  },
  {
   "cell_type": "markdown",
   "metadata": {},
   "source": [
    "#### SR pulse volume\n",
    "\n",
    "Todo: only keep pulse_volume method"
   ]
  },
  {
   "cell_type": "code",
   "execution_count": null,
   "metadata": {},
   "outputs": [],
   "source": [
    "# # Small angle approximation\n",
    "rs = sr_cut[\"pr_dist\"]\n",
    "\n",
    "# vol_sr2 = np.pi * dr_sr * rs**2 * np.radians(bw_sr / 2.0) ** 2\n",
    "\n",
    "# Or using wradlib's native function\n",
    "vol_sr = rs.wrl.qual.pulse_volume(dr_sr, bw_sr)\n",
    "sr_cut = sr_cut.assign(vol_sr=vol_sr)\n",
    "# # Evaluate difference between both approaches\n",
    "# print(\"Min. difference (m3):\", vol_sr.max(), (vol_sr - vol_sr2).min())\n",
    "# print(\"Max. difference (m3): \", vol_sr2.max(), (vol_sr - vol_sr2).max())\n",
    "# print(\n",
    "#     \"Average rel. difference (%):\",\n",
    "#     np.round(np.mean(vol_sr - vol_sr2) * 100.0 / np.mean(np.mean(vol_sr2)), 4),\n",
    "# )\n",
    "\n",
    "# Verdict: differences are negligble - use wradlibs's native function!"
   ]
  },
  {
   "cell_type": "markdown",
   "metadata": {},
   "source": [
    "#### GR pulse volume"
   ]
  },
  {
   "cell_type": "code",
   "execution_count": null,
   "metadata": {},
   "outputs": [],
   "source": [
    "# GR pulse volumes\n",
    "#   along one beam\n",
    "# todo: check beam width\n",
    "bw_gr = 1.0\n",
    "vol_gr = wrl.qual.pulse_volume(swp.range, swp.range.diff(\"range\").median(), bw_gr)\n",
    "vol_gr = vol_gr.broadcast_like(swp.DBZH)\n",
    "display(vol_gr)\n",
    "#   with shape (nray_gr, ngate_gr)\n",
    "# vol_gr = np.repeat(vol_gr, nray_gr).reshape((nray_gr, ngate_gr), order=\"F\")"
   ]
  },
  {
   "cell_type": "markdown",
   "metadata": {},
   "source": [
    "#### Calculate horizontal and vertical dimensions $R_s$ and $D_s$ of SR bins\n",
    "\n",
    "Select freq=0 for Ku-Band."
   ]
  },
  {
   "cell_type": "code",
   "execution_count": null,
   "metadata": {},
   "outputs": [],
   "source": [
    "freq = 0\n",
    "alpha = sr_cut[\"localZenithAngle\"].isel(nfreq=freq, missing_dims=\"ignore\")\n",
    "\n",
    "# Rs\n",
    "sr_bin_radius = (\n",
    "    0.5 * (1 + np.cos(np.radians(alpha))) * rs * np.tan(np.radians(bw_sr / 2.0))\n",
    ")\n",
    "sr_bin_radius.name = \"sr_bin_radius\"\n",
    "\n",
    "# Ds\n",
    "sr_bin_depth = dr_sr / np.cos(np.radians(alpha))\n",
    "sr_bin_depth.name = \"sr_bin_depth\""
   ]
  },
  {
   "cell_type": "code",
   "execution_count": null,
   "metadata": {},
   "outputs": [],
   "source": [
    "sr_cut = sr_cut.assign(sr_bin_radius=sr_bin_radius, sr_bin_depth=sr_bin_depth)\n",
    "display(sr_cut)\n",
    "sr_cut.sr_bin_depth.plot()"
   ]
  },
  {
   "cell_type": "markdown",
   "metadata": {},
   "source": [
    "## BrightBand Handling"
   ]
  },
  {
   "cell_type": "markdown",
   "metadata": {},
   "source": [
    "### Median Brightband Width/Height"
   ]
  },
  {
   "cell_type": "code",
   "execution_count": null,
   "metadata": {},
   "outputs": [],
   "source": [
    "# if platf == \"gpm\":\n",
    "sr_cut = sr_cut.wrl.qual.get_bb_ratio()\n",
    "display(sr_cut)"
   ]
  },
  {
   "cell_type": "code",
   "execution_count": null,
   "metadata": {},
   "outputs": [],
   "source": [
    "sr_cut[\"bb_ratio\"].isel(nbin=0).plot(x=\"x\", y=\"y\")"
   ]
  },
  {
   "cell_type": "markdown",
   "metadata": {},
   "source": [
    "### Convert SR Ku reflectivities to S-band \n",
    "\n",
    "Based on [Cao et.al (2013)](https://doi.org/10.1002/jgrd.50138)"
   ]
  },
  {
   "cell_type": "code",
   "execution_count": null,
   "metadata": {},
   "outputs": [],
   "source": [
    "ref_sr = sr_cut.zFactorCorrected.isel(nfreq=0, missing_dims=\"ignore\").copy()\n",
    "# ref_sr = sr_data['refl'].filled(np.nan)\n",
    "ref_sr_ss = xr.zeros_like(ref_sr) * np.nan\n",
    "ref_sr_sh = xr.zeros_like(ref_sr) * np.nan\n",
    "\n",
    "a_s, a_h = (wrl.trafo.KuBandToS.snow, wrl.trafo.KuBandToS.hail)"
   ]
  },
  {
   "cell_type": "code",
   "execution_count": null,
   "metadata": {},
   "outputs": [],
   "source": [
    "# mask bb_ratio with bb_mask\n",
    "ratio = sr_cut[\"bb_ratio\"].where(sr_cut[\"bb_mask\"])\n",
    "ia = ratio >= 1\n",
    "ib = ratio <= 0\n",
    "im = (ratio > 0) & (ratio < 1)\n",
    "ind = xr.where(im, np.round(ratio * 10), 0).astype(\"int\")\n",
    "# print(ind)\n",
    "# ind = np.round(ratio[im] * 10).astype(np.int)\n",
    "\n",
    "# ref_sr_ss = ref_sr.copy()\n",
    "# ref_sr_sh = ref_sr.copy()"
   ]
  },
  {
   "cell_type": "code",
   "execution_count": null,
   "metadata": {},
   "outputs": [],
   "source": [
    "ia"
   ]
  },
  {
   "cell_type": "code",
   "execution_count": null,
   "metadata": {},
   "outputs": [],
   "source": [
    "fig, ((ax1, ax2), (ax3, ax4)) = plt.subplots(\n",
    "    nrows=2, ncols=2, figsize=(10, 10), sharey=True, sharex=True\n",
    ")\n",
    "hind = 146\n",
    "print(sr_cut.isel(nbin=hind).sr_range.values)\n",
    "ia.isel(nbin=hind).plot(x=\"x\", y=\"y\", ax=ax1)\n",
    "ib.isel(nbin=hind).plot(x=\"x\", y=\"y\", ax=ax2)\n",
    "im.isel(nbin=hind).plot(x=\"x\", y=\"y\", ax=ax3)\n",
    "ratio.isel(nbin=hind).plot(x=\"x\", y=\"y\", ax=ax4)\n",
    "# sr_cut[\"bb_mask\"].plot(x=\"x\", y=\"y\", ax=ax4)"
   ]
  },
  {
   "cell_type": "code",
   "execution_count": null,
   "metadata": {},
   "outputs": [],
   "source": [
    "# adding ia/ib/im in sequential order to ref_sr_ss/ref_sr/sh\n",
    "\n",
    "# above melting layer -> no mixing only snow/hail\n",
    "ref_sr_ss = xr.where(\n",
    "    ia, ref_sr + wrl.util.calculate_polynomial(ref_sr.copy(), a_s[:, 10]), ref_sr_ss\n",
    ")\n",
    "ref_sr_sh = xr.where(\n",
    "    ia, ref_sr + wrl.util.calculate_polynomial(ref_sr.copy(), a_h[:, 10]), ref_sr_sh\n",
    ")\n",
    "fig, (ax1, ax2, ax3) = plt.subplots(nrows=1, ncols=3, figsize=(15, 4), sharey=True)\n",
    "ref_sr_ss.isel(nbin=hind).plot(x=\"x\", y=\"y\", ax=ax1)\n",
    "ref_sr_sh.isel(nbin=hind).plot(x=\"x\", y=\"y\", ax=ax2)\n",
    "(ref_sr_ss - ref_sr_sh).isel(nbin=hind).plot(x=\"x\", y=\"y\", ax=ax3)"
   ]
  },
  {
   "cell_type": "code",
   "execution_count": null,
   "metadata": {},
   "outputs": [],
   "source": [
    "# below the melting layer\n",
    "ref_sr_ss = xr.where(\n",
    "    ib, ref_sr + wrl.util.calculate_polynomial(ref_sr.copy(), a_s[:, 0]), ref_sr_ss\n",
    ")\n",
    "ref_sr_sh = xr.where(\n",
    "    ib, ref_sr + wrl.util.calculate_polynomial(ref_sr.copy(), a_h[:, 0]), ref_sr_sh\n",
    ")\n",
    "fig, (ax1, ax2, ax3) = plt.subplots(nrows=1, ncols=3, figsize=(15, 4), sharey=True)\n",
    "ref_sr_ss.isel(nbin=hind).plot(x=\"x\", y=\"y\", ax=ax1)\n",
    "ref_sr_sh.isel(nbin=hind).plot(x=\"x\", y=\"y\", ax=ax2)\n",
    "(ref_sr_ss - ref_sr_sh).isel(nbin=hind).plot(x=\"x\", y=\"y\", ax=ax3)"
   ]
  },
  {
   "cell_type": "code",
   "execution_count": null,
   "metadata": {},
   "outputs": [],
   "source": [
    "# inside melting layer\n",
    "ref_sr_ss = xr.where(\n",
    "    im, ref_sr + wrl.util.calculate_polynomial(ref_sr.copy(), a_s[:, ind]), ref_sr_ss\n",
    ")\n",
    "ref_sr_sh = xr.where(\n",
    "    im, ref_sr + wrl.util.calculate_polynomial(ref_sr.copy(), a_h[:, ind]), ref_sr_sh\n",
    ")\n",
    "fig, (ax1, ax2, ax3) = plt.subplots(nrows=1, ncols=3, figsize=(15, 4), sharey=True)\n",
    "ref_sr_ss.isel(nbin=hind).plot(x=\"x\", y=\"y\", ax=ax1)\n",
    "ref_sr_sh.isel(nbin=hind).plot(x=\"x\", y=\"y\", ax=ax2)\n",
    "(ref_sr_ss - ref_sr_sh).isel(nbin=hind).plot(x=\"x\", y=\"y\", ax=ax3)"
   ]
  },
  {
   "cell_type": "code",
   "execution_count": null,
   "metadata": {},
   "outputs": [],
   "source": [
    "# Jackson Tan's fix for C-band\n",
    "# if gr_radar_band == 'C':\n",
    "#     print('SR reflectivity is converted to C-band')\n",
    "#     deltas = (ref_sr_ss - ref_sr) * 5.3 / 10.0\n",
    "#     ref_sr_ss = ref_sr + deltas\n",
    "#     deltah = (ref_sr_sh - ref_sr) * 5.3 / 10.0\n",
    "#     ref_sr_sh = ref_sr + deltah\n",
    "# gr_radar_band = \"S\"\n",
    "# if gr_radar_band == 'X':\n",
    "#     print('SR reflectivity is converted to X-band')\n",
    "#     deltas = (ref_sr_ss - ref_sr) * 3.2 / 10.0\n",
    "#     ref_sr_ss = ref_sr + deltas\n",
    "#     deltah = (ref_sr_sh - ref_sr) * 3.2 / 10.0\n",
    "#     ref_sr_sh = ref_sr + deltah\n",
    "\n",
    "# ref_sr_ss = ref_sr_ss.where(ref_sr >= 0)\n",
    "# ref_sr_sh = ref_sr_sh.where(ref_sr >= 0)"
   ]
  },
  {
   "cell_type": "code",
   "execution_count": null,
   "metadata": {},
   "outputs": [],
   "source": [
    "if platf == \"gpm\":\n",
    "    ptype = (sr_cut.typePrecip / 1e7).astype(np.int16)\n",
    "else:\n",
    "    ptype = sr_cut.typePrecip\n",
    "display(ptype)\n",
    "ptype.plot(x=\"x\", y=\"y\")"
   ]
  },
  {
   "cell_type": "code",
   "execution_count": null,
   "metadata": {},
   "outputs": [],
   "source": [
    "# Combined conversion\n",
    "ref_sr_com = xr.zeros_like(ref_sr_ss) * np.nan\n",
    "ref_sr_com = xr.where(ptype == 1, ref_sr_ss, ref_sr_com)\n",
    "ref_sr_com = xr.where(ptype == 2, ref_sr_sh, ref_sr_com)\n",
    "ref_sr_com.isel(nbin=hind).plot(x=\"x\", y=\"y\", vmin=0, vmax=50)"
   ]
  },
  {
   "cell_type": "code",
   "execution_count": null,
   "metadata": {},
   "outputs": [],
   "source": [
    "sr_cut = sr_cut.assign(ref_sr_com=ref_sr_com, ref_sr_ss=ref_sr_ss, ref_sr_sh=ref_sr_sh)\n",
    "display(sr_cut)"
   ]
  },
  {
   "cell_type": "markdown",
   "metadata": {},
   "source": [
    "### Convert S-band GR reflectivities to Ku-band\n",
    "\n",
    "Using the method of [Liao and Meneghini (2009)](https://doi.org/10.1175/2008JAMC1974.1)"
   ]
  },
  {
   "cell_type": "code",
   "execution_count": null,
   "metadata": {},
   "outputs": [],
   "source": [
    "ref_gr = swp[\"DBZH\"].copy()\n",
    "\n",
    "# Convert S-band GR reflectivities to Ku-band using method of Liao and Meneghini (2009)\n",
    "ref_gr2sr = np.zeros_like(ref_gr) * np.nan\n",
    "\n",
    "# Which zbb value should we take here???\n",
    "#    Q'n'Dirty: just take the mean of all SR profiles\n",
    "#    TODO: Consider zbb for each profile during the matching process\n",
    "\n",
    "zbb = sr_cut[\"heightBB\"]\n",
    "\n",
    "# Snow\n",
    "ia = swp.z >= np.nanmean(zbb)\n",
    "ref_gr2sr = xr.where(\n",
    "    ia, wrl.util.calculate_polynomial(ref_gr, wrl.trafo.SBandToKu.snow), ref_gr2sr\n",
    ")\n",
    "# Rain\n",
    "ib = swp.z < np.nanmean(zbb)\n",
    "ref_gr2sr = xr.where(\n",
    "    ib, wrl.util.calculate_polynomial(ref_gr, wrl.trafo.SBandToKu.rain), ref_gr2sr\n",
    ")\n",
    "\n",
    "# # Jackson Tan's fix for C-band\n",
    "# is_cband = False\n",
    "# if is_cband:\n",
    "#     delta = (ref_gr_ku - ref_gr) * 3.2 / 10.0\n",
    "#     ref_gr_ku = ref_gr + delta"
   ]
  },
  {
   "cell_type": "code",
   "execution_count": null,
   "metadata": {},
   "outputs": [],
   "source": [
    "display(ref_gr2sr)"
   ]
  },
  {
   "cell_type": "code",
   "execution_count": null,
   "metadata": {},
   "outputs": [],
   "source": [
    "fig = plt.figure(figsize=(8, 6))\n",
    "ax1 = fig.add_subplot(111)\n",
    "ref_gr2sr.plot(x=\"x\", y=\"y\", ax=ax1, cmap=\"turbo\", vmin=0, vmax=50)"
   ]
  },
  {
   "cell_type": "markdown",
   "metadata": {},
   "source": [
    "## Matching SR/GR"
   ]
  },
  {
   "cell_type": "markdown",
   "metadata": {},
   "source": [
    "### Identify which SR rays actually intersect with the GR sweep\n",
    "\n",
    "Based on the above criteria (in radar range, precipitating SR profile) and based on SR elevation angle (with regard to GR).\n",
    "\n",
    "This will only keep the wanted value in sr_match.\n",
    "\n",
    "- sr_cut contains all satellite reflectivities we need. ref_sr_ss, ref_sr_sh, ref_sr_com, zFactorCorrected."
   ]
  },
  {
   "cell_type": "code",
   "execution_count": null,
   "metadata": {},
   "outputs": [],
   "source": [
    "sr_match = sr_cut.reset_coords([\"xp\", \"yp\", \"zp\"])\n",
    "sr_match = sr_match.where(precip_mask).where(\n",
    "    (sr_match.elevation >= (swp.sweep_fixed_angle - bw_gr / 2.0))\n",
    "    & (sr_match.elevation <= (swp.sweep_fixed_angle + bw_gr / 2.0))\n",
    ")"
   ]
  },
  {
   "cell_type": "code",
   "execution_count": null,
   "metadata": {},
   "outputs": [],
   "source": [
    "# calculate nbeams\n",
    "sr_match_mean = sr_match.mean(\"nbin\")\n",
    "xyzp_sr = xr.concat(\n",
    "    [sr_match_mean.xp, sr_match_mean.yp, sr_match_mean.zp], dim=\"ncoord\"\n",
    ").transpose(..., \"ncoord\")\n",
    "xyzp_sr = (\n",
    "    xyzp_sr.stack(nbeams=(\"nscan\", \"nray\"))\n",
    "    .transpose(\"nbeams\", \"ncoord\", ...)\n",
    "    .dropna(\n",
    "        dim=\"nbeams\",\n",
    "    )\n",
    ")\n",
    "nbeams = xyzp_sr.nbeams\n",
    "nbeams"
   ]
  },
  {
   "cell_type": "code",
   "execution_count": null,
   "metadata": {},
   "outputs": [],
   "source": [
    "xyzp_sr"
   ]
  },
  {
   "cell_type": "markdown",
   "metadata": {},
   "source": [
    "# New version matching"
   ]
  },
  {
   "cell_type": "code",
   "execution_count": null,
   "metadata": {},
   "outputs": [],
   "source": [
    "sr_match2 = sr_match.stack(nbeams=(\"nscan\", \"nray\")).where(nbeams)\n",
    "display(sr_match2)"
   ]
  },
  {
   "cell_type": "code",
   "execution_count": null,
   "metadata": {},
   "outputs": [],
   "source": [
    "# mean along nbin\n",
    "sr_match_mean = sr_match.mean(dim=\"nbin\")\n",
    "sr_match2_mean = sr_match2.mean(dim=\"nbin\")\n",
    "sr_match_mean.zFactorCorrected.plot(x=\"x\", y=\"y\", cmap=\"turbo\", vmin=0, vmax=40)\n",
    "plt.figure()\n",
    "plt.scatter(\n",
    "    sr_match2_mean.x.values,\n",
    "    sr_match2_mean.y.values,\n",
    "    c=sr_match2_mean.zFactorCorrected.values,\n",
    "    s=30,\n",
    "    cmap=\"turbo\",\n",
    "    vmin=0,\n",
    "    vmax=40,\n",
    ")\n",
    "plt.gca().set_xlabel(\"x\")\n",
    "plt.gca().set_ylabel(\"y\")\n",
    "plt.colorbar(label=\"zFactorCorrected\")"
   ]
  },
  {
   "cell_type": "code",
   "execution_count": null,
   "metadata": {},
   "outputs": [],
   "source": [
    "# max along nbin, approximate Rs\n",
    "sr_match_max = sr_match.max(dim=\"nbin\")\n",
    "sr_match2_max = sr_match2.max(dim=\"nbin\")\n",
    "sr_match_max.sr_bin_radius.plot(x=\"x\", y=\"y\", cmap=\"turbo\")\n",
    "plt.figure()\n",
    "plt.scatter(\n",
    "    sr_match2_max.x.values,\n",
    "    sr_match2_max.y.values,\n",
    "    c=sr_match2_max.sr_bin_radius.values,\n",
    "    s=30,\n",
    "    cmap=\"turbo\",\n",
    ")\n",
    "plt.gca().set_xlabel(\"x\")\n",
    "plt.gca().set_ylabel(\"y\")\n",
    "plt.colorbar(label=\"sr_bin_radius\")"
   ]
  },
  {
   "cell_type": "code",
   "execution_count": null,
   "metadata": {},
   "outputs": [],
   "source": [
    "# sum along nbin\n",
    "# approximate Ds and Vs\n",
    "sr_match_sum = sr_match.sum(dim=\"nbin\", skipna=True)\n",
    "sr_match2_sum = sr_match2.sum(dim=\"nbin\", skipna=True)\n",
    "display(sr_match_sum)\n",
    "sr_match_sum.sr_bin_depth.plot(x=\"x\", y=\"y\", cmap=\"turbo\")\n",
    "plt.figure()\n",
    "plt.scatter(\n",
    "    sr_match2_sum.x.values,\n",
    "    sr_match2_sum.y.values,\n",
    "    c=sr_match2_sum.sr_bin_depth.values,\n",
    "    s=30,\n",
    "    cmap=\"turbo\",\n",
    ")\n",
    "plt.gca().set_xlabel(\"x\")\n",
    "plt.gca().set_ylabel(\"y\")\n",
    "plt.colorbar(label=\"sr_bin_depth\")"
   ]
  },
  {
   "cell_type": "code",
   "execution_count": null,
   "metadata": {},
   "outputs": [],
   "source": [
    "sr_match_sum.vol_sr.plot(x=\"x\", y=\"y\", cmap=\"turbo\")\n",
    "plt.figure()\n",
    "plt.scatter(\n",
    "    sr_match2_sum.x.values,\n",
    "    sr_match2_sum.y.values,\n",
    "    c=sr_match2_sum.vol_sr.values,\n",
    "    s=30,\n",
    "    cmap=\"turbo\",\n",
    ")\n",
    "plt.gca().set_xlabel(\"x\")\n",
    "plt.gca().set_ylabel(\"y\")\n",
    "plt.colorbar(label=\"vol_sr\")"
   ]
  },
  {
   "cell_type": "markdown",
   "metadata": {},
   "source": [
    "# Identify which GR bins actually intersect with the SR footprint"
   ]
  },
  {
   "cell_type": "code",
   "execution_count": null,
   "metadata": {},
   "outputs": [],
   "source": [
    "sr_match2_mean"
   ]
  },
  {
   "cell_type": "code",
   "execution_count": null,
   "metadata": {},
   "outputs": [],
   "source": [
    "%%time\n",
    "## Create Zonal Data Source of matching SR profiles\n",
    "xyp_sr = np.stack([sr_match2_mean.xp, sr_match2_mean.yp], axis=-1)\n",
    "zds = wrl.io.VectorSource(xyp_sr, trg_crs=rad)"
   ]
  },
  {
   "cell_type": "code",
   "execution_count": null,
   "metadata": {},
   "outputs": [],
   "source": [
    "%%time\n",
    "## Create SR beam polygons using sr_bin_radius Rs\n",
    "tmp_trg_lyr = zds.ds.GetLayer()\n",
    "trg_poly = []\n",
    "for i, feat in enumerate(tmp_trg_lyr):\n",
    "    geom = feat.GetGeometryRef().Buffer(sr_match2_max.sr_bin_radius.values[i])\n",
    "    poly = wrl.georef.ogr_to_numpy(geom)\n",
    "    trg_poly.append(poly)"
   ]
  },
  {
   "cell_type": "code",
   "execution_count": null,
   "metadata": {},
   "outputs": [],
   "source": [
    "gr_poly.shape"
   ]
  },
  {
   "cell_type": "code",
   "execution_count": null,
   "metadata": {},
   "outputs": [],
   "source": [
    "%%time\n",
    "## Create ZonalDataPoly for GR and SR profiles\n",
    "print(\"Create ZonalDataPoly for GR and SR profiles.\")\n",
    "print(\"This process can take a few seconds... \")\n",
    "\n",
    "zdp = wrl.zonalstats.ZonalDataPoly(\n",
    "    gr_poly[..., 0:2].reshape(-1, 5, 2), trg=trg_poly, crs=rad\n",
    ")"
   ]
  },
  {
   "cell_type": "code",
   "execution_count": null,
   "metadata": {},
   "outputs": [],
   "source": [
    "%%time\n",
    "# dump zonal data\n",
    "zdp.dump_vector(\"m3d_zonal_poly_{0}\".format(platf))"
   ]
  },
  {
   "cell_type": "code",
   "execution_count": null,
   "metadata": {},
   "outputs": [],
   "source": [
    "# %%time\n",
    "print(\"loading\")\n",
    "obj3 = wrl.zonalstats.ZonalStatsPoly(\"m3d_zonal_poly_{0}\".format(platf))"
   ]
  },
  {
   "cell_type": "code",
   "execution_count": null,
   "metadata": {},
   "outputs": [],
   "source": [
    "## Average GR volume and reflectivity\n",
    "volgr1 = np.array(\n",
    "    [\n",
    "        np.sum(vol_gr.values.ravel()[obj3.ix[i]])\n",
    "        for i in np.arange(len(obj3.ix))[~obj3.check_empty()]\n",
    "    ]\n",
    ")"
   ]
  },
  {
   "cell_type": "markdown",
   "metadata": {},
   "source": [
    "# SR Reflectivity matched"
   ]
  },
  {
   "cell_type": "code",
   "execution_count": null,
   "metadata": {},
   "outputs": [],
   "source": [
    "# converted for stratiform\n",
    "ref_sr2gr_m = sr_match2.ref_sr_com.copy()\n",
    "ref_sr2gr_m = wrl.trafo.idecibel(ref_sr2gr_m)\n",
    "ref_sr2gr_m = ref_sr2gr_m.mean(dim=\"nbin\", skipna=True)\n",
    "ref_sr2gr_m = wrl.trafo.decibel(ref_sr2gr_m)\n",
    "display(ref_sr2gr_m)"
   ]
  },
  {
   "cell_type": "code",
   "execution_count": null,
   "metadata": {},
   "outputs": [],
   "source": [
    "ref_sr_m = wrl.trafo.idecibel(sr_match2.zFactorCorrected)\n",
    "ref_sr_m = ref_sr_m.mean(dim=\"nbin\", skipna=True)\n",
    "ref_sr_m = wrl.trafo.decibel(ref_sr_m)\n",
    "display(ref_sr_m)"
   ]
  },
  {
   "cell_type": "code",
   "execution_count": null,
   "metadata": {},
   "outputs": [],
   "source": [
    "def plot_matched_refl(sr_data, gr_data, xyz):\n",
    "    \"\"\"\n",
    "    Plotting unmatched SR and GR Reflectivity\n",
    "\n",
    "    # Input:\n",
    "    # ------\n",
    "    gr_data ::: graund radar sweep data\n",
    "    sr_data ::: satellite data\n",
    "\n",
    "    # Output:\n",
    "    # ------\n",
    "    Plot of SR Refl. and GR Refl.\n",
    "\n",
    "    \"\"\"\n",
    "    plt.figure(figsize=(12, 4))\n",
    "    plt.subplot(1, 2, 1)\n",
    "    plt.scatter(\n",
    "        xyz[..., 0],\n",
    "        xyz[..., 1],\n",
    "        c=sr_data.data,\n",
    "        s=10,\n",
    "        cmap=\"turbo\",\n",
    "        vmin=0,\n",
    "        vmax=40,\n",
    "    )\n",
    "    cbar = plt.colorbar(ticks=np.arange(0, 42, 2))\n",
    "    cbar.set_label(\"SR Reflectivity (dBz)\", fontsize=12)\n",
    "    cbar.ax.tick_params(labelsize=12)\n",
    "    plt.xlabel(\"Longitude (°)\", fontsize=12)\n",
    "    plt.ylabel(\"Latitude (°)\", fontsize=12)\n",
    "    a = plt.xticks(fontsize=12)\n",
    "    a = plt.yticks(fontsize=12)\n",
    "    plt.title(\"Satellite Radar\", fontsize=12, loc=\"left\")\n",
    "\n",
    "    plt.grid(lw=0.25, color=\"grey\")\n",
    "\n",
    "    plt.subplot(1, 2, 2)\n",
    "    plt.scatter(\n",
    "        xyz[..., 0], xyz[..., 1], c=gr_data, s=10, cmap=\"turbo\", vmin=0, vmax=40\n",
    "    )\n",
    "    cbar = plt.colorbar(ticks=np.arange(0, 42, 2))\n",
    "    cbar.set_label(\"GR Reflectivity (dBz)\", fontsize=12)\n",
    "    cbar.ax.tick_params(labelsize=12)\n",
    "    plt.xlabel(\"x (km)\", fontsize=12)\n",
    "    plt.ylabel(\"y (km)\", fontsize=12)\n",
    "    a = plt.xticks(fontsize=12)\n",
    "    a = plt.yticks(fontsize=12)\n",
    "    plt.title(\"Ground Radar\", fontsize=12, loc=\"left\")\n",
    "    plt.grid(lw=0.25, color=\"grey\")\n",
    "    plt.tight_layout()"
   ]
  },
  {
   "cell_type": "markdown",
   "metadata": {},
   "source": [
    "# Ground Radar Reflectivity matched"
   ]
  },
  {
   "cell_type": "code",
   "execution_count": null,
   "metadata": {},
   "outputs": [],
   "source": [
    "mean = obj3.mean(wrl.trafo.idecibel(swp.DBZH).values.ravel())\n",
    "obj3.zdata.trg.geo[\"mean\"] = wrl.trafo.decibel(mean)\n",
    "ref_gr_m = obj3.zdata.trg.geo[\"mean\"]"
   ]
  },
  {
   "cell_type": "code",
   "execution_count": null,
   "metadata": {},
   "outputs": [],
   "source": [
    "mean = obj3.mean(wrl.trafo.idecibel(ref_gr2sr).values.ravel())\n",
    "obj3.zdata.trg.geo[\"mean\"] = wrl.trafo.decibel(mean)\n",
    "ref_gr2sr_m = obj3.zdata.trg.geo[\"mean\"]"
   ]
  },
  {
   "cell_type": "code",
   "execution_count": null,
   "metadata": {},
   "outputs": [],
   "source": [
    "# todo: title fig.suptitle(\"GR vs SR (to_gr)\") etc"
   ]
  },
  {
   "cell_type": "code",
   "execution_count": null,
   "metadata": {},
   "outputs": [],
   "source": [
    "plot_matched_refl(ref_sr2gr_m, ref_gr_m, xyp_sr)\n",
    "plt.suptitle(\"GR vs SR (to_gr)\")"
   ]
  },
  {
   "cell_type": "code",
   "execution_count": null,
   "metadata": {},
   "outputs": [],
   "source": [
    "plot_matched_refl(ref_sr_m, ref_gr2sr_m, xyp_sr)\n",
    "plt.suptitle(\"GR (to_sr) vs SR\")"
   ]
  },
  {
   "cell_type": "markdown",
   "metadata": {},
   "source": [
    "# Diagnostic Plots"
   ]
  },
  {
   "cell_type": "code",
   "execution_count": null,
   "metadata": {},
   "outputs": [],
   "source": [
    "volcol = sr_match2_sum.vol_sr"
   ]
  },
  {
   "cell_type": "code",
   "execution_count": null,
   "metadata": {},
   "outputs": [],
   "source": [
    "fig = plt.figure(figsize=(12, 5))\n",
    "ax = fig.add_subplot(121, aspect=\"equal\")\n",
    "plt.scatter(\n",
    "    ref_gr_m.values, ref_sr2gr_m.values.ravel(), marker=\"+\", c=volcol, cmap=\"turbo\"\n",
    ")\n",
    "plt.colorbar(label=\"Matching Volume [m³]\")\n",
    "plt.plot([0, 60], [0, 60], linestyle=\"solid\", color=\"black\")\n",
    "plt.xlim(10, 50)\n",
    "plt.ylim(10, 50)\n",
    "plt.xlabel(\"GR reflectivity (dBZ)\")\n",
    "plt.ylabel(\"SR reflectivity (dBZ)\")\n",
    "plt.title(f\"Offset GR-SR: {np.nanmedian(ref_gr_m.values - ref_sr2gr_m.values.ravel())}\")\n",
    "ax = fig.add_subplot(122)\n",
    "plt.hist(\n",
    "    ref_gr_m[ref_gr_m > 10], bins=np.arange(-10, 50, 5), edgecolor=\"None\", label=\"GR\"\n",
    ")\n",
    "plt.hist(\n",
    "    ref_sr2gr_m[ref_sr2gr_m > -10],\n",
    "    bins=np.arange(-10, 50, 5),\n",
    "    edgecolor=\"red\",\n",
    "    facecolor=\"None\",\n",
    "    label=\"SR\",\n",
    ")\n",
    "plt.xlabel(\"Reflectivity (dBZ)\")\n",
    "plt.legend()\n",
    "fig.suptitle(\"GR vs SR (to_gr)\")"
   ]
  },
  {
   "cell_type": "code",
   "execution_count": null,
   "metadata": {},
   "outputs": [],
   "source": [
    "fig = plt.figure(figsize=(12, 5))\n",
    "ax = fig.add_subplot(121, aspect=\"equal\")\n",
    "plt.scatter(ref_gr2sr_m, ref_sr_m, marker=\"+\", c=volcol, cmap=\"turbo\")\n",
    "plt.colorbar(label=\"Matching Volume [m³]\")\n",
    "plt.plot([0, 60], [0, 60], linestyle=\"solid\", color=\"black\")\n",
    "plt.xlim(10, 50)\n",
    "plt.ylim(10, 50)\n",
    "plt.xlabel(\"GR reflectivity (dBZ)\")\n",
    "plt.ylabel(\"SR reflectivity (dBZ)\")\n",
    "plt.title(f\"Offset GR-SR: {np.nanmedian(ref_gr2sr_m.values - ref_sr_m.values.ravel())}\")\n",
    "ax = fig.add_subplot(122)\n",
    "plt.hist(\n",
    "    ref_gr2sr_m[ref_gr2sr_m > 10],\n",
    "    bins=np.arange(-10, 50, 5),\n",
    "    edgecolor=\"None\",\n",
    "    label=\"GR\",\n",
    ")\n",
    "plt.hist(\n",
    "    ref_sr_m[ref_sr_m > -10],\n",
    "    bins=np.arange(-10, 50, 5),\n",
    "    edgecolor=\"red\",\n",
    "    facecolor=\"None\",\n",
    "    label=\"SR\",\n",
    ")\n",
    "plt.xlabel(\"Reflectivity (dBZ)\")\n",
    "plt.legend()\n",
    "fig.suptitle(\"GR (to_sr) vs SR\")"
   ]
  }
 ],
 "metadata": {
  "celltoolbar": "Edit Metadata",
  "language_info": {
   "codemirror_mode": {
    "name": "ipython",
    "version": 3
   },
   "file_extension": ".py",
   "mimetype": "text/x-python",
   "name": "python",
   "nbconvert_exporter": "python",
   "pygments_lexer": "ipython3",
   "version": "3.11.0"
  },
  "toc": {
   "colors": {
    "hover_highlight": "#DAA520",
    "navigate_num": "#000000",
    "navigate_text": "#333333",
    "running_highlight": "#FF0000",
    "selected_highlight": "#FFD700",
    "sidebar_border": "#EEEEEE",
    "wrapper_background": "#FFFFFF"
   },
   "moveMenuLeft": true,
   "nav_menu": {
    "height": "512px",
    "width": "252px"
   },
   "navigate_menu": true,
   "number_sections": false,
   "sideBar": true,
   "threshold": 4,
   "toc_cell": false,
   "toc_section_display": "block",
   "toc_window_display": false,
   "widenNotebook": false
  }
 },
 "nbformat": 4,
 "nbformat_minor": 4
}
