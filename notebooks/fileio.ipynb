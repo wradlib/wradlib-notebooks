{
 "cells": [
  {
   "cell_type": "markdown",
   "metadata": {
    "nbsphinx": "hidden"
   },
   "source": [
    "This notebook is part of the $\\omega radlib$ documentation: https://docs.wradlib.org.\n",
    "\n",
    "Copyright (c) $\\omega radlib$ developers.\n",
    "Distributed under the MIT License. See LICENSE.txt for more info."
   ]
  },
  {
   "cell_type": "markdown",
   "metadata": {},
   "source": [
    "# Data Input - Data Output"
   ]
  },
  {
   "cell_type": "markdown",
   "metadata": {},
   "source": [
    "This section provides a collection of example code snippets to show which data formats $\\omega radlib$ can handle and and how to facilitate that.\n"
   ]
  },
  {
   "cell_type": "markdown",
   "metadata": {
    "nbsphinx-toctree": {
     "maxdepth": 2
    }
   },
   "source": [
    "## Examples List\n",
    "\n",
    "- [Overview over Radar Data Formats](fileio/wradlib_radar_formats.ipynb)\n",
    "- [xarray powered Cf/Radial-ODIM_H5](fileio/wradlib_xarray_radial_odim.ipynb)\n",
    "- [DWD DX Format](fileio/wradlib_reading_dx.ipynb)\n",
    "- [DWD RADOLAN Format](radolan/radolan_format.ipynb)\n",
    "- [Generic NetCDF](fileio/wradlib_generic_netcdf_example.ipynb)\n",
    "- [Gematronik Rainbow](fileio/wradlib_load_rainbow_example.ipynb)\n",
    "- [GIS Export](fileio/wradlib_gis_export_example.ipynb)"
   ]
  }
 ],
 "metadata": {
  "celltoolbar": "Edit Metadata",
  "kernelspec": {
   "display_name": "Python 3",
   "language": "python",
   "name": "python3"
  },
  "language_info": {
   "codemirror_mode": {
    "name": "ipython",
    "version": 3
   },
   "file_extension": ".py",
   "mimetype": "text/x-python",
   "name": "python",
   "nbconvert_exporter": "python",
   "pygments_lexer": "ipython3",
   "version": "3.7.1"
  },
  "toc": {
   "colors": {
    "hover_highlight": "#DAA520",
    "navigate_num": "#000000",
    "navigate_text": "#333333",
    "running_highlight": "#FF0000",
    "selected_highlight": "#FFD700",
    "sidebar_border": "#EEEEEE",
    "wrapper_background": "#FFFFFF"
   },
   "moveMenuLeft": true,
   "nav_menu": {
    "height": "49px",
    "width": "252px"
   },
   "navigate_menu": true,
   "number_sections": false,
   "sideBar": true,
   "threshold": 4,
   "toc_cell": false,
   "toc_section_display": "block",
   "toc_window_display": false,
   "widenNotebook": false
  }
 },
 "nbformat": 4,
 "nbformat_minor": 1
}
