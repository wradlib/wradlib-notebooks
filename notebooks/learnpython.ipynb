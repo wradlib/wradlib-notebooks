{
 "cells": [
  {
   "cell_type": "markdown",
   "metadata": {
    "nbsphinx": "hidden"
   },
   "source": [
    "This notebook is part of the $\\omega radlib$ documentation: https://docs.wradlib.org.\n",
    "\n",
    "Copyright (c) $\\omega radlib$ developers.\n",
    "Distributed under the MIT License. See LICENSE.txt for more info."
   ]
  },
  {
   "cell_type": "markdown",
   "metadata": {},
   "source": [
    "# An incomplete introduction to Python"
   ]
  },
  {
   "cell_type": "markdown",
   "metadata": {},
   "source": [
    "In order to use $\\omega radlib$, you need to be able to use Python. The notebooks in this section will give you a glimpse of the Python language and important scientific packages, confront you with some Python exercises, and refer you to further online material. In addition, we will address some issues that are relevant to $\\omega radlib$, but do not necessarily address $\\omega radlib$ functionality.\n",
    "\n",
    "As an introduction to scientific python, **this section is necessarily incomplete**. There are better and more comprehensive courses such as the [SciPy Lecture Notes](https://www.scipy-lectures.org/index.html) or the [Dive into Python](https://en.wikipedia.org/wiki/Mark_Pilgrim#Dive_Into_Python) book. \n",
    "\n",
    "Mostly, we will assume that you have some basic knowledge about programming, e.g. from other interpreted languages such as [R](https://www.r-project.org/) or Matlab. Otherwise, a fundamental course such as [learnpython.org](https://www.learnpython.org/) might help you more."
   ]
  },
  {
   "cell_type": "markdown",
   "metadata": {
    "nbsphinx-toctree": {
     "maxdepth": 2
    }
   },
   "source": [
    "## List of Python related articles in this section\n",
    "\n",
    "- [A quick start to Python](python/quickstart.ipynb)\n",
    "- [Numpy: manipulating numerical data](python/numpyintro.ipynb)\n",
    "- [Visualising data with Matplotlib](python/mplintro.ipynb)\n",
    "- [Dealing with time series](python/timeseries.ipynb)\n",
    "- [Using virtual environments](python/virtenvs.ipynb)\n",
    "- [Integrated Development Environments for Python](../ide.rst)"
   ]
  }
 ],
 "metadata": {
  "celltoolbar": "Edit Metadata",
  "kernelspec": {
   "display_name": "Python 3",
   "language": "python",
   "name": "python3"
  },
  "language_info": {
   "codemirror_mode": {
    "name": "ipython",
    "version": 3
   },
   "file_extension": ".py",
   "mimetype": "text/x-python",
   "name": "python",
   "nbconvert_exporter": "python",
   "pygments_lexer": "ipython3",
   "version": "3.7.1"
  },
  "toc": {
   "colors": {
    "hover_highlight": "#DAA520",
    "navigate_num": "#000000",
    "navigate_text": "#333333",
    "running_highlight": "#FF0000",
    "selected_highlight": "#FFD700",
    "sidebar_border": "#EEEEEE",
    "wrapper_background": "#FFFFFF"
   },
   "moveMenuLeft": true,
   "nav_menu": {
    "height": "65px",
    "width": "252px"
   },
   "navigate_menu": true,
   "number_sections": false,
   "sideBar": true,
   "threshold": 4,
   "toc_cell": false,
   "toc_section_display": "block",
   "toc_window_display": false,
   "widenNotebook": false
  }
 },
 "nbformat": 4,
 "nbformat_minor": 1
}
