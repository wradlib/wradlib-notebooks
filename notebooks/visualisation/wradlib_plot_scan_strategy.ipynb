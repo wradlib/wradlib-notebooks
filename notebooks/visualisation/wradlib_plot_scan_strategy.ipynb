{
 "cells": [
  {
   "cell_type": "markdown",
   "metadata": {
    "nbsphinx": "hidden"
   },
   "source": [
    "This notebook is part of the $\\omega radlib$ documentation: https://docs.wradlib.org.\n",
    "\n",
    "Copyright (c) $\\omega radlib$ developers.\n",
    "Distributed under the MIT License. See LICENSE.txt for more info."
   ]
  },
  {
   "cell_type": "markdown",
   "metadata": {},
   "source": [
    "# Plotting Radar Scan Strategy\n",
    "\n",
    "This notebook shows how to plot the scan strategy of a specific radar."
   ]
  },
  {
   "cell_type": "code",
   "execution_count": null,
   "metadata": {},
   "outputs": [],
   "source": [
    "import wradlib as wrl\n",
    "import matplotlib.pyplot as pl\n",
    "import matplotlib as mpl\n",
    "import warnings\n",
    "\n",
    "warnings.filterwarnings(\"ignore\")\n",
    "try:\n",
    "    get_ipython().magic(\"matplotlib inline\")\n",
    "except:\n",
    "    pl.ion()\n",
    "import numpy as np"
   ]
  },
  {
   "cell_type": "markdown",
   "metadata": {},
   "source": [
    "## Setup Radar details"
   ]
  },
  {
   "cell_type": "code",
   "execution_count": null,
   "metadata": {},
   "outputs": [],
   "source": [
    "nrays = 360\n",
    "nbins = 150\n",
    "range_res = 500.0\n",
    "ranges = np.arange(nbins) * range_res\n",
    "elevs = [28.0, 18.0, 14.0, 11.0, 8.2, 6.0, 4.5, 3.1, 2.0, 1.0]\n",
    "sitecoords = (-28.1, 38.42, 450.0)\n",
    "beamwidth = 1.0"
   ]
  },
  {
   "cell_type": "markdown",
   "metadata": {},
   "source": [
    "## Standard Plot\n",
    "\n",
    "This works with some assumptions:\n",
    "\n",
    "- beamwidth = 1.0\n",
    "- vert_res = 500.0\n",
    "- maxalt = 10000.0\n",
    "- units = 'm'"
   ]
  },
  {
   "cell_type": "code",
   "execution_count": null,
   "metadata": {},
   "outputs": [],
   "source": [
    "ax = wrl.vis.plot_scan_strategy(ranges, elevs, sitecoords)"
   ]
  },
  {
   "cell_type": "markdown",
   "metadata": {},
   "source": [
    "## Change Plot Style"
   ]
  },
  {
   "cell_type": "markdown",
   "metadata": {},
   "source": [
    "### Plot Axes in Kilometer\n",
    "\n",
    "To quickly change the Axes tickmarks and labels from meter to kilometer, just add keyword argument `units='km'`."
   ]
  },
  {
   "cell_type": "code",
   "execution_count": null,
   "metadata": {},
   "outputs": [],
   "source": [
    "ax = wrl.vis.plot_scan_strategy(ranges, elevs, sitecoords, units=\"km\")"
   ]
  },
  {
   "cell_type": "markdown",
   "metadata": {},
   "source": [
    "### Change Axes Resolution and Range\n",
    "\n",
    "The horizontal and vertical Axes Resolution and Range can be set by feeding keyword arguments `vert_res`, `maxalt`, `range_res`, `max_range` in meter."
   ]
  },
  {
   "cell_type": "code",
   "execution_count": null,
   "metadata": {},
   "outputs": [],
   "source": [
    "ax = wrl.vis.plot_scan_strategy(\n",
    "    ranges,\n",
    "    elevs,\n",
    "    sitecoords,\n",
    "    vert_res=1000.0,\n",
    "    maxalt=15000.0,\n",
    "    range_res=5000.0,\n",
    "    maxrange=75000.0,\n",
    "    units=\"km\",\n",
    ")"
   ]
  },
  {
   "cell_type": "markdown",
   "metadata": {},
   "source": [
    "## Change Beamwidth\n",
    "\n",
    "The beamwidth defaults to 1.0°. It can specified by keyword argument `beamwidth`."
   ]
  },
  {
   "cell_type": "code",
   "execution_count": null,
   "metadata": {},
   "outputs": [],
   "source": [
    "ax = wrl.vis.plot_scan_strategy(ranges, elevs, sitecoords, beamwidth=0.5, units=\"km\")"
   ]
  },
  {
   "cell_type": "markdown",
   "metadata": {},
   "source": [
    "## Change Colors\n",
    "\n",
    "The colorcycle can be changed from the default `tab10` to any colormap available in matplotlib. If the output is intended to be plotted as grey-scale, the use of the Perceptually Uniform Sequential colormaps (eg. `viridis`, `cividis`) is suggested. "
   ]
  },
  {
   "cell_type": "code",
   "execution_count": null,
   "metadata": {},
   "outputs": [],
   "source": [
    "ax = wrl.vis.plot_scan_strategy(ranges, elevs, sitecoords, units=\"km\", cmap=\"viridis\")"
   ]
  },
  {
   "cell_type": "markdown",
   "metadata": {},
   "source": [
    "## Plot Terrain\n",
    "\n",
    "A terrain profile can be added to the plot by specifying keyword argument `terrain=True` which automatically downloads neccessary SRTM DEM data and calculates the terrain profile. Additionally the azimuth angle need to be set via keyword argument `az` (it would default to `0`, pointing due north).\n",
    "\n",
    "For this to work the `WRADLIB_DATA` environment variable has to point a writable folder. Aditionally users need an [earthdata account](https://urs.earthdata.nasa.gov/) with bearer token."
   ]
  },
  {
   "cell_type": "code",
   "execution_count": null,
   "metadata": {},
   "outputs": [],
   "source": [
    "# only run if environment variables are set\n",
    "import os\n",
    "\n",
    "has_data = os.environ.get(\"WRADLIB_EARTHDATA_BEARER_TOKEN\", False)"
   ]
  },
  {
   "cell_type": "code",
   "execution_count": null,
   "metadata": {},
   "outputs": [],
   "source": [
    "if has_data:\n",
    "    ax = wrl.vis.plot_scan_strategy(\n",
    "        ranges, elevs, sitecoords, units=\"km\", terrain=True, az=10\n",
    "    )"
   ]
  },
  {
   "cell_type": "markdown",
   "metadata": {},
   "source": [
    "Instead of downloading the SRTM data a precomputed terrain profile can be plotted. Just for the purpose to show this, the terrain data is calculated via the same mechanism as in plot_scan_strategy. The profile should be fed via the same keyword argument `terrain`."
   ]
  },
  {
   "cell_type": "code",
   "execution_count": null,
   "metadata": {},
   "outputs": [],
   "source": [
    "xyz, rad = wrl.georef.spherical_to_xyz(ranges, [10.0], elevs, sitecoords, squeeze=True)\n",
    "ll = wrl.georef.reproject(xyz, projection_source=rad)\n",
    "# (down-)load srtm data\n",
    "ds = wrl.io.get_srtm(\n",
    "    [ll[..., 0].min(), ll[..., 0].max(), ll[..., 1].min(), ll[..., 1].max()],\n",
    ")\n",
    "rastervalues, rastercoords, proj = wrl.georef.extract_raster_dataset(\n",
    "    ds, nodata=-32768.0\n",
    ")\n",
    "# map rastervalues to polar grid points\n",
    "terrain = wrl.ipol.cart_to_irregular_spline(\n",
    "    rastercoords, rastervalues, ll[-1, ..., :2], order=3, prefilter=False\n",
    ")"
   ]
  },
  {
   "cell_type": "code",
   "execution_count": null,
   "metadata": {},
   "outputs": [],
   "source": [
    "if has_data:\n",
    "    ax = wrl.vis.plot_scan_strategy(\n",
    "        ranges, elevs, sitecoords, units=\"km\", terrain=terrain\n",
    "    )"
   ]
  },
  {
   "cell_type": "markdown",
   "metadata": {},
   "source": [
    "## Plotting in grids\n",
    "\n",
    "The keyword argument `ax` can be used to specify the axes to plot in."
   ]
  },
  {
   "cell_type": "code",
   "execution_count": null,
   "metadata": {},
   "outputs": [],
   "source": [
    "if has_data:\n",
    "    fig = pl.figure(figsize=(16, 8))\n",
    "    ax1 = 221\n",
    "    ax1 = wrl.vis.plot_scan_strategy(\n",
    "        ranges,\n",
    "        elevs,\n",
    "        sitecoords,\n",
    "        beamwidth=1.0,\n",
    "        vert_res=500.0,\n",
    "        range_res=5000.0,\n",
    "        maxrange=75000.0,\n",
    "        units=\"km\",\n",
    "        terrain=None,\n",
    "        ax=ax1,\n",
    "    )\n",
    "    ax2 = 222\n",
    "    ax2 = wrl.vis.plot_scan_strategy(\n",
    "        ranges,\n",
    "        elevs,\n",
    "        sitecoords,\n",
    "        beamwidth=1.0,\n",
    "        vert_res=100.0,\n",
    "        maxalt=1000.0,\n",
    "        range_res=1000.0,\n",
    "        maxrange=30000.0,\n",
    "        units=\"km\",\n",
    "        terrain=None,\n",
    "        ax=ax2,\n",
    "    )\n",
    "    ax3 = 223\n",
    "    ax3 = wrl.vis.plot_scan_strategy(\n",
    "        ranges,\n",
    "        elevs,\n",
    "        sitecoords,\n",
    "        beamwidth=1.0,\n",
    "        vert_res=500.0,\n",
    "        range_res=5000.0,\n",
    "        maxrange=75000.0,\n",
    "        units=\"km\",\n",
    "        terrain=True,\n",
    "        az=10,\n",
    "        ax=ax3,\n",
    "    )\n",
    "    ax4 = 224\n",
    "    ax4 = wrl.vis.plot_scan_strategy(\n",
    "        ranges,\n",
    "        elevs,\n",
    "        sitecoords,\n",
    "        beamwidth=1.0,\n",
    "        vert_res=100.0,\n",
    "        maxalt=1000.0,\n",
    "        range_res=1000.0,\n",
    "        maxrange=30000.0,\n",
    "        units=\"km\",\n",
    "        terrain=True,\n",
    "        az=10,\n",
    "        ax=ax4,\n",
    "    )\n",
    "    pl.tight_layout()"
   ]
  },
  {
   "cell_type": "markdown",
   "metadata": {},
   "source": [
    "## Plotting with curvelinear grid\n",
    "\n",
    "All of the above shown plotting into a cartesian coordinate system is also possible with a curvelinear grid. Just set keyword argument `cg=True`. The thick black line denotes the earth mean sea level (MSL)."
   ]
  },
  {
   "cell_type": "code",
   "execution_count": null,
   "metadata": {
    "tags": []
   },
   "outputs": [],
   "source": [
    "if has_data:\n",
    "    ax = wrl.vis.plot_scan_strategy(\n",
    "        ranges, elevs, sitecoords, units=\"km\", cg=True, terrain=terrain\n",
    "    )"
   ]
  }
 ],
 "metadata": {
  "celltoolbar": "Edit Metadata",
  "language_info": {
   "codemirror_mode": {
    "name": "ipython",
    "version": 3
   },
   "file_extension": ".py",
   "mimetype": "text/x-python",
   "name": "python",
   "nbconvert_exporter": "python",
   "pygments_lexer": "ipython3",
   "version": "3.10.5"
  }
 },
 "nbformat": 4,
 "nbformat_minor": 4
}
