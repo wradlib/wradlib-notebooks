{
 "cells": [
  {
   "cell_type": "markdown",
   "metadata": {
    "nbsphinx": "hidden",
    "slideshow": {
     "slide_type": "skip"
    }
   },
   "source": [
    "This notebook is part of the $\\omega radlib$ documentation: https://docs.wradlib.org.\n",
    "\n",
    "Copyright (c) $\\omega radlib$ developers.\n",
    "Distributed under the MIT License. See LICENSE.txt for more info."
   ]
  },
  {
   "cell_type": "markdown",
   "metadata": {
    "slideshow": {
     "slide_type": "slide"
    }
   },
   "source": [
    "# Quick-view a sweep in polar or cartesian reference systems"
   ]
  },
  {
   "cell_type": "code",
   "execution_count": null,
   "metadata": {
    "slideshow": {
     "slide_type": "slide"
    }
   },
   "outputs": [],
   "source": [
    "import numpy as np\n",
    "import matplotlib.pyplot as plt\n",
    "import wradlib as wrl\n",
    "import warnings\n",
    "\n",
    "warnings.filterwarnings(\"ignore\")\n",
    "try:\n",
    "    get_ipython().run_line_magic(\"matplotlib inline\")\n",
    "except:\n",
    "    plt.ion()"
   ]
  },
  {
   "cell_type": "markdown",
   "metadata": {
    "slideshow": {
     "slide_type": "slide"
    }
   },
   "source": [
    "## Read a polar data set from the German Weather Service"
   ]
  },
  {
   "cell_type": "code",
   "execution_count": null,
   "metadata": {
    "slideshow": {
     "slide_type": "fragment"
    }
   },
   "outputs": [],
   "source": [
    "filename = wrl.util.get_wradlib_data_file(\"dx/raa00-dx_10908-0806021735-fbg---bin.gz\")\n",
    "print(filename)"
   ]
  },
  {
   "cell_type": "code",
   "execution_count": null,
   "metadata": {
    "slideshow": {
     "slide_type": "fragment"
    }
   },
   "outputs": [],
   "source": [
    "img, meta = wrl.io.read_dx(filename)"
   ]
  },
  {
   "cell_type": "markdown",
   "metadata": {
    "slideshow": {
     "slide_type": "fragment"
    }
   },
   "source": [
    "Inspect the data set a little"
   ]
  },
  {
   "cell_type": "code",
   "execution_count": null,
   "metadata": {
    "slideshow": {
     "slide_type": "fragment"
    }
   },
   "outputs": [],
   "source": [
    "print(\"Shape of polar array: %r\\n\" % (img.shape,))\n",
    "print(\"Some meta data of the DX file:\")\n",
    "print(\"\\tdatetime: %r\" % (meta[\"datetime\"],))\n",
    "print(\"\\tRadar ID: %s\" % (meta[\"radarid\"],))"
   ]
  },
  {
   "cell_type": "markdown",
   "metadata": {
    "slideshow": {
     "slide_type": "slide"
    }
   },
   "source": [
    "## Simple ways to plot this dataset"
   ]
  },
  {
   "cell_type": "markdown",
   "metadata": {},
   "source": [
    "### The simplest plot"
   ]
  },
  {
   "cell_type": "code",
   "execution_count": null,
   "metadata": {},
   "outputs": [],
   "source": [
    "r = np.arange(img.shape[1], dtype=float)\n",
    "r += (r[1] - r[0]) / 2.0\n",
    "r *= 1000\n",
    "az = np.arange(img.shape[0], dtype=float)\n",
    "az += (az[1] - az[0]) / 2.0\n",
    "img = wrl.georef.create_xarray_dataarray(img, r=r, phi=az, site=(10, 45, 0))\n",
    "img"
   ]
  },
  {
   "cell_type": "code",
   "execution_count": null,
   "metadata": {
    "slideshow": {
     "slide_type": "fragment"
    }
   },
   "outputs": [],
   "source": [
    "img = img.wrl.georef.georeference()\n",
    "pm = img.wrl.vis.plot()\n",
    "txt = plt.title(\"Simple PPI\")"
   ]
  },
  {
   "cell_type": "markdown",
   "metadata": {},
   "source": [
    "### Plot in curvelinear grid"
   ]
  },
  {
   "cell_type": "code",
   "execution_count": null,
   "metadata": {},
   "outputs": [],
   "source": [
    "fig = plt.figure(figsize=(16, 8))\n",
    "pm = img.wrl.vis.plot(crs=\"cg\", ax=121, fig=fig)"
   ]
  },
  {
   "cell_type": "markdown",
   "metadata": {},
   "source": [
    "### Simple plot in projected coordinate system"
   ]
  },
  {
   "cell_type": "code",
   "execution_count": null,
   "metadata": {},
   "outputs": [],
   "source": [
    "epsg = wrl.georef.epsg_to_osr(31466)\n",
    "img = img.wrl.georef.georeference(crs=epsg)\n",
    "\n",
    "fig = plt.figure(figsize=(10, 10))\n",
    "pm = img.wrl.vis.plot(ax=111, fig=fig)\n",
    "txt = plt.title(\"Simple PPI in Gauss-Krüger zone 2\")"
   ]
  },
  {
   "cell_type": "markdown",
   "metadata": {},
   "source": [
    "### Simple plot in WGS 84 coordinates"
   ]
  },
  {
   "cell_type": "code",
   "execution_count": null,
   "metadata": {},
   "outputs": [],
   "source": [
    "proj = wrl.georef.get_default_projection()\n",
    "img = img.wrl.georef.georeference(crs=proj)\n",
    "\n",
    "pm = img.wrl.vis.plot()\n",
    "txt = plt.title(\"Simple PPI in WGS84 coordinates\")"
   ]
  },
  {
   "cell_type": "markdown",
   "metadata": {
    "slideshow": {
     "slide_type": "slide"
    }
   },
   "source": [
    "### Plotting just one sector"
   ]
  },
  {
   "cell_type": "markdown",
   "metadata": {
    "slideshow": {
     "slide_type": "fragment"
    }
   },
   "source": [
    "For this purpose, we need to give the ranges and azimuths explicitly..."
   ]
  },
  {
   "cell_type": "code",
   "execution_count": null,
   "metadata": {
    "slideshow": {
     "slide_type": "fragment"
    }
   },
   "outputs": [],
   "source": [
    "pm = img[200:251, 40:81].wrl.vis.plot()\n",
    "txt = plt.title(\"Sector PPI\")"
   ]
  },
  {
   "cell_type": "markdown",
   "metadata": {
    "slideshow": {
     "slide_type": "slide"
    }
   },
   "source": [
    "### Adding a crosshair to the PPI "
   ]
  },
  {
   "cell_type": "code",
   "execution_count": null,
   "metadata": {
    "slideshow": {
     "slide_type": "fragment"
    }
   },
   "outputs": [],
   "source": [
    "# plot the PPI\n",
    "pm = img.wrl.vis.plot()\n",
    "# ... plot a crosshair over our data...\n",
    "ax = plt.gca()\n",
    "# ... plot a crosshair over our data...\n",
    "wrl.vis.plot_ppi_crosshair(\n",
    "    site=(img.longitude.values, img.latitude.values, img.altitude.values),\n",
    "    ranges=[50e3, 100e3, 128e3],\n",
    "    angles=[0, 90, 180, 270],\n",
    "    line=dict(color=\"white\"),\n",
    "    circle={\"edgecolor\": \"white\"},\n",
    "    ax=ax,\n",
    "    crs=proj,\n",
    ")\n",
    "plt.title(\"Offset and Custom Crosshair\")\n",
    "plt.axis(\"tight\")\n",
    "plt.gca().set_aspect(\"equal\")"
   ]
  },
  {
   "cell_type": "markdown",
   "metadata": {
    "slideshow": {
     "slide_type": "slide"
    }
   },
   "source": [
    "### Placing the polar data in a projected Cartesian reference system"
   ]
  },
  {
   "cell_type": "markdown",
   "metadata": {
    "slideshow": {
     "slide_type": "fragment"
    }
   },
   "source": [
    "Using the `proj` keyword we tell the function to:\n",
    "- interpret the site coordinates as longitude/latitude\n",
    "- reproject the coordinates to the given projection (here: dwd-radolan composite coordinate system)"
   ]
  },
  {
   "cell_type": "code",
   "execution_count": null,
   "metadata": {
    "slideshow": {
     "slide_type": "slide"
    }
   },
   "outputs": [],
   "source": [
    "proj_rad = wrl.georef.create_osr(\"dwd-radolan\")\n",
    "img = img.wrl.georef.georeference(crs=proj_rad)\n",
    "img.wrl.vis.plot()\n",
    "ax = plt.gca()\n",
    "# Now the crosshair ranges must be given in meters\n",
    "wrl.vis.plot_ppi_crosshair(\n",
    "    site=(img.longitude.values, img.latitude.values, img.altitude.values),\n",
    "    ranges=[40000, 80000, 128000],\n",
    "    line=dict(color=\"white\"),\n",
    "    circle={\"edgecolor\": \"white\"},\n",
    "    ax=ax,\n",
    "    crs=proj_rad,\n",
    ")\n",
    "plt.title(\"Georeferenced/Projected PPI\")\n",
    "plt.axis(\"tight\")\n",
    "plt.gca().set_aspect(\"equal\")"
   ]
  },
  {
   "cell_type": "markdown",
   "metadata": {
    "slideshow": {
     "slide_type": "slide"
    }
   },
   "source": [
    "### Some side effects of georeferencing"
   ]
  },
  {
   "cell_type": "markdown",
   "metadata": {
    "slideshow": {
     "slide_type": "skip"
    }
   },
   "source": [
    "Transplanting the radar virtually moves it away from the central meridian of the projection (which is 10 degrees east). Due north now does not point straight upwards on the map.\n",
    "\n",
    "The crosshair shows this: for the case that the lines should actually become curved, they are implemented as a piecewise linear curve with 10 vertices. The same is true for the range circles, but with more vertices, of course."
   ]
  },
  {
   "cell_type": "code",
   "execution_count": null,
   "metadata": {
    "slideshow": {
     "slide_type": "fragment"
    }
   },
   "outputs": [],
   "source": [
    "site = (45.0, 7.0, 0.0)\n",
    "img[\"longitude\"].values, img[\"latitude\"].values = (45.0, 7.0)\n",
    "img = img.wrl.georef.georeference(crs=proj_rad)\n",
    "img.wrl.vis.plot()\n",
    "ax = plt.gca()\n",
    "ax = wrl.vis.plot_ppi_crosshair(\n",
    "    site=(img.longitude.values, img.latitude.values, img.altitude.values),\n",
    "    ranges=[64000, 128000],\n",
    "    line=dict(color=\"red\"),\n",
    "    circle={\"edgecolor\": \"red\"},\n",
    "    crs=proj_rad,\n",
    "    ax=ax,\n",
    ")\n",
    "txt = plt.title(\"Projection Side Effects\")"
   ]
  },
  {
   "cell_type": "markdown",
   "metadata": {},
   "source": [
    "### Simple Plot on Mercator-Map using cartopy "
   ]
  },
  {
   "cell_type": "code",
   "execution_count": null,
   "metadata": {},
   "outputs": [],
   "source": [
    "import cartopy.crs as ccrs\n",
    "\n",
    "map_proj = ccrs.Mercator(central_longitude=site[1])"
   ]
  },
  {
   "cell_type": "code",
   "execution_count": null,
   "metadata": {},
   "outputs": [],
   "source": [
    "img[\"longitude\"].values, img[\"latitude\"].values = (7.0, 45.0)\n",
    "img = img.wrl.georef.georeference()\n",
    "fig = plt.figure(figsize=(10, 10))\n",
    "img.wrl.vis.plot(crs=map_proj, fig=fig, ax=111)\n",
    "ax = plt.gca()\n",
    "ax.gridlines(draw_labels=True)"
   ]
  },
  {
   "cell_type": "markdown",
   "metadata": {
    "slideshow": {
     "slide_type": "slide"
    }
   },
   "source": [
    "### More decorations and annotations"
   ]
  },
  {
   "cell_type": "markdown",
   "metadata": {
    "slideshow": {
     "slide_type": "fragment"
    }
   },
   "source": [
    "You can annotate these plots by using standard matplotlib methods."
   ]
  },
  {
   "cell_type": "code",
   "execution_count": null,
   "metadata": {
    "slideshow": {
     "slide_type": "fragment"
    }
   },
   "outputs": [],
   "source": [
    "pm = img.wrl.vis.plot()\n",
    "ax = plt.gca()\n",
    "ylabel = ax.set_xlabel(\"easting [m]\")\n",
    "ylabel = ax.set_ylabel(\"northing [m]\")\n",
    "title = ax.set_title(\"PPI manipulations/colorbar\")\n",
    "# you can now also zoom - either programmatically or interactively\n",
    "xlim = ax.set_xlim(-80000, -20000)\n",
    "ylim = ax.set_ylim(-80000, 0)\n",
    "# as the function returns the axes- and 'mappable'-objects colorbar needs, adding a colorbar is easy\n",
    "cb = plt.colorbar(pm, ax=ax)"
   ]
  }
 ],
 "metadata": {
  "celltoolbar": "Slideshow",
  "language_info": {
   "codemirror_mode": {
    "name": "ipython",
    "version": 3
   },
   "file_extension": ".py",
   "mimetype": "text/x-python",
   "name": "python",
   "nbconvert_exporter": "python",
   "pygments_lexer": "ipython3",
   "version": "3.11.0"
  },
  "livereveal": {
   "scroll": true
  },
  "toc": {
   "colors": {
    "hover_highlight": "#DAA520",
    "navigate_num": "#000000",
    "navigate_text": "#333333",
    "running_highlight": "#FF0000",
    "selected_highlight": "#FFD700",
    "sidebar_border": "#EEEEEE",
    "wrapper_background": "#FFFFFF"
   },
   "moveMenuLeft": true,
   "nav_menu": {
    "height": "177px",
    "width": "252px"
   },
   "navigate_menu": true,
   "number_sections": false,
   "sideBar": true,
   "threshold": 4,
   "toc_cell": false,
   "toc_section_display": "block",
   "toc_window_display": false,
   "widenNotebook": false
  }
 },
 "nbformat": 4,
 "nbformat_minor": 4
}
