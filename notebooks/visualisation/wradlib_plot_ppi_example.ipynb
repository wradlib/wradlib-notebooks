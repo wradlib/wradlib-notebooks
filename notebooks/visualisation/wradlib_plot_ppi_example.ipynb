{
 "cells": [
  {
   "cell_type": "markdown",
   "metadata": {
    "nbsphinx": "hidden",
    "slideshow": {
     "slide_type": "skip"
    }
   },
   "source": [
    "This notebook is part of the $\\omega radlib$ documentation: https://docs.wradlib.org.\n",
    "\n",
    "Copyright (c) $\\omega radlib$ developers.\n",
    "Distributed under the MIT License. See LICENSE.txt for more info."
   ]
  },
  {
   "cell_type": "markdown",
   "metadata": {
    "slideshow": {
     "slide_type": "slide"
    }
   },
   "source": [
    "# Quick-view a sweep in polar or cartesian reference systems"
   ]
  },
  {
   "cell_type": "code",
   "execution_count": null,
   "metadata": {
    "slideshow": {
     "slide_type": "slide"
    }
   },
   "outputs": [],
   "source": [
    "import numpy as np\n",
    "import matplotlib.pyplot as pl\n",
    "import wradlib\n",
    "#import warnings\n",
    "#warnings.filterwarnings('ignore')\n",
    "try:\n",
    "    get_ipython().magic(\"matplotlib inline\")\n",
    "except:\n",
    "    pl.ion()"
   ]
  },
  {
   "cell_type": "code",
   "execution_count": null,
   "metadata": {},
   "outputs": [],
   "source": [
    "import sys\n",
    "print(sys.modules)"
   ]
  },
  {
   "cell_type": "code",
   "execution_count": null,
   "metadata": {},
   "outputs": [],
   "source": [
    "import numpy as np  # noqa\n",
    "import wradlib as wrl\n",
    "# creating a data array and mask some values\n",
    "data = np.arange(12.).reshape(4,3)\n",
    "masked_values = (data==2) | (data==9)\n",
    "# interpolate the masked data based on ''masked_values''\n",
    "filled_a = wrl.ipol.interpolate_polar(data, mask = masked_values, ipclass = wrl.ipol.Linear)  # noqa\n",
    "ax, pm = wrl.vis.plot_ppi(filled_a)\n",
    "# the same result can be achieved by using an masked array instead of an explicit mask  # noqa\n",
    "mdata = np.ma.array(data, mask = masked_values)\n",
    "filled_b = wrl.ipol.interpolate_polar(mdata, ipclass = wrl.ipol.Linear)  # noqa\n",
    "\n",
    "print(filled_b.shape)\n",
    "ax, pm = wrl.vis.plot_ppi(filled_b)\n",
    "print(ax)"
   ]
  },
  {
   "cell_type": "code",
   "execution_count": null,
   "metadata": {},
   "outputs": [],
   "source": [
    "site = (0, 0, 0)\n",
    "print(len(site))\n",
    "site = (*site, 0)\n",
    "site"
   ]
  },
  {
   "cell_type": "code",
   "execution_count": null,
   "metadata": {},
   "outputs": [],
   "source": [
    "import netCDF4 as nc\n",
    "#ds.close()\n",
    "arr = np.random.random((360, 1000))\n",
    "ds = nc.Dataset('test.nc', 'w', format='NETCDF4')\n",
    "dim0 = ds.createDimension('dim0',  arr.shape[0])\n",
    "dim1 = ds.createDimension('dim1',  arr.shape[1])\n",
    "data = ds.createVariable('data', 'f8', ('dim0',  'dim1'))\n",
    "dim0 = np.arange(arr.shape[0])\n",
    "dim1 = np.arange(arr.shape[1])\n",
    "data[:] = arr\n",
    "ds.close()"
   ]
  },
  {
   "cell_type": "markdown",
   "metadata": {
    "slideshow": {
     "slide_type": "slide"
    }
   },
   "source": [
    "### Read a polar data set from the German Weather Service"
   ]
  },
  {
   "cell_type": "code",
   "execution_count": null,
   "metadata": {
    "slideshow": {
     "slide_type": "fragment"
    }
   },
   "outputs": [],
   "source": [
    "filename = wradlib.util.get_wradlib_data_file('dx/raa00-dx_10908-0806021735-fbg---bin.gz')\n",
    "print(filename)"
   ]
  },
  {
   "cell_type": "code",
   "execution_count": null,
   "metadata": {
    "slideshow": {
     "slide_type": "fragment"
    }
   },
   "outputs": [],
   "source": [
    "img, meta = wradlib.io.read_dx(filename)"
   ]
  },
  {
   "cell_type": "markdown",
   "metadata": {
    "slideshow": {
     "slide_type": "fragment"
    }
   },
   "source": [
    "Inspect the data set a little"
   ]
  },
  {
   "cell_type": "code",
   "execution_count": null,
   "metadata": {
    "slideshow": {
     "slide_type": "fragment"
    }
   },
   "outputs": [],
   "source": [
    "print(\"Shape of polar array: %r\\n\" % (img.shape,))\n",
    "print(\"Some meta data of the DX file:\")\n",
    "print(\"\\tdatetime: %r\" % (meta[\"datetime\"],))\n",
    "print(\"\\tRadar ID: %s\" % (meta[\"radarid\"],))"
   ]
  },
  {
   "cell_type": "markdown",
   "metadata": {
    "slideshow": {
     "slide_type": "slide"
    }
   },
   "source": [
    "### The simplest way to plot this dataset"
   ]
  },
  {
   "cell_type": "code",
   "execution_count": null,
   "metadata": {},
   "outputs": [],
   "source": [
    "import warnings\n",
    "warnings.warn(\"test\", UserWarning, stacklevel=2)"
   ]
  },
  {
   "cell_type": "code",
   "execution_count": null,
   "metadata": {
    "slideshow": {
     "slide_type": "fragment"
    }
   },
   "outputs": [],
   "source": [
    "ax, pm = wradlib.vis.plot_ppi(img)\n",
    "txt = pl.title('Simple PPI')"
   ]
  },
  {
   "cell_type": "code",
   "execution_count": null,
   "metadata": {},
   "outputs": [],
   "source": [
    "ax, pm = wradlib.vis.plot_ppi(img, site=(10, 45, 0))\n",
    "txt = pl.title('Simple PPI')"
   ]
  },
  {
   "cell_type": "code",
   "execution_count": null,
   "metadata": {},
   "outputs": [],
   "source": [
    "r = np.arange(img.shape[1], dtype=np.float)\n",
    "r += (r[1] - r[0]) / 2.\n",
    "r *= 1000\n",
    "az = np.arange(img.shape[0], dtype=np.float)\n",
    "az += (az[1] - az[0]) / 2.\n",
    "\n",
    "ax1, pm = wradlib.vis.plot_ppi(img, r=r, az=az)#, ax=121)\n",
    "#ax2, pm = wradlib.vis.plot_ppi(img, r=r, az=az, ax=122)"
   ]
  },
  {
   "cell_type": "code",
   "execution_count": null,
   "metadata": {},
   "outputs": [],
   "source": [
    "ax, pm = wradlib.vis.plot_ppi(img, r=r, az=az)#, rf=1e3)"
   ]
  },
  {
   "cell_type": "code",
   "execution_count": null,
   "metadata": {},
   "outputs": [],
   "source": [
    "ax, pm = wradlib.vis.plot_ppi(img, r=r, az=az, #rf=1e3, \n",
    "                              site=(10, 45, 0))"
   ]
  },
  {
   "cell_type": "code",
   "execution_count": null,
   "metadata": {},
   "outputs": [],
   "source": [
    "epsg=wradlib.georef.epsg_to_osr(31466)\n",
    "\n",
    "ax, pm = wradlib.vis.plot_ppi(img, site=(10, 45, 0),\n",
    "                     proj=epsg)\n",
    "txt = pl.title('Simple PPI')\n",
    "#ax.gridlines(draw_labels=True)"
   ]
  },
  {
   "cell_type": "code",
   "execution_count": null,
   "metadata": {},
   "outputs": [],
   "source": [
    "r = np.arange(img.shape[1], dtype=np.float)\n",
    "r += (r[1] - r[0]) / 2.\n",
    "r *= 1000\n",
    "az = np.arange(img.shape[0], dtype=np.float)\n",
    "az += (az[1] - az[0]) / 2.\n",
    "\n",
    "ax, pm = wradlib.vis.plot_ppi(img, r=r, az=az, site=(10, 45, 0), rf=1e3,\n",
    "                              proj=epsg,\n",
    "                             )#wradlib.georef.get_default_projection())"
   ]
  },
  {
   "cell_type": "code",
   "execution_count": null,
   "metadata": {},
   "outputs": [],
   "source": [
    "proj=wradlib.georef.get_default_projection()\n",
    "ax, pm = wradlib.vis.plot_ppi(img, r=r, az=az, site=(10, 45, 0),\n",
    "                              elev=80.,\n",
    "                              proj=proj,\n",
    "                             )"
   ]
  },
  {
   "cell_type": "markdown",
   "metadata": {
    "slideshow": {
     "slide_type": "slide"
    }
   },
   "source": [
    "### Plotting just one sector"
   ]
  },
  {
   "cell_type": "markdown",
   "metadata": {
    "slideshow": {
     "slide_type": "fragment"
    }
   },
   "source": [
    "For this purpose, we need to give the ranges and azimuths explicitly..."
   ]
  },
  {
   "cell_type": "code",
   "execution_count": null,
   "metadata": {
    "slideshow": {
     "slide_type": "fragment"
    }
   },
   "outputs": [],
   "source": [
    "r = np.arange(40, 81)\n",
    "az = np.arange(200, 251)\n",
    "ax, pm = wradlib.vis.plot_ppi(img[200:251, 40:81], r, az)\n",
    "txt = pl.title('Sector PPI')"
   ]
  },
  {
   "cell_type": "markdown",
   "metadata": {
    "slideshow": {
     "slide_type": "slide"
    }
   },
   "source": [
    "### Adding a crosshair to the PPI "
   ]
  },
  {
   "cell_type": "code",
   "execution_count": null,
   "metadata": {
    "slideshow": {
     "slide_type": "fragment"
    }
   },
   "outputs": [],
   "source": [
    "# We introduce a site offset...\n",
    "site = (10., 45., 0)\n",
    "wradlib.vis.plot_ppi(img, site=site)\n",
    "# ... plot a crosshair over our data...\n",
    "wradlib.vis.plot_ppi_crosshair(site=site, ranges=[50, 100, 128], \n",
    "                               angles=[0, 90, 180, 270], \n",
    "                               line=dict(color='white'), \n",
    "                               circle={'edgecolor': 'white'},\n",
    "                               )\n",
    "pl.title('Offset and Custom Crosshair')\n",
    "pl.axis(\"tight\")\n",
    "pl.gca().set_aspect('equal')"
   ]
  },
  {
   "cell_type": "markdown",
   "metadata": {
    "slideshow": {
     "slide_type": "slide"
    }
   },
   "source": [
    "### Placing the polar data in a projected Cartesian reference system"
   ]
  },
  {
   "cell_type": "markdown",
   "metadata": {
    "slideshow": {
     "slide_type": "fragment"
    }
   },
   "source": [
    "Using the `proj` keyword we tell the function to:\n",
    "- interpret the site coordinates as longitude/latitude\n",
    "- reproject the coordinates to the given projection (here: dwd-radolan composite coordinate system)"
   ]
  },
  {
   "cell_type": "code",
   "execution_count": null,
   "metadata": {
    "slideshow": {
     "slide_type": "slide"
    }
   },
   "outputs": [],
   "source": [
    "site=(10., 45., 0)\n",
    "r = np.arange(img.shape[1], dtype=np.float)\n",
    "r += (r[1] - r[0]) / 2.\n",
    "r *= 1000\n",
    "az = np.arange(img.shape[0], dtype=np.float)\n",
    "az += (az[1] - az[0]) / 2.\n",
    "elev = np.zeros_like(az)\n",
    "proj_rad = wradlib.georef.create_osr(\"dwd-radolan\")\n",
    "wradlib.vis.plot_ppi(img, r=r, az=az, site=site, proj=proj_rad)\n",
    "# Now the crosshair ranges must be given in meters\n",
    "wradlib.vis.plot_ppi_crosshair(site=site,\n",
    "                               ranges=[40000, 80000, 128000],\n",
    "                               line=dict(color='white'),\n",
    "                               circle={'edgecolor':'white'},\n",
    "                               proj=proj_rad\n",
    "                               )\n",
    "pl.title('Georeferenced/Projected PPI')\n",
    "pl.axis(\"tight\")\n",
    "pl.gca().set_aspect('equal')"
   ]
  },
  {
   "cell_type": "markdown",
   "metadata": {
    "slideshow": {
     "slide_type": "slide"
    }
   },
   "source": [
    "### Some side effects of georeferencing"
   ]
  },
  {
   "cell_type": "markdown",
   "metadata": {
    "slideshow": {
     "slide_type": "skip"
    }
   },
   "source": [
    "Transplanting the radar virtually moves it away from the central meridian of the projection (which is 10 degrees east). Due north now does not point straight upwards on the map.\n",
    "\n",
    "The crosshair shows this: for the case that the lines should actually become curved, they are implemented as a piecewise linear curve with 10 vertices. The same is true for the range circles, but with more vertices, of course."
   ]
  },
  {
   "cell_type": "code",
   "execution_count": null,
   "metadata": {
    "slideshow": {
     "slide_type": "fragment"
    }
   },
   "outputs": [],
   "source": [
    "site=(45., 7., 0.)\n",
    "ax, pm = wradlib.vis.plot_ppi(img, r=r, az=az, site=site, proj=proj_rad)\n",
    "ax = wradlib.vis.plot_ppi_crosshair(site=site,\n",
    "                               ranges=[64000, 128000],\n",
    "                               line=dict(color='red'),\n",
    "                               circle={'edgecolor': 'red'},\n",
    "                               proj=proj_rad\n",
    "                               )\n",
    "txt = pl.title('Projection Side Effects')"
   ]
  },
  {
   "cell_type": "markdown",
   "metadata": {},
   "source": [
    "### Simple Plot on Mercator-Map using cartopy "
   ]
  },
  {
   "cell_type": "code",
   "execution_count": null,
   "metadata": {},
   "outputs": [],
   "source": [
    "import cartopy.crs as ccrs\n",
    "map_proj = ccrs.Mercator(central_longitude=site[1])"
   ]
  },
  {
   "cell_type": "code",
   "execution_count": null,
   "metadata": {},
   "outputs": [],
   "source": [
    "site=(7, 45, 0.)\n",
    "ax, pm = wradlib.vis.plot_ppi(img, r=r, az=az, site=site, proj=map_proj)\n",
    "ax.gridlines(draw_labels=True)"
   ]
  },
  {
   "cell_type": "markdown",
   "metadata": {
    "slideshow": {
     "slide_type": "slide"
    }
   },
   "source": [
    "### More decorations and annotations"
   ]
  },
  {
   "cell_type": "markdown",
   "metadata": {
    "slideshow": {
     "slide_type": "fragment"
    }
   },
   "source": [
    "You can annotate these plots by using standard matplotlib methods."
   ]
  },
  {
   "cell_type": "code",
   "execution_count": null,
   "metadata": {
    "slideshow": {
     "slide_type": "fragment"
    }
   },
   "outputs": [],
   "source": [
    "ax, pm = wradlib.vis.plot_ppi(img)\n",
    "ylabel = ax.set_xlabel('easting [km]')\n",
    "ylabel = ax.set_ylabel('northing [km]')\n",
    "title = ax.set_title('PPI manipulations/colorbar')\n",
    "# you can now also zoom - either programmatically or interactively\n",
    "xlim = ax.set_xlim(-80, -20)\n",
    "ylim = ax.set_ylim(-80, 0)\n",
    "# as the function returns the axes- and 'mappable'-objects colorbar needs, adding a colorbar is easy\n",
    "cb = pl.colorbar(pm, ax=ax)"
   ]
  }
 ],
 "metadata": {
  "celltoolbar": "Slideshow",
  "kernelspec": {
   "display_name": "Python 3",
   "language": "python",
   "name": "python3"
  },
  "language_info": {
   "codemirror_mode": {
    "name": "ipython",
    "version": 3
   },
   "file_extension": ".py",
   "mimetype": "text/x-python",
   "name": "python",
   "nbconvert_exporter": "python",
   "pygments_lexer": "ipython3",
   "version": "3.7.1"
  },
  "livereveal": {
   "scroll": true
  },
  "toc": {
   "colors": {
    "hover_highlight": "#DAA520",
    "navigate_num": "#000000",
    "navigate_text": "#333333",
    "running_highlight": "#FF0000",
    "selected_highlight": "#FFD700",
    "sidebar_border": "#EEEEEE",
    "wrapper_background": "#FFFFFF"
   },
   "moveMenuLeft": true,
   "nav_menu": {
    "height": "177px",
    "width": "252px"
   },
   "navigate_menu": true,
   "number_sections": false,
   "sideBar": true,
   "threshold": 4,
   "toc_cell": false,
   "toc_section_display": "block",
   "toc_window_display": false,
   "widenNotebook": false
  }
 },
 "nbformat": 4,
 "nbformat_minor": 1
}
