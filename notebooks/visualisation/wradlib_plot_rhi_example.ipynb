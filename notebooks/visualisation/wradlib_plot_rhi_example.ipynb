{
 "cells": [
  {
   "cell_type": "markdown",
   "metadata": {
    "nbsphinx": "hidden",
    "slideshow": {
     "slide_type": "skip"
    }
   },
   "source": [
    "This notebook is part of the $\\omega radlib$ documentation: https://docs.wradlib.org.\n",
    "\n",
    "Copyright (c) $\\omega radlib$ developers.\n",
    "Distributed under the MIT License. See LICENSE.txt for more info."
   ]
  },
  {
   "cell_type": "markdown",
   "metadata": {
    "slideshow": {
     "slide_type": "slide"
    }
   },
   "source": [
    "# Quick-view a RHI sweep in polar or cartesian reference systems"
   ]
  },
  {
   "cell_type": "code",
   "execution_count": null,
   "metadata": {
    "slideshow": {
     "slide_type": "slide"
    }
   },
   "outputs": [],
   "source": [
    "import numpy as np\n",
    "import matplotlib.pyplot as plt\n",
    "import wradlib as wrl\n",
    "import warnings\n",
    "\n",
    "warnings.filterwarnings(\"ignore\")\n",
    "try:\n",
    "    get_ipython().run_line_magic(\"matplotlib inline\")\n",
    "except:\n",
    "    plt.ion()"
   ]
  },
  {
   "cell_type": "markdown",
   "metadata": {
    "slideshow": {
     "slide_type": "slide"
    }
   },
   "source": [
    "### Read a RHI polar data set from University Bonn XBand radar"
   ]
  },
  {
   "cell_type": "code",
   "execution_count": null,
   "metadata": {
    "slideshow": {
     "slide_type": "fragment"
    }
   },
   "outputs": [],
   "source": [
    "filename = wrl.util.get_wradlib_data_file(\"hdf5/2014-06-09--185000.rhi.mvol\")\n",
    "data1, metadata = wrl.io.read_gamic_hdf5(filename)\n",
    "img = data1[\"SCAN0\"][\"ZH\"][\"data\"]\n",
    "# mask data array for better presentation\n",
    "mask_ind = np.where(img <= np.nanmin(img))\n",
    "img[mask_ind] = np.nan\n",
    "img = np.ma.array(img, mask=np.isnan(img))\n",
    "\n",
    "r = metadata[\"SCAN0\"][\"r\"]\n",
    "th = metadata[\"SCAN0\"][\"el\"]\n",
    "print(th.shape)\n",
    "az = metadata[\"SCAN0\"][\"az\"]\n",
    "site = (\n",
    "    metadata[\"VOL\"][\"Longitude\"],\n",
    "    metadata[\"VOL\"][\"Latitude\"],\n",
    "    metadata[\"VOL\"][\"Height\"],\n",
    ")\n",
    "img = wrl.georef.create_xarray_dataarray(\n",
    "    img, r=r, phi=az, theta=th, site=site, dim0=\"elevation\", sweep_mode=\"rhi\"\n",
    ")\n",
    "img"
   ]
  },
  {
   "cell_type": "markdown",
   "metadata": {
    "slideshow": {
     "slide_type": "fragment"
    }
   },
   "source": [
    "Inspect the data set a little"
   ]
  },
  {
   "cell_type": "code",
   "execution_count": null,
   "metadata": {
    "slideshow": {
     "slide_type": "fragment"
    }
   },
   "outputs": [],
   "source": [
    "print(\"Shape of polar array: %r\\n\" % (img.shape,))\n",
    "print(\"Some meta data of the RHI file:\")\n",
    "print(\"\\tdatetime: %r\" % (metadata[\"SCAN0\"][\"Time\"],))"
   ]
  },
  {
   "cell_type": "markdown",
   "metadata": {
    "slideshow": {
     "slide_type": "slide"
    }
   },
   "source": [
    "### The simplest way to plot this dataset"
   ]
  },
  {
   "cell_type": "code",
   "execution_count": null,
   "metadata": {
    "slideshow": {
     "slide_type": "fragment"
    }
   },
   "outputs": [],
   "source": [
    "img = img.wrl.georef.georeference()\n",
    "pm = img.wrl.vis.plot()\n",
    "txt = plt.title(\"Simple RHI - Rays/Bins\")\n",
    "# plt.gca().set_xlim(0,100000)\n",
    "# plt.gca().set_ylim(0,100000)"
   ]
  },
  {
   "cell_type": "code",
   "execution_count": null,
   "metadata": {},
   "outputs": [],
   "source": [
    "pm = img.wrl.vis.plot()\n",
    "plt.gca().set_ylim(0, 15000)\n",
    "txt = plt.title(\"Simple RHI - Rays/Bins - with ylimits\")"
   ]
  },
  {
   "cell_type": "code",
   "execution_count": null,
   "metadata": {},
   "outputs": [],
   "source": [
    "pm = img.wrl.vis.plot(crs=\"cg\")\n",
    "plt.gca().set_title(\"Curvelineart Grid RHI\", y=1.0, pad=20)"
   ]
  },
  {
   "cell_type": "markdown",
   "metadata": {
    "slideshow": {
     "slide_type": "slide"
    }
   },
   "source": [
    "### More decorations and annotations"
   ]
  },
  {
   "cell_type": "markdown",
   "metadata": {
    "slideshow": {
     "slide_type": "fragment"
    }
   },
   "source": [
    "You can annotate these plots by using standard matplotlib methods."
   ]
  },
  {
   "cell_type": "code",
   "execution_count": null,
   "metadata": {
    "slideshow": {
     "slide_type": "fragment"
    }
   },
   "outputs": [],
   "source": [
    "pm = img.wrl.vis.plot()\n",
    "ax = plt.gca()\n",
    "ylabel = ax.set_xlabel(\"Ground Range [m]\")\n",
    "ylabel = ax.set_ylabel(\"Height [m]\")\n",
    "title = ax.set_title(\"RHI manipulations/colorbar\", y=1, pad=20)\n",
    "# you can now also zoom - either programmatically or interactively\n",
    "xlim = ax.set_xlim(25000, 40000)\n",
    "ylim = ax.set_ylim(0, 15000)\n",
    "# as the function returns the axes- and 'mappable'-objects colorbar needs, adding a colorbar is easy\n",
    "cb = plt.colorbar(pm, ax=ax)"
   ]
  }
 ],
 "metadata": {
  "celltoolbar": "Slideshow",
  "language_info": {
   "codemirror_mode": {
    "name": "ipython",
    "version": 3
   },
   "file_extension": ".py",
   "mimetype": "text/x-python",
   "name": "python",
   "nbconvert_exporter": "python",
   "pygments_lexer": "ipython3",
   "version": "3.11.0"
  },
  "livereveal": {
   "scroll": true
  },
  "toc": {
   "colors": {
    "hover_highlight": "#DAA520",
    "navigate_num": "#000000",
    "navigate_text": "#333333",
    "running_highlight": "#FF0000",
    "selected_highlight": "#FFD700",
    "sidebar_border": "#EEEEEE",
    "wrapper_background": "#FFFFFF"
   },
   "moveMenuLeft": true,
   "nav_menu": {
    "height": "177px",
    "width": "252px"
   },
   "navigate_menu": true,
   "number_sections": false,
   "sideBar": true,
   "threshold": 4,
   "toc_cell": false,
   "toc_section_display": "block",
   "toc_window_display": false,
   "widenNotebook": false
  }
 },
 "nbformat": 4,
 "nbformat_minor": 4
}
