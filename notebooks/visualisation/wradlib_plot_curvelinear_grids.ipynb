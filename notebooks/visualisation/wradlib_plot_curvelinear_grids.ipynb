{
 "cells": [
  {
   "cell_type": "markdown",
   "metadata": {
    "nbsphinx": "hidden"
   },
   "source": [
    "This notebook is part of the $\\omega radlib$ documentation: https://docs.wradlib.org.\n",
    "\n",
    "Copyright (c) $\\omega radlib$ developers.\n",
    "Distributed under the MIT License. See LICENSE.txt for more info."
   ]
  },
  {
   "cell_type": "markdown",
   "metadata": {},
   "source": [
    "# Plot data to curvelinear grid"
   ]
  },
  {
   "cell_type": "markdown",
   "metadata": {},
   "source": [
    "## Preface"
   ]
  },
  {
   "cell_type": "markdown",
   "metadata": {},
   "source": [
    "If you are working with radar station data, it is almost ever only available as polar data.\n",
    "This means you have a 2D-array, one dimension holding the azimuth (**PPI**) or elevation\n",
    "(**RHI**) angle values and the other holding the range values.\n",
    "\n",
    "In $\\omega radlib$ it is assumed that the first dimension is over the azimuth/elevation angles,\n",
    "while the second dimension is over the range bins."
   ]
  },
  {
   "cell_type": "markdown",
   "metadata": {},
   "source": [
    "## Create Curvelinear Grid"
   ]
  },
  {
   "cell_type": "markdown",
   "metadata": {},
   "source": [
    "The creation process of the curvelinear grid is bundled in the helper function [wradlib.vis.create_cg()](https://docs.wradlib.org/en/latest/generated/wradlib.vis.create_cg.html). I will not dwell too much on that, just this far [wradlib.vis.create_cg()](https://docs.wradlib.org/en/latest/generated/wradlib.vis.create_cg.html) uses a derived Axes implementation.\n",
    "\n",
    "[wradlib.vis.create_cg()](https://docs.wradlib.org/en/latest/generated/wradlib.vis.create_cg.html) takes scan type ('PPI' or 'RHI') as argument, figure object and grid definition are optional. The grid creation process generates three axes objects and set some reasonable starting values for labeling.\n",
    "\n",
    "The returned objects are ``cgax``, ``caax`` and ``paax``.\n",
    "\n",
    "- ``cgax``: matplotlib toolkit axisartist Axes object, Curvelinear Axes which holds the angle-range-grid\n",
    "- ``caax``: matplotlib Axes object (twin to cgax), Cartesian Axes (x-y-grid) for plotting cartesian data\n",
    "- ``paax``: matplotlib Axes object (parasite to cgax), The parasite axes object for plotting polar data\n",
    "\n",
    "A typical invocation of [wradlib.vis.create_cg()](https://docs.wradlib.org/en/latest/generated/wradlib.vis.create_cg.html) for a **PPI** is:\n",
    "\n",
    "```python\n",
    "    # create curvelinear axes\n",
    "    cgax, caax, paax = create_cg('PPI', fig, subplot)\n",
    "```\n",
    "\n",
    "For plotting actual polar data two functions exist, depending on whether your data holds a **PPI**\n",
    "[wradlib.vis.plot_ppi()](https://docs.wradlib.org/en/latest/generated/wradlib.vis.plot_ppi.html) or an **RHI** ([wradlib.vis.plot_rhi()](https://docs.wradlib.org/en/latest/generated/wradlib.vis.plot_rhi.html))."
   ]
  },
  {
   "cell_type": "markdown",
   "metadata": {},
   "source": [
    "<div class=\"alert alert-info\">\n",
    "\n",
    "**Note** <br>\n",
    "\n",
    "1. Other than most plotting functions you cannot give an axes object as an argument. All necessary axes objects are created on the fly. You may give an figure object and/or an subplot specification as parameter. For further information on howto plot multiple cg plots in one figure, have a look at the special section [Plotting on Grids](#Plotting-on-Grids).  <br>\n",
    "2. When using the ``refrac`` keyword with [wradlib.vis.plot_rhi()](https://docs.wradlib.org/en/latest/generated/wradlib.vis.plot_rhi.html) the data is plotted to the cartesian axis ``caax``.  <br>\n",
    "</div>"
   ]
  },
  {
   "cell_type": "markdown",
   "metadata": {},
   "source": [
    "<div class=\"alert alert-info\">\n",
    "    \n",
    "**Seealso** <br>\n",
    "\n",
    "- [wradlib.vis.create_cg()](https://docs.wradlib.org/en/latest/generated/wradlib.vis.create_cg.html) <br>\n",
    "- [wradlib.vis.plot_ppi()](https://docs.wradlib.org/en/latest/generated/wradlib.vis.plot_ppi.html) <br>\n",
    "- [wradlib.vis.plot_rhi()](https://docs.wradlib.org/en/latest/generated/wradlib.vis.plot_rhi.html) <br>\n",
    "\n",
    "If you want to learn more about the matplotlib features used with [wradlib.vis.create_cg()](https://docs.wradlib.org/en/latest/generated/wradlib.vis.create_cg.html), have a look into\n",
    "\n",
    "- [Matplotlib AXISARTIST namespace](https://matplotlib.org/tutorials/toolkits/axisartist.html) <br>\n",
    "- [Matplotlib AxesGrid Toolkit](https://matplotlib.org/api/toolkits/axes_grid1.html) <br>\n",
    "- [The Matplotlib AxesGrid Toolkit User’s Guide](https://matplotlib.org/tutorials/toolkits/axes_grid.html) <br>\n",
    "</div>"
   ]
  },
  {
   "cell_type": "markdown",
   "metadata": {},
   "source": [
    "## Plotting on Curvelinear Grids"
   ]
  },
  {
   "cell_type": "markdown",
   "metadata": {},
   "source": [
    "### Plot CG PPI"
   ]
  },
  {
   "cell_type": "markdown",
   "metadata": {},
   "source": [
    "[wradlib.vis.plot_ppi()](https://docs.wradlib.org/en/latest/generated/wradlib.vis.plot_ppi.html) with keyword `cg=True` is used in this section."
   ]
  },
  {
   "cell_type": "markdown",
   "metadata": {},
   "source": [
    "#### Simple CG PPI"
   ]
  },
  {
   "cell_type": "markdown",
   "metadata": {},
   "source": [
    "First we will look into plotting a **PPI**. We start with importing the necessary modules:"
   ]
  },
  {
   "cell_type": "code",
   "execution_count": null,
   "metadata": {},
   "outputs": [],
   "source": [
    "import wradlib as wrl\n",
    "import matplotlib.pyplot as pl\n",
    "import warnings\n",
    "warnings.filterwarnings('ignore')\n",
    "try:\n",
    "    get_ipython().magic(\"matplotlib inline\")\n",
    "except:\n",
    "    pl.ion()\n",
    "import numpy as np"
   ]
  },
  {
   "cell_type": "markdown",
   "metadata": {},
   "source": [
    "Next, we will load a polar scan from the WRADLIB_DATA folder and prepare it:"
   ]
  },
  {
   "cell_type": "code",
   "execution_count": null,
   "metadata": {},
   "outputs": [],
   "source": [
    "# load a polar scan \n",
    "filename = wrl.util.get_wradlib_data_file('misc/polar_dBZ_tur.gz')\n",
    "data = np.loadtxt(filename)\n",
    "\n",
    "# create range and azimuth arrays accordingly\n",
    "r = np.arange(0, data.shape[1], dtype=np.float)\n",
    "r += (r[1] - r[0]) / 2.\n",
    "r *= 1000.\n",
    "az = np.arange(0, data.shape[0], dtype=np.float)\n",
    "az += (az[1] - az[0]) / 2.\n",
    "\n",
    "# mask data array for better presentation\n",
    "mask_ind = np.where(data <= np.nanmin(data))\n",
    "data[mask_ind] = np.nan\n",
    "ma = np.ma.array(data, mask=np.isnan(data))"
   ]
  },
  {
   "cell_type": "markdown",
   "metadata": {},
   "source": [
    "For this simple example, we do not need the returned axes. The plotting routine would be invoked like this:"
   ]
  },
  {
   "cell_type": "code",
   "execution_count": null,
   "metadata": {},
   "outputs": [],
   "source": [
    "fig = pl.figure(figsize=(10,8))\n",
    "ax, pm = wrl.vis.plot_ppi(ma, fig=fig, proj='cg')\n",
    "t = pl.title('Simple CG PPI')\n",
    "t.set_y(1.05)"
   ]
  },
  {
   "cell_type": "markdown",
   "metadata": {},
   "source": [
    "### Decorated CG PPI"
   ]
  },
  {
   "cell_type": "markdown",
   "metadata": {},
   "source": [
    "Now we will make use of some of the capabilities of this curvelinear axes.\n",
    "\n",
    "You see, that for labeling x- and y-axis the cartesian axis is used. The `azimuth` label\n",
    "is set via :func:`text`. Also a colorbar is easily added. The plotting routine would be invoked like this, adding range and azimuth arrays:"
   ]
  },
  {
   "cell_type": "code",
   "execution_count": null,
   "metadata": {},
   "outputs": [],
   "source": [
    "fig = pl.figure(figsize=(10,8))\n",
    "cgax, pm = wrl.vis.plot_ppi(ma, r=r, az=az, fig=fig, proj='cg')\n",
    "\n",
    "caax = cgax.parasites[0]\n",
    "t = pl.title('Decorated CG PPI')\n",
    "t.set_y(1.05)\n",
    "cbar = pl.gcf().colorbar(pm, pad=0.075)\n",
    "caax.set_xlabel('x_range [km]')\n",
    "caax.set_ylabel('y_range [km]')\n",
    "pl.text(1.0, 1.05, 'azimuth', transform=caax.transAxes, va='bottom', \n",
    "        ha='right')\n",
    "cbar.set_label('reflectivity [dBZ]')"
   ]
  },
  {
   "cell_type": "markdown",
   "metadata": {},
   "source": [
    "And, we will use `cg` keyword to set the starting value for the curvelinear grid. This is because data at the center of the image is obscured by the gridlines. We also adapt the `radial_spacing` to better align the two grids."
   ]
  },
  {
   "cell_type": "code",
   "execution_count": null,
   "metadata": {},
   "outputs": [],
   "source": [
    "cg={'radial_spacing': 14.,\n",
    "    'latmin': 10e3}\n",
    "fig = pl.figure(figsize=(10,8))\n",
    "cgax, pm = wrl.vis.plot_ppi(ma, r=r, az=az, fig=fig, proj='cg')\n",
    "caax = cgax.parasites[0]\n",
    "t = pl.title('Decorated CG PPI')\n",
    "t.set_y(1.05)\n",
    "cbar = pl.gcf().colorbar(pm, pad=0.075)\n",
    "caax.set_xlabel('x_range [km]')\n",
    "caax.set_ylabel('y_range [km]')\n",
    "pl.text(1.0, 1.05, 'azimuth', transform=caax.transAxes, va='bottom', \n",
    "        ha='right')\n",
    "cbar.set_label('reflectivity [dBZ]')"
   ]
  },
  {
   "cell_type": "markdown",
   "metadata": {},
   "source": [
    "### Sector CG PPI"
   ]
  },
  {
   "cell_type": "markdown",
   "metadata": {},
   "source": [
    "What if I want to plot only an interesting sector of the whole **PPI**? Not as easy, one might think. Note, that we can use `infer_intervals = True` here to get nice grid cell alignment.\n",
    "We also can generate a so called floating axis using the ``cgax`` now. Here we go:"
   ]
  },
  {
   "cell_type": "code",
   "execution_count": null,
   "metadata": {},
   "outputs": [],
   "source": [
    "cg={'angular_spacing': 20.}\n",
    "fig = pl.figure(figsize=(10,8))\n",
    "cgax, pm = wrl.vis.plot_ppi(ma[200:250, 40:80],\n",
    "                            r=r[40:80], az=az[200:250],\n",
    "                            fig=fig, proj=cg, rf=1e3, \n",
    "                            infer_intervals=True,\n",
    "                           )\n",
    "caax = cgax.parasites[0]\n",
    "t = pl.title('Decorated Sector CG PPI')\n",
    "t.set_y(1.05)\n",
    "cbar = pl.gcf().colorbar(pm, pad=0.075)\n",
    "caax.set_xlabel('x_range [km]')\n",
    "caax.set_ylabel('y_range [km]')\n",
    "pl.text(1.0, 1.05, 'azimuth', transform=caax.transAxes, va='bottom',\n",
    "        ha='right')\n",
    "cbar.set_label('reflectivity [dBZ]')\n",
    "\n",
    "# add floating axis\n",
    "cgax.axis[\"lat\"] = cgax.new_floating_axis(0, 240)\n",
    "cgax.axis[\"lat\"].set_ticklabel_direction('-')\n",
    "cgax.axis[\"lat\"].label.set_text(\"range [km]\")\n",
    "cgax.axis[\"lat\"].label.set_rotation(180)\n",
    "cgax.axis[\"lat\"].label.set_pad(10)"
   ]
  },
  {
   "cell_type": "markdown",
   "metadata": {},
   "source": [
    "### Special Markers"
   ]
  },
  {
   "cell_type": "markdown",
   "metadata": {},
   "source": [
    "One more good thing about curvelinear axes is that you can plot polar as well as cartesian data. However,\n",
    "you have to be careful, where to plot. Polar data has to be plottet to the parasite axis (``paax``). Cartesian\n",
    "data can be plottet to ``caax``, although you can also plot cartesian data to the main ``cgax``.\n",
    "\n",
    "Anyway, it is easy to overlay your polar data, with other station data (e.g. gauges).\n",
    "Taking the former sector example, we can plot some additional **stations**:"
   ]
  },
  {
   "cell_type": "code",
   "execution_count": null,
   "metadata": {},
   "outputs": [],
   "source": [
    "fig = pl.figure(figsize=(10,8))\n",
    "cg = {'angular_spacing': 20.}\n",
    "cgax, pm = wrl.vis.plot_ppi(ma[200:250, 40:80],\n",
    "                            r[40:80], az[200:250],\n",
    "                            fig=fig, proj=cg, infer_intervals=True)\n",
    "caax = cgax.parasites[0]\n",
    "paax = cgax.parasites[1]\n",
    "t = pl.title('Decorated Sector CG PPI')\n",
    "t.set_y(1.05)\n",
    "cbar = pl.gcf().colorbar(pm, pad=0.075)\n",
    "caax.set_xlabel('x_range [km]')\n",
    "caax.set_ylabel('y_range [km]')\n",
    "pl.text(1.0, 1.05, 'azimuth', transform=caax.transAxes, va='bottom',\n",
    "        ha='right')\n",
    "cbar.set_label('reflectivity [dBZ]')\n",
    "cgax.axis[\"lat\"] = cgax.new_floating_axis(0, 240)\n",
    "cgax.axis[\"lat\"].set_ticklabel_direction('-')\n",
    "cgax.axis[\"lat\"].label.set_text(\"range [km]\")\n",
    "cgax.axis[\"lat\"].label.set_rotation(180)\n",
    "cgax.axis[\"lat\"].label.set_pad(10)\n",
    "#plot on cartesian axis\n",
    "caax.plot(-60, -60, 'ro', label=\"caax\")\n",
    "caax.plot(-50, -70, 'ro')\n",
    "# plot on polar axis\n",
    "paax.plot(220, 90, 'bo', label=\"paax\")\n",
    "# plot on cg axis (same as on cartesian axis)\n",
    "cgax.plot(-50, -60, 'go', label=\"cgax\")\n",
    "# legend on main cg axis\n",
    "cgax.legend()"
   ]
  },
  {
   "cell_type": "markdown",
   "metadata": {},
   "source": [
    "### Special Specials"
   ]
  },
  {
   "cell_type": "markdown",
   "metadata": {},
   "source": [
    "But there is more to know, when using the curvelinear grids! As an example, you can get access to the underlying\n",
    "``cgax`` and ``grid_helper`` to change azimuth and range resolution as well as tick labels:"
   ]
  },
  {
   "cell_type": "code",
   "execution_count": null,
   "metadata": {},
   "outputs": [],
   "source": [
    "from mpl_toolkits.axisartist.grid_finder import FixedLocator, DictFormatter\n",
    "#cg = {'lon_cycle': 360.}\n",
    "cg = {'angular_spacing': 20.}\n",
    "fig = pl.figure(figsize=(10,8))\n",
    "cgax, pm = wrl.vis.plot_ppi(ma[200:250, 40:80],\n",
    "                            r[40:80], az[200:250], rf=1e3,\n",
    "                            fig=fig, proj=cg, infer_intervals=True)\n",
    "caax = cgax.parasites[0]\n",
    "t = pl.title('Decorated Sector CG PPI')\n",
    "t.set_y(1.05)\n",
    "cbar = pl.gcf().colorbar(pm, pad=0.075)\n",
    "caax.set_xlabel('x_range [km]')\n",
    "caax.set_ylabel('y_range [km]')\n",
    "pl.text(1.0, 1.05, 'azimuth', transform=caax.transAxes, va='bottom',\n",
    "        ha='right')\n",
    "cbar.set_label('reflectivity [dBZ]')\n",
    "gh = cgax.get_grid_helper()\n",
    "# set azimuth resolution to 15deg\n",
    "locs = [i for i in np.arange(0., 360., 5.)]\n",
    "gh.grid_finder.grid_locator1 = FixedLocator(locs)\n",
    "gh.grid_finder.tick_formatter1 = DictFormatter(dict([(i, r\"${0:.0f}^\\circ$\".format(i)) for i in locs]))\n",
    "gh.grid_finder.grid_locator2._nbins = 20\n",
    "gh.grid_finder.grid_locator2._steps = [1, 1.5, 2, 2.5, 5, 10]\n",
    "cgax.axis[\"lat\"] = cgax.new_floating_axis(0, 240)\n",
    "cgax.axis[\"lat\"].set_ticklabel_direction('-')\n",
    "cgax.axis[\"lat\"].label.set_text(\"range [km]\")\n",
    "cgax.axis[\"lat\"].label.set_rotation(180)\n",
    "cgax.axis[\"lat\"].label.set_pad(10)"
   ]
  },
  {
   "cell_type": "markdown",
   "metadata": {},
   "source": [
    "The use of ``FixedLocator`` and ``DictFormatter`` should be clear. The use of `_nbins` and ``_steps`` is\n",
    "a bit of head-twisting. With ``_steps`` you can set the possible divisions of the range. In connection with\n",
    "the ``_nbins`` the range grid is created depending on maximum range. In the above situation with ``_nbins``\n",
    "set to 10 we get an range grid resolution of 25 (divider 2.5). When setting steps to 20 we get a resolution\n",
    "of 15 (divider 1.5). Choosing 30 lead to resolution of 10 (divider 1/10). So it may be good to play around\n",
    "a bit, for wanted results."
   ]
  },
  {
   "cell_type": "markdown",
   "metadata": {},
   "source": [
    "As you might have noticed the cartesian grid remained the same and the azimuth labels are bit overplottet.\n",
    "But matplotlib would be not matplotlib if there would be no solution. First we take care of the labeling.\n",
    "We push the title a bit higher to get space and toggle the ``caax`` labels to right and top:\n",
    "\n",
    "```python\n",
    "    t = plt.title('Very Special Sector CG PPI')\n",
    "    t.set_y(1.1)\n",
    "    caax.toggle_axisline()\n",
    "```\n",
    "\n",
    "Then we **toggle** \"left\" and \"right\" and \"top\" and \"bottom\" axis behaviour. We also have to put the colorbar a bit to the side and alter the location of the azimuth label. And, not to forgot to adapt the ticklabels of the cartesian axes. With little effort we got a better (IMHO) representation."
   ]
  },
  {
   "cell_type": "code",
   "execution_count": null,
   "metadata": {},
   "outputs": [],
   "source": [
    "fig = pl.figure(figsize=(10,8))\n",
    "cg = {'angular_spacing': 20.}\n",
    "cgax, pm = wrl.vis.plot_ppi(ma[200:251, 40:81],\n",
    "                            r[40:81], az[200:251], rf=1e3,\n",
    "                            fig=fig, proj=cg, infer_intervals=True)\n",
    "caax = cgax.parasites[0]\n",
    "t = pl.title('Very Special Sector CG PPI')\n",
    "t.set_y(1.1)\n",
    "cbar = pl.gcf().colorbar(pm, pad=0.1)\n",
    "caax.set_xlabel('x_range [km]')\n",
    "caax.set_ylabel('y_range [km]')\n",
    "caax.toggle_axisline()\n",
    "\n",
    "# make ticklabels of right and top axis visible\n",
    "caax.axis[\"top\", \"right\"].set_visible(True)\n",
    "caax.axis[\"top\", \"right\"].major_ticklabels.set_visible(True)\n",
    "caax.grid(True)\n",
    "\n",
    "from matplotlib.ticker import MaxNLocator\n",
    "caax.xaxis.set_major_locator(MaxNLocator(15))\n",
    "caax.yaxis.set_major_locator(MaxNLocator(15))\n",
    "\n",
    "# make ticklabels of left and bottom axis visible,\n",
    "cgax.axis[\"left\"].major_ticklabels.set_visible(True)\n",
    "cgax.axis[\"bottom\"].major_ticklabels.set_visible(True)\n",
    "cgax.axis[\"left\"].get_helper().nth_coord_ticks = 0\n",
    "cgax.axis[\"bottom\"].get_helper().nth_coord_ticks = 0\n",
    "# and also set tickmarklength to zero for better presentation\n",
    "cgax.axis[\"right\"].major_ticks.set_ticksize(0)\n",
    "cgax.axis[\"top\"].major_ticks.set_ticksize(0)\n",
    "# make ticklabels of right and top axis unvisible,\n",
    "cgax.axis[\"right\"].major_ticklabels.set_visible(False)\n",
    "cgax.axis[\"top\"].major_ticklabels.set_visible(False)\n",
    "# and also set tickmarklength to zero for better presentation\n",
    "cgax.axis[\"right\"].major_ticks.set_ticksize(0)\n",
    "cgax.axis[\"top\"].major_ticks.set_ticksize(0)\n",
    "pl.text(0.025, -0.065, 'azimuth', transform=caax.transAxes, va='bottom',\n",
    "        ha='left')\n",
    "cbar.set_label('reflectivity [dBZ]')\n",
    "\n",
    "gh = cgax.get_grid_helper()\n",
    "# set azimuth resolution to 5deg\n",
    "locs = [i for i in np.arange(0., 360., 5.)]\n",
    "gh.grid_finder.grid_locator1 = FixedLocator(locs)\n",
    "gh.grid_finder.tick_formatter1 = DictFormatter(dict([(i, r\"${0:.0f}^\\circ$\".format(i)) for i in locs]))\n",
    "gh.grid_finder.grid_locator2._nbins = 30\n",
    "gh.grid_finder.grid_locator2._steps = [1, 1.5, 2, 2.5, 5, 10]\n",
    "cgax.axis[\"lat\"] = cgax.new_floating_axis(0, 240)\n",
    "cgax.axis[\"lat\"].set_ticklabel_direction('-')\n",
    "cgax.axis[\"lat\"].label.set_text(\"range [km]\")\n",
    "cgax.axis[\"lat\"].label.set_rotation(180)\n",
    "cgax.axis[\"lat\"].label.set_pad(10)"
   ]
  },
  {
   "cell_type": "markdown",
   "metadata": {},
   "source": [
    "## Plot CG RHI"
   ]
  },
  {
   "cell_type": "markdown",
   "metadata": {},
   "source": [
    "[wradlib.vis.plot_rhi()](https://docs.wradlib.org/en/latest/generated/wradlib.vis.plot_rhi.html) is used in this section.\n",
    "An CG RHI plot is a little different compared to an CG PPI plot. I covers only one quadrant and\n",
    "the data is plottet counterclockwise from \"east\" (3 o'clock) to \"north\" (12 o'clock).\n",
    "\n",
    "Everything else is much the same and you can do whatever you want as shown in the section [Plot CG PPI](#Plot-CG-PPI).\n",
    "\n",
    "So just a quick example of an cg rhi plot with some decorations. Note, the ``grid_locator1`` for the theta angles is overwritten and now the grid is much finer."
   ]
  },
  {
   "cell_type": "code",
   "execution_count": null,
   "metadata": {},
   "outputs": [],
   "source": [
    "from mpl_toolkits.axisartist.grid_finder import FixedLocator, DictFormatter\n",
    "# reading in GAMIC hdf5 file\n",
    "filename = wrl.util.get_wradlib_data_file('hdf5/2014-06-09--185000.rhi.mvol')\n",
    "data1, metadata = wrl.io.read_gamic_hdf5(filename)\n",
    "data1 = data1['SCAN0']['ZH']['data']\n",
    "r = metadata['SCAN0']['r']\n",
    "th = metadata['SCAN0']['el']\n",
    "az = metadata['SCAN0']['az']\n",
    "site = (metadata['VOL']['Longitude'], metadata['VOL']['Latitude'],\n",
    "        metadata['VOL']['Height'])\n",
    "# mask data array for better presentation\n",
    "mask_ind = np.where(data1 <= np.nanmin(data1))\n",
    "data1[mask_ind] = np.nan\n",
    "ma1 = np.ma.array(data1, mask=np.isnan(data1))"
   ]
  },
  {
   "cell_type": "code",
   "execution_count": null,
   "metadata": {},
   "outputs": [],
   "source": [
    "fig = pl.figure(figsize=(10,8))\n",
    "cgax, pm = wrl.vis.plot_rhi(ma1, r=r, th=th, rf=1e3, fig=fig, ax=111, proj='cg')\n",
    "\n",
    "caax = cgax.parasites[0]\n",
    "t = pl.title('Decorated CG RHI')\n",
    "t.set_y(1.05)\n",
    "cgax.set_ylim(0, 14)\n",
    "cbar = pl.gcf().colorbar(pm, pad=0.05)\n",
    "cbar.set_label('reflectivity [dBZ]')\n",
    "caax.set_xlabel('x_range [km]')\n",
    "caax.set_ylabel('y_range [km]')\n",
    "pl.text(1.0, 1.05, 'azimuth', transform=caax.transAxes, va='bottom',\n",
    "        ha='right')\n",
    "gh = cgax.get_grid_helper()\n",
    "\n",
    "# set theta to some nice values\n",
    "locs = [0., 1., 2., 3., 4., 5., 6., 7., 8., 9., 10., 11., 12., 13., 14.,\n",
    "                15., 16., 17., 18., 20., 22., 25., 30., 35.,  40., 50., 60., 70., 80., 90.]\n",
    "gh.grid_finder.grid_locator1 = FixedLocator(locs)\n",
    "gh.grid_finder.tick_formatter1 = DictFormatter(dict([(i, r\"${0:.0f}^\\circ$\".format(i)) for i in locs]))"
   ]
  },
  {
   "cell_type": "markdown",
   "metadata": {},
   "source": [
    "## Plotting on Grids"
   ]
  },
  {
   "cell_type": "markdown",
   "metadata": {},
   "source": [
    "There are serveral possibilities to plot multiple cg plots in one figure. Since both plotting routines\n",
    "are equipped with the same mechanisms it is concentrated mostly on **RHI** plots."
   ]
  },
  {
   "cell_type": "markdown",
   "metadata": {},
   "source": [
    "<div class=\"alert alert-info\">\n",
    "\n",
    "**Note** <br>\n",
    "\n",
    "Using the :func:`tight_layout` and :func:`subplots_adjust` functions most alignment problems can be avoided.\n",
    "\n",
    "</div>"
   ]
  },
  {
   "cell_type": "markdown",
   "metadata": {},
   "source": [
    "* [The Built-In Method](#The-Built-In-Method)\n",
    "* [The GridSpec Method](#The-GridSpec-Method)\n",
    "* [The AxesDivider Method](#The-AxesDivider-Method)"
   ]
  },
  {
   "cell_type": "markdown",
   "metadata": {},
   "source": [
    "### The Built-In Method"
   ]
  },
  {
   "cell_type": "markdown",
   "metadata": {},
   "source": [
    "Using the matplotlib grid definition for the parameter ``subplot``, we can easily plot two or more plots\n",
    "in one figure on a regular grid:"
   ]
  },
  {
   "cell_type": "code",
   "execution_count": null,
   "metadata": {},
   "outputs": [],
   "source": [
    "subplots = [221, 222, 223, 224]\n",
    "fig = pl.figure(figsize=(10,8))\n",
    "fig.subplots_adjust(wspace=0.2, hspace=0.35)\n",
    "for sp in subplots:\n",
    "    cgax, pm = wrl.vis.plot_rhi(ma1, r, th, rf=1e3, ax=sp, proj='cg')\n",
    "    caax.parasites=[0]\n",
    "    t = pl.title('CG RHI #%(sp)d' %locals())\n",
    "    t.set_y(1.1)\n",
    "    cgax.set_ylim(0, 15)\n",
    "    cbar = pl.gcf().colorbar(pm, pad=0.125)\n",
    "    caax.set_xlabel('range [km]')\n",
    "    caax.set_ylabel('height [km]')\n",
    "    gh = cgax.get_grid_helper()\n",
    "    # set theta to some nice values\n",
    "    locs = [0., 5., 10., 15., 20., 30., 40., 60., 90.]\n",
    "    gh.grid_finder.grid_locator1 = FixedLocator(locs)\n",
    "    gh.grid_finder.tick_formatter1 = DictFormatter(dict([(i, r\"${0:.0f}^\\circ$\".format(i)) for i in locs]))\n",
    "    cbar.set_label('reflectivity [dBZ]')"
   ]
  },
  {
   "cell_type": "markdown",
   "metadata": {},
   "source": [
    "### The GridSpec Method"
   ]
  },
  {
   "cell_type": "markdown",
   "metadata": {},
   "source": [
    "Here the abilities of [Matplotlib GridSpec](https://matplotlib.org/tutorials/intermediate/gridspec.html) are used.\n",
    "Now we can also plot on irregular grids. Just create your grid and take the GridSpec object as an input to the parameter ``ax`` as follows (some padding has to be adjusted to get a nice plot):"
   ]
  },
  {
   "cell_type": "code",
   "execution_count": null,
   "metadata": {},
   "outputs": [],
   "source": [
    "import matplotlib.gridspec as gridspec\n",
    "gs = gridspec.GridSpec(3, 3, hspace=0.75, wspace=0.4)\n",
    "subplots = [gs[0, :], gs[1, :-1], gs[1:, -1], gs[-1, 0], gs[-1, -2]]\n",
    "cbarpad = [0.05, 0.075, 0.2, 0.2, 0.2]\n",
    "labelpad = [1.25, 1.25, 1.1, 1.25, 1.25]\n",
    "fig = pl.figure(figsize=(10,8))\n",
    "for i, sp in enumerate(subplots):\n",
    "    cgax, pm = wrl.vis.plot_rhi(ma1, r, th, rf=1e3, ax=sp, proj='cg')\n",
    "    caax = cgax.parasites[0]\n",
    "    t = pl.title('CG RHI #%(i)d' %locals())\n",
    "    t.set_y(labelpad[i])\n",
    "    cgax.set_ylim(0, 15)\n",
    "    cbar = fig.colorbar(pm, pad=cbarpad[i])\n",
    "    caax.set_xlabel('range [km]')\n",
    "    caax.set_ylabel('height [km]')\n",
    "    gh = cgax.get_grid_helper()\n",
    "    # set theta to some nice values\n",
    "    locs = [0., 5., 10., 15., 20., 30., 40., 60., 90.]\n",
    "    gh.grid_finder.grid_locator1 = FixedLocator(locs)\n",
    "    gh.grid_finder.tick_formatter1 = DictFormatter(dict([(i, r\"${0:.0f}^\\circ$\".format(i)) for i in locs]))\n",
    "    cbar.set_label('reflectivity [dBZ]')"
   ]
  },
  {
   "cell_type": "markdown",
   "metadata": {},
   "source": [
    "### The AxesDivider Method"
   ]
  },
  {
   "cell_type": "markdown",
   "metadata": {},
   "source": [
    "Here the capabilities of [Matplotlib AxesGrid1](https://matplotlib.org/tutorials/toolkits/axes_grid.html) are used.\n",
    "\n",
    "We make a **PPI** now, it matches much better. Just plot your **PPI** data and create an axes divider:\n",
    "\n",
    "```python\n",
    "    from mpl_toolkits.axes_grid1 import make_axes_locatable\n",
    "    from matplotlib.ticker import NullFormatter, FuncFormatter, MaxNLocator\n",
    "    divider = make_axes_locatable(cgax)\n",
    "```\n",
    "\n",
    "Now you can easily append more axes to plot some other things, eg a maximum intensity projection:\n",
    "\n",
    "```python\n",
    "    axMipX = divider.append_axes(\"top\", size=1.2, pad=0.1, sharex=cgax))\n",
    "    axMipY = divider.append_axes(\"right\", size=1.2, pad=0.1, sharey=cgax))\n",
    "```"
   ]
  },
  {
   "cell_type": "markdown",
   "metadata": {},
   "source": [
    "OK, we have to create the mip data, we use the [wradlib.util.maximum_intensity_projection()](https://docs.wradlib.org/en/latest/generated/wradlib.util.maximum_intensity_projection.html):"
   ]
  },
  {
   "cell_type": "code",
   "execution_count": null,
   "metadata": {},
   "outputs": [],
   "source": [
    "# angle of *cut* through ppi and scan elev.\n",
    "angle = 0.0\n",
    "elev = 0.0\n",
    "\n",
    "filename = wrl.util.get_wradlib_data_file('misc/polar_dBZ_tur.gz')\n",
    "data2 = np.loadtxt(filename)\n",
    "# we need to have meter here for the georef function inside mip\n",
    "d1 = np.arange(data2.shape[1], dtype=np.float) * 1000\n",
    "d2 = np.arange(data2.shape[0], dtype=np.float)\n",
    "data2 = np.roll(data2, (d2 >= angle).nonzero()[0][0], axis=0)\n",
    "\n",
    "# calculate max intensity proj\n",
    "xs, ys, mip1 = wrl.util.maximum_intensity_projection(data2, r=d1, az=d2, angle=angle, elev=elev)\n",
    "xs, ys, mip2 = wrl.util.maximum_intensity_projection(data2, r=d1, az=d2, angle=90+angle, elev=elev)"
   ]
  },
  {
   "cell_type": "markdown",
   "metadata": {},
   "source": [
    "We also need a new formatter:"
   ]
  },
  {
   "cell_type": "code",
   "execution_count": null,
   "metadata": {},
   "outputs": [],
   "source": [
    "def mip_formatter(x, pos):\n",
    "    x = x / 1000.\n",
    "    fmt_str = '{:g}'.format(x)\n",
    "    if np.abs(x) > 0 and np.abs(x) < 1:\n",
    "        return fmt_str.replace(\"0\", \"\", 1)\n",
    "    else:\n",
    "        return fmt_str"
   ]
  },
  {
   "cell_type": "code",
   "execution_count": null,
   "metadata": {},
   "outputs": [],
   "source": [
    "from mpl_toolkits.axes_grid1 import make_axes_locatable\n",
    "from matplotlib.ticker import NullFormatter, FuncFormatter, MaxNLocator\n",
    "\n",
    "fig = pl.figure(figsize=(10,8))\n",
    "# normal cg plot\n",
    "cgax, pm = wrl.vis.plot_ppi(data2, r=d1, az=d2, fig=fig, proj={'latmin': 10000., \n",
    "                                                               'radial_spacing': 12})\n",
    "caax = cgax.parasites[0]\n",
    "cgax.set_xlim(-np.max(d1),np.max(d1))\n",
    "cgax.set_ylim(-np.max(d1),np.max(d1))\n",
    "caax.xaxis.set_major_formatter(FuncFormatter(mip_formatter))\n",
    "caax.yaxis.set_major_formatter(FuncFormatter(mip_formatter))\n",
    "caax.set_xlabel('x_range [km]')\n",
    "caax.set_ylabel('y_range [km]')\n",
    "\n",
    "# axes divider section\n",
    "divider = make_axes_locatable(cgax)\n",
    "axMipX = divider.append_axes(\"top\", size=1.2, pad=0.1, sharex=cgax)\n",
    "axMipY = divider.append_axes(\"right\", size=1.2, pad=0.1, sharey=cgax)\n",
    "\n",
    "# special handling for labels etc.\n",
    "cgax.axis[\"right\"].major_ticklabels.set_visible(False)\n",
    "cgax.axis[\"top\"].major_ticklabels.set_visible(False)\n",
    "axMipX.xaxis.set_major_formatter(NullFormatter())\n",
    "axMipX.yaxis.set_major_formatter(FuncFormatter(mip_formatter))\n",
    "axMipX.yaxis.set_major_locator(MaxNLocator(5))\n",
    "axMipY.yaxis.set_major_formatter(NullFormatter())\n",
    "axMipY.xaxis.set_major_formatter(FuncFormatter(mip_formatter))\n",
    "axMipY.xaxis.set_major_locator(MaxNLocator(5))\n",
    "\n",
    "# plot max intensity proj\n",
    "ma = np.ma.array(mip1, mask=np.isnan(mip1))\n",
    "axMipX.pcolormesh(xs, ys, ma)\n",
    "ma = np.ma.array(mip2, mask=np.isnan(mip2))\n",
    "axMipY.pcolormesh(ys.T, xs.T, ma.T)\n",
    "\n",
    "# set labels, limits etc\n",
    "axMipX.set_xlim(-np.max(d1),np.max(d1))\n",
    "er = 6370000. \n",
    "axMipX.set_ylim(0, wrl.georef.bin_altitude(d1[-2], elev, 0, re=er))\n",
    "axMipY.set_xlim(0, wrl.georef.bin_altitude(d1[-2], elev, 0, re=er))\n",
    "axMipY.set_ylim(-np.max(d1),np.max(d1))\n",
    "axMipX.set_ylabel('height [km]')\n",
    "axMipY.set_xlabel('height [km]')\n",
    "axMipX.grid(True)\n",
    "axMipY.grid(True)\n",
    "t = pl.gcf().suptitle('AxesDivider CG-MIP Example')\n",
    "t.set_y(0.925)"
   ]
  }
 ],
 "metadata": {
  "celltoolbar": "Edit Metadata",
  "kernelspec": {
   "display_name": "Python 3",
   "language": "python",
   "name": "python3"
  },
  "language_info": {
   "codemirror_mode": {
    "name": "ipython",
    "version": 3
   },
   "file_extension": ".py",
   "mimetype": "text/x-python",
   "name": "python",
   "nbconvert_exporter": "python",
   "pygments_lexer": "ipython3",
   "version": "3.7.3"
  },
  "toc": {
   "colors": {
    "hover_highlight": "#DAA520",
    "navigate_num": "#000000",
    "navigate_text": "#333333",
    "running_highlight": "#FF0000",
    "selected_highlight": "#FFD700",
    "sidebar_border": "#EEEEEE",
    "wrapper_background": "#FFFFFF"
   },
   "moveMenuLeft": true,
   "nav_menu": {
    "height": "291px",
    "width": "252px"
   },
   "navigate_menu": true,
   "number_sections": false,
   "sideBar": true,
   "threshold": 4,
   "toc_cell": false,
   "toc_section_display": "block",
   "toc_window_display": false,
   "widenNotebook": false
  }
 },
 "nbformat": 4,
 "nbformat_minor": 1
}
