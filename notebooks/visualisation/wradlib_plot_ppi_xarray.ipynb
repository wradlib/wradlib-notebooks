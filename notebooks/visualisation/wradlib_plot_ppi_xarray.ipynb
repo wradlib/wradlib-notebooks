{
 "cells": [
  {
   "cell_type": "markdown",
   "metadata": {
    "nbsphinx": "hidden",
    "slideshow": {
     "slide_type": "skip"
    }
   },
   "source": [
    "This notebook is part of the $\\omega radlib$ documentation: https://docs.wradlib.org.\n",
    "\n",
    "Copyright (c) $\\omega radlib$ developers.\n",
    "Distributed under the MIT License. See LICENSE.txt for more info."
   ]
  },
  {
   "cell_type": "markdown",
   "metadata": {
    "slideshow": {
     "slide_type": "slide"
    }
   },
   "source": [
    "# Plot data via xarray"
   ]
  },
  {
   "cell_type": "code",
   "execution_count": null,
   "metadata": {
    "slideshow": {
     "slide_type": "slide"
    }
   },
   "outputs": [],
   "source": [
    "import numpy as np\n",
    "import matplotlib.pyplot as pl\n",
    "import wradlib\n",
    "import warnings\n",
    "\n",
    "warnings.filterwarnings(\"ignore\")\n",
    "try:\n",
    "    get_ipython().magic(\"matplotlib inline\")\n",
    "except:\n",
    "    pl.ion()"
   ]
  },
  {
   "cell_type": "markdown",
   "metadata": {
    "slideshow": {
     "slide_type": "slide"
    }
   },
   "source": [
    "## Read a polar data set from the German Weather Service"
   ]
  },
  {
   "cell_type": "code",
   "execution_count": null,
   "metadata": {
    "slideshow": {
     "slide_type": "fragment"
    }
   },
   "outputs": [],
   "source": [
    "filename = wradlib.util.get_wradlib_data_file(\n",
    "    \"dx/raa00-dx_10908-0806021735-fbg---bin.gz\"\n",
    ")\n",
    "print(filename)"
   ]
  },
  {
   "cell_type": "code",
   "execution_count": null,
   "metadata": {
    "slideshow": {
     "slide_type": "fragment"
    }
   },
   "outputs": [],
   "source": [
    "img, meta = wradlib.io.read_dx(filename)"
   ]
  },
  {
   "cell_type": "markdown",
   "metadata": {
    "slideshow": {
     "slide_type": "fragment"
    }
   },
   "source": [
    "Inspect the data set a little"
   ]
  },
  {
   "cell_type": "code",
   "execution_count": null,
   "metadata": {
    "slideshow": {
     "slide_type": "fragment"
    }
   },
   "outputs": [],
   "source": [
    "print(\"Shape of polar array: %r\\n\" % (img.shape,))\n",
    "print(\"Some meta data of the DX file:\")\n",
    "print(\"\\tdatetime: %r\" % (meta[\"datetime\"],))\n",
    "print(\"\\tRadar ID: %s\" % (meta[\"radarid\"],))"
   ]
  },
  {
   "cell_type": "markdown",
   "metadata": {},
   "source": [
    "## transform to xarray DataArray"
   ]
  },
  {
   "cell_type": "code",
   "execution_count": null,
   "metadata": {},
   "outputs": [],
   "source": [
    "r = np.arange(img.shape[1], dtype=np.float)\n",
    "r += (r[1] - r[0]) / 2.0\n",
    "az = meta[\"azim\"]\n",
    "az += (az[1] - az[0]) / 2.0\n",
    "da = wradlib.georef.create_xarray_dataarray(img, r=r, phi=az, theta=meta[\"elev\"])\n",
    "da = wradlib.georef.georeference_dataset(da)"
   ]
  },
  {
   "cell_type": "code",
   "execution_count": null,
   "metadata": {},
   "outputs": [],
   "source": [
    "da"
   ]
  },
  {
   "cell_type": "markdown",
   "metadata": {
    "slideshow": {
     "slide_type": "slide"
    }
   },
   "source": [
    "## The simplest way to plot this dataset\n",
    "\n",
    "Use the `wradlib` xarray DataArray Accessor"
   ]
  },
  {
   "cell_type": "code",
   "execution_count": null,
   "metadata": {
    "slideshow": {
     "slide_type": "fragment"
    }
   },
   "outputs": [],
   "source": [
    "pm = da.wradlib.plot_ppi()\n",
    "txt = pl.title(\"Simple PPI\")"
   ]
  },
  {
   "cell_type": "code",
   "execution_count": null,
   "metadata": {},
   "outputs": [],
   "source": [
    "pm = da.wradlib.contourf()\n",
    "txt = pl.title(\"Simple Filled Contour PPI\")"
   ]
  },
  {
   "cell_type": "code",
   "execution_count": null,
   "metadata": {},
   "outputs": [],
   "source": [
    "pm = da.wradlib.contour()\n",
    "txt = pl.title(\"Simple Contour PPI\")"
   ]
  },
  {
   "cell_type": "code",
   "execution_count": null,
   "metadata": {},
   "outputs": [],
   "source": [
    "da = wradlib.georef.create_xarray_dataarray(img, r=r, phi=az, theta=meta[\"elev\"])\n",
    "da = wradlib.georef.georeference_dataset(da)\n",
    "pm = da.wradlib.contour(proj=\"cg\")\n",
    "txt = pl.title(\"Simple CG Contour PPI\", y=1.05)"
   ]
  },
  {
   "cell_type": "markdown",
   "metadata": {},
   "source": [
    "## create DataArray with proper azimuth/range dimensions\n",
    "\n",
    "Using ranges in meters and correct site-location in (lon, lat, alt)"
   ]
  },
  {
   "cell_type": "code",
   "execution_count": null,
   "metadata": {},
   "outputs": [],
   "source": [
    "r = np.arange(img.shape[1], dtype=np.float) * 1000.0\n",
    "r += (r[1] - r[0]) / 2.0\n",
    "az = meta[\"azim\"]\n",
    "az += (az[1] - az[0]) / 2.0\n",
    "\n",
    "da = wradlib.georef.create_xarray_dataarray(\n",
    "    img, phi=az, r=r, theta=meta[\"elev\"], site=(10, 45, 0)\n",
    ")\n",
    "da = wradlib.georef.georeference_dataset(da)\n",
    "\n",
    "pm = da.wradlib.plot_ppi()\n",
    "txt = pl.title(\"Simple PPI\")"
   ]
  },
  {
   "cell_type": "code",
   "execution_count": null,
   "metadata": {},
   "outputs": [],
   "source": [
    "da = wradlib.georef.create_xarray_dataarray(\n",
    "    img, phi=az, r=r, theta=meta[\"elev\"], site=(10, 45, 0), rf=1e3\n",
    ")\n",
    "da = wradlib.georef.georeference_dataset(da)\n",
    "\n",
    "pm = da.wradlib.plot_ppi()\n",
    "txt = pl.title(\"Simple PPI with adjusted range axis\")"
   ]
  },
  {
   "cell_type": "code",
   "execution_count": null,
   "metadata": {},
   "outputs": [],
   "source": [
    "da = wradlib.georef.create_xarray_dataarray(\n",
    "    img,\n",
    "    phi=az,\n",
    "    r=r,\n",
    "    theta=meta[\"elev\"],\n",
    "    proj=wradlib.georef.get_default_projection(),\n",
    "    site=(10, 45, 0),\n",
    ")\n",
    "da = wradlib.georef.georeference_dataset(da)\n",
    "pm = da.wradlib.plot_ppi()\n",
    "txt = pl.title(\"Simple projected PPI (WGS84)\")"
   ]
  },
  {
   "cell_type": "markdown",
   "metadata": {
    "slideshow": {
     "slide_type": "slide"
    }
   },
   "source": [
    "## Plotting just one sector"
   ]
  },
  {
   "cell_type": "markdown",
   "metadata": {
    "slideshow": {
     "slide_type": "fragment"
    }
   },
   "source": [
    "For this purpose, we slice azimuth/range..."
   ]
  },
  {
   "cell_type": "code",
   "execution_count": null,
   "metadata": {},
   "outputs": [],
   "source": [
    "da = wradlib.georef.create_xarray_dataarray(\n",
    "    img, phi=az, r=r, theta=meta[\"elev\"], rf=1e3\n",
    ")\n",
    "da = wradlib.georef.georeference_dataset(da)\n",
    "da_sel = da.sel(azimuth=slice(200, 250), range=slice(40, 80))\n",
    "pm = da_sel.wradlib.plot_ppi()\n",
    "txt = pl.title(\"Sector PPI\")"
   ]
  },
  {
   "cell_type": "markdown",
   "metadata": {
    "slideshow": {
     "slide_type": "slide"
    }
   },
   "source": [
    "## Adding a crosshair to the PPI "
   ]
  },
  {
   "cell_type": "code",
   "execution_count": null,
   "metadata": {
    "slideshow": {
     "slide_type": "fragment"
    }
   },
   "outputs": [],
   "source": [
    "# We introduce a site offset...\n",
    "site = (10.0, 45.0, 0)\n",
    "r = np.arange(img.shape[1], dtype=np.float)\n",
    "r += (r[1] - r[0]) / 2.0\n",
    "r *= 1000\n",
    "az = np.arange(img.shape[0], dtype=np.float)\n",
    "az += (az[1] - az[0]) / 2.0\n",
    "da = wradlib.georef.create_xarray_dataarray(\n",
    "    img, phi=az, r=r, theta=meta[\"elev\"], site=(10, 45, 0)\n",
    ")\n",
    "da = wradlib.georef.georeference_dataset(da)\n",
    "da.wradlib.plot_ppi()\n",
    "# ... plot a crosshair over our data...\n",
    "wradlib.vis.plot_ppi_crosshair(\n",
    "    site=site,\n",
    "    ranges=[50e3, 100e3, 128e3],\n",
    "    angles=[0, 90, 180, 270],\n",
    "    line=dict(color=\"white\"),\n",
    "    circle={\"edgecolor\": \"white\"},\n",
    ")\n",
    "pl.title(\"Offset and Custom Crosshair\")\n",
    "pl.axis(\"tight\")\n",
    "pl.axes().set_aspect(\"equal\")"
   ]
  },
  {
   "cell_type": "markdown",
   "metadata": {
    "slideshow": {
     "slide_type": "slide"
    }
   },
   "source": [
    "## Placing the polar data in a projected Cartesian reference system"
   ]
  },
  {
   "cell_type": "markdown",
   "metadata": {
    "slideshow": {
     "slide_type": "fragment"
    }
   },
   "source": [
    "Using the `proj` keyword we tell the function to:\n",
    "- interpret the site coordinates as longitude/latitude\n",
    "- reproject the coordinates to the given projection (here: dwd-radolan composite coordinate system)"
   ]
  },
  {
   "cell_type": "code",
   "execution_count": null,
   "metadata": {
    "slideshow": {
     "slide_type": "slide"
    }
   },
   "outputs": [],
   "source": [
    "site = (10.0, 45.0, 0)\n",
    "r = np.arange(img.shape[1], dtype=np.float)\n",
    "r += (r[1] - r[0]) / 2.0\n",
    "r *= 1000\n",
    "az = np.arange(img.shape[0], dtype=np.float)\n",
    "az += (az[1] - az[0]) / 2.0\n",
    "proj_rad = wradlib.georef.create_osr(\"dwd-radolan\")\n",
    "da = wradlib.georef.create_xarray_dataarray(\n",
    "    img, phi=az, r=r, theta=meta[\"elev\"], site=site\n",
    ")\n",
    "da = wradlib.georef.georeference_dataset(da, proj=proj_rad)\n",
    "pm = da.wradlib.plot_ppi()\n",
    "ax = pl.gca()\n",
    "# Now the crosshair ranges must be given in meters\n",
    "wradlib.vis.plot_ppi_crosshair(\n",
    "    site=site,\n",
    "    ax=ax,\n",
    "    ranges=[40e3, 80e3, 128e3],\n",
    "    line=dict(color=\"white\"),\n",
    "    circle={\"edgecolor\": \"white\"},\n",
    "    proj=proj_rad,\n",
    ")\n",
    "pl.title(\"Georeferenced/Projected PPI\")\n",
    "pl.axis(\"tight\")\n",
    "pl.axes().set_aspect(\"equal\")"
   ]
  },
  {
   "cell_type": "markdown",
   "metadata": {
    "slideshow": {
     "slide_type": "slide"
    }
   },
   "source": [
    "## Some side effects of georeferencing"
   ]
  },
  {
   "cell_type": "markdown",
   "metadata": {
    "slideshow": {
     "slide_type": "skip"
    }
   },
   "source": [
    "Transplanting the radar virtually moves it away from the central meridian of the projection (which is 10 degrees east). Due north now does not point straight upwards on the map.\n",
    "\n",
    "The crosshair shows this: for the case that the lines should actually become curved, they are implemented as a piecewise linear curve with 10 vertices. The same is true for the range circles, but with more vertices, of course."
   ]
  },
  {
   "cell_type": "code",
   "execution_count": null,
   "metadata": {
    "slideshow": {
     "slide_type": "fragment"
    }
   },
   "outputs": [],
   "source": [
    "site = (45.0, 7.0, 0.0)\n",
    "r = np.arange(img.shape[1], dtype=np.float) * 1000.0\n",
    "r += (r[1] - r[0]) / 2.0\n",
    "az = np.arange(img.shape[0], dtype=np.float)\n",
    "az += (az[1] - az[0]) / 2.0\n",
    "da = wradlib.georef.create_xarray_dataarray(\n",
    "    img, phi=az, r=r, theta=meta[\"elev\"], site=site\n",
    ")\n",
    "da = wradlib.georef.georeference_dataset(da, proj=proj_rad)\n",
    "pm = da.wradlib.plot_ppi()\n",
    "\n",
    "ax = wradlib.vis.plot_ppi_crosshair(\n",
    "    site=site,\n",
    "    ranges=[64e3, 128e3],\n",
    "    line=dict(color=\"red\"),\n",
    "    circle={\"edgecolor\": \"red\"},\n",
    "    proj=proj_rad,\n",
    ")\n",
    "txt = pl.title(\"Projection Side Effects\")"
   ]
  },
  {
   "cell_type": "markdown",
   "metadata": {},
   "source": [
    "## Simple Plot on Mercator-Map using cartopy "
   ]
  },
  {
   "cell_type": "code",
   "execution_count": null,
   "metadata": {},
   "outputs": [],
   "source": [
    "import cartopy.crs as ccrs\n",
    "\n",
    "ccrs\n",
    "site = (7, 45, 0.0)\n",
    "map_proj = ccrs.Mercator(central_longitude=site[1])"
   ]
  },
  {
   "cell_type": "code",
   "execution_count": null,
   "metadata": {},
   "outputs": [],
   "source": [
    "r = np.arange(img.shape[1], dtype=np.float) * 1000.0\n",
    "r += (r[1] - r[0]) / 2.0\n",
    "az = np.arange(img.shape[0], dtype=np.float)\n",
    "az += (az[1] - az[0]) / 2.0\n",
    "da = wradlib.georef.create_xarray_dataarray(\n",
    "    img, phi=az, r=r, theta=meta[\"elev\"], site=site\n",
    ")\n",
    "da = wradlib.georef.georeference_dataset(da)\n",
    "fig = pl.figure(figsize=(10, 10))\n",
    "pm = da.wradlib.plot_ppi(proj=map_proj, fig=fig)\n",
    "ax = pl.gca()\n",
    "ax.gridlines(draw_labels=True)"
   ]
  },
  {
   "cell_type": "markdown",
   "metadata": {
    "slideshow": {
     "slide_type": "slide"
    }
   },
   "source": [
    "## More decorations and annotations"
   ]
  },
  {
   "cell_type": "markdown",
   "metadata": {
    "slideshow": {
     "slide_type": "fragment"
    }
   },
   "source": [
    "You can annotate these plots by using standard matplotlib methods."
   ]
  },
  {
   "cell_type": "code",
   "execution_count": null,
   "metadata": {
    "slideshow": {
     "slide_type": "fragment"
    }
   },
   "outputs": [],
   "source": [
    "r = np.arange(img.shape[1], dtype=np.float)\n",
    "r += (r[1] - r[0]) / 2.0\n",
    "az = np.arange(img.shape[0], dtype=np.float)\n",
    "az += (az[1] - az[0]) / 2.0\n",
    "\n",
    "da = wradlib.georef.create_xarray_dataarray(img, phi=az, r=r, theta=meta[\"elev\"])\n",
    "da = wradlib.georef.georeference_dataset(da)\n",
    "pm = da.wradlib.plot_ppi()\n",
    "ax = pl.gca()\n",
    "ylabel = ax.set_xlabel(\"easting [km]\")\n",
    "ylabel = ax.set_ylabel(\"northing [km]\")\n",
    "title = ax.set_title(\"PPI manipulations/colorbar\")\n",
    "# you can now also zoom - either programmatically or interactively\n",
    "xlim = ax.set_xlim(-80, -20)\n",
    "ylim = ax.set_ylim(-80, 0)\n",
    "# as the function returns the axes- and 'mappable'-objects colorbar needs, adding a colorbar is easy\n",
    "cb = pl.colorbar(pm, ax=ax)"
   ]
  }
 ],
 "metadata": {
  "celltoolbar": "Slideshow",
  "language_info": {
   "codemirror_mode": {
    "name": "ipython",
    "version": 3
   },
   "file_extension": ".py",
   "mimetype": "text/x-python",
   "name": "python",
   "nbconvert_exporter": "python",
   "pygments_lexer": "ipython3",
   "version": "3.7.8"
  },
  "livereveal": {
   "scroll": true
  },
  "toc": {
   "colors": {
    "hover_highlight": "#DAA520",
    "navigate_num": "#000000",
    "navigate_text": "#333333",
    "running_highlight": "#FF0000",
    "selected_highlight": "#FFD700",
    "sidebar_border": "#EEEEEE",
    "wrapper_background": "#FFFFFF"
   },
   "moveMenuLeft": true,
   "nav_menu": {
    "height": "177px",
    "width": "252px"
   },
   "navigate_menu": true,
   "number_sections": false,
   "sideBar": true,
   "threshold": 4,
   "toc_cell": false,
   "toc_section_display": "block",
   "toc_window_display": false,
   "widenNotebook": false
  }
 },
 "nbformat": 4,
 "nbformat_minor": 1
}
