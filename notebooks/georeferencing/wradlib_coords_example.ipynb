{
 "cells": [
  {
   "cell_type": "markdown",
   "metadata": {
    "nbsphinx": "hidden"
   },
   "source": [
    "This notebook is part of the $\\omega radlib$ documentation: https://docs.wradlib.org.\n",
    "\n",
    "Copyright (c) $\\omega radlib$ developers.\n",
    "Distributed under the MIT License. See LICENSE.txt for more info."
   ]
  },
  {
   "cell_type": "markdown",
   "metadata": {},
   "source": [
    "# Computing cartesian and geographical coordinates for polar data"
   ]
  },
  {
   "cell_type": "code",
   "execution_count": 1,
   "metadata": {
    "execution": {
     "iopub.execute_input": "2021-11-14T11:13:05.666685Z",
     "iopub.status.busy": "2021-11-14T11:13:05.662278Z",
     "iopub.status.idle": "2021-11-14T11:13:07.133085Z",
     "shell.execute_reply": "2021-11-14T11:13:07.132238Z"
    }
   },
   "outputs": [],
   "source": [
    "import numpy as np\n",
    "import wradlib.georef as georef\n",
    "import wradlib.io as io\n",
    "import wradlib.util as util\n",
    "import warnings\n",
    "warnings.filterwarnings('ignore')"
   ]
  },
  {
   "cell_type": "markdown",
   "metadata": {},
   "source": [
    "## Read the data\n",
    "\n",
    "Here, we use an OPERA hdf5 dataset."
   ]
  },
  {
   "cell_type": "code",
   "execution_count": 2,
   "metadata": {
    "execution": {
     "iopub.execute_input": "2021-11-14T11:13:07.138838Z",
     "iopub.status.busy": "2021-11-14T11:13:07.138312Z",
     "iopub.status.idle": "2021-11-14T11:13:07.239404Z",
     "shell.execute_reply": "2021-11-14T11:13:07.240114Z"
    }
   },
   "outputs": [],
   "source": [
    "filename = 'hdf5/20130429043000.rad.bewid.pvol.dbzh.scan1.hdf'\n",
    "filename = util.get_wradlib_data_file(filename)\n",
    "pvol = io.read_opera_hdf5(filename)"
   ]
  },
  {
   "cell_type": "markdown",
   "metadata": {},
   "source": [
    "## Count the number of datasets"
   ]
  },
  {
   "cell_type": "code",
   "execution_count": 3,
   "metadata": {
    "execution": {
     "iopub.execute_input": "2021-11-14T11:13:07.243299Z",
     "iopub.status.busy": "2021-11-14T11:13:07.242371Z",
     "iopub.status.idle": "2021-11-14T11:13:07.247118Z",
     "shell.execute_reply": "2021-11-14T11:13:07.248024Z"
    }
   },
   "outputs": [],
   "source": [
    "ntilt = 1\n",
    "for i in range(100):\n",
    "    try:\n",
    "        pvol[\"dataset%d/what\" % ntilt]\n",
    "        ntilt += 1\n",
    "    except Exception:\n",
    "        ntilt -= 1\n",
    "        break"
   ]
  },
  {
   "cell_type": "markdown",
   "metadata": {},
   "source": [
    "## Define radar location and scan geometry"
   ]
  },
  {
   "cell_type": "code",
   "execution_count": 4,
   "metadata": {
    "execution": {
     "iopub.execute_input": "2021-11-14T11:13:07.251154Z",
     "iopub.status.busy": "2021-11-14T11:13:07.250165Z",
     "iopub.status.idle": "2021-11-14T11:13:07.296383Z",
     "shell.execute_reply": "2021-11-14T11:13:07.297294Z"
    }
   },
   "outputs": [
    {
     "name": "stdout",
     "output_type": "stream",
     "text": [
      "(5, 360, 960, 3)\n"
     ]
    }
   ],
   "source": [
    "nrays = int(pvol[\"dataset1/where\"][\"nrays\"])\n",
    "nbins = int(pvol[\"dataset1/where\"][\"nbins\"])\n",
    "rscale = int(pvol[\"dataset1/where\"][\"rscale\"])\n",
    "coord = np.empty((ntilt, nrays, nbins, 3))\n",
    "for t in range(ntilt):\n",
    "    elangle = pvol[\"dataset%d/where\" % (t + 1)][\"elangle\"]\n",
    "    coord[t, ...] = georef.sweep_centroids(nrays, rscale, nbins, elangle)\n",
    "sitecoords = (pvol[\"where\"][\"lon\"], pvol[\"where\"][\"lat\"],\n",
    "              pvol[\"where\"][\"height\"])\n",
    "print(coord.shape)"
   ]
  },
  {
   "cell_type": "markdown",
   "metadata": {},
   "source": [
    "## Retrieve azimuthal equidistant coordinates and projection"
   ]
  },
  {
   "cell_type": "code",
   "execution_count": 5,
   "metadata": {
    "execution": {
     "iopub.execute_input": "2021-11-14T11:13:07.300928Z",
     "iopub.status.busy": "2021-11-14T11:13:07.299994Z",
     "iopub.status.idle": "2021-11-14T11:13:07.530038Z",
     "shell.execute_reply": "2021-11-14T11:13:07.530765Z"
    }
   },
   "outputs": [
    {
     "name": "stdout",
     "output_type": "stream",
     "text": [
      "[1.24984800e+02 1.51230048e+04 3.01206529e+04 4.51178353e+04\n",
      " 6.01144584e+04 7.51104287e+04 9.01056525e+04 1.05100036e+05\n",
      " 1.20093487e+05 1.35085910e+05 1.50077213e+05 1.65067302e+05\n",
      " 1.80056083e+05 1.95043465e+05 2.10029352e+05 2.25013652e+05]\n"
     ]
    }
   ],
   "source": [
    "coords, proj_radar = georef.spherical_to_xyz(coord[..., 0],\n",
    "                                             coord[..., 1],\n",
    "                                             coord[..., 2], sitecoords,\n",
    "                                             squeeze=True)\n",
    "test = coords[0, 90, 0:960:60, 0]\n",
    "print(test)"
   ]
  },
  {
   "cell_type": "markdown",
   "metadata": {},
   "source": [
    "## Retrieve geographic coordinates (longitude and latitude)"
   ]
  },
  {
   "cell_type": "markdown",
   "metadata": {},
   "source": [
    "### Using convenience function *spherical_to_proj*."
   ]
  },
  {
   "cell_type": "code",
   "execution_count": 6,
   "metadata": {
    "execution": {
     "iopub.execute_input": "2021-11-14T11:13:07.534230Z",
     "iopub.status.busy": "2021-11-14T11:13:07.533344Z",
     "iopub.status.idle": "2021-11-14T11:13:10.622391Z",
     "shell.execute_reply": "2021-11-14T11:13:10.623080Z"
    }
   },
   "outputs": [
    {
     "name": "stdout",
     "output_type": "stream",
     "text": [
      "[5.50734017 5.71615328 5.92494778 6.13371911 6.34246274 6.55117413\n",
      " 6.75984874 6.96848204 7.17706951 7.38560664 7.5940889  7.8025118\n",
      " 8.01087084 8.21916154 8.42737941 8.63552   ]\n"
     ]
    }
   ],
   "source": [
    "lonlatalt = georef.spherical_to_proj(coord[..., 0],\n",
    "                                     coord[..., 1],\n",
    "                                     coord[..., 2], sitecoords)\n",
    "test = lonlatalt[0, 90, 0:960:60, 0]\n",
    "print(test)"
   ]
  },
  {
   "cell_type": "markdown",
   "metadata": {},
   "source": [
    "### Using reproject"
   ]
  },
  {
   "cell_type": "code",
   "execution_count": 7,
   "metadata": {
    "execution": {
     "iopub.execute_input": "2021-11-14T11:13:10.626657Z",
     "iopub.status.busy": "2021-11-14T11:13:10.625643Z",
     "iopub.status.idle": "2021-11-14T11:13:13.549439Z",
     "shell.execute_reply": "2021-11-14T11:13:13.550236Z"
    }
   },
   "outputs": [
    {
     "name": "stdout",
     "output_type": "stream",
     "text": [
      "[5.50734017 5.71615328 5.92494778 6.13371911 6.34246274 6.55117413\n",
      " 6.75984874 6.96848204 7.17706951 7.38560664 7.5940889  7.8025118\n",
      " 8.01087084 8.21916154 8.42737941 8.63552   ]\n"
     ]
    }
   ],
   "source": [
    "lonlatalt1 = georef.reproject(coords, projection_source=proj_radar,\n",
    "                             projection_target=georef.get_default_projection())\n",
    "\n",
    "test = lonlatalt1[0, 90, 0:960:60, 0]\n",
    "print(test)"
   ]
  }
 ],
 "metadata": {
  "language_info": {
   "codemirror_mode": {
    "name": "ipython",
    "version": 3
   },
   "file_extension": ".py",
   "mimetype": "text/x-python",
   "name": "python",
   "nbconvert_exporter": "python",
   "pygments_lexer": "ipython3",
   "version": "3.9.7"
  },
  "toc": {
   "colors": {
    "hover_highlight": "#DAA520",
    "navigate_num": "#000000",
    "navigate_text": "#333333",
    "running_highlight": "#FF0000",
    "selected_highlight": "#FFD700",
    "sidebar_border": "#EEEEEE",
    "wrapper_background": "#FFFFFF"
   },
   "moveMenuLeft": true,
   "nav_menu": {
    "height": "177px",
    "width": "252px"
   },
   "navigate_menu": true,
   "number_sections": false,
   "sideBar": true,
   "threshold": 4,
   "toc_cell": false,
   "toc_section_display": "block",
   "toc_window_display": false,
   "widenNotebook": false
  }
 },
 "nbformat": 4,
 "nbformat_minor": 1
}
