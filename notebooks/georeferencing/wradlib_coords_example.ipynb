{
 "cells": [
  {
   "cell_type": "markdown",
   "metadata": {
    "nbsphinx": "hidden"
   },
   "source": [
    "This notebook is part of the $\\omega radlib$ documentation: https://docs.wradlib.org.\n",
    "\n",
    "Copyright (c) $\\omega radlib$ developers.\n",
    "Distributed under the MIT License. See LICENSE.txt for more info."
   ]
  },
  {
   "cell_type": "markdown",
   "metadata": {},
   "source": [
    "# Computing cartesian and geographical coordinates for polar data"
   ]
  },
  {
   "cell_type": "code",
   "execution_count": 1,
   "metadata": {
    "execution": {
     "iopub.execute_input": "2022-10-20T06:28:58.845789Z",
     "iopub.status.busy": "2022-10-20T06:28:58.845279Z",
     "iopub.status.idle": "2022-10-20T06:29:00.996408Z",
     "shell.execute_reply": "2022-10-20T06:29:00.995696Z"
    }
   },
   "outputs": [
    {
     "name": "stderr",
     "output_type": "stream",
     "text": [
      "/home/runner/micromamba-root/envs/wradlib-notebooks/lib/python3.10/site-packages/tqdm/auto.py:22: TqdmWarning: IProgress not found. Please update jupyter and ipywidgets. See https://ipywidgets.readthedocs.io/en/stable/user_install.html\n",
      "  from .autonotebook import tqdm as notebook_tqdm\n"
     ]
    }
   ],
   "source": [
    "import numpy as np\n",
    "import wradlib.georef as georef\n",
    "import wradlib.io as io\n",
    "import wradlib.util as util\n",
    "import warnings\n",
    "\n",
    "warnings.filterwarnings(\"ignore\")"
   ]
  },
  {
   "cell_type": "markdown",
   "metadata": {},
   "source": [
    "## Read the data\n",
    "\n",
    "Here, we use an OPERA hdf5 dataset."
   ]
  },
  {
   "cell_type": "code",
   "execution_count": 2,
   "metadata": {
    "execution": {
     "iopub.execute_input": "2022-10-20T06:29:01.002191Z",
     "iopub.status.busy": "2022-10-20T06:29:01.000885Z",
     "iopub.status.idle": "2022-10-20T06:29:01.085336Z",
     "shell.execute_reply": "2022-10-20T06:29:01.084634Z"
    }
   },
   "outputs": [],
   "source": [
    "filename = \"hdf5/20130429043000.rad.bewid.pvol.dbzh.scan1.hdf\"\n",
    "filename = util.get_wradlib_data_file(filename)\n",
    "pvol = io.read_opera_hdf5(filename)"
   ]
  },
  {
   "cell_type": "markdown",
   "metadata": {},
   "source": [
    "## Count the number of datasets"
   ]
  },
  {
   "cell_type": "code",
   "execution_count": 3,
   "metadata": {
    "execution": {
     "iopub.execute_input": "2022-10-20T06:29:01.090979Z",
     "iopub.status.busy": "2022-10-20T06:29:01.089664Z",
     "iopub.status.idle": "2022-10-20T06:29:01.095176Z",
     "shell.execute_reply": "2022-10-20T06:29:01.094545Z"
    }
   },
   "outputs": [],
   "source": [
    "ntilt = 1\n",
    "for i in range(100):\n",
    "    try:\n",
    "        pvol[\"dataset%d/what\" % ntilt]\n",
    "        ntilt += 1\n",
    "    except Exception:\n",
    "        ntilt -= 1\n",
    "        break"
   ]
  },
  {
   "cell_type": "markdown",
   "metadata": {},
   "source": [
    "## Define radar location and scan geometry"
   ]
  },
  {
   "cell_type": "code",
   "execution_count": 4,
   "metadata": {
    "execution": {
     "iopub.execute_input": "2022-10-20T06:29:01.100460Z",
     "iopub.status.busy": "2022-10-20T06:29:01.099164Z",
     "iopub.status.idle": "2022-10-20T06:29:01.184947Z",
     "shell.execute_reply": "2022-10-20T06:29:01.184252Z"
    }
   },
   "outputs": [
    {
     "name": "stdout",
     "output_type": "stream",
     "text": [
      "(5, 360, 960, 3)\n"
     ]
    }
   ],
   "source": [
    "nrays = int(pvol[\"dataset1/where\"][\"nrays\"])\n",
    "nbins = int(pvol[\"dataset1/where\"][\"nbins\"])\n",
    "rscale = int(pvol[\"dataset1/where\"][\"rscale\"])\n",
    "coord = np.empty((ntilt, nrays, nbins, 3))\n",
    "for t in range(ntilt):\n",
    "    elangle = pvol[\"dataset%d/where\" % (t + 1)][\"elangle\"]\n",
    "    coord[t, ...] = georef.sweep_centroids(nrays, rscale, nbins, elangle)\n",
    "sitecoords = (pvol[\"where\"][\"lon\"], pvol[\"where\"][\"lat\"], pvol[\"where\"][\"height\"])\n",
    "print(coord.shape)"
   ]
  },
  {
   "cell_type": "markdown",
   "metadata": {},
   "source": [
    "## Retrieve azimuthal equidistant coordinates and projection"
   ]
  },
  {
   "cell_type": "code",
   "execution_count": 5,
   "metadata": {
    "execution": {
     "iopub.execute_input": "2022-10-20T06:29:01.190402Z",
     "iopub.status.busy": "2022-10-20T06:29:01.189090Z",
     "iopub.status.idle": "2022-10-20T06:29:01.412366Z",
     "shell.execute_reply": "2022-10-20T06:29:01.411694Z"
    }
   },
   "outputs": [
    {
     "name": "stdout",
     "output_type": "stream",
     "text": [
      "[1.24984800e+02 1.51230048e+04 3.01206529e+04 4.51178353e+04\n",
      " 6.01144584e+04 7.51104287e+04 9.01056525e+04 1.05100036e+05\n",
      " 1.20093487e+05 1.35085910e+05 1.50077213e+05 1.65067302e+05\n",
      " 1.80056083e+05 1.95043465e+05 2.10029352e+05 2.25013652e+05]\n"
     ]
    }
   ],
   "source": [
    "coords, proj_radar = georef.spherical_to_xyz(\n",
    "    coord[..., 0], coord[..., 1], coord[..., 2], sitecoords, squeeze=True\n",
    ")\n",
    "test = coords[0, 90, 0:960:60, 0]\n",
    "print(test)"
   ]
  },
  {
   "cell_type": "markdown",
   "metadata": {},
   "source": [
    "## Retrieve geographic coordinates (longitude and latitude)"
   ]
  },
  {
   "cell_type": "markdown",
   "metadata": {},
   "source": [
    "### Using convenience function *spherical_to_proj*."
   ]
  },
  {
   "cell_type": "code",
   "execution_count": 6,
   "metadata": {
    "execution": {
     "iopub.execute_input": "2022-10-20T06:29:01.417798Z",
     "iopub.status.busy": "2022-10-20T06:29:01.416525Z",
     "iopub.status.idle": "2022-10-20T06:29:04.898298Z",
     "shell.execute_reply": "2022-10-20T06:29:04.891177Z"
    }
   },
   "outputs": [
    {
     "name": "stdout",
     "output_type": "stream",
     "text": [
      "[5.50734017 5.71615328 5.92494778 6.13371911 6.34246274 6.55117413\n",
      " 6.75984874 6.96848204 7.17706951 7.38560664 7.5940889  7.8025118\n",
      " 8.01087084 8.21916154 8.42737941 8.63552   ]\n"
     ]
    }
   ],
   "source": [
    "lonlatalt = georef.spherical_to_proj(\n",
    "    coord[..., 0], coord[..., 1], coord[..., 2], sitecoords\n",
    ")\n",
    "test = lonlatalt[0, 90, 0:960:60, 0]\n",
    "print(test)"
   ]
  },
  {
   "cell_type": "markdown",
   "metadata": {},
   "source": [
    "### Using reproject"
   ]
  },
  {
   "cell_type": "code",
   "execution_count": 7,
   "metadata": {
    "execution": {
     "iopub.execute_input": "2022-10-20T06:29:04.910344Z",
     "iopub.status.busy": "2022-10-20T06:29:04.902007Z",
     "iopub.status.idle": "2022-10-20T06:29:08.097647Z",
     "shell.execute_reply": "2022-10-20T06:29:08.096851Z"
    }
   },
   "outputs": [
    {
     "name": "stdout",
     "output_type": "stream",
     "text": [
      "[5.50734017 5.71615328 5.92494778 6.13371911 6.34246274 6.55117413\n",
      " 6.75984874 6.96848204 7.17706951 7.38560664 7.5940889  7.8025118\n",
      " 8.01087084 8.21916154 8.42737941 8.63552   ]\n"
     ]
    }
   ],
   "source": [
    "lonlatalt1 = georef.reproject(\n",
    "    coords,\n",
    "    projection_source=proj_radar,\n",
    "    projection_target=georef.get_default_projection(),\n",
    ")\n",
    "\n",
    "test = lonlatalt1[0, 90, 0:960:60, 0]\n",
    "print(test)"
   ]
  }
 ],
 "metadata": {
  "language_info": {
   "codemirror_mode": {
    "name": "ipython",
    "version": 3
   },
   "file_extension": ".py",
   "mimetype": "text/x-python",
   "name": "python",
   "nbconvert_exporter": "python",
   "pygments_lexer": "ipython3",
   "version": "3.10.6"
  },
  "toc": {
   "colors": {
    "hover_highlight": "#DAA520",
    "navigate_num": "#000000",
    "navigate_text": "#333333",
    "running_highlight": "#FF0000",
    "selected_highlight": "#FFD700",
    "sidebar_border": "#EEEEEE",
    "wrapper_background": "#FFFFFF"
   },
   "moveMenuLeft": true,
   "nav_menu": {
    "height": "177px",
    "width": "252px"
   },
   "navigate_menu": true,
   "number_sections": false,
   "sideBar": true,
   "threshold": 4,
   "toc_cell": false,
   "toc_section_display": "block",
   "toc_window_display": false,
   "widenNotebook": false
  }
 },
 "nbformat": 4,
 "nbformat_minor": 1
}
