{
 "cells": [
  {
   "cell_type": "markdown",
   "metadata": {
    "nbsphinx": "hidden"
   },
   "source": [
    "This notebook is part of the $\\omega radlib$ documentation: https://docs.wradlib.org.\n",
    "\n",
    "Copyright (c) $\\omega radlib$ developers.\n",
    "Distributed under the MIT License. See LICENSE.txt for more info."
   ]
  },
  {
   "cell_type": "markdown",
   "metadata": {},
   "source": [
    "# Example for georeferencing a radar dataset"
   ]
  },
  {
   "cell_type": "code",
   "execution_count": null,
   "metadata": {},
   "outputs": [],
   "source": [
    "import wradlib as wrl\n",
    "import xarray as xr\n",
    "import xradar as xd\n",
    "import numpy as np\n",
    "import matplotlib.pyplot as plt\n",
    "import matplotlib as mpl\n",
    "from matplotlib.patches import Rectangle\n",
    "import warnings\n",
    "\n",
    "warnings.filterwarnings(\"ignore\")\n",
    "try:\n",
    "    get_ipython().run_line_magic(\"matplotlib inline\")\n",
    "except:\n",
    "    plt.ion()"
   ]
  },
  {
   "cell_type": "markdown",
   "metadata": {},
   "source": [
    "**1st step:** Compute centroid coordinates and vertices of all radar bins in WGS84 (longitude and latitude)."
   ]
  },
  {
   "cell_type": "code",
   "execution_count": null,
   "metadata": {},
   "outputs": [],
   "source": [
    "swp = (\n",
    "    xd.model.create_sweep_dataset(rng=1000)\n",
    "    .swap_dims(time=\"azimuth\")\n",
    "    .isel(range=slice(0, 100))\n",
    ")\n",
    "swp = swp.assign_coords(sweep_mode=\"azimuthal_surveillance\")\n",
    "swp = swp.wrl.georef.georeference()\n",
    "swp"
   ]
  },
  {
   "cell_type": "markdown",
   "metadata": {},
   "source": [
    "We can now generate the polgon vertices of the radar bins - with **each vertex in lon/lat coordinates**."
   ]
  },
  {
   "cell_type": "code",
   "execution_count": null,
   "metadata": {},
   "outputs": [],
   "source": [
    "proj_wgs84 = wrl.georef.epsg_to_osr(4326)\n",
    "polygons = swp.wrl.georef.spherical_to_polyvert(crs=proj_wgs84, keep_attrs=True)\n",
    "polygons"
   ]
  },
  {
   "cell_type": "markdown",
   "metadata": {},
   "source": [
    "... or we can compute the corresponding centroids of all bins -  - with **each centroid in lon/lat coordinates**."
   ]
  },
  {
   "cell_type": "code",
   "execution_count": null,
   "metadata": {},
   "outputs": [],
   "source": [
    "centroids = swp.wrl.georef.spherical_to_centroids(crs=proj_wgs84, keep_attrs=True)\n",
    "centroids"
   ]
  },
  {
   "cell_type": "markdown",
   "metadata": {},
   "source": [
    "In order to understand how vertices and centroids correspond, we can plot them together."
   ]
  },
  {
   "cell_type": "code",
   "execution_count": null,
   "metadata": {},
   "outputs": [],
   "source": [
    "fig = plt.figure(figsize=(16, 16))\n",
    "site = (polygons.longitude.values, polygons.latitude.values)\n",
    "\n",
    "aspect = (centroids[..., 0].max() - centroids[..., 0].min()) / (\n",
    "    centroids[..., 1].max() - centroids[..., 1].min()\n",
    ")\n",
    "ax = fig.add_subplot(121, aspect=aspect)\n",
    "polycoll = mpl.collections.PolyCollection(\n",
    "    polygons.isel(xy=slice(0, 2)), closed=True, facecolors=\"None\", linewidth=0.1\n",
    ")\n",
    "ax.add_collection(polycoll, autolim=True)\n",
    "# ax.plot(centroids[..., 0], centroids[..., 1], 'r+')\n",
    "plt.title(\"Zoom in\\n(only possible for interactive plots).\")\n",
    "ax.add_patch(\n",
    "    Rectangle(\n",
    "        (site[0] + 0.25, site[1] + 0.25),\n",
    "        0.2,\n",
    "        0.2 / aspect,\n",
    "        edgecolor=\"red\",\n",
    "        facecolor=\"None\",\n",
    "        zorder=3,\n",
    "    )\n",
    ")\n",
    "plt.xlim(centroids[..., 0].min(), centroids[..., 0].max())\n",
    "plt.ylim(centroids[..., 1].min(), centroids[..., 1].max())\n",
    "\n",
    "ax = fig.add_subplot(122, aspect=aspect)\n",
    "polycoll = mpl.collections.PolyCollection(\n",
    "    polygons.isel(xy=slice(0, 2)), closed=True, facecolors=\"None\"\n",
    ")\n",
    "ax.add_collection(polycoll, autolim=True)\n",
    "ax.plot(centroids[..., 0], centroids[..., 1], \"r+\")\n",
    "plt.title(\"Zoom into red box of left plot\")\n",
    "plt.xlim(site[0] + 0.25, site[0] + 0.25 + 0.2)\n",
    "plt.ylim(site[1] + 0.25, site[1] + 0.25 + 0.2 / aspect)"
   ]
  },
  {
   "cell_type": "markdown",
   "metadata": {},
   "source": [
    "**2nd step:** Reproject the centroid coordinates to Gauss-Krueger Zone 3 (i.e. EPSG-Code 31467)."
   ]
  },
  {
   "cell_type": "code",
   "execution_count": null,
   "metadata": {},
   "outputs": [],
   "source": [
    "centroids_xyz = centroids.assign_coords(xyz=[\"x\", \"y\", \"z\"]).to_dataset(\"xyz\")\n",
    "centroids_xyz"
   ]
  },
  {
   "cell_type": "code",
   "execution_count": null,
   "metadata": {},
   "outputs": [],
   "source": [
    "proj_gk3 = wrl.georef.epsg_to_osr(31467)\n",
    "centroids_xyz = centroids_xyz.wrl.georef.reproject(trg_crs=proj_gk3)\n",
    "centroids_xyz"
   ]
  },
  {
   "cell_type": "code",
   "execution_count": null,
   "metadata": {},
   "outputs": [],
   "source": []
  }
 ],
 "metadata": {
  "language_info": {
   "codemirror_mode": {
    "name": "ipython",
    "version": 3
   },
   "file_extension": ".py",
   "mimetype": "text/x-python",
   "name": "python",
   "nbconvert_exporter": "python",
   "pygments_lexer": "ipython3",
   "version": "3.11.0"
  },
  "toc": {
   "colors": {
    "hover_highlight": "#DAA520",
    "navigate_num": "#000000",
    "navigate_text": "#333333",
    "running_highlight": "#FF0000",
    "selected_highlight": "#FFD700",
    "sidebar_border": "#EEEEEE",
    "wrapper_background": "#FFFFFF"
   },
   "moveMenuLeft": true,
   "nav_menu": {
    "height": "47px",
    "width": "252px"
   },
   "navigate_menu": true,
   "number_sections": false,
   "sideBar": true,
   "threshold": 4,
   "toc_cell": false,
   "toc_section_display": "block",
   "toc_window_display": false,
   "widenNotebook": false
  }
 },
 "nbformat": 4,
 "nbformat_minor": 4
}
