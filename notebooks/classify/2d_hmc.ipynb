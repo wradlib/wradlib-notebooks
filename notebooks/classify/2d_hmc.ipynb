{
 "cells": [
  {
   "cell_type": "markdown",
   "metadata": {
    "slideshow": {
     "slide_type": "skip"
    }
   },
   "source": [
    "This notebook is part of the $\\omega radlib$ documentation: https://docs.wradlib.org.\n",
    "\n",
    "Copyright (c) $\\omega radlib$ developers.\n",
    "Distributed under the MIT License. See LICENSE.txt for more info."
   ]
  },
  {
   "cell_type": "markdown",
   "metadata": {
    "slideshow": {
     "slide_type": "slide"
    }
   },
   "source": [
    "# Hydrometeorclassification"
   ]
  },
  {
   "cell_type": "code",
   "execution_count": null,
   "metadata": {
    "slideshow": {
     "slide_type": "fragment"
    }
   },
   "outputs": [],
   "source": [
    "import wradlib as wrl\n",
    "import xarray as xr\n",
    "import os\n",
    "import numpy as np\n",
    "import matplotlib as mpl\n",
    "import matplotlib.pyplot as plt\n",
    "import warnings\n",
    "\n",
    "warnings.filterwarnings(\"ignore\")\n",
    "try:\n",
    "    get_ipython().run_line_magic(\"matplotlib inline\")\n",
    "except:\n",
    "    plt.ion()\n",
    "from scipy import interpolate\n",
    "import datetime as dt\n",
    "import glob"
   ]
  },
  {
   "cell_type": "markdown",
   "metadata": {},
   "source": [
    "The hydrometeorclassification code is based on the paper by [Zrnic et.al 2001](https://dx.doi.org/10.1175/1520-0426%282001%29018%3C0892:TAPFAC%3E2.0.CO;2) utilizing 2D trapezoidal membership functions based on the paper by [Straka et. al 2000](https://doi.org/10.1175/1520-0450(2000)039%3C1341:BHCAQU%3E2.0.CO;2) adapted by [Evaristo et. al 2013](https://ams.confex.com/ams/36Radar/webprogram/Paper229078.html) for X-Band."
   ]
  },
  {
   "cell_type": "markdown",
   "metadata": {},
   "source": [
    "## Precipitation Types"
   ]
  },
  {
   "cell_type": "code",
   "execution_count": null,
   "metadata": {},
   "outputs": [],
   "source": [
    "pr_types = wrl.classify.pr_types\n",
    "for k, v in pr_types.items():\n",
    "    print(str(k) + \" - \".join(v))"
   ]
  },
  {
   "cell_type": "markdown",
   "metadata": {},
   "source": [
    "## Membership Functions"
   ]
  },
  {
   "cell_type": "markdown",
   "metadata": {},
   "source": [
    "### Load 2D Membership Functions"
   ]
  },
  {
   "cell_type": "code",
   "execution_count": null,
   "metadata": {},
   "outputs": [],
   "source": [
    "filename = wrl.util.get_wradlib_data_file(\"misc/msf_xband_v1.nc\")\n",
    "msf = xr.open_dataset(filename)\n",
    "display(msf)"
   ]
  },
  {
   "cell_type": "markdown",
   "metadata": {},
   "source": [
    "### Plot 2D Membership Functions"
   ]
  },
  {
   "cell_type": "code",
   "execution_count": null,
   "metadata": {},
   "outputs": [],
   "source": [
    "minmax = [(-10, 100), (-1, 6), (0.0, 1.0), (-5, 35), (-65, 45)]\n",
    "\n",
    "for i, pr in enumerate(pr_types.values()):\n",
    "    if pr[0] == \"NP\":\n",
    "        continue\n",
    "    fig = plt.figure(figsize=(10, 8))\n",
    "    t = fig.suptitle(\" - \".join(pr))\n",
    "    t.set_y(1.02)\n",
    "    hmc = msf.sel(hmc=pr[0])\n",
    "    for k, p in enumerate(hmc.data_vars.values()):\n",
    "        p = p.where(p != 0)\n",
    "        ax = fig.add_subplot(3, 2, k + 1)\n",
    "        p.sel(trapezoid=0).plot(x=\"idp\", c=\"k\", lw=1.0, ax=ax)\n",
    "        p.sel(trapezoid=1).plot(x=\"idp\", c=\"k\", lw=2.0, ax=ax)\n",
    "        p.sel(trapezoid=2).plot(x=\"idp\", c=\"k\", lw=2.0, ax=ax)\n",
    "        p.sel(trapezoid=3).plot(x=\"idp\", c=\"k\", lw=1.0, ax=ax)\n",
    "        ax.set_xlim((hmc.idp.min(), hmc.idp.max()))\n",
    "        ax.margins(x=0.05, y=0.05)\n",
    "        t = ax.set_title(f\"{p.long_name}\")\n",
    "        ax.set_ylim(minmax[k])\n",
    "    fig.tight_layout()\n",
    "plt.show()"
   ]
  },
  {
   "cell_type": "markdown",
   "metadata": {},
   "source": [
    "## Use Sounding Data"
   ]
  },
  {
   "cell_type": "markdown",
   "metadata": {},
   "source": [
    "### Retrieve Sounding Data\n",
    "\n",
    "To get the temperature as additional discriminator we use radiosonde data from\n",
    "the [University of Wyoming](http://weather.uwyo.edu/upperair/sounding.html).\n",
    "\n",
    "The function `get_radiosonde` tries to find the next next available radiosonde measurement on the given date."
   ]
  },
  {
   "cell_type": "code",
   "execution_count": null,
   "metadata": {},
   "outputs": [],
   "source": [
    "rs_time = dt.datetime(2014, 6, 10, 12, 0)\n",
    "import urllib\n",
    "\n",
    "try:\n",
    "    rs_data, rs_meta = wrl.io.get_radiosonde(10410, rs_time)\n",
    "except (urllib.error.HTTPError, urllib.error.URLError):\n",
    "    dataf = wrl.util.get_wradlib_data_file(\"misc/radiosonde_10410_20140610_1200.h5\")\n",
    "    rs_data, _ = wrl.io.from_hdf5(dataf)\n",
    "    metaf = wrl.util.get_wradlib_data_file(\"misc/radiosonde_10410_20140610_1200.json\")\n",
    "    with open(metaf, \"r\") as infile:\n",
    "        import json\n",
    "\n",
    "        rs_meta = json.load(infile)\n",
    "rs_meta"
   ]
  },
  {
   "cell_type": "markdown",
   "metadata": {},
   "source": [
    "### Extract Temperature and Height"
   ]
  },
  {
   "cell_type": "code",
   "execution_count": null,
   "metadata": {},
   "outputs": [],
   "source": [
    "stemp = rs_data[\"TEMP\"]\n",
    "sheight = rs_data[\"HGHT\"]\n",
    "# remove nans\n",
    "idx = np.isfinite(stemp)\n",
    "stemp = stemp[idx]\n",
    "sheight = sheight[idx]"
   ]
  },
  {
   "cell_type": "markdown",
   "metadata": {},
   "source": [
    "### Create DataArray"
   ]
  },
  {
   "cell_type": "code",
   "execution_count": null,
   "metadata": {},
   "outputs": [],
   "source": [
    "stemp_da = xr.DataArray(\n",
    "    data=stemp,\n",
    "    dims=[\"height\"],\n",
    "    coords=dict(\n",
    "        height=([\"height\"], sheight),\n",
    "    ),\n",
    "    attrs=dict(\n",
    "        description=\"Temperature.\",\n",
    "        units=\"degC\",\n",
    "    ),\n",
    ")\n",
    "display(stemp_da)"
   ]
  },
  {
   "cell_type": "markdown",
   "metadata": {},
   "source": [
    "### Interpolate to higher resolution"
   ]
  },
  {
   "cell_type": "code",
   "execution_count": null,
   "metadata": {},
   "outputs": [],
   "source": [
    "hmax = 30000.0\n",
    "ht = np.arange(0.0, hmax)\n",
    "itemp_da = stemp_da.interp({\"height\": ht})\n",
    "display(itemp_da)"
   ]
  },
  {
   "cell_type": "markdown",
   "metadata": {},
   "source": [
    "### Fix Temperature below first measurement"
   ]
  },
  {
   "cell_type": "code",
   "execution_count": null,
   "metadata": {},
   "outputs": [],
   "source": [
    "itemp_da = itemp_da.bfill(dim=\"height\")"
   ]
  },
  {
   "cell_type": "markdown",
   "metadata": {},
   "source": [
    "### Plot Temperature Profile"
   ]
  },
  {
   "cell_type": "code",
   "execution_count": null,
   "metadata": {},
   "outputs": [],
   "source": [
    "fig = plt.figure(figsize=(5, 10))\n",
    "ax = fig.add_subplot(111)\n",
    "itemp_da.plot(y=\"height\", ax=ax, marker=\"o\", zorder=0, c=\"r\")\n",
    "stemp_da.to_dataset(name=\"stemp\").plot.scatter(\n",
    "    x=\"stemp\", y=\"height\", ax=ax, marker=\"o\", c=\"b\", zorder=1\n",
    ")\n",
    "ax.grid(True)"
   ]
  },
  {
   "cell_type": "markdown",
   "metadata": {},
   "source": [
    "## Prepare Radar Data"
   ]
  },
  {
   "cell_type": "markdown",
   "metadata": {},
   "source": [
    "### Load Radar Data"
   ]
  },
  {
   "cell_type": "code",
   "execution_count": null,
   "metadata": {},
   "outputs": [],
   "source": [
    "# read the radar volume scan\n",
    "filename = \"hdf5/2014-06-09--185000.rhi.mvol\"\n",
    "filename = wrl.util.get_wradlib_data_file(filename)"
   ]
  },
  {
   "cell_type": "markdown",
   "metadata": {},
   "source": [
    "### Extract data for georeferencing"
   ]
  },
  {
   "cell_type": "code",
   "execution_count": null,
   "metadata": {},
   "outputs": [],
   "source": [
    "import xradar as xd\n",
    "\n",
    "swp = xr.open_dataset(\n",
    "    filename, engine=xd.io.backends.GamicBackendEntrypoint, group=\"sweep_0\", chunks={}\n",
    ")\n",
    "swp = xd.util.remove_duplicate_rays(swp)\n",
    "swp = xd.util.reindex_angle(\n",
    "    swp, start_angle=0, stop_angle=90, angle_res=0.2, direction=1\n",
    ")\n",
    "swp"
   ]
  },
  {
   "cell_type": "code",
   "execution_count": null,
   "metadata": {},
   "outputs": [],
   "source": [
    "swp.azimuth.load(), swp.time.load()"
   ]
  },
  {
   "cell_type": "code",
   "execution_count": null,
   "metadata": {},
   "outputs": [],
   "source": [
    "swp.azimuth.values"
   ]
  },
  {
   "cell_type": "markdown",
   "metadata": {},
   "source": [
    "### Get Heights of Radar Bins"
   ]
  },
  {
   "cell_type": "code",
   "execution_count": null,
   "metadata": {},
   "outputs": [],
   "source": [
    "swp = swp.wrl.georef.georeference()\n",
    "swp.azimuth.values"
   ]
  },
  {
   "cell_type": "markdown",
   "metadata": {},
   "source": [
    "### Plot RHI of Heights"
   ]
  },
  {
   "cell_type": "code",
   "execution_count": null,
   "metadata": {},
   "outputs": [],
   "source": [
    "fig = plt.figure(figsize=(8, 7))\n",
    "ax = fig.add_subplot(111)\n",
    "cmap = mpl.cm.viridis\n",
    "swp.z.plot(x=\"gr\", y=\"z\", ax=ax, cbar_kwargs=dict(label=\"Height [m]\"))\n",
    "ax.set_xlabel(\"Range [m]\")\n",
    "ax.set_ylabel(\"Height [m]\")\n",
    "ax.grid(True)\n",
    "plt.show()"
   ]
  },
  {
   "cell_type": "markdown",
   "metadata": {},
   "source": [
    "### Get Index into High Res Height Array"
   ]
  },
  {
   "cell_type": "code",
   "execution_count": null,
   "metadata": {},
   "outputs": [],
   "source": [
    "def merge_radar_profile(rds, cds):\n",
    "    cds = cds.interp({\"height\": rds.z}, method=\"linear\")\n",
    "    rds = rds.assign({\"TEMP\": cds})\n",
    "    return rds"
   ]
  },
  {
   "cell_type": "code",
   "execution_count": null,
   "metadata": {},
   "outputs": [],
   "source": [
    "hmc_ds = swp.pipe(merge_radar_profile, itemp_da)\n",
    "display(hmc_ds)"
   ]
  },
  {
   "cell_type": "code",
   "execution_count": null,
   "metadata": {},
   "outputs": [],
   "source": [
    "fig = plt.figure(figsize=(10, 5))\n",
    "ax = fig.add_subplot(111)\n",
    "hmc_ds.TEMP.plot(\n",
    "    x=\"gr\",\n",
    "    y=\"z\",\n",
    "    cmap=cmap,\n",
    "    ax=ax,\n",
    "    add_colorbar=True,\n",
    "    cbar_kwargs=dict(label=\"Temperature [°C]\"),\n",
    ")\n",
    "ax.set_xlabel(\"Range [m]\")\n",
    "ax.set_ylabel(\"Range [m]\")\n",
    "ax.set_aspect(\"equal\")\n",
    "ax.set_ylim(0, 30000)\n",
    "plt.show()"
   ]
  },
  {
   "cell_type": "markdown",
   "metadata": {},
   "source": [
    "## HMC Workflow"
   ]
  },
  {
   "cell_type": "markdown",
   "metadata": {},
   "source": [
    "### Setup Independent Observable $Z_H$\n",
    "Retrieve membership function values based on independent observable"
   ]
  },
  {
   "cell_type": "code",
   "execution_count": null,
   "metadata": {},
   "outputs": [],
   "source": [
    "%%time\n",
    "msf_val = msf.wrl.classify.msf_index_indep(swp.DBZH)\n",
    "display(msf_val)"
   ]
  },
  {
   "cell_type": "markdown",
   "metadata": {},
   "source": [
    "### Fuzzyfication"
   ]
  },
  {
   "cell_type": "code",
   "execution_count": null,
   "metadata": {},
   "outputs": [],
   "source": [
    "%%time\n",
    "fu = msf_val.wrl.classify.fuzzyfi(\n",
    "    hmc_ds, dict(ZH=\"DBZH\", ZDR=\"ZDR\", RHO=\"RHOHV\", KDP=\"KDP\", TEMP=\"TEMP\")\n",
    ")"
   ]
  },
  {
   "cell_type": "markdown",
   "metadata": {},
   "source": [
    "### Probability"
   ]
  },
  {
   "cell_type": "code",
   "execution_count": null,
   "metadata": {},
   "outputs": [],
   "source": [
    "# weights dataset\n",
    "w = xr.Dataset(dict(ZH=2.0, ZDR=1.0, RHO=1.0, KDP=1.0, TEMP=1.0))\n",
    "display(w)"
   ]
  },
  {
   "cell_type": "code",
   "execution_count": null,
   "metadata": {},
   "outputs": [],
   "source": [
    "%%time\n",
    "prob = fu.wrl.classify.probability(w).compute()\n",
    "display(prob)"
   ]
  },
  {
   "cell_type": "code",
   "execution_count": null,
   "metadata": {},
   "outputs": [],
   "source": [
    "# prob = prob.compute()"
   ]
  },
  {
   "cell_type": "markdown",
   "metadata": {},
   "source": [
    "### Classification"
   ]
  },
  {
   "cell_type": "code",
   "execution_count": null,
   "metadata": {},
   "outputs": [],
   "source": [
    "cl_res = prob.wrl.classify.classify(threshold=0.0)\n",
    "display(cl_res)"
   ]
  },
  {
   "cell_type": "markdown",
   "metadata": {},
   "source": [
    "### Compute"
   ]
  },
  {
   "cell_type": "code",
   "execution_count": null,
   "metadata": {},
   "outputs": [],
   "source": [
    "%%time\n",
    "cl_res = cl_res.compute()\n",
    "cl_res = cl_res.assign_coords(sweep_mode=\"rhi\")"
   ]
  },
  {
   "cell_type": "markdown",
   "metadata": {},
   "source": [
    "## HMC Results"
   ]
  },
  {
   "cell_type": "markdown",
   "metadata": {},
   "source": [
    "### Plot Probability of HMC Types"
   ]
  },
  {
   "cell_type": "code",
   "execution_count": null,
   "metadata": {},
   "outputs": [],
   "source": [
    "prob = prob.assign_coords(hmc=np.array(list(pr_types.values())).T[1][:11])\n",
    "prob = prob.where(prob > 0)\n",
    "prob.plot(x=\"x\", y=\"y\", col=\"hmc\", col_wrap=4, cbar_kwargs=dict(label=\"Probability\"))"
   ]
  },
  {
   "cell_type": "markdown",
   "metadata": {},
   "source": [
    "### Plot maximum  probability "
   ]
  },
  {
   "cell_type": "code",
   "execution_count": null,
   "metadata": {},
   "outputs": [],
   "source": [
    "fig = plt.figure(figsize=(10, 6))\n",
    "cmap = \"cubehelix\"\n",
    "im = cl_res.max(\"hmc\").wrl.vis.plot(\n",
    "    ax=111,\n",
    "    crs={\"angular_spacing\": 20.0, \"radial_spacing\": 12.0, \"latmin\": 2.5},\n",
    "    cmap=cmap,\n",
    "    fig=fig,\n",
    ")\n",
    "cgax = plt.gca()\n",
    "cbar = plt.colorbar(im, ax=cgax, fraction=0.046, pad=0.05)\n",
    "cbar.set_label(\"Probability\")\n",
    "cgax.set_xlim(0, 40000)\n",
    "cgax.set_ylim(0, 14000)\n",
    "t = cgax.set_title(\"Hydrometeorclassification\", y=1.05)\n",
    "\n",
    "caax = cgax.parasites[0]\n",
    "caax.set_xlabel(\"Range [m]\")\n",
    "caax.set_ylabel(\"Range [m]\")\n",
    "plt.show()"
   ]
  },
  {
   "cell_type": "markdown",
   "metadata": {},
   "source": [
    "### Plot classification result"
   ]
  },
  {
   "cell_type": "code",
   "execution_count": null,
   "metadata": {},
   "outputs": [],
   "source": [
    "bounds = np.arange(-0.5, prob.shape[0] + 0.6, 1)\n",
    "ticks = np.arange(0, prob.shape[0] + 1)\n",
    "cmap = mpl.cm.get_cmap(\"cubehelix\", len(ticks))\n",
    "norm = mpl.colors.BoundaryNorm(bounds, cmap.N)"
   ]
  },
  {
   "cell_type": "code",
   "execution_count": null,
   "metadata": {},
   "outputs": [],
   "source": [
    "hydro = cl_res.argmax(\"hmc\")\n",
    "hydro.attrs = dict(long_name=\"Hydrometeorclassification\")\n",
    "hydro = hydro.assign_coords(sweep_mode=\"rhi\")"
   ]
  },
  {
   "cell_type": "code",
   "execution_count": null,
   "metadata": {},
   "outputs": [],
   "source": [
    "fig = plt.figure(figsize=(10, 8))\n",
    "im = hydro.wrl.vis.plot(\n",
    "    ax=111,\n",
    "    crs={\"angular_spacing\": 20.0, \"radial_spacing\": 12.0, \"latmin\": 2.5},\n",
    "    norm=norm,\n",
    "    cmap=cmap,\n",
    "    fig=fig,\n",
    ")\n",
    "cgax = plt.gca()\n",
    "caax = cgax.parasites[0]\n",
    "paax = cgax.parasites[1]\n",
    "\n",
    "cbar = plt.colorbar(im, ticks=ticks, ax=cgax, fraction=0.046, norm=norm, pad=0.05)\n",
    "cbar.set_label(\"Hydrometeorclass\")\n",
    "caax.set_xlabel(\"Range [km]\")\n",
    "caax.set_ylabel(\"Range [km]\")\n",
    "labels = [pr_types[i][1] for i, _ in enumerate(pr_types)]\n",
    "labels = cbar.ax.set_yticklabels(labels)\n",
    "t = cgax.set_title(\"Hydrometeorclassification\", y=1.05)\n",
    "cgax.set_xlim(0, 40000)\n",
    "cgax.set_ylim(0, 14000)\n",
    "plt.tight_layout()"
   ]
  }
 ],
 "metadata": {
  "celltoolbar": "Slideshow",
  "language_info": {
   "codemirror_mode": {
    "name": "ipython",
    "version": 3
   },
   "file_extension": ".py",
   "mimetype": "text/x-python",
   "name": "python",
   "nbconvert_exporter": "python",
   "pygments_lexer": "ipython3",
   "version": "3.11.0"
  },
  "livereveal": {
   "scroll": true
  }
 },
 "nbformat": 4,
 "nbformat_minor": 4
}
