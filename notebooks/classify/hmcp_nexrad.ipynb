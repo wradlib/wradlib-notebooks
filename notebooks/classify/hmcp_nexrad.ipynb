{
 "cells": [
  {
   "cell_type": "markdown",
   "id": "297a12a0-3058-40b8-b95d-77bb646b9d03",
   "metadata": {
    "nbsphinx": "hidden",
    "slideshow": {
     "slide_type": "skip"
    }
   },
   "source": [
    "This notebook is part of the $\\omega radlib$ documentation: https://docs.wradlib.org.\n",
    "\n",
    "Copyright (c) $\\omega radlib$ developers.\n",
    "Distributed under the MIT License. See LICENSE.txt for more info."
   ]
  },
  {
   "cell_type": "markdown",
   "id": "adb239aa-171f-4732-96f2-79999b5f96c5",
   "metadata": {},
   "source": [
    "# Hydrometeor partitioning ratio retrievals for Ground Radar\n",
    "\n",
    "In this notebook, measurements from NEXRAD's KDDC ground radar are used to derive Hydrometeor Partitioning Ratios (HPR) following Pejcic et al. 2025 (in review). This requires the horizontal reflectivity, differential reflectivity, specific differential phase, cross correlation coefficient, temperature information and rain type. The temperature information is derived from sounding and a rain type classification is applied following Park et al. The HPRs for the different hydrometeor classes are then presented. "
   ]
  },
  {
   "cell_type": "code",
   "execution_count": null,
   "id": "9420245f-3aa2-4d45-b7fe-cee60a2298de",
   "metadata": {},
   "outputs": [],
   "source": [
    "import wradlib as wrl\n",
    "import numpy as np\n",
    "\n",
    "import warnings\n",
    "warnings.filterwarnings(\"ignore\")\n",
    "\n",
    "import matplotlib.pyplot as plt\n",
    "try:\n",
    "    get_ipython().run_line_magic(\"matplotlib inline\")\n",
    "except:\n",
    "    plt.ion()  \n",
    "\n",
    "import glob\n",
    "import xarray as xr\n",
    "import datetime as dt\n",
    "import xradar as xd\n",
    "import scipy"
   ]
  },
  {
   "cell_type": "markdown",
   "id": "e55333c1-9165-414a-940a-be78c80fbada",
   "metadata": {},
   "source": [
    "## Read centroids, covariances and weights"
   ]
  },
  {
   "cell_type": "code",
   "execution_count": null,
   "id": "c84c302d-23c5-43b0-884a-eccab559a7dc",
   "metadata": {},
   "outputs": [],
   "source": [
    "cdp_file = wrl.util.get_wradlib_data_file(\"misc/hmcp_centroids_dp.nc\")\n",
    "with xr.open_dataset(cdp_file) as cdp:\n",
    "    pass\n",
    "cdp"
   ]
  },
  {
   "cell_type": "code",
   "execution_count": null,
   "id": "66218712-24ef-4099-8468-e2d24dc2470c",
   "metadata": {},
   "outputs": [],
   "source": [
    "weights_file = wrl.util.get_wradlib_data_file(\"misc/hmcp_weights.nc\")\n",
    "with xr.open_dataset(weights_file) as cw:\n",
    "    pass\n",
    "cw"
   ]
  },
  {
   "cell_type": "markdown",
   "id": "150095a9-e147-480a-ba30-627b7c041d3d",
   "metadata": {},
   "source": [
    "## Read polarimetric radar observations"
   ]
  },
  {
   "cell_type": "code",
   "execution_count": null,
   "id": "5f88f2de-b5c9-445f-92d5-6a39678c15b4",
   "metadata": {},
   "outputs": [],
   "source": [
    "volume = wrl.util.get_wradlib_data_file(\"netcdf/KDDC_2018_0625_051138_min.cf\")\n",
    "gr_data = xd.io.open_cfradial1_datatree(volume)\n",
    "gr_data"
   ]
  },
  {
   "cell_type": "markdown",
   "id": "745f0ecd-3741-411e-a433-d9c261f3e343",
   "metadata": {},
   "source": [
    "## Get Temperature Profile\n",
    "\n",
    "We would need the temperature of each radar bin. For that, we use Sounding Data. We also set the max_height to 30km and interpolate the vertical profile with a resolution of 1m."
   ]
  },
  {
   "cell_type": "code",
   "execution_count": null,
   "id": "da69ed54-84c3-45c9-a5a5-d2e48e057ed9",
   "metadata": {},
   "outputs": [],
   "source": [
    "rs_time = dt.datetime.fromisoformat(\n",
    "    str(gr_data.time_coverage_start.values.item().decode())\n",
    ")\n",
    "wmoid = 72451\n",
    "import urllib\n",
    "\n",
    "try:\n",
    "    rs_ds = wrl.io.get_radiosonde(\n",
    "        wmoid, rs_time, cols=np.arange(13), xarray=True, max_height=30000.0, res=1.0\n",
    "    )\n",
    "except (urllib.error.HTTPError, urllib.error.URLError):\n",
    "    print(\"service down\")\n",
    "    dataf = wrl.util.get_wradlib_data_file(\"misc/radiosonde_72451_20180625_0000.h5\")\n",
    "    rs_data, _ = wrl.io.from_hdf5(dataf)\n",
    "    metaf = wrl.util.get_wradlib_data_file(\"misc/radiosonde_72451_20180625_0000.json\")\n",
    "    with open(metaf, \"r\") as infile:\n",
    "        import json\n",
    "\n",
    "        rs_meta = json.load(infile)\n",
    "    rs_ds = wrl.io.radiosonde_to_xarray(\n",
    "        rs_data, meta=rs_meta, max_height=30000.0, res=1.0\n",
    "    )"
   ]
  },
  {
   "cell_type": "code",
   "execution_count": null,
   "id": "409fffda-d298-4e4b-8f51-f08b828de9e8",
   "metadata": {},
   "outputs": [],
   "source": [
    "display(rs_ds)"
   ]
  },
  {
   "cell_type": "markdown",
   "id": "3733b5eb-677c-4dc2-8df6-0f3076bddbbc",
   "metadata": {},
   "source": [
    "## Plot Temperature Profile"
   ]
  },
  {
   "cell_type": "code",
   "execution_count": null,
   "id": "5b36330e-4b8a-46bf-9fdc-68cbbc8bda39",
   "metadata": {},
   "outputs": [],
   "source": [
    "fig = plt.figure(figsize=(5, 10))\n",
    "ax = fig.add_subplot(111)\n",
    "rs_ds.TEMP.plot(y=\"HGHT\", ax=ax, zorder=0, c=\"r\")\n",
    "ax.grid(True)"
   ]
  },
  {
   "cell_type": "markdown",
   "id": "c66b5c34-ee8c-4395-bd3f-cf5a5f3ad717",
   "metadata": {},
   "source": [
    "## get freezing level height\n",
    "\n",
    "We need to obtain the freezing level height, which is needed for an ad-hoc retrieval of raintype."
   ]
  },
  {
   "cell_type": "code",
   "execution_count": null,
   "id": "46bb95e2-02b1-463f-bce6-1d65e7c27ea3",
   "metadata": {},
   "outputs": [],
   "source": [
    "fl = np.abs(rs_ds).argmin(\"HGHT\").TEMP\n",
    "display(fl)"
   ]
  },
  {
   "cell_type": "markdown",
   "id": "058c9968-23d7-4ecc-a63d-94a849b6bd35",
   "metadata": {},
   "source": [
    "## georeference DataTree\n",
    "\n",
    "For the interpolation of the temperature sounding data onto the radar sweeps, we need the xyz coordinates of the sweeps."
   ]
  },
  {
   "cell_type": "code",
   "execution_count": null,
   "id": "5609abe6-5fab-490e-b563-d840a36603e6",
   "metadata": {},
   "outputs": [],
   "source": [
    "gr_data2 = gr_data.xradar.georeference()"
   ]
  },
  {
   "cell_type": "code",
   "execution_count": null,
   "id": "e6a03672-1567-470f-a564-9e75971d039a",
   "metadata": {},
   "outputs": [],
   "source": [
    "gr_data2[\"sweep_0\"]"
   ]
  },
  {
   "cell_type": "markdown",
   "id": "e545b8bf-46f3-4146-9bd2-c1b50374a172",
   "metadata": {},
   "source": [
    "## Interpolate Temperature onto sweeps\n",
    "\n",
    "The following function interpolates the vertical temperature profile onto the radar sweeps."
   ]
  },
  {
   "cell_type": "code",
   "execution_count": null,
   "id": "62bccc3e-65c2-49ba-ab8e-9827dac216ce",
   "metadata": {},
   "outputs": [],
   "source": [
    "def merge_radar_profile(rds, cds):\n",
    "    if \"z\" in rds.coords:\n",
    "        cds = cds.interp({\"HGHT\": rds.z}, method=\"linear\")\n",
    "        rds = rds.assign({\"TEMP\": cds})\n",
    "    return rds\n",
    "\n",
    "\n",
    "gr_data3 = gr_data2.map_over_datasets(merge_radar_profile, rs_ds.TEMP)"
   ]
  },
  {
   "cell_type": "code",
   "execution_count": null,
   "id": "fdd2a412-7588-470e-bf54-035aea410dbf",
   "metadata": {},
   "outputs": [],
   "source": [
    "gr_data3[\"sweep_1\"].TEMP.plot(x=\"x\", y=\"y\")"
   ]
  },
  {
   "cell_type": "markdown",
   "id": "faf96ba8-cb1c-472e-9711-294ea0f3730b",
   "metadata": {},
   "source": [
    "## Ad-hoc retrieval of raintype"
   ]
  },
  {
   "cell_type": "markdown",
   "id": "a6803ec2-8f26-4e42-ab5e-3647ea94360e",
   "metadata": {},
   "source": [
    "The following algorithm of raintype estimation is derived after ([Park et al.](https://doi.org/10.1175/2008WAF2222205.1)).\n",
    "\n",
    "1. keep all radar bins >= 45 dBZ\n",
    "1. keep all radar bins > 30 dBZ and height > fl + 1600m\n",
    "1. combine 1 and 2\n",
    "1. iterate over x,y pairs and fetch from whole tree to set as convective."
   ]
  },
  {
   "cell_type": "code",
   "execution_count": null,
   "id": "655c87e0-594b-49e3-84da-b8ced6f7b2da",
   "metadata": {},
   "outputs": [],
   "source": [
    "def mask_data(rds, fl):\n",
    "    if \"z\" in rds.coords:\n",
    "        # Thresholding and smoothing (Park et al.)\n",
    "        # -----------------------------------------\n",
    "        xwin_zh = 5\n",
    "        rds = rds.where(rds.RH > 0.8)\n",
    "        rds[\"CZ\"] = rds.CZ.rolling(\n",
    "            range=xwin_zh, min_periods=xwin_zh // 2, center=True\n",
    "        ).mean(skipna=True)\n",
    "        mask = (rds.CZ >= 45) | ((rds.CZ > 30) & (rds.z > (fl + 1600)))\n",
    "        rds = rds.assign(mask=mask)\n",
    "    return rds\n",
    "\n",
    "\n",
    "gr_data4 = gr_data3.map_over_datasets(mask_data, fl)"
   ]
  },
  {
   "cell_type": "markdown",
   "id": "3ed9a4a4-e75d-47aa-be24-8bb6a3c11405",
   "metadata": {},
   "source": [
    "## Extract xyz bin coordinates\n",
    "\n",
    "This iterates over the whole DataTree and extracts the RainType-mask as 1-dimensional array. This keeps only valid values."
   ]
  },
  {
   "cell_type": "code",
   "execution_count": null,
   "id": "cf8de312-127c-4ca1-b4d2-1137c7d96dc8",
   "metadata": {},
   "outputs": [],
   "source": [
    "def get_xyz(tree):\n",
    "    swp_list = []\n",
    "    for key in list(tree.children):\n",
    "        if \"sweep\" in key:\n",
    "            ds = tree[key].ds.stack(npoints=(\"azimuth\", \"range\"))\n",
    "            ds = ds.reset_coords().where(ds.mask, drop=True)\n",
    "            swp_list.append(ds.mask)\n",
    "    return xr.concat(swp_list, \"npoints\")"
   ]
  },
  {
   "cell_type": "markdown",
   "id": "876e50d9-a972-4e37-b5ce-2be204800c59",
   "metadata": {},
   "source": [
    "# Interpolation of RainType mask\n",
    "\n",
    "This interpolates the RainType for all sweeps, to get a vertically consistent RainType.\n",
    "For this a KDTree is created containing the valid values from above, which is used for the Nearest interpolator.\n",
    "The ROI (maxdist) is assumed to be the current range resolution, but can be specified as keyword argument."
   ]
  },
  {
   "cell_type": "code",
   "execution_count": null,
   "id": "8d7d9883-eba9-475b-a9d9-c6c90f5cc56c",
   "metadata": {},
   "outputs": [],
   "source": [
    "%%time\n",
    "from scipy import spatial\n",
    "\n",
    "kwargs = dict(balanced_tree=True)\n",
    "xyz = get_xyz(gr_data4)\n",
    "src = np.vstack([xyz.x.values, xyz.y.values]).T\n",
    "kdtree = spatial.KDTree(src, **kwargs)\n",
    "\n",
    "\n",
    "def get_range_res(rng):\n",
    "    return rng.range.diff(\"range\").median(\"range\").values\n",
    "\n",
    "\n",
    "def ipol_mask(swp, xyz, kdtree, maxdist=None):\n",
    "    if \"z\" in swp.coords:\n",
    "        if maxdist is None:\n",
    "            maxdist = swp.range.attrs.get(\n",
    "                \"meters_between_gates\", get_range_res(swp.range)\n",
    "            )\n",
    "        trg = np.vstack([swp.x.values.ravel(), swp.y.values.ravel()]).T\n",
    "        nn = wrl.ipol.Nearest(kdtree, trg)\n",
    "        out = nn(xyz.values, maxdist=maxdist).reshape(swp.x.shape)\n",
    "        swp = swp.assign(rt=(swp.x.dims, out))\n",
    "        swp[\"rt\"] = xr.where(swp[\"rt\"] == 1, 2, 1)\n",
    "    return swp\n",
    "\n",
    "\n",
    "gr_data5 = gr_data4.map_over_datasets(ipol_mask, xyz, kdtree)"
   ]
  },
  {
   "cell_type": "code",
   "execution_count": null,
   "id": "9c4abf47-15ee-40e1-b551-7ea900059f76",
   "metadata": {},
   "outputs": [],
   "source": [
    "gr_data5[\"sweep_0\"].rt.plot(x=\"x\", y=\"y\")"
   ]
  },
  {
   "cell_type": "markdown",
   "id": "a9a028e1-4dce-4f46-ba58-67f40bf92ad9",
   "metadata": {},
   "source": [
    "## ZDR Offset retrieval\n",
    "\n",
    "The ZDR offset was retrieved following [A. Ryzhkov & D. Zrnic 2019, 6.2.3 Z-ZDR Consistency in Light Rain, pp. 153-156](https://doi.org/10.1007/978-3-030-05093-1)."
   ]
  },
  {
   "cell_type": "code",
   "execution_count": null,
   "id": "a23ac246-b520-4dbb-8f65-de1744e74064",
   "metadata": {},
   "outputs": [],
   "source": [
    "zdr_offset = 0.5"
   ]
  },
  {
   "cell_type": "markdown",
   "id": "e15d435d-92b2-49b2-91ab-7537f05b050d",
   "metadata": {},
   "source": [
    "## Extract sweep 2 for further processing"
   ]
  },
  {
   "cell_type": "code",
   "execution_count": null,
   "id": "8f85656c-cce8-494e-a08c-4f1ddd840dd2",
   "metadata": {},
   "outputs": [],
   "source": [
    "swp = gr_data5[\"sweep_2\"].ds\n",
    "swp"
   ]
  },
  {
   "cell_type": "code",
   "execution_count": null,
   "id": "012973b0-067d-4c59-b2d4-46ecf60118c2",
   "metadata": {},
   "outputs": [],
   "source": [
    "fig, axs = plt.subplots(2, 2, figsize=(12, 10), sharex=True, sharey=True)\n",
    "swpp = swp[[\"CZ\", \"DR\", \"KD\", \"RH\"]]\n",
    "display(swpp)\n",
    "\n",
    "LVL = [\n",
    "    np.arange(10, 57.5, 2.5),\n",
    "    np.array([-1, -0.5, -0.25, -0.1, 0.1, 0.2, 0.3, 0.5, 0.75, 1, 2, 3]),\n",
    "    np.array(\n",
    "        [-0.5, -0.1, 0.1, 0.15, 0.2, 0.25, 0.5, 0.75, 1, 2, 3, 4]\n",
    "    ),  # np.arange(-0.5,2, 0.2),\n",
    "    np.arange(0.9, 1.01, 0.01),\n",
    "]\n",
    "\n",
    "for i, var in enumerate(swpp.data_vars.values()):\n",
    "    cbar_kwargs = {\n",
    "        \"extend\": \"neither\",\n",
    "        \"label\": \"\",\n",
    "        \"pad\": 0.01,\n",
    "        \"ticks\": LVL[i],\n",
    "    }\n",
    "    ax = axs.flat[i]\n",
    "    var.dropna(\"range\", how=\"all\").plot(\n",
    "        x=\"x\",\n",
    "        y=\"y\",\n",
    "        ax=ax,\n",
    "        cmap=\"HomeyerRainbow\",\n",
    "        levels=LVL[i],\n",
    "        cbar_kwargs=cbar_kwargs,\n",
    "    )\n",
    "    ax.set_title(var.attrs[\"long_name\"])\n",
    "\n",
    "plt.tight_layout()"
   ]
  },
  {
   "cell_type": "markdown",
   "id": "c4c1b3be-111c-4cff-9a1b-e9b01d309957",
   "metadata": {},
   "source": [
    "## Combine observations into xr.DataArray\n",
    "\n",
    "Use the mapping to bind the existing variable names to the needed names."
   ]
  },
  {
   "cell_type": "code",
   "execution_count": null,
   "id": "b405c486-6ef1-4e12-8ec4-36039e25cb3d",
   "metadata": {},
   "outputs": [],
   "source": [
    "# mapping observations\n",
    "obs_mapping = {\n",
    "    \"ZH\": \"CZ\",\n",
    "    \"ZDR\": \"DR\",\n",
    "    \"KDP\": \"KD\",\n",
    "    \"RHO\": \"RH\",\n",
    "    \"RT\": \"rt\",\n",
    "    \"TEMP\": \"TEMP\",\n",
    "}\n",
    "polars = wrl.classify.create_gr_observations(swp, obs_mapping)\n",
    "polars"
   ]
  },
  {
   "cell_type": "markdown",
   "id": "6a3209a5-483c-4147-bba1-cb3601b2c4d8",
   "metadata": {},
   "source": [
    "# Calculate hydrometeor partitioning ratios (HPR)\n",
    "\n",
    "This uses the loaded weights and centroids to retrieve the hydrometeor partitioning ratio from the observations."
   ]
  },
  {
   "cell_type": "code",
   "execution_count": null,
   "id": "b5c63e4d-8ebd-4f58-ac24-99201c3ad7bb",
   "metadata": {},
   "outputs": [],
   "source": [
    "hmpr = wrl.classify.calculate_hmpr(polars, cw.weights, cdp)"
   ]
  },
  {
   "cell_type": "markdown",
   "id": "d907e531-d8d9-4e5a-8ad7-961f3ecb7053",
   "metadata": {},
   "source": [
    "## Plotting all Hydrometeor-Classes\n",
    "\n",
    "For better plotting we transfrom to 100% and drop NaN data."
   ]
  },
  {
   "cell_type": "code",
   "execution_count": null,
   "id": "08c0977e-4d89-4990-b394-321d3db8c7bf",
   "metadata": {},
   "outputs": [],
   "source": [
    "hmpr = hmpr.dropna(\"range\", how=\"all\") * 100\n",
    "hpr_bins = [0, 1, 2.5, 5, 10, 15, 20, 30, 40, 50, 60, 70, 80, 90, 95, 100]\n",
    "\n",
    "hmpr.plot(\n",
    "    col=\"hmc\",\n",
    "    col_wrap=3,\n",
    "    x=\"x\",\n",
    "    y=\"y\",\n",
    "    cmap=\"HomeyerRainbow\",\n",
    "    levels=hpr_bins,\n",
    "    cbar_kwargs={\"ticks\": hpr_bins},\n",
    ")"
   ]
  }
 ],
 "metadata": {
  "language_info": {
   "codemirror_mode": {
    "name": "ipython",
    "version": 3
   },
   "file_extension": ".py",
   "mimetype": "text/x-python",
   "name": "python",
   "nbconvert_exporter": "python",
   "pygments_lexer": "ipython3",
   "version": "3.12.8"
  }
 },
 "nbformat": 4,
 "nbformat_minor": 5
}
