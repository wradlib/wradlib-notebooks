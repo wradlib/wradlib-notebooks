{
 "cells": [
  {
   "cell_type": "markdown",
   "metadata": {
    "slideshow": {
     "slide_type": "skip"
    }
   },
   "source": [
    "This notebook is part of the $\\omega radlib$ documentation: https://docs.wradlib.org.\n",
    "\n",
    "Copyright (c) $\\omega radlib$ developers.\n",
    "Distributed under the MIT License. See LICENSE.txt for more info."
   ]
  },
  {
   "cell_type": "markdown",
   "metadata": {
    "slideshow": {
     "slide_type": "slide"
    }
   },
   "source": [
    "# Hydrometeorclassification"
   ]
  },
  {
   "cell_type": "code",
   "execution_count": null,
   "metadata": {
    "slideshow": {
     "slide_type": "fragment"
    }
   },
   "outputs": [],
   "source": [
    "import wradlib as wrl\n",
    "import os\n",
    "import numpy as np\n",
    "import matplotlib as mpl\n",
    "import matplotlib.pyplot as pl\n",
    "import warnings\n",
    "warnings.filterwarnings('ignore')\n",
    "try:\n",
    "    get_ipython().magic(\"matplotlib inline\")\n",
    "except:\n",
    "    pl.ion()\n",
    "from scipy import interpolate\n",
    "import datetime as dt\n",
    "import glob"
   ]
  },
  {
   "cell_type": "markdown",
   "metadata": {},
   "source": [
    "The hydrometeorclassification code is based on the paper by [Zrnic et.al 2001](https://dx.doi.org/10.1175/1520-0426%282001%29018%3C0892:TAPFAC%3E2.0.CO;2) utilizing 2D trapezoidal membership functions based on the paper by [Straka et. al 2000](https://doi.org/10.1175/1520-0450(2000)039%3C1341:BHCAQU%3E2.0.CO;2) adapted by [Evaristo et. al 2013](https://ams.confex.com/ams/36Radar/webprogram/Paper229078.html) for X-Band."
   ]
  },
  {
   "cell_type": "markdown",
   "metadata": {},
   "source": [
    "## Precipitation Types"
   ]
  },
  {
   "cell_type": "code",
   "execution_count": null,
   "metadata": {},
   "outputs": [],
   "source": [
    "pr_types = wrl.classify.pr_types\n",
    "for k, v in pr_types.items():\n",
    "    print(str(k) + ' - '.join(v))"
   ]
  },
  {
   "cell_type": "markdown",
   "metadata": {},
   "source": [
    "## Membership Functions"
   ]
  },
  {
   "cell_type": "markdown",
   "metadata": {},
   "source": [
    "### Load 2D Membership Functions"
   ]
  },
  {
   "cell_type": "code",
   "execution_count": null,
   "metadata": {},
   "outputs": [],
   "source": [
    "filename = wrl.util.get_wradlib_data_file('misc/msf_xband.gz')\n",
    "msf = wrl.io.get_membership_functions(filename)"
   ]
  },
  {
   "cell_type": "markdown",
   "metadata": {},
   "source": [
    "### Plot 2D Membership Functions"
   ]
  },
  {
   "cell_type": "code",
   "execution_count": null,
   "metadata": {},
   "outputs": [],
   "source": [
    "obs = ['reflectivity (dBZ)', 'differential reflectivity (dB)', \n",
    "       'correlation coefficient', 'specific differential phase (degrees/km)',\n",
    "       'temperature (degrees celsius)']\n",
    "minmax = [(-10, 100),(-1, 6), (0.3, 1.0), (-5, 35), (-65, 45)]\n",
    "\n",
    "for i, v in enumerate(msf):\n",
    "    fig = pl.figure(figsize=(10, 8))\n",
    "    t = fig.suptitle(' - '.join(pr_types[i]))\n",
    "    t.set_y(1.02)\n",
    "    for k, p in enumerate(v):\n",
    "        ax = fig.add_subplot(3,2,k+1)\n",
    "        ax.plot(p[:,0],\n",
    "                np.ma.masked_equal(p[:,1], 0.),\n",
    "                'k', lw=1.0)\n",
    "        ax.plot(p[:,0],\n",
    "                np.ma.masked_equal(p[:,2], 0.),\n",
    "                'k', lw=2.0)\n",
    "        ax.plot(p[:,0],\n",
    "                np.ma.masked_equal(p[:,3], 0.),\n",
    "                'k', lw=2.0)\n",
    "        ax.plot(p[:,0],\n",
    "                np.ma.masked_equal(p[:,4], 0.),\n",
    "                'k', lw=1.0)\n",
    "\n",
    "        ax.set_xlim((p[:,0].min(), p[:,0].max()))\n",
    "        ax.margins(x=0.05, y=0.05)\n",
    "        ax.set_xlabel('ZH - Reflectivity [dBZ]')\n",
    "        ax.set_ylabel(obs[k])\n",
    "        t = ax.set_title(obs[k])\n",
    "        ax.set_ylim(minmax[k])\n",
    "    fig.tight_layout()\n",
    "pl.show()"
   ]
  },
  {
   "cell_type": "markdown",
   "metadata": {},
   "source": [
    "## Use Sounding Data"
   ]
  },
  {
   "cell_type": "markdown",
   "metadata": {},
   "source": [
    "### Retrieve Sounding Data\n",
    "\n",
    "To get the temperature as additional discriminator we use radiosonde data from\n",
    "the [University of Wyoming](http://weather.uwyo.edu/upperair/sounding.html).\n",
    "\n",
    "The function `get_radiosonde` tries to find the next next available radiosonde measurement on the given date."
   ]
  },
  {
   "cell_type": "code",
   "execution_count": null,
   "metadata": {},
   "outputs": [],
   "source": [
    "rs_time = dt.datetime(2014, 6, 10, 12, 0)\n",
    "import urllib\n",
    "try:\n",
    "    rs_data, rs_meta = wrl.io.get_radiosonde(10410, rs_time)\n",
    "except urllib.error.HTTPError:\n",
    "    dataf = wrl.util.get_wradlib_data_file('misc/radiosonde_10410_20140610_1200.h5')\n",
    "    rs_data, _ = wrl.io.from_hdf5(dataf)\n",
    "    metaf = wrl.util.get_wradlib_data_file('misc/radiosonde_10410_20140610_1200.json')\n",
    "    with open(metaf, 'r') as infile:\n",
    "        rs_meta = json.load(infile)\n",
    "rs_meta"
   ]
  },
  {
   "cell_type": "markdown",
   "metadata": {},
   "source": [
    "### Extract Temperature and Height"
   ]
  },
  {
   "cell_type": "code",
   "execution_count": null,
   "metadata": {},
   "outputs": [],
   "source": [
    "stemp = rs_data['TEMP']\n",
    "sheight = rs_data['HGHT']\n",
    "# remove nans\n",
    "idx = np.isfinite(stemp)\n",
    "stemp = stemp[idx]\n",
    "sheight = sheight[idx]"
   ]
  },
  {
   "cell_type": "markdown",
   "metadata": {},
   "source": [
    "### Interpolate to higher resolution"
   ]
  },
  {
   "cell_type": "code",
   "execution_count": null,
   "metadata": {},
   "outputs": [],
   "source": [
    "# highres height\n",
    "hmax = 30000.\n",
    "ht = np.arange(0., hmax)\n",
    "\n",
    "ipolfunc = interpolate.interp1d(sheight, stemp, kind='linear', \n",
    "                                bounds_error=False)\n",
    "itemp = ipolfunc(ht)"
   ]
  },
  {
   "cell_type": "markdown",
   "metadata": {},
   "source": [
    "### Fix Temperature below first measurement"
   ]
  },
  {
   "cell_type": "code",
   "execution_count": null,
   "metadata": {},
   "outputs": [],
   "source": [
    "first = np.nanargmax(itemp)\n",
    "itemp[0:first] = itemp[first]"
   ]
  },
  {
   "cell_type": "markdown",
   "metadata": {},
   "source": [
    "### Plot Temperature Profile"
   ]
  },
  {
   "cell_type": "code",
   "execution_count": null,
   "metadata": {},
   "outputs": [],
   "source": [
    "fig = pl.figure(figsize=(5,10))\n",
    "ax = fig.add_subplot(111)\n",
    "l1 = ax.plot(itemp, ht/1000, 'r.')\n",
    "l2 = ax.plot(stemp, sheight/1000, 'bo')\n",
    "ax.set_xlabel('Temperature [°C]')\n",
    "ax.set_ylabel('Height [km]')\n",
    "ax.set_ylim(0, hmax/1000)\n",
    "ax.grid()\n",
    "pl.show()"
   ]
  },
  {
   "cell_type": "markdown",
   "metadata": {},
   "source": [
    "## Prepare Radar Data"
   ]
  },
  {
   "cell_type": "markdown",
   "metadata": {},
   "source": [
    "### Load Radar Data"
   ]
  },
  {
   "cell_type": "code",
   "execution_count": null,
   "metadata": {},
   "outputs": [],
   "source": [
    "# read the radar volume scan\n",
    "filename = 'hdf5/2014-06-09--185000.rhi.mvol'\n",
    "filename = wrl.util.get_wradlib_data_file(filename)"
   ]
  },
  {
   "cell_type": "markdown",
   "metadata": {},
   "source": [
    "### Extract data for georeferencing"
   ]
  },
  {
   "cell_type": "code",
   "execution_count": null,
   "metadata": {},
   "outputs": [],
   "source": [
    "data, meta = wrl.io.read_gamic_hdf5(filename)\n",
    "r = meta['SCAN0']['r'] - meta['SCAN0']['bin_range'] / 2.\n",
    "el = meta['SCAN0']['el']\n",
    "az = meta['SCAN0']['az']\n",
    "rays = meta['SCAN0']['ray_count']\n",
    "bins = meta['SCAN0']['bin_count']\n",
    "sitecoords = (meta['VOL']['Longitude'], meta['VOL']['Latitude'], \n",
    "              meta['VOL']['Height'])"
   ]
  },
  {
   "cell_type": "markdown",
   "metadata": {},
   "source": [
    "### Get Heights of Radar Bins"
   ]
  },
  {
   "cell_type": "code",
   "execution_count": null,
   "metadata": {},
   "outputs": [],
   "source": [
    "re = wrl.georef.get_earth_radius(sitecoords[1])\n",
    "print(r.shape, el.shape)\n",
    "bheight = wrl.georef.bin_altitude(r[:, np.newaxis], el, sitecoords[2], re).T\n",
    "print(bheight.shape)"
   ]
  },
  {
   "cell_type": "markdown",
   "metadata": {},
   "source": [
    "### Plot RHI of Heights"
   ]
  },
  {
   "cell_type": "code",
   "execution_count": null,
   "metadata": {},
   "outputs": [],
   "source": [
    "fig = pl.figure(figsize=(8, 7))\n",
    "cmap = mpl.cm.viridis\n",
    "cgax, im = wrl.vis.plot_rhi(bheight/1000., r=r/1000., th=el, \n",
    "                            proj='cg', cmap=cmap,\n",
    "                            ax=111, fig=fig)\n",
    "cbar = pl.colorbar(im, fraction=0.046, pad=0.1)\n",
    "cbar.set_label('Height [km]')\n",
    "caax = cgax.parasites[0]\n",
    "caax.set_xlabel('Range [km]')\n",
    "caax.set_ylabel('Range [km]')\n",
    "pl.show()"
   ]
  },
  {
   "cell_type": "markdown",
   "metadata": {},
   "source": [
    "### Get Index into High Res Height Array"
   ]
  },
  {
   "cell_type": "code",
   "execution_count": null,
   "metadata": {},
   "outputs": [],
   "source": [
    "idx = np.digitize(bheight, ht)\n",
    "print(idx.shape, ht.shape, itemp.shape)\n",
    "rtemp = itemp[idx-1]\n",
    "print(rtemp.min())"
   ]
  },
  {
   "cell_type": "markdown",
   "metadata": {},
   "source": [
    "### Plot RHI of Temperatures"
   ]
  },
  {
   "cell_type": "code",
   "execution_count": null,
   "metadata": {},
   "outputs": [],
   "source": [
    "fig = pl.figure(figsize=(10,5))\n",
    "cgax, im = wrl.vis.plot_rhi(rtemp, r=r/1000., th=el, \n",
    "                            proj='cg', cmap=cmap,\n",
    "                            ax=111, fig=fig)\n",
    "cbar = pl.colorbar(im, fraction=0.046, pad=0.1)\n",
    "cbar.set_label('Temperature [°C]')\n",
    "caax = cgax.parasites[0]\n",
    "caax.set_xlabel('Range [km]')\n",
    "caax.set_ylabel('Range [km]')\n",
    "cgax.set_ylim(0, hmax/1000)\n",
    "pl.show()"
   ]
  },
  {
   "cell_type": "markdown",
   "metadata": {},
   "source": [
    "## HMC Workflow"
   ]
  },
  {
   "cell_type": "markdown",
   "metadata": {},
   "source": [
    "### Stack Observables "
   ]
  },
  {
   "cell_type": "code",
   "execution_count": null,
   "metadata": {},
   "outputs": [],
   "source": [
    "hmca = np.vstack((data['SCAN0']['ZH']['data'][np.newaxis,...], \n",
    "                  data['SCAN0']['ZDR']['data'][np.newaxis,...], \n",
    "                  data['SCAN0']['RHOHV']['data'][np.newaxis,...], \n",
    "                  data['SCAN0']['KDP']['data'][np.newaxis,...], \n",
    "                  rtemp[np.newaxis,...]))\n",
    "print(hmca.shape)"
   ]
  },
  {
   "cell_type": "markdown",
   "metadata": {},
   "source": [
    "### Setup Independent Observable $Z_H$"
   ]
  },
  {
   "cell_type": "code",
   "execution_count": null,
   "metadata": {},
   "outputs": [],
   "source": [
    "msf_idp = msf[0, 0, :, 0]\n",
    "msf_obs = msf[..., 1:]"
   ]
  },
  {
   "cell_type": "markdown",
   "metadata": {},
   "source": [
    "### Retrieve membership function values based on independent observable"
   ]
  },
  {
   "cell_type": "code",
   "execution_count": null,
   "metadata": {},
   "outputs": [],
   "source": [
    "msf_val = wrl.classify.msf_index_indep(msf_obs, msf_idp, \n",
    "                                       hmca[0])"
   ]
  },
  {
   "cell_type": "markdown",
   "metadata": {},
   "source": [
    "### Fuzzyfication"
   ]
  },
  {
   "cell_type": "code",
   "execution_count": null,
   "metadata": {},
   "outputs": [],
   "source": [
    "fu = wrl.classify.fuzzyfi(msf_val, hmca)"
   ]
  },
  {
   "cell_type": "markdown",
   "metadata": {},
   "source": [
    "### Probability"
   ]
  },
  {
   "cell_type": "code",
   "execution_count": null,
   "metadata": {},
   "outputs": [],
   "source": [
    "# Weights\n",
    "w = np.array([2., 1., 1., 1., 1.])\n",
    "prob = wrl.classify.probability(fu, w)"
   ]
  },
  {
   "cell_type": "markdown",
   "metadata": {},
   "source": [
    "### Classification"
   ]
  },
  {
   "cell_type": "code",
   "execution_count": null,
   "metadata": {},
   "outputs": [],
   "source": [
    "hmc_idx, hmc_vals = wrl.classify.classify(prob, threshold=0.)"
   ]
  },
  {
   "cell_type": "markdown",
   "metadata": {},
   "source": [
    "## Plot HMC Results"
   ]
  },
  {
   "cell_type": "markdown",
   "metadata": {},
   "source": [
    "### Plot Probability of HMC Types"
   ]
  },
  {
   "cell_type": "code",
   "execution_count": null,
   "metadata": {},
   "outputs": [],
   "source": [
    "fig = pl.figure(figsize=(30,20))\n",
    "import matplotlib.gridspec as gridspec\n",
    "gs = gridspec.GridSpec(3, 4, wspace=0.4, hspace=0.4)\n",
    "for i, c in enumerate(prob):\n",
    "    cgax, im = wrl.vis.plot_rhi(np.ma.masked_less_equal(c, 0.),\n",
    "                                r=r/1000., th=el,\n",
    "                                proj='cg',\n",
    "                                ax=gs[i], fig=fig)\n",
    "    cbar = pl.colorbar(im, fraction=0.046, pad=0.15)\n",
    "    cbar.set_label('Probability')\n",
    "    caax = cgax.parasites[0]\n",
    "    caax.set_xlabel('Range [km]')\n",
    "    caax.set_ylabel('Range [km]')\n",
    "    t = cgax.set_title(' - '.join(pr_types[i]))\n",
    "    t.set_y(1.1) \n",
    "    cgax.set_xlim(0,40)\n",
    "    cgax.set_ylim(0,14)\n",
    "pl.show()"
   ]
  },
  {
   "cell_type": "markdown",
   "metadata": {},
   "source": [
    "### Plot maximum  probability "
   ]
  },
  {
   "cell_type": "code",
   "execution_count": null,
   "metadata": {},
   "outputs": [],
   "source": [
    "fig = pl.figure(figsize=(10, 8))\n",
    "cgax, im = wrl.vis.plot_rhi(hmc_vals[11], ax=111, \n",
    "                            proj='cg', \n",
    "                            r=r/1000., th=el,\n",
    "                            cmap='cubehelix', fig=fig)\n",
    "cbar = pl.colorbar(im, fraction=0.046, pad=0.1)\n",
    "cbar.set_label('Probability')\n",
    "caax = cgax.parasites[0]\n",
    "caax.set_xlabel('Range [km]')\n",
    "caax.set_ylabel('Range [km]')\n",
    "t = cgax.set_title('Hydrometeorclassification')\n",
    "t.set_y(1.05)\n",
    "cgax.set_xlim(0,40)\n",
    "cgax.set_ylim(0,14)\n",
    "pl.show()"
   ]
  },
  {
   "cell_type": "markdown",
   "metadata": {},
   "source": [
    "### Plot classification result"
   ]
  },
  {
   "cell_type": "code",
   "execution_count": null,
   "metadata": {},
   "outputs": [],
   "source": [
    "bounds = np.arange(-0.5, prob.shape[0] + 0.6, 1)\n",
    "ticks=np.arange(0, prob.shape[0] + 1)\n",
    "cmap = mpl.cm.get_cmap('cubehelix', len(ticks))\n",
    "norm = mpl.colors.BoundaryNorm(bounds, cmap.N)"
   ]
  },
  {
   "cell_type": "code",
   "execution_count": null,
   "metadata": {},
   "outputs": [],
   "source": [
    "fig = pl.figure(figsize=(10,8))\n",
    "cgax, im = wrl.vis.plot_rhi(hmc_idx[11], ax=111, \n",
    "                            proj={'angular_spacing': 20.,\n",
    "                                  'radial_spacing': 12.,\n",
    "                                  'latmin': 2.5}, \n",
    "                            r=r/1000., th=el,\n",
    "                            norm=norm, \n",
    "                            cmap=cmap, \n",
    "                            fig=fig)\n",
    "cbar = pl.colorbar(im, ticks=ticks, fraction=0.046, norm=norm, pad=0.1)\n",
    "cbar.set_label('Hydrometeorclass')\n",
    "caax = cgax.parasites[0]\n",
    "caax.set_xlabel('Range [km]')\n",
    "caax.set_ylabel('Range [km]')\n",
    "labels = [pr_types[i][1] for i, _ in enumerate(pr_types)]\n",
    "labels = cbar.ax.set_yticklabels(labels)\n",
    "t = cgax.set_title('Hydrometeorclassification')\n",
    "t.set_y(1.05)\n",
    "cgax.set_xlim(0,40)\n",
    "cgax.set_ylim(0,14)\n",
    "pl.show()"
   ]
  }
 ],
 "metadata": {
  "celltoolbar": "Slideshow",
  "kernelspec": {
   "display_name": "Python 3",
   "language": "python",
   "name": "python3"
  },
  "language_info": {
   "codemirror_mode": {
    "name": "ipython",
    "version": 3
   },
   "file_extension": ".py",
   "mimetype": "text/x-python",
   "name": "python",
   "nbconvert_exporter": "python",
   "pygments_lexer": "ipython3",
   "version": "3.7.3"
  },
  "livereveal": {
   "scroll": true
  }
 },
 "nbformat": 4,
 "nbformat_minor": 1
}
