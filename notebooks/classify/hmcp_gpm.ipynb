{
 "cells": [
  {
   "cell_type": "markdown",
   "id": "5ec1d58f-85a7-4589-976e-88f2c1d9ae61",
   "metadata": {
    "nbsphinx": "hidden",
    "slideshow": {
     "slide_type": "skip"
    }
   },
   "source": [
    "This notebook is part of the $\\omega radlib$ documentation: https://docs.wradlib.org.\n",
    "\n",
    "Copyright (c) $\\omega radlib$ developers.\n",
    "Distributed under the MIT License. See LICENSE.txt for more info."
   ]
  },
  {
   "cell_type": "markdown",
   "id": "f014e7fb-0c55-47f5-b84d-6cc9343c52e3",
   "metadata": {},
   "source": [
    "# Hydrometeor partitioning ratio retrievals for GPM\n",
    "\n",
    "In this notebook, GPM Dual Frequency Radar (DPR) measurements are used to derive Hydrometeor Partitioning Ratios (HPR) according to Pejcic et al 2025 (in review). This requires the measured Ku-band reflectivity, the dual-frequency ratios (Ku-band - Ka-band) and the DPR temperature and rain type information. The HPRs for the different hydrometeor classes are then presented. "
   ]
  },
  {
   "cell_type": "code",
   "execution_count": null,
   "id": "9420245f-3aa2-4d45-b7fe-cee60a2298de",
   "metadata": {},
   "outputs": [],
   "source": [
    "import wradlib as wrl\n",
    "import numpy as np\n",
    "\n",
    "import warnings\n",
    "warnings.filterwarnings(\"ignore\")\n",
    "\n",
    "import matplotlib.pyplot as plt\n",
    "try:\n",
    "    get_ipython().run_line_magic(\"matplotlib inline\")\n",
    "except:\n",
    "    plt.ion()\n",
    "    \n",
    "\n",
    "import glob\n",
    "import xarray as xr\n",
    "import scipy\n",
    "import pandas as dp\n",
    "from dask.diagnostics import ProgressBar"
   ]
  },
  {
   "cell_type": "markdown",
   "id": "9ed30392-eae6-4330-b364-60ae686b7e8d",
   "metadata": {},
   "source": [
    "## Read dual-frequency satellite observations (GPM)"
   ]
  },
  {
   "cell_type": "code",
   "execution_count": null,
   "id": "5f88f2de-b5c9-445f-92d5-6a39678c15b4",
   "metadata": {},
   "outputs": [],
   "source": [
    "path_gpm = wrl.util.get_wradlib_data_file(\n",
    "    \"gpm/2A-CS-VP-24.GPM.DPR.V9-20211125.20180625-S050710-E051028.024557.V07A.HDF5\"\n",
    ")\n",
    "# Read GPM data\n",
    "sr_data = wrl.io.open_gpm_dataset(path_gpm, group=\"FS\").chunk(nray=1)\n",
    "sr_data = sr_data.set_coords([\"Longitude\", \"Latitude\"])\n",
    "sr_data = xr.decode_cf(sr_data)"
   ]
  },
  {
   "cell_type": "markdown",
   "id": "cba14ef4-4309-4fe6-8483-9d06627110d4",
   "metadata": {},
   "source": [
    "## Plot GPM overpass"
   ]
  },
  {
   "cell_type": "code",
   "execution_count": null,
   "id": "7c8a54a0-4fd2-4436-97c5-5038a0d43dcb",
   "metadata": {},
   "outputs": [],
   "source": [
    "plt.figure(figsize=(5, 4))\n",
    "sr_data.zFactorFinalNearSurface.isel(nfreq=0).plot(\n",
    "    x=\"Longitude\",\n",
    "    y=\"Latitude\",\n",
    "    vmin=0,\n",
    "    vmax=40,\n",
    "    cmap=\"turbo\",\n",
    ")"
   ]
  },
  {
   "cell_type": "markdown",
   "id": "bd43a6f5-a6d5-40d8-9f0b-7cdb07dd5f14",
   "metadata": {},
   "source": [
    "## Assign coordinates"
   ]
  },
  {
   "cell_type": "code",
   "execution_count": null,
   "id": "174ce7a1-7196-4cd1-a8a3-5ef8cf5e3a10",
   "metadata": {},
   "outputs": [],
   "source": [
    "sr_data = sr_data.set_coords(\"height\")\n",
    "sr_data = sr_data.assign_coords(nbin=sr_data.nbin.data)\n",
    "sr_data = sr_data.assign_coords(nscan=sr_data.nscan.data)\n",
    "sr_data = sr_data.assign_coords(nray=sr_data.nray.data)"
   ]
  },
  {
   "cell_type": "markdown",
   "id": "73d4794f-021f-4d2f-92a5-29a9e61a9bd8",
   "metadata": {},
   "source": [
    "## Plot overview along track"
   ]
  },
  {
   "cell_type": "code",
   "execution_count": null,
   "id": "f2d67613-89f4-493d-ae90-b232880109c6",
   "metadata": {},
   "outputs": [],
   "source": [
    "zlvl = np.arange(10, 57.5, 2.5)\n",
    "zlvl2 = np.arange(10, 57.5, 5)\n",
    "dpr_lvl = np.array([-1, 0, 1, 2, 3, 4, 5, 6, 7, 8, 9, 10, 15, 20, 25, 30])\n",
    "\n",
    "ff = 10\n",
    "lw = 2.5\n",
    "x1, x2 = -101, -98.5\n",
    "y1, y2 = 0, 15000\n",
    "\n",
    "fig, axs = plt.subplots(1, 3, figsize=(20, 5))  # , sharey='row', sharex='col'\n",
    "\n",
    "# Ku_measured\n",
    "KU = sr_data.zFactorMeasured.sel(nfreq=0, nray=19)\n",
    "plot = KU.plot(\n",
    "    ax=axs[0],\n",
    "    x=\"Longitude\",\n",
    "    y=\"height\",\n",
    "    cmap=\"HomeyerRainbow\",\n",
    "    levels=zlvl,\n",
    "    cbar_kwargs={\"extend\": \"neither\", \"label\": \"\", \"pad\": 0.01, \"ticks\": zlvl2},\n",
    "    xlim=(x1, x2),\n",
    "    ylim=(y1, y2),\n",
    ")\n",
    "\n",
    "colorbar = plot.colorbar\n",
    "colorbar.ax.tick_params(labelsize=ff)\n",
    "\n",
    "# Ka_measured\n",
    "KA = sr_data.zFactorMeasured.sel(nfreq=1, nray=19)\n",
    "plot = KA.plot(\n",
    "    ax=axs[1],\n",
    "    x=\"Longitude\",\n",
    "    y=\"height\",\n",
    "    cmap=\"HomeyerRainbow\",\n",
    "    levels=zlvl,\n",
    "    cbar_kwargs={\"extend\": \"neither\", \"label\": \"\", \"pad\": 0.01, \"ticks\": zlvl2},\n",
    "    xlim=(x1, x2),\n",
    "    ylim=(y1, y2),\n",
    ")\n",
    "\n",
    "colorbar = plot.colorbar\n",
    "colorbar.ax.tick_params(labelsize=ff)\n",
    "\n",
    "\n",
    "# DFR_measured\n",
    "DFR = sr_data.zFactorMeasured.sel(nfreq=0, nray=19) - sr_data.zFactorMeasured.sel(\n",
    "    nfreq=1, nray=19\n",
    ")\n",
    "\n",
    "plot = DFR.plot(\n",
    "    ax=axs[2],\n",
    "    x=\"Longitude\",\n",
    "    y=\"height\",\n",
    "    cmap=\"HomeyerRainbow\",\n",
    "    levels=dpr_lvl,\n",
    "    cbar_kwargs={\"extend\": \"neither\", \"label\": \"\", \"pad\": 0.01, \"ticks\": dpr_lvl},\n",
    "    xlim=(x1, x2),\n",
    "    ylim=(y1, y2),\n",
    ")\n",
    "\n",
    "colorbar = plot.colorbar\n",
    "colorbar.ax.tick_params(labelsize=ff)\n",
    "\n",
    "T = [r\"$Z_m^{K_u}$ in dBZ\", r\"$Z_m^{K_a}$ in dBZ\", r\"$DFR_m^{K_u-K_a}$ in dB\"]\n",
    "for i in range(len(T)):\n",
    "    axs[i].set_title(\"\", fontsize=ff)\n",
    "    axs[i].set_title(T[i], fontsize=ff, loc=\"right\")\n",
    "    axs[i].set_ylabel(\"Height in m\", fontsize=ff)\n",
    "    axs[i].set_xlabel(\"Longitude in deg\", fontsize=ff)\n",
    "    axs[i].grid(ls=\":\", zorder=-100)\n",
    "    axs[i].tick_params(axis=\"both\", labelsize=ff)"
   ]
  },
  {
   "cell_type": "code",
   "execution_count": null,
   "id": "861f4601-db40-414a-bb6f-d71e7a4228dc",
   "metadata": {},
   "outputs": [],
   "source": [
    "# centroids and covariances\n",
    "cdp_file = wrl.util.get_wradlib_data_file(\"misc/hmcp_centroids_df.nc\")\n",
    "with xr.open_dataset(cdp_file) as cdp:\n",
    "    cdp\n",
    "cdp"
   ]
  },
  {
   "cell_type": "code",
   "execution_count": null,
   "id": "8c778594-b2ad-4b03-a9c8-a2ba4762cb9e",
   "metadata": {},
   "outputs": [],
   "source": [
    "# weights\n",
    "weights_file = wrl.util.get_wradlib_data_file(\"misc/hmcp_weights.nc\")\n",
    "with xr.open_dataset(weights_file) as cw:\n",
    "    display(cw)\n",
    "    pass"
   ]
  },
  {
   "cell_type": "code",
   "execution_count": null,
   "id": "01182d38-aaa2-4ad7-b544-242097cc04f4",
   "metadata": {},
   "outputs": [],
   "source": [
    "with ProgressBar():\n",
    "    obs = wrl.classify.create_gpm_observations(sr_data)\n",
    "obs"
   ]
  },
  {
   "cell_type": "code",
   "execution_count": null,
   "id": "be891465-3ac3-44cc-8462-b2d7e3bd0959",
   "metadata": {},
   "outputs": [],
   "source": [
    "%%time\n",
    "with ProgressBar():\n",
    "    hmpr = wrl.classify.calculate_hmpr(obs, cw.weights, cdp)  # .compute()\n",
    "hmpr"
   ]
  },
  {
   "cell_type": "code",
   "execution_count": null,
   "id": "8ad068e4-2d78-40e7-9dd9-1b216550a5ae",
   "metadata": {},
   "outputs": [],
   "source": [
    "hmpr = hmpr.chunk(hmc=1, nray=1)\n",
    "hmpr"
   ]
  },
  {
   "cell_type": "code",
   "execution_count": null,
   "id": "0ad9abd5-13d6-4122-9408-67eba76e1bdd",
   "metadata": {},
   "outputs": [],
   "source": [
    "with ProgressBar():\n",
    "    hmpr_sel = hmpr.sel(nray=19) * 100\n",
    "    hmpr_sel = hmpr_sel.compute()\n",
    "hmpr_sel"
   ]
  },
  {
   "cell_type": "code",
   "execution_count": null,
   "id": "e1278520-e26a-4175-b65f-7d540730d6d3",
   "metadata": {},
   "outputs": [],
   "source": [
    "hpr_bins = [0, 1, 2.5, 5, 10, 15, 20, 30, 40, 50, 60, 70, 80, 90, 95, 100]\n",
    "x1, x2 = -101, -98.5\n",
    "y1, y2 = 0, 15000\n",
    "with ProgressBar():\n",
    "    hmpr_sel.plot(\n",
    "        col=\"hmc\",\n",
    "        col_wrap=3,\n",
    "        x=\"Longitude\",\n",
    "        y=\"height\",\n",
    "        cmap=\"HomeyerRainbow\",\n",
    "        levels=hpr_bins,\n",
    "        xlim=(x1, x2),\n",
    "        ylim=(y1, y2),\n",
    "        cbar_kwargs={\"ticks\": hpr_bins},\n",
    "    )"
   ]
  }
 ],
 "metadata": {
  "language_info": {
   "codemirror_mode": {
    "name": "ipython",
    "version": 3
   },
   "file_extension": ".py",
   "mimetype": "text/x-python",
   "name": "python",
   "nbconvert_exporter": "python",
   "pygments_lexer": "ipython3",
   "version": "3.12.8"
  }
 },
 "nbformat": 4,
 "nbformat_minor": 5
}
