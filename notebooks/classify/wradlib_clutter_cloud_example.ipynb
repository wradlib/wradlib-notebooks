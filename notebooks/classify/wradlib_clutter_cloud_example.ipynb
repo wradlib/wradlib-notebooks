{
 "cells": [
  {
   "cell_type": "markdown",
   "metadata": {
    "nbsphinx": "hidden"
   },
   "source": [
    "This notebook is part of the $\\omega radlib$ documentation: https://docs.wradlib.org.\n",
    "\n",
    "Copyright (c) $\\omega radlib$ developers.\n",
    "Distributed under the MIT License. See LICENSE.txt for more info."
   ]
  },
  {
   "cell_type": "markdown",
   "metadata": {},
   "source": [
    "# Clutter detection by using space-born cloud images"
   ]
  },
  {
   "cell_type": "code",
   "execution_count": null,
   "metadata": {},
   "outputs": [],
   "source": [
    "import numpy as np\n",
    "\n",
    "import xarray as xr\n",
    "import xradar as xd\n",
    "import wradlib as wrl\n",
    "import matplotlib.pyplot as plt\n",
    "from osgeo import osr\n",
    "\n",
    "try:\n",
    "    get_ipython().run_line_magic(\"matplotlib inline\")\n",
    "except:\n",
    "    plt.ion()"
   ]
  },
  {
   "cell_type": "code",
   "execution_count": null,
   "metadata": {},
   "outputs": [],
   "source": []
  },
  {
   "cell_type": "markdown",
   "metadata": {},
   "source": [
    "### Read the radar data into DataTree"
   ]
  },
  {
   "cell_type": "code",
   "execution_count": null,
   "metadata": {},
   "outputs": [],
   "source": [
    "# read the radar volume scan\n",
    "filename = \"hdf5/20130429043000.rad.bewid.pvol.dbzh.scan1.hdf\"\n",
    "filename = wrl.util.get_wradlib_data_file(filename)\n",
    "pvol = xd.io.open_odim_datatree(filename)\n",
    "display(pvol)"
   ]
  },
  {
   "cell_type": "markdown",
   "metadata": {},
   "source": [
    "# Georeference sweeps"
   ]
  },
  {
   "cell_type": "code",
   "execution_count": null,
   "metadata": {},
   "outputs": [],
   "source": [
    "pvol = pvol.filter(lambda x: \"sweep\" in x.name)\n",
    "vol = []\n",
    "for sweep in pvol.values():\n",
    "    vol.append(sweep.ds.pipe(wrl.georef.georeference))\n",
    "vol = xr.concat(vol, dim=\"tilt\")\n",
    "vol = vol.assign_coords(sweep_mode=vol.sweep_mode)\n",
    "display(vol)"
   ]
  },
  {
   "cell_type": "markdown",
   "metadata": {},
   "source": [
    "### Construct collocated satellite data"
   ]
  },
  {
   "cell_type": "code",
   "execution_count": null,
   "metadata": {},
   "outputs": [],
   "source": [
    "proj_radar = osr.SpatialReference()\n",
    "proj_radar.ImportFromWkt(vol.spatial_ref.attrs[\"crs_wkt\"])"
   ]
  },
  {
   "cell_type": "code",
   "execution_count": null,
   "metadata": {},
   "outputs": [],
   "source": [
    "filename = \"hdf5/SAFNWC_MSG3_CT___201304290415_BEL_________.h5\"\n",
    "filename = wrl.util.get_wradlib_data_file(filename)"
   ]
  },
  {
   "cell_type": "code",
   "execution_count": null,
   "metadata": {},
   "outputs": [],
   "source": [
    "sat_gdal = wrl.io.read_safnwc(filename)\n",
    "val_sat = wrl.georef.read_gdal_values(sat_gdal)\n",
    "coord_sat = wrl.georef.read_gdal_coordinates(sat_gdal)\n",
    "proj_sat = wrl.georef.read_gdal_projection(sat_gdal)\n",
    "coord_sat = wrl.georef.reproject(coord_sat, src_crs=proj_sat, trg_crs=proj_radar)"
   ]
  },
  {
   "cell_type": "code",
   "execution_count": null,
   "metadata": {},
   "outputs": [],
   "source": [
    "coord_radar = np.stack((vol.x, vol.y), axis=-1)\n",
    "coord_sat[..., 0:2].reshape(-1, 2).shape, coord_radar[..., 0:2].reshape(-1, 2).shape"
   ]
  },
  {
   "cell_type": "code",
   "execution_count": null,
   "metadata": {},
   "outputs": [],
   "source": [
    "interp = wrl.ipol.Nearest(\n",
    "    coord_sat[..., 0:2].reshape(-1, 2), coord_radar[..., 0:2].reshape(-1, 2)\n",
    ")"
   ]
  },
  {
   "cell_type": "code",
   "execution_count": null,
   "metadata": {},
   "outputs": [],
   "source": [
    "val_sat = interp(val_sat.ravel()).reshape(coord_radar.shape[:-1])"
   ]
  },
  {
   "cell_type": "markdown",
   "metadata": {},
   "source": [
    "### Estimate localisation errors"
   ]
  },
  {
   "cell_type": "code",
   "execution_count": null,
   "metadata": {},
   "outputs": [],
   "source": [
    "timelag = 9 * 60\n",
    "wind = 10\n",
    "error = np.absolute(timelag) * wind"
   ]
  },
  {
   "cell_type": "markdown",
   "metadata": {},
   "source": [
    "### Identify clutter based on collocated cloudtype"
   ]
  },
  {
   "cell_type": "code",
   "execution_count": null,
   "metadata": {},
   "outputs": [],
   "source": [
    "rscale = vol.range.diff(\"range\").median().values\n",
    "clutter = wrl.classify.filter_cloudtype(\n",
    "    vol.DBZH, val_sat, scale=rscale, smoothing=error\n",
    ")"
   ]
  },
  {
   "cell_type": "markdown",
   "metadata": {},
   "source": [
    "### Assign to vol"
   ]
  },
  {
   "cell_type": "code",
   "execution_count": null,
   "metadata": {},
   "outputs": [],
   "source": [
    "vol = vol.assign(sat=([\"tilt\", \"azimuth\", \"range\"], val_sat))\n",
    "vol = vol.assign(clutter=([\"tilt\", \"azimuth\", \"range\"], clutter.values))\n",
    "display(vol)"
   ]
  },
  {
   "cell_type": "markdown",
   "metadata": {},
   "source": [
    "### Plot the results"
   ]
  },
  {
   "cell_type": "code",
   "execution_count": null,
   "metadata": {},
   "outputs": [],
   "source": [
    "fig = plt.figure(figsize=(16, 8))\n",
    "\n",
    "tilt = 0\n",
    "\n",
    "ax = fig.add_subplot(131)\n",
    "pm = vol.DBZH[tilt].wrl.vis.plot(ax=ax)\n",
    "plt.colorbar(pm, shrink=0.5)\n",
    "plt.title(\"Radar reflectivity\")\n",
    "\n",
    "ax = fig.add_subplot(132)\n",
    "pm = vol.sat[tilt].wrl.vis.plot(ax=ax)\n",
    "plt.colorbar(pm, shrink=0.5)\n",
    "plt.title(\"Satellite cloud classification\")\n",
    "\n",
    "ax = fig.add_subplot(133)\n",
    "pm = vol.clutter[tilt].wrl.vis.plot(ax=ax)\n",
    "plt.colorbar(pm, shrink=0.5)\n",
    "plt.title(\"Detected clutter\")"
   ]
  }
 ],
 "metadata": {
  "language_info": {
   "codemirror_mode": {
    "name": "ipython",
    "version": 3
   },
   "file_extension": ".py",
   "mimetype": "text/x-python",
   "name": "python",
   "nbconvert_exporter": "python",
   "pygments_lexer": "ipython3",
   "version": "3.11.0"
  },
  "toc": {
   "colors": {
    "hover_highlight": "#DAA520",
    "navigate_num": "#000000",
    "navigate_text": "#333333",
    "running_highlight": "#FF0000",
    "selected_highlight": "#FFD700",
    "sidebar_border": "#EEEEEE",
    "wrapper_background": "#FFFFFF"
   },
   "moveMenuLeft": true,
   "nav_menu": {
    "height": "177px",
    "width": "252px"
   },
   "navigate_menu": true,
   "number_sections": false,
   "sideBar": true,
   "threshold": 4,
   "toc_cell": false,
   "toc_section_display": "block",
   "toc_window_display": false,
   "widenNotebook": false
  }
 },
 "nbformat": 4,
 "nbformat_minor": 4
}
