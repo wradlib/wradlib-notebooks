{
 "cells": [
  {
   "cell_type": "markdown",
   "metadata": {
    "nbsphinx": "hidden"
   },
   "source": [
    "This notebook is part of the $\\omega radlib$ documentation: https://docs.wradlib.org.\n",
    "\n",
    "Copyright (c) $\\omega radlib$ developers.\n",
    "Distributed under the MIT License. See LICENSE.txt for more info."
   ]
  },
  {
   "cell_type": "markdown",
   "metadata": {},
   "source": [
    "# Heuristic clutter detection based on distribution properties (\"histo cut\")\n",
    "\n",
    "Detects areas with anomalously low or high average reflectivity or precipitation. It is recommended to use long term average or sums (months to year)."
   ]
  },
  {
   "cell_type": "code",
   "execution_count": null,
   "metadata": {},
   "outputs": [],
   "source": [
    "import wradlib as wrl\n",
    "import numpy as np\n",
    "import matplotlib.pyplot as plt\n",
    "import warnings\n",
    "\n",
    "warnings.filterwarnings(\"ignore\")\n",
    "try:\n",
    "    get_ipython().run_line_magic(\"matplotlib inline\")\n",
    "except:\n",
    "    plt.ion()"
   ]
  },
  {
   "cell_type": "markdown",
   "metadata": {},
   "source": [
    "### Load annual rainfall acummulation example (from DWD radar Feldberg)"
   ]
  },
  {
   "cell_type": "code",
   "execution_count": null,
   "metadata": {},
   "outputs": [],
   "source": [
    "filename = wrl.util.get_wradlib_data_file(\"misc/annual_rainfall_fbg.gz\")\n",
    "yearsum = np.loadtxt(filename)"
   ]
  },
  {
   "cell_type": "markdown",
   "metadata": {},
   "source": [
    "### Apply histo-cut filter to retrieve boolean array that highlights clutter as well as beam blockage\n",
    "\n",
    "Depending on your data and climate you can parameterize the upper and lower frequency percentage with the kwargs `upper_frequency`/`lower_frequency`. For European ODIM_H5 data these values have been found to be in the order of 0.05 in [EURADCLIM: The European climatological high-resolution gauge-adjusted radar precipitation dataset](https://essd.copernicus.org/preprints/essd-2022-334/). The current default is 0.01 for both values."
   ]
  },
  {
   "cell_type": "code",
   "execution_count": null,
   "metadata": {},
   "outputs": [],
   "source": [
    "mask = wrl.classify.histo_cut(yearsum)"
   ]
  },
  {
   "cell_type": "markdown",
   "metadata": {},
   "source": [
    "### Plot results"
   ]
  },
  {
   "cell_type": "code",
   "execution_count": null,
   "metadata": {},
   "outputs": [],
   "source": [
    "fig = plt.figure(figsize=(14, 14))\n",
    "ax = fig.add_subplot(221)\n",
    "yearsum = wrl.georef.create_xarray_dataarray(yearsum).wrl.georef.georeference()\n",
    "pm = np.log(yearsum).wrl.vis.plot(ax=ax)\n",
    "plt.title(\"Logarithm of annual precipitation sum\")\n",
    "plt.colorbar(pm, shrink=0.75)\n",
    "ax = fig.add_subplot(222)\n",
    "mask = wrl.georef.create_xarray_dataarray(mask).wrl.georef.georeference()\n",
    "pm = mask.wrl.vis.plot(ax=ax)\n",
    "plt.title(\"Map of execptionally low and high values\\n(clutter and beam blockage)\")\n",
    "plt.colorbar(pm, shrink=0.75)\n",
    "ax = fig.add_subplot(223)\n",
    "pm = mask.where(mask == 1).wrl.vis.plot(ax=ax)\n",
    "plt.title(\"Map of execptionally high values\\n(clutter)\")\n",
    "plt.colorbar(pm, shrink=0.75)\n",
    "ax = fig.add_subplot(224)\n",
    "pm = mask.where(mask == 2).wrl.vis.plot(ax=ax)\n",
    "plt.title(\"Map of execptionally low values\\n(beam blockage)\")\n",
    "plt.colorbar(pm, shrink=0.75)"
   ]
  }
 ],
 "metadata": {
  "language_info": {
   "codemirror_mode": {
    "name": "ipython",
    "version": 3
   },
   "file_extension": ".py",
   "mimetype": "text/x-python",
   "name": "python",
   "nbconvert_exporter": "python",
   "pygments_lexer": "ipython3",
   "version": "3.11.0"
  },
  "toc": {
   "colors": {
    "hover_highlight": "#DAA520",
    "navigate_num": "#000000",
    "navigate_text": "#333333",
    "running_highlight": "#FF0000",
    "selected_highlight": "#FFD700",
    "sidebar_border": "#EEEEEE",
    "wrapper_background": "#FFFFFF"
   },
   "moveMenuLeft": true,
   "nav_menu": {
    "height": "102px",
    "width": "252px"
   },
   "navigate_menu": true,
   "number_sections": false,
   "sideBar": true,
   "threshold": 4,
   "toc_cell": false,
   "toc_section_display": "block",
   "toc_window_display": false,
   "widenNotebook": false
  }
 },
 "nbformat": 4,
 "nbformat_minor": 4
}
