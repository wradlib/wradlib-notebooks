{
 "cells": [
  {
   "cell_type": "markdown",
   "metadata": {
    "nbsphinx": "hidden"
   },
   "source": [
    "This notebook is part of the $\\omega radlib$ documentation: https://docs.wradlib.org.\n",
    "\n",
    "Copyright (c) $\\omega radlib$ developers.\n",
    "Distributed under the MIT License. See LICENSE.txt for more info."
   ]
  },
  {
   "cell_type": "markdown",
   "metadata": {},
   "source": [
    "# RADOLAN binary data format"
   ]
  },
  {
   "cell_type": "markdown",
   "metadata": {},
   "source": [
    "The RADOLAN binary data file format is described in the RADOLAN Kompositformat. The radolan composite files consists of an ascii header containing all needed information to decode the following binary data block. $\\omega radlib$ provides [wradlib.io.read_radolan_composite()](https://docs.wradlib.org/en/latest/generated/wradlib.io.radolan.read_radolan_composite.html) to read the data.\n",
    "\n",
    "The function `wradlib.io.parse_dwd_composite_header()` takes care of correctly decoding the ascii header. All available header information is transferred into the metadata dictionary."
   ]
  },
  {
   "cell_type": "code",
   "execution_count": 1,
   "metadata": {
    "execution": {
     "iopub.execute_input": "2022-03-18T12:11:17.195812Z",
     "iopub.status.busy": "2022-03-18T12:11:17.195430Z",
     "iopub.status.idle": "2022-03-18T12:11:19.522090Z",
     "shell.execute_reply": "2022-03-18T12:11:19.521499Z"
    }
   },
   "outputs": [],
   "source": [
    "import wradlib as wrl\n",
    "import matplotlib.pyplot as pl\n",
    "import warnings\n",
    "warnings.filterwarnings('ignore')\n",
    "try:\n",
    "    get_ipython().magic(\"matplotlib inline\")\n",
    "except:\n",
    "    pl.ion()\n",
    "import numpy as np"
   ]
  },
  {
   "cell_type": "code",
   "execution_count": 2,
   "metadata": {
    "execution": {
     "iopub.execute_input": "2022-03-18T12:11:19.526375Z",
     "iopub.status.busy": "2022-03-18T12:11:19.525093Z",
     "iopub.status.idle": "2022-03-18T12:11:19.532097Z",
     "shell.execute_reply": "2022-03-18T12:11:19.531459Z"
    }
   },
   "outputs": [
    {
     "name": "stdout",
     "output_type": "stream",
     "text": [
      "RW102050100000814BY1620134VS 3SW   2.13.1PR E-01INT  60GP 900x 900MS 62<boo,ros,emd,hnr,umd,pro,ess,asd,neu,nhb,oft,tur,isn,fbg,mem> \n"
     ]
    }
   ],
   "source": [
    "# load radolan files\n",
    "rw_filename = wrl.util.get_wradlib_data_file('radolan/misc/raa01-rw_10000-1408102050-dwd---bin.gz')\n",
    "filehandle = wrl.io.get_radolan_filehandle(rw_filename)\n",
    "header = wrl.io.read_radolan_header(filehandle)\n",
    "print(header)"
   ]
  },
  {
   "cell_type": "code",
   "execution_count": 3,
   "metadata": {
    "execution": {
     "iopub.execute_input": "2022-03-18T12:11:19.536094Z",
     "iopub.status.busy": "2022-03-18T12:11:19.534936Z",
     "iopub.status.idle": "2022-03-18T12:11:19.541761Z",
     "shell.execute_reply": "2022-03-18T12:11:19.541316Z"
    }
   },
   "outputs": [
    {
     "name": "stdout",
     "output_type": "stream",
     "text": [
      "{'producttype': 'RW', 'datetime': datetime.datetime(2014, 8, 10, 20, 50), 'radarid': '10000', 'datasize': 1620000, 'maxrange': '150 km', 'radolanversion': '2.13.1', 'precision': 0.1, 'intervalseconds': 3600, 'nrow': 900, 'ncol': 900, 'radarlocations': ['boo', 'ros', 'emd', 'hnr', 'umd', 'pro', 'ess', 'asd', 'neu', 'nhb', 'oft', 'tur', 'isn', 'fbg', 'mem']}\n"
     ]
    }
   ],
   "source": [
    "attrs = wrl.io.parse_dwd_composite_header(header)\n",
    "print(attrs)"
   ]
  },
  {
   "cell_type": "markdown",
   "metadata": {},
   "source": [
    "In the following example, the header information of four different composites is extracted."
   ]
  },
  {
   "cell_type": "code",
   "execution_count": 4,
   "metadata": {
    "execution": {
     "iopub.execute_input": "2022-03-18T12:11:19.545717Z",
     "iopub.status.busy": "2022-03-18T12:11:19.544757Z",
     "iopub.status.idle": "2022-03-18T12:11:19.654351Z",
     "shell.execute_reply": "2022-03-18T12:11:19.653836Z"
    }
   },
   "outputs": [
    {
     "name": "stdout",
     "output_type": "stream",
     "text": [
      "RX Attributes:\n",
      "producttype: RX\n",
      "datetime: 2014-08-10 20:50:00\n",
      "radarid: 10000\n",
      "datasize: 810000\n",
      "maxrange: 150 km\n",
      "radolanversion: 2.13.1\n",
      "precision: 1.0\n",
      "intervalseconds: 300\n",
      "nrow: 900\n",
      "ncol: 900\n",
      "radarlocations: ['boo', 'ros', 'emd', 'hnr', 'umd', 'pro', 'ess', 'asd', 'neu', 'nhb', 'oft', 'tur', 'isn', 'fbg', 'mem', 'bdy']\n",
      "nodataflag: -9999\n",
      "nodatamask: [     0      1      2 ... 809997 809998 809999]\n",
      "cluttermask: []\n",
      "----------------------------------------------------------------\n",
      "EX Attributes:\n",
      "producttype: EX\n",
      "datetime: 2014-08-10 20:50:00\n",
      "radarid: 10000\n",
      "datasize: 2100000\n",
      "maxrange: 128 km\n",
      "radolanversion: 2.13.1\n",
      "precision: 1.0\n",
      "intervalseconds: 300\n",
      "nrow: 1500\n",
      "ncol: 1400\n",
      "radarlocations: ['sin', 'rom', 'vir', 'bor', 'nld', 'zav', 'wid', 'sui', 'abv', 'ave', 'tra', 'arc', 'ncy', 'bgs', 'bla', 'sly', 'sem', 'boo', 'ros', 'emd', 'hnr', 'umd', 'pro', 'ess', 'asd', 'neu', 'nhb', 'oft', 'tur', 'isn', 'fbg', 'mem', 'bdy', 'ska']\n",
      "nodataflag: -9999\n",
      "nodatamask: [    743     744     745 ... 2099997 2099998 2099999]\n",
      "cluttermask: []\n",
      "----------------------------------------------------------------\n",
      "RW Attributes:\n",
      "producttype: RW\n",
      "datetime: 2014-08-10 20:50:00\n",
      "radarid: 10000\n",
      "datasize: 1620000\n",
      "maxrange: 150 km\n",
      "radolanversion: 2.13.1\n",
      "precision: 0.1\n",
      "intervalseconds: 3600\n",
      "nrow: 900\n",
      "ncol: 900\n",
      "radarlocations: ['boo', 'ros', 'emd', 'hnr', 'umd', 'pro', 'ess', 'asd', 'neu', 'nhb', 'oft', 'tur', 'isn', 'fbg', 'mem']\n",
      "nodataflag: -9999\n",
      "secondary: [   799    800    801 ... 806263 806264 807163]\n",
      "nodatamask: [     0      1      2 ... 809997 809998 809999]\n",
      "cluttermask: []\n",
      "----------------------------------------------------------------\n",
      "SF Attributes:\n",
      "producttype: SF\n",
      "datetime: 2014-08-10 20:50:00\n",
      "radarid: 10000\n",
      "datasize: 1620000\n",
      "maxrange: 150 km\n",
      "radolanversion: 2.13.1\n",
      "precision: 0.1\n",
      "intervalseconds: 86400\n",
      "nrow: 900\n",
      "ncol: 900\n",
      "radarlocations: ['boo', 'ros', 'emd', 'hnr', 'umd', 'pro', 'ess', 'asd', 'neu', 'nhb', 'oft', 'tur', 'isn', 'fbg', 'mem']\n",
      "radardays: ['asd 24', 'boo 24', 'emd 24', 'ess 24', 'fbg 24', 'hnr 24', 'isn 24', 'mem 24', 'neu 24', 'nhb 24', 'oft 24', 'pro 24', 'ros 24', 'tur 24', 'umd 24']\n",
      "nodataflag: -9999\n",
      "secondary: [   188    189    190 ... 809566 809567 809568]\n",
      "nodatamask: [     0      1      2 ... 809997 809998 809999]\n",
      "cluttermask: []\n",
      "----------------------------------------------------------------\n"
     ]
    }
   ],
   "source": [
    "# load radolan file\n",
    "filename = 'radolan/showcase/raa01-rx_10000-1408102050-dwd---bin.gz'\n",
    "rx_filename = wrl.util.get_wradlib_data_file(filename)\n",
    "filename = 'radolan/showcase/raa01-ex_10000-1408102050-dwd---bin.gz'\n",
    "ex_filename = wrl.util.get_wradlib_data_file(filename)\n",
    "filename = 'radolan/showcase/raa01-rw_10000-1408102050-dwd---bin.gz'\n",
    "rw_filename = wrl.util.get_wradlib_data_file(filename)\n",
    "filename = 'radolan/showcase/raa01-sf_10000-1408102050-dwd---bin.gz'\n",
    "sf_filename = wrl.util.get_wradlib_data_file(filename)\n",
    "\n",
    "rxdata, rxattrs = wrl.io.read_radolan_composite(rx_filename)\n",
    "exdata, exattrs = wrl.io.read_radolan_composite(ex_filename)\n",
    "rwdata, rwattrs = wrl.io.read_radolan_composite(rw_filename)\n",
    "sfdata, sfattrs = wrl.io.read_radolan_composite(sf_filename)\n",
    "\n",
    "# print the available attributes\n",
    "print(\"RX Attributes:\")\n",
    "for key, value in rxattrs.items():\n",
    "    print(key + ':', value)\n",
    "print(\"----------------------------------------------------------------\")\n",
    "# print the available attributes\n",
    "print(\"EX Attributes:\")\n",
    "for key, value in exattrs.items():\n",
    "    print(key + ':', value)\n",
    "print(\"----------------------------------------------------------------\")\n",
    "\n",
    "# print the available attributes\n",
    "print(\"RW Attributes:\")\n",
    "for key, value in rwattrs.items():\n",
    "    print(key + ':', value)\n",
    "print(\"----------------------------------------------------------------\")\n",
    "\n",
    "# print the available attributes\n",
    "print(\"SF Attributes:\")\n",
    "for key, value in sfattrs.items():\n",
    "    print(key + ':', value)\n",
    "print(\"----------------------------------------------------------------\")"
   ]
  }
 ],
 "metadata": {
  "celltoolbar": "Edit Metadata",
  "language_info": {
   "codemirror_mode": {
    "name": "ipython",
    "version": 3
   },
   "file_extension": ".py",
   "mimetype": "text/x-python",
   "name": "python",
   "nbconvert_exporter": "python",
   "pygments_lexer": "ipython3",
   "version": "3.10.2"
  },
  "toc": {
   "colors": {
    "hover_highlight": "#DAA520",
    "navigate_num": "#000000",
    "navigate_text": "#333333",
    "running_highlight": "#FF0000",
    "selected_highlight": "#FFD700",
    "sidebar_border": "#EEEEEE",
    "wrapper_background": "#FFFFFF"
   },
   "moveMenuLeft": true,
   "nav_menu": {
    "height": "31px",
    "width": "252px"
   },
   "navigate_menu": true,
   "number_sections": false,
   "sideBar": true,
   "threshold": 4,
   "toc_cell": false,
   "toc_section_display": "block",
   "toc_window_display": false,
   "widenNotebook": false
  }
 },
 "nbformat": 4,
 "nbformat_minor": 1
}
