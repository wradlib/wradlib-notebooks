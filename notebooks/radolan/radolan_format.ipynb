{
 "cells": [
  {
   "cell_type": "markdown",
   "metadata": {
    "nbsphinx": "hidden"
   },
   "source": [
    "This notebook is part of the $\\omega radlib$ documentation: https://docs.wradlib.org.\n",
    "\n",
    "Copyright (c) $\\omega radlib$ developers.\n",
    "Distributed under the MIT License. See LICENSE.txt for more info."
   ]
  },
  {
   "cell_type": "markdown",
   "metadata": {},
   "source": [
    "# RADOLAN binary data format"
   ]
  },
  {
   "cell_type": "markdown",
   "metadata": {},
   "source": [
    "The RADOLAN binary data file format is described in the RADOLAN Kompositformat. The radolan composite files consists of an ascii header containing all needed information to decode the following binary data block. $\\omega radlib$ provides [wradlib.io.read_radolan_composite()](https://docs.wradlib.org/en/latest/generated/wradlib.io.radolan.read_radolan_composite.html) to read the data.\n",
    "\n",
    "The function `wradlib.io.parse_dwd_composite_header()` takes care of correctly decoding the ascii header. All available header information is transferred into the metadata dictionary."
   ]
  },
  {
   "cell_type": "code",
   "execution_count": null,
   "metadata": {},
   "outputs": [],
   "source": [
    "import wradlib as wrl\n",
    "import matplotlib.pyplot as pl\n",
    "import warnings\n",
    "warnings.filterwarnings('ignore')\n",
    "try:\n",
    "    get_ipython().magic(\"matplotlib inline\")\n",
    "except:\n",
    "    pl.ion()\n",
    "import numpy as np"
   ]
  },
  {
   "cell_type": "code",
   "execution_count": null,
   "metadata": {},
   "outputs": [],
   "source": [
    "# load radolan files\n",
    "rw_filename = wrl.util.get_wradlib_data_file('radolan/misc/raa01-rw_10000-1408102050-dwd---bin.gz')\n",
    "filehandle = wrl.io.get_radolan_filehandle(rw_filename)\n",
    "header = wrl.io.read_radolan_header(filehandle)\n",
    "print(header)"
   ]
  },
  {
   "cell_type": "code",
   "execution_count": null,
   "metadata": {},
   "outputs": [],
   "source": [
    "attrs = wrl.io.parse_dwd_composite_header(header)\n",
    "print(attrs)"
   ]
  },
  {
   "cell_type": "markdown",
   "metadata": {},
   "source": [
    "In the following example, the header information of four different composites is extracted."
   ]
  },
  {
   "cell_type": "code",
   "execution_count": null,
   "metadata": {},
   "outputs": [],
   "source": [
    "# load radolan file\n",
    "filename = 'radolan/showcase/raa01-rx_10000-1408102050-dwd---bin.gz'\n",
    "rx_filename = wrl.util.get_wradlib_data_file(filename)\n",
    "filename = 'radolan/showcase/raa01-ex_10000-1408102050-dwd---bin.gz'\n",
    "ex_filename = wrl.util.get_wradlib_data_file(filename)\n",
    "filename = 'radolan/showcase/raa01-rw_10000-1408102050-dwd---bin.gz'\n",
    "rw_filename = wrl.util.get_wradlib_data_file(filename)\n",
    "filename = 'radolan/showcase/raa01-sf_10000-1408102050-dwd---bin.gz'\n",
    "sf_filename = wrl.util.get_wradlib_data_file(filename)\n",
    "\n",
    "rxdata, rxattrs = wrl.io.read_radolan_composite(rx_filename)\n",
    "exdata, exattrs = wrl.io.read_radolan_composite(ex_filename)\n",
    "rwdata, rwattrs = wrl.io.read_radolan_composite(rw_filename)\n",
    "sfdata, sfattrs = wrl.io.read_radolan_composite(sf_filename)\n",
    "\n",
    "# print the available attributes\n",
    "print(\"RX Attributes:\")\n",
    "for key, value in rxattrs.items():\n",
    "    print(key + ':', value)\n",
    "print(\"----------------------------------------------------------------\")\n",
    "# print the available attributes\n",
    "print(\"EX Attributes:\")\n",
    "for key, value in exattrs.items():\n",
    "    print(key + ':', value)\n",
    "print(\"----------------------------------------------------------------\")\n",
    "\n",
    "# print the available attributes\n",
    "print(\"RW Attributes:\")\n",
    "for key, value in rwattrs.items():\n",
    "    print(key + ':', value)\n",
    "print(\"----------------------------------------------------------------\")\n",
    "\n",
    "# print the available attributes\n",
    "print(\"SF Attributes:\")\n",
    "for key, value in sfattrs.items():\n",
    "    print(key + ':', value)\n",
    "print(\"----------------------------------------------------------------\")"
   ]
  }
 ],
 "metadata": {
  "celltoolbar": "Edit Metadata",
  "kernelspec": {
   "display_name": "Python 3",
   "language": "python",
   "name": "python3"
  },
  "language_info": {
   "codemirror_mode": {
    "name": "ipython",
    "version": 3
   },
   "file_extension": ".py",
   "mimetype": "text/x-python",
   "name": "python",
   "nbconvert_exporter": "python",
   "pygments_lexer": "ipython3",
   "version": "3.7.1"
  },
  "toc": {
   "colors": {
    "hover_highlight": "#DAA520",
    "navigate_num": "#000000",
    "navigate_text": "#333333",
    "running_highlight": "#FF0000",
    "selected_highlight": "#FFD700",
    "sidebar_border": "#EEEEEE",
    "wrapper_background": "#FFFFFF"
   },
   "moveMenuLeft": true,
   "nav_menu": {
    "height": "31px",
    "width": "252px"
   },
   "navigate_menu": true,
   "number_sections": false,
   "sideBar": true,
   "threshold": 4,
   "toc_cell": false,
   "toc_section_display": "block",
   "toc_window_display": false,
   "widenNotebook": false
  }
 },
 "nbformat": 4,
 "nbformat_minor": 1
}
